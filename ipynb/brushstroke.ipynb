{
 "cells": [
  {
   "cell_type": "code",
   "execution_count": 67,
   "metadata": {
    "collapsed": false
   },
   "outputs": [],
   "source": [
    "%matplotlib inline\n",
    "import sys, os\n",
    "sys.path.append(os.getcwd()+\"/..\")\n",
    "from tools.system.imgtovideo import imgs_to_video\n",
    "from data import load_data\n",
    "import matplotlib.pyplot as plt\n",
    "import numpy as np\n",
    "import theano\n",
    "import theano.tensor as T\n",
    "from lasagne import layers as L\n",
    "from lasagnekit.misc.plot_weights import dispims_color, tile_raster_images\n",
    "import pandas as pd\n",
    "\n",
    "from tqdm import tqdm\n",
    "import base64\n",
    "import json\n",
    "\n",
    "from skimage.io import imread, imsave\n",
    "from skimage.transform import resize\n",
    "\n",
    "from IPython.display import HTML, Image\n",
    "\n",
    "\n",
    "from tools.brushstroke.common import (\n",
    "    resize_set, load_model, get_bias, \n",
    "    get_scale, build_brush_func,\n",
    "    build_encode_func,\n",
    "    build_image_to_code_func,\n",
    "    build_code_to_image,\n",
    "    to_grid_of_images,\n",
    "    seq_to_video,\n",
    "    embed_video,\n",
    "    disp_grid,\n",
    "    prop_uniques,\n",
    "    hash_array,\n",
    "    normalize,\n",
    "    sigmoid,\n",
    "    build_pointer_images)\n",
    "\n",
    "from functools import partial\n",
    "\n",
    "def accumulate(X, fn):\n",
    "    for t in range(1, X.shape[1]):\n",
    "        X[:, t] = fn(X[:, t], X[:, t - 1])\n",
    "    return X\n",
    "\n",
    "def mask_op(new, prev, eps=0.1):\n",
    "    img1 = prev\n",
    "    img2 = new\n",
    "    a2 = 1 - (np.abs(img2[:,0])<eps) * (np.abs(img2[:,1])<eps) * (np.abs(img2[:,2])<eps)   \n",
    "    a2=a2[:,None, :, :]\n",
    "    img = img1 * (1 - a2) + img2 * a2\n",
    "    return img\n",
    "\n",
    "def smooth_mask_op(new, prev):\n",
    "    img1 = prev\n",
    "    img2 = new\n",
    "    a2 = new.mean(axis=1, keepdims=True)\n",
    "    img = img1 * (1 - a2) + img2 * a2\n",
    "    return img\n",
    "\n",
    "def softmax(x):\n",
    "    x = np.exp(x)\n",
    "    return x / x.sum(axis=1, keepdims=True)\n",
    "\n",
    "def sparse_softmax(x):\n",
    "    m = np.max(x, axis=1, keepdims=True)\n",
    "    return softmax(x) * (x==m)\n",
    "\n",
    "def softmax_t(x):\n",
    "    return softmax(x*100)\n",
    "\n",
    "from utils.sparsemax_theano import sparsemax as sparsemax_theano\n",
    "m = T.matrix()\n",
    "sparsemax = theano.function([m], sparsemax_theano(m))"
   ]
  },
  {
   "cell_type": "markdown",
   "metadata": {},
   "source": [
    "## Load model and build functions"
   ]
  },
  {
   "cell_type": "code",
   "execution_count": null,
   "metadata": {
    "collapsed": false
   },
   "outputs": [
    {
     "name": "stdout",
     "output_type": "stream",
     "text": [
      "Loading data...\n"
     ]
    },
    {
     "name": "stderr",
     "output_type": "stream",
     "text": [
      "INFO:tasks:Loading data...\n"
     ]
    },
    {
     "name": "stdout",
     "output_type": "stream",
     "text": [
      "(1000, 256, 256)\n"
     ]
    }
   ],
   "source": [
    "model, data, layers = load_model(\"../jobs/results/6471bc3ec1596e46ee3e89537b923782/model.pkl\")\n",
    "w, h = layers['output'].output_shape[2:]\n",
    "print(json.dumps(model.hypers['model_params'], indent=2))"
   ]
  },
  {
   "cell_type": "code",
   "execution_count": 50,
   "metadata": {
    "collapsed": false
   },
   "outputs": [],
   "source": [
    "nb_parallel = model.hypers['model_params'].get('parallel', 1)\n",
    "coord_layers = [l for l in layers.keys() if 'coord' in l]\n",
    "brush_layers = [l for l in layers.keys() if 'brush' in l]\n",
    "coord = coord_layers[0]\n",
    "brush = brush_layers[0]\n",
    "X = T.tensor4()\n",
    "C = T.tensor3()    \n",
    "get_brushes = theano.function(\n",
    "    [X], \n",
    "    L.get_output(layers[brush], X))\n",
    "encoders = []\n",
    "for c in coord_layers:\n",
    "    encoder = build_encode_func(layers, lay=c)\n",
    "    encoders.append(encoder)\n",
    "get_reprs = []\n",
    "for c in coord_layers:\n",
    "    get_reprs.append(theano.function([X], L.get_output(layers[c], X)))\n",
    "get_repr = theano.function([X], L.get_output(layers[coord], X))\n",
    "get_brush = build_brush_func(\n",
    "    layers, \n",
    "    lay=brush_layers,\n",
    "    nonlin=lambda x:x) # transforms an image to sequence of imagess\n",
    "reconstruct = model.reconstruct # reconstructs an image\n",
    "\n",
    "if 'scaled_output' in layers:\n",
    "    scale = get_scale(layers)\n",
    "else:\n",
    "    scale = np.array([1])\n",
    "if 'biased_output' in layers:\n",
    "    bias = get_bias(layers)\n",
    "else:\n",
    "    bias = np.array([0])"
   ]
  },
  {
   "cell_type": "code",
   "execution_count": 51,
   "metadata": {
    "collapsed": true
   },
   "outputs": [],
   "source": [
    "get_brush = build_brush_func(\n",
    "    layers, \n",
    "    lay=brush_layers,\n",
    "    nonlin=lambda x:x)"
   ]
  },
  {
   "cell_type": "code",
   "execution_count": 52,
   "metadata": {
    "collapsed": false
   },
   "outputs": [],
   "source": [
    "img2code = build_image_to_code_func(layers, lay=tuple(coord_layers))\n",
    "tensors = tuple([T.tensor3() for _ in range(len(coord_layers))])\n",
    "code2img = build_code_to_image(layers, X=tensors, lay=tuple(coord_layers))"
   ]
  },
  {
   "cell_type": "code",
   "execution_count": 53,
   "metadata": {
    "collapsed": false
   },
   "outputs": [],
   "source": [
    "if 'biased_resid_output' in layers:\n",
    "    X = T.tensor4()\n",
    "    get_resid = theano.function([X], L.get_output(layers['biased_resid_output'], X))\n",
    "    get_out = theano.function([X], L.get_output(layers['biased_output'], X))\n",
    "    get_raw_out = theano.function([X], L.get_output(layers['raw_output'], X))\n",
    "    get_out_from_raw_out = theano.function([X], L.get_output(layers['output'], {layers['raw_output']:X}))"
   ]
  },
  {
   "cell_type": "code",
   "execution_count": 55,
   "metadata": {
    "collapsed": false
   },
   "outputs": [],
   "source": [
    "data.load()\n",
    "X = model.preprocess(data.X[0:10*10])"
   ]
  },
  {
   "cell_type": "code",
   "execution_count": 56,
   "metadata": {
    "collapsed": false
   },
   "outputs": [],
   "source": [
    "np.set_printoptions(formatter={'float': lambda x:'{:.4f}'.format(x)})"
   ]
  },
  {
   "cell_type": "code",
   "execution_count": 57,
   "metadata": {
    "collapsed": false
   },
   "outputs": [
    {
     "name": "stdout",
     "output_type": "stream",
     "text": [
      "(30, 30, 8, 3)\n"
     ]
    },
    {
     "data": {
      "image/png": "[encoded data removed]",
      "text/plain": [
       "<IPython.core.display.Image object>"
      ]
     },
     "execution_count": 57,
     "metadata": {
      "image/png": {
       "height": 400,
       "width": 400
      }
     },
     "output_type": "execute_result"
    }
   ],
   "source": [
    "real_colors = [\n",
    "    [1, 0, 0],\n",
    "    [0, 1, 0],\n",
    "    [0, 0, 1],\n",
    "    [1, 1 ,0],\n",
    "    [0, 1, 1],\n",
    "    [1, 0, 1],\n",
    "    [1, 1, 1],\n",
    "    [0, 0, 0]\n",
    "]\n",
    "real_colors = np.array(real_colors, dtype='float32')\n",
    "\n",
    "img = real_colors[np.newaxis, np.newaxis, :, :] * np.ones((30, 30, 1, 3))\n",
    "print(img.shape)\n",
    "img = img.transpose((2, 3, 0, 1))\n",
    "img = disp_grid(img, normalize=False, border=1, bordercolor=(0.3,0,0))\n",
    "imsave('imgs/colors.png', img)\n",
    "Image('imgs/colors.png', width=400, height=400)"
   ]
  },
  {
   "cell_type": "code",
   "execution_count": 58,
   "metadata": {
    "collapsed": false
   },
   "outputs": [
    {
     "data": {
      "image/png": "[encoded data removed]",
      "text/plain": [
       "<IPython.core.display.Image object>"
      ]
     },
     "execution_count": 58,
     "metadata": {
      "image/png": {
       "height": 200,
       "width": 200
      }
     },
     "output_type": "execute_result"
    }
   ],
   "source": [
    "n_steps = model.hypers['model_params']['n_steps']\n",
    "code = np.zeros((len(layers['brush'].colors_.get_value()), n_steps, layers['coord'].output_shape[2]  ))\n",
    "code = code.astype(np.float32)\n",
    "code[:, :, 0] = 0\n",
    "code[:, :, 1] = 0\n",
    "code[:, :, 3] = 1000\n",
    "code[:, :, 5] = 1000\n",
    "C = np.arange(len(code))\n",
    "code[C, :, C+6] = 100\n",
    "img = code2img(code)\n",
    "img = disp_grid(img, normalize=False, border=1, bordercolor=(0.3,0,0))\n",
    "img = np.clip(img, 0, 1)\n",
    "imsave('imgs/colors.png', img)\n",
    "Image('imgs/colors.png', width=200, height=200)"
   ]
  },
  {
   "cell_type": "code",
   "execution_count": 74,
   "metadata": {
    "collapsed": false
   },
   "outputs": [
    {
     "name": "stdout",
     "output_type": "stream",
     "text": [
      "(-1.5306827, 2.7003798)\n"
     ]
    },
    {
     "data": {
      "image/png": "[encoded data removed]",
      "text/plain": [
       "<IPython.core.display.Image object>"
      ]
     },
     "execution_count": 74,
     "metadata": {
      "image/png": {
       "height": 400,
       "width": 400
      }
     },
     "output_type": "execute_result"
    }
   ],
   "source": [
    "img = (  (layers['brush'].colors_.get_value()) * scale.flatten() + bias.flatten())\n",
    "print(img.min(), img.max())\n",
    "img = np.clip(img, 0, 1)\n",
    "img = img[:, :, None, None] * np.ones((1, 3, 30, 30))\n",
    "img = disp_grid(img, normalize=False, border=1, bordercolor=(0.3, 0, 0))\n",
    "imsave('imgs/colors.png', img)\n",
    "Image('imgs/colors.png', width=400, height=400)"
   ]
  },
  {
   "cell_type": "markdown",
   "metadata": {},
   "source": [
    "## Analyze"
   ]
  },
  {
   "cell_type": "code",
   "execution_count": 60,
   "metadata": {
    "collapsed": false
   },
   "outputs": [
    {
     "data": {
      "text/plain": [
       "{'color': (6, 14), 'gx': 0, 'gy': 1, 'x_stride': (2, 4), 'y_stride': (4, 6)}"
      ]
     },
     "execution_count": 60,
     "metadata": {},
     "output_type": "execute_result"
    }
   ],
   "source": [
    "layers['brush'].assign_"
   ]
  },
  {
   "cell_type": "code",
   "execution_count": 61,
   "metadata": {
    "collapsed": false
   },
   "outputs": [],
   "source": [
    "codes = img2code(X)\n",
    "r = codes[0]"
   ]
  },
  {
   "cell_type": "code",
   "execution_count": 62,
   "metadata": {
    "collapsed": false
   },
   "outputs": [
    {
     "data": {
      "text/plain": [
       "<matplotlib.image.AxesImage at 0x7f2111e1a9d0>"
      ]
     },
     "execution_count": 62,
     "metadata": {},
     "output_type": "execute_result"
    },
    {
     "data": {
      "image/png": "[encoded data removed]",
      "text/plain": [
       "<matplotlib.figure.Figure at 0x7f21228a6550>"
      ]
     },
     "metadata": {},
     "output_type": "display_data"
    }
   ],
   "source": [
    "r1 = softmax(r[:, 0, 6:14])\n",
    "r1/=r1.max(axis=1, keepdims=True)\n",
    "r2 = softmax(r[:, 1, 6:14])\n",
    "r2/=r2.max(axis=1, keepdims=True)\n",
    "zero = np.zeros((r1.shape[0], 10))\n",
    "s = np.hstack((r1, zero, r2))\n",
    "fig = plt.figure(figsize=(20, 20))\n",
    "plt.imshow(s, cmap='viridis', interpolation='none')"
   ]
  },
  {
   "cell_type": "code",
   "execution_count": 72,
   "metadata": {
    "collapsed": false
   },
   "outputs": [
    {
     "name": "stdout",
     "output_type": "stream",
     "text": [
      "[[0.6635 0.0000 0.0000 0.0000 0.0000 0.0000 0.0000 0.0000]\n",
      " [0.0000 0.0000 0.0000 0.0000 0.6791 0.0000 0.0000 0.0000]\n",
      " [0.0000 0.0000 0.0000 0.6286 0.0000 0.0000 0.0000 0.0000]\n",
      " [0.0000 0.0000 0.0000 0.0000 0.0000 0.7106 0.0000 0.0000]\n",
      " [0.6722 0.0000 0.0000 0.0000 0.0000 0.0000 0.0000 0.0000]\n",
      " [0.0000 0.7482 0.0000 0.0000 0.0000 0.0000 0.0000 0.0000]\n",
      " [0.6622 0.0000 0.0000 0.0000 0.0000 0.0000 0.0000 0.0000]\n",
      " [0.0000 0.8807 0.0000 0.0000 0.0000 0.0000 0.0000 0.0000]\n",
      " [0.6687 0.0000 0.0000 0.0000 0.0000 0.0000 0.0000 0.0000]\n",
      " [0.0000 0.8208 0.0000 0.0000 0.0000 0.0000 0.0000 0.0000]\n",
      " [0.0000 0.0000 0.0000 0.0000 0.0000 0.0000 0.6162 0.0000]\n",
      " [0.0000 0.0000 0.0000 0.0000 0.6912 0.0000 0.0000 0.0000]\n",
      " [0.6687 0.0000 0.0000 0.0000 0.0000 0.0000 0.0000 0.0000]\n",
      " [0.0000 0.0000 0.0000 0.0000 0.0000 0.0000 0.6123 0.0000]\n",
      " [0.0000 0.0000 0.0000 0.6312 0.0000 0.0000 0.0000 0.0000]\n",
      " [0.6646 0.0000 0.0000 0.0000 0.0000 0.0000 0.0000 0.0000]\n",
      " [0.0000 0.4525 0.0000 0.0000 0.0000 0.0000 0.0000 0.0000]\n",
      " [0.0000 0.0000 0.0000 0.0000 0.0000 0.9241 0.0000 0.0000]\n",
      " [0.0000 0.0000 0.0000 0.0000 0.0000 0.8900 0.0000 0.0000]\n",
      " [0.0000 0.0000 0.0000 0.0000 0.0000 0.9375 0.0000 0.0000]\n",
      " [0.0000 0.7744 0.0000 0.0000 0.0000 0.0000 0.0000 0.0000]\n",
      " [0.0000 0.0000 0.0000 0.0000 0.0000 0.9565 0.0000 0.0000]\n",
      " [0.0000 0.0000 0.0000 0.9167 0.0000 0.0000 0.0000 0.0000]\n",
      " [0.6670 0.0000 0.0000 0.0000 0.0000 0.0000 0.0000 0.0000]\n",
      " [0.0000 0.6620 0.0000 0.0000 0.0000 0.0000 0.0000 0.0000]\n",
      " [0.0000 0.0000 0.0000 0.0000 0.0000 0.8493 0.0000 0.0000]\n",
      " [0.0000 0.5834 0.0000 0.0000 0.0000 0.0000 0.0000 0.0000]\n",
      " [0.0000 0.0000 0.0000 0.0000 0.0000 0.0000 0.6281 0.0000]\n",
      " [0.0000 0.0000 0.0000 0.0000 0.6783 0.0000 0.0000 0.0000]\n",
      " [0.6650 0.0000 0.0000 0.0000 0.0000 0.0000 0.0000 0.0000]\n",
      " [0.0000 0.0000 0.0000 0.0000 0.0000 0.7660 0.0000 0.0000]\n",
      " [0.0000 0.0000 0.0000 0.6115 0.0000 0.0000 0.0000 0.0000]\n",
      " [0.6725 0.0000 0.0000 0.0000 0.0000 0.0000 0.0000 0.0000]\n",
      " [0.0000 0.0000 0.0000 0.0000 0.6745 0.0000 0.0000 0.0000]\n",
      " [0.0000 0.0000 0.0000 0.0000 0.6768 0.0000 0.0000 0.0000]\n",
      " [0.0000 0.6148 0.0000 0.0000 0.0000 0.0000 0.0000 0.0000]\n",
      " [0.0000 0.6148 0.0000 0.0000 0.0000 0.0000 0.0000 0.0000]\n",
      " [0.0000 0.3437 0.0000 0.0000 0.0000 0.0000 0.0000 0.0000]\n",
      " [0.6646 0.0000 0.0000 0.0000 0.0000 0.0000 0.0000 0.0000]\n",
      " [0.0000 0.6916 0.0000 0.0000 0.0000 0.0000 0.0000 0.0000]\n",
      " [0.0000 0.7205 0.0000 0.0000 0.0000 0.0000 0.0000 0.0000]\n",
      " [0.0000 0.0000 0.0000 0.0000 0.9492 0.0000 0.0000 0.0000]\n",
      " [0.0000 0.0000 0.0000 0.0000 0.0000 0.0000 0.6428 0.0000]\n",
      " [0.0000 0.0000 0.0000 0.0000 0.0000 0.8643 0.0000 0.0000]\n",
      " [0.0000 0.0000 0.0000 0.6130 0.0000 0.0000 0.0000 0.0000]\n",
      " [0.0000 0.5138 0.0000 0.0000 0.0000 0.0000 0.0000 0.0000]\n",
      " [0.0000 0.0000 0.0000 0.0000 0.0000 0.0000 0.5987 0.0000]\n",
      " [0.0000 0.0000 0.0000 0.6130 0.0000 0.0000 0.0000 0.0000]\n",
      " [0.0000 0.0000 0.0000 0.0000 0.0000 0.9014 0.0000 0.0000]\n",
      " [0.0000 0.8040 0.0000 0.0000 0.0000 0.0000 0.0000 0.0000]\n",
      " [0.6668 0.0000 0.0000 0.0000 0.0000 0.0000 0.0000 0.0000]\n",
      " [0.0000 0.0000 0.0000 0.0000 0.9753 0.0000 0.0000 0.0000]\n",
      " [0.0000 0.6250 0.0000 0.0000 0.0000 0.0000 0.0000 0.0000]\n",
      " [0.6683 0.0000 0.0000 0.0000 0.0000 0.0000 0.0000 0.0000]\n",
      " [0.0000 0.0000 0.0000 0.0000 0.0000 0.8421 0.0000 0.0000]\n",
      " [0.0000 0.0000 0.0000 0.6320 0.0000 0.0000 0.0000 0.0000]\n",
      " [0.0000 0.0000 0.0000 0.0000 0.6835 0.0000 0.0000 0.0000]\n",
      " [0.0000 0.0000 0.0000 0.6245 0.0000 0.0000 0.0000 0.0000]\n",
      " [0.0000 0.8054 0.0000 0.0000 0.0000 0.0000 0.0000 0.0000]\n",
      " [0.0000 0.0000 0.0000 0.0000 0.0000 0.9027 0.0000 0.0000]\n",
      " [0.6687 0.0000 0.0000 0.0000 0.0000 0.0000 0.0000 0.0000]\n",
      " [0.0000 0.0000 0.0000 0.0000 0.0000 0.0000 0.6340 0.0000]\n",
      " [0.0000 0.0000 0.0000 0.0000 0.0000 0.8493 0.0000 0.0000]\n",
      " [0.0000 0.0000 0.0000 0.0000 0.6719 0.0000 0.0000 0.0000]\n",
      " [0.0000 0.0000 0.0000 0.0000 0.0000 0.8663 0.0000 0.0000]\n",
      " [0.0000 0.6077 0.0000 0.0000 0.0000 0.0000 0.0000 0.0000]\n",
      " [0.0000 0.6323 0.0000 0.0000 0.0000 0.0000 0.0000 0.0000]\n",
      " [0.0000 0.4808 0.0000 0.0000 0.0000 0.0000 0.0000 0.0000]\n",
      " [0.0000 0.6372 0.0000 0.0000 0.0000 0.0000 0.0000 0.0000]\n",
      " [0.0000 0.0000 0.0000 0.0000 0.0000 0.0000 0.9069 0.0000]\n",
      " [0.0000 0.0000 0.0000 0.0000 0.6758 0.0000 0.0000 0.0000]\n",
      " [0.0000 0.0000 0.0000 0.6309 0.0000 0.0000 0.0000 0.0000]\n",
      " [0.0000 0.0000 0.0000 0.0000 0.0000 0.9175 0.0000 0.0000]\n",
      " [0.0000 0.4137 0.0000 0.0000 0.0000 0.0000 0.0000 0.0000]\n",
      " [0.0000 0.6828 0.0000 0.0000 0.0000 0.0000 0.0000 0.0000]\n",
      " [0.0000 0.0000 0.0000 0.0000 0.9724 0.0000 0.0000 0.0000]\n",
      " [0.0000 0.0000 0.0000 0.0000 0.0000 0.7314 0.0000 0.0000]\n",
      " [0.0000 0.0000 0.0000 0.0000 0.6700 0.0000 0.0000 0.0000]\n",
      " [0.0000 0.0000 0.0000 0.0000 0.0000 0.0000 0.9031 0.0000]\n",
      " [0.0000 0.0000 0.0000 0.0000 0.0000 0.0000 0.6150 0.0000]\n",
      " [0.0000 0.8225 0.0000 0.0000 0.0000 0.0000 0.0000 0.0000]\n",
      " [0.0000 0.0000 0.0000 0.8569 0.0000 0.0000 0.0000 0.0000]\n",
      " [0.6669 0.0000 0.0000 0.0000 0.0000 0.0000 0.0000 0.0000]\n",
      " [0.0000 0.0000 0.0000 0.0000 0.0000 0.0000 0.6214 0.0000]\n",
      " [0.0000 0.0000 0.0000 0.0000 0.0000 0.0000 0.6237 0.0000]\n",
      " [0.0000 0.5536 0.0000 0.0000 0.0000 0.0000 0.0000 0.0000]\n",
      " [0.0000 0.0000 0.0000 0.0000 0.6677 0.0000 0.0000 0.0000]\n",
      " [0.6673 0.0000 0.0000 0.0000 0.0000 0.0000 0.0000 0.0000]\n",
      " [0.0000 0.4655 0.0000 0.0000 0.0000 0.0000 0.0000 0.0000]\n",
      " [0.0000 0.5536 0.0000 0.0000 0.0000 0.0000 0.0000 0.0000]\n",
      " [0.0000 0.0000 0.0000 0.0000 0.0000 0.0000 0.6028 0.0000]\n",
      " [0.0000 0.0000 0.0000 0.0000 0.6465 0.0000 0.0000 0.0000]\n",
      " [0.0000 0.5274 0.0000 0.0000 0.0000 0.0000 0.0000 0.0000]\n",
      " [0.0000 0.0000 0.0000 0.0000 0.0000 0.8764 0.0000 0.0000]\n",
      " [0.0000 0.0000 0.0000 0.6280 0.0000 0.0000 0.0000 0.0000]\n",
      " [0.6683 0.0000 0.0000 0.0000 0.0000 0.0000 0.0000 0.0000]\n",
      " [0.0000 0.0000 0.0000 0.6274 0.0000 0.0000 0.0000 0.0000]\n",
      " [0.0000 0.0000 0.0000 0.6258 0.0000 0.0000 0.0000 0.0000]\n",
      " [0.0000 0.0000 0.0000 0.0000 0.0000 0.0000 0.6167 0.0000]\n",
      " [0.6716 0.0000 0.0000 0.0000 0.0000 0.0000 0.0000 0.0000]]\n"
     ]
    },
    {
     "data": {
      "image/png": "[encoded data removed]",
      "text/plain": [
       "<IPython.core.display.Image object>"
      ]
     },
     "execution_count": 72,
     "metadata": {
      "image/png": {
       "height": 400,
       "width": 400
      }
     },
     "output_type": "execute_result"
    }
   ],
   "source": [
    "codes = img2code(X)\n",
    "r = codes[0]\n",
    "pr = sparse_softmax(r[:, 0, 6:14])\n",
    "c = np.dot(pr, (layers['brush'].colors_.get_value())  )\n",
    "c = c * scale.flatten() + bias.flatten()\n",
    "c = c[:, :, np.newaxis, np.newaxis] * np.ones((1, 1, 16, 16))\n",
    "c = np.clip(c, 0, 1)\n",
    "imsave('imgs/b.png', \n",
    "       disp_grid(c, border=1, bordercolor=(0.3,0,0), normalize=False)\n",
    ")\n",
    "Image('imgs/b.png', width=400, height=400)"
   ]
  },
  {
   "cell_type": "code",
   "execution_count": 86,
   "metadata": {
    "collapsed": false
   },
   "outputs": [
    {
     "data": {
      "image/png": "[encoded data removed]",
      "text/plain": [
       "<IPython.core.display.Image object>"
      ]
     },
     "execution_count": 86,
     "metadata": {
      "image/png": {
       "height": 400,
       "width": 400
      }
     },
     "output_type": "execute_result"
    },
    {
     "data": {
      "text/plain": [
       "<matplotlib.figure.Figure at 0x7f20f31cdbd0>"
      ]
     },
     "metadata": {},
     "output_type": "display_data"
    }
   ],
   "source": [
    "from matplotlib.colors import Normalize, NoNorm\n",
    "b, = get_brush(X)\n",
    "b = (b* scale + bias)\n",
    "b = np.clip(b, 0, 1)\n",
    "fig = plt.figure(figsize=(10, 10))\n",
    "imsave('imgs/b.png', \n",
    "       disp_grid(b[:, 1], border=1, bordercolor=(0.3,0,0), normalize=False)\n",
    ")\n",
    "Image('imgs/b.png', width=400, height=400)"
   ]
  },
  {
   "cell_type": "code",
   "execution_count": 81,
   "metadata": {
    "collapsed": false
   },
   "outputs": [
    {
     "data": {
      "image/png": "[encoded data removed]",
      "text/plain": [
       "<IPython.core.display.Image object>"
      ]
     },
     "execution_count": 81,
     "metadata": {
      "image/png": {
       "height": 400,
       "width": 400
      }
     },
     "output_type": "execute_result"
    }
   ],
   "source": [
    "codes = img2code(X)\n",
    "r = codes[0]\n",
    "img = code2img(*codes)\n",
    "img = np.clip(img, 0, 1)\n",
    "img = disp_grid(img, border=1, bordercolor=(0.3,0.3,0.3), normalize=False)\n",
    "imsave('imgs/im.png', img)\n",
    "Image('imgs/im.png', width=400, height=400)"
   ]
  },
  {
   "cell_type": "markdown",
   "metadata": {},
   "source": [
    "## Construct a sequence with the enhancement module"
   ]
  },
  {
   "cell_type": "code",
   "execution_count": null,
   "metadata": {
    "collapsed": false
   },
   "outputs": [],
   "source": [
    "def construct_seq(X):\n",
    "    seq = []\n",
    "    feat = img2code(X)\n",
    "    for t in range(layers[coord_layers[0]].output_shape[1]):\n",
    "        feat_ = [f.copy() for f in feat]\n",
    "        for f in feat_:\n",
    "            f[:,t+1:]=-100\n",
    "        img = code2img(*feat_)\n",
    "        seq.append(img)\n",
    "    return seq\n",
    "\n",
    "seq = construct_seq(X)\n",
    "seq = np.array(seq)"
   ]
  },
  {
   "cell_type": "code",
   "execution_count": null,
   "metadata": {
    "collapsed": false
   },
   "outputs": [],
   "source": [
    "seq_ = np.array(seq[:])\n",
    "seq_ = seq.transpose((1, 0, 2, 3, 4))\n",
    "seq_to_video(seq_, 'vids/refined_seq.mp4')\n",
    "embed_video('vids/refined_seq.mp4')"
   ]
  },
  {
   "cell_type": "markdown",
   "metadata": {},
   "source": [
    "## get coords from images"
   ]
  },
  {
   "cell_type": "code",
   "execution_count": null,
   "metadata": {
    "collapsed": false,
    "scrolled": true
   },
   "outputs": [],
   "source": [
    "codes = []\n",
    "for encoder in get_reprs:\n",
    "    code = encoder(X)\n",
    "    codes.append(code)\n",
    "cols = [(1, 0, 0), (0, 1, 0), (0, 0, 1), (1, 1, 0), (1, 0, 1), (0, 1, 1)]\n",
    "cols = cols + cols\n",
    "print(model.hypers['model_params']['patch_size'])\n",
    "pointers = []\n",
    "for i, code in enumerate(codes):\n",
    "    if 'x_stride' in layers['brush_0'].assign_:\n",
    "        print(code.shape)\n",
    "        sx = sigmoid(code[:,:, layers['brush_0'].assign_['x_stride']]) * model.hypers['model_params']['patch_size']\n",
    "    else:\n",
    "        sx = None    \n",
    "\n",
    "    if 'y_stride' in layers['brush_0'].assign_:\n",
    "        sy = sigmoid(code[:,:, layers['brush_0'].assign_['y_stride']]) * model.hypers['model_params']['patch_size']\n",
    "    else:\n",
    "        sy = None\n",
    "    pointer = build_pointer_images(code[:, :, 0:2], cols[i], w, h, sx=sx, sy=sy, p=1)\n",
    "    pointers.append(pointer)\n",
    "pointers = sum(pointers)\n",
    "seq_to_video(pointers, 'vids/pointers.mp4')\n",
    "embed_video('vids/pointers.mp4')"
   ]
  },
  {
   "cell_type": "markdown",
   "metadata": {},
   "source": [
    "## video of gen"
   ]
  },
  {
   "cell_type": "code",
   "execution_count": null,
   "metadata": {
    "collapsed": false,
    "scrolled": false
   },
   "outputs": [],
   "source": [
    "imgs = get_brush(X) # (examples, time, c, w, h)\n",
    "imgs = sum(imgs)\n",
    "imgs = imgs * scale + bias\n",
    "imgs = imgs\n",
    "imgs = np.clip(imgs, 0, 1)\n",
    "seq_to_video(imgs, 'vids/seq.mp4', border=2, bordercolor=(0.3,0,0),framerate=1, rate=1, normalize=False)\n",
    "embed_video('vids/seq.mp4')"
   ]
  },
  {
   "cell_type": "code",
   "execution_count": null,
   "metadata": {
    "collapsed": false
   },
   "outputs": [],
   "source": [
    "fig, (ax1, ax2) = plt.subplots(1,2, figsize=(20,20))\n",
    "d = imgs[:,-1].copy()\n",
    "d = disp_grid(d)\n",
    "ax1.set_axis_off()\n",
    "ax1.imshow(d)\n",
    "m = get_resid(X)\n",
    "d = ( ((get_resid(X)+get_out(X)))*0.5     )\n",
    "#d = 1-sigmoid(d)\n",
    "d = normalize(d, axis=0)\n",
    "d = disp_grid(d)\n",
    "ax2.set_axis_off()\n",
    "ax2.imshow(d)"
   ]
  },
  {
   "cell_type": "markdown",
   "metadata": {},
   "source": [
    "## Reconstruct"
   ]
  },
  {
   "cell_type": "code",
   "execution_count": 21,
   "metadata": {
    "collapsed": false,
    "scrolled": true
   },
   "outputs": [
    {
     "data": {
      "image/png": "[encoded data removed]",
      "text/plain": [
       "<IPython.core.display.Image object>"
      ]
     },
     "execution_count": 21,
     "metadata": {
      "image/png": {
       "height": 800,
       "width": 800
      }
     },
     "output_type": "execute_result"
    }
   ],
   "source": [
    "im1 = disp_grid(model.preprocess(data.X[0:100]), border=1, bordercolor=(.3, .3, .3))\n",
    "r  = model.reconstruct(model.preprocess(data.X[0:100]))\n",
    "r = np.clip(r, 0, 1)\n",
    "im2 = disp_grid(r, border=1, bordercolor=(.5, 0, 0), normalize=False)\n",
    "im_mix = np.empty(( max(im1.shape[0], im2.shape[0]), im1.shape[1] + im2.shape[1], 3))\n",
    "im_mix[0:im1.shape[0], 0:im1.shape[1]] = im1\n",
    "im_mix[0:im2.shape[0], im1.shape[1]:] = im2\n",
    "imsave('imgs/im_mix.png', im_mix)\n",
    "Image('imgs/im_mix.png', width=800, height=800)"
   ]
  },
  {
   "cell_type": "markdown",
   "metadata": {},
   "source": [
    "## Sharpen"
   ]
  },
  {
   "cell_type": "code",
   "execution_count": null,
   "metadata": {
    "collapsed": false
   },
   "outputs": [],
   "source": [
    "from skimage.io import imread\n",
    "from skimage.draw import circle\n",
    "texture = imread('imgs/metal_rust_texture_05_by_fantasystock.jpg')/255.\n",
    "S = 4\n",
    "x = 200\n",
    "patches = np.zeros((1, 3, 7*S, 7*S))\n",
    "ph, pw = patches.shape[2:]\n",
    "rr, cc = circle(ph/2, pw/2, S*3)    \n",
    "patches[:, :, rr, cc] = 1\n",
    "plt.imshow(patches[0,0], cmap='gray')"
   ]
  },
  {
   "cell_type": "code",
   "execution_count": null,
   "metadata": {
    "collapsed": false
   },
   "outputs": [],
   "source": [
    "r = get_repr(X)\n",
    "\n",
    "from skimage.draw import circle\n",
    "\n",
    "def sharpen_draw_single(gx, gy, patch, col, w_out, h_out, img=None, mask=None):\n",
    "    c = patch.shape[0]\n",
    "    ph = patch.shape[1]\n",
    "    pw = patch.shape[2]\n",
    "    if img is  None:\n",
    "        img = np.zeros((c, w_out, h_out))\n",
    "        mask = np.zeros((c, w_out, h_out))\n",
    "    shape = img[:, gy:gy+ph, gx:gx+pw].shape\n",
    "    \n",
    "    n = patch[:, :shape[1], :shape[2]] * col[:, None, None]\n",
    "    mask_n = (1 - (n[0]==0) * (n[1]==0) * (n[2]==0))\n",
    "    o =   img[:, gy:gy+ph, gx:gx+pw]\n",
    "    mask_o = (1 - (o[0]==0) * (o[1]==0) * (o[2]==0))\n",
    "    img[:, gy:gy+ph, gx:gx+pw] = n * mask_n + o * (1 - mask_n) \n",
    "    img[:, gy:gy+ph, gx:gx+pw] = n * 0.5 + o * 0.5 \n",
    "    \n",
    "    return img\n",
    "\n",
    "def sharpen_draw(r, S=8):\n",
    "    \n",
    "    if 'patch_index' in layers['brush'].assign_:\n",
    "        patch_indices = layers['brush'].assign_['patch_index']\n",
    "    else:\n",
    "        patch_indices = None\n",
    "    if 'color' in layers['brush'].assign_:\n",
    "        color_indices = layers['brush'].assign_['color']\n",
    "    else:\n",
    "        color_indices = None\n",
    "    patches = layers['brush'].patches_.get_value()\n",
    "    ph, pw = patches.shape[2:]    \n",
    "    ph, pw = patches.shape[2:]\n",
    "    rr, cc = circle(ph/2, pw/2, S*3)    \n",
    "    #patches[:, :, rr, cc] = 1\n",
    "    #patches[:] *= texture.transpose((2, 0, 1))[:, 100:100+ph, 100:100+pw]\n",
    "    w_out = w * S\n",
    "    h_out = h * S\n",
    "    \n",
    "    c = patches.shape[1]\n",
    "    imgs = np.zeros((r.shape[0], c, h_out, w_out))\n",
    "    masks = np.zeros_like(imgs)\n",
    "\n",
    "    for t in range(r.shape[1]):\n",
    "        rt = r[:, t]\n",
    "        if patch_indices:\n",
    "            patch_index = rt[:, slice(*patch_indices)].argmax(axis=1)\n",
    "        else:\n",
    "            patch_index = np.zeros((rt.shape[0],))\n",
    "        if color_indices:\n",
    "            color = (rt[:, slice(*color_indices)])\n",
    "            color = sigmoid(color)\n",
    "        else:\n",
    "            color = np.ones((rt.shape[0], layers['output'].output_shape[1]))\n",
    "        for i in range(imgs.shape[0]):\n",
    "            gx = int(sigmoid(rt[i, 0]) * w_out)\n",
    "            gy = int(sigmoid(rt[i, 1]) * h_out)\n",
    "            sharpen_draw_single(gx, gy, patches[patch_index[i]], color[i], w_out, h_out, img=imgs[i], mask=masks[i])\n",
    "    return imgs\n",
    "fig = plt.figure(figsize=(10, 10))\n",
    "imgs = sharpen_draw(r, S=1)\n",
    "imgs = imgs * scale[0] + bias[0]\n",
    "imgs = 1-sigmoid(imgs)\n",
    "img = disp_grid(imgs)\n",
    "imsave('imgs/sharpen.png', img)\n",
    "Image('imgs/sharpen.png')"
   ]
  },
  {
   "cell_type": "markdown",
   "metadata": {},
   "source": [
    "## iterative refinement"
   ]
  },
  {
   "cell_type": "code",
   "execution_count": 26,
   "metadata": {
    "collapsed": false
   },
   "outputs": [
    {
     "name": "stderr",
     "output_type": "stream",
     "text": []
    }
   ],
   "source": [
    "#np.random.seed(22)\n",
    "nb_iter = 200\n",
    "nb_examples = 100\n",
    "thresh = None\n",
    "use_noise = True\n",
    "learning_rate = 1\n",
    "c = layers['output'].output_shape[1]\n",
    "# PREP\n",
    "if thresh == 'moving':\n",
    "    whitepx_ratio = (data.X>0.5).sum() / np.ones_like(data.X).sum()\n",
    "\n",
    "imgs = np.empty((nb_examples, nb_iter + 1, c, w, h)) # 1 = color channel\n",
    "imgs = imgs.astype(np.float32)\n",
    "imgs[:, 0] = np.random.uniform(size=(nb_examples, c, w, h))\n",
    "\n",
    "if use_noise: noise = np.random.normal(0, 0.001, size=imgs[:, 0].shape).astype(np.float32) #(for colored images)\n",
    "else: noise = 0\n",
    "\n",
    "scores = []\n",
    "diversities = []\n",
    "\n",
    "# ITERATIOn\n",
    "\n",
    "for i in tqdm(range(1, nb_iter + 1)):\n",
    "    \n",
    "    if use_noise:noise = np.random.normal(0, 0.1, size=imgs[:, 0].shape).astype(np.float32) #(for colored images)\n",
    "    else:noise = 0\n",
    "    \n",
    "    new = model.reconstruct(imgs[:, i - 1] + noise)\n",
    "    prev = imgs[:, i - 1] \n",
    "    imgs[:, i] = new * learning_rate + prev * (1-learning_rate)\n",
    "    if c == 1:\n",
    "        if thresh == 'moving':\n",
    "            vals = imgs[:, i].flatten()\n",
    "            vals = vals[np.argsort(vals)]\n",
    "            thresh_ = vals[-int(whitepx_ratio * len(vals)) - 1]\n",
    "        else:\n",
    "            thresh_ = thresh\n",
    "        if thresh_:\n",
    "            imgs[:, i] = imgs[:, i] > thresh_ # binarize\n",
    "    score = np.abs(imgs[:, i - 1] - imgs[:, i]).sum()\n",
    "    scores.append(score)\n",
    "    diversity = prop_uniques(imgs[:, i])\n",
    "    diversities.append(diversity)"
   ]
  },
  {
   "cell_type": "markdown",
   "metadata": {},
   "source": [
    "## Check nearest neighbors in dataset of the generated images"
   ]
  },
  {
   "cell_type": "code",
   "execution_count": 87,
   "metadata": {
    "collapsed": false
   },
   "outputs": [
    {
     "ename": "TypeError",
     "evalue": "only length-1 arrays can be converted to Python scalars",
     "output_type": "error",
     "traceback": [
      "\u001b[0;31m---------------------------------------------------------------------------\u001b[0m",
      "\u001b[0;31mTypeError\u001b[0m                                 Traceback (most recent call last)",
      "\u001b[0;32m<ipython-input-87-35180eb07a9a>\u001b[0m in \u001b[0;36m<module>\u001b[0;34m()\u001b[0m\n\u001b[1;32m     11\u001b[0m \u001b[0mneighb\u001b[0m \u001b[0;34m=\u001b[0m \u001b[0mneighb\u001b[0m\u001b[0;34m.\u001b[0m\u001b[0mflatten\u001b[0m\u001b[0;34m(\u001b[0m\u001b[0;34m)\u001b[0m\u001b[0;34m\u001b[0m\u001b[0m\n\u001b[1;32m     12\u001b[0m \u001b[0mneighb\u001b[0m \u001b[0;34m=\u001b[0m \u001b[0mdataset\u001b[0m\u001b[0;34m[\u001b[0m\u001b[0mneighb\u001b[0m\u001b[0;34m]\u001b[0m\u001b[0;34m\u001b[0m\u001b[0m\n\u001b[0;32m---> 13\u001b[0;31m \u001b[0mneighb\u001b[0m \u001b[0;34m=\u001b[0m \u001b[0mneighb\u001b[0m\u001b[0;34m.\u001b[0m\u001b[0mreshape\u001b[0m\u001b[0;34m(\u001b[0m\u001b[0;34m(\u001b[0m\u001b[0mshape\u001b[0m\u001b[0;34m[\u001b[0m\u001b[0;36m0\u001b[0m\u001b[0;34m]\u001b[0m\u001b[0;34m,\u001b[0m \u001b[0mshape\u001b[0m\u001b[0;34m[\u001b[0m\u001b[0;36m1\u001b[0m\u001b[0;34m]\u001b[0m\u001b[0;34m,\u001b[0m \u001b[0mc\u001b[0m\u001b[0;34m,\u001b[0m \u001b[0mh\u001b[0m\u001b[0;34m,\u001b[0m \u001b[0mw\u001b[0m\u001b[0;34m)\u001b[0m\u001b[0;34m)\u001b[0m\u001b[0;34m\u001b[0m\u001b[0m\n\u001b[0m\u001b[1;32m     14\u001b[0m \u001b[0mneighb\u001b[0m \u001b[0;34m=\u001b[0m \u001b[0mnp\u001b[0m\u001b[0;34m.\u001b[0m\u001b[0mconcatenate\u001b[0m\u001b[0;34m(\u001b[0m\u001b[0;34m(\u001b[0m\u001b[0mgenerated\u001b[0m\u001b[0;34m[\u001b[0m\u001b[0;34m:\u001b[0m\u001b[0;34m,\u001b[0m \u001b[0mNone\u001b[0m\u001b[0;34m]\u001b[0m\u001b[0;34m,\u001b[0m \u001b[0mneighb\u001b[0m\u001b[0;34m)\u001b[0m\u001b[0;34m,\u001b[0m \u001b[0maxis\u001b[0m\u001b[0;34m=\u001b[0m\u001b[0;36m1\u001b[0m\u001b[0;34m)\u001b[0m\u001b[0;34m\u001b[0m\u001b[0m\n\u001b[1;32m     15\u001b[0m \u001b[0mimg\u001b[0m \u001b[0;34m=\u001b[0m \u001b[0mnp\u001b[0m\u001b[0;34m.\u001b[0m\u001b[0mempty\u001b[0m\u001b[0;34m(\u001b[0m\u001b[0;34m(\u001b[0m \u001b[0mshape\u001b[0m\u001b[0;34m[\u001b[0m\u001b[0;36m0\u001b[0m\u001b[0;34m]\u001b[0m\u001b[0;34m*\u001b[0m\u001b[0mh\u001b[0m\u001b[0;34m,\u001b[0m \u001b[0mshape\u001b[0m\u001b[0;34m[\u001b[0m\u001b[0;36m1\u001b[0m\u001b[0;34m]\u001b[0m \u001b[0;34m*\u001b[0m\u001b[0mw\u001b[0m\u001b[0;34m,\u001b[0m \u001b[0mc\u001b[0m\u001b[0;34m)\u001b[0m\u001b[0;34m)\u001b[0m\u001b[0;34m\u001b[0m\u001b[0m\n",
      "\u001b[0;31mTypeError\u001b[0m: only length-1 arrays can be converted to Python scalars"
     ]
    }
   ],
   "source": [
    "nb_neighb = 10\n",
    "generated = imgs[:, -1].copy()\n",
    "generated = np.clip(generated, 0, 1)\n",
    "dataset = data.X\n",
    "def euc(x, y):\n",
    "    return ((x-y)**2).mean(axis=(2, 3, 4))\n",
    "dist = euc\n",
    "neighb = (dist(generated[:, None], dataset[None, :])).argsort(axis=1)\n",
    "neighb = neighb[:, 0:nb_neighb]\n",
    "shape = neighb.shape\n",
    "neighb = neighb.flatten()\n",
    "neighb = dataset[neighb]\n",
    "neighb = neighb.reshape((shape[0], shape[1], c, h, w))\n",
    "neighb = np.concatenate((generated[:, None], neighb), axis=1)\n",
    "img = np.empty(( shape[0]*h, shape[1] *w, c))\n",
    "for y in range(shape[0]):\n",
    "    for x in range(shape[1]):\n",
    "        img[y*h:y*h+h, x*w:x*w+w] = neighb[y,x].transpose((1, 2, 0))\n",
    "        \n",
    "        img[y*h:y*h+h, x*w:x*w+1]=0.3 if x>1 else 1\n",
    "        img[y*h:y*h+1, x*w:x*w+w+1]=0.3 if x>0 else 1\n",
    "         \n",
    "imsave('imgs/neigh.png', img[:,:,0] if c==1 else img)\n",
    "Image('imgs/neigh.png')"
   ]
  },
  {
   "cell_type": "code",
   "execution_count": 88,
   "metadata": {
    "collapsed": false
   },
   "outputs": [
    {
     "data": {
      "image/png": "[encoded data removed]",
      "text/plain": [
       "<IPython.core.display.Image object>"
      ]
     },
     "execution_count": 88,
     "metadata": {
      "image/png": {
       "height": 500,
       "width": 500
      }
     },
     "output_type": "execute_result"
    },
    {
     "data": {
      "text/plain": [
       "<matplotlib.figure.Figure at 0x7f20fbc53e90>"
      ]
     },
     "metadata": {},
     "output_type": "display_data"
    }
   ],
   "source": [
    "fig = plt.figure(figsize=(10, 10))\n",
    "im = imgs[:, -1]\n",
    "im = np.clip(im, 0, 1)\n",
    "img = disp_grid(im, border=1, bordercolor=(0.3, 0, 0), normalize=False)\n",
    "imsave('imgs/ir.png', img)\n",
    "Image('imgs/ir.png', width=500, height=500)"
   ]
  },
  {
   "cell_type": "code",
   "execution_count": 89,
   "metadata": {
    "collapsed": false,
    "scrolled": false
   },
   "outputs": [
    {
     "name": "stderr",
     "output_type": "stream",
     "text": [
      "/home/mcherti/miniconda/envs/databoard-env/lib/python2.7/site-packages/skimage/io/_io.py:132: UserWarning: /tmp/img_to_videooK5Xs_/img00000000.png is a low contrast image\n",
      "  warn('%s is a low contrast image' % fname)\n"
     ]
    },
    {
     "name": "stdout",
     "output_type": "stream",
     "text": [
      "ffmpeg -framerate 8 -i img%08d.png -c:v libx264 -r 8 -pix_fmt yuv420p /home/mcherti/work/code/feature_generation/ipynb/vids/ir.mp4\n"
     ]
    },
    {
     "data": {
      "text/html": [
       "<video alt=\"test\" controls>\n",
       "                <source src=\"data:video/mp4;base64,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\" type=\"video/mp4\" />\n",
       "                </video>"
      ],
      "text/plain": [
       "<IPython.core.display.HTML object>"
      ]
     },
     "execution_count": 89,
     "metadata": {},
     "output_type": "execute_result"
    }
   ],
   "source": [
    "seq_to_video(np.clip(imgs, 0, 1), 'vids/ir.mp4', border=2, bordercolor=(0.3, 0, 0), normalize=False)\n",
    "embed_video('vids/ir.mp4')"
   ]
  },
  {
   "cell_type": "code",
   "execution_count": null,
   "metadata": {
    "collapsed": false
   },
   "outputs": [],
   "source": [
    "plt.title('Score')\n",
    "plt.plot(np.log(np.array(scores)) / np.log(10))\n",
    "plt.show()\n",
    "plt.title('Diversity')\n",
    "plt.plot(diversities)\n",
    "plt.show()"
   ]
  },
  {
   "cell_type": "markdown",
   "metadata": {},
   "source": [
    "## Feeding a new image"
   ]
  },
  {
   "cell_type": "code",
   "execution_count": null,
   "metadata": {
    "collapsed": false
   },
   "outputs": [],
   "source": [
    "kw = {\n",
    "\"pipeline\": [\n",
    "    {\"name\": \"imagefilelist\", \"params\": {\"pattern\": \"{chairs}\"}},\n",
    "    {\"name\": \"shuffle\", \"params\": {}},\n",
    "    {\"name\": \"imageread\", \"params\": {}},\n",
    "    {\"name\": \"normalize_shape\", \"params\": {}},\n",
    "    {\"name\": \"force_rgb\", \"params\": {}},\n",
    "    {\"name\": \"crop\", \"params\": {\"shape\": (128, 128), \"pos\": \"center\", \"mode\": \"constant\"}},   \n",
    "    {\"name\": \"resize\", \"params\": {\"shape\": [h, w]}},\n",
    "    {\"name\": \"divide_by\", \"params\": {\"value\": 255}},\n",
    "    {\"name\": \"order\", \"params\": {\"order\": \"th\"}}\n",
    "]\n",
    "}\n",
    "dt_test = load_data('loader', w=w, h=h, **kw)"
   ]
  },
  {
   "cell_type": "code",
   "execution_count": null,
   "metadata": {
    "collapsed": false,
    "scrolled": true
   },
   "outputs": [],
   "source": [
    "# load from file\n",
    "c=3\n",
    "nb = 100\n",
    "dt = dt_test.X[0:nb]\n",
    "try:\n",
    "    dt = dt.reshape((nb, c, w, h))\n",
    "except Exception:\n",
    "    dt = dt.reshape((nb, c, w, h))\n",
    "    dt = dt * np.ones((1, 3, 1, 1))\n",
    "    dt = dt.astype(np.float32)\n",
    "print(dt.shape)\n",
    "rec = reconstruct(dt)\n",
    "print(((rec - dt)**2).mean())\n",
    "\n",
    "im1 = disp_grid(model.preprocess(dt[0:nb]), border=1, bordercolor=(.3, .3, .3), normalize=False)\n",
    "im2 = disp_grid(np.clip(reconstruct(model.preprocess(rec[0:nb])), 0, 1), \n",
    "                border=1, bordercolor=(.5, 0, 0), normalize=False)\n",
    "im_mix = np.empty((im1.shape[0], im1.shape[1] + im2.shape[1], 3))\n",
    "im_mix[:, 0:im1.shape[1]] = im1\n",
    "im_mix[:, im1.shape[1]:] = im2\n",
    "imsave('imgs/im_mix_new_dataset.png', im_mix)\n",
    "Image('imgs/im_mix_new_dataset.png', width=800, height=800)"
   ]
  },
  {
   "cell_type": "markdown",
   "metadata": {
    "collapsed": true
   },
   "source": [
    "## interpolation"
   ]
  },
  {
   "cell_type": "code",
   "execution_count": null,
   "metadata": {
    "collapsed": false
   },
   "outputs": [],
   "source": [
    "lay = tuple(coord_layers)\n",
    "#lay = ('input',)\n",
    "tensors = tuple(T.TensorType('float32', (False,)* len(layers[l].output_shape) )() for l in lay)\n",
    "img2code = build_image_to_code_func(layers, lay=lay)\n",
    "code2img = build_code_to_image(layers, lay=lay, X=tensors)"
   ]
  },
  {
   "cell_type": "code",
   "execution_count": null,
   "metadata": {
    "collapsed": false
   },
   "outputs": [],
   "source": [
    "np.random.seed(42)\n",
    "indices = np.random.randint(0, len(data.X), size=4)\n",
    "codes = img2code(model.preprocess(data.X[indices]))\n",
    "shapes = [c.shape[1:] for c in codes]\n",
    "codes_flat = [c.reshape(c.shape[0], -1) for c in codes]\n",
    "sizes = [c.shape[1] for c in codes_flat]\n",
    "codes_concat = np.concatenate(codes_flat, axis=1)\n",
    "\n",
    "z_dim = codes_concat.shape[1:]\n",
    "D = 30\n",
    "alpha = np.linspace(0, 1, D)\n",
    "beta = np.linspace(0, 1, D)\n",
    "grid_codes = np.empty((D*D,) + z_dim, dtype='float32')\n",
    "k = 0\n",
    "for a in alpha:\n",
    "    for b in beta:\n",
    "        grid_codes[k] = a*b*codes_concat[0] + a*(1-b)*codes_concat[1] + (1-a)*b*codes_concat[2]  + (1-a)*(1-b)*codes_concat[3]\n",
    "        k +=1\n",
    "\n",
    "i = 0\n",
    "orig_codes = []\n",
    "for s in sizes:\n",
    "    orig_codes.append(grid_codes[:, i:i+s])\n",
    "    i+=s\n",
    "orig_codes = [orig_code.reshape((orig_code.shape[0],) + shape) for orig_code, shape in zip(orig_codes, shapes)]\n",
    "print(orig_codes[0].shape)\n",
    "grid_imgs = code2img(*orig_codes)"
   ]
  },
  {
   "cell_type": "code",
   "execution_count": null,
   "metadata": {
    "collapsed": false
   },
   "outputs": [],
   "source": [
    "imsave('imgs/grid.png', disp_grid(grid_imgs, border=2, bordercolor=(0.3,0.,0.)), normalize=False)\n",
    "Image('imgs/grid.png', width=500, height=500)"
   ]
  }
 ],
 "metadata": {
  "kernelspec": {
   "display_name": "Python 2",
   "language": "python",
   "name": "python2"
  },
  "language_info": {
   "codemirror_mode": {
    "name": "ipython",
    "version": 2
   },
   "file_extension": ".py",
   "mimetype": "text/x-python",
   "name": "python",
   "nbconvert_exporter": "python",
   "pygments_lexer": "ipython2",
   "version": "2.7.12"
  }
 },
 "nbformat": 4,
 "nbformat_minor": 0
}
