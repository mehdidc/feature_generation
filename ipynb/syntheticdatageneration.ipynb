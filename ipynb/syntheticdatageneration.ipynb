{
 "cells": [
  {
   "cell_type": "code",
   "execution_count": 1,
   "metadata": {
    "collapsed": false
   },
   "outputs": [
    {
     "name": "stderr",
     "output_type": "stream",
     "text": [
      "/home/mcherti/work/code/external/scikit-learn/sklearn/cross_validation.py:43: DeprecationWarning: This module has been deprecated in favor of the model_selection module into which all the refactored classes and functions are moved. Also note that the interface of the new CV iterators are different from that of this module. This module will be removed in 0.20.\n",
      "  \"This module will be removed in 0.20.\", DeprecationWarning)\n"
     ]
    }
   ],
   "source": [
    "from lasagnekit.datasets.mnist import MNIST\n",
    "import sys\n",
    "import os\n",
    "sys.path.append(os.getcwd()+\"/..\")\n",
    "import h5py\n",
    "%matplotlib inline\n",
    "import matplotlib.pyplot as plt\n",
    "import numpy as np\n",
    "from sklearn.metrics import classification_report\n",
    "from tools.brushstroke.common import disp_grid\n",
    "from itertools import product\n",
    "from collections import defaultdict\n",
    "from sklearn.linear_model import LogisticRegression\n",
    "from sklearn.ensemble import RandomForestClassifier\n",
    "def neighbcorr_filenames_multiplecorrelation(im, pad=3):\n",
    "    # https://en.wikipedia.org/wiki/Multiple_correlation\n",
    "    from sklearn.linear_model import LinearRegression\n",
    "    xdata = defaultdict(list)\n",
    "    ydata = defaultdict(list)\n",
    "    for x in range(pad, im.shape[0] - pad):\n",
    "        for y in range(pad, im.shape[1] - pad):\n",
    "            pxc = im[x, y]\n",
    "            dt = []\n",
    "            for dx, dy in product((0, 1, -1), (0, 1, -1)):\n",
    "                if dx == 0 and dy == 0:\n",
    "                    continue\n",
    "                px = im[x + dx, y + dy]\n",
    "                dt.append(px)\n",
    "            xdata[(x, y)].append(dt)\n",
    "            ydata[(x, y)].append(pxc)\n",
    "    rsqr_l = []\n",
    "    \n",
    "    x = xdata.values()\n",
    "    y = ydata.values()\n",
    "    x = np.array(x)\n",
    "    y = np.array(y)\n",
    "    x = x[:, 0]\n",
    "    y = y[:, 0]\n",
    "    rsqrt = np.sqrt(LinearRegression().fit(x, y).score(x, y))\n",
    "    return rsqrt"
   ]
  },
  {
   "cell_type": "code",
   "execution_count": 2,
   "metadata": {
    "collapsed": true
   },
   "outputs": [],
   "source": [
    "data_train = MNIST(which='train')\n",
    "data_train.load()\n",
    "data_train.X = data_train.X>0.5\n",
    "\n",
    "data_test = MNIST(which='test')\n",
    "data_test.load()\n",
    "data_test.X = data_test.X>0.5"
   ]
  },
  {
   "cell_type": "code",
   "execution_count": 14,
   "metadata": {
    "collapsed": false
   },
   "outputs": [],
   "source": [
    "data = h5py.File('../exported_data/datasets/dataset.hdf5', 'r')\n",
    "X_orig = data['X'][0:100000]"
   ]
  },
  {
   "cell_type": "code",
   "execution_count": 23,
   "metadata": {
    "collapsed": false
   },
   "outputs": [],
   "source": [
    "X = X_orig.copy()\n",
    "X /= X.max()\n",
    "\n",
    "#X = X[X.mean(axis=1)<0.25]\n",
    "#X = X[X.mean(axis=1)>0.08]\n",
    "ind = np.arange(len(X))\n",
    "np.random.shuffle(ind)\n",
    "ind = ind[0:30000]\n",
    "X = X[ind]\n",
    "\n",
    "#corr = [neighbcorr_filenames_multiplecorrelation(im.reshape((28,28))) for im in X]\n",
    "corr = np.array(corr)\n",
    "#X = X[corr>0.9]\n",
    "X = X[0:6000]"
   ]
  },
  {
   "cell_type": "code",
   "execution_count": 24,
   "metadata": {
    "collapsed": false
   },
   "outputs": [
    {
     "name": "stdout",
     "output_type": "stream",
     "text": [
      "6000\n"
     ]
    }
   ],
   "source": [
    "print(len(X))"
   ]
  },
  {
   "cell_type": "code",
   "execution_count": 25,
   "metadata": {
    "collapsed": false
   },
   "outputs": [
    {
     "data": {
      "text/plain": [
       "<matplotlib.image.AxesImage at 0x7eff21eae250>"
      ]
     },
     "execution_count": 25,
     "metadata": {},
     "output_type": "execute_result"
    },
    {
     "data": {
      "image/png": "[encoded data removed]",
      "text/plain": [
       "<matplotlib.figure.Figure at 0x7eff2cb22bd0>"
      ]
     },
     "metadata": {},
     "output_type": "display_data"
    }
   ],
   "source": [
    "imgs = X\n",
    "imgs = imgs.reshape((len(imgs), 1, 28, 28))\n",
    "imgs = imgs[0:400]\n",
    "img = disp_grid(imgs, border=1, bordercolor=(1,0,0))\n",
    "fig = plt.figure(figsize=(10, 10))\n",
    "plt.imshow(img)"
   ]
  },
  {
   "cell_type": "code",
   "execution_count": 289,
   "metadata": {
    "collapsed": false
   },
   "outputs": [
    {
     "data": {
      "text/plain": [
       "MLPClassifier(activation='relu', algorithm='adam', alpha=0.0001,\n",
       "       batch_size='auto', beta_1=0.9, beta_2=0.999, early_stopping=False,\n",
       "       epsilon=1e-08, hidden_layer_sizes=(100,), learning_rate='constant',\n",
       "       learning_rate_init=0.001, max_iter=200, momentum=0.9,\n",
       "       nesterovs_momentum=True, power_t=0.5, random_state=None,\n",
       "       shuffle=True, tol=0.0001, validation_fraction=0.1, verbose=False,\n",
       "       warm_start=False)"
      ]
     },
     "execution_count": 289,
     "metadata": {},
     "output_type": "execute_result"
    }
   ],
   "source": [
    "clf = MLPClassifier()\n",
    "clf.fit(data_train.X, data_train.y)"
   ]
  },
  {
   "cell_type": "code",
   "execution_count": 290,
   "metadata": {
    "collapsed": false
   },
   "outputs": [
    {
     "name": "stdout",
     "output_type": "stream",
     "text": [
      "             precision    recall  f1-score   support\n",
      "\n",
      "          0       0.99      0.97      0.98       996\n",
      "          1       0.99      0.99      0.99      1139\n",
      "          2       0.97      0.97      0.97      1033\n",
      "          3       0.96      0.97      0.97       998\n",
      "          4       0.97      0.98      0.97       976\n",
      "          5       0.97      0.97      0.97       884\n",
      "          6       0.97      0.98      0.97       949\n",
      "          7       0.98      0.97      0.97      1036\n",
      "          8       0.96      0.96      0.96       981\n",
      "          9       0.96      0.96      0.96      1008\n",
      "\n",
      "avg / total       0.97      0.97      0.97     10000\n",
      "\n"
     ]
    }
   ],
   "source": [
    "print(classification_report(clf.predict(data_test.X), data_test.y))"
   ]
  },
  {
   "cell_type": "code",
   "execution_count": 291,
   "metadata": {
    "collapsed": false
   },
   "outputs": [
    {
     "data": {
      "text/plain": [
       "0.97250000000000003"
      ]
     },
     "execution_count": 291,
     "metadata": {},
     "output_type": "execute_result"
    }
   ],
   "source": [
    "(clf.predict(data_test.X)==data_test.y).mean()"
   ]
  },
  {
   "cell_type": "code",
   "execution_count": 292,
   "metadata": {
    "collapsed": true
   },
   "outputs": [],
   "source": [
    "clf = MLPClassifier()\n",
    "X_augment = np.concatenate((data_train.X, X), axis=0)\n",
    "y_augment = np.concatenate((data_train.y, [10]*len(X)), axis=0)"
   ]
  },
  {
   "cell_type": "code",
   "execution_count": 293,
   "metadata": {
    "collapsed": false
   },
   "outputs": [
    {
     "data": {
      "text/plain": [
       "MLPClassifier(activation='relu', algorithm='adam', alpha=0.0001,\n",
       "       batch_size='auto', beta_1=0.9, beta_2=0.999, early_stopping=False,\n",
       "       epsilon=1e-08, hidden_layer_sizes=(100,), learning_rate='constant',\n",
       "       learning_rate_init=0.001, max_iter=200, momentum=0.9,\n",
       "       nesterovs_momentum=True, power_t=0.5, random_state=None,\n",
       "       shuffle=True, tol=0.0001, validation_fraction=0.1, verbose=False,\n",
       "       warm_start=False)"
      ]
     },
     "execution_count": 293,
     "metadata": {},
     "output_type": "execute_result"
    }
   ],
   "source": [
    "clf.fit(X_augment, y_augment)"
   ]
  },
  {
   "cell_type": "code",
   "execution_count": 294,
   "metadata": {
    "collapsed": false
   },
   "outputs": [
    {
     "data": {
      "text/plain": [
       "0.99968333333333337"
      ]
     },
     "execution_count": 294,
     "metadata": {},
     "output_type": "execute_result"
    }
   ],
   "source": [
    "(clf.predict(data_train.X)==data_train.y).mean()"
   ]
  },
  {
   "cell_type": "code",
   "execution_count": 295,
   "metadata": {
    "collapsed": false
   },
   "outputs": [
    {
     "data": {
      "text/plain": [
       "0.96879999999999999"
      ]
     },
     "execution_count": 295,
     "metadata": {},
     "output_type": "execute_result"
    }
   ],
   "source": [
    "preds = clf.predict_proba(data_test.X)\n",
    "preds = [np.argmax(p[0:10]) for p in preds]\n",
    "(preds==data_test.y).mean()"
   ]
  },
  {
   "cell_type": "code",
   "execution_count": 296,
   "metadata": {
    "collapsed": false
   },
   "outputs": [
    {
     "name": "stdout",
     "output_type": "stream",
     "text": [
      "             precision    recall  f1-score   support\n",
      "\n",
      "          0       0.99      0.97      0.98      1001\n",
      "          1       0.99      0.98      0.99      1153\n",
      "          2       0.97      0.97      0.97      1025\n",
      "          3       0.96      0.97      0.97      1000\n",
      "          4       0.97      0.96      0.97       996\n",
      "          5       0.97      0.96      0.96       907\n",
      "          6       0.96      0.98      0.97       943\n",
      "          7       0.97      0.96      0.97      1035\n",
      "          8       0.95      0.97      0.96       957\n",
      "          9       0.94      0.97      0.96       983\n",
      "\n",
      "avg / total       0.97      0.97      0.97     10000\n",
      "\n"
     ]
    }
   ],
   "source": [
    "print(classification_report(preds, data_test.y))"
   ]
  }
 ],
 "metadata": {
  "kernelspec": {
   "display_name": "Python 2",
   "language": "python",
   "name": "python2"
  },
  "language_info": {
   "codemirror_mode": {
    "name": "ipython",
    "version": 2
   },
   "file_extension": ".py",
   "mimetype": "text/x-python",
   "name": "python",
   "nbconvert_exporter": "python",
   "pygments_lexer": "ipython2",
   "version": "2.7.12"
  }
 },
 "nbformat": 4,
 "nbformat_minor": 0
}
