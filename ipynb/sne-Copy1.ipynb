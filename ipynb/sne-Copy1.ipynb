{
 "cells": [
  {
   "cell_type": "code",
   "execution_count": 1,
   "metadata": {
    "collapsed": false
   },
   "outputs": [
    {
     "name": "stdout",
     "output_type": "stream",
     "text": [
      "Couldn't import dot_parser, loading of dot files will not be possible.\n"
     ]
    },
    {
     "name": "stderr",
     "output_type": "stream",
     "text": [
      "/home/mcherti/miniconda/envs/databoard-env/lib/python2.7/site-packages/matplotlib/__init__.py:1350: UserWarning:  This call to matplotlib.use() has no effect\n",
      "because the backend has already been chosen;\n",
      "matplotlib.use() must be called *before* pylab, matplotlib.pyplot,\n",
      "or matplotlib.backends is imported for the first time.\n",
      "\n",
      "  warnings.warn(_use_error_msg)\n"
     ]
    }
   ],
   "source": [
    "%matplotlib inline\n",
    "\n",
    "import matplotlib.pyplot as plt\n",
    "\n",
    "import os\n",
    "import sys\n",
    "sys.path.append('..')\n",
    "os.environ[\"THEANO_FLAGS\"] = \"device=cpu\"\n",
    "os.environ[\"OMP_NUM_THREADS\"] = \"1\"\n",
    "from tasks import check\n",
    "import numpy as np\n",
    "from copy import deepcopy"
   ]
  },
  {
   "cell_type": "code",
   "execution_count": 5,
   "metadata": {
    "collapsed": false
   },
   "outputs": [],
   "source": [
    "from sklearn.manifold import TSNE\n",
    "import pickle\n",
    "dt = pickle.load(open(\"../figs/tsnesate\"))\n",
    "res_iccc  = dt[\"res\"]\n",
    "X = res_iccc['images_extended'][0:3000]\n",
    "C = res_iccc['code_extended']"
   ]
  },
  {
   "cell_type": "code",
   "execution_count": null,
   "metadata": {
    "collapsed": false
   },
   "outputs": [],
   "source": [
    "params = [{\n",
    "    \"layer_name\": \"wta_spatial\",\n",
    "    #\"folder\": \"out\",\n",
    "    \"max\": True,\n",
    "    \"tsne\": True,\n",
    "    \"nb_clusters\": 100,\n",
    "    \"make_bool\": False,\n",
    "    \"threshold\": 2,\n",
    "    \"algo\": \"kmeans\",\n",
    "    \"filenames_pattern\": \"../figs/sparseautoencoder_multipleruns/*random*/**/*.png\",\n",
    "    \"force_nb\": 3000,\n",
    "    \"tsneparams\": {\"perplexity\": 15, \"early_exaggeration\": 20},\n",
    "    \"code_extended\": C\n",
    "}]\n",
    "res = check(what=\"clusterfinder\", \n",
    "            filename=\"../training/initial_models/model_E.pkl\", \n",
    "            dataset=\"digits\",\n",
    "            params=params,\n",
    "            folder='out',\n",
    "            batch_size=3000)"
   ]
  },
  {
   "cell_type": "code",
   "execution_count": null,
   "metadata": {
    "collapsed": false
   },
   "outputs": [],
   "source": [
    "res.keys()"
   ]
  },
  {
   "cell_type": "code",
   "execution_count": null,
   "metadata": {
    "collapsed": false
   },
   "outputs": [],
   "source": [
    "plt.hist(res['code_extended'].flatten(), alpha=0.5)\n",
    "plt.hist(res_iccc['code_extended'].flatten(), alpha=0.5)"
   ]
  },
  {
   "cell_type": "code",
   "execution_count": null,
   "metadata": {
    "collapsed": false
   },
   "outputs": [],
   "source": [
    "print(res['code_2d'].sum())\n",
    "print(res_iccc['code_2d'].sum())"
   ]
  },
  {
   "cell_type": "code",
   "execution_count": null,
   "metadata": {
    "collapsed": false
   },
   "outputs": [],
   "source": [
    "code_2d = res['code_2d']\n",
    "categories = res['categories']\n",
    "ss = np.arange(code_2d.shape[0])\n",
    "code_2d = code_2d[ss]\n",
    "categories = categories[ss]"
   ]
  },
  {
   "cell_type": "code",
   "execution_count": null,
   "metadata": {
    "collapsed": true
   },
   "outputs": [],
   "source": [
    "code_2d = res_iccc['code_2d']\n",
    "categories = res_iccc['categories']\n",
    "ss = np.arange(code_2d.shape[0])\n",
    "code_2d = code_2d[ss]\n",
    "categories = categories[ss]"
   ]
  },
  {
   "cell_type": "code",
   "execution_count": null,
   "metadata": {
    "collapsed": false
   },
   "outputs": [],
   "source": [
    "fig = plt.figure(figsize=(20, 20))\n",
    "\n",
    "colors = [\n",
    "    'r',\n",
    "    'b',\n",
    "    'g',\n",
    "    'crimson',\n",
    "    'gold',\n",
    "    'yellow',\n",
    "    'maroon',\n",
    "    'm',\n",
    "    'c',\n",
    "    'orange'\n",
    "]\n",
    "g = categories >= 0\n",
    "for cat in range(0, 10):\n",
    "    g = categories == cat\n",
    "    plt.scatter(code_2d[g, 0], code_2d[g, 1], \n",
    "                marker='+', c=colors[cat], s=40, alpha=0.7, \n",
    "                label=\"digit {}\".format(cat))\n",
    "g = categories < 0\n",
    "plt.scatter(code_2d[g, 0], code_2d[g, 1], marker='+', \n",
    "            c='gray', s=30)\n",
    "plt.legend(fontsize=25)\n",
    "\n",
    "plt.show()"
   ]
  },
  {
   "cell_type": "markdown",
   "metadata": {},
   "source": [
    "## reproducing ICCC tsne plot"
   ]
  },
  {
   "cell_type": "code",
   "execution_count": 2,
   "metadata": {
    "collapsed": false
   },
   "outputs": [],
   "source": [
    "from sklearn.manifold import TSNE\n",
    "import pickle\n",
    "dt = pickle.load(open(\"../figs/tsnesate\"))\n",
    "res  = dt[\"res\"]"
   ]
  },
  {
   "cell_type": "code",
   "execution_count": 3,
   "metadata": {
    "collapsed": true
   },
   "outputs": [],
   "source": [
    "code_2d = res['code_2d']\n",
    "categories = res['categories']\n",
    "ss = np.arange(code_2d.shape[0])\n",
    "#ss = np.random.choice(np.arange(code_2d.shape[0]), size=4000, replace=False)\n",
    "\n",
    "code_2d = code_2d[ss]\n",
    "categories = categories[ss]\n"
   ]
  },
  {
   "cell_type": "code",
   "execution_count": null,
   "metadata": {
    "collapsed": false
   },
   "outputs": [],
   "source": [
    "np.random.seed(2)\n",
    "np.random.choice(np.arange(154150), size=3000, replace=False)\n",
    "clus = algo(n_clusters=nb_clusters, verbose=0, n_jobs=40, n_init=30)\n",
    "sne = TSNE(verbose=1, n_components=2, perplexity=15, early_exaggeration=20)\n",
    "code_2d = sne.fit_transform(res['code_extended'])\n",
    "categories = res['categories']"
   ]
  },
  {
   "cell_type": "code",
   "execution_count": null,
   "metadata": {
    "collapsed": false
   },
   "outputs": [],
   "source": [
    "%matplotlib inline\n",
    "#%matplotlib nbagg\n",
    "\n",
    "import matplotlib.pyplot as plt\n",
    "\n",
    "fig = plt.figure(figsize=(20, 20))\n",
    "\n",
    "colors = [\n",
    "    'r',\n",
    "    'b',\n",
    "    'g',\n",
    "    'crimson',\n",
    "    'gold',\n",
    "    'yellow',\n",
    "    'maroon',\n",
    "    'm',\n",
    "    'c',\n",
    "    'orange'\n",
    "]\n",
    "g = categories >= 0\n",
    "for cat in range(0, 10):\n",
    "    g = categories == cat\n",
    "    plt.scatter(code_2d[g, 0], code_2d[g, 1], \n",
    "                marker='+', c=colors[cat], s=40, alpha=0.7, \n",
    "                label=\"digit {}\".format(cat))\n",
    "g = categories < 0\n",
    "plt.scatter(code_2d[g, 0], code_2d[g, 1], marker='+', \n",
    "            c='gray', s=30)\n",
    "plt.legend(fontsize=25)\n",
    "plt.show()"
   ]
  },
  {
   "cell_type": "markdown",
   "metadata": {},
   "source": [
    "## New plots"
   ]
  },
  {
   "cell_type": "code",
   "execution_count": 4,
   "metadata": {
    "collapsed": false
   },
   "outputs": [
    {
     "ename": "NameError",
     "evalue": "name 'res_iccc' is not defined",
     "output_type": "error",
     "traceback": [
      "\u001b[1;31m---------------------------------------------------------------------------\u001b[0m",
      "\u001b[1;31mNameError\u001b[0m                                 Traceback (most recent call last)",
      "\u001b[1;32m<ipython-input-4-c7ea3f900ca6>\u001b[0m in \u001b[0;36m<module>\u001b[1;34m()\u001b[0m\n\u001b[1;32m----> 1\u001b[1;33m \u001b[0miccc_images\u001b[0m \u001b[1;33m=\u001b[0m \u001b[0mres_iccc\u001b[0m\u001b[1;33m[\u001b[0m\u001b[1;34m'images_extended'\u001b[0m\u001b[1;33m]\u001b[0m\u001b[1;33m\u001b[0m\u001b[0m\n\u001b[0m\u001b[0;32m      2\u001b[0m \u001b[0miccc_code\u001b[0m \u001b[1;33m=\u001b[0m \u001b[0mres_iccc\u001b[0m\u001b[1;33m[\u001b[0m\u001b[1;34m'code_extended'\u001b[0m\u001b[1;33m]\u001b[0m\u001b[1;33m\u001b[0m\u001b[0m\n",
      "\u001b[1;31mNameError\u001b[0m: name 'res_iccc' is not defined"
     ]
    }
   ],
   "source": [
    "iccc_images = res_iccc['images_extended']\n",
    "iccc_code = res_iccc['code_extended']"
   ]
  },
  {
   "cell_type": "code",
   "execution_count": 6,
   "metadata": {
    "collapsed": true
   },
   "outputs": [],
   "source": [
    "code_2d = res_iccc['code_2d']\n",
    "categories = res_iccc['categories']"
   ]
  },
  {
   "cell_type": "code",
   "execution_count": null,
   "metadata": {
    "collapsed": false
   },
   "outputs": [],
   "source": [
    "np.random.seed(2)\n",
    "sne = TSNE(verbose=1, n_components=2, perplexity=15, early_exaggeration=20)\n",
    "#code_2d = sne.fit_transform(iccc_images.reshape((iccc_images.shape[0], -1)))\n",
    "code_2d = sne.fit_transform(iccc_code[0:3000])\n",
    "categories = res_iccc['categories']"
   ]
  },
  {
   "cell_type": "code",
   "execution_count": null,
   "metadata": {
    "collapsed": true
   },
   "outputs": [],
   "source": [
    "code_2d = (code_2d - code_2d.mean(axis=0, keepdims=True)) / (code_2d.std(axis=0, keepdims=True))"
   ]
  },
  {
   "cell_type": "code",
   "execution_count": null,
   "metadata": {
    "collapsed": false
   },
   "outputs": [],
   "source": [
    "fig = plt.figure(figsize=(20, 20))\n",
    "\n",
    "colors = [\n",
    "    'r',\n",
    "    'b',\n",
    "    'g',\n",
    "    'crimson',\n",
    "    'gold',\n",
    "    'yellow',\n",
    "    'maroon',\n",
    "    'm',\n",
    "    'c',\n",
    "    'orange'\n",
    "]\n",
    "plot_dataset = False\n",
    "if plot_dataset:\n",
    "    g = categories >= 0\n",
    "    for cat in range(0, 10):\n",
    "        g = categories == cat\n",
    "        plt.scatter(code_2d[g, 0], code_2d[g, 1], \n",
    "                    marker='+', c=colors[cat], s=40, alpha=0.7, \n",
    "                    label=\"digit {}\".format(cat))\n",
    "g = categories < 0\n",
    "plt.scatter(code_2d[g, 0], code_2d[g, 1], marker='+', \n",
    "            c='gray', s=30)\n",
    "plt.legend(fontsize=25)\n",
    "\n",
    "plt.show()"
   ]
  },
  {
   "cell_type": "code",
   "execution_count": null,
   "metadata": {
    "collapsed": false
   },
   "outputs": [],
   "source": [
    "from lightjob.cli import load_db\n",
    "from skimage.io import imread\n",
    "import pandas as pd\n",
    "db = load_db()\n",
    "\n",
    "J = db.jobs_with(state='success', type='generation', summary='ea6c0263ed13568ce65343d34bb7bdca')\n",
    "for j in J:\n",
    "    id_ = j['summary']\n",
    "    jref_s = j['content']['model_summary']\n",
    "    jref = db.get_job_by_summary(jref_s)\n",
    "    filename = 'jobs/results/{}/tsne_latent.csv'.format(id_)\n",
    "    if not os.path.exists(filename):\n",
    "        continue\n",
    "    img_filename = 'jobs/results/{}/final1000.png'.format(id_)\n",
    "    if not os.path.exists(img_filename):\n",
    "        continue\n",
    "    img_content = imread(img_filename)\n",
    "    data = pd.read_csv(filename)\n",
    "    fig = plt.figure(figsize=(20, 30))\n",
    "    plt.subplot(2, 1, 1)\n",
    "    plt.scatter(data[\"x\"], data[\"y\"], marker='+', cmap='gray')\n",
    "    plt.title(id_+'/'+jref_s)\n",
    "    plt.subplot(2, 1, 2)\n",
    "    plt.imshow(img_content, cmap='gray')\n",
    "    plt.title(id_+'/'+jref_s)\n",
    "    plt.savefig('figs/tsne/{}.png'.format(id_))\n",
    "    plt.show()\n",
    "    plt.close(fig)"
   ]
  },
  {
   "cell_type": "markdown",
   "metadata": {},
   "source": [
    "## save ICCC results as a fake job"
   ]
  },
  {
   "cell_type": "code",
   "execution_count": 7,
   "metadata": {
    "collapsed": false
   },
   "outputs": [
    {
     "name": "stderr",
     "output_type": "stream",
     "text": [
      "/home/mcherti/miniconda/envs/databoard-env/lib/python2.7/site-packages/skimage/util/dtype.py:111: UserWarning: Possible precision loss when converting from float32 to uint16\n",
      "  \"%s to %s\" % (dtypeobj_in, dtypeobj))\n"
     ]
    }
   ],
   "source": [
    "from skimage.io import imsave\n",
    "i = 0\n",
    "for x in  res_iccc['images_extended'][0:6000]:\n",
    "    imsave('../jobs/results/iccc/final/{:06d}.png'.format(i), x[0])\n",
    "    i += 1"
   ]
  },
  {
   "cell_type": "code",
   "execution_count": 9,
   "metadata": {
    "collapsed": false
   },
   "outputs": [],
   "source": [
    "import pandas as pd\n",
    "df = pd.DataFrame({\"x\": res_iccc['code_2d'][:, 0],\n",
    "                   \"y\": res_iccc['code_2d'][:, 1]})\n",
    "\n",
    "df.to_csv(\"../jobs/results/iccc/tsne_input.csv\")"
   ]
  }
 ],
 "metadata": {
  "kernelspec": {
   "display_name": "Python 2",
   "language": "python",
   "name": "python2"
  },
  "language_info": {
   "codemirror_mode": {
    "name": "ipython",
    "version": 2
   },
   "file_extension": ".py",
   "mimetype": "text/x-python",
   "name": "python",
   "nbconvert_exporter": "python",
   "pygments_lexer": "ipython2",
   "version": "2.7.11"
  }
 },
 "nbformat": 4,
 "nbformat_minor": 0
}
