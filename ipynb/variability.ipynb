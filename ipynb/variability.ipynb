{
 "cells": [
  {
   "cell_type": "code",
   "execution_count": 35,
   "metadata": {
    "collapsed": false
   },
   "outputs": [
    {
     "data": {
      "text/html": [
       "<div>\n",
       "<table border=\"1\" class=\"dataframe\">\n",
       "  <thead>\n",
       "    <tr style=\"text-align: right;\">\n",
       "      <th></th>\n",
       "      <th>out_objectness</th>\n",
       "      <th>out_count</th>\n",
       "      <th>out_max</th>\n",
       "      <th>in_objectness</th>\n",
       "      <th>in_count</th>\n",
       "      <th>in_max</th>\n",
       "    </tr>\n",
       "  </thead>\n",
       "  <tbody>\n",
       "    <tr>\n",
       "      <th>1278</th>\n",
       "      <td>10.007165</td>\n",
       "      <td>0.207055</td>\n",
       "      <td>0.415434</td>\n",
       "      <td>6.495048</td>\n",
       "      <td>0.641023</td>\n",
       "      <td>0.784607</td>\n",
       "    </tr>\n",
       "    <tr>\n",
       "      <th>1279</th>\n",
       "      <td>8.097954</td>\n",
       "      <td>0.170097</td>\n",
       "      <td>0.352170</td>\n",
       "      <td>6.468737</td>\n",
       "      <td>0.686450</td>\n",
       "      <td>0.858010</td>\n",
       "    </tr>\n",
       "    <tr>\n",
       "      <th>1280</th>\n",
       "      <td>10.256888</td>\n",
       "      <td>0.183860</td>\n",
       "      <td>0.345295</td>\n",
       "      <td>6.010072</td>\n",
       "      <td>0.696991</td>\n",
       "      <td>0.847884</td>\n",
       "    </tr>\n",
       "    <tr>\n",
       "      <th>1281</th>\n",
       "      <td>7.976266</td>\n",
       "      <td>0.000500</td>\n",
       "      <td>0.348898</td>\n",
       "      <td>6.565222</td>\n",
       "      <td>0.704502</td>\n",
       "      <td>0.863425</td>\n",
       "    </tr>\n",
       "    <tr>\n",
       "      <th>1282</th>\n",
       "      <td>8.967206</td>\n",
       "      <td>0.072145</td>\n",
       "      <td>0.340641</td>\n",
       "      <td>5.588778</td>\n",
       "      <td>0.660073</td>\n",
       "      <td>0.835794</td>\n",
       "    </tr>\n",
       "    <tr>\n",
       "      <th>1283</th>\n",
       "      <td>7.646980</td>\n",
       "      <td>0.204166</td>\n",
       "      <td>0.357078</td>\n",
       "      <td>5.838506</td>\n",
       "      <td>0.650159</td>\n",
       "      <td>0.818818</td>\n",
       "    </tr>\n",
       "    <tr>\n",
       "      <th>1284</th>\n",
       "      <td>8.802168</td>\n",
       "      <td>0.161560</td>\n",
       "      <td>0.344439</td>\n",
       "      <td>5.174812</td>\n",
       "      <td>0.637351</td>\n",
       "      <td>0.803214</td>\n",
       "    </tr>\n",
       "    <tr>\n",
       "      <th>1285</th>\n",
       "      <td>7.216638</td>\n",
       "      <td>0.000500</td>\n",
       "      <td>0.327099</td>\n",
       "      <td>4.800516</td>\n",
       "      <td>0.628295</td>\n",
       "      <td>0.808452</td>\n",
       "    </tr>\n",
       "    <tr>\n",
       "      <th>1286</th>\n",
       "      <td>6.175016</td>\n",
       "      <td>0.092874</td>\n",
       "      <td>0.304868</td>\n",
       "      <td>5.190268</td>\n",
       "      <td>0.655357</td>\n",
       "      <td>0.820567</td>\n",
       "    </tr>\n",
       "    <tr>\n",
       "      <th>1287</th>\n",
       "      <td>5.246849</td>\n",
       "      <td>0.000000</td>\n",
       "      <td>0.270566</td>\n",
       "      <td>4.246353</td>\n",
       "      <td>0.636583</td>\n",
       "      <td>0.791715</td>\n",
       "    </tr>\n",
       "    <tr>\n",
       "      <th>1288</th>\n",
       "      <td>7.766043</td>\n",
       "      <td>0.107373</td>\n",
       "      <td>0.298640</td>\n",
       "      <td>4.972953</td>\n",
       "      <td>0.645753</td>\n",
       "      <td>0.811318</td>\n",
       "    </tr>\n",
       "    <tr>\n",
       "      <th>1289</th>\n",
       "      <td>9.944946</td>\n",
       "      <td>0.204478</td>\n",
       "      <td>0.416399</td>\n",
       "      <td>6.676975</td>\n",
       "      <td>0.666075</td>\n",
       "      <td>0.781500</td>\n",
       "    </tr>\n",
       "    <tr>\n",
       "      <th>1290</th>\n",
       "      <td>5.667491</td>\n",
       "      <td>0.000000</td>\n",
       "      <td>0.288406</td>\n",
       "      <td>5.570264</td>\n",
       "      <td>0.709302</td>\n",
       "      <td>0.848870</td>\n",
       "    </tr>\n",
       "    <tr>\n",
       "      <th>1291</th>\n",
       "      <td>8.420851</td>\n",
       "      <td>0.190942</td>\n",
       "      <td>0.354995</td>\n",
       "      <td>5.643589</td>\n",
       "      <td>0.666121</td>\n",
       "      <td>0.824868</td>\n",
       "    </tr>\n",
       "    <tr>\n",
       "      <th>1292</th>\n",
       "      <td>9.666564</td>\n",
       "      <td>0.161560</td>\n",
       "      <td>0.370952</td>\n",
       "      <td>6.177319</td>\n",
       "      <td>0.679599</td>\n",
       "      <td>0.836706</td>\n",
       "    </tr>\n",
       "    <tr>\n",
       "      <th>1293</th>\n",
       "      <td>6.300252</td>\n",
       "      <td>0.003000</td>\n",
       "      <td>0.244841</td>\n",
       "      <td>3.987926</td>\n",
       "      <td>0.546819</td>\n",
       "      <td>0.720317</td>\n",
       "    </tr>\n",
       "    <tr>\n",
       "      <th>1294</th>\n",
       "      <td>10.142353</td>\n",
       "      <td>0.321928</td>\n",
       "      <td>0.422888</td>\n",
       "      <td>6.042046</td>\n",
       "      <td>0.623176</td>\n",
       "      <td>0.805666</td>\n",
       "    </tr>\n",
       "    <tr>\n",
       "      <th>1295</th>\n",
       "      <td>9.382396</td>\n",
       "      <td>0.002500</td>\n",
       "      <td>0.334482</td>\n",
       "      <td>5.455009</td>\n",
       "      <td>0.661771</td>\n",
       "      <td>0.826382</td>\n",
       "    </tr>\n",
       "    <tr>\n",
       "      <th>1296</th>\n",
       "      <td>9.973968</td>\n",
       "      <td>0.238219</td>\n",
       "      <td>0.378751</td>\n",
       "      <td>5.911969</td>\n",
       "      <td>0.666969</td>\n",
       "      <td>0.828497</td>\n",
       "    </tr>\n",
       "    <tr>\n",
       "      <th>1297</th>\n",
       "      <td>7.017452</td>\n",
       "      <td>0.000500</td>\n",
       "      <td>0.300999</td>\n",
       "      <td>5.031355</td>\n",
       "      <td>0.639837</td>\n",
       "      <td>0.803277</td>\n",
       "    </tr>\n",
       "  </tbody>\n",
       "</table>\n",
       "</div>"
      ],
      "text/plain": [
       "      out_objectness  out_count   out_max  in_objectness  in_count    in_max\n",
       "1278       10.007165   0.207055  0.415434       6.495048  0.641023  0.784607\n",
       "1279        8.097954   0.170097  0.352170       6.468737  0.686450  0.858010\n",
       "1280       10.256888   0.183860  0.345295       6.010072  0.696991  0.847884\n",
       "1281        7.976266   0.000500  0.348898       6.565222  0.704502  0.863425\n",
       "1282        8.967206   0.072145  0.340641       5.588778  0.660073  0.835794\n",
       "1283        7.646980   0.204166  0.357078       5.838506  0.650159  0.818818\n",
       "1284        8.802168   0.161560  0.344439       5.174812  0.637351  0.803214\n",
       "1285        7.216638   0.000500  0.327099       4.800516  0.628295  0.808452\n",
       "1286        6.175016   0.092874  0.304868       5.190268  0.655357  0.820567\n",
       "1287        5.246849   0.000000  0.270566       4.246353  0.636583  0.791715\n",
       "1288        7.766043   0.107373  0.298640       4.972953  0.645753  0.811318\n",
       "1289        9.944946   0.204478  0.416399       6.676975  0.666075  0.781500\n",
       "1290        5.667491   0.000000  0.288406       5.570264  0.709302  0.848870\n",
       "1291        8.420851   0.190942  0.354995       5.643589  0.666121  0.824868\n",
       "1292        9.666564   0.161560  0.370952       6.177319  0.679599  0.836706\n",
       "1293        6.300252   0.003000  0.244841       3.987926  0.546819  0.720317\n",
       "1294       10.142353   0.321928  0.422888       6.042046  0.623176  0.805666\n",
       "1295        9.382396   0.002500  0.334482       5.455009  0.661771  0.826382\n",
       "1296        9.973968   0.238219  0.378751       5.911969  0.666969  0.828497\n",
       "1297        7.017452   0.000500  0.300999       5.031355  0.639837  0.803277"
      ]
     },
     "execution_count": 35,
     "metadata": {},
     "output_type": "execute_result"
    }
   ],
   "source": [
    "import pandas as pd\n",
    "output_cols = [\n",
    "    'out_objectness', \n",
    "    'out_count', \n",
    "    'out_max',\n",
    "    'in_objectness', \n",
    "    'in_count', \n",
    "    'in_max'\n",
    "]\n",
    "df = pd.read_csv('hypers.csv', index_col=0)\n",
    "df[df['jobset'] == 'jobset87'][output_cols]"
   ]
  },
  {
   "cell_type": "code",
   "execution_count": 36,
   "metadata": {
    "collapsed": false
   },
   "outputs": [
    {
     "data": {
      "text/html": [
       "<div>\n",
       "<table border=\"1\" class=\"dataframe\">\n",
       "  <thead>\n",
       "    <tr style=\"text-align: right;\">\n",
       "      <th></th>\n",
       "      <th>out_objectness</th>\n",
       "      <th>out_count</th>\n",
       "      <th>out_max</th>\n",
       "      <th>in_objectness</th>\n",
       "      <th>in_count</th>\n",
       "      <th>in_max</th>\n",
       "    </tr>\n",
       "  </thead>\n",
       "  <tbody>\n",
       "    <tr>\n",
       "      <th>635</th>\n",
       "      <td>11.122325</td>\n",
       "      <td>0.403535</td>\n",
       "      <td>0.54233</td>\n",
       "      <td>6.693773</td>\n",
       "      <td>0.600292</td>\n",
       "      <td>0.727722</td>\n",
       "    </tr>\n",
       "  </tbody>\n",
       "</table>\n",
       "</div>"
      ],
      "text/plain": [
       "     out_objectness  out_count  out_max  in_objectness  in_count    in_max\n",
       "635       11.122325   0.403535  0.54233       6.693773  0.600292  0.727722"
      ]
     },
     "execution_count": 36,
     "metadata": {},
     "output_type": "execute_result"
    }
   ],
   "source": [
    "## Original scores\n",
    "df[df['id'] == '517302ec5da070804fd729e9bd44fdc8'][output_cols]"
   ]
  },
  {
   "cell_type": "code",
   "execution_count": 37,
   "metadata": {
    "collapsed": false
   },
   "outputs": [
    {
     "data": {
      "text/plain": [
       "(3.7734837372675711, 2.7025991058893246)"
      ]
     },
     "execution_count": 37,
     "metadata": {},
     "output_type": "execute_result"
    }
   ],
   "source": [
    "20 * df['out_count'].mean(), 20 * df['out_count'].std()"
   ]
  },
  {
   "cell_type": "code",
   "execution_count": 38,
   "metadata": {
    "collapsed": false
   },
   "outputs": [
    {
     "data": {
      "text/plain": [
       "(5.8550288290895454, 2.6896797444274383)"
      ]
     },
     "execution_count": 38,
     "metadata": {},
     "output_type": "execute_result"
    }
   ],
   "source": [
    "df['out_objectness'].mean(), df['out_objectness'].std()"
   ]
  },
  {
   "cell_type": "code",
   "execution_count": null,
   "metadata": {
    "collapsed": true
   },
   "outputs": [],
   "source": []
  }
 ],
 "metadata": {
  "kernelspec": {
   "display_name": "Python 3",
   "language": "python",
   "name": "python3"
  },
  "language_info": {
   "codemirror_mode": {
    "name": "ipython",
    "version": 3
   },
   "file_extension": ".py",
   "mimetype": "text/x-python",
   "name": "python",
   "nbconvert_exporter": "python",
   "pygments_lexer": "ipython3",
   "version": "3.5.1"
  }
 },
 "nbformat": 4,
 "nbformat_minor": 0
}
