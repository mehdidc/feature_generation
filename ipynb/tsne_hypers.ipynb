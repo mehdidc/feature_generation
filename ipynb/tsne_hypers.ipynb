{
 "cells": [
  {
   "cell_type": "code",
   "execution_count": null,
   "metadata": {
    "collapsed": true
   },
   "outputs": [],
   "source": [
    "def sample():\n",
    "    rng = np.random\n",
    "    pt = dict(\n",
    "        n_components=2,\n",
    "        perplexity=rng.choice((2, 5, 10, 30, 50, 100)),\n",
    "        early_exaggeration=rng.randint(1, 10),\n",
    "        learning_rate=rng.randint(100, 1000), \n",
    "        n_iter=5000,\n",
    "        n_iter_without_progress=500, \n",
    "        min_grad_norm=0, \n",
    "        metric='euclidean', \n",
    "        init=rng.choice(('pca', 'random')),\n",
    "        verbose=0, \n",
    "        random_state=None,\n",
    "        method='barnes_hut', \n",
    "        angle=0.5\n",
    "    )\n",
    "    return pt\n",
    "\n",
    "def run(pt):\n",
    "    points_ = points.reshape((points.shape[0], -1))\n",
    "    return TSNE(**pt).fit(points_)\n",
    "\n",
    "jobs = [sample() for _ in range(100)]\n",
    "models = Parallel(n_jobs=10, verbose=1)(delayed(run)(j) for j in jobs)\n",
    "kl = map(lambda m:m.kl_divergence_, models)"
   ]
  },
  {
   "cell_type": "code",
   "execution_count": null,
   "metadata": {
    "collapsed": true
   },
   "outputs": [],
   "source": [
    "from collections import defaultdict\n",
    "perplexities = defaultdict(list)\n",
    "for m in models:\n",
    "    perplexities[m.perplexity].append(m)\n",
    "fig, ax = plt.subplots(1, len(perplexities), figsize=(25, 5))\n",
    "i = 0\n",
    "for perp in sorted(perplexities.keys()):\n",
    "    tsne = min(perplexities.get(perp), key=lambda model:model.kl_divergence_)\n",
    "    embedding = tsne.embedding_\n",
    "    ax[i].scatter(embedding[:, 0], embedding[:, 1])\n",
    "    ax[i].set_title('perplexity {}'.format(perp))\n",
    "    i += 1\n",
    "plt.show()"
   ]
  },
  {
   "cell_type": "code",
   "execution_count": null,
   "metadata": {
    "collapsed": true
   },
   "outputs": [],
   "source": [
    "tsne = min(perplexities[10], key=lambda m:m.kl_divergence_)\n",
    "embedding = tsne.embedding_"
   ]
  },
  {
   "cell_type": "code",
   "execution_count": null,
   "metadata": {
    "collapsed": true
   },
   "outputs": [],
   "source": [
    "from tools.viz.image_scatter import image_scatter\n",
    "pts = points.reshape((points.shape[0], 28, 28)).copy()\n",
    "pts = pts[:, :, :, None] * np.ones((1, 1, 1, 3))\n",
    "pts[0:10, :, :, 1:]=0\n",
    "img = image_scatter(embedding, pts, 20, 500)\n",
    "imsave('imgs/out.png', img)\n",
    "Image('imgs/out.png')"
   ]
  }
 ],
 "metadata": {
  "kernelspec": {
   "display_name": "Python 2",
   "language": "python",
   "name": "python2"
  },
  "language_info": {
   "codemirror_mode": {
    "name": "ipython",
    "version": 2
   },
   "file_extension": ".py",
   "mimetype": "text/x-python",
   "name": "python",
   "nbconvert_exporter": "python",
   "pygments_lexer": "ipython2",
   "version": "2.7.12"
  }
 },
 "nbformat": 4,
 "nbformat_minor": 0
}
