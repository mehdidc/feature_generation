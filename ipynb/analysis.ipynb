{
 "cells": [
  {
   "cell_type": "code",
   "execution_count": null,
   "metadata": {
    "collapsed": false
   },
   "outputs": [],
   "source": [
    "from lightjob.db import SUCCESS, RUNNING, Dataset\n",
    "import pandas as pd\n",
    "\n",
    "from scipy.stats import skew\n",
    "import os\n",
    "\n",
    "import numpy as np\n",
    "from collections import defaultdict\n",
    "from bokeh.models import HoverTool, BoxSelectTool\n",
    "\n",
    "from bokeh.charts import Scatter, show, Histogram, Bar\n",
    "from bokeh.charts import color, marker\n",
    "\n",
    "from bokeh.io import output_notebook\n",
    "from bokeh.plotting import figure, output_file, show, ColumnDataSource\n",
    "\n",
    "from skimage.io import imread\n",
    "%matplotlib inline\n",
    "import matplotlib.pyplot as plt\n",
    "\n",
    "DB = Dataset\n",
    "output_notebook()"
   ]
  },
  {
   "cell_type": "code",
   "execution_count": null,
   "metadata": {
    "collapsed": true
   },
   "outputs": [],
   "source": [
    "filename = '../.lightjob/'"
   ]
  },
  {
   "cell_type": "code",
   "execution_count": null,
   "metadata": {
    "collapsed": false
   },
   "outputs": [],
   "source": [
    "db = DB()\n",
    "db.load(filename)\n",
    "\n",
    "default_stats_list = [\n",
    "    u'intdim_mle',\n",
    "    u'skew',\n",
    "    u'clusdiversity',\n",
    "    u'multiplecorrelation',\n",
    "    u'var',\n",
    "    u'mean',\n",
    "    u'convergence_speed',\n",
    "    'contractive_coef',\n",
    "]\n",
    "\n",
    "def extract_data(where, stats_list=default_stats_list):\n",
    "    stats = defaultdict(list)\n",
    "    for j in db.jobs_with(state=SUCCESS, type='generation'):\n",
    "        content = j['content']\n",
    "        s = content['model_summary']\n",
    "        jref = db.get_job_by_summary(s)\n",
    "        if jref['where'] != where:\n",
    "            continue\n",
    "        if \"stats\" not in j:\n",
    "            continue\n",
    "        d = j['stats']\n",
    "        if d is None:\n",
    "            continue\n",
    "        for k in stats_list:\n",
    "            if k in d:\n",
    "                stats[k].append(d[k])\n",
    "            elif k in jref['content']:\n",
    "                stats[k].append(jref['content'][k])\n",
    "            elif k in jref['content']['model_params']:\n",
    "                stats[k].append(jref['content']['model_params'][k])\n",
    "\n",
    "        stats['id'].append(j['summary'])\n",
    "        stats['jref'].append(jref['summary'])\n",
    "    return stats"
   ]
  },
  {
   "cell_type": "markdown",
   "metadata": {},
   "source": [
    "# Varying Contraction (jobset5)"
   ]
  },
  {
   "cell_type": "code",
   "execution_count": null,
   "metadata": {
    "collapsed": false
   },
   "outputs": [],
   "source": [
    "stats = extract_data('jobset5')\n",
    "stats = pd.DataFrame(stats)"
   ]
  },
  {
   "cell_type": "code",
   "execution_count": null,
   "metadata": {
    "collapsed": false
   },
   "outputs": [],
   "source": [
    "stat_name = 'contractive_coef'"
   ]
  },
  {
   "cell_type": "code",
   "execution_count": null,
   "metadata": {
    "collapsed": false
   },
   "outputs": [],
   "source": [
    "fig = Scatter(x=stat_name, y='mean', data=stats)\n",
    "show(fig)"
   ]
  },
  {
   "cell_type": "code",
   "execution_count": null,
   "metadata": {
    "collapsed": false
   },
   "outputs": [],
   "source": [
    "fig = Scatter(x=stat_name, y='var', data=stats)\n",
    "show(fig)"
   ]
  },
  {
   "cell_type": "code",
   "execution_count": null,
   "metadata": {
    "collapsed": false
   },
   "outputs": [],
   "source": [
    "fig = Scatter(x=stat_name, y='skew', data=stats)\n",
    "show(fig)"
   ]
  },
  {
   "cell_type": "code",
   "execution_count": null,
   "metadata": {
    "collapsed": false
   },
   "outputs": [],
   "source": [
    "fig = Histogram(stats, stat_name)\n",
    "show(fig)"
   ]
  },
  {
   "cell_type": "code",
   "execution_count": null,
   "metadata": {
    "collapsed": false
   },
   "outputs": [],
   "source": [
    "fig = Scatter(x=stat_name, y='multiplecorrelation', data=stats)\n",
    "show(fig)"
   ]
  },
  {
   "cell_type": "code",
   "execution_count": null,
   "metadata": {
    "collapsed": false
   },
   "outputs": [],
   "source": [
    "fig = Scatter(x=stat_name, y='clusdiversity', data=stats)\n",
    "show(fig)"
   ]
  },
  {
   "cell_type": "code",
   "execution_count": null,
   "metadata": {
    "collapsed": false
   },
   "outputs": [],
   "source": [
    "fig = Scatter(x=stat_name, y='intdim_mle', data=stats)\n",
    "show(fig)"
   ]
  },
  {
   "cell_type": "code",
   "execution_count": null,
   "metadata": {
    "collapsed": false
   },
   "outputs": [],
   "source": [
    "stats['log_convergence_speed'] = stats['convergence_speed']\n",
    "hover = HoverTool()\n",
    "hover.tooltips = [\n",
    "    (\"index\", \"$index\"),\n",
    "    (\"(x,y)\", \"($x, $y)\"),\n",
    "    (\"id\", \"@id\"),\n",
    "]\n",
    "\n",
    "p = figure( tools=[BoxSelectTool(), hover])\n",
    "p.circle(x=stat_name, y='convergence_speed', source=ColumnDataSource(stats))\n",
    "#fig = Scatter(x=stat_name, y='convergence_speed', data=ColumnDataSource(stats), tools=[BoxSelectTool(), hover])\n",
    "#show(fig)\n",
    "p.xaxis.axis_label = stat_name\n",
    "p.yaxis.axis_label = 'convergence_speed'\n",
    "show(p)"
   ]
  },
  {
   "cell_type": "markdown",
   "metadata": {
    "collapsed": true
   },
   "source": [
    "# Walkback (jobset17)"
   ]
  },
  {
   "cell_type": "code",
   "execution_count": null,
   "metadata": {
    "collapsed": false
   },
   "outputs": [],
   "source": [
    "stats = extract_data('jobset17', stats_list=default_stats_list+['denoise'])\n",
    "stats = pd.DataFrame(stats)\n",
    "print(stats.columns)"
   ]
  },
  {
   "cell_type": "code",
   "execution_count": null,
   "metadata": {
    "collapsed": false
   },
   "outputs": [],
   "source": [
    "fig = Scatter(x='denoise', y='intdim_mle', data=stats)\n",
    "show(fig)"
   ]
  },
  {
   "cell_type": "markdown",
   "metadata": {},
   "source": [
    "## nb of layers and nb of units (jobset19)"
   ]
  },
  {
   "cell_type": "markdown",
   "metadata": {},
   "source": [
    "### jobset19 =   Exploring params of denoising with hidden layers and nb of hidden units"
   ]
  },
  {
   "cell_type": "code",
   "execution_count": null,
   "metadata": {
    "collapsed": false
   },
   "outputs": [],
   "source": [
    "stats = extract_data('jobset19', stats_list=default_stats_list+['nb_hidden_units', 'nb_layers'])\n",
    "stats = pd.DataFrame(stats)\n",
    "print(stats.columns)"
   ]
  },
  {
   "cell_type": "code",
   "execution_count": null,
   "metadata": {
    "collapsed": false
   },
   "outputs": [],
   "source": [
    "fig = Scatter(x='nb_layers', \n",
    "              y='clusdiversity', \n",
    "              data=stats, \n",
    "              legend='top_right')\n",
    "show(fig)"
   ]
  },
  {
   "cell_type": "markdown",
   "metadata": {},
   "source": [
    "## nb of units and denoise (jobset20) "
   ]
  },
  {
   "cell_type": "code",
   "execution_count": null,
   "metadata": {
    "collapsed": false
   },
   "outputs": [],
   "source": [
    "stats = extract_data('jobset20', default_stats_list + ['nb_hidden_units', 'denoise'])\n",
    "stats = pd.DataFrame(stats)"
   ]
  },
  {
   "cell_type": "code",
   "execution_count": null,
   "metadata": {
    "collapsed": false
   },
   "outputs": [],
   "source": [
    "denoise_vals = list(set(stats['denoise']))\n",
    "s = (stats['denoise'] == denoise_vals[2])\n",
    "fig = Scatter(x='nb_hidden_units', \n",
    "              y='clusdiversity', \n",
    "              data=stats[s])\n",
    "show(fig)"
   ]
  },
  {
   "cell_type": "code",
   "execution_count": null,
   "metadata": {
    "collapsed": false
   },
   "outputs": [],
   "source": [
    "import seaborn as sns\n",
    "import matplotlib.pyplot as plt\n",
    "from bokeh import mpl\n",
    "sns.set(style=\"darkgrid\")\n",
    "g = sns.FacetGrid(stats, row=\"denoise\", aspect=3)\n",
    "g = (g.map(plt.scatter, \"nb_hidden_units\", \"multiplecorrelation\", edgecolor=\"w\"))\n",
    "plt.show()"
   ]
  },
  {
   "cell_type": "markdown",
   "metadata": {},
   "source": [
    "## jobset21 ( Exploring nb of filters around the best conv archi found in jobset1 (checkeed visually))"
   ]
  },
  {
   "cell_type": "code",
   "execution_count": null,
   "metadata": {
    "collapsed": false
   },
   "outputs": [],
   "source": [
    "stats = extract_data('jobset21', default_stats_list + ['nb_layers'])\n",
    "stats = pd.DataFrame(stats)"
   ]
  },
  {
   "cell_type": "code",
   "execution_count": null,
   "metadata": {
    "collapsed": false
   },
   "outputs": [],
   "source": [
    "fig = Scatter(x='nb_layers', \n",
    "              y='clusdiversity', \n",
    "              data=stats)\n",
    "show(fig)"
   ]
  },
  {
   "cell_type": "markdown",
   "metadata": {},
   "source": [
    "## jobset22 (   like jobset20 but with limitation in nb of epochs to obtain exact same result of the 'good' contraction coef case)"
   ]
  },
  {
   "cell_type": "code",
   "execution_count": null,
   "metadata": {
    "collapsed": false
   },
   "outputs": [],
   "source": [
    "stats = extract_data('jobset22', default_stats_list + ['nb_hidden_units'])\n",
    "stats = pd.DataFrame(stats)"
   ]
  },
  {
   "cell_type": "code",
   "execution_count": null,
   "metadata": {
    "collapsed": false
   },
   "outputs": [],
   "source": [
    "print(stats.keys())"
   ]
  },
  {
   "cell_type": "code",
   "execution_count": null,
   "metadata": {
    "collapsed": false
   },
   "outputs": [],
   "source": [
    "fig = Scatter(x='nb_hidden_units', \n",
    "              y='clusdiversity', \n",
    "              data=stats)\n",
    "show(fig)"
   ]
  },
  {
   "cell_type": "markdown",
   "metadata": {},
   "source": [
    "## show tsne of models"
   ]
  },
  {
   "cell_type": "code",
   "execution_count": null,
   "metadata": {
    "collapsed": false
   },
   "outputs": [],
   "source": [
    "stats = extract_data('jobset1',  ['tsne'])"
   ]
  },
  {
   "cell_type": "code",
   "execution_count": null,
   "metadata": {
    "collapsed": false
   },
   "outputs": [],
   "source": [
    "for id_ in stats['id']:\n",
    "    filename = '../jobs/results/{}/tsne_input.csv'.format(id_)\n",
    "    img = '../jobs/results/{}/final1000.png'.format(id_)\n",
    "    if not os.path.exists(filename):\n",
    "        continue\n",
    "    if not os.path.exists(img):\n",
    "        continue\n",
    "    img_content = imread(img)\n",
    "    print(filename)\n",
    "    data = pd.read_csv(filename)\n",
    "    data = data.values\n",
    "    print(data.shape)\n",
    "    fig = plt.figure(figsize=(20, 8))\n",
    "    plt.subplot(1, 2, 1)\n",
    "    plt.scatter(data[:, 1], data[:, 2], marker='+')\n",
    "    plt.subplot(1, 2, 2)\n",
    "    plt.imshow(img_content, cmap='gray')\n",
    "    plt.show()"
   ]
  }
 ],
 "metadata": {
  "kernelspec": {
   "display_name": "Python 2",
   "language": "python",
   "name": "python2"
  },
  "language_info": {
   "codemirror_mode": {
    "name": "ipython",
    "version": 2
   },
   "file_extension": ".py",
   "mimetype": "text/x-python",
   "name": "python",
   "nbconvert_exporter": "python",
   "pygments_lexer": "ipython2",
   "version": "2.7.11"
  }
 },
 "nbformat": 4,
 "nbformat_minor": 0
}
