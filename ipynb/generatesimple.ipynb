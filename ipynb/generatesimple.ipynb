{
 "cells": [
  {
   "cell_type": "code",
   "execution_count": 1,
   "metadata": {
    "collapsed": false
   },
   "outputs": [
    {
     "name": "stdout",
     "output_type": "stream",
     "text": [
      "Couldn't import dot_parser, loading of dot files will not be possible.\n"
     ]
    },
    {
     "name": "stderr",
     "output_type": "stream",
     "text": [
      "/home/mcherti/work/code/external/scikit-learn/sklearn/cross_validation.py:43: DeprecationWarning: This module has been deprecated in favor of the model_selection module into which all the refactored classes and functions are moved. Also note that the interface of the new CV iterators are different from that of this module. This module will be removed in 0.20.\n",
      "  \"This module will be removed in 0.20.\", DeprecationWarning)\n"
     ]
    }
   ],
   "source": [
    "import os\n",
    "import sys\n",
    "os.environ['OMP_NUM_THREADS'] = '1'\n",
    "os.environ['THEANO_FLAGS'] = 'device=cpu,compiledir_format=\"ipynb_cpu\"'\n",
    "sys.path.append(os.getcwd()+\"/..\")\n",
    "import theano.tensor as T\n",
    "import theano\n",
    "import lasagne\n",
    "\n",
    "from tasks import check\n",
    "from lasagne import layers as L\n",
    "\n",
    "from lasagnekit.misc.plot_weights import dispims_color, tile_raster_images\n",
    "import matplotlib.pyplot as plt\n",
    "from skimage.io import imsave\n",
    "\n",
    "from sklearn.decomposition import PCA, IncrementalPCA\n",
    "from sklearn.manifold import TSNE\n",
    "from tqdm import tqdm\n",
    "\n",
    "%matplotlib inline\n",
    "from IPython.display import Image\n",
    "\n",
    "import matplotlib.pyplot as plt\n",
    "from lasagnekit.misc.plot_weights import tile_raster_images\n",
    "import numpy as np\n",
    "from lasagnekit.misc.plot_weights import dispims_color\n",
    "from skimage.io import imsave\n",
    "from helpers import salt_and_pepper\n",
    "import lasagne\n",
    "import pickle\n",
    "from lasagne import layers\n",
    "\n",
    "def load_gan_model(filename):\n",
    "    import dcgan\n",
    "    \n",
    "    data = pickle.load(open(filename))\n",
    "    gen = data['generator']\n",
    "    discr = data['discriminator']\n",
    "    return gen, discr\n",
    "\n",
    "def sample(x):\n",
    "    return (np.random.uniform(size=x.shape) <= x).astype(np.float32)\n",
    "\n",
    "def floatX(x):\n",
    "    return x.astype(np.float32)\n",
    "\n",
    "def iterate_minibatches(inputs, targets, batchsize, shuffle=False):\n",
    "    assert len(inputs) == len(targets)\n",
    "    if shuffle:\n",
    "        indices = np.arange(len(inputs))\n",
    "        np.random.shuffle(indices)\n",
    "    for start_idx in range(0, max(len(inputs) - batchsize + 1, len(inputs)), batchsize):\n",
    "        if shuffle:\n",
    "            excerpt = indices[start_idx:start_idx + batchsize]\n",
    "        else:\n",
    "            excerpt = slice(start_idx, start_idx + batchsize)\n",
    "        yield inputs[excerpt], targets[excerpt]\n",
    "\n",
    "def sigmoid(x):\n",
    "    return 1./(1. + np.exp(-x))\n",
    "\n",
    "from tools.brushstroke.common import to_grid_of_images, disp_grid\n",
    "from tools.brushstroke.common import load_model, get_bias, get_scale\n",
    "from lasagnekit.misc.draw_net import draw_to_file\n",
    "from IPython.display import SVG"
   ]
  },
  {
   "cell_type": "markdown",
   "metadata": {},
   "source": [
    "## load model"
   ]
  },
  {
   "cell_type": "code",
   "execution_count": 2,
   "metadata": {
    "collapsed": false
   },
   "outputs": [
    {
     "name": "stdout",
     "output_type": "stream",
     "text": [
      "{}\n",
      "Loading data...\n"
     ]
    },
    {
     "name": "stderr",
     "output_type": "stream",
     "text": [
      "INFO:tasks:Loading data...\n"
     ]
    },
    {
     "name": "stdout",
     "output_type": "stream",
     "text": [
      "{}\n",
      "{}\n",
      "Loading the model...\n"
     ]
    },
    {
     "name": "stderr",
     "output_type": "stream",
     "text": [
      "INFO:tasks:Loading the model...\n"
     ]
    },
    {
     "name": "stdout",
     "output_type": "stream",
     "text": [
      "{}\n",
      "Compiling the model...\n"
     ]
    },
    {
     "name": "stderr",
     "output_type": "stream",
     "text": [
      "INFO:tasks:Compiling the model...\n"
     ]
    }
   ],
   "source": [
    "capsule, data, layers = load_model(\"../training/program/p2/model.pkl\",\n",
    "                                    kw_load_data={'nb_examples': 200})\n",
    "c, w, h = layers['input'].shape[1:]"
   ]
  },
  {
   "cell_type": "code",
   "execution_count": 3,
   "metadata": {
    "collapsed": false
   },
   "outputs": [
    {
     "data": {
      "image/svg+xml": [
       "<svg height=\"1230pt\" viewBox=\"0.00 0.00 2173.72 1229.60\" width=\"2174pt\" xmlns=\"http://www.w3.org/2000/svg\" xmlns:xlink=\"http://www.w3.org/1999/xlink\">\n",
       "<g class=\"graph\" id=\"graph0\" transform=\"scale(1 1) rotate(0) translate(4 1225.6)\">\n",
       "<title>Network</title>\n",
       "<polygon fill=\"white\" points=\"-4,4 -4,-1225.6 2169.72,-1225.6 2169.72,4 -4,4\" stroke=\"none\"/>\n",
       "<!-- lasagne.layers.merge.ConcatLayer object at 0x7fd034e4e090 -->\n",
       "<g class=\"node\" id=\"node1\"><title>lasagne.layers.merge.ConcatLayer object at 0x7fd034e4e090</title>\n",
       "<polygon fill=\"#53e644\" points=\"458.376,-707.9 458.376,-749.5 616.671,-749.5 616.671,-707.9 458.376,-707.9\" stroke=\"black\"/>\n",
       "<text font-family=\"Times,serif\" font-size=\"14.00\" text-anchor=\"middle\" x=\"537.523\" y=\"-732.9\">ConcatLayer</text>\n",
       "<text font-family=\"Times,serif\" font-size=\"14.00\" text-anchor=\"middle\" x=\"537.523\" y=\"-716.1\">Output shape: (None, 12)</text>\n",
       "</g>\n",
       "<!-- lasagne.layers.dense.DenseLayer object at 0x7fd034e4e450 -->\n",
       "<g class=\"node\" id=\"node49\"><title>lasagne.layers.dense.DenseLayer object at 0x7fd034e4e450</title>\n",
       "<polygon fill=\"#6ccf8d\" points=\"461.876,-629.3 461.876,-670.9 613.171,-670.9 613.171,-629.3 461.876,-629.3\" stroke=\"black\"/>\n",
       "<text font-family=\"Times,serif\" font-size=\"14.00\" text-anchor=\"middle\" x=\"537.523\" y=\"-654.3\">coord_2_0, DenseLayer</text>\n",
       "<text font-family=\"Times,serif\" font-size=\"14.00\" text-anchor=\"middle\" x=\"537.523\" y=\"-637.5\">Output shape: (None, 6)</text>\n",
       "</g>\n",
       "<!-- lasagne.layers.merge.ConcatLayer object at 0x7fd034e4e090&#45;&gt;lasagne.layers.dense.DenseLayer object at 0x7fd034e4e450 -->\n",
       "<g class=\"edge\" id=\"edge32\"><title>lasagne.layers.merge.ConcatLayer object at 0x7fd034e4e090-&gt;lasagne.layers.dense.DenseLayer object at 0x7fd034e4e450</title>\n",
       "<path d=\"M537.523,-707.574C537.523,-699.482 537.523,-689.98 537.523,-681.103\" fill=\"none\" stroke=\"black\"/>\n",
       "<polygon fill=\"black\" points=\"541.023,-681.091 537.523,-671.091 534.023,-681.091 541.023,-681.091\" stroke=\"black\"/>\n",
       "</g>\n",
       "<!-- lasagne.layers.shape.ReshapeLayer object at 0x7fd0345c2d10 -->\n",
       "<g class=\"node\" id=\"node2\"><title>lasagne.layers.shape.ReshapeLayer object at 0x7fd0345c2d10</title>\n",
       "<polygon fill=\"#ff8351\" points=\"1500.88,-472.1 1500.88,-513.7 1666.17,-513.7 1666.17,-472.1 1500.88,-472.1\" stroke=\"black\"/>\n",
       "<text font-family=\"Times,serif\" font-size=\"14.00\" text-anchor=\"middle\" x=\"1583.52\" y=\"-497.1\">ReshapeLayer</text>\n",
       "<text font-family=\"Times,serif\" font-size=\"14.00\" text-anchor=\"middle\" x=\"1583.52\" y=\"-480.3\">Output shape: (None, 3, 2)</text>\n",
       "</g>\n",
       "<!-- helpers.ExpressionLayerMulti object at 0x7fd0345c2a90 -->\n",
       "<g class=\"node\" id=\"node53\"><title>helpers.ExpressionLayerMulti object at 0x7fd0345c2a90</title>\n",
       "<polygon fill=\"#23b66c\" points=\"1444.11,-393.5 1444.11,-435.1 1722.93,-435.1 1722.93,-393.5 1444.11,-393.5\" stroke=\"black\"/>\n",
       "<text font-family=\"Times,serif\" font-size=\"14.00\" text-anchor=\"middle\" x=\"1583.52\" y=\"-418.5\">coord_0_0_normalized, ExpressionLayerMulti</text>\n",
       "<text font-family=\"Times,serif\" font-size=\"14.00\" text-anchor=\"middle\" x=\"1583.52\" y=\"-401.7\">Output shape: (None, 3, 2)</text>\n",
       "</g>\n",
       "<!-- lasagne.layers.shape.ReshapeLayer object at 0x7fd0345c2d10&#45;&gt;helpers.ExpressionLayerMulti object at 0x7fd0345c2a90 -->\n",
       "<g class=\"edge\" id=\"edge16\"><title>lasagne.layers.shape.ReshapeLayer object at 0x7fd0345c2d10-&gt;helpers.ExpressionLayerMulti object at 0x7fd0345c2a90</title>\n",
       "<path d=\"M1583.52,-471.774C1583.52,-463.682 1583.52,-454.18 1583.52,-445.303\" fill=\"none\" stroke=\"black\"/>\n",
       "<polygon fill=\"black\" points=\"1587.02,-445.291 1583.52,-435.291 1580.02,-445.291 1587.02,-445.291\" stroke=\"black\"/>\n",
       "</g>\n",
       "<!-- lasagne.layers.shape.ReshapeLayer object at 0x7fd03534de10 -->\n",
       "<g class=\"node\" id=\"node3\"><title>lasagne.layers.shape.ReshapeLayer object at 0x7fd03534de10</title>\n",
       "<polygon fill=\"#ff8351\" points=\"123.876,-472.1 123.876,-513.7 289.171,-513.7 289.171,-472.1 123.876,-472.1\" stroke=\"black\"/>\n",
       "<text font-family=\"Times,serif\" font-size=\"14.00\" text-anchor=\"middle\" x=\"206.523\" y=\"-497.1\">ReshapeLayer</text>\n",
       "<text font-family=\"Times,serif\" font-size=\"14.00\" text-anchor=\"middle\" x=\"206.523\" y=\"-480.3\">Output shape: (None, 3, 2)</text>\n",
       "</g>\n",
       "<!-- helpers.ExpressionLayerMulti object at 0x7fd0353e0690 -->\n",
       "<g class=\"node\" id=\"node24\"><title>helpers.ExpressionLayerMulti object at 0x7fd0353e0690</title>\n",
       "<polygon fill=\"#23b66c\" points=\"178.114,-393.5 178.114,-435.1 456.932,-435.1 456.932,-393.5 178.114,-393.5\" stroke=\"black\"/>\n",
       "<text font-family=\"Times,serif\" font-size=\"14.00\" text-anchor=\"middle\" x=\"317.523\" y=\"-418.5\">coord_5_0_normalized, ExpressionLayerMulti</text>\n",
       "<text font-family=\"Times,serif\" font-size=\"14.00\" text-anchor=\"middle\" x=\"317.523\" y=\"-401.7\">Output shape: (None, 3, 2)</text>\n",
       "</g>\n",
       "<!-- lasagne.layers.shape.ReshapeLayer object at 0x7fd03534de10&#45;&gt;helpers.ExpressionLayerMulti object at 0x7fd0353e0690 -->\n",
       "<g class=\"edge\" id=\"edge66\"><title>lasagne.layers.shape.ReshapeLayer object at 0x7fd03534de10-&gt;helpers.ExpressionLayerMulti object at 0x7fd0353e0690</title>\n",
       "<path d=\"M235.397,-471.974C249.144,-462.488 265.746,-451.031 280.416,-440.907\" fill=\"none\" stroke=\"black\"/>\n",
       "<polygon fill=\"black\" points=\"282.551,-443.686 288.794,-435.126 278.575,-437.925 282.551,-443.686\" stroke=\"black\"/>\n",
       "</g>\n",
       "<!-- lasagne.layers.merge.ConcatLayer object at 0x7fd032ba9fd0 -->\n",
       "<g class=\"node\" id=\"node4\"><title>lasagne.layers.merge.ConcatLayer object at 0x7fd032ba9fd0</title>\n",
       "<polygon fill=\"#53e644\" points=\"799.376,-707.9 799.376,-749.5 957.671,-749.5 957.671,-707.9 799.376,-707.9\" stroke=\"black\"/>\n",
       "<text font-family=\"Times,serif\" font-size=\"14.00\" text-anchor=\"middle\" x=\"878.523\" y=\"-732.9\">ConcatLayer</text>\n",
       "<text font-family=\"Times,serif\" font-size=\"14.00\" text-anchor=\"middle\" x=\"878.523\" y=\"-716.1\">Output shape: (None, 12)</text>\n",
       "</g>\n",
       "<!-- lasagne.layers.dense.DenseLayer object at 0x7fd032bd5190 -->\n",
       "<g class=\"node\" id=\"node33\"><title>lasagne.layers.dense.DenseLayer object at 0x7fd032bd5190</title>\n",
       "<polygon fill=\"#6ccf8d\" points=\"802.876,-629.3 802.876,-670.9 954.171,-670.9 954.171,-629.3 802.876,-629.3\" stroke=\"black\"/>\n",
       "<text font-family=\"Times,serif\" font-size=\"14.00\" text-anchor=\"middle\" x=\"878.523\" y=\"-654.3\">coord_4_0, DenseLayer</text>\n",
       "<text font-family=\"Times,serif\" font-size=\"14.00\" text-anchor=\"middle\" x=\"878.523\" y=\"-637.5\">Output shape: (None, 6)</text>\n",
       "</g>\n",
       "<!-- lasagne.layers.merge.ConcatLayer object at 0x7fd032ba9fd0&#45;&gt;lasagne.layers.dense.DenseLayer object at 0x7fd032bd5190 -->\n",
       "<g class=\"edge\" id=\"edge52\"><title>lasagne.layers.merge.ConcatLayer object at 0x7fd032ba9fd0-&gt;lasagne.layers.dense.DenseLayer object at 0x7fd032bd5190</title>\n",
       "<path d=\"M878.523,-707.574C878.523,-699.482 878.523,-689.98 878.523,-681.103\" fill=\"none\" stroke=\"black\"/>\n",
       "<polygon fill=\"black\" points=\"882.023,-681.091 878.523,-671.091 875.023,-681.091 882.023,-681.091\" stroke=\"black\"/>\n",
       "</g>\n",
       "<!-- helpers.GenericBrushLayer object at 0x7fd03462f0d0 -->\n",
       "<g class=\"node\" id=\"node5\"><title>helpers.GenericBrushLayer object at 0x7fd03462f0d0</title>\n",
       "<polygon fill=\"#af2e0d\" points=\"301.876,-314.9 301.876,-356.5 495.171,-356.5 495.171,-314.9 301.876,-314.9\" stroke=\"black\"/>\n",
       "<text font-family=\"Times,serif\" font-size=\"14.00\" text-anchor=\"middle\" x=\"398.523\" y=\"-339.9\">brush1, GenericBrushLayer</text>\n",
       "<text font-family=\"Times,serif\" font-size=\"14.00\" text-anchor=\"middle\" x=\"398.523\" y=\"-323.1\">Output shape: (None, 1, 28, 28)</text>\n",
       "</g>\n",
       "<!-- lasagne.layers.merge.ElemwiseSumLayer object at 0x7fd03462f050 -->\n",
       "<g class=\"node\" id=\"node23\"><title>lasagne.layers.merge.ElemwiseSumLayer object at 0x7fd03462f050</title>\n",
       "<polygon fill=\"#bf9301\" points=\"1018.88,-236.3 1018.88,-277.9 1212.17,-277.9 1212.17,-236.3 1018.88,-236.3\" stroke=\"black\"/>\n",
       "<text font-family=\"Times,serif\" font-size=\"14.00\" text-anchor=\"middle\" x=\"1115.52\" y=\"-261.3\">raw_out, ElemwiseSumLayer</text>\n",
       "<text font-family=\"Times,serif\" font-size=\"14.00\" text-anchor=\"middle\" x=\"1115.52\" y=\"-244.5\">Output shape: (None, 1, 28, 28)</text>\n",
       "</g>\n",
       "<!-- helpers.GenericBrushLayer object at 0x7fd03462f0d0&#45;&gt;lasagne.layers.merge.ElemwiseSumLayer object at 0x7fd03462f050 -->\n",
       "<g class=\"edge\" id=\"edge73\"><title>helpers.GenericBrushLayer object at 0x7fd03462f0d0-&gt;lasagne.layers.merge.ElemwiseSumLayer object at 0x7fd03462f050</title>\n",
       "<path d=\"M495.221,-324.369C628.911,-310.087 869.403,-284.394 1008.4,-269.544\" fill=\"none\" stroke=\"black\"/>\n",
       "<polygon fill=\"black\" points=\"1009.07,-272.993 1018.64,-268.45 1008.33,-266.032 1009.07,-272.993\" stroke=\"black\"/>\n",
       "</g>\n",
       "<!-- helpers.GenericBrushLayer object at 0x7fd034e4e850 -->\n",
       "<g class=\"node\" id=\"node6\"><title>helpers.GenericBrushLayer object at 0x7fd034e4e850</title>\n",
       "<polygon fill=\"#af2e0d\" points=\"626.876,-314.9 626.876,-356.5 820.171,-356.5 820.171,-314.9 626.876,-314.9\" stroke=\"black\"/>\n",
       "<text font-family=\"Times,serif\" font-size=\"14.00\" text-anchor=\"middle\" x=\"723.523\" y=\"-339.9\">brush1, GenericBrushLayer</text>\n",
       "<text font-family=\"Times,serif\" font-size=\"14.00\" text-anchor=\"middle\" x=\"723.523\" y=\"-323.1\">Output shape: (None, 1, 28, 28)</text>\n",
       "</g>\n",
       "<!-- helpers.GenericBrushLayer object at 0x7fd034e4e850&#45;&gt;lasagne.layers.merge.ElemwiseSumLayer object at 0x7fd03462f050 -->\n",
       "<g class=\"edge\" id=\"edge70\"><title>helpers.GenericBrushLayer object at 0x7fd034e4e850-&gt;lasagne.layers.merge.ElemwiseSumLayer object at 0x7fd03462f050</title>\n",
       "<path d=\"M820.171,-315.814C877.284,-304.654 949.7,-290.503 1008.53,-279.007\" fill=\"none\" stroke=\"black\"/>\n",
       "<polygon fill=\"black\" points=\"1009.46,-282.393 1018.6,-277.04 1008.11,-275.522 1009.46,-282.393\" stroke=\"black\"/>\n",
       "</g>\n",
       "<!-- lasagne.layers.dense.DenseLayer object at 0x7fd0329c90d0 -->\n",
       "<g class=\"node\" id=\"node7\"><title>lasagne.layers.dense.DenseLayer object at 0x7fd0329c90d0</title>\n",
       "<polygon fill=\"#6ccf8d\" points=\"1007.88,-1100.9 1007.88,-1142.5 1173.17,-1142.5 1173.17,-1100.9 1007.88,-1100.9\" stroke=\"black\"/>\n",
       "<text font-family=\"Times,serif\" font-size=\"14.00\" text-anchor=\"middle\" x=\"1090.52\" y=\"-1125.9\">DenseLayer</text>\n",
       "<text font-family=\"Times,serif\" font-size=\"14.00\" text-anchor=\"middle\" x=\"1090.52\" y=\"-1109.1\">Output shape: (None, 500)</text>\n",
       "</g>\n",
       "<!-- lasagne.layers.dense.DenseLayer object at 0x7fd032cd5650 -->\n",
       "<g class=\"node\" id=\"node21\"><title>lasagne.layers.dense.DenseLayer object at 0x7fd032cd5650</title>\n",
       "<polygon fill=\"#6ccf8d\" points=\"1103.38,-1022.3 1103.38,-1063.9 1261.67,-1063.9 1261.67,-1022.3 1103.38,-1022.3\" stroke=\"black\"/>\n",
       "<text font-family=\"Times,serif\" font-size=\"14.00\" text-anchor=\"middle\" x=\"1182.52\" y=\"-1047.3\">coord_0, DenseLayer</text>\n",
       "<text font-family=\"Times,serif\" font-size=\"14.00\" text-anchor=\"middle\" x=\"1182.52\" y=\"-1030.5\">Output shape: (None, 12)</text>\n",
       "</g>\n",
       "<!-- lasagne.layers.dense.DenseLayer object at 0x7fd0329c90d0&#45;&gt;lasagne.layers.dense.DenseLayer object at 0x7fd032cd5650 -->\n",
       "<g class=\"edge\" id=\"edge2\"><title>lasagne.layers.dense.DenseLayer object at 0x7fd0329c90d0-&gt;lasagne.layers.dense.DenseLayer object at 0x7fd032cd5650</title>\n",
       "<path d=\"M1114.7,-1100.57C1125.68,-1091.43 1138.83,-1080.48 1150.62,-1070.67\" fill=\"none\" stroke=\"black\"/>\n",
       "<polygon fill=\"black\" points=\"1153.07,-1073.18 1158.51,-1064.09 1148.59,-1067.8 1153.07,-1073.18\" stroke=\"black\"/>\n",
       "</g>\n",
       "<!-- lasagne.layers.dense.DenseLayer object at 0x7fd032b91b50 -->\n",
       "<g class=\"node\" id=\"node42\"><title>lasagne.layers.dense.DenseLayer object at 0x7fd032b91b50</title>\n",
       "<polygon fill=\"#6ccf8d\" points=\"920.376,-1022.3 920.376,-1063.9 1078.67,-1063.9 1078.67,-1022.3 920.376,-1022.3\" stroke=\"black\"/>\n",
       "<text font-family=\"Times,serif\" font-size=\"14.00\" text-anchor=\"middle\" x=\"999.523\" y=\"-1047.3\">repr_0, DenseLayer</text>\n",
       "<text font-family=\"Times,serif\" font-size=\"14.00\" text-anchor=\"middle\" x=\"999.523\" y=\"-1030.5\">Output shape: (None, 60)</text>\n",
       "</g>\n",
       "<!-- lasagne.layers.dense.DenseLayer object at 0x7fd0329c90d0&#45;&gt;lasagne.layers.dense.DenseLayer object at 0x7fd032b91b50 -->\n",
       "<g class=\"edge\" id=\"edge6\"><title>lasagne.layers.dense.DenseLayer object at 0x7fd0329c90d0-&gt;lasagne.layers.dense.DenseLayer object at 0x7fd032b91b50</title>\n",
       "<path d=\"M1066.61,-1100.57C1055.75,-1091.43 1042.74,-1080.48 1031.08,-1070.67\" fill=\"none\" stroke=\"black\"/>\n",
       "<polygon fill=\"black\" points=\"1033.18,-1067.85 1023.27,-1064.09 1028.67,-1073.21 1033.18,-1067.85\" stroke=\"black\"/>\n",
       "</g>\n",
       "<!-- lasagne.layers.special.NonlinearityLayer object at 0x7fd034e4e510 -->\n",
       "<g class=\"node\" id=\"node8\"><title>lasagne.layers.special.NonlinearityLayer object at 0x7fd034e4e510</title>\n",
       "<polygon fill=\"#7f0cd0\" points=\"461.876,-550.7 461.876,-592.3 613.171,-592.3 613.171,-550.7 461.876,-550.7\" stroke=\"black\"/>\n",
       "<text font-family=\"Times,serif\" font-size=\"14.00\" text-anchor=\"middle\" x=\"537.523\" y=\"-575.7\">NonlinearityLayer</text>\n",
       "<text font-family=\"Times,serif\" font-size=\"14.00\" text-anchor=\"middle\" x=\"537.523\" y=\"-558.9\">Output shape: (None, 6)</text>\n",
       "</g>\n",
       "<!-- lasagne.layers.shape.ReshapeLayer object at 0x7fd034e4ea50 -->\n",
       "<g class=\"node\" id=\"node37\"><title>lasagne.layers.shape.ReshapeLayer object at 0x7fd034e4ea50</title>\n",
       "<polygon fill=\"#ff8351\" points=\"454.876,-472.1 454.876,-513.7 620.171,-513.7 620.171,-472.1 454.876,-472.1\" stroke=\"black\"/>\n",
       "<text font-family=\"Times,serif\" font-size=\"14.00\" text-anchor=\"middle\" x=\"537.523\" y=\"-497.1\">ReshapeLayer</text>\n",
       "<text font-family=\"Times,serif\" font-size=\"14.00\" text-anchor=\"middle\" x=\"537.523\" y=\"-480.3\">Output shape: (None, 3, 2)</text>\n",
       "</g>\n",
       "<!-- lasagne.layers.special.NonlinearityLayer object at 0x7fd034e4e510&#45;&gt;lasagne.layers.shape.ReshapeLayer object at 0x7fd034e4ea50 -->\n",
       "<g class=\"edge\" id=\"edge34\"><title>lasagne.layers.special.NonlinearityLayer object at 0x7fd034e4e510-&gt;lasagne.layers.shape.ReshapeLayer object at 0x7fd034e4ea50</title>\n",
       "<path d=\"M537.523,-550.374C537.523,-542.282 537.523,-532.78 537.523,-523.903\" fill=\"none\" stroke=\"black\"/>\n",
       "<polygon fill=\"black\" points=\"541.023,-523.891 537.523,-513.891 534.023,-523.891 541.023,-523.891\" stroke=\"black\"/>\n",
       "</g>\n",
       "<!-- lasagne.layers.dense.DenseLayer object at 0x7fd0346af510 -->\n",
       "<g class=\"node\" id=\"node9\"><title>lasagne.layers.dense.DenseLayer object at 0x7fd0346af510</title>\n",
       "<polygon fill=\"#6ccf8d\" points=\"1166.88,-629.3 1166.88,-670.9 1318.17,-670.9 1318.17,-629.3 1166.88,-629.3\" stroke=\"black\"/>\n",
       "<text font-family=\"Times,serif\" font-size=\"14.00\" text-anchor=\"middle\" x=\"1242.52\" y=\"-654.3\">coord_3_0, DenseLayer</text>\n",
       "<text font-family=\"Times,serif\" font-size=\"14.00\" text-anchor=\"middle\" x=\"1242.52\" y=\"-637.5\">Output shape: (None, 6)</text>\n",
       "</g>\n",
       "<!-- lasagne.layers.special.NonlinearityLayer object at 0x7fd0346af7d0 -->\n",
       "<g class=\"node\" id=\"node32\"><title>lasagne.layers.special.NonlinearityLayer object at 0x7fd0346af7d0</title>\n",
       "<polygon fill=\"#7f0cd0\" points=\"1166.88,-550.7 1166.88,-592.3 1318.17,-592.3 1318.17,-550.7 1166.88,-550.7\" stroke=\"black\"/>\n",
       "<text font-family=\"Times,serif\" font-size=\"14.00\" text-anchor=\"middle\" x=\"1242.52\" y=\"-575.7\">NonlinearityLayer</text>\n",
       "<text font-family=\"Times,serif\" font-size=\"14.00\" text-anchor=\"middle\" x=\"1242.52\" y=\"-558.9\">Output shape: (None, 6)</text>\n",
       "</g>\n",
       "<!-- lasagne.layers.dense.DenseLayer object at 0x7fd0346af510&#45;&gt;lasagne.layers.special.NonlinearityLayer object at 0x7fd0346af7d0 -->\n",
       "<g class=\"edge\" id=\"edge43\"><title>lasagne.layers.dense.DenseLayer object at 0x7fd0346af510-&gt;lasagne.layers.special.NonlinearityLayer object at 0x7fd0346af7d0</title>\n",
       "<path d=\"M1242.52,-628.974C1242.52,-620.882 1242.52,-611.38 1242.52,-602.503\" fill=\"none\" stroke=\"black\"/>\n",
       "<polygon fill=\"black\" points=\"1246.02,-602.491 1242.52,-592.491 1239.02,-602.491 1246.02,-602.491\" stroke=\"black\"/>\n",
       "</g>\n",
       "<!-- lasagne.layers.shape.ReshapeLayer object at 0x7fd034e58450 -->\n",
       "<g class=\"node\" id=\"node10\"><title>lasagne.layers.shape.ReshapeLayer object at 0x7fd034e58450</title>\n",
       "<polygon fill=\"#ff8351\" points=\"1818.88,-472.1 1818.88,-513.7 1984.17,-513.7 1984.17,-472.1 1818.88,-472.1\" stroke=\"black\"/>\n",
       "<text font-family=\"Times,serif\" font-size=\"14.00\" text-anchor=\"middle\" x=\"1901.52\" y=\"-497.1\">ReshapeLayer</text>\n",
       "<text font-family=\"Times,serif\" font-size=\"14.00\" text-anchor=\"middle\" x=\"1901.52\" y=\"-480.3\">Output shape: (None, 3, 2)</text>\n",
       "</g>\n",
       "<!-- helpers.ExpressionLayerMulti object at 0x7fd034e58510 -->\n",
       "<g class=\"node\" id=\"node29\"><title>helpers.ExpressionLayerMulti object at 0x7fd034e58510</title>\n",
       "<polygon fill=\"#23b66c\" points=\"1762.11,-393.5 1762.11,-435.1 2040.93,-435.1 2040.93,-393.5 1762.11,-393.5\" stroke=\"black\"/>\n",
       "<text font-family=\"Times,serif\" font-size=\"14.00\" text-anchor=\"middle\" x=\"1901.52\" y=\"-418.5\">coord_1_0_normalized, ExpressionLayerMulti</text>\n",
       "<text font-family=\"Times,serif\" font-size=\"14.00\" text-anchor=\"middle\" x=\"1901.52\" y=\"-401.7\">Output shape: (None, 3, 2)</text>\n",
       "</g>\n",
       "<!-- lasagne.layers.shape.ReshapeLayer object at 0x7fd034e58450&#45;&gt;helpers.ExpressionLayerMulti object at 0x7fd034e58510 -->\n",
       "<g class=\"edge\" id=\"edge26\"><title>lasagne.layers.shape.ReshapeLayer object at 0x7fd034e58450-&gt;helpers.ExpressionLayerMulti object at 0x7fd034e58510</title>\n",
       "<path d=\"M1901.52,-471.774C1901.52,-463.682 1901.52,-454.18 1901.52,-445.303\" fill=\"none\" stroke=\"black\"/>\n",
       "<polygon fill=\"black\" points=\"1905.02,-445.291 1901.52,-435.291 1898.02,-445.291 1905.02,-445.291\" stroke=\"black\"/>\n",
       "</g>\n",
       "<!-- lasagne.layers.special.NonlinearityLayer object at 0x7fd034e58490 -->\n",
       "<g class=\"node\" id=\"node11\"><title>lasagne.layers.special.NonlinearityLayer object at 0x7fd034e58490</title>\n",
       "<polygon fill=\"#7f0cd0\" points=\"1825.88,-550.7 1825.88,-592.3 1977.17,-592.3 1977.17,-550.7 1825.88,-550.7\" stroke=\"black\"/>\n",
       "<text font-family=\"Times,serif\" font-size=\"14.00\" text-anchor=\"middle\" x=\"1901.52\" y=\"-575.7\">NonlinearityLayer</text>\n",
       "<text font-family=\"Times,serif\" font-size=\"14.00\" text-anchor=\"middle\" x=\"1901.52\" y=\"-558.9\">Output shape: (None, 6)</text>\n",
       "</g>\n",
       "<!-- lasagne.layers.special.NonlinearityLayer object at 0x7fd034e58490&#45;&gt;lasagne.layers.shape.ReshapeLayer object at 0x7fd034e58450 -->\n",
       "<g class=\"edge\" id=\"edge24\"><title>lasagne.layers.special.NonlinearityLayer object at 0x7fd034e58490-&gt;lasagne.layers.shape.ReshapeLayer object at 0x7fd034e58450</title>\n",
       "<path d=\"M1901.52,-550.374C1901.52,-542.282 1901.52,-532.78 1901.52,-523.903\" fill=\"none\" stroke=\"black\"/>\n",
       "<polygon fill=\"black\" points=\"1905.02,-523.891 1901.52,-513.891 1898.02,-523.891 1905.02,-523.891\" stroke=\"black\"/>\n",
       "</g>\n",
       "<!-- lasagne.layers.shape.ReshapeLayer object at 0x7fd032cd58d0 -->\n",
       "<g class=\"node\" id=\"node12\"><title>lasagne.layers.shape.ReshapeLayer object at 0x7fd032cd58d0</title>\n",
       "<polygon fill=\"#ff8351\" points=\"1106.88,-943.7 1106.88,-985.3 1272.17,-985.3 1272.17,-943.7 1106.88,-943.7\" stroke=\"black\"/>\n",
       "<text font-family=\"Times,serif\" font-size=\"14.00\" text-anchor=\"middle\" x=\"1189.52\" y=\"-968.7\">ReshapeLayer</text>\n",
       "<text font-family=\"Times,serif\" font-size=\"14.00\" text-anchor=\"middle\" x=\"1189.52\" y=\"-951.9\">Output shape: (None, 6, 2)</text>\n",
       "</g>\n",
       "<!-- lasagne.layers.special.NonlinearityLayer object at 0x7fd032cd5d50 -->\n",
       "<g class=\"node\" id=\"node39\"><title>lasagne.layers.special.NonlinearityLayer object at 0x7fd032cd5d50</title>\n",
       "<polygon fill=\"#7f0cd0\" points=\"1084.4,-865.1 1084.4,-906.7 1326.65,-906.7 1326.65,-865.1 1084.4,-865.1\" stroke=\"black\"/>\n",
       "<text font-family=\"Times,serif\" font-size=\"14.00\" text-anchor=\"middle\" x=\"1205.52\" y=\"-890.1\">coord_0_normalized, NonlinearityLayer</text>\n",
       "<text font-family=\"Times,serif\" font-size=\"14.00\" text-anchor=\"middle\" x=\"1205.52\" y=\"-873.3\">Output shape: (None, 6, 2)</text>\n",
       "</g>\n",
       "<!-- lasagne.layers.shape.ReshapeLayer object at 0x7fd032cd58d0&#45;&gt;lasagne.layers.special.NonlinearityLayer object at 0x7fd032cd5d50 -->\n",
       "<g class=\"edge\" id=\"edge4\"><title>lasagne.layers.shape.ReshapeLayer object at 0x7fd032cd58d0-&gt;lasagne.layers.special.NonlinearityLayer object at 0x7fd032cd5d50</title>\n",
       "<path d=\"M1193.73,-943.374C1195.42,-935.282 1197.4,-925.78 1199.26,-916.903\" fill=\"none\" stroke=\"black\"/>\n",
       "<polygon fill=\"black\" points=\"1202.73,-917.396 1201.35,-906.891 1195.88,-915.964 1202.73,-917.396\" stroke=\"black\"/>\n",
       "</g>\n",
       "<!-- lasagne.layers.shape.SliceLayer object at 0x7fd0345c22d0 -->\n",
       "<g class=\"node\" id=\"node13\"><title>lasagne.layers.shape.SliceLayer object at 0x7fd0345c22d0</title>\n",
       "<polygon fill=\"#da368f\" points=\"1820,-786.5 1820,-828.1 1979.05,-828.1 1979.05,-786.5 1820,-786.5\" stroke=\"black\"/>\n",
       "<text font-family=\"Times,serif\" font-size=\"14.00\" text-anchor=\"middle\" x=\"1899.52\" y=\"-811.5\">repr_cur_1_0, SliceLayer</text>\n",
       "<text font-family=\"Times,serif\" font-size=\"14.00\" text-anchor=\"middle\" x=\"1899.52\" y=\"-794.7\">Output shape: (None, 10)</text>\n",
       "</g>\n",
       "<!-- lasagne.layers.merge.ConcatLayer object at 0x7fd034e58310 -->\n",
       "<g class=\"node\" id=\"node28\"><title>lasagne.layers.merge.ConcatLayer object at 0x7fd034e58310</title>\n",
       "<polygon fill=\"#53e644\" points=\"1822.38,-707.9 1822.38,-749.5 1980.67,-749.5 1980.67,-707.9 1822.38,-707.9\" stroke=\"black\"/>\n",
       "<text font-family=\"Times,serif\" font-size=\"14.00\" text-anchor=\"middle\" x=\"1901.52\" y=\"-732.9\">ConcatLayer</text>\n",
       "<text font-family=\"Times,serif\" font-size=\"14.00\" text-anchor=\"middle\" x=\"1901.52\" y=\"-716.1\">Output shape: (None, 12)</text>\n",
       "</g>\n",
       "<!-- lasagne.layers.shape.SliceLayer object at 0x7fd0345c22d0&#45;&gt;lasagne.layers.merge.ConcatLayer object at 0x7fd034e58310 -->\n",
       "<g class=\"edge\" id=\"edge21\"><title>lasagne.layers.shape.SliceLayer object at 0x7fd0345c22d0-&gt;lasagne.layers.merge.ConcatLayer object at 0x7fd034e58310</title>\n",
       "<path d=\"M1900.05,-786.174C1900.26,-778.082 1900.51,-768.58 1900.74,-759.703\" fill=\"none\" stroke=\"black\"/>\n",
       "<polygon fill=\"black\" points=\"1904.24,-759.779 1901,-749.691 1897.24,-759.597 1904.24,-759.779\" stroke=\"black\"/>\n",
       "</g>\n",
       "<!-- helpers.GenericBrushLayer object at 0x7fd032936f10 -->\n",
       "<g class=\"node\" id=\"node14\"><title>helpers.GenericBrushLayer object at 0x7fd032936f10</title>\n",
       "<polygon fill=\"#af2e0d\" points=\"1145.88,-314.9 1145.88,-356.5 1339.17,-356.5 1339.17,-314.9 1145.88,-314.9\" stroke=\"black\"/>\n",
       "<text font-family=\"Times,serif\" font-size=\"14.00\" text-anchor=\"middle\" x=\"1242.52\" y=\"-339.9\">brush1, GenericBrushLayer</text>\n",
       "<text font-family=\"Times,serif\" font-size=\"14.00\" text-anchor=\"middle\" x=\"1242.52\" y=\"-323.1\">Output shape: (None, 1, 28, 28)</text>\n",
       "</g>\n",
       "<!-- helpers.GenericBrushLayer object at 0x7fd032936f10&#45;&gt;lasagne.layers.merge.ElemwiseSumLayer object at 0x7fd03462f050 -->\n",
       "<g class=\"edge\" id=\"edge71\"><title>helpers.GenericBrushLayer object at 0x7fd032936f10-&gt;lasagne.layers.merge.ElemwiseSumLayer object at 0x7fd03462f050</title>\n",
       "<path d=\"M1209.49,-314.774C1193.47,-305.111 1174.05,-293.402 1157.04,-283.141\" fill=\"none\" stroke=\"black\"/>\n",
       "<polygon fill=\"black\" points=\"1158.76,-280.094 1148.39,-277.926 1155.15,-286.088 1158.76,-280.094\" stroke=\"black\"/>\n",
       "</g>\n",
       "<!-- helpers.ExpressionLayerMulti object at 0x7fd032bd50d0 -->\n",
       "<g class=\"node\" id=\"node15\"><title>helpers.ExpressionLayerMulti object at 0x7fd032bd50d0</title>\n",
       "<polygon fill=\"#23b66c\" points=\"828.114,-393.5 828.114,-435.1 1106.93,-435.1 1106.93,-393.5 828.114,-393.5\" stroke=\"black\"/>\n",
       "<text font-family=\"Times,serif\" font-size=\"14.00\" text-anchor=\"middle\" x=\"967.523\" y=\"-418.5\">coord_4_0_normalized, ExpressionLayerMulti</text>\n",
       "<text font-family=\"Times,serif\" font-size=\"14.00\" text-anchor=\"middle\" x=\"967.523\" y=\"-401.7\">Output shape: (None, 3, 2)</text>\n",
       "</g>\n",
       "<!-- helpers.GenericBrushLayer object at 0x7fd035077a50 -->\n",
       "<g class=\"node\" id=\"node25\"><title>helpers.GenericBrushLayer object at 0x7fd035077a50</title>\n",
       "<polygon fill=\"#af2e0d\" points=\"891.876,-314.9 891.876,-356.5 1085.17,-356.5 1085.17,-314.9 891.876,-314.9\" stroke=\"black\"/>\n",
       "<text font-family=\"Times,serif\" font-size=\"14.00\" text-anchor=\"middle\" x=\"988.523\" y=\"-339.9\">brush1, GenericBrushLayer</text>\n",
       "<text font-family=\"Times,serif\" font-size=\"14.00\" text-anchor=\"middle\" x=\"988.523\" y=\"-323.1\">Output shape: (None, 1, 28, 28)</text>\n",
       "</g>\n",
       "<!-- helpers.ExpressionLayerMulti object at 0x7fd032bd50d0&#45;&gt;helpers.GenericBrushLayer object at 0x7fd035077a50 -->\n",
       "<g class=\"edge\" id=\"edge57\"><title>helpers.ExpressionLayerMulti object at 0x7fd032bd50d0-&gt;helpers.GenericBrushLayer object at 0x7fd035077a50</title>\n",
       "<path d=\"M973.041,-393.174C975.283,-384.994 977.921,-375.374 980.377,-366.414\" fill=\"none\" stroke=\"black\"/>\n",
       "<polygon fill=\"black\" points=\"983.774,-367.261 983.043,-356.691 977.023,-365.41 983.774,-367.261\" stroke=\"black\"/>\n",
       "</g>\n",
       "<!-- lasagne.layers.shape.SliceLayer object at 0x7fd0346af190 -->\n",
       "<g class=\"node\" id=\"node16\"><title>lasagne.layers.shape.SliceLayer object at 0x7fd0346af190</title>\n",
       "<polygon fill=\"#da368f\" points=\"9.9476e-14,-786.5 9.9476e-14,-828.1 159.046,-828.1 159.046,-786.5 9.9476e-14,-786.5\" stroke=\"black\"/>\n",
       "<text font-family=\"Times,serif\" font-size=\"14.00\" text-anchor=\"middle\" x=\"79.5232\" y=\"-811.5\">repr_cur_5_0, SliceLayer</text>\n",
       "<text font-family=\"Times,serif\" font-size=\"14.00\" text-anchor=\"middle\" x=\"79.5232\" y=\"-794.7\">Output shape: (None, 10)</text>\n",
       "</g>\n",
       "<!-- lasagne.layers.merge.ConcatLayer object at 0x7fd0351b9ad0 -->\n",
       "<g class=\"node\" id=\"node51\"><title>lasagne.layers.merge.ConcatLayer object at 0x7fd0351b9ad0</title>\n",
       "<polygon fill=\"#53e644\" points=\"127.376,-707.9 127.376,-749.5 285.671,-749.5 285.671,-707.9 127.376,-707.9\" stroke=\"black\"/>\n",
       "<text font-family=\"Times,serif\" font-size=\"14.00\" text-anchor=\"middle\" x=\"206.523\" y=\"-732.9\">ConcatLayer</text>\n",
       "<text font-family=\"Times,serif\" font-size=\"14.00\" text-anchor=\"middle\" x=\"206.523\" y=\"-716.1\">Output shape: (None, 12)</text>\n",
       "</g>\n",
       "<!-- lasagne.layers.shape.SliceLayer object at 0x7fd0346af190&#45;&gt;lasagne.layers.merge.ConcatLayer object at 0x7fd0351b9ad0 -->\n",
       "<g class=\"edge\" id=\"edge61\"><title>lasagne.layers.shape.SliceLayer object at 0x7fd0346af190-&gt;lasagne.layers.merge.ConcatLayer object at 0x7fd0351b9ad0</title>\n",
       "<path d=\"M112.559,-786.374C128.581,-776.711 147.994,-765.002 165.006,-754.741\" fill=\"none\" stroke=\"black\"/>\n",
       "<polygon fill=\"black\" points=\"166.897,-757.688 173.652,-749.526 163.282,-751.694 166.897,-757.688\" stroke=\"black\"/>\n",
       "</g>\n",
       "<!-- lasagne.layers.shape.SliceLayer object at 0x7fd032cd5150 -->\n",
       "<g class=\"node\" id=\"node17\"><title>lasagne.layers.shape.SliceLayer object at 0x7fd032cd5150</title>\n",
       "<polygon fill=\"#da368f\" points=\"1456,-786.5 1456,-828.1 1615.05,-828.1 1615.05,-786.5 1456,-786.5\" stroke=\"black\"/>\n",
       "<text font-family=\"Times,serif\" font-size=\"14.00\" text-anchor=\"middle\" x=\"1535.52\" y=\"-811.5\">repr_cur_0_0, SliceLayer</text>\n",
       "<text font-family=\"Times,serif\" font-size=\"14.00\" text-anchor=\"middle\" x=\"1535.52\" y=\"-794.7\">Output shape: (None, 10)</text>\n",
       "</g>\n",
       "<!-- lasagne.layers.merge.ConcatLayer object at 0x7fd0345c2710 -->\n",
       "<g class=\"node\" id=\"node41\"><title>lasagne.layers.merge.ConcatLayer object at 0x7fd0345c2710</title>\n",
       "<polygon fill=\"#53e644\" points=\"1504.38,-707.9 1504.38,-749.5 1662.67,-749.5 1662.67,-707.9 1504.38,-707.9\" stroke=\"black\"/>\n",
       "<text font-family=\"Times,serif\" font-size=\"14.00\" text-anchor=\"middle\" x=\"1583.52\" y=\"-732.9\">ConcatLayer</text>\n",
       "<text font-family=\"Times,serif\" font-size=\"14.00\" text-anchor=\"middle\" x=\"1583.52\" y=\"-716.1\">Output shape: (None, 12)</text>\n",
       "</g>\n",
       "<!-- lasagne.layers.shape.SliceLayer object at 0x7fd032cd5150&#45;&gt;lasagne.layers.merge.ConcatLayer object at 0x7fd0345c2710 -->\n",
       "<g class=\"edge\" id=\"edge11\"><title>lasagne.layers.shape.SliceLayer object at 0x7fd032cd5150-&gt;lasagne.layers.merge.ConcatLayer object at 0x7fd0345c2710</title>\n",
       "<path d=\"M1548.13,-786.174C1553.48,-777.642 1559.81,-767.543 1565.63,-758.262\" fill=\"none\" stroke=\"black\"/>\n",
       "<polygon fill=\"black\" points=\"1568.65,-760.024 1571,-749.691 1562.72,-756.307 1568.65,-760.024\" stroke=\"black\"/>\n",
       "</g>\n",
       "<!-- lasagne.layers.dense.DenseLayer object at 0x7fd0345c2810 -->\n",
       "<g class=\"node\" id=\"node18\"><title>lasagne.layers.dense.DenseLayer object at 0x7fd0345c2810</title>\n",
       "<polygon fill=\"#6ccf8d\" points=\"1507.88,-629.3 1507.88,-670.9 1659.17,-670.9 1659.17,-629.3 1507.88,-629.3\" stroke=\"black\"/>\n",
       "<text font-family=\"Times,serif\" font-size=\"14.00\" text-anchor=\"middle\" x=\"1583.52\" y=\"-654.3\">coord_0_0, DenseLayer</text>\n",
       "<text font-family=\"Times,serif\" font-size=\"14.00\" text-anchor=\"middle\" x=\"1583.52\" y=\"-637.5\">Output shape: (None, 6)</text>\n",
       "</g>\n",
       "<!-- lasagne.layers.special.NonlinearityLayer object at 0x7fd0345c2250 -->\n",
       "<g class=\"node\" id=\"node34\"><title>lasagne.layers.special.NonlinearityLayer object at 0x7fd0345c2250</title>\n",
       "<polygon fill=\"#7f0cd0\" points=\"1507.88,-550.7 1507.88,-592.3 1659.17,-592.3 1659.17,-550.7 1507.88,-550.7\" stroke=\"black\"/>\n",
       "<text font-family=\"Times,serif\" font-size=\"14.00\" text-anchor=\"middle\" x=\"1583.52\" y=\"-575.7\">NonlinearityLayer</text>\n",
       "<text font-family=\"Times,serif\" font-size=\"14.00\" text-anchor=\"middle\" x=\"1583.52\" y=\"-558.9\">Output shape: (None, 6)</text>\n",
       "</g>\n",
       "<!-- lasagne.layers.dense.DenseLayer object at 0x7fd0345c2810&#45;&gt;lasagne.layers.special.NonlinearityLayer object at 0x7fd0345c2250 -->\n",
       "<g class=\"edge\" id=\"edge13\"><title>lasagne.layers.dense.DenseLayer object at 0x7fd0345c2810-&gt;lasagne.layers.special.NonlinearityLayer object at 0x7fd0345c2250</title>\n",
       "<path d=\"M1583.52,-628.974C1583.52,-620.882 1583.52,-611.38 1583.52,-602.503\" fill=\"none\" stroke=\"black\"/>\n",
       "<polygon fill=\"black\" points=\"1587.02,-602.491 1583.52,-592.491 1580.02,-602.491 1587.02,-602.491\" stroke=\"black\"/>\n",
       "</g>\n",
       "<!-- lasagne.layers.shape.SliceLayer object at 0x7fd034e584d0 -->\n",
       "<g class=\"node\" id=\"node19\"><title>lasagne.layers.shape.SliceLayer object at 0x7fd034e584d0</title>\n",
       "<polygon fill=\"#da368f\" points=\"541.33,-786.5 541.33,-828.1 709.716,-828.1 709.716,-786.5 541.33,-786.5\" stroke=\"black\"/>\n",
       "<text font-family=\"Times,serif\" font-size=\"14.00\" text-anchor=\"middle\" x=\"625.523\" y=\"-811.5\">coord_cur_2_0, SliceLayer</text>\n",
       "<text font-family=\"Times,serif\" font-size=\"14.00\" text-anchor=\"middle\" x=\"625.523\" y=\"-794.7\">Output shape: (None, 2)</text>\n",
       "</g>\n",
       "<!-- lasagne.layers.shape.SliceLayer object at 0x7fd034e584d0&#45;&gt;lasagne.layers.merge.ConcatLayer object at 0x7fd034e4e090 -->\n",
       "<g class=\"edge\" id=\"edge30\"><title>lasagne.layers.shape.SliceLayer object at 0x7fd034e584d0-&gt;lasagne.layers.merge.ConcatLayer object at 0x7fd034e4e090</title>\n",
       "<path d=\"M602.402,-786.174C591.893,-777.026 579.315,-766.078 568.043,-756.266\" fill=\"none\" stroke=\"black\"/>\n",
       "<polygon fill=\"black\" points=\"570.33,-753.617 560.49,-749.691 565.735,-758.897 570.33,-753.617\" stroke=\"black\"/>\n",
       "</g>\n",
       "<!-- helpers.ExpressionLayerMulti object at 0x7fd034e4ead0 -->\n",
       "<g class=\"node\" id=\"node31\"><title>helpers.ExpressionLayerMulti object at 0x7fd034e4ead0</title>\n",
       "<polygon fill=\"#23b66c\" points=\"509.114,-393.5 509.114,-435.1 787.932,-435.1 787.932,-393.5 509.114,-393.5\" stroke=\"black\"/>\n",
       "<text font-family=\"Times,serif\" font-size=\"14.00\" text-anchor=\"middle\" x=\"648.523\" y=\"-418.5\">coord_2_0_normalized, ExpressionLayerMulti</text>\n",
       "<text font-family=\"Times,serif\" font-size=\"14.00\" text-anchor=\"middle\" x=\"648.523\" y=\"-401.7\">Output shape: (None, 3, 2)</text>\n",
       "</g>\n",
       "<!-- lasagne.layers.shape.SliceLayer object at 0x7fd034e584d0&#45;&gt;helpers.ExpressionLayerMulti object at 0x7fd034e4ead0 -->\n",
       "<g class=\"edge\" id=\"edge35\"><title>lasagne.layers.shape.SliceLayer object at 0x7fd034e584d0-&gt;helpers.ExpressionLayerMulti object at 0x7fd034e4ead0</title>\n",
       "<path d=\"M630.401,-786.35C637.152,-756.94 648.523,-700.13 648.523,-651.1 648.523,-651.1 648.523,-651.1 648.523,-570.5 648.523,-527.115 648.523,-476.909 648.523,-445.625\" fill=\"none\" stroke=\"black\"/>\n",
       "<polygon fill=\"black\" points=\"652.023,-445.39 648.523,-435.39 645.023,-445.39 652.023,-445.39\" stroke=\"black\"/>\n",
       "</g>\n",
       "<!-- lasagne.layers.special.NonlinearityLayer object at 0x7fd032cd5610 -->\n",
       "<g class=\"node\" id=\"node20\"><title>lasagne.layers.special.NonlinearityLayer object at 0x7fd032cd5610</title>\n",
       "<polygon fill=\"#7f0cd0\" points=\"1018.88,-0.5 1018.88,-42.1 1212.17,-42.1 1212.17,-0.5 1018.88,-0.5\" stroke=\"black\"/>\n",
       "<text font-family=\"Times,serif\" font-size=\"14.00\" text-anchor=\"middle\" x=\"1115.52\" y=\"-25.5\">output, NonlinearityLayer</text>\n",
       "<text font-family=\"Times,serif\" font-size=\"14.00\" text-anchor=\"middle\" x=\"1115.52\" y=\"-8.7\">Output shape: (None, 1, 28, 28)</text>\n",
       "</g>\n",
       "<!-- lasagne.layers.dense.DenseLayer object at 0x7fd032cd5650&#45;&gt;lasagne.layers.shape.ReshapeLayer object at 0x7fd032cd58d0 -->\n",
       "<g class=\"edge\" id=\"edge3\"><title>lasagne.layers.dense.DenseLayer object at 0x7fd032cd5650-&gt;lasagne.layers.shape.ReshapeLayer object at 0x7fd032cd58d0</title>\n",
       "<path d=\"M1184.36,-1021.97C1185.1,-1013.88 1185.97,-1004.38 1186.78,-995.503\" fill=\"none\" stroke=\"black\"/>\n",
       "<polygon fill=\"black\" points=\"1190.27,-995.768 1187.7,-985.491 1183.3,-995.131 1190.27,-995.768\" stroke=\"black\"/>\n",
       "</g>\n",
       "<!-- lasagne.layers.shape.SliceLayer object at 0x7fd0345c2490 -->\n",
       "<g class=\"node\" id=\"node22\"><title>lasagne.layers.shape.SliceLayer object at 0x7fd0345c2490</title>\n",
       "<polygon fill=\"#da368f\" points=\"1997.33,-786.5 1997.33,-828.1 2165.72,-828.1 2165.72,-786.5 1997.33,-786.5\" stroke=\"black\"/>\n",
       "<text font-family=\"Times,serif\" font-size=\"14.00\" text-anchor=\"middle\" x=\"2081.52\" y=\"-811.5\">coord_cur_1_0, SliceLayer</text>\n",
       "<text font-family=\"Times,serif\" font-size=\"14.00\" text-anchor=\"middle\" x=\"2081.52\" y=\"-794.7\">Output shape: (None, 2)</text>\n",
       "</g>\n",
       "<!-- lasagne.layers.shape.SliceLayer object at 0x7fd0345c2490&#45;&gt;lasagne.layers.merge.ConcatLayer object at 0x7fd034e58310 -->\n",
       "<g class=\"edge\" id=\"edge20\"><title>lasagne.layers.shape.SliceLayer object at 0x7fd0345c2490-&gt;lasagne.layers.merge.ConcatLayer object at 0x7fd034e58310</title>\n",
       "<path d=\"M2034.7,-786.374C2011.05,-776.312 1982.2,-764.031 1957.4,-753.478\" fill=\"none\" stroke=\"black\"/>\n",
       "<polygon fill=\"black\" points=\"1958.68,-750.221 1948.11,-749.526 1955.94,-756.662 1958.68,-750.221\" stroke=\"black\"/>\n",
       "</g>\n",
       "<!-- lasagne.layers.shape.SliceLayer object at 0x7fd0345c2490&#45;&gt;helpers.ExpressionLayerMulti object at 0x7fd034e58510 -->\n",
       "<g class=\"edge\" id=\"edge25\"><title>lasagne.layers.shape.SliceLayer object at 0x7fd0345c2490-&gt;helpers.ExpressionLayerMulti object at 0x7fd034e58510</title>\n",
       "<path d=\"M2073.93,-786.043C2063.63,-756.721 2046.52,-700.542 2046.52,-651.1 2046.52,-651.1 2046.52,-651.1 2046.52,-570.5 2046.52,-520.631 2027.76,-507.857 1993.52,-471.6 1982.02,-459.424 1967.33,-448.884 1953.08,-440.323\" fill=\"none\" stroke=\"black\"/>\n",
       "<polygon fill=\"black\" points=\"1954.7,-437.22 1944.29,-435.251 1951.2,-443.282 1954.7,-437.22\" stroke=\"black\"/>\n",
       "</g>\n",
       "<!-- lasagne.layers.special.ScaleLayer object at 0x7fd032cd5310 -->\n",
       "<g class=\"node\" id=\"node46\"><title>lasagne.layers.special.ScaleLayer object at 0x7fd032cd5310</title>\n",
       "<polygon fill=\"#ebb98f\" points=\"1018.88,-157.7 1018.88,-199.3 1212.17,-199.3 1212.17,-157.7 1018.88,-157.7\" stroke=\"black\"/>\n",
       "<text font-family=\"Times,serif\" font-size=\"14.00\" text-anchor=\"middle\" x=\"1115.52\" y=\"-182.7\">scaled_output, ScaleLayer</text>\n",
       "<text font-family=\"Times,serif\" font-size=\"14.00\" text-anchor=\"middle\" x=\"1115.52\" y=\"-165.9\">Output shape: (None, 1, 28, 28)</text>\n",
       "</g>\n",
       "<!-- lasagne.layers.merge.ElemwiseSumLayer object at 0x7fd03462f050&#45;&gt;lasagne.layers.special.ScaleLayer object at 0x7fd032cd5310 -->\n",
       "<g class=\"edge\" id=\"edge74\"><title>lasagne.layers.merge.ElemwiseSumLayer object at 0x7fd03462f050-&gt;lasagne.layers.special.ScaleLayer object at 0x7fd032cd5310</title>\n",
       "<path d=\"M1115.52,-235.974C1115.52,-227.882 1115.52,-218.38 1115.52,-209.503\" fill=\"none\" stroke=\"black\"/>\n",
       "<polygon fill=\"black\" points=\"1119.02,-209.491 1115.52,-199.491 1112.02,-209.491 1119.02,-209.491\" stroke=\"black\"/>\n",
       "</g>\n",
       "<!-- helpers.ExpressionLayerMulti object at 0x7fd0353e0690&#45;&gt;helpers.GenericBrushLayer object at 0x7fd03462f0d0 -->\n",
       "<g class=\"edge\" id=\"edge67\"><title>helpers.ExpressionLayerMulti object at 0x7fd0353e0690-&gt;helpers.GenericBrushLayer object at 0x7fd03462f0d0</title>\n",
       "<path d=\"M338.805,-393.174C348.292,-384.202 359.611,-373.498 369.831,-363.833\" fill=\"none\" stroke=\"black\"/>\n",
       "<polygon fill=\"black\" points=\"372.523,-366.105 377.384,-356.691 367.713,-361.019 372.523,-366.105\" stroke=\"black\"/>\n",
       "</g>\n",
       "<!-- helpers.GenericBrushLayer object at 0x7fd035077a50&#45;&gt;lasagne.layers.merge.ElemwiseSumLayer object at 0x7fd03462f050 -->\n",
       "<g class=\"edge\" id=\"edge72\"><title>helpers.GenericBrushLayer object at 0x7fd035077a50-&gt;lasagne.layers.merge.ElemwiseSumLayer object at 0x7fd03462f050</title>\n",
       "<path d=\"M1021.56,-314.774C1037.58,-305.111 1056.99,-293.402 1074.01,-283.141\" fill=\"none\" stroke=\"black\"/>\n",
       "<polygon fill=\"black\" points=\"1075.9,-286.088 1082.65,-277.926 1072.28,-280.094 1075.9,-286.088\" stroke=\"black\"/>\n",
       "</g>\n",
       "<!-- lasagne.layers.dense.DenseLayer object at 0x7fd034aac950 -->\n",
       "<g class=\"node\" id=\"node26\"><title>lasagne.layers.dense.DenseLayer object at 0x7fd034aac950</title>\n",
       "<polygon fill=\"#6ccf8d\" points=\"130.876,-629.3 130.876,-670.9 282.171,-670.9 282.171,-629.3 130.876,-629.3\" stroke=\"black\"/>\n",
       "<text font-family=\"Times,serif\" font-size=\"14.00\" text-anchor=\"middle\" x=\"206.523\" y=\"-654.3\">coord_5_0, DenseLayer</text>\n",
       "<text font-family=\"Times,serif\" font-size=\"14.00\" text-anchor=\"middle\" x=\"206.523\" y=\"-637.5\">Output shape: (None, 6)</text>\n",
       "</g>\n",
       "<!-- lasagne.layers.special.NonlinearityLayer object at 0x7fd03534de50 -->\n",
       "<g class=\"node\" id=\"node40\"><title>lasagne.layers.special.NonlinearityLayer object at 0x7fd03534de50</title>\n",
       "<polygon fill=\"#7f0cd0\" points=\"130.876,-550.7 130.876,-592.3 282.171,-592.3 282.171,-550.7 130.876,-550.7\" stroke=\"black\"/>\n",
       "<text font-family=\"Times,serif\" font-size=\"14.00\" text-anchor=\"middle\" x=\"206.523\" y=\"-575.7\">NonlinearityLayer</text>\n",
       "<text font-family=\"Times,serif\" font-size=\"14.00\" text-anchor=\"middle\" x=\"206.523\" y=\"-558.9\">Output shape: (None, 6)</text>\n",
       "</g>\n",
       "<!-- lasagne.layers.dense.DenseLayer object at 0x7fd034aac950&#45;&gt;lasagne.layers.special.NonlinearityLayer object at 0x7fd03534de50 -->\n",
       "<g class=\"edge\" id=\"edge63\"><title>lasagne.layers.dense.DenseLayer object at 0x7fd034aac950-&gt;lasagne.layers.special.NonlinearityLayer object at 0x7fd03534de50</title>\n",
       "<path d=\"M206.523,-628.974C206.523,-620.882 206.523,-611.38 206.523,-602.503\" fill=\"none\" stroke=\"black\"/>\n",
       "<polygon fill=\"black\" points=\"210.023,-602.491 206.523,-592.491 203.023,-602.491 210.023,-602.491\" stroke=\"black\"/>\n",
       "</g>\n",
       "<!-- lasagne.layers.special.NonlinearityLayer object at 0x7fd032bd5150 -->\n",
       "<g class=\"node\" id=\"node27\"><title>lasagne.layers.special.NonlinearityLayer object at 0x7fd032bd5150</title>\n",
       "<polygon fill=\"#7f0cd0\" points=\"802.876,-550.7 802.876,-592.3 954.171,-592.3 954.171,-550.7 802.876,-550.7\" stroke=\"black\"/>\n",
       "<text font-family=\"Times,serif\" font-size=\"14.00\" text-anchor=\"middle\" x=\"878.523\" y=\"-575.7\">NonlinearityLayer</text>\n",
       "<text font-family=\"Times,serif\" font-size=\"14.00\" text-anchor=\"middle\" x=\"878.523\" y=\"-558.9\">Output shape: (None, 6)</text>\n",
       "</g>\n",
       "<!-- lasagne.layers.shape.ReshapeLayer object at 0x7fd032bd5110 -->\n",
       "<g class=\"node\" id=\"node43\"><title>lasagne.layers.shape.ReshapeLayer object at 0x7fd032bd5110</title>\n",
       "<polygon fill=\"#ff8351\" points=\"795.876,-472.1 795.876,-513.7 961.171,-513.7 961.171,-472.1 795.876,-472.1\" stroke=\"black\"/>\n",
       "<text font-family=\"Times,serif\" font-size=\"14.00\" text-anchor=\"middle\" x=\"878.523\" y=\"-497.1\">ReshapeLayer</text>\n",
       "<text font-family=\"Times,serif\" font-size=\"14.00\" text-anchor=\"middle\" x=\"878.523\" y=\"-480.3\">Output shape: (None, 3, 2)</text>\n",
       "</g>\n",
       "<!-- lasagne.layers.special.NonlinearityLayer object at 0x7fd032bd5150&#45;&gt;lasagne.layers.shape.ReshapeLayer object at 0x7fd032bd5110 -->\n",
       "<g class=\"edge\" id=\"edge54\"><title>lasagne.layers.special.NonlinearityLayer object at 0x7fd032bd5150-&gt;lasagne.layers.shape.ReshapeLayer object at 0x7fd032bd5110</title>\n",
       "<path d=\"M878.523,-550.374C878.523,-542.282 878.523,-532.78 878.523,-523.903\" fill=\"none\" stroke=\"black\"/>\n",
       "<polygon fill=\"black\" points=\"882.023,-523.891 878.523,-513.891 875.023,-523.891 882.023,-523.891\" stroke=\"black\"/>\n",
       "</g>\n",
       "<!-- lasagne.layers.dense.DenseLayer object at 0x7fd034e58590 -->\n",
       "<g class=\"node\" id=\"node30\"><title>lasagne.layers.dense.DenseLayer object at 0x7fd034e58590</title>\n",
       "<polygon fill=\"#6ccf8d\" points=\"1825.88,-629.3 1825.88,-670.9 1977.17,-670.9 1977.17,-629.3 1825.88,-629.3\" stroke=\"black\"/>\n",
       "<text font-family=\"Times,serif\" font-size=\"14.00\" text-anchor=\"middle\" x=\"1901.52\" y=\"-654.3\">coord_1_0, DenseLayer</text>\n",
       "<text font-family=\"Times,serif\" font-size=\"14.00\" text-anchor=\"middle\" x=\"1901.52\" y=\"-637.5\">Output shape: (None, 6)</text>\n",
       "</g>\n",
       "<!-- lasagne.layers.merge.ConcatLayer object at 0x7fd034e58310&#45;&gt;lasagne.layers.dense.DenseLayer object at 0x7fd034e58590 -->\n",
       "<g class=\"edge\" id=\"edge22\"><title>lasagne.layers.merge.ConcatLayer object at 0x7fd034e58310-&gt;lasagne.layers.dense.DenseLayer object at 0x7fd034e58590</title>\n",
       "<path d=\"M1901.52,-707.574C1901.52,-699.482 1901.52,-689.98 1901.52,-681.103\" fill=\"none\" stroke=\"black\"/>\n",
       "<polygon fill=\"black\" points=\"1905.02,-681.091 1901.52,-671.091 1898.02,-681.091 1905.02,-681.091\" stroke=\"black\"/>\n",
       "</g>\n",
       "<!-- helpers.GenericBrushLayer object at 0x7fd034e582d0 -->\n",
       "<g class=\"node\" id=\"node54\"><title>helpers.GenericBrushLayer object at 0x7fd034e582d0</title>\n",
       "<polygon fill=\"#af2e0d\" points=\"1733.88,-314.9 1733.88,-356.5 1927.17,-356.5 1927.17,-314.9 1733.88,-314.9\" stroke=\"black\"/>\n",
       "<text font-family=\"Times,serif\" font-size=\"14.00\" text-anchor=\"middle\" x=\"1830.52\" y=\"-339.9\">brush1, GenericBrushLayer</text>\n",
       "<text font-family=\"Times,serif\" font-size=\"14.00\" text-anchor=\"middle\" x=\"1830.52\" y=\"-323.1\">Output shape: (None, 1, 28, 28)</text>\n",
       "</g>\n",
       "<!-- helpers.ExpressionLayerMulti object at 0x7fd034e58510&#45;&gt;helpers.GenericBrushLayer object at 0x7fd034e582d0 -->\n",
       "<g class=\"edge\" id=\"edge27\"><title>helpers.ExpressionLayerMulti object at 0x7fd034e58510-&gt;helpers.GenericBrushLayer object at 0x7fd034e582d0</title>\n",
       "<path d=\"M1882.87,-393.174C1874.63,-384.29 1864.83,-373.708 1855.94,-364.118\" fill=\"none\" stroke=\"black\"/>\n",
       "<polygon fill=\"black\" points=\"1858.42,-361.646 1849.05,-356.691 1853.28,-366.405 1858.42,-361.646\" stroke=\"black\"/>\n",
       "</g>\n",
       "<!-- lasagne.layers.dense.DenseLayer object at 0x7fd034e58590&#45;&gt;lasagne.layers.special.NonlinearityLayer object at 0x7fd034e58490 -->\n",
       "<g class=\"edge\" id=\"edge23\"><title>lasagne.layers.dense.DenseLayer object at 0x7fd034e58590-&gt;lasagne.layers.special.NonlinearityLayer object at 0x7fd034e58490</title>\n",
       "<path d=\"M1901.52,-628.974C1901.52,-620.882 1901.52,-611.38 1901.52,-602.503\" fill=\"none\" stroke=\"black\"/>\n",
       "<polygon fill=\"black\" points=\"1905.02,-602.491 1901.52,-592.491 1898.02,-602.491 1905.02,-602.491\" stroke=\"black\"/>\n",
       "</g>\n",
       "<!-- helpers.ExpressionLayerMulti object at 0x7fd034e4ead0&#45;&gt;helpers.GenericBrushLayer object at 0x7fd034e4e850 -->\n",
       "<g class=\"edge\" id=\"edge37\"><title>helpers.ExpressionLayerMulti object at 0x7fd034e4ead0-&gt;helpers.GenericBrushLayer object at 0x7fd034e4e850</title>\n",
       "<path d=\"M668.229,-393.174C676.927,-384.29 687.288,-373.708 696.678,-364.118\" fill=\"none\" stroke=\"black\"/>\n",
       "<polygon fill=\"black\" points=\"699.454,-366.285 703.949,-356.691 694.452,-361.388 699.454,-366.285\" stroke=\"black\"/>\n",
       "</g>\n",
       "<!-- lasagne.layers.shape.ReshapeLayer object at 0x7fd0349e45d0 -->\n",
       "<g class=\"node\" id=\"node47\"><title>lasagne.layers.shape.ReshapeLayer object at 0x7fd0349e45d0</title>\n",
       "<polygon fill=\"#ff8351\" points=\"1159.88,-472.1 1159.88,-513.7 1325.17,-513.7 1325.17,-472.1 1159.88,-472.1\" stroke=\"black\"/>\n",
       "<text font-family=\"Times,serif\" font-size=\"14.00\" text-anchor=\"middle\" x=\"1242.52\" y=\"-497.1\">ReshapeLayer</text>\n",
       "<text font-family=\"Times,serif\" font-size=\"14.00\" text-anchor=\"middle\" x=\"1242.52\" y=\"-480.3\">Output shape: (None, 3, 2)</text>\n",
       "</g>\n",
       "<!-- lasagne.layers.special.NonlinearityLayer object at 0x7fd0346af7d0&#45;&gt;lasagne.layers.shape.ReshapeLayer object at 0x7fd0349e45d0 -->\n",
       "<g class=\"edge\" id=\"edge44\"><title>lasagne.layers.special.NonlinearityLayer object at 0x7fd0346af7d0-&gt;lasagne.layers.shape.ReshapeLayer object at 0x7fd0349e45d0</title>\n",
       "<path d=\"M1242.52,-550.374C1242.52,-542.282 1242.52,-532.78 1242.52,-523.903\" fill=\"none\" stroke=\"black\"/>\n",
       "<polygon fill=\"black\" points=\"1246.02,-523.891 1242.52,-513.891 1239.02,-523.891 1246.02,-523.891\" stroke=\"black\"/>\n",
       "</g>\n",
       "<!-- lasagne.layers.dense.DenseLayer object at 0x7fd032bd5190&#45;&gt;lasagne.layers.special.NonlinearityLayer object at 0x7fd032bd5150 -->\n",
       "<g class=\"edge\" id=\"edge53\"><title>lasagne.layers.dense.DenseLayer object at 0x7fd032bd5190-&gt;lasagne.layers.special.NonlinearityLayer object at 0x7fd032bd5150</title>\n",
       "<path d=\"M878.523,-628.974C878.523,-620.882 878.523,-611.38 878.523,-602.503\" fill=\"none\" stroke=\"black\"/>\n",
       "<polygon fill=\"black\" points=\"882.023,-602.491 878.523,-592.491 875.023,-602.491 882.023,-602.491\" stroke=\"black\"/>\n",
       "</g>\n",
       "<!-- lasagne.layers.special.NonlinearityLayer object at 0x7fd0345c2250&#45;&gt;lasagne.layers.shape.ReshapeLayer object at 0x7fd0345c2d10 -->\n",
       "<g class=\"edge\" id=\"edge14\"><title>lasagne.layers.special.NonlinearityLayer object at 0x7fd0345c2250-&gt;lasagne.layers.shape.ReshapeLayer object at 0x7fd0345c2d10</title>\n",
       "<path d=\"M1583.52,-550.374C1583.52,-542.282 1583.52,-532.78 1583.52,-523.903\" fill=\"none\" stroke=\"black\"/>\n",
       "<polygon fill=\"black\" points=\"1587.02,-523.891 1583.52,-513.891 1580.02,-523.891 1587.02,-523.891\" stroke=\"black\"/>\n",
       "</g>\n",
       "<!-- lasagne.layers.input.InputLayer object at 0x7fd032c2bb10 -->\n",
       "<g class=\"node\" id=\"node35\"><title>lasagne.layers.input.InputLayer object at 0x7fd032c2bb10</title>\n",
       "<polygon fill=\"#a2cece\" points=\"993.876,-1179.5 993.876,-1221.1 1187.17,-1221.1 1187.17,-1179.5 993.876,-1179.5\" stroke=\"black\"/>\n",
       "<text font-family=\"Times,serif\" font-size=\"14.00\" text-anchor=\"middle\" x=\"1090.52\" y=\"-1204.5\">input, InputLayer</text>\n",
       "<text font-family=\"Times,serif\" font-size=\"14.00\" text-anchor=\"middle\" x=\"1090.52\" y=\"-1187.7\">Output shape: (None, 1, 28, 28)</text>\n",
       "</g>\n",
       "<!-- lasagne.layers.input.InputLayer object at 0x7fd032c2bb10&#45;&gt;lasagne.layers.dense.DenseLayer object at 0x7fd0329c90d0 -->\n",
       "<g class=\"edge\" id=\"edge1\"><title>lasagne.layers.input.InputLayer object at 0x7fd032c2bb10-&gt;lasagne.layers.dense.DenseLayer object at 0x7fd0329c90d0</title>\n",
       "<path d=\"M1090.52,-1179.17C1090.52,-1171.08 1090.52,-1161.58 1090.52,-1152.7\" fill=\"none\" stroke=\"black\"/>\n",
       "<polygon fill=\"black\" points=\"1094.02,-1152.69 1090.52,-1142.69 1087.02,-1152.69 1094.02,-1152.69\" stroke=\"black\"/>\n",
       "</g>\n",
       "<!-- helpers.GenericBrushLayer object at 0x7fd0345c2390 -->\n",
       "<g class=\"node\" id=\"node36\"><title>helpers.GenericBrushLayer object at 0x7fd0345c2390</title>\n",
       "<polygon fill=\"#af2e0d\" points=\"1431.88,-314.9 1431.88,-356.5 1625.17,-356.5 1625.17,-314.9 1431.88,-314.9\" stroke=\"black\"/>\n",
       "<text font-family=\"Times,serif\" font-size=\"14.00\" text-anchor=\"middle\" x=\"1528.52\" y=\"-339.9\">brush1, GenericBrushLayer</text>\n",
       "<text font-family=\"Times,serif\" font-size=\"14.00\" text-anchor=\"middle\" x=\"1528.52\" y=\"-323.1\">Output shape: (None, 1, 28, 28)</text>\n",
       "</g>\n",
       "<!-- helpers.GenericBrushLayer object at 0x7fd0345c2390&#45;&gt;lasagne.layers.merge.ElemwiseSumLayer object at 0x7fd03462f050 -->\n",
       "<g class=\"edge\" id=\"edge68\"><title>helpers.GenericBrushLayer object at 0x7fd0345c2390-&gt;lasagne.layers.merge.ElemwiseSumLayer object at 0x7fd03462f050</title>\n",
       "<path d=\"M1431.69,-316.741C1369,-305.114 1287.32,-289.964 1222.68,-277.975\" fill=\"none\" stroke=\"black\"/>\n",
       "<polygon fill=\"black\" points=\"1222.93,-274.462 1212.46,-276.079 1221.66,-281.344 1222.93,-274.462\" stroke=\"black\"/>\n",
       "</g>\n",
       "<!-- lasagne.layers.shape.ReshapeLayer object at 0x7fd034e4ea50&#45;&gt;helpers.ExpressionLayerMulti object at 0x7fd034e4ead0 -->\n",
       "<g class=\"edge\" id=\"edge36\"><title>lasagne.layers.shape.ReshapeLayer object at 0x7fd034e4ea50-&gt;helpers.ExpressionLayerMulti object at 0x7fd034e4ead0</title>\n",
       "<path d=\"M566.397,-471.974C580.144,-462.488 596.746,-451.031 611.416,-440.907\" fill=\"none\" stroke=\"black\"/>\n",
       "<polygon fill=\"black\" points=\"613.551,-443.686 619.794,-435.126 609.575,-437.925 613.551,-443.686\" stroke=\"black\"/>\n",
       "</g>\n",
       "<!-- lasagne.layers.shape.SliceLayer object at 0x7fd034e4eb50 -->\n",
       "<g class=\"node\" id=\"node38\"><title>lasagne.layers.shape.SliceLayer object at 0x7fd034e4eb50</title>\n",
       "<polygon fill=\"#da368f\" points=\"1092,-786.5 1092,-828.1 1251.05,-828.1 1251.05,-786.5 1092,-786.5\" stroke=\"black\"/>\n",
       "<text font-family=\"Times,serif\" font-size=\"14.00\" text-anchor=\"middle\" x=\"1171.52\" y=\"-811.5\">repr_cur_3_0, SliceLayer</text>\n",
       "<text font-family=\"Times,serif\" font-size=\"14.00\" text-anchor=\"middle\" x=\"1171.52\" y=\"-794.7\">Output shape: (None, 10)</text>\n",
       "</g>\n",
       "<!-- lasagne.layers.merge.ConcatLayer object at 0x7fd0346aff90 -->\n",
       "<g class=\"node\" id=\"node48\"><title>lasagne.layers.merge.ConcatLayer object at 0x7fd0346aff90</title>\n",
       "<polygon fill=\"#53e644\" points=\"1163.38,-707.9 1163.38,-749.5 1321.67,-749.5 1321.67,-707.9 1163.38,-707.9\" stroke=\"black\"/>\n",
       "<text font-family=\"Times,serif\" font-size=\"14.00\" text-anchor=\"middle\" x=\"1242.52\" y=\"-732.9\">ConcatLayer</text>\n",
       "<text font-family=\"Times,serif\" font-size=\"14.00\" text-anchor=\"middle\" x=\"1242.52\" y=\"-716.1\">Output shape: (None, 12)</text>\n",
       "</g>\n",
       "<!-- lasagne.layers.shape.SliceLayer object at 0x7fd034e4eb50&#45;&gt;lasagne.layers.merge.ConcatLayer object at 0x7fd0346aff90 -->\n",
       "<g class=\"edge\" id=\"edge41\"><title>lasagne.layers.shape.SliceLayer object at 0x7fd034e4eb50-&gt;lasagne.layers.merge.ConcatLayer object at 0x7fd0346aff90</title>\n",
       "<path d=\"M1190.18,-786.174C1198.41,-777.29 1208.22,-766.708 1217.11,-757.118\" fill=\"none\" stroke=\"black\"/>\n",
       "<polygon fill=\"black\" points=\"1219.76,-759.405 1223.99,-749.691 1214.63,-754.646 1219.76,-759.405\" stroke=\"black\"/>\n",
       "</g>\n",
       "<!-- lasagne.layers.special.NonlinearityLayer object at 0x7fd032cd5d50&#45;&gt;lasagne.layers.shape.SliceLayer object at 0x7fd034e584d0 -->\n",
       "<g class=\"edge\" id=\"edge28\"><title>lasagne.layers.special.NonlinearityLayer object at 0x7fd032cd5d50-&gt;lasagne.layers.shape.SliceLayer object at 0x7fd034e584d0</title>\n",
       "<path d=\"M1084.11,-865.727C1081.22,-865.34 1078.36,-864.964 1075.52,-864.6 920.594,-844.707 877.76,-853.274 719.91,-828.731\" fill=\"none\" stroke=\"black\"/>\n",
       "<polygon fill=\"black\" points=\"720.265,-825.244 709.842,-827.146 719.175,-832.159 720.265,-825.244\" stroke=\"black\"/>\n",
       "</g>\n",
       "<!-- lasagne.layers.special.NonlinearityLayer object at 0x7fd032cd5d50&#45;&gt;lasagne.layers.shape.SliceLayer object at 0x7fd0345c2490 -->\n",
       "<g class=\"edge\" id=\"edge18\"><title>lasagne.layers.special.NonlinearityLayer object at 0x7fd032cd5d50-&gt;lasagne.layers.shape.SliceLayer object at 0x7fd0345c2490</title>\n",
       "<path d=\"M1326.82,-881.557C1479.1,-876.146 1748.35,-862.563 1987.3,-828.674\" fill=\"none\" stroke=\"black\"/>\n",
       "<polygon fill=\"black\" points=\"1987.82,-832.135 1997.22,-827.253 1986.83,-825.206 1987.82,-832.135\" stroke=\"black\"/>\n",
       "</g>\n",
       "<!-- lasagne.layers.shape.SliceLayer object at 0x7fd034e4e810 -->\n",
       "<g class=\"node\" id=\"node44\"><title>lasagne.layers.shape.SliceLayer object at 0x7fd034e4e810</title>\n",
       "<polygon fill=\"#da368f\" points=\"1269.33,-786.5 1269.33,-828.1 1437.72,-828.1 1437.72,-786.5 1269.33,-786.5\" stroke=\"black\"/>\n",
       "<text font-family=\"Times,serif\" font-size=\"14.00\" text-anchor=\"middle\" x=\"1353.52\" y=\"-811.5\">coord_cur_3_0, SliceLayer</text>\n",
       "<text font-family=\"Times,serif\" font-size=\"14.00\" text-anchor=\"middle\" x=\"1353.52\" y=\"-794.7\">Output shape: (None, 2)</text>\n",
       "</g>\n",
       "<!-- lasagne.layers.special.NonlinearityLayer object at 0x7fd032cd5d50&#45;&gt;lasagne.layers.shape.SliceLayer object at 0x7fd034e4e810 -->\n",
       "<g class=\"edge\" id=\"edge38\"><title>lasagne.layers.special.NonlinearityLayer object at 0x7fd032cd5d50-&gt;lasagne.layers.shape.SliceLayer object at 0x7fd034e4e810</title>\n",
       "<path d=\"M1244.02,-864.974C1263.04,-855.133 1286.15,-843.171 1306.23,-832.778\" fill=\"none\" stroke=\"black\"/>\n",
       "<polygon fill=\"black\" points=\"1307.94,-835.831 1315.22,-828.126 1304.73,-829.614 1307.94,-835.831\" stroke=\"black\"/>\n",
       "</g>\n",
       "<!-- lasagne.layers.shape.SliceLayer object at 0x7fd035077bd0 -->\n",
       "<g class=\"node\" id=\"node52\"><title>lasagne.layers.shape.SliceLayer object at 0x7fd035077bd0</title>\n",
       "<polygon fill=\"#da368f\" points=\"177.33,-786.5 177.33,-828.1 345.716,-828.1 345.716,-786.5 177.33,-786.5\" stroke=\"black\"/>\n",
       "<text font-family=\"Times,serif\" font-size=\"14.00\" text-anchor=\"middle\" x=\"261.523\" y=\"-811.5\">coord_cur_5_0, SliceLayer</text>\n",
       "<text font-family=\"Times,serif\" font-size=\"14.00\" text-anchor=\"middle\" x=\"261.523\" y=\"-794.7\">Output shape: (None, 2)</text>\n",
       "</g>\n",
       "<!-- lasagne.layers.special.NonlinearityLayer object at 0x7fd032cd5d50&#45;&gt;lasagne.layers.shape.SliceLayer object at 0x7fd035077bd0 -->\n",
       "<g class=\"edge\" id=\"edge58\"><title>lasagne.layers.special.NonlinearityLayer object at 0x7fd032cd5d50-&gt;lasagne.layers.shape.SliceLayer object at 0x7fd035077bd0</title>\n",
       "<path d=\"M1084.13,-865.533C1081.24,-865.204 1078.36,-864.892 1075.52,-864.6 759.633,-832.141 674.302,-870.16 355.789,-828.65\" fill=\"none\" stroke=\"black\"/>\n",
       "<polygon fill=\"black\" points=\"356.186,-825.172 345.814,-827.334 355.271,-832.112 356.186,-825.172\" stroke=\"black\"/>\n",
       "</g>\n",
       "<!-- lasagne.layers.shape.SliceLayer object at 0x7fd03468fdd0 -->\n",
       "<g class=\"node\" id=\"node56\"><title>lasagne.layers.shape.SliceLayer object at 0x7fd03468fdd0</title>\n",
       "<polygon fill=\"#da368f\" points=\"905.33,-786.5 905.33,-828.1 1073.72,-828.1 1073.72,-786.5 905.33,-786.5\" stroke=\"black\"/>\n",
       "<text font-family=\"Times,serif\" font-size=\"14.00\" text-anchor=\"middle\" x=\"989.523\" y=\"-811.5\">coord_cur_4_0, SliceLayer</text>\n",
       "<text font-family=\"Times,serif\" font-size=\"14.00\" text-anchor=\"middle\" x=\"989.523\" y=\"-794.7\">Output shape: (None, 2)</text>\n",
       "</g>\n",
       "<!-- lasagne.layers.special.NonlinearityLayer object at 0x7fd032cd5d50&#45;&gt;lasagne.layers.shape.SliceLayer object at 0x7fd03468fdd0 -->\n",
       "<g class=\"edge\" id=\"edge48\"><title>lasagne.layers.special.NonlinearityLayer object at 0x7fd032cd5d50-&gt;lasagne.layers.shape.SliceLayer object at 0x7fd03468fdd0</title>\n",
       "<path d=\"M1149.62,-865.074C1120.74,-854.834 1085.33,-842.277 1055.17,-831.579\" fill=\"none\" stroke=\"black\"/>\n",
       "<polygon fill=\"black\" points=\"1056.16,-828.22 1045.57,-828.176 1053.83,-834.817 1056.16,-828.22\" stroke=\"black\"/>\n",
       "</g>\n",
       "<!-- lasagne.layers.shape.SliceLayer object at 0x7fd032cd5550 -->\n",
       "<g class=\"node\" id=\"node58\"><title>lasagne.layers.shape.SliceLayer object at 0x7fd032cd5550</title>\n",
       "<polygon fill=\"#da368f\" points=\"1633.33,-786.5 1633.33,-828.1 1801.72,-828.1 1801.72,-786.5 1633.33,-786.5\" stroke=\"black\"/>\n",
       "<text font-family=\"Times,serif\" font-size=\"14.00\" text-anchor=\"middle\" x=\"1717.52\" y=\"-811.5\">coord_cur_0_0, SliceLayer</text>\n",
       "<text font-family=\"Times,serif\" font-size=\"14.00\" text-anchor=\"middle\" x=\"1717.52\" y=\"-794.7\">Output shape: (None, 2)</text>\n",
       "</g>\n",
       "<!-- lasagne.layers.special.NonlinearityLayer object at 0x7fd032cd5d50&#45;&gt;lasagne.layers.shape.SliceLayer object at 0x7fd032cd5550 -->\n",
       "<g class=\"edge\" id=\"edge5\"><title>lasagne.layers.special.NonlinearityLayer object at 0x7fd032cd5d50-&gt;lasagne.layers.shape.SliceLayer object at 0x7fd032cd5550</title>\n",
       "<path d=\"M1326.94,-871.234C1408.27,-861.453 1517.9,-847.062 1623.32,-828.749\" fill=\"none\" stroke=\"black\"/>\n",
       "<polygon fill=\"black\" points=\"1623.94,-832.195 1633.18,-827.023 1622.73,-825.3 1623.94,-832.195\" stroke=\"black\"/>\n",
       "</g>\n",
       "<!-- lasagne.layers.special.NonlinearityLayer object at 0x7fd03534de50&#45;&gt;lasagne.layers.shape.ReshapeLayer object at 0x7fd03534de10 -->\n",
       "<g class=\"edge\" id=\"edge64\"><title>lasagne.layers.special.NonlinearityLayer object at 0x7fd03534de50-&gt;lasagne.layers.shape.ReshapeLayer object at 0x7fd03534de10</title>\n",
       "<path d=\"M206.523,-550.374C206.523,-542.282 206.523,-532.78 206.523,-523.903\" fill=\"none\" stroke=\"black\"/>\n",
       "<polygon fill=\"black\" points=\"210.023,-523.891 206.523,-513.891 203.023,-523.891 210.023,-523.891\" stroke=\"black\"/>\n",
       "</g>\n",
       "<!-- lasagne.layers.merge.ConcatLayer object at 0x7fd0345c2710&#45;&gt;lasagne.layers.dense.DenseLayer object at 0x7fd0345c2810 -->\n",
       "<g class=\"edge\" id=\"edge12\"><title>lasagne.layers.merge.ConcatLayer object at 0x7fd0345c2710-&gt;lasagne.layers.dense.DenseLayer object at 0x7fd0345c2810</title>\n",
       "<path d=\"M1583.52,-707.574C1583.52,-699.482 1583.52,-689.98 1583.52,-681.103\" fill=\"none\" stroke=\"black\"/>\n",
       "<polygon fill=\"black\" points=\"1587.02,-681.091 1583.52,-671.091 1580.02,-681.091 1587.02,-681.091\" stroke=\"black\"/>\n",
       "</g>\n",
       "<!-- lasagne.layers.shape.ReshapeLayer object at 0x7fd032cfe650 -->\n",
       "<g class=\"node\" id=\"node50\"><title>lasagne.layers.shape.ReshapeLayer object at 0x7fd032cfe650</title>\n",
       "<polygon fill=\"#ff8351\" points=\"900.376,-943.7 900.376,-985.3 1072.67,-985.3 1072.67,-943.7 900.376,-943.7\" stroke=\"black\"/>\n",
       "<text font-family=\"Times,serif\" font-size=\"14.00\" text-anchor=\"middle\" x=\"986.523\" y=\"-968.7\">ReshapeLayer</text>\n",
       "<text font-family=\"Times,serif\" font-size=\"14.00\" text-anchor=\"middle\" x=\"986.523\" y=\"-951.9\">Output shape: (None, 6, 10)</text>\n",
       "</g>\n",
       "<!-- lasagne.layers.dense.DenseLayer object at 0x7fd032b91b50&#45;&gt;lasagne.layers.shape.ReshapeLayer object at 0x7fd032cfe650 -->\n",
       "<g class=\"edge\" id=\"edge7\"><title>lasagne.layers.dense.DenseLayer object at 0x7fd032b91b50-&gt;lasagne.layers.shape.ReshapeLayer object at 0x7fd032cfe650</title>\n",
       "<path d=\"M996.108,-1021.97C994.734,-1013.88 993.122,-1004.38 991.615,-995.503\" fill=\"none\" stroke=\"black\"/>\n",
       "<polygon fill=\"black\" points=\"995.04,-994.765 989.916,-985.491 988.139,-995.936 995.04,-994.765\" stroke=\"black\"/>\n",
       "</g>\n",
       "<!-- lasagne.layers.shape.ReshapeLayer object at 0x7fd032bd5110&#45;&gt;helpers.ExpressionLayerMulti object at 0x7fd032bd50d0 -->\n",
       "<g class=\"edge\" id=\"edge56\"><title>lasagne.layers.shape.ReshapeLayer object at 0x7fd032bd5110-&gt;helpers.ExpressionLayerMulti object at 0x7fd032bd50d0</title>\n",
       "<path d=\"M901.907,-471.774C912.536,-462.626 925.257,-451.678 936.657,-441.866\" fill=\"none\" stroke=\"black\"/>\n",
       "<polygon fill=\"black\" points=\"938.999,-444.467 944.296,-435.291 934.433,-439.162 938.999,-444.467\" stroke=\"black\"/>\n",
       "</g>\n",
       "<!-- lasagne.layers.shape.SliceLayer object at 0x7fd034e4e810&#45;&gt;lasagne.layers.merge.ConcatLayer object at 0x7fd0346aff90 -->\n",
       "<g class=\"edge\" id=\"edge40\"><title>lasagne.layers.shape.SliceLayer object at 0x7fd034e4e810-&gt;lasagne.layers.merge.ConcatLayer object at 0x7fd0346aff90</title>\n",
       "<path d=\"M1324.65,-786.374C1310.9,-776.888 1294.3,-765.431 1279.63,-755.307\" fill=\"none\" stroke=\"black\"/>\n",
       "<polygon fill=\"black\" points=\"1281.47,-752.325 1271.25,-749.526 1277.5,-758.086 1281.47,-752.325\" stroke=\"black\"/>\n",
       "</g>\n",
       "<!-- helpers.ExpressionLayerMulti object at 0x7fd0349e4690 -->\n",
       "<g class=\"node\" id=\"node55\"><title>helpers.ExpressionLayerMulti object at 0x7fd0349e4690</title>\n",
       "<polygon fill=\"#23b66c\" points=\"1125.11,-393.5 1125.11,-435.1 1403.93,-435.1 1403.93,-393.5 1125.11,-393.5\" stroke=\"black\"/>\n",
       "<text font-family=\"Times,serif\" font-size=\"14.00\" text-anchor=\"middle\" x=\"1264.52\" y=\"-418.5\">coord_3_0_normalized, ExpressionLayerMulti</text>\n",
       "<text font-family=\"Times,serif\" font-size=\"14.00\" text-anchor=\"middle\" x=\"1264.52\" y=\"-401.7\">Output shape: (None, 3, 2)</text>\n",
       "</g>\n",
       "<!-- lasagne.layers.shape.SliceLayer object at 0x7fd034e4e810&#45;&gt;helpers.ExpressionLayerMulti object at 0x7fd0349e4690 -->\n",
       "<g class=\"edge\" id=\"edge45\"><title>lasagne.layers.shape.SliceLayer object at 0x7fd034e4e810-&gt;helpers.ExpressionLayerMulti object at 0x7fd0349e4690</title>\n",
       "<path d=\"M1353.52,-786.21C1353.52,-756.625 1353.52,-699.6 1353.52,-651.1 1353.52,-651.1 1353.52,-651.1 1353.52,-570.5 1353.52,-525.741 1357.6,-509.953 1334.52,-471.6 1327.54,-459.992 1317.24,-449.78 1306.67,-441.353\" fill=\"none\" stroke=\"black\"/>\n",
       "<polygon fill=\"black\" points=\"1308.68,-438.487 1298.59,-435.263 1304.47,-444.077 1308.68,-438.487\" stroke=\"black\"/>\n",
       "</g>\n",
       "<!-- lasagne.layers.special.BiasLayer object at 0x7fd032cd5a90 -->\n",
       "<g class=\"node\" id=\"node45\"><title>lasagne.layers.special.BiasLayer object at 0x7fd032cd5a90</title>\n",
       "<polygon fill=\"#f1757b\" points=\"1018.88,-79.1 1018.88,-120.7 1212.17,-120.7 1212.17,-79.1 1018.88,-79.1\" stroke=\"black\"/>\n",
       "<text font-family=\"Times,serif\" font-size=\"14.00\" text-anchor=\"middle\" x=\"1115.52\" y=\"-104.1\">biased_output, BiasLayer</text>\n",
       "<text font-family=\"Times,serif\" font-size=\"14.00\" text-anchor=\"middle\" x=\"1115.52\" y=\"-87.3\">Output shape: (None, 1, 28, 28)</text>\n",
       "</g>\n",
       "<!-- lasagne.layers.special.BiasLayer object at 0x7fd032cd5a90&#45;&gt;lasagne.layers.special.NonlinearityLayer object at 0x7fd032cd5610 -->\n",
       "<g class=\"edge\" id=\"edge76\"><title>lasagne.layers.special.BiasLayer object at 0x7fd032cd5a90-&gt;lasagne.layers.special.NonlinearityLayer object at 0x7fd032cd5610</title>\n",
       "<path d=\"M1115.52,-78.7743C1115.52,-70.6819 1115.52,-61.1803 1115.52,-52.3033\" fill=\"none\" stroke=\"black\"/>\n",
       "<polygon fill=\"black\" points=\"1119.02,-52.2913 1115.52,-42.2913 1112.02,-52.2914 1119.02,-52.2913\" stroke=\"black\"/>\n",
       "</g>\n",
       "<!-- lasagne.layers.special.ScaleLayer object at 0x7fd032cd5310&#45;&gt;lasagne.layers.special.BiasLayer object at 0x7fd032cd5a90 -->\n",
       "<g class=\"edge\" id=\"edge75\"><title>lasagne.layers.special.ScaleLayer object at 0x7fd032cd5310-&gt;lasagne.layers.special.BiasLayer object at 0x7fd032cd5a90</title>\n",
       "<path d=\"M1115.52,-157.374C1115.52,-149.282 1115.52,-139.78 1115.52,-130.903\" fill=\"none\" stroke=\"black\"/>\n",
       "<polygon fill=\"black\" points=\"1119.02,-130.891 1115.52,-120.891 1112.02,-130.891 1119.02,-130.891\" stroke=\"black\"/>\n",
       "</g>\n",
       "<!-- lasagne.layers.shape.ReshapeLayer object at 0x7fd0349e45d0&#45;&gt;helpers.ExpressionLayerMulti object at 0x7fd0349e4690 -->\n",
       "<g class=\"edge\" id=\"edge46\"><title>lasagne.layers.shape.ReshapeLayer object at 0x7fd0349e45d0-&gt;helpers.ExpressionLayerMulti object at 0x7fd0349e4690</title>\n",
       "<path d=\"M1248.3,-471.774C1250.65,-463.594 1253.42,-453.974 1255.99,-445.014\" fill=\"none\" stroke=\"black\"/>\n",
       "<polygon fill=\"black\" points=\"1259.39,-445.869 1258.78,-435.291 1252.66,-443.937 1259.39,-445.869\" stroke=\"black\"/>\n",
       "</g>\n",
       "<!-- lasagne.layers.merge.ConcatLayer object at 0x7fd0346aff90&#45;&gt;lasagne.layers.dense.DenseLayer object at 0x7fd0346af510 -->\n",
       "<g class=\"edge\" id=\"edge42\"><title>lasagne.layers.merge.ConcatLayer object at 0x7fd0346aff90-&gt;lasagne.layers.dense.DenseLayer object at 0x7fd0346af510</title>\n",
       "<path d=\"M1242.52,-707.574C1242.52,-699.482 1242.52,-689.98 1242.52,-681.103\" fill=\"none\" stroke=\"black\"/>\n",
       "<polygon fill=\"black\" points=\"1246.02,-681.091 1242.52,-671.091 1239.02,-681.091 1246.02,-681.091\" stroke=\"black\"/>\n",
       "</g>\n",
       "<!-- lasagne.layers.dense.DenseLayer object at 0x7fd034e4e450&#45;&gt;lasagne.layers.special.NonlinearityLayer object at 0x7fd034e4e510 -->\n",
       "<g class=\"edge\" id=\"edge33\"><title>lasagne.layers.dense.DenseLayer object at 0x7fd034e4e450-&gt;lasagne.layers.special.NonlinearityLayer object at 0x7fd034e4e510</title>\n",
       "<path d=\"M537.523,-628.974C537.523,-620.882 537.523,-611.38 537.523,-602.503\" fill=\"none\" stroke=\"black\"/>\n",
       "<polygon fill=\"black\" points=\"541.023,-602.491 537.523,-592.491 534.023,-602.491 541.023,-602.491\" stroke=\"black\"/>\n",
       "</g>\n",
       "<!-- lasagne.layers.special.ExpressionLayer object at 0x7fd032aba5d0 -->\n",
       "<g class=\"node\" id=\"node60\"><title>lasagne.layers.special.ExpressionLayer object at 0x7fd032aba5d0</title>\n",
       "<polygon fill=\"#9c29ba\" points=\"842.342,-865.1 842.342,-906.7 1066.7,-906.7 1066.7,-865.1 842.342,-865.1\" stroke=\"black\"/>\n",
       "<text font-family=\"Times,serif\" font-size=\"14.00\" text-anchor=\"middle\" x=\"954.523\" y=\"-890.1\">repr_0_normalized, ExpressionLayer</text>\n",
       "<text font-family=\"Times,serif\" font-size=\"14.00\" text-anchor=\"middle\" x=\"954.523\" y=\"-873.3\">Output shape: (None, 6, 10)</text>\n",
       "</g>\n",
       "<!-- lasagne.layers.shape.ReshapeLayer object at 0x7fd032cfe650&#45;&gt;lasagne.layers.special.ExpressionLayer object at 0x7fd032aba5d0 -->\n",
       "<g class=\"edge\" id=\"edge8\"><title>lasagne.layers.shape.ReshapeLayer object at 0x7fd032cfe650-&gt;lasagne.layers.special.ExpressionLayer object at 0x7fd032aba5d0</title>\n",
       "<path d=\"M978.116,-943.374C974.661,-935.106 970.593,-925.367 966.816,-916.325\" fill=\"none\" stroke=\"black\"/>\n",
       "<polygon fill=\"black\" points=\"969.959,-914.769 962.875,-906.891 963.5,-917.468 969.959,-914.769\" stroke=\"black\"/>\n",
       "</g>\n",
       "<!-- lasagne.layers.merge.ConcatLayer object at 0x7fd0351b9ad0&#45;&gt;lasagne.layers.dense.DenseLayer object at 0x7fd034aac950 -->\n",
       "<g class=\"edge\" id=\"edge62\"><title>lasagne.layers.merge.ConcatLayer object at 0x7fd0351b9ad0-&gt;lasagne.layers.dense.DenseLayer object at 0x7fd034aac950</title>\n",
       "<path d=\"M206.523,-707.574C206.523,-699.482 206.523,-689.98 206.523,-681.103\" fill=\"none\" stroke=\"black\"/>\n",
       "<polygon fill=\"black\" points=\"210.023,-681.091 206.523,-671.091 203.023,-681.091 210.023,-681.091\" stroke=\"black\"/>\n",
       "</g>\n",
       "<!-- lasagne.layers.shape.SliceLayer object at 0x7fd035077bd0&#45;&gt;helpers.ExpressionLayerMulti object at 0x7fd0353e0690 -->\n",
       "<g class=\"edge\" id=\"edge65\"><title>lasagne.layers.shape.SliceLayer object at 0x7fd035077bd0-&gt;helpers.ExpressionLayerMulti object at 0x7fd0353e0690</title>\n",
       "<path d=\"M275.14,-786.467C281.797,-776.008 289.447,-762.734 294.523,-750 311.234,-708.08 317.523,-696.229 317.523,-651.1 317.523,-651.1 317.523,-651.1 317.523,-570.5 317.523,-527.115 317.523,-476.909 317.523,-445.625\" fill=\"none\" stroke=\"black\"/>\n",
       "<polygon fill=\"black\" points=\"321.023,-445.39 317.523,-435.39 314.023,-445.39 321.023,-445.39\" stroke=\"black\"/>\n",
       "</g>\n",
       "<!-- lasagne.layers.shape.SliceLayer object at 0x7fd035077bd0&#45;&gt;lasagne.layers.merge.ConcatLayer object at 0x7fd0351b9ad0 -->\n",
       "<g class=\"edge\" id=\"edge60\"><title>lasagne.layers.shape.SliceLayer object at 0x7fd035077bd0-&gt;lasagne.layers.merge.ConcatLayer object at 0x7fd0351b9ad0</title>\n",
       "<path d=\"M247.073,-786.174C240.883,-777.554 233.546,-767.335 226.825,-757.975\" fill=\"none\" stroke=\"black\"/>\n",
       "<polygon fill=\"black\" points=\"229.553,-755.773 220.877,-749.691 223.867,-759.856 229.553,-755.773\" stroke=\"black\"/>\n",
       "</g>\n",
       "<!-- helpers.ExpressionLayerMulti object at 0x7fd0345c2a90&#45;&gt;helpers.GenericBrushLayer object at 0x7fd0345c2390 -->\n",
       "<g class=\"edge\" id=\"edge17\"><title>helpers.ExpressionLayerMulti object at 0x7fd0345c2a90-&gt;helpers.GenericBrushLayer object at 0x7fd0345c2390</title>\n",
       "<path d=\"M1569.07,-393.174C1562.88,-384.554 1555.55,-374.335 1548.83,-364.975\" fill=\"none\" stroke=\"black\"/>\n",
       "<polygon fill=\"black\" points=\"1551.55,-362.773 1542.88,-356.691 1545.87,-366.856 1551.55,-362.773\" stroke=\"black\"/>\n",
       "</g>\n",
       "<!-- helpers.GenericBrushLayer object at 0x7fd034e582d0&#45;&gt;lasagne.layers.merge.ElemwiseSumLayer object at 0x7fd03462f050 -->\n",
       "<g class=\"edge\" id=\"edge69\"><title>helpers.GenericBrushLayer object at 0x7fd034e582d0-&gt;lasagne.layers.merge.ElemwiseSumLayer object at 0x7fd03462f050</title>\n",
       "<path d=\"M1733.72,-324.33C1600.39,-310.045 1361.02,-284.401 1222.51,-269.562\" fill=\"none\" stroke=\"black\"/>\n",
       "<polygon fill=\"black\" points=\"1222.62,-266.054 1212.31,-268.469 1221.88,-273.014 1222.62,-266.054\" stroke=\"black\"/>\n",
       "</g>\n",
       "<!-- helpers.ExpressionLayerMulti object at 0x7fd0349e4690&#45;&gt;helpers.GenericBrushLayer object at 0x7fd032936f10 -->\n",
       "<g class=\"edge\" id=\"edge47\"><title>helpers.ExpressionLayerMulti object at 0x7fd0349e4690-&gt;helpers.GenericBrushLayer object at 0x7fd032936f10</title>\n",
       "<path d=\"M1258.74,-393.174C1256.39,-384.994 1253.63,-375.374 1251.06,-366.414\" fill=\"none\" stroke=\"black\"/>\n",
       "<polygon fill=\"black\" points=\"1254.39,-365.337 1248.26,-356.691 1247.66,-367.269 1254.39,-365.337\" stroke=\"black\"/>\n",
       "</g>\n",
       "<!-- lasagne.layers.shape.SliceLayer object at 0x7fd03468fdd0&#45;&gt;lasagne.layers.merge.ConcatLayer object at 0x7fd032ba9fd0 -->\n",
       "<g class=\"edge\" id=\"edge50\"><title>lasagne.layers.shape.SliceLayer object at 0x7fd03468fdd0-&gt;lasagne.layers.merge.ConcatLayer object at 0x7fd032ba9fd0</title>\n",
       "<path d=\"M960.649,-786.374C946.903,-776.888 930.3,-765.431 915.63,-755.307\" fill=\"none\" stroke=\"black\"/>\n",
       "<polygon fill=\"black\" points=\"917.471,-752.325 907.253,-749.526 913.495,-758.086 917.471,-752.325\" stroke=\"black\"/>\n",
       "</g>\n",
       "<!-- lasagne.layers.shape.SliceLayer object at 0x7fd03468fdd0&#45;&gt;helpers.ExpressionLayerMulti object at 0x7fd032bd50d0 -->\n",
       "<g class=\"edge\" id=\"edge55\"><title>lasagne.layers.shape.SliceLayer object at 0x7fd03468fdd0-&gt;helpers.ExpressionLayerMulti object at 0x7fd032bd50d0</title>\n",
       "<path d=\"M989.523,-786.21C989.523,-756.625 989.523,-699.6 989.523,-651.1 989.523,-651.1 989.523,-651.1 989.523,-570.5 989.523,-526.682 980.82,-476.587 974.362,-445.445\" fill=\"none\" stroke=\"black\"/>\n",
       "<polygon fill=\"black\" points=\"977.699,-444.312 972.189,-435.262 970.853,-445.772 977.699,-444.312\" stroke=\"black\"/>\n",
       "</g>\n",
       "<!-- lasagne.layers.shape.SliceLayer object at 0x7fd03468f650 -->\n",
       "<g class=\"node\" id=\"node57\"><title>lasagne.layers.shape.SliceLayer object at 0x7fd03468f650</title>\n",
       "<polygon fill=\"#da368f\" points=\"728,-786.5 728,-828.1 887.046,-828.1 887.046,-786.5 728,-786.5\" stroke=\"black\"/>\n",
       "<text font-family=\"Times,serif\" font-size=\"14.00\" text-anchor=\"middle\" x=\"807.523\" y=\"-811.5\">repr_cur_4_0, SliceLayer</text>\n",
       "<text font-family=\"Times,serif\" font-size=\"14.00\" text-anchor=\"middle\" x=\"807.523\" y=\"-794.7\">Output shape: (None, 10)</text>\n",
       "</g>\n",
       "<!-- lasagne.layers.shape.SliceLayer object at 0x7fd03468f650&#45;&gt;lasagne.layers.merge.ConcatLayer object at 0x7fd032ba9fd0 -->\n",
       "<g class=\"edge\" id=\"edge51\"><title>lasagne.layers.shape.SliceLayer object at 0x7fd03468f650-&gt;lasagne.layers.merge.ConcatLayer object at 0x7fd032ba9fd0</title>\n",
       "<path d=\"M826.178,-786.174C834.412,-777.29 844.221,-766.708 853.11,-757.118\" fill=\"none\" stroke=\"black\"/>\n",
       "<polygon fill=\"black\" points=\"855.762,-759.405 859.993,-749.691 850.629,-754.646 855.762,-759.405\" stroke=\"black\"/>\n",
       "</g>\n",
       "<!-- lasagne.layers.shape.SliceLayer object at 0x7fd032cd5550&#45;&gt;lasagne.layers.merge.ConcatLayer object at 0x7fd0345c2710 -->\n",
       "<g class=\"edge\" id=\"edge10\"><title>lasagne.layers.shape.SliceLayer object at 0x7fd032cd5550-&gt;lasagne.layers.merge.ConcatLayer object at 0x7fd0345c2710</title>\n",
       "<path d=\"M1682.67,-786.374C1665.76,-776.711 1645.28,-765.002 1627.33,-754.741\" fill=\"none\" stroke=\"black\"/>\n",
       "<polygon fill=\"black\" points=\"1628.62,-751.45 1618.21,-749.526 1625.15,-757.527 1628.62,-751.45\" stroke=\"black\"/>\n",
       "</g>\n",
       "<!-- lasagne.layers.shape.SliceLayer object at 0x7fd032cd5550&#45;&gt;helpers.ExpressionLayerMulti object at 0x7fd0345c2a90 -->\n",
       "<g class=\"edge\" id=\"edge15\"><title>lasagne.layers.shape.SliceLayer object at 0x7fd032cd5550-&gt;helpers.ExpressionLayerMulti object at 0x7fd0345c2a90</title>\n",
       "<path d=\"M1717.31,-786.21C1717.02,-756.626 1716.52,-699.601 1716.52,-651.1 1716.52,-651.1 1716.52,-651.1 1716.52,-570.5 1716.52,-522.917 1706.44,-507.768 1675.52,-471.6 1665.04,-459.34 1651.2,-448.957 1637.44,-440.575\" fill=\"none\" stroke=\"black\"/>\n",
       "<polygon fill=\"black\" points=\"1638.86,-437.35 1628.45,-435.357 1635.34,-443.404 1638.86,-437.35\" stroke=\"black\"/>\n",
       "</g>\n",
       "<!-- lasagne.layers.shape.SliceLayer object at 0x7fd034e58710 -->\n",
       "<g class=\"node\" id=\"node59\"><title>lasagne.layers.shape.SliceLayer object at 0x7fd034e58710</title>\n",
       "<polygon fill=\"#da368f\" points=\"364,-786.5 364,-828.1 523.046,-828.1 523.046,-786.5 364,-786.5\" stroke=\"black\"/>\n",
       "<text font-family=\"Times,serif\" font-size=\"14.00\" text-anchor=\"middle\" x=\"443.523\" y=\"-811.5\">repr_cur_2_0, SliceLayer</text>\n",
       "<text font-family=\"Times,serif\" font-size=\"14.00\" text-anchor=\"middle\" x=\"443.523\" y=\"-794.7\">Output shape: (None, 10)</text>\n",
       "</g>\n",
       "<!-- lasagne.layers.shape.SliceLayer object at 0x7fd034e58710&#45;&gt;lasagne.layers.merge.ConcatLayer object at 0x7fd034e4e090 -->\n",
       "<g class=\"edge\" id=\"edge31\"><title>lasagne.layers.shape.SliceLayer object at 0x7fd034e58710-&gt;lasagne.layers.merge.ConcatLayer object at 0x7fd034e4e090</title>\n",
       "<path d=\"M468.221,-786.174C479.446,-777.026 492.882,-766.078 504.922,-756.266\" fill=\"none\" stroke=\"black\"/>\n",
       "<polygon fill=\"black\" points=\"507.45,-758.722 512.991,-749.691 503.028,-753.295 507.45,-758.722\" stroke=\"black\"/>\n",
       "</g>\n",
       "<!-- lasagne.layers.special.ExpressionLayer object at 0x7fd032aba5d0&#45;&gt;lasagne.layers.shape.SliceLayer object at 0x7fd0345c22d0 -->\n",
       "<g class=\"edge\" id=\"edge19\"><title>lasagne.layers.special.ExpressionLayer object at 0x7fd032aba5d0-&gt;lasagne.layers.shape.SliceLayer object at 0x7fd0345c22d0</title>\n",
       "<path d=\"M1066.85,-865.595C1069.77,-865.241 1072.66,-864.909 1075.52,-864.6 1397.36,-829.843 1484.73,-872.249 1809.42,-828.611\" fill=\"none\" stroke=\"black\"/>\n",
       "<polygon fill=\"black\" points=\"1810.15,-832.044 1819.59,-827.227 1809.21,-825.108 1810.15,-832.044\" stroke=\"black\"/>\n",
       "</g>\n",
       "<!-- lasagne.layers.special.ExpressionLayer object at 0x7fd032aba5d0&#45;&gt;lasagne.layers.shape.SliceLayer object at 0x7fd0346af190 -->\n",
       "<g class=\"edge\" id=\"edge59\"><title>lasagne.layers.special.ExpressionLayer object at 0x7fd032aba5d0-&gt;lasagne.layers.shape.SliceLayer object at 0x7fd0346af190</title>\n",
       "<path d=\"M842.321,-882.246C691.371,-877.469 414.545,-864.464 169.633,-828.643\" fill=\"none\" stroke=\"black\"/>\n",
       "<polygon fill=\"black\" points=\"169.872,-825.14 159.467,-827.14 168.848,-832.065 169.872,-825.14\" stroke=\"black\"/>\n",
       "</g>\n",
       "<!-- lasagne.layers.special.ExpressionLayer object at 0x7fd032aba5d0&#45;&gt;lasagne.layers.shape.SliceLayer object at 0x7fd032cd5150 -->\n",
       "<g class=\"edge\" id=\"edge9\"><title>lasagne.layers.special.ExpressionLayer object at 0x7fd032aba5d0-&gt;lasagne.layers.shape.SliceLayer object at 0x7fd032cd5150</title>\n",
       "<path d=\"M1066.88,-865.778C1069.79,-865.371 1072.67,-864.977 1075.52,-864.6 1236.55,-843.306 1281.25,-854.61 1445.6,-828.641\" fill=\"none\" stroke=\"black\"/>\n",
       "<polygon fill=\"black\" points=\"1446.24,-832.082 1455.56,-827.044 1445.14,-825.17 1446.24,-832.082\" stroke=\"black\"/>\n",
       "</g>\n",
       "<!-- lasagne.layers.special.ExpressionLayer object at 0x7fd032aba5d0&#45;&gt;lasagne.layers.shape.SliceLayer object at 0x7fd034e4eb50 -->\n",
       "<g class=\"edge\" id=\"edge39\"><title>lasagne.layers.special.ExpressionLayer object at 0x7fd032aba5d0-&gt;lasagne.layers.shape.SliceLayer object at 0x7fd034e4eb50</title>\n",
       "<path d=\"M1010.69,-865.074C1039.7,-854.834 1075.27,-842.277 1105.58,-831.579\" fill=\"none\" stroke=\"black\"/>\n",
       "<polygon fill=\"black\" points=\"1106.95,-834.805 1115.22,-828.176 1104.62,-828.204 1106.95,-834.805\" stroke=\"black\"/>\n",
       "</g>\n",
       "<!-- lasagne.layers.special.ExpressionLayer object at 0x7fd032aba5d0&#45;&gt;lasagne.layers.shape.SliceLayer object at 0x7fd03468f650 -->\n",
       "<g class=\"edge\" id=\"edge49\"><title>lasagne.layers.special.ExpressionLayer object at 0x7fd032aba5d0-&gt;lasagne.layers.shape.SliceLayer object at 0x7fd03468f650</title>\n",
       "<path d=\"M916.284,-864.974C897.399,-855.133 874.443,-843.171 854.498,-832.778\" fill=\"none\" stroke=\"black\"/>\n",
       "<polygon fill=\"black\" points=\"856.056,-829.643 845.571,-828.126 852.821,-835.851 856.056,-829.643\" stroke=\"black\"/>\n",
       "</g>\n",
       "<!-- lasagne.layers.special.ExpressionLayer object at 0x7fd032aba5d0&#45;&gt;lasagne.layers.shape.SliceLayer object at 0x7fd034e58710 -->\n",
       "<g class=\"edge\" id=\"edge29\"><title>lasagne.layers.special.ExpressionLayer object at 0x7fd032aba5d0-&gt;lasagne.layers.shape.SliceLayer object at 0x7fd034e58710</title>\n",
       "<path d=\"M842.136,-872.745C759.36,-863.127 643.903,-848.324 533.488,-828.697\" fill=\"none\" stroke=\"black\"/>\n",
       "<polygon fill=\"black\" points=\"533.967,-825.227 523.506,-826.907 532.731,-832.117 533.967,-825.227\" stroke=\"black\"/>\n",
       "</g>\n",
       "</g>\n",
       "</svg>"
      ],
      "text/plain": [
       "<IPython.core.display.SVG object>"
      ]
     },
     "execution_count": 3,
     "metadata": {},
     "output_type": "execute_result"
    }
   ],
   "source": [
    "draw_to_file(L.get_all_layers(layers['output']), 'out.svg')\n",
    "SVG('out.svg')"
   ]
  },
  {
   "cell_type": "code",
   "execution_count": 4,
   "metadata": {
    "collapsed": false
   },
   "outputs": [
    {
     "name": "stdout",
     "output_type": "stream",
     "text": [
      "input\n",
      "repr_0\n",
      "repr_0_normalized\n",
      "coord_0\n",
      "coord_0_normalized\n",
      "coord_0_0\n",
      "coord_0_0_normalized\n",
      "repr_0_0\n",
      "repr_0_0_normalized\n",
      "brush1\n",
      "coord_1_0\n",
      "coord_1_0_normalized\n",
      "repr_1_0\n",
      "repr_1_0_normalized\n",
      "coord_2_0\n",
      "coord_2_0_normalized\n",
      "repr_2_0\n",
      "repr_2_0_normalized\n",
      "coord_3_0\n",
      "coord_3_0_normalized\n",
      "repr_3_0\n",
      "repr_3_0_normalized\n",
      "coord_4_0\n",
      "coord_4_0_normalized\n",
      "repr_4_0\n",
      "repr_4_0_normalized\n",
      "coord_5_0\n",
      "coord_5_0_normalized\n",
      "repr_5_0\n",
      "repr_5_0_normalized\n",
      "raw_out\n",
      "scaled_output\n",
      "biased_output\n",
      "output\n"
     ]
    }
   ],
   "source": [
    "for l in layers:\n",
    "    print(l)"
   ]
  },
  {
   "cell_type": "code",
   "execution_count": 5,
   "metadata": {
    "collapsed": false
   },
   "outputs": [
    {
     "name": "stdout",
     "output_type": "stream",
     "text": [
      "(128, 784)\n"
     ]
    },
    {
     "data": {
      "text/plain": [
       "<matplotlib.image.AxesImage at 0x7fd0251c26d0>"
      ]
     },
     "execution_count": 5,
     "metadata": {},
     "output_type": "execute_result"
    },
    {
     "data": {
      "image/png": "[encoded data removed]",
      "text/plain": [
       "<matplotlib.figure.Figure at 0x7fd0252a4550>"
      ]
     },
     "metadata": {},
     "output_type": "display_data"
    }
   ],
   "source": [
    "data.load()\n",
    "print(data.X.shape)\n",
    "X = data.X[0:100]\n",
    "X = capsule.preprocess(X)\n",
    "Xrec = capsule.reconstruct(X)\n",
    "fig = plt.figure(figsize=(10,10))\n",
    "plt.imshow(disp_grid(Xrec, border=1, bordercolor=(0.3,0.3,0.3)))"
   ]
  },
  {
   "cell_type": "markdown",
   "metadata": {},
   "source": [
    "## ProgramNeural network"
   ]
  },
  {
   "cell_type": "code",
   "execution_count": 6,
   "metadata": {
    "collapsed": false
   },
   "outputs": [],
   "source": [
    "X_t = T.tensor4()\n",
    "get_coords = theano.function([X_t], L.get_output(layers['coord_0_normalized'], X_t))\n",
    "get_repr = theano.function([X_t], L.get_output(layers['repr_0_normalized'], X_t))\n",
    "\n",
    "C = T.tensor3()\n",
    "R = T.tensor3()\n",
    "render = theano.function(\n",
    "    [C, R],\n",
    "    L.get_output(layers['output'], \n",
    "                 {layers['coord_0_normalized']: C, layers['repr_0_normalized']: R}, \n",
    "                 deterministic=True)\n",
    ")"
   ]
  },
  {
   "cell_type": "code",
   "execution_count": null,
   "metadata": {
    "collapsed": false
   },
   "outputs": [],
   "source": [
    "#get_coords_1 = theano.function([X_t], L.get_output(layers['coord_1_0_normalized'], X_t))\n",
    "#get_rel_coords_1 = theano.function([X_t], L.get_output(layers['coord_5_0'], X_t))"
   ]
  },
  {
   "cell_type": "code",
   "execution_count": 7,
   "metadata": {
    "collapsed": false
   },
   "outputs": [],
   "source": [
    "X = data.X[0:100]\n",
    "X = capsule.preprocess(X)\n",
    "coords = get_coords(X)\n",
    "reprs = get_repr(X)"
   ]
  },
  {
   "cell_type": "code",
   "execution_count": 139,
   "metadata": {
    "collapsed": false
   },
   "outputs": [],
   "source": [
    "coords_ = coords.copy()\n",
    "reprs_ = reprs.copy()\n",
    "#coords_[:, :, 0]+=0.3\n",
    "reprs_[reprs_>0]=0.9\n",
    "#print(reprs_[0])\n",
    "#coords_[:, :]=-0.00001\n",
    "#coords_[:, 0, 0] = 0.5\n",
    "#reprs_[:]=0\n",
    "#reprs_[:, 0, 9]=0.1\n",
    "#reprs_ = reprs_ == reprs_.max(axis=2,keepdims=True)\n",
    "#reprs_ = reprs_.astype(np.float32)\n",
    "#print(reprs_[:,0])\n",
    "#reprs_ = (reprs_ == reprs_.max(axis=2,keepdims=True))\n",
    "#reprs_ = reprs_.astype(np.float32)\n",
    "#reprs_[:,i,2]=0.3\n",
    "#coords_[:, i] = 0.5"
   ]
  },
  {
   "cell_type": "code",
   "execution_count": 141,
   "metadata": {
    "collapsed": false
   },
   "outputs": [
    {
     "data": {
      "image/png": "[encoded data removed]",
      "text/plain": [
       "<IPython.core.display.Image object>"
      ]
     },
     "execution_count": 141,
     "metadata": {
      "image/png": {
       "height": 400,
       "width": 400
      }
     },
     "output_type": "execute_result"
    }
   ],
   "source": [
    "Xrec = render(coords_, reprs_)\n",
    "img = disp_grid(Xrec[0:9], border=1, bordercolor=(0.3,0,0))\n",
    "imsave('out.png', img)\n",
    "Image('out.png', width=400, height=400)"
   ]
  },
  {
   "cell_type": "markdown",
   "metadata": {},
   "source": [
    "## Only come here To check vertebrate  convnets"
   ]
  },
  {
   "cell_type": "code",
   "execution_count": 10,
   "metadata": {
    "collapsed": false
   },
   "outputs": [
    {
     "ename": "KeyError",
     "evalue": "'wta1'",
     "output_type": "error",
     "traceback": [
      "\u001b[0;31m---------------------------------------------------------------------------\u001b[0m",
      "\u001b[0;31mKeyError\u001b[0m                                  Traceback (most recent call last)",
      "\u001b[0;32m<ipython-input-10-2748be31aa96>\u001b[0m in \u001b[0;36m<module>\u001b[0;34m()\u001b[0m\n\u001b[1;32m      3\u001b[0m encode = theano.function(\n\u001b[1;32m      4\u001b[0m     \u001b[0;34m[\u001b[0m\u001b[0mX_t\u001b[0m\u001b[0;34m]\u001b[0m\u001b[0;34m,\u001b[0m\u001b[0;34m\u001b[0m\u001b[0m\n\u001b[0;32m----> 5\u001b[0;31m     \u001b[0;34m[\u001b[0m\u001b[0mL\u001b[0m\u001b[0;34m.\u001b[0m\u001b[0mget_output\u001b[0m\u001b[0;34m(\u001b[0m\u001b[0mlayers\u001b[0m\u001b[0;34m[\u001b[0m\u001b[0mcc\u001b[0m\u001b[0;34m]\u001b[0m\u001b[0;34m,\u001b[0m \u001b[0mX_t\u001b[0m\u001b[0;34m)\u001b[0m \u001b[0;32mfor\u001b[0m \u001b[0mcc\u001b[0m \u001b[0;32min\u001b[0m \u001b[0mcode_layers\u001b[0m\u001b[0;34m]\u001b[0m\u001b[0;34m\u001b[0m\u001b[0m\n\u001b[0m\u001b[1;32m      6\u001b[0m )\n\u001b[1;32m      7\u001b[0m \u001b[0mcode_t\u001b[0m \u001b[0;34m=\u001b[0m \u001b[0;34m[\u001b[0m\u001b[0mT\u001b[0m\u001b[0;34m.\u001b[0m\u001b[0mtensor4\u001b[0m\u001b[0;34m(\u001b[0m\u001b[0;34m)\u001b[0m \u001b[0;32mfor\u001b[0m \u001b[0m_\u001b[0m \u001b[0;32min\u001b[0m \u001b[0mcode_layers\u001b[0m\u001b[0;34m]\u001b[0m\u001b[0;34m\u001b[0m\u001b[0m\n",
      "\u001b[0;31mKeyError\u001b[0m: 'wta1'"
     ]
    }
   ],
   "source": [
    "code_layers = ['wta1', 'wta3', 'wta5']\n",
    "X_t = T.tensor4()\n",
    "encode = theano.function(\n",
    "    [X_t], \n",
    "    [L.get_output(layers[cc], X_t) for cc in code_layers]\n",
    ")\n",
    "code_t = [T.tensor4() for _ in code_layers]\n",
    "decode = theano.function(\n",
    "    code_t,\n",
    "    L.get_output(layers['output'], {layers[name]: t for name, t in zip(code_layers, code_t)})\n",
    ")"
   ]
  },
  {
   "cell_type": "code",
   "execution_count": null,
   "metadata": {
    "collapsed": false
   },
   "outputs": [],
   "source": [
    "get_backs = theano.function(\n",
    "    [X_t], \n",
    "    L.get_output(layers['wta3'], {layers['wta2']: X_t})\n",
    ")"
   ]
  },
  {
   "cell_type": "code",
   "execution_count": null,
   "metadata": {
    "collapsed": false
   },
   "outputs": [],
   "source": [
    "X = data.X[0:100]\n",
    "X=capsule.preprocess(X)"
   ]
  },
  {
   "cell_type": "code",
   "execution_count": null,
   "metadata": {
    "collapsed": false
   },
   "outputs": [],
   "source": [
    "C = encode(X)\n",
    "c = C[1]\n",
    "c_zero = np.zeros_like(c)\n",
    "example = 50\n",
    "rest = np.arange(c.shape[1])\n",
    "mask = np.zeros(c.shape[1]).astype(np.bool)\n",
    "mask[0] = True\n",
    "c[example, ~mask]=0\n",
    "back = get_backs(c)\n",
    "back_zero = get_backs(np.zeros_like(c))\n",
    "B = back #- back_zero\n",
    "img = disp_grid(B[example][:, np.newaxis, :, :], border=1, bordercolor=(0.3,0,0))\n",
    "plt.imshow(img)"
   ]
  },
  {
   "cell_type": "code",
   "execution_count": null,
   "metadata": {
    "collapsed": false
   },
   "outputs": [],
   "source": [
    "C = encode(X)\n",
    "Xrec = decode(*C)"
   ]
  },
  {
   "cell_type": "code",
   "execution_count": null,
   "metadata": {
    "collapsed": false
   },
   "outputs": [],
   "source": [
    "v = C[0].flatten()\n",
    "plt.hist(v[v>0])"
   ]
  },
  {
   "cell_type": "code",
   "execution_count": null,
   "metadata": {
    "collapsed": false
   },
   "outputs": [],
   "source": [
    "M = C[0]\n",
    "M = M.max(axis=(2,3))\n",
    "M = M+np.random.normal(0, 0.001)\n",
    "M = M.T\n",
    "M = np.abs(np.corrcoef(M))\n",
    "print(M)\n",
    "fig = plt.figure(figsize=(10,10))\n",
    "plt.imshow(M, cmap='gray', interpolation='none')\n",
    "cb = plt.colorbar()\n",
    "plt.show()"
   ]
  },
  {
   "cell_type": "code",
   "execution_count": null,
   "metadata": {
    "collapsed": false
   },
   "outputs": [],
   "source": [
    "C = list(encode(X))\n",
    "cc = [0,1,2]#include these\n",
    "for i in set(range(len(C))) - set(cc):\n",
    "    C[i][:] = 0\n",
    "\n",
    "C_zeros = [np.zeros_like(c) for c in C]\n",
    "M = []#change these\n",
    "for i in M:\n",
    "    F = C[i].shape[1]\n",
    "    W = C[i].shape[2]\n",
    "    H = C[i].shape[3]\n",
    "    N = min(C[i].shape[0], F)\n",
    "    C[i][np.arange(N), \n",
    "         np.arange(N), \n",
    "         #np.random.randint(0, W, size=N), \n",
    "        #np.random.randint(0, H, size=N)\n",
    "         2,\n",
    "         2,\n",
    "    ] = 50\n",
    "\n",
    "fig = plt.figure(figsize=(20, 20))\n",
    "Xrec = decode(*C)\n",
    "X_rec_zero = decode(*C_zeros)\n",
    "\n",
    "res = Xrec - X_rec_zero\n",
    "recons = dispims_color(res.transpose((0, 2, 3, 1)) * np.ones((1, 1, 1, 3)), border=1, bordercolor=(0.5,0.5,0.5))\n",
    "plt.imshow(recons)"
   ]
  },
  {
   "cell_type": "code",
   "execution_count": null,
   "metadata": {
    "collapsed": false
   },
   "outputs": [],
   "source": [
    "for i in range(len(C)):\n",
    "    print(C[i].shape)"
   ]
  },
  {
   "cell_type": "markdown",
   "metadata": {},
   "source": [
    "## viz features"
   ]
  },
  {
   "cell_type": "code",
   "execution_count": null,
   "metadata": {
    "collapsed": false
   },
   "outputs": [],
   "source": [
    "nbpixels = 28*28\n",
    "for name, layer in layers.items():\n",
    "    if hasattr(layer, \"W\"):\n",
    "        W = layer.W.get_value()\n",
    "        if len(W.shape)==2 and (W.shape[0] == nbpixels or W.shape[1] == nbpixels):\n",
    "            nbpixels = c*w*h\n",
    "            if W.shape[0] == nbpixels:\n",
    "                W = W.T\n",
    "            W = W.reshape((W.shape[0], c, w, h))\n",
    "            W = W.transpose((0, 2, 3, 1))\n",
    "            W = W * np.ones((1, 1, 1, 3))\n",
    "        elif len(W.shape) == 4 and W.shape[1] in (1, 3):\n",
    "            W = W.transpose((0, 2, 3, 1))\n",
    "            W = W * np.ones((1, 1, 1, 3))\n",
    "        elif len(W.shape) == 4 and W.shape[0] in (1, 3):\n",
    "            W = W.transpose((1, 2, 3, 0))\n",
    "            W = W * np.ones((1, 1, 1, 3))\n",
    "        else:\n",
    "            print(W.shape)\n",
    "            continue\n",
    "        fig = plt.figure(figsize=(10, 10))\n",
    "        plt.axis('off')\n",
    "        img = dispims_color(W, border=1)\n",
    "        plt.imshow(img, interpolation='none')\n",
    "        plt.show()"
   ]
  },
  {
   "cell_type": "markdown",
   "metadata": {},
   "source": [
    "## iterative refinement"
   ]
  },
  {
   "cell_type": "code",
   "execution_count": null,
   "metadata": {
    "collapsed": false
   },
   "outputs": [],
   "source": [
    "from data import load_data\n",
    "c=1\n",
    "if c == 3:\n",
    "    external_data = load_data(dataset='lfw', w=w, h=h)\n",
    "    external_data = external_data.X\n",
    "    external_data = external_data.reshape((external_data.shape[0], c, w, h))\n",
    "    \n",
    "if c == 1:\n",
    "    from lasagnekit.datasets.rescaled import Rescaled\n",
    "    external_data = load_data(dataset='digits', w=w, h=h)\n",
    "    external_data = Rescaled(external_data, (w, h))\n",
    "    external_data.load()\n",
    "    external_data = external_data.X[0:100]\n",
    "    external_data = external_data.reshape((external_data.shape[0], c, w, h))\n",
    "    external_data = external_data.astype(np.float32)"
   ]
  },
  {
   "cell_type": "code",
   "execution_count": null,
   "metadata": {
    "collapsed": false
   },
   "outputs": [],
   "source": [
    "seed = 42\n",
    "#seed = np.random.randint(1, 100)\n",
    "np.random.seed(seed)\n",
    "c=1\n",
    "N = 10 # nb of examples to generate\n",
    "nb_iter = 50 # nb iterations for generation\n",
    "\n",
    "do_sample = False\n",
    "do_binarize = False\n",
    "do_noise = False\n",
    "noise_pr = 0.7\n",
    "do_gaussian_noise = False\n",
    "gaussian_noise_std = 2\n",
    "thresh = 'moving'\n",
    "\n",
    "init_by_external = False\n",
    "whitepx_ratio = 0.2\n",
    "if init_by_external:\n",
    "    s = floatX(external_data[0:N])\n",
    "else:\n",
    "    s = floatX(np.random.uniform(0, 1, size=(N, c, w, h)))\n",
    "\n",
    "samples = []\n",
    "samples.append(s.copy()[np.newaxis, :, :, :, :])\n",
    "\n",
    "nz = np.random.normal(0, gaussian_noise_std, size=s.shape).astype(np.float32)\n",
    "loss = []\n",
    "nz = np.random.normal(0, gaussian_noise_std, size=s.shape).astype(np.float32)\n",
    "for i in tqdm(range(nb_iter)):\n",
    "    sprev = s      \n",
    "    if do_noise:\n",
    "        s = (np.random.uniform(size=s.shape) <= (1 - noise_pr)) * s\n",
    "        s = s.astype(np.float32)\n",
    "    if do_gaussian_noise:\n",
    "        #nz = np.random.normal(0, gaussian_noise_std, size=s.shape).astype(np.float32)\n",
    "        s += nz\n",
    "    s = (capsule.reconstruct(s))\n",
    "\n",
    "    if do_sample:\n",
    "        s = np.random.binomial(n=1, p=s, size=s.shape).astype('float32')# binarize by sampling\n",
    "    if do_binarize:\n",
    "        if thresh == 'moving':\n",
    "            vals = s.flatten()\n",
    "            vals = vals[np.argsort(vals)]\n",
    "            thresh_ = vals[-int(whitepx_ratio * len(vals)) - 1]\n",
    "        else:\n",
    "            thresh_ = thresh\n",
    "        s = s > thresh_\n",
    "    s = s.astype(np.float32)\n",
    "    samples.append(s.copy()[np.newaxis, :, :, :, :])\n",
    "\n",
    "    score = np.abs(s - sprev).sum()\n",
    "    if score == 0:\n",
    "        print('end')\n",
    "        break\n",
    "    #print(score)\n",
    "    loss.append(score)\n",
    "print(score)\n",
    "samples = np.concatenate(samples, axis=0) # all samples from all timesteps in an array"
   ]
  },
  {
   "cell_type": "code",
   "execution_count": null,
   "metadata": {
    "collapsed": false
   },
   "outputs": [],
   "source": [
    "# show images generated at last iteration\n",
    "for s in (samples[-1],):\n",
    "    s = s * np.ones((1, 3, 1, 1))\n",
    "    s = s.transpose((0, 2, 3, 1))\n",
    "    img = dispims_color(s, border=2, bordercolor=(0.3, 0, 0), )\n",
    "    imsave('out.png', img)\n",
    "Image('out.png')"
   ]
  },
  {
   "cell_type": "code",
   "execution_count": null,
   "metadata": {
    "collapsed": false,
    "scrolled": true
   },
   "outputs": [],
   "source": [
    "# sample samples and iterations\n",
    "fig = plt.figure(figsize=(20, 20))\n",
    "sw, sh = samples.shape[0:2]\n",
    "samples_ = samples.copy()\n",
    "samples_ = samples_.reshape((sw*sh, c, w, h))\n",
    "samples_ = samples_.transpose((0, 2, 3, 1))\n",
    "samples_ = samples_ * np.ones((1, 1, 1, 3))\n",
    "img = dispims_color(samples_, shape=(sw, sh), border=1, bordercolor=(0.3,0,0))\n",
    "imsave('out.png', img)\n",
    "Image('out.png')"
   ]
  },
  {
   "cell_type": "code",
   "execution_count": null,
   "metadata": {
    "collapsed": false
   },
   "outputs": [],
   "source": [
    "import os\n",
    "from scripts.imgtovideo import imgs_to_video\n",
    "from tools.brushstroke.common import embed_video\n",
    "imgs = []\n",
    "for s in samples:\n",
    "    img = dispims_color(s.transpose((0, 2, 3, 1)) * np.ones((1, 1, 1, 3)))\n",
    "    imgs.append(img)\n",
    "if os.path.exists('out.mp4'):\n",
    "    os.remove('out.mp4')\n",
    "imgs_to_video(imgs, out='out.mp4', verbose=1, framerate=1, rate=1)\n",
    "embed_video('out.mp4')"
   ]
  },
  {
   "cell_type": "markdown",
   "metadata": {},
   "source": [
    "## Video of the last row for brush stroke"
   ]
  },
  {
   "cell_type": "code",
   "execution_count": null,
   "metadata": {
    "collapsed": false
   },
   "outputs": [],
   "source": [
    "samples[-2].shape"
   ]
  },
  {
   "cell_type": "code",
   "execution_count": null,
   "metadata": {
    "collapsed": true
   },
   "outputs": [],
   "source": [
    "X = T.tensor4()\n",
    "encode = theano.function(\n",
    "    [X], \n",
    "    L.get_output(layers['brush'], X)\n",
    ")\n",
    "\n",
    "encode_coords = theano.function(\n",
    "    [X],\n",
    "    L.get_output(layers['coord'], X)\n",
    ")"
   ]
  },
  {
   "cell_type": "code",
   "execution_count": null,
   "metadata": {
    "collapsed": true
   },
   "outputs": [],
   "source": [
    "bias = layers['bias'].b.get_value()"
   ]
  },
  {
   "cell_type": "code",
   "execution_count": null,
   "metadata": {
    "collapsed": false
   },
   "outputs": [],
   "source": [
    "X = capsule.preprocess(samples[-2][0:16*16])\n",
    "xx = X.copy()\n",
    "xx = xx.transpose((0, 2, 3, 1)) * np.ones((1, 1, 1, 3))\n",
    "source = dispims_color(xx, border=0)\n",
    "\n",
    "    \n",
    "y = encode(X)\n",
    "\n",
    "imgs = []\n",
    "for t in range(y.shape[1]):\n",
    "    yy = y[:, t]\n",
    "    yy = yy[:, :, :, None] * np.ones((1, 1, 1, 3))\n",
    "    yy = sigmoid(yy+bias) > 0.5\n",
    "    yy = yy.astype(np.float32)\n",
    "    img = dispims_color(yy, border=0) \n",
    "    plt.imshow(img)\n",
    "    imgs.append(img)\n",
    "\n",
    "seq_imgs = imgs"
   ]
  },
  {
   "cell_type": "code",
   "execution_count": null,
   "metadata": {
    "collapsed": true
   },
   "outputs": [],
   "source": [
    "imgs = [np.zeros_like(imgs[0])] + imgs\n",
    "img_aggreg = np.zeros((img.shape[0], img.shape[1]*2, 3))\n",
    "img_aggreg[0:source.shape[0], 0:source.shape[1]] = source\n",
    "img_aggreg[:, source.shape[1]:source.shape[1]+img.shape[1]] = img\n",
    "imsave('out.png', img_aggreg)"
   ]
  },
  {
   "cell_type": "code",
   "execution_count": null,
   "metadata": {
    "collapsed": false
   },
   "outputs": [],
   "source": [
    "import os\n",
    "if os.path.exists('out.mp4'):\n",
    "    os.remove('out.mp4')\n",
    "imgs_to_video(imgs, out='out.mp4', verbose=1, framerate=8, rate=8)"
   ]
  },
  {
   "cell_type": "markdown",
   "metadata": {},
   "source": [
    "## project into feature space"
   ]
  },
  {
   "cell_type": "code",
   "execution_count": null,
   "metadata": {
    "collapsed": false
   },
   "outputs": [],
   "source": [
    "hid = []\n",
    "d = []\n",
    "for i in range(10):\n",
    "    X = data.X\n",
    "    data.load()\n",
    "    d.append(capsule.preprocess(X).transpose((0, 2 ,3 , 1))  * np.ones((1, 1, 1, 3)))\n",
    "    C = encode(capsule.preprocess(X))\n",
    "    if type(C) == list:\n",
    "        C = [c.reshape(c.shape[0], -1) for c in C]\n",
    "        #C = C[-1]\n",
    "        C = np.concatenate(C, axis=1)        \n",
    "    hid.append(C)\n",
    "d = np.concatenate(d, axis=0)\n",
    "hid = np.concatenate(hid, axis=0)\n",
    "hid = hid.reshape((hid.shape[0], -1))\n",
    "print(hid.shape)"
   ]
  },
  {
   "cell_type": "code",
   "execution_count": null,
   "metadata": {
    "collapsed": false
   },
   "outputs": [],
   "source": [
    "#mf = PCA(n_components=2)\n",
    "mf = TSNE(n_components=2)\n",
    "h2d = mf.fit_transform(hid)"
   ]
  },
  {
   "cell_type": "code",
   "execution_count": null,
   "metadata": {
    "collapsed": false
   },
   "outputs": [],
   "source": [
    "#mf = PCA(n_components=2)\n",
    "mf = TSNE(n_components=2)\n",
    "d2d = mf.fit_transform(d.reshape(d.shape[0], -1))"
   ]
  },
  {
   "cell_type": "code",
   "execution_count": null,
   "metadata": {
    "collapsed": false
   },
   "outputs": [],
   "source": [
    "from tools.viz.image_scatter import image_scatter\n",
    "img = image_scatter(h2d, d, 80)\n",
    "imsave('out_scatter.png', img)\n",
    "Image('out_scatter.png')"
   ]
  },
  {
   "cell_type": "code",
   "execution_count": null,
   "metadata": {
    "collapsed": false
   },
   "outputs": [],
   "source": [
    "img = image_scatter(d2d, d, 20)\n",
    "imsave('out_scatter_data.png', img)\n",
    "Image('out_scatter_data.png')"
   ]
  },
  {
   "cell_type": "markdown",
   "metadata": {},
   "source": [
    "## transferability"
   ]
  },
  {
   "cell_type": "code",
   "execution_count": null,
   "metadata": {
    "collapsed": false
   },
   "outputs": [],
   "source": [
    "X_transf_orig = external_data[0:100].copy()\n",
    "\n",
    "\n",
    "im = X_transf_orig.copy().astype(np.float32)\n",
    "imgs = []\n",
    "for i in tqdm(range(100)):\n",
    "    im = im + (capsule.reconstruct(im) - im)\n",
    "    imgs.append(im.copy())\n",
    "    \n",
    "from scripts import imgtovideo\n",
    "x = []\n",
    "for img in imgs:\n",
    "    img = img * np.ones((1, 3, 1, 1))\n",
    "    img = img.transpose((0, 2, 3, 1))\n",
    "    x.append(dispims_color(img))"
   ]
  },
  {
   "cell_type": "code",
   "execution_count": null,
   "metadata": {
    "collapsed": false
   },
   "outputs": [],
   "source": [
    "!rm out.mp4\n",
    "imgs_to_video(x, out='out.mp4', verbose=1)"
   ]
  },
  {
   "cell_type": "code",
   "execution_count": null,
   "metadata": {
    "collapsed": false
   },
   "outputs": [],
   "source": [
    "embed_video('out.mp4')"
   ]
  },
  {
   "cell_type": "markdown",
   "metadata": {},
   "source": [
    "## forced generation"
   ]
  },
  {
   "cell_type": "code",
   "execution_count": null,
   "metadata": {
    "collapsed": false,
    "scrolled": true
   },
   "outputs": [],
   "source": [
    "gen, discr = load_gan_model('/home/mcherti/work/code/lasagne-dcgan/fonts.pkl')"
   ]
  },
  {
   "cell_type": "markdown",
   "metadata": {},
   "source": [
    "## rnn"
   ]
  },
  {
   "cell_type": "code",
   "execution_count": null,
   "metadata": {
    "collapsed": false
   },
   "outputs": [],
   "source": [
    "X = T.tensor4()\n",
    "Xinit = X\n",
    "nb_steps = 4\n",
    "for i in range(nb_steps):\n",
    "    X = L.get_output(layers['output'], X)\n",
    "score = L.get_output(discr, X)\n",
    "loss = (score).mean()\n",
    "grad = theano.grad(loss, Xinit)\n",
    "get_grad = theano.function([Xinit], grad)\n",
    "get_loss = theano.function([Xinit], loss)\n",
    "get_gen = theano.function([Xinit], X)"
   ]
  },
  {
   "cell_type": "code",
   "execution_count": null,
   "metadata": {
    "collapsed": true
   },
   "outputs": [],
   "source": [
    "import scipy\n",
    "def eval_loss(x0):\n",
    "    x0 = x0.reshape((nb, c, w, h))\n",
    "    return -get_loss(x0.astype(np.float32)).astype('float64')\n",
    "\n",
    "def eval_grad(x0):\n",
    "    x0 = x0.reshape((nb, c, w, h))\n",
    "    return get_grad(x0.astype(np.float32)).flatten().astype('float64')"
   ]
  },
  {
   "cell_type": "code",
   "execution_count": null,
   "metadata": {
    "collapsed": false
   },
   "outputs": [],
   "source": [
    "nb = 100\n",
    "x = np.random.uniform(size=(nb, c, w, h))\n",
    "x = x.astype(np.float32)\n",
    "for i in range(40):\n",
    "    #x, _, _ = scipy.optimize.fmin_l_bfgs_b(eval_loss, x.flatten(), fprime=eval_grad, maxfun=1)\n",
    "    #x = x.reshape((nb, c, w, h)).astype(np.float32)\n",
    "    x += 0.1 * get_grad(x)\n",
    "    print(get_loss(x))"
   ]
  },
  {
   "cell_type": "code",
   "execution_count": null,
   "metadata": {
    "collapsed": false
   },
   "outputs": [],
   "source": [
    "img = get_gen(x) * np.ones((1, 3, 1, 1))\n",
    "img = img.transpose((0, 2, 3, 1))\n",
    "fig = plt.figure(figsize=(10, 10))\n",
    "img = dispims_color(img, border=1, bordercolor=(10, 10, 10))\n",
    "plt.imshow(img)"
   ]
  },
  {
   "cell_type": "code",
   "execution_count": null,
   "metadata": {
    "collapsed": false
   },
   "outputs": [],
   "source": [
    "from datakit.mnist import MNIST\n",
    "data = MNIST('train')\n",
    "data.load()\n",
    "X_train = data.X.reshape((data.X.shape[0], 1, 28, 28))\n",
    "y_train = data.y\n",
    "def transform(X):\n",
    "    h = []\n",
    "    for i in range(0, X.shape[0], 128):\n",
    "        C = encode(X[i:i + 128])\n",
    "        hh = np.concatenate([cc.max(axis=(2, 3)).reshape((cc.shape[0], -1)) for cc in C], axis=1)      \n",
    "        h.append(hh)\n",
    "    h = np.concatenate(h, axis=0)\n",
    "    return h\n",
    "\n",
    "X_train = transform(X_train)\n",
    "\n",
    "data = MNIST('test')\n",
    "data.load()\n",
    "X_test = data.X.reshape((data.X.shape[0], 1, 28, 28))\n",
    "X_test = transform(X_test)\n",
    "y_test = data.y"
   ]
  },
  {
   "cell_type": "code",
   "execution_count": null,
   "metadata": {
    "collapsed": true
   },
   "outputs": [],
   "source": [
    "Xrec = capsule.reconstruct(data.)"
   ]
  },
  {
   "cell_type": "markdown",
   "metadata": {},
   "source": [
    "## VAE"
   ]
  },
  {
   "cell_type": "code",
   "execution_count": null,
   "metadata": {
    "collapsed": false
   },
   "outputs": [],
   "source": [
    "Z = T.matrix()\n",
    "X = T.tensor4()\n",
    "sample = theano.function([Z], L.get_output(layers['output'], {layers['z_sample']: Z}))\n",
    "\n",
    "pred_z = theano.function([X], L.get_output(layers['z_mu'], X))\n",
    "\n",
    "z_size = layers['z_sample'].output_shape[1]"
   ]
  },
  {
   "cell_type": "code",
   "execution_count": null,
   "metadata": {
    "collapsed": false
   },
   "outputs": [],
   "source": [
    "x = data.train.X[0:5000]\n",
    "y= data.train.y[0:5000]\n",
    "z = pred_z(capsule.preprocess(x))\n",
    "fig = plt.figure(figsize=(20, 10))\n",
    "\n",
    "cmap = plt.get_cmap('jet', 10)\n",
    "cmap.set_under('gray')\n",
    "\n",
    "r_inp = np.random.uniform(size=(100, 784)).astype(np.float32)\n",
    "r = pred_z(capsule.preprocess(r_inp))\n",
    "plt.scatter(z[:, 0], z[:, 1], c=y, cmap=cmap)\n",
    "plt.scatter(r[:, 0], r[:, 1], c=[10]*len(r), cmap=cmap, s=100)\n",
    "plt.colorbar()"
   ]
  },
  {
   "cell_type": "code",
   "execution_count": null,
   "metadata": {
    "collapsed": false
   },
   "outputs": [],
   "source": [
    "nb = 10*10\n",
    "if z_size == 2:\n",
    "    x = np.linspace(-1, 1, np.sqrt(nb))\n",
    "    y = np.linspace(-1, 1, np.sqrt(nb))\n",
    "    x, y = np.meshgrid(x, y)\n",
    "    x = x.flatten()\n",
    "    y = y.flatten()\n",
    "    z_samples = np.vstack((x, y)).T\n",
    "else:\n",
    "    z_samples = np.random.normal(0, 0.99, size=(nb, z_size))\n",
    "    \n",
    "z_samples = z_samples.astype(np.float32)\n",
    "x_samples = sample(z_samples)\n",
    "x_samples = x_samples.transpose((0, 2, 3, 1)) * np.ones((1, 1, 1, 3))\n",
    "fig = plt.figure(figsize=(10, 10))\n",
    "\n",
    "img = dispims_color(x_samples)"
   ]
  },
  {
   "cell_type": "code",
   "execution_count": null,
   "metadata": {
    "collapsed": false
   },
   "outputs": [],
   "source": [
    "imsave('out.png', img)\n",
    "Image('out.png')"
   ]
  },
  {
   "cell_type": "markdown",
   "metadata": {},
   "source": [
    "### GAN"
   ]
  },
  {
   "cell_type": "code",
   "execution_count": null,
   "metadata": {
    "collapsed": true
   },
   "outputs": [],
   "source": [
    "from skimage.transform import resize\n",
    "import theano"
   ]
  },
  {
   "cell_type": "code",
   "execution_count": null,
   "metadata": {
    "collapsed": false
   },
   "outputs": [],
   "source": [
    "gen, discr = load_gan_model('../tools/mnist.pkl')"
   ]
  },
  {
   "cell_type": "code",
   "execution_count": null,
   "metadata": {
    "collapsed": true
   },
   "outputs": [],
   "source": [
    "X = T.tensor4()\n",
    "discr_fn = theano.function([X], L.get_output(discr, X))\n",
    "\n",
    "Z = T.matrix()\n",
    "gen_fn = theano.function([Z], L.get_output(gen, Z))"
   ]
  },
  {
   "cell_type": "code",
   "execution_count": null,
   "metadata": {
    "collapsed": false
   },
   "outputs": [],
   "source": [
    "z_grad_fn = theano.function([X, Z], theano.grad( ((L.get_output(gen, Z)-X)**2).mean()  , Z))"
   ]
  },
  {
   "cell_type": "code",
   "execution_count": null,
   "metadata": {
    "collapsed": false
   },
   "outputs": [],
   "source": [
    "x_grad_n = theano.function([X], theano.grad(L.get_output(discr, X).mean(), X))"
   ]
  },
  {
   "cell_type": "code",
   "execution_count": null,
   "metadata": {
    "collapsed": true
   },
   "outputs": [],
   "source": [
    "def resize_set(x, w, h, **kw):\n",
    "    x_out = np.empty((x.shape[0], 1, w, h))\n",
    "    for i in range(len(x)):\n",
    "        x_out[i, 0] = resize(x[i, 0], (w, h), **kw)\n",
    "    return x_out.astype(np.float32)"
   ]
  },
  {
   "cell_type": "code",
   "execution_count": null,
   "metadata": {
    "collapsed": false
   },
   "outputs": [],
   "source": [
    "print(gen.output_shape)"
   ]
  },
  {
   "cell_type": "code",
   "execution_count": null,
   "metadata": {
    "collapsed": false
   },
   "outputs": [],
   "source": [
    "x = np.random.uniform(size=(9, 1, 28, 28)).astype(np.float32)\n",
    "Z_of_X = np.random.uniform(-1, 1, size=(x.shape[0], 100)).astype(np.float32)\n",
    "\n",
    "\n",
    "for i in range(20):\n",
    "    #x += np.random.normal(0, 0.5, size=x.shape)\n",
    "    x = capsule.reconstruct(x)\n",
    "    x = x.astype(np.float32)\n",
    "    x = resize_set(x, 32, 32)\n",
    "    if True:\n",
    "        z_rec = np.random.uniform(-1, 1, size=(x.shape[0], 100)).astype(np.float32)\n",
    "        for _ in range(10):\n",
    "            g = z_grad_fn(x, z_rec)\n",
    "            z_rec -= 0.001*g\n",
    "        \n",
    "        gen = gen_fn(z_rec)\n",
    "        gen =- gen.min(axis=0, keepdims=True)\n",
    "        gen /= gen.max(axis=0, keepdims=True)\n",
    "        x = x + (x - gen)\n",
    "    if False:\n",
    "        for _ in range(30):\n",
    "            g = x_grad_n(x)\n",
    "            x += 0.001*g\n",
    "    x -= x.min(axis=(1, 2, 3), keepdims=True)\n",
    "    x /= x.max(axis=(1, 2, 3), keepdims=True) \n",
    "\n",
    "    #x -= x.min(axis=0, keepdims=True)\n",
    "    #x /= x.max(axis=0, keepdims=True) \n",
    "\n",
    "    x = resize_set(x, 28, 28, preserve_range=True)\n",
    "    \n",
    "    #x = x > 0.3\n",
    "    x = x.astype(np.float32)\n",
    "\n",
    "#x = resize_set(x, 32, 32)\n",
    "print((discr_fn(x)).flatten().mean())"
   ]
  },
  {
   "cell_type": "code",
   "execution_count": null,
   "metadata": {
    "collapsed": false
   },
   "outputs": [],
   "source": [
    "img =  dispims_color(x.transpose((0, 2, 3, 1)) * np.ones((1, 1, 1, 3)))\n",
    "imsave('out.png', img)\n",
    "Image('out.png')"
   ]
  }
 ],
 "metadata": {
  "kernelspec": {
   "display_name": "Python 2",
   "language": "python",
   "name": "python2"
  },
  "language_info": {
   "codemirror_mode": {
    "name": "ipython",
    "version": 2
   },
   "file_extension": ".py",
   "mimetype": "text/x-python",
   "name": "python",
   "nbconvert_exporter": "python",
   "pygments_lexer": "ipython2",
   "version": "2.7.12"
  }
 },
 "nbformat": 4,
 "nbformat_minor": 0
}
