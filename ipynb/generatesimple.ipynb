{
 "cells": [
  {
   "cell_type": "code",
   "execution_count": 1,
   "metadata": {
    "collapsed": false
   },
   "outputs": [
    {
     "name": "stdout",
     "output_type": "stream",
     "text": [
      "Couldn't import dot_parser, loading of dot files will not be possible.\n"
     ]
    },
    {
     "name": "stderr",
     "output_type": "stream",
     "text": [
      "/home/mcherti/work/code/external/scikit-learn/sklearn/cross_validation.py:43: DeprecationWarning: This module has been deprecated in favor of the model_selection module into which all the refactored classes and functions are moved. Also note that the interface of the new CV iterators are different from that of this module. This module will be removed in 0.20.\n",
      "  \"This module will be removed in 0.20.\", DeprecationWarning)\n"
     ]
    }
   ],
   "source": [
    "import os\n",
    "import sys\n",
    "os.environ['OMP_NUM_THREADS'] = '1'\n",
    "os.environ['THEANO_FLAGS'] = 'device=cpu'\n",
    "sys.path.append(os.getcwd()+\"/..\")\n",
    "sys.path.append(os.getcwd()+\"/dcgan/\")\n",
    "\n",
    "import theano.tensor as T\n",
    "import theano\n",
    "\n",
    "import lasagne\n",
    "\n",
    "from tasks import check\n",
    "from scripts import manifold\n",
    "from lasagne import layers as L\n",
    "\n",
    "from lasagnekit.misc.plot_weights import dispims_color, tile_raster_images\n",
    "import matplotlib.pyplot as plt\n",
    "from skimage.io import imsave\n",
    "\n",
    "from sklearn.decomposition import PCA, IncrementalPCA\n",
    "from sklearn.manifold import TSNE\n",
    "from image_scatter import image_scatter\n",
    "from tqdm import tqdm\n",
    "\n",
    "%matplotlib inline\n",
    "from IPython.display import Image\n",
    "\n",
    "import matplotlib.pyplot as plt\n",
    "from lasagnekit.misc.plot_weights import tile_raster_images\n",
    "import numpy as np\n",
    "from lasagnekit.misc.plot_weights import dispims_color\n",
    "from skimage.io import imsave\n",
    "from helpers import salt_and_pepper\n",
    "def sample(x):\n",
    "    return (np.random.uniform(size=x.shape) <= x).astype(np.float32)\n",
    "\n",
    "def floatX(x):\n",
    "    return x.astype(np.float32)\n",
    "\n",
    "def iterate_minibatches(inputs, targets, batchsize, shuffle=False):\n",
    "    assert len(inputs) == len(targets)\n",
    "    if shuffle:\n",
    "        indices = np.arange(len(inputs))\n",
    "        np.random.shuffle(indices)\n",
    "    for start_idx in range(0, max(len(inputs) - batchsize + 1, len(inputs)), batchsize):\n",
    "        if shuffle:\n",
    "            excerpt = indices[start_idx:start_idx + batchsize]\n",
    "        else:\n",
    "            excerpt = slice(start_idx, start_idx + batchsize)\n",
    "        yield inputs[excerpt], targets[excerpt]\n",
    "\n",
    "def sigmoid(x):\n",
    "    return 1./(1. + np.exp(-x))\n"
   ]
  },
  {
   "cell_type": "markdown",
   "metadata": {},
   "source": [
    "## load model"
   ]
  },
  {
   "cell_type": "code",
   "execution_count": 2,
   "metadata": {
    "collapsed": false
   },
   "outputs": [
    {
     "name": "stdout",
     "output_type": "stream",
     "text": [
      "Loading data...\n"
     ]
    },
    {
     "name": "stderr",
     "output_type": "stream",
     "text": [
      "INFO:tasks:Loading data...\n"
     ]
    },
    {
     "name": "stdout",
     "output_type": "stream",
     "text": [
      "loaded\n",
      "Loading the model...\n"
     ]
    },
    {
     "name": "stderr",
     "output_type": "stream",
     "text": [
      "INFO:tasks:Loading the model...\n"
     ]
    },
    {
     "name": "stdout",
     "output_type": "stream",
     "text": [
      "Compiling the model...\n"
     ]
    },
    {
     "name": "stderr",
     "output_type": "stream",
     "text": [
      "INFO:tasks:Compiling the model...\n"
     ]
    },
    {
     "name": "stdout",
     "output_type": "stream",
     "text": [
      "{'patience_stat': 'avg_loss_train_fix', 'epsilon': 1e-08, 'max_nb_epochs': 9999999999, 'batch_size': 128, 'initial_lr': 0.1, 'patience_nb_epochs': 500, 'lr_decay_method': 'none', 'beta2': 0.95, 'beta1': 0.95, 'min_nb_epochs': 100000, 'lr_decay': 0, 'momentum': 0.9, 'algo': 'adadelta'}\n"
     ]
    }
   ],
   "source": [
    "#5a59f5a7094a3b585818e8e2117585c7\n",
    "v = check(\n",
    "    what=\"notebook\", \n",
    "    filename=\"../training/brush21/model.pkl\",\n",
    "    #filename=\"../jobs/results/68fa4141b9f970f6bde95da53b8e54fe/model.pkl\", \n",
    "    #filename=\"../training/brush15/model.pkl\",\n",
    "    dataset=\"random_cropped_digits\",\n",
    "    #force_w=64,\n",
    "    #force_h=64,\n",
    "    #force_c=1,\n",
    "    #mode='minibatch'\n",
    "    #force_model_params=dict(use_wta_spatial=False, use_wta_channel=False)\n",
    ")\n",
    "capsule, data, layers, w, h, c = v"
   ]
  },
  {
   "cell_type": "code",
   "execution_count": 3,
   "metadata": {
    "collapsed": false
   },
   "outputs": [
    {
     "name": "stdout",
     "output_type": "stream",
     "text": [
      "input\n",
      "hid1\n",
      "coord\n",
      "brush\n",
      "raw_output\n",
      "biased_output\n",
      "scaled_output\n",
      "output\n"
     ]
    }
   ],
   "source": [
    "for l in layers:\n",
    "    print(l)"
   ]
  },
  {
   "cell_type": "markdown",
   "metadata": {},
   "source": [
    "## Only come here To check vertebrate  convnets"
   ]
  },
  {
   "cell_type": "code",
   "execution_count": null,
   "metadata": {
    "collapsed": false
   },
   "outputs": [],
   "source": [
    "code_layers = ['wta_channel_conv1', 'wta_channel_conv2', 'wta_channel_conv3']\n",
    "#code_layers = ['wta_channel']\n",
    "#code_layers = ['wta_channel_conv1', 'wta_channel_conv2']\n",
    "\n",
    "X = T.tensor4()\n",
    "encode = theano.function(\n",
    "    [X], \n",
    "    [L.get_output(layers[cc], X) for cc in code_layers]\n",
    ")\n",
    "\n",
    "code_t = [T.tensor4() for _ in code_layers]\n",
    "\n",
    "decode = theano.function(\n",
    "    code_t,\n",
    "    L.get_output(layers['output'], {layers[name]: t for name, t in zip(code_layers, code_t)})\n",
    ")"
   ]
  },
  {
   "cell_type": "code",
   "execution_count": null,
   "metadata": {
    "collapsed": true
   },
   "outputs": [],
   "source": [
    "X = data.X[0:100]\n",
    "X=capsule.preprocess(X)"
   ]
  },
  {
   "cell_type": "code",
   "execution_count": null,
   "metadata": {
    "collapsed": true
   },
   "outputs": [],
   "source": [
    "Xrec = capsule.reconstruct(X)"
   ]
  },
  {
   "cell_type": "code",
   "execution_count": null,
   "metadata": {
    "collapsed": true
   },
   "outputs": [],
   "source": [
    "C = encode(X)\n",
    "Xrec = decode(*C)"
   ]
  },
  {
   "cell_type": "code",
   "execution_count": null,
   "metadata": {
    "collapsed": true
   },
   "outputs": [],
   "source": [
    "C = list(encode(X))\n",
    "cc = []\n",
    "for i in cc:\n",
    "    C[i][:] = 0\n",
    "\"\"\"\n",
    "M = (1,)\n",
    "for i in M:\n",
    "    F = C[i].shape[1]\n",
    "    W = C[i].shape[2]\n",
    "    H = C[i].shape[3]\n",
    "    C[i][np.arange(C[i].shape[0]), \n",
    "         np.random.randint(0, F, size=C[i].shape[0]), \n",
    "         np.random.randint(0, W, size=C[i].shape[0]), \n",
    "         np.random.randint(0, H, size=C[i].shape[0])] = 100\n",
    "\"\"\"\n",
    "\n",
    "fig = plt.figure(figsize=(20, 20))\n",
    "Xrec = decode(*C)\n",
    "recons = dispims_color(Xrec.transpose((0, 2, 3, 1)) * np.ones((1, 1, 1, 3)), border=1, bordercolor=(0.5,0.5,0.5))\n",
    "plt.imshow(recons)"
   ]
  },
  {
   "cell_type": "code",
   "execution_count": null,
   "metadata": {
    "collapsed": true
   },
   "outputs": [],
   "source": [
    "orig = dispims_color(X.transpose((0, 2, 3, 1)) * np.ones((1, 1, 1, 3)))\n",
    "recons = dispims_color(Xrec.transpose((0, 2, 3, 1)) * np.ones((1, 1, 1, 3)), border=1)\n",
    "imsave('orig.png', orig)\n",
    "imsave('recons.png', recons)\n",
    "fig = plt.figure(figsize=(10, 10))\n",
    "plt.imshow(recons)"
   ]
  },
  {
   "cell_type": "code",
   "execution_count": null,
   "metadata": {
    "collapsed": true
   },
   "outputs": [],
   "source": [
    "for i in range(256):\n",
    "    xx = X[10:11]\n",
    "    a, b, c = encode(xx)\n",
    "    inds = c.max(axis=(2, 3)) > 0\n",
    "    inds = np.arange(c.shape[1])[inds[0]]\n",
    "    \n",
    "    #for m in range(i):\n",
    "    #    plt.imshow(c[0, inds[m]])\n",
    "    #    plt.show()\n",
    "    c[0, inds[0:i]] = 0\n",
    "    C = [a, b, c]\n",
    "    Xrec = decode(*C)\n",
    "\n",
    "    #orig = dispims_color(xx.transpose((0, 2, 3, 1)) * np.ones((1, 1, 1, 3)))\n",
    "    \n",
    "    recons = dispims_color(Xrec.transpose((0, 2, 3, 1)) * np.ones((1, 1, 1, 3)), border=1)\n",
    "    #imsave('orig.png', orig)\n",
    "    #imsave('recons.png', recons)\n",
    "    fig = plt.figure(figsize=(2, 2))\n",
    "    plt.imshow(recons, interpolation='none')\n",
    "    plt.show()"
   ]
  },
  {
   "cell_type": "markdown",
   "metadata": {},
   "source": [
    "## viz features"
   ]
  },
  {
   "cell_type": "code",
   "execution_count": null,
   "metadata": {
    "collapsed": false
   },
   "outputs": [],
   "source": [
    "nbpixels = 28*28\n",
    "for name, layer in layers.items():\n",
    "    if hasattr(layer, \"W\"):\n",
    "        W = layer.W.get_value()\n",
    "        if len(W.shape)==2 and (W.shape[0] == nbpixels or W.shape[1] == nbpixels):\n",
    "            nbpixels = c*w*h\n",
    "            if W.shape[0] == nbpixels:\n",
    "                W = W.T\n",
    "            W = W.reshape((W.shape[0], c, w, h))\n",
    "            W = W.transpose((0, 2, 3, 1))\n",
    "            W = W * np.ones((1, 1, 1, 3))\n",
    "        elif len(W.shape) == 4 and W.shape[1] in (1, 3):\n",
    "            W = W.transpose((0, 2, 3, 1))\n",
    "            W = W * np.ones((1, 1, 1, 3))\n",
    "        elif len(W.shape) == 4 and W.shape[0] in (1, 3):\n",
    "            W = W.transpose((1, 2, 3, 0))\n",
    "            W = W * np.ones((1, 1, 1, 3))\n",
    "        else:\n",
    "            print(W.shape)\n",
    "            continue\n",
    "        print(layer.name)\n",
    "        fig = plt.figure(figsize=(10, 10))\n",
    "        plt.axis('off')\n",
    "        img = dispims_color(W, border=1)\n",
    "        plt.imshow(img, interpolation='none')\n",
    "        plt.show()"
   ]
  },
  {
   "cell_type": "markdown",
   "metadata": {},
   "source": [
    "## iterative refinement"
   ]
  },
  {
   "cell_type": "code",
   "execution_count": null,
   "metadata": {
    "collapsed": false
   },
   "outputs": [],
   "source": [
    "from data import load_data\n",
    "c=1\n",
    "if c == 3:\n",
    "    external_data = load_data(dataset='lfw', w=w, h=h)\n",
    "    external_data = external_data.X\n",
    "    external_data = external_data.reshape((external_data.shape[0], c, w, h))\n",
    "    \n",
    "if c == 1:\n",
    "    from lasagnekit.datasets.rescaled import Rescaled\n",
    "    external_data = load_data(dataset='digits', w=w, h=h)\n",
    "    external_data = Rescaled(external_data, (w, h))\n",
    "    external_data.load()\n",
    "    external_data = external_data.X[0:100]\n",
    "    external_data = external_data.reshape((external_data.shape[0], c, w, h))\n",
    "    external_data = external_data.astype(np.float32)\n",
    "\n",
    "genetic = False\n",
    "if genetic:\n",
    "    external_data = np.random.uniform(size=external_data.shape).astype(np.float32)\n",
    "\n",
    "    layer_name = 'wta_spatial'\n",
    "    x = T.tensor4()\n",
    "    px_to_code = theano.function(\n",
    "        [x],\n",
    "        L.get_output(layers[layer_name], x)\n",
    "    )\n",
    "    code_to_px = theano.function(\n",
    "        [x],\n",
    "        L.get_output(layers[\"output\"], {layers[layer_name]: x}))\n",
    "\n",
    "    def crossover(A, nb=100):\n",
    "        S = np.zeros((nb,) + A.shape[1:])\n",
    "        for i in range(nb):\n",
    "            ind1, ind2 = np.random.randint(0, A.shape[0], size=2)\n",
    "            s1, s2 = A[ind1], A[ind2]\n",
    "            s = np.zeros_like(s1)\n",
    "            c = np.random.randint(0, 2, size=A.shape[1])\n",
    "            s[c == 0] = s1[c == 0]\n",
    "            s[c == 1] = s2[c == 1]\n",
    "            S[i] = s\n",
    "        return S.astype(np.float32)\n",
    "\n",
    "    def smarter_mutation(A, born_perc=0.1, dead_perc=0.1, nbtimes=1, val=10, nb=100):\n",
    "        # val = A.max()\n",
    "        perc = born_perc + dead_perc\n",
    "        nb_filters = A.shape[1]\n",
    "        size = int(perc * nb_filters)\n",
    "        for i in range(nbtimes):\n",
    "            for a in A:\n",
    "                indices = np.random.choice(np.arange(a.shape[1]),#was a  bug in the old genetic\n",
    "                                           size=size, replace=True)\n",
    "                nb_born = int(born_perc*nb_filters)\n",
    "                born_indices = indices[0:nb_born]\n",
    "                dead_indices = indices[nb_born:]\n",
    "                a[dead_indices] = 0\n",
    "                for idx in born_indices:\n",
    "                    a[idx] = 0\n",
    "                    x, y = np.random.randint(a.shape[1]), np.random.randint(a.shape[2])\n",
    "                    # val = np.random.choice((0.01, 0.1, 1, 10))\n",
    "                    #val = np.random.uniform()\n",
    "                    a[idx, x, y] = val\n",
    "        return A\n",
    "\n",
    "\n",
    "    codes = px_to_code(external_data)\n",
    "    codes = crossover(codes, nb=codes.shape[0])\n",
    "    codes = smarter_mutation(codes, born_perc=0, dead_perc=0.9)\n",
    "    external_data = code_to_px(codes)"
   ]
  },
  {
   "cell_type": "code",
   "execution_count": null,
   "metadata": {
    "collapsed": false
   },
   "outputs": [],
   "source": [
    "seed = 42\n",
    "seed = np.random.randint(1, 100)\n",
    "np.random.seed(seed)\n",
    "\n",
    "N = 30*30 # nb of examples to generate\n",
    "nb_iter = 100 # nb iterations for generation\n",
    "\n",
    "do_sample = False\n",
    "do_binarize = True\n",
    "do_noise = False\n",
    "noise_pr = 0.7\n",
    "\n",
    "init_by_external = False\n",
    "\n",
    "if init_by_external:\n",
    "    s = floatX(external_data[0:N])\n",
    "else:\n",
    "    thres = 0\n",
    "    s = floatX(np.random.uniform(0, 1, size=(N, c, w, h)))\n",
    "samples = []\n",
    "samples.append(s.copy()[np.newaxis, :, :, :, :])\n",
    "\n",
    "loss = []\n",
    "for i in tqdm(range(nb_iter)):\n",
    "    sprev = s      \n",
    "    if do_noise:\n",
    "        s = (np.random.uniform(size=s.shape) <= (1 - noise_pr)) * s\n",
    "        s = s.astype(np.float32)\n",
    "    s = (capsule.reconstruct(s))\n",
    "\n",
    "    if do_sample:\n",
    "        s = np.random.binomial(n=1, p=s, size=s.shape).astype('float32')# binarize by sampling\n",
    "    if do_binarize:\n",
    "        s = s > 0.5\n",
    "    samples.append(s.copy()[np.newaxis, :, :, :, :])\n",
    "\n",
    "    score = np.abs(s - sprev).sum()\n",
    "    #print(score)\n",
    "    if score == 0:\n",
    "        print('end')\n",
    "        break\n",
    "    #print(score)\n",
    "    loss.append(score)\n",
    "print(score)\n",
    "samples = np.concatenate(samples, axis=0) # all samples from all timesteps in an array"
   ]
  },
  {
   "cell_type": "code",
   "execution_count": null,
   "metadata": {
    "collapsed": false
   },
   "outputs": [],
   "source": [
    "# show images generated at last iteration\n",
    "for s in (samples[0], samples[-1]):\n",
    "    s = s * np.ones((1, 3, 1, 1))\n",
    "    s = s.transpose((0, 2, 3, 1))\n",
    "    fig = plt.figure(figsize=(10, 10))\n",
    "    img = dispims_color(s, border=2, bordercolor=(0.1, 0.1, 0.1), )\n",
    "    imsave('out.png', img)\n",
    "    plt.imshow(img)"
   ]
  },
  {
   "cell_type": "code",
   "execution_count": null,
   "metadata": {
    "collapsed": false,
    "scrolled": true
   },
   "outputs": [],
   "source": [
    "# sample samples and iterations\n",
    "fig = plt.figure(figsize=(20, 20))\n",
    "sw, sh = samples.shape[0:2]\n",
    "samples_ = samples.copy()\n",
    "samples_ = samples_.reshape((sw*sh, c, w, h))\n",
    "samples_ = samples_.transpose((0, 2, 3, 1))\n",
    "samples_ = samples_ * np.ones((1, 1, 1, 3))\n",
    "img = dispims_color(samples_, shape=(sw, sh))\n",
    "imsave('out.png', img)\n",
    "plt.imshow(img)\n",
    "plt.axis('off')\n",
    "plt.show()"
   ]
  },
  {
   "cell_type": "code",
   "execution_count": null,
   "metadata": {
    "collapsed": false
   },
   "outputs": [],
   "source": [
    "import os\n",
    "from scripts.imgtovideo import imgs_to_video\n",
    "imgs = []\n",
    "for s in samples[:, :, 0]:\n",
    "    img = dispims_color(s[:, :, :, None] * np.ones((1, 1, 1, 3)))\n",
    "    imgs.append(img)\n",
    "if os.path.exists('out.mp4'):\n",
    "    os.remove('out.mp4')\n",
    "imgs_to_video(imgs, out='out.mp4', verbose=1, framerate=8, rate=8)"
   ]
  },
  {
   "cell_type": "markdown",
   "metadata": {},
   "source": [
    "## Video of the last row for brush stroke"
   ]
  },
  {
   "cell_type": "code",
   "execution_count": null,
   "metadata": {
    "collapsed": false
   },
   "outputs": [],
   "source": [
    "samples[-2].shape"
   ]
  },
  {
   "cell_type": "code",
   "execution_count": null,
   "metadata": {
    "collapsed": true
   },
   "outputs": [],
   "source": [
    "X = T.tensor4()\n",
    "encode = theano.function(\n",
    "    [X], \n",
    "    L.get_output(layers['brush'], X)\n",
    ")\n",
    "\n",
    "encode_coords = theano.function(\n",
    "    [X],\n",
    "    L.get_output(layers['coord'], X)\n",
    ")"
   ]
  },
  {
   "cell_type": "code",
   "execution_count": null,
   "metadata": {
    "collapsed": true
   },
   "outputs": [],
   "source": [
    "bias = layers['bias'].b.get_value()"
   ]
  },
  {
   "cell_type": "code",
   "execution_count": null,
   "metadata": {
    "collapsed": false
   },
   "outputs": [],
   "source": [
    "X = capsule.preprocess(samples[-2][0:16*16])\n",
    "xx = X.copy()\n",
    "xx = xx.transpose((0, 2, 3, 1)) * np.ones((1, 1, 1, 3))\n",
    "source = dispims_color(xx, border=0)\n",
    "\n",
    "    \n",
    "y = encode(X)\n",
    "\n",
    "imgs = []\n",
    "for t in range(y.shape[1]):\n",
    "    yy = y[:, t]\n",
    "    yy = yy[:, :, :, None] * np.ones((1, 1, 1, 3))\n",
    "    yy = sigmoid(yy+bias) > 0.5\n",
    "    yy = yy.astype(np.float32)\n",
    "    img = dispims_color(yy, border=0) \n",
    "    plt.imshow(img)\n",
    "    imgs.append(img)\n",
    "\n",
    "seq_imgs = imgs"
   ]
  },
  {
   "cell_type": "code",
   "execution_count": null,
   "metadata": {
    "collapsed": true
   },
   "outputs": [],
   "source": [
    "imgs = [np.zeros_like(imgs[0])] + imgs\n",
    "img_aggreg = np.zeros((img.shape[0], img.shape[1]*2, 3))\n",
    "img_aggreg[0:source.shape[0], 0:source.shape[1]] = source\n",
    "img_aggreg[:, source.shape[1]:source.shape[1]+img.shape[1]] = img\n",
    "imsave('out.png', img_aggreg)"
   ]
  },
  {
   "cell_type": "code",
   "execution_count": null,
   "metadata": {
    "collapsed": false
   },
   "outputs": [],
   "source": [
    "import os\n",
    "if os.path.exists('out.mp4'):\n",
    "    os.remove('out.mp4')\n",
    "imgs_to_video(imgs, out='out.mp4', verbose=1, framerate=8, rate=8)"
   ]
  },
  {
   "cell_type": "markdown",
   "metadata": {},
   "source": [
    "## project into feature space"
   ]
  },
  {
   "cell_type": "code",
   "execution_count": null,
   "metadata": {
    "collapsed": false
   },
   "outputs": [],
   "source": [
    "hid = []\n",
    "d = []\n",
    "for i in range(1):\n",
    "    d.append(capsule.preprocess(external_data).transpose((0, 2 ,3 , 1))  * np.ones((1, 1, 1, 3)))\n",
    "    C = encode(capsule.preprocess(external_data))\n",
    "    if type(C) == list:\n",
    "        C = [c.reshape(c.shape[0], -1) for c in C]\n",
    "        C = C[-1]\n",
    "        #C = np.concatenate(C, axis=1)\n",
    "        \n",
    "    hid.append(C)\n",
    "d = np.concatenate(d, axis=0)\n",
    "print(hid[0].shape)\n",
    "hid = np.concatenate(hid, axis=0)\n",
    "hid = hid.reshape((hid.shape[0], -1))"
   ]
  },
  {
   "cell_type": "code",
   "execution_count": null,
   "metadata": {
    "collapsed": false
   },
   "outputs": [],
   "source": [
    "mf = PCA(n_components=2)\n",
    "h2d = mf.fit_transform(hid)"
   ]
  },
  {
   "cell_type": "code",
   "execution_count": null,
   "metadata": {
    "collapsed": false
   },
   "outputs": [],
   "source": [
    "mf = PCA(n_components=2)\n",
    "d2d = mf.fit_transform(d.reshape(d.shape[0], -1))"
   ]
  },
  {
   "cell_type": "code",
   "execution_count": null,
   "metadata": {
    "collapsed": false
   },
   "outputs": [],
   "source": [
    "img = image_scatter(h2d, d, 10)\n",
    "imsave('out_scatter.png', img)\n",
    "plt.imshow(img)\n",
    "plt.show()"
   ]
  },
  {
   "cell_type": "code",
   "execution_count": null,
   "metadata": {
    "collapsed": false
   },
   "outputs": [],
   "source": [
    "img = image_scatter(d2d, d, 80)\n",
    "imsave('out_scatter_data.png', img)\n",
    "plt.imshow(img)\n",
    "plt.show()"
   ]
  },
  {
   "cell_type": "markdown",
   "metadata": {},
   "source": [
    "## transferability"
   ]
  },
  {
   "cell_type": "code",
   "execution_count": null,
   "metadata": {
    "collapsed": false
   },
   "outputs": [],
   "source": [
    "X_transf_orig = external_data[0:500]\n",
    "\n",
    "\n",
    "X_transf_rec = X_transf_orig.copy().astype(np.float32)\n",
    "X_transf_rec = X_transf_rec\n",
    "imgs = []\n",
    "for i in tqdm(range(100)):\n",
    "    X_transf_rec = X_transf_rec + (capsule.reconstruct(X_transf_rec) - X_transf_rec)\n",
    "    imgs.append(X_transf_rec.copy())\n",
    "    \n",
    "from scripts import imgtovideo\n",
    "x = []\n",
    "for img in imgs:\n",
    "    img = img * np.ones((1, 3, 1, 1))\n",
    "    img = img.transpose((0, 2, 3, 1))\n",
    "    x.append(dispims_color(img))\n"
   ]
  },
  {
   "cell_type": "code",
   "execution_count": null,
   "metadata": {
    "collapsed": false
   },
   "outputs": [],
   "source": [
    "imgtovideo.imgs_to_video(x, out='out.mp4', verbose=1)"
   ]
  },
  {
   "cell_type": "code",
   "execution_count": null,
   "metadata": {
    "collapsed": true
   },
   "outputs": [],
   "source": [
    "X_transf = X_transf_orig.transpose((0, 2, 3, 1))\n",
    "X_transf = X_transf * np.ones((1, 1, 1, 3))\n",
    "\n",
    "X_transf_rec = X_transf_rec.transpose((0, 2, 3, 1))\n",
    "X_transf_rec = X_transf_rec * np.ones((1, 1, 1, 3))"
   ]
  },
  {
   "cell_type": "code",
   "execution_count": null,
   "metadata": {
    "collapsed": false
   },
   "outputs": [],
   "source": [
    "fig = plt.figure(figsize=(20, 20))\n",
    "img = dispims_color(X_transf_rec[0:500])\n",
    "plt.imshow(img, cmap='gray')\n",
    "plt.show()\n",
    "fig = plt.figure(figsize=(20, 20))\n",
    "img = dispims_color(X_transf[0:500])\n",
    "plt.imshow(img, cmap='gray')\n",
    "plt.show()"
   ]
  },
  {
   "cell_type": "markdown",
   "metadata": {},
   "source": [
    "## forced generation"
   ]
  },
  {
   "cell_type": "code",
   "execution_count": null,
   "metadata": {
    "collapsed": false
   },
   "outputs": [],
   "source": [
    "import pickle\n",
    "from lasagne import layers\n",
    "\n",
    "def load_model(filename):\n",
    "    data = pickle.load(open(filename))\n",
    "    print()\n",
    "    gen = data['generator']\n",
    "    discr = data['discriminator']\n",
    "    gen_weights = data['generator_weights']\n",
    "    discr_weights = data['discriminator_weights']\n",
    "    layers.set_all_param_values(gen, gen_weights)\n",
    "    layers.set_all_param_values(discr, discr_weights)\n",
    "    return gen, discr"
   ]
  },
  {
   "cell_type": "code",
   "execution_count": null,
   "metadata": {
    "collapsed": false,
    "scrolled": true
   },
   "outputs": [],
   "source": [
    "gen, discr = load_model('/home/mcherti/work/code/lasagne-dcgan/fonts.pkl')"
   ]
  },
  {
   "cell_type": "markdown",
   "metadata": {},
   "source": [
    "## rnn"
   ]
  },
  {
   "cell_type": "code",
   "execution_count": null,
   "metadata": {
    "collapsed": false
   },
   "outputs": [],
   "source": [
    "X = T.tensor4()\n",
    "Xinit = X\n",
    "nb_steps = 4\n",
    "for i in range(nb_steps):\n",
    "    X = L.get_output(layers['output'], X)\n",
    "score = L.get_output(discr, X)\n",
    "loss = (score).mean()\n",
    "grad = theano.grad(loss, Xinit)\n",
    "get_grad = theano.function([Xinit], grad)\n",
    "get_loss = theano.function([Xinit], loss)\n",
    "get_gen = theano.function([Xinit], X)"
   ]
  },
  {
   "cell_type": "code",
   "execution_count": null,
   "metadata": {
    "collapsed": true
   },
   "outputs": [],
   "source": [
    "import scipy\n",
    "def eval_loss(x0):\n",
    "    x0 = x0.reshape((nb, c, w, h))\n",
    "    return -get_loss(x0.astype(np.float32)).astype('float64')\n",
    "\n",
    "def eval_grad(x0):\n",
    "    x0 = x0.reshape((nb, c, w, h))\n",
    "    return get_grad(x0.astype(np.float32)).flatten().astype('float64')"
   ]
  },
  {
   "cell_type": "code",
   "execution_count": null,
   "metadata": {
    "collapsed": false
   },
   "outputs": [],
   "source": [
    "nb = 100\n",
    "x = np.random.uniform(size=(nb, c, w, h))\n",
    "x = x.astype(np.float32)\n",
    "for i in range(40):\n",
    "    #x, _, _ = scipy.optimize.fmin_l_bfgs_b(eval_loss, x.flatten(), fprime=eval_grad, maxfun=1)\n",
    "    #x = x.reshape((nb, c, w, h)).astype(np.float32)\n",
    "    x += 0.1 * get_grad(x)\n",
    "    print(get_loss(x))"
   ]
  },
  {
   "cell_type": "code",
   "execution_count": null,
   "metadata": {
    "collapsed": false
   },
   "outputs": [],
   "source": [
    "img = get_gen(x) * np.ones((1, 3, 1, 1))\n",
    "img = img.transpose((0, 2, 3, 1))\n",
    "fig = plt.figure(figsize=(10, 10))\n",
    "img = dispims_color(img, border=1, bordercolor=(10, 10, 10))\n",
    "plt.imshow(img)"
   ]
  },
  {
   "cell_type": "code",
   "execution_count": null,
   "metadata": {
    "collapsed": true
   },
   "outputs": [],
   "source": [
    "## classif"
   ]
  },
  {
   "cell_type": "code",
   "execution_count": null,
   "metadata": {
    "collapsed": false
   },
   "outputs": [],
   "source": [
    "from datakit.mnist import MNIST\n",
    "data = MNIST('train')\n",
    "data.load()\n",
    "X_train = data.X.reshape((data.X.shape[0], 1, 28, 28))\n",
    "y_train = data.y\n",
    "def transform(X):\n",
    "    h = []\n",
    "    for i in range(0, X.shape[0], 128):\n",
    "        C = encode(X[i:i + 128])\n",
    "        hh = np.concatenate([cc.max(axis=(2, 3)).reshape((cc.shape[0], -1)) for cc in C], axis=1)      \n",
    "        h.append(hh)\n",
    "    h = np.concatenate(h, axis=0)\n",
    "    return h\n",
    "\n",
    "X_train = transform(X_train)\n",
    "\n",
    "data = MNIST('test')\n",
    "data.load()\n",
    "X_test = data.X.reshape((data.X.shape[0], 1, 28, 28))\n",
    "X_test = transform(X_test)\n",
    "y_test = data.y"
   ]
  },
  {
   "cell_type": "code",
   "execution_count": null,
   "metadata": {
    "collapsed": true
   },
   "outputs": [],
   "source": [
    "Xrec = capsule.reconstruct(data.)"
   ]
  },
  {
   "cell_type": "markdown",
   "metadata": {},
   "source": [
    "## fractal low order\n"
   ]
  },
  {
   "cell_type": "code",
   "execution_count": 14,
   "metadata": {
    "collapsed": false
   },
   "outputs": [],
   "source": [
    "from lasagnekit.datasets.mnist import MNIST\n",
    "dt = MNIST()\n",
    "dt.load()"
   ]
  },
  {
   "cell_type": "code",
   "execution_count": null,
   "metadata": {
    "collapsed": false
   },
   "outputs": [
    {
     "data": {
      "image/png": "[encoded data removed]",
      "text/plain": [
       "<matplotlib.figure.Figure at 0x7f803ee273d0>"
      ]
     },
     "metadata": {},
     "output_type": "display_data"
    }
   ],
   "source": [
    "from IPython import display\n",
    "\n",
    "W = w * 10\n",
    "img = np.random.uniform(size=(1, 1, W, W)).astype(np.float32)#>0.7\n",
    "#img[:, :] = dt.X[0].reshape((W, W))\n",
    "#img = np.zeros((1, 1, W, W)).astype(np.float32)\n",
    "#fig = plt.figure(figsize=(5, 5))\n",
    "for i in range(400):\n",
    "    x, y = np.random.randint(0, W - w, size=2)\n",
    "    a = img[:, :, x:x+w, y:y+w].copy()\n",
    "    for k in range(4):        \n",
    "        a = capsule.reconstruct(a)\n",
    "        continue\n",
    "        vals = a.flatten()\n",
    "        vals = vals[np.argsort(vals)]\n",
    "        thresh = vals[-int(0.3 * len(vals)) - 1]\n",
    "\n",
    "        a= a > thresh\n",
    "\n",
    "\n",
    "    img[:, :, x:x+w, y:y+w] = a\n",
    "    \n",
    "    display.clear_output(wait=True)\n",
    "\n",
    "    plt.imshow(img[0, 0, w:-w, w:-w], cmap='gray', interpolation='none')\n",
    "    display.display(plt.gcf())\n",
    "\n",
    "display.clear_output(wait=True)"
   ]
  },
  {
   "cell_type": "code",
   "execution_count": null,
   "metadata": {
    "collapsed": true
   },
   "outputs": [],
   "source": [
    "dt_ = capsule.preprocess(data.X[0:100]).copy()"
   ]
  },
  {
   "cell_type": "code",
   "execution_count": null,
   "metadata": {
    "collapsed": false
   },
   "outputs": [],
   "source": [
    "#dt[:, :, 10:20, 10:20] = 0.\n",
    "dt = dt_ * (np.random.uniform(size=dt.shape)<=0.5)\n",
    "rec = capsule.reconstruct(dt)\n",
    "i = np.random.randint(0, len(dt))\n",
    "plt.imshow(dt[i, 0], cmap='gray', interpolation='none')\n",
    "plt.show()\n",
    "plt.imshow(rec[i, 0], cmap='gray', interpolation='none')\n",
    "plt.show()"
   ]
  },
  {
   "cell_type": "code",
   "execution_count": null,
   "metadata": {
    "collapsed": false
   },
   "outputs": [],
   "source": [
    "from skimage.transform import resize\n",
    "from IPython import display\n",
    "\n",
    "\n",
    "W = w * 2\n",
    "img = np.random.uniform(size=(1, 1, W, W)).astype(np.float32)#>0.7\n",
    "for i in range(100):\n",
    "    c = np.random.randint(1, w-1)\n",
    "    x, y = np.random.randint(0, W - c, size=2)\n",
    "\n",
    "    a = img[:, :, x:x+c, y:y+c]\n",
    "    a = resize(a[0, 0], (w, h))\n",
    "    a = a[np.newaxis, np.newaxis, :, :]\n",
    "    a = a.astype(np.float32)\n",
    "    for k in range(5):\n",
    "        a = capsule.reconstruct(a)\n",
    "    a = resize(a[0, 0], (c, c))\n",
    "    a = a[np.newaxis, np.newaxis, :, :]\n",
    "    a = a.astype(np.float32)\n",
    "    img[:, :, x:x+c, y:y+c] = a#>0.5\n",
    "    display.clear_output(wait=True)\n",
    "\n",
    "    plt.imshow(img[0, 0], cmap='gray', interpolation='none')\n",
    "    display.display(plt.gcf())\n",
    "\n",
    "display.clear_output(wait=True)"
   ]
  },
  {
   "cell_type": "markdown",
   "metadata": {},
   "source": [
    "## seq\n"
   ]
  },
  {
   "cell_type": "code",
   "execution_count": null,
   "metadata": {
    "collapsed": false
   },
   "outputs": [],
   "source": [
    "from skimage.transform import resize\n",
    "from skimage.util import pad\n",
    "T = h * 10\n",
    "S = np.random.uniform(size=(T, T))\n",
    "S = S.astype(np.float32)\n",
    "s=4\n",
    "\n",
    "fig = plt.figure(figsize=(10, 10))\n",
    "p = 8\n",
    "for i in range(100):\n",
    "    a = pad(S[0:h, i*s:i*s+w], p, 'constant', constant_values=(0, 0))\n",
    "    a = resize(a, (h, w))\n",
    "    a = a.astype(np.float32)\n",
    "    a = a[np.newaxis, np.newaxis, :, :]\n",
    "    a[:, :, 0, 0:w] = np.random.uniform(size=w)\n",
    "    for _ in range(1):\n",
    "        a = capsule.reconstruct(a)\n",
    "        a = a > 0.5\n",
    "    m = S[0:h, i*s:(i*s+w)].copy()\n",
    "    b = a[0, 0, p:-p, p:-p]\n",
    "    b = resize(b, (h, w))\n",
    "    #S[0:h, (i*s+w)-s:i*s+w] = b[:, -s:]\n",
    "    S[0:h, (i*s+w)-s:i*s+w] = b[:, 0:s]\n",
    "    #S[0:h, i*s:(i*s+w)] = b\n",
    "    #S[0:h, i*s+w-s:i*s+w] = b[:, i*s+w-s:i*s+w]\n",
    "    \n",
    "    display.clear_output(wait=True)\n",
    "    plt.imshow(m , cmap='gray', interpolation='none')\n",
    "    plt.imshow(S[0:h], cmap='gray')\n",
    "    #plt.imshow(b, cmap='gray')\n",
    "    display.display(plt.gcf())\n",
    "\n",
    "display.clear_output(wait=True)"
   ]
  },
  {
   "cell_type": "code",
   "execution_count": null,
   "metadata": {
    "collapsed": true
   },
   "outputs": [],
   "source": [
    "from skimage.transform import resize\n",
    "def repaint(X):\n",
    "    if X.shape[0]<=4:\n",
    "        return X\n",
    "    m = X.shape[0] / 2\n",
    "    X[0:m, 0:m] = repaint_(X[0:m, 0:m])\n",
    "    X[0:m, m:] = repaint_(X[0:m, m:])\n",
    "    X[m:, 0:m] = repaint_(X[m:, 0:m])\n",
    "    X[m:, m:] = repaint_(X[m:, m:])\n",
    "    return X\n",
    "\n",
    "def repaint_(X):\n",
    "    shape = X.shape\n",
    "    X = resize(X, (w, h))\n",
    "    X = X.astype(np.float32)\n",
    "    X = rec(X, nb_iter=10)\n",
    "    X = resize(X, shape)\n",
    "    X = X.astype(np.float32)\n",
    "    return repaint(X)\n",
    "    \n",
    "def rec(x, nb_iter=4):\n",
    "    x = x[None, None, :, :]\n",
    "    for i in range(nb_iter):\n",
    "        x = capsule.reconstruct(x)\n",
    "    return x[0, 0]"
   ]
  },
  {
   "cell_type": "code",
   "execution_count": null,
   "metadata": {
    "collapsed": false
   },
   "outputs": [],
   "source": [
    "T = 28 * 4\n",
    "S = np.random.uniform(size=(T, T))\n",
    "S = S.astype(np.float32)\n",
    "repaint(S)"
   ]
  },
  {
   "cell_type": "code",
   "execution_count": null,
   "metadata": {
    "collapsed": false
   },
   "outputs": [],
   "source": [
    "fig = plt.figure(figsize=(20, 20))\n",
    "plt.imshow(S, cmap='gray', interpolation='none')"
   ]
  }
 ],
 "metadata": {
  "kernelspec": {
   "display_name": "Python 2",
   "language": "python",
   "name": "python2"
  },
  "language_info": {
   "codemirror_mode": {
    "name": "ipython",
    "version": 2
   },
   "file_extension": ".py",
   "mimetype": "text/x-python",
   "name": "python",
   "nbconvert_exporter": "python",
   "pygments_lexer": "ipython2",
   "version": "2.7.12"
  }
 },
 "nbformat": 4,
 "nbformat_minor": 0
}
