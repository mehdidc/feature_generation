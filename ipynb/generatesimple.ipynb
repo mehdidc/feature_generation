{
 "cells": [
  {
   "cell_type": "code",
   "execution_count": 3,
   "metadata": {
    "collapsed": false
   },
   "outputs": [
    {
     "name": "stderr",
     "output_type": "stream",
     "text": [
      "/home/mcherti/work/code/external/scikit-learn/sklearn/cross_validation.py:43: DeprecationWarning: This module has been deprecated in favor of the model_selection module into which all the refactored classes and functions are moved. Also note that the interface of the new CV iterators are different from that of this module. This module will be removed in 0.20.\n",
      "  \"This module will be removed in 0.20.\", DeprecationWarning)\n"
     ]
    }
   ],
   "source": [
    "import os\n",
    "import sys\n",
    "os.environ['OMP_NUM_THREADS'] = '1'\n",
    "os.environ['THEANO_FLAGS'] = 'device=cpu,compiledir_format=\"ipynb_cpu\"'\n",
    "sys.path.append(os.getcwd()+\"/..\")\n",
    "import theano.tensor as T\n",
    "import theano\n",
    "import lasagne\n",
    "\n",
    "from tasks import check\n",
    "from lasagne import layers as L\n",
    "\n",
    "from lasagnekit.misc.plot_weights import dispims_color, tile_raster_images\n",
    "import matplotlib.pyplot as plt\n",
    "from skimage.io import imsave\n",
    "\n",
    "from sklearn.decomposition import PCA, IncrementalPCA\n",
    "from sklearn.manifold import TSNE\n",
    "from tqdm import tqdm\n",
    "\n",
    "%matplotlib inline\n",
    "from IPython.display import Image\n",
    "\n",
    "import matplotlib.pyplot as plt\n",
    "from lasagnekit.misc.plot_weights import tile_raster_images\n",
    "import numpy as np\n",
    "from lasagnekit.misc.plot_weights import dispims_color\n",
    "from skimage.io import imsave\n",
    "from helpers import salt_and_pepper\n",
    "import lasagne\n",
    "import pickle\n",
    "from lasagne import layers\n",
    "\n",
    "def load_gan_model(filename):\n",
    "    import dcgan\n",
    "    \n",
    "    data = pickle.load(open(filename))\n",
    "    gen = data['generator']\n",
    "    discr = data['discriminator']\n",
    "    return gen, discr\n",
    "\n",
    "def sample(x):\n",
    "    return (np.random.uniform(size=x.shape) <= x).astype(np.float32)\n",
    "\n",
    "def floatX(x):\n",
    "    return x.astype(np.float32)\n",
    "\n",
    "def iterate_minibatches(inputs, targets, batchsize, shuffle=False):\n",
    "    assert len(inputs) == len(targets)\n",
    "    if shuffle:\n",
    "        indices = np.arange(len(inputs))\n",
    "        np.random.shuffle(indices)\n",
    "    for start_idx in range(0, max(len(inputs) - batchsize + 1, len(inputs)), batchsize):\n",
    "        if shuffle:\n",
    "            excerpt = indices[start_idx:start_idx + batchsize]\n",
    "        else:\n",
    "            excerpt = slice(start_idx, start_idx + batchsize)\n",
    "        yield inputs[excerpt], targets[excerpt]\n",
    "\n",
    "def sigmoid(x):\n",
    "    return 1./(1. + np.exp(-x))\n",
    "\n",
    "from tools.brushstroke.common import to_grid_of_images, disp_grid\n",
    "from tools.brushstroke.common import load_model, get_bias, get_scale\n",
    "from lasagnekit.misc.draw_net import draw_to_file\n",
    "from IPython.display import SVG"
   ]
  },
  {
   "cell_type": "markdown",
   "metadata": {},
   "source": [
    "## load model"
   ]
  },
  {
   "cell_type": "code",
   "execution_count": 1,
   "metadata": {
    "collapsed": false
   },
   "outputs": [],
   "source": [
    "from lightjob.cli import load_db\n",
    "db = load_db()\n",
    "s = db.get_job_by_summary('8b4064243348c6285cfdad39c84fee88')['content']['model_summary']\n",
    "filename = \"../jobs/results/{}/model.pkl\".format(s)\n",
    "\n",
    "filename ='../training/vertebrate/verte16/model.pkl'"
   ]
  },
  {
   "cell_type": "code",
   "execution_count": 4,
   "metadata": {
    "collapsed": false
   },
   "outputs": [
    {
     "name": "stdout",
     "output_type": "stream",
     "text": [
      "(None, 8, 30, 30)\n",
      "(None, 16, 28, 28)\n",
      "(None, 128, 26, 26)\n",
      "(None, 128, 24, 24)\n",
      "Loading data...\n"
     ]
    },
    {
     "name": "stderr",
     "output_type": "stream",
     "text": [
      "INFO:tasks:Loading data...\n"
     ]
    },
    {
     "name": "stdout",
     "output_type": "stream",
     "text": [
      "(None, 8, 30, 30)\n",
      "(None, 16, 28, 28)\n",
      "(None, 128, 26, 26)\n",
      "(None, 128, 24, 24)\n",
      "(None, 8, 30, 30)\n",
      "(None, 16, 28, 28)\n",
      "(None, 128, 26, 26)\n",
      "(None, 128, 24, 24)\n",
      "Loading the model...\n"
     ]
    },
    {
     "name": "stderr",
     "output_type": "stream",
     "text": [
      "INFO:tasks:Loading the model...\n"
     ]
    },
    {
     "name": "stdout",
     "output_type": "stream",
     "text": [
      "(None, 8, 30, 30)\n",
      "(None, 16, 28, 28)\n",
      "(None, 128, 26, 26)\n",
      "(None, 128, 24, 24)\n",
      "Compiling the model...\n"
     ]
    },
    {
     "name": "stderr",
     "output_type": "stream",
     "text": [
      "INFO:tasks:Compiling the model...\n"
     ]
    }
   ],
   "source": [
    "capsule, data, layers = load_model(filename)\n",
    "c, w, h = layers['input'].shape[1:]"
   ]
  },
  {
   "cell_type": "code",
   "execution_count": 5,
   "metadata": {
    "collapsed": false
   },
   "outputs": [
    {
     "data": {
      "image/svg+xml": [
       "<svg height=\"872pt\" viewBox=\"0.00 0.00 762.50 872.00\" width=\"763pt\" xmlns=\"http://www.w3.org/2000/svg\" xmlns:xlink=\"http://www.w3.org/1999/xlink\">\n",
       "<g class=\"graph\" id=\"graph0\" transform=\"scale(1 1) rotate(0) translate(4 868)\">\n",
       "<title>Network</title>\n",
       "<polygon fill=\"white\" points=\"-4,4 -4,-868 758.5,-868 758.5,4 -4,4\" stroke=\"none\"/>\n",
       "<!-- lasagne.layers.conv.Conv2DLayer object at 0x7fab84465590 -->\n",
       "<g class=\"node\" id=\"node1\"><title>lasagne.layers.conv.Conv2DLayer object at 0x7fab84465590</title>\n",
       "<polygon fill=\"#7c9abb\" points=\"348.5,-675.5 348.5,-713.5 545.5,-713.5 545.5,-675.5 348.5,-675.5\" stroke=\"black\"/>\n",
       "<text font-family=\"Times,serif\" font-size=\"14.00\" text-anchor=\"middle\" x=\"447\" y=\"-698.3\">conv2, Conv2DLayer</text>\n",
       "<text font-family=\"Times,serif\" font-size=\"14.00\" text-anchor=\"middle\" x=\"447\" y=\"-683.3\">Output shape: (None, 16, 28, 28)</text>\n",
       "</g>\n",
       "<!-- lasagne.layers.conv.Conv2DLayer object at 0x7fab8521bf90 -->\n",
       "<g class=\"node\" id=\"node15\"><title>lasagne.layers.conv.Conv2DLayer object at 0x7fab8521bf90</title>\n",
       "<polygon fill=\"#7c9abb\" points=\"211,-600.5 211,-638.5 415,-638.5 415,-600.5 211,-600.5\" stroke=\"black\"/>\n",
       "<text font-family=\"Times,serif\" font-size=\"14.00\" text-anchor=\"middle\" x=\"313\" y=\"-623.3\">conv3, Conv2DLayer</text>\n",
       "<text font-family=\"Times,serif\" font-size=\"14.00\" text-anchor=\"middle\" x=\"313\" y=\"-608.3\">Output shape: (None, 128, 26, 26)</text>\n",
       "</g>\n",
       "<!-- lasagne.layers.conv.Conv2DLayer object at 0x7fab84465590&#45;&gt;lasagne.layers.conv.Conv2DLayer object at 0x7fab8521bf90 -->\n",
       "<g class=\"edge\" id=\"edge8\"><title>lasagne.layers.conv.Conv2DLayer object at 0x7fab84465590-&gt;lasagne.layers.conv.Conv2DLayer object at 0x7fab8521bf90</title>\n",
       "<path d=\"M413.876,-675.455C396.16,-665.803 374.155,-653.816 355.222,-643.502\" fill=\"none\" stroke=\"black\"/>\n",
       "<polygon fill=\"black\" points=\"356.663,-640.301 346.207,-638.59 353.314,-646.448 356.663,-640.301\" stroke=\"black\"/>\n",
       "</g>\n",
       "<!-- lasagne.layers.special.NonlinearityLayer object at 0x7fab858e2d50 -->\n",
       "<g class=\"node\" id=\"node19\"><title>lasagne.layers.special.NonlinearityLayer object at 0x7fab858e2d50</title>\n",
       "<polygon fill=\"#7f0cd0\" points=\"433.5,-600.5 433.5,-638.5 630.5,-638.5 630.5,-600.5 433.5,-600.5\" stroke=\"black\"/>\n",
       "<text font-family=\"Times,serif\" font-size=\"14.00\" text-anchor=\"middle\" x=\"532\" y=\"-623.3\">sparse1, NonlinearityLayer</text>\n",
       "<text font-family=\"Times,serif\" font-size=\"14.00\" text-anchor=\"middle\" x=\"532\" y=\"-608.3\">Output shape: (None, 16, 28, 28)</text>\n",
       "</g>\n",
       "<!-- lasagne.layers.conv.Conv2DLayer object at 0x7fab84465590&#45;&gt;lasagne.layers.special.NonlinearityLayer object at 0x7fab858e2d50 -->\n",
       "<g class=\"edge\" id=\"edge5\"><title>lasagne.layers.conv.Conv2DLayer object at 0x7fab84465590-&gt;lasagne.layers.special.NonlinearityLayer object at 0x7fab858e2d50</title>\n",
       "<path d=\"M468.011,-675.455C478.636,-666.33 491.693,-655.116 503.235,-645.204\" fill=\"none\" stroke=\"black\"/>\n",
       "<polygon fill=\"black\" points=\"505.63,-647.761 510.936,-638.59 501.069,-642.45 505.63,-647.761\" stroke=\"black\"/>\n",
       "</g>\n",
       "<!-- lasagne.layers.special.NonlinearityLayer object at 0x7fab84c9a850 -->\n",
       "<g class=\"node\" id=\"node2\"><title>lasagne.layers.special.NonlinearityLayer object at 0x7fab84c9a850</title>\n",
       "<polygon fill=\"#7f0cd0\" points=\"0,-450.5 0,-488.5 204,-488.5 204,-450.5 0,-450.5\" stroke=\"black\"/>\n",
       "<text font-family=\"Times,serif\" font-size=\"14.00\" text-anchor=\"middle\" x=\"102\" y=\"-473.3\">sparse3, NonlinearityLayer</text>\n",
       "<text font-family=\"Times,serif\" font-size=\"14.00\" text-anchor=\"middle\" x=\"102\" y=\"-458.3\">Output shape: (None, 128, 24, 24)</text>\n",
       "</g>\n",
       "<!-- lasagne.layers.conv.Conv2DLayer object at 0x7fab83f910d0 -->\n",
       "<g class=\"node\" id=\"node17\"><title>lasagne.layers.conv.Conv2DLayer object at 0x7fab83f910d0</title>\n",
       "<polygon fill=\"#7c9abb\" points=\"1,-375.5 1,-413.5 205,-413.5 205,-375.5 1,-375.5\" stroke=\"black\"/>\n",
       "<text font-family=\"Times,serif\" font-size=\"14.00\" text-anchor=\"middle\" x=\"103\" y=\"-398.3\">conv_back_4_1, Conv2DLayer</text>\n",
       "<text font-family=\"Times,serif\" font-size=\"14.00\" text-anchor=\"middle\" x=\"103\" y=\"-383.3\">Output shape: (None, 128, 26, 26)</text>\n",
       "</g>\n",
       "<!-- lasagne.layers.special.NonlinearityLayer object at 0x7fab84c9a850&#45;&gt;lasagne.layers.conv.Conv2DLayer object at 0x7fab83f910d0 -->\n",
       "<g class=\"edge\" id=\"edge15\"><title>lasagne.layers.special.NonlinearityLayer object at 0x7fab84c9a850-&gt;lasagne.layers.conv.Conv2DLayer object at 0x7fab83f910d0</title>\n",
       "<path d=\"M102.247,-450.455C102.358,-442.383 102.491,-432.676 102.614,-423.682\" fill=\"none\" stroke=\"black\"/>\n",
       "<polygon fill=\"black\" points=\"106.115,-423.637 102.752,-413.59 99.1154,-423.541 106.115,-423.637\" stroke=\"black\"/>\n",
       "</g>\n",
       "<!-- lasagne.layers.conv.Conv2DLayer object at 0x7fab83f91e50 -->\n",
       "<g class=\"node\" id=\"node3\"><title>lasagne.layers.conv.Conv2DLayer object at 0x7fab83f91e50</title>\n",
       "<polygon fill=\"#7c9abb\" points=\"539.5,-225.5 539.5,-263.5 730.5,-263.5 730.5,-225.5 539.5,-225.5\" stroke=\"black\"/>\n",
       "<text font-family=\"Times,serif\" font-size=\"14.00\" text-anchor=\"middle\" x=\"635\" y=\"-248.3\">out1, Conv2DLayer</text>\n",
       "<text font-family=\"Times,serif\" font-size=\"14.00\" text-anchor=\"middle\" x=\"635\" y=\"-233.3\">Output shape: (None, 1, 32, 32)</text>\n",
       "</g>\n",
       "<!-- lasagne.layers.merge.ElemwiseMergeLayer object at 0x7fab85abce90 -->\n",
       "<g class=\"node\" id=\"node4\"><title>lasagne.layers.merge.ElemwiseMergeLayer object at 0x7fab85abce90</title>\n",
       "<polygon fill=\"#658bb4\" points=\"340.5,-75.5 340.5,-113.5 531.5,-113.5 531.5,-75.5 340.5,-75.5\" stroke=\"black\"/>\n",
       "<text font-family=\"Times,serif\" font-size=\"14.00\" text-anchor=\"middle\" x=\"436\" y=\"-98.3\">ElemwiseMergeLayer</text>\n",
       "<text font-family=\"Times,serif\" font-size=\"14.00\" text-anchor=\"middle\" x=\"436\" y=\"-83.3\">Output shape: (None, 1, 32, 32)</text>\n",
       "</g>\n",
       "<!-- lasagne.layers.conv.Conv2DLayer object at 0x7fab83f91e50&#45;&gt;lasagne.layers.merge.ElemwiseMergeLayer object at 0x7fab85abce90 -->\n",
       "<g class=\"edge\" id=\"edge19\"><title>lasagne.layers.conv.Conv2DLayer object at 0x7fab83f91e50-&gt;lasagne.layers.merge.ElemwiseMergeLayer object at 0x7fab85abce90</title>\n",
       "<path d=\"M611.811,-225.31C587.415,-206.272 547.806,-175.641 513,-150 499.263,-139.88 483.954,-128.971 470.629,-119.591\" fill=\"none\" stroke=\"black\"/>\n",
       "<polygon fill=\"black\" points=\"472.39,-116.552 462.194,-113.672 468.369,-122.281 472.39,-116.552\" stroke=\"black\"/>\n",
       "</g>\n",
       "<!-- lasagne.layers.special.NonlinearityLayer object at 0x7fab83f91590 -->\n",
       "<g class=\"node\" id=\"node12\"><title>lasagne.layers.special.NonlinearityLayer object at 0x7fab83f91590</title>\n",
       "<polygon fill=\"#7f0cd0\" points=\"340.5,-0.5 340.5,-38.5 531.5,-38.5 531.5,-0.5 340.5,-0.5\" stroke=\"black\"/>\n",
       "<text font-family=\"Times,serif\" font-size=\"14.00\" text-anchor=\"middle\" x=\"436\" y=\"-23.3\">output, NonlinearityLayer</text>\n",
       "<text font-family=\"Times,serif\" font-size=\"14.00\" text-anchor=\"middle\" x=\"436\" y=\"-8.3\">Output shape: (None, 1, 32, 32)</text>\n",
       "</g>\n",
       "<!-- lasagne.layers.merge.ElemwiseMergeLayer object at 0x7fab85abce90&#45;&gt;lasagne.layers.special.NonlinearityLayer object at 0x7fab83f91590 -->\n",
       "<g class=\"edge\" id=\"edge23\"><title>lasagne.layers.merge.ElemwiseMergeLayer object at 0x7fab85abce90-&gt;lasagne.layers.special.NonlinearityLayer object at 0x7fab83f91590</title>\n",
       "<path d=\"M436,-75.4551C436,-67.3828 436,-57.6764 436,-48.6817\" fill=\"none\" stroke=\"black\"/>\n",
       "<polygon fill=\"black\" points=\"439.5,-48.5903 436,-38.5904 432.5,-48.5904 439.5,-48.5903\" stroke=\"black\"/>\n",
       "</g>\n",
       "<!-- lasagne.layers.conv.Conv2DLayer object at 0x7fab83195410 -->\n",
       "<g class=\"node\" id=\"node5\"><title>lasagne.layers.conv.Conv2DLayer object at 0x7fab83195410</title>\n",
       "<polygon fill=\"#7c9abb\" points=\"269.5,-300.5 269.5,-338.5 460.5,-338.5 460.5,-300.5 269.5,-300.5\" stroke=\"black\"/>\n",
       "<text font-family=\"Times,serif\" font-size=\"14.00\" text-anchor=\"middle\" x=\"365\" y=\"-323.3\">conv_back_3_2, Conv2DLayer</text>\n",
       "<text font-family=\"Times,serif\" font-size=\"14.00\" text-anchor=\"middle\" x=\"365\" y=\"-308.3\">Output shape: (None, 8, 30, 30)</text>\n",
       "</g>\n",
       "<!-- lasagne.layers.conv.Conv2DLayer object at 0x7fab83f91d10 -->\n",
       "<g class=\"node\" id=\"node6\"><title>lasagne.layers.conv.Conv2DLayer object at 0x7fab83f91d10</title>\n",
       "<polygon fill=\"#7c9abb\" points=\"278.5,-150.5 278.5,-188.5 469.5,-188.5 469.5,-150.5 278.5,-150.5\" stroke=\"black\"/>\n",
       "<text font-family=\"Times,serif\" font-size=\"14.00\" text-anchor=\"middle\" x=\"374\" y=\"-173.3\">out3, Conv2DLayer</text>\n",
       "<text font-family=\"Times,serif\" font-size=\"14.00\" text-anchor=\"middle\" x=\"374\" y=\"-158.3\">Output shape: (None, 1, 32, 32)</text>\n",
       "</g>\n",
       "<!-- lasagne.layers.conv.Conv2DLayer object at 0x7fab83195410&#45;&gt;lasagne.layers.conv.Conv2DLayer object at 0x7fab83f91d10 -->\n",
       "<g class=\"edge\" id=\"edge12\"><title>lasagne.layers.conv.Conv2DLayer object at 0x7fab83195410-&gt;lasagne.layers.conv.Conv2DLayer object at 0x7fab83f91d10</title>\n",
       "<path d=\"M366.104,-300.352C367.642,-275.054 370.447,-228.934 372.266,-199.017\" fill=\"none\" stroke=\"black\"/>\n",
       "<polygon fill=\"black\" points=\"375.774,-198.99 372.887,-188.796 368.787,-198.565 375.774,-198.99\" stroke=\"black\"/>\n",
       "</g>\n",
       "<!-- lasagne.layers.conv.Conv2DLayer object at 0x7fab83f91d10&#45;&gt;lasagne.layers.merge.ElemwiseMergeLayer object at 0x7fab85abce90 -->\n",
       "<g class=\"edge\" id=\"edge21\"><title>lasagne.layers.conv.Conv2DLayer object at 0x7fab83f91d10-&gt;lasagne.layers.merge.ElemwiseMergeLayer object at 0x7fab85abce90</title>\n",
       "<path d=\"M389.326,-150.455C396.778,-141.681 405.87,-130.976 414.043,-121.353\" fill=\"none\" stroke=\"black\"/>\n",
       "<polygon fill=\"black\" points=\"416.83,-123.478 420.636,-113.59 411.494,-118.947 416.83,-123.478\" stroke=\"black\"/>\n",
       "</g>\n",
       "<!-- lasagne.layers.conv.Conv2DLayer object at 0x7fab83195650 -->\n",
       "<g class=\"node\" id=\"node7\"><title>lasagne.layers.conv.Conv2DLayer object at 0x7fab83195650</title>\n",
       "<polygon fill=\"#7c9abb\" points=\"46,-525.5 46,-563.5 250,-563.5 250,-525.5 46,-525.5\" stroke=\"black\"/>\n",
       "<text font-family=\"Times,serif\" font-size=\"14.00\" text-anchor=\"middle\" x=\"148\" y=\"-548.3\">conv4, Conv2DLayer</text>\n",
       "<text font-family=\"Times,serif\" font-size=\"14.00\" text-anchor=\"middle\" x=\"148\" y=\"-533.3\">Output shape: (None, 128, 24, 24)</text>\n",
       "</g>\n",
       "<!-- lasagne.layers.conv.Conv2DLayer object at 0x7fab83195650&#45;&gt;lasagne.layers.special.NonlinearityLayer object at 0x7fab84c9a850 -->\n",
       "<g class=\"edge\" id=\"edge14\"><title>lasagne.layers.conv.Conv2DLayer object at 0x7fab83195650-&gt;lasagne.layers.special.NonlinearityLayer object at 0x7fab84c9a850</title>\n",
       "<path d=\"M136.629,-525.455C131.266,-516.944 124.758,-506.616 118.838,-497.222\" fill=\"none\" stroke=\"black\"/>\n",
       "<polygon fill=\"black\" points=\"121.692,-495.185 113.399,-488.59 115.77,-498.917 121.692,-495.185\" stroke=\"black\"/>\n",
       "</g>\n",
       "<!-- lasagne.layers.conv.Conv2DLayer object at 0x7fab80dfcf10 -->\n",
       "<g class=\"node\" id=\"node8\"><title>lasagne.layers.conv.Conv2DLayer object at 0x7fab80dfcf10</title>\n",
       "<polygon fill=\"#7c9abb\" points=\"457.5,-750.5 457.5,-788.5 648.5,-788.5 648.5,-750.5 457.5,-750.5\" stroke=\"black\"/>\n",
       "<text font-family=\"Times,serif\" font-size=\"14.00\" text-anchor=\"middle\" x=\"553\" y=\"-773.3\">conv1, Conv2DLayer</text>\n",
       "<text font-family=\"Times,serif\" font-size=\"14.00\" text-anchor=\"middle\" x=\"553\" y=\"-758.3\">Output shape: (None, 8, 30, 30)</text>\n",
       "</g>\n",
       "<!-- lasagne.layers.conv.Conv2DLayer object at 0x7fab80dfcf10&#45;&gt;lasagne.layers.conv.Conv2DLayer object at 0x7fab84465590 -->\n",
       "<g class=\"edge\" id=\"edge4\"><title>lasagne.layers.conv.Conv2DLayer object at 0x7fab80dfcf10-&gt;lasagne.layers.conv.Conv2DLayer object at 0x7fab84465590</title>\n",
       "<path d=\"M526.798,-750.455C513.165,-741.067 496.323,-729.468 481.63,-719.349\" fill=\"none\" stroke=\"black\"/>\n",
       "<polygon fill=\"black\" points=\"483.489,-716.38 473.268,-713.59 479.519,-722.145 483.489,-716.38\" stroke=\"black\"/>\n",
       "</g>\n",
       "<!-- lasagne.layers.special.NonlinearityLayer object at 0x7fab8449fed0 -->\n",
       "<g class=\"node\" id=\"node18\"><title>lasagne.layers.special.NonlinearityLayer object at 0x7fab8449fed0</title>\n",
       "<polygon fill=\"#7f0cd0\" points=\"563.5,-675.5 563.5,-713.5 754.5,-713.5 754.5,-675.5 563.5,-675.5\" stroke=\"black\"/>\n",
       "<text font-family=\"Times,serif\" font-size=\"14.00\" text-anchor=\"middle\" x=\"659\" y=\"-698.3\">sparse0, NonlinearityLayer</text>\n",
       "<text font-family=\"Times,serif\" font-size=\"14.00\" text-anchor=\"middle\" x=\"659\" y=\"-683.3\">Output shape: (None, 8, 30, 30)</text>\n",
       "</g>\n",
       "<!-- lasagne.layers.conv.Conv2DLayer object at 0x7fab80dfcf10&#45;&gt;lasagne.layers.special.NonlinearityLayer object at 0x7fab8449fed0 -->\n",
       "<g class=\"edge\" id=\"edge2\"><title>lasagne.layers.conv.Conv2DLayer object at 0x7fab80dfcf10-&gt;lasagne.layers.special.NonlinearityLayer object at 0x7fab8449fed0</title>\n",
       "<path d=\"M579.202,-750.455C592.835,-741.067 609.677,-729.468 624.37,-719.349\" fill=\"none\" stroke=\"black\"/>\n",
       "<polygon fill=\"black\" points=\"626.481,-722.145 632.732,-713.59 622.511,-716.38 626.481,-722.145\" stroke=\"black\"/>\n",
       "</g>\n",
       "<!-- lasagne.layers.input.InputLayer object at 0x7fab8539a690 -->\n",
       "<g class=\"node\" id=\"node9\"><title>lasagne.layers.input.InputLayer object at 0x7fab8539a690</title>\n",
       "<polygon fill=\"#a2cece\" points=\"457.5,-825.5 457.5,-863.5 648.5,-863.5 648.5,-825.5 457.5,-825.5\" stroke=\"black\"/>\n",
       "<text font-family=\"Times,serif\" font-size=\"14.00\" text-anchor=\"middle\" x=\"553\" y=\"-848.3\">input, InputLayer</text>\n",
       "<text font-family=\"Times,serif\" font-size=\"14.00\" text-anchor=\"middle\" x=\"553\" y=\"-833.3\">Output shape: (None, 1, 32, 32)</text>\n",
       "</g>\n",
       "<!-- lasagne.layers.input.InputLayer object at 0x7fab8539a690&#45;&gt;lasagne.layers.conv.Conv2DLayer object at 0x7fab80dfcf10 -->\n",
       "<g class=\"edge\" id=\"edge1\"><title>lasagne.layers.input.InputLayer object at 0x7fab8539a690-&gt;lasagne.layers.conv.Conv2DLayer object at 0x7fab80dfcf10</title>\n",
       "<path d=\"M553,-825.455C553,-817.383 553,-807.676 553,-798.682\" fill=\"none\" stroke=\"black\"/>\n",
       "<polygon fill=\"black\" points=\"556.5,-798.59 553,-788.59 549.5,-798.59 556.5,-798.59\" stroke=\"black\"/>\n",
       "</g>\n",
       "<!-- lasagne.layers.conv.Conv2DLayer object at 0x7fab8437e2d0 -->\n",
       "<g class=\"node\" id=\"node10\"><title>lasagne.layers.conv.Conv2DLayer object at 0x7fab8437e2d0</title>\n",
       "<polygon fill=\"#7c9abb\" points=\"6.5,-300.5 6.5,-338.5 203.5,-338.5 203.5,-300.5 6.5,-300.5\" stroke=\"black\"/>\n",
       "<text font-family=\"Times,serif\" font-size=\"14.00\" text-anchor=\"middle\" x=\"105\" y=\"-323.3\">conv_back_4_2, Conv2DLayer</text>\n",
       "<text font-family=\"Times,serif\" font-size=\"14.00\" text-anchor=\"middle\" x=\"105\" y=\"-308.3\">Output shape: (None, 16, 28, 28)</text>\n",
       "</g>\n",
       "<!-- lasagne.layers.conv.Conv2DLayer object at 0x7fab83f91350 -->\n",
       "<g class=\"node\" id=\"node13\"><title>lasagne.layers.conv.Conv2DLayer object at 0x7fab83f91350</title>\n",
       "<polygon fill=\"#7c9abb\" points=\"24.5,-225.5 24.5,-263.5 215.5,-263.5 215.5,-225.5 24.5,-225.5\" stroke=\"black\"/>\n",
       "<text font-family=\"Times,serif\" font-size=\"14.00\" text-anchor=\"middle\" x=\"120\" y=\"-248.3\">conv_back_4_3, Conv2DLayer</text>\n",
       "<text font-family=\"Times,serif\" font-size=\"14.00\" text-anchor=\"middle\" x=\"120\" y=\"-233.3\">Output shape: (None, 8, 30, 30)</text>\n",
       "</g>\n",
       "<!-- lasagne.layers.conv.Conv2DLayer object at 0x7fab8437e2d0&#45;&gt;lasagne.layers.conv.Conv2DLayer object at 0x7fab83f91350 -->\n",
       "<g class=\"edge\" id=\"edge17\"><title>lasagne.layers.conv.Conv2DLayer object at 0x7fab8437e2d0-&gt;lasagne.layers.conv.Conv2DLayer object at 0x7fab83f91350</title>\n",
       "<path d=\"M108.708,-300.455C110.385,-292.295 112.404,-282.465 114.269,-273.389\" fill=\"none\" stroke=\"black\"/>\n",
       "<polygon fill=\"black\" points=\"117.698,-274.09 116.283,-263.59 110.842,-272.681 117.698,-274.09\" stroke=\"black\"/>\n",
       "</g>\n",
       "<!-- lasagne.layers.conv.Conv2DLayer object at 0x7fab8399d090 -->\n",
       "<g class=\"node\" id=\"node11\"><title>lasagne.layers.conv.Conv2DLayer object at 0x7fab8399d090</title>\n",
       "<polygon fill=\"#7c9abb\" points=\"437.5,-525.5 437.5,-563.5 628.5,-563.5 628.5,-525.5 437.5,-525.5\" stroke=\"black\"/>\n",
       "<text font-family=\"Times,serif\" font-size=\"14.00\" text-anchor=\"middle\" x=\"533\" y=\"-548.3\">conv_back_2_1, Conv2DLayer</text>\n",
       "<text font-family=\"Times,serif\" font-size=\"14.00\" text-anchor=\"middle\" x=\"533\" y=\"-533.3\">Output shape: (None, 8, 30, 30)</text>\n",
       "</g>\n",
       "<!-- lasagne.layers.conv.Conv2DLayer object at 0x7fab8399dd90 -->\n",
       "<g class=\"node\" id=\"node14\"><title>lasagne.layers.conv.Conv2DLayer object at 0x7fab8399dd90</title>\n",
       "<polygon fill=\"#7c9abb\" points=\"439.5,-375.5 439.5,-413.5 630.5,-413.5 630.5,-375.5 439.5,-375.5\" stroke=\"black\"/>\n",
       "<text font-family=\"Times,serif\" font-size=\"14.00\" text-anchor=\"middle\" x=\"535\" y=\"-398.3\">out2, Conv2DLayer</text>\n",
       "<text font-family=\"Times,serif\" font-size=\"14.00\" text-anchor=\"middle\" x=\"535\" y=\"-383.3\">Output shape: (None, 1, 32, 32)</text>\n",
       "</g>\n",
       "<!-- lasagne.layers.conv.Conv2DLayer object at 0x7fab8399d090&#45;&gt;lasagne.layers.conv.Conv2DLayer object at 0x7fab8399dd90 -->\n",
       "<g class=\"edge\" id=\"edge7\"><title>lasagne.layers.conv.Conv2DLayer object at 0x7fab8399d090-&gt;lasagne.layers.conv.Conv2DLayer object at 0x7fab8399dd90</title>\n",
       "<path d=\"M533.245,-525.352C533.587,-500.054 534.21,-453.934 534.615,-424.017\" fill=\"none\" stroke=\"black\"/>\n",
       "<polygon fill=\"black\" points=\"538.117,-423.843 534.753,-413.796 531.118,-423.748 538.117,-423.843\" stroke=\"black\"/>\n",
       "</g>\n",
       "<!-- lasagne.layers.conv.Conv2DLayer object at 0x7fab83f91f50 -->\n",
       "<g class=\"node\" id=\"node16\"><title>lasagne.layers.conv.Conv2DLayer object at 0x7fab83f91f50</title>\n",
       "<polygon fill=\"#7c9abb\" points=\"54.5,-150.5 54.5,-188.5 245.5,-188.5 245.5,-150.5 54.5,-150.5\" stroke=\"black\"/>\n",
       "<text font-family=\"Times,serif\" font-size=\"14.00\" text-anchor=\"middle\" x=\"150\" y=\"-173.3\">out4, Conv2DLayer</text>\n",
       "<text font-family=\"Times,serif\" font-size=\"14.00\" text-anchor=\"middle\" x=\"150\" y=\"-158.3\">Output shape: (None, 1, 32, 32)</text>\n",
       "</g>\n",
       "<!-- lasagne.layers.conv.Conv2DLayer object at 0x7fab83f91350&#45;&gt;lasagne.layers.conv.Conv2DLayer object at 0x7fab83f91f50 -->\n",
       "<g class=\"edge\" id=\"edge18\"><title>lasagne.layers.conv.Conv2DLayer object at 0x7fab83f91350-&gt;lasagne.layers.conv.Conv2DLayer object at 0x7fab83f91f50</title>\n",
       "<path d=\"M127.416,-225.455C130.805,-217.207 134.896,-207.254 138.659,-198.096\" fill=\"none\" stroke=\"black\"/>\n",
       "<polygon fill=\"black\" points=\"142.002,-199.17 142.566,-188.59 135.527,-196.509 142.002,-199.17\" stroke=\"black\"/>\n",
       "</g>\n",
       "<!-- lasagne.layers.conv.Conv2DLayer object at 0x7fab8399dd90&#45;&gt;lasagne.layers.merge.ElemwiseMergeLayer object at 0x7fab85abce90 -->\n",
       "<g class=\"edge\" id=\"edge20\"><title>lasagne.layers.conv.Conv2DLayer object at 0x7fab8399dd90-&gt;lasagne.layers.merge.ElemwiseMergeLayer object at 0x7fab85abce90</title>\n",
       "<path d=\"M533.389,-375.216C529.153,-333.462 515.335,-228.638 478,-150 473.263,-140.023 466.47,-130.145 459.723,-121.594\" fill=\"none\" stroke=\"black\"/>\n",
       "<polygon fill=\"black\" points=\"462.398,-119.336 453.338,-113.843 456.995,-123.787 462.398,-119.336\" stroke=\"black\"/>\n",
       "</g>\n",
       "<!-- lasagne.layers.conv.Conv2DLayer object at 0x7fab8521bf90&#45;&gt;lasagne.layers.conv.Conv2DLayer object at 0x7fab83195650 -->\n",
       "<g class=\"edge\" id=\"edge13\"><title>lasagne.layers.conv.Conv2DLayer object at 0x7fab8521bf90-&gt;lasagne.layers.conv.Conv2DLayer object at 0x7fab83195650</title>\n",
       "<path d=\"M272.213,-600.455C249.803,-590.54 221.821,-578.16 198.091,-567.662\" fill=\"none\" stroke=\"black\"/>\n",
       "<polygon fill=\"black\" points=\"199.45,-564.436 188.889,-563.59 196.618,-570.837 199.45,-564.436\" stroke=\"black\"/>\n",
       "</g>\n",
       "<!-- lasagne.layers.special.NonlinearityLayer object at 0x7fab84d487d0 -->\n",
       "<g class=\"node\" id=\"node20\"><title>lasagne.layers.special.NonlinearityLayer object at 0x7fab84d487d0</title>\n",
       "<polygon fill=\"#7f0cd0\" points=\"222,-450.5 222,-488.5 426,-488.5 426,-450.5 222,-450.5\" stroke=\"black\"/>\n",
       "<text font-family=\"Times,serif\" font-size=\"14.00\" text-anchor=\"middle\" x=\"324\" y=\"-473.3\">sparse2, NonlinearityLayer</text>\n",
       "<text font-family=\"Times,serif\" font-size=\"14.00\" text-anchor=\"middle\" x=\"324\" y=\"-458.3\">Output shape: (None, 128, 26, 26)</text>\n",
       "</g>\n",
       "<!-- lasagne.layers.conv.Conv2DLayer object at 0x7fab8521bf90&#45;&gt;lasagne.layers.special.NonlinearityLayer object at 0x7fab84d487d0 -->\n",
       "<g class=\"edge\" id=\"edge9\"><title>lasagne.layers.conv.Conv2DLayer object at 0x7fab8521bf90-&gt;lasagne.layers.special.NonlinearityLayer object at 0x7fab84d487d0</title>\n",
       "<path d=\"M314.349,-600.352C316.229,-575.054 319.657,-528.934 321.881,-499.017\" fill=\"none\" stroke=\"black\"/>\n",
       "<polygon fill=\"black\" points=\"325.389,-499.028 322.64,-488.796 318.408,-498.509 325.389,-499.028\" stroke=\"black\"/>\n",
       "</g>\n",
       "<!-- lasagne.layers.conv.Conv2DLayer object at 0x7fab83f91f50&#45;&gt;lasagne.layers.merge.ElemwiseMergeLayer object at 0x7fab85abce90 -->\n",
       "<g class=\"edge\" id=\"edge22\"><title>lasagne.layers.conv.Conv2DLayer object at 0x7fab83f91f50-&gt;lasagne.layers.merge.ElemwiseMergeLayer object at 0x7fab85abce90</title>\n",
       "<path d=\"M220.697,-150.455C261.517,-140.036 313.006,-126.894 355.395,-116.074\" fill=\"none\" stroke=\"black\"/>\n",
       "<polygon fill=\"black\" points=\"356.302,-119.455 365.125,-113.59 354.57,-112.672 356.302,-119.455\" stroke=\"black\"/>\n",
       "</g>\n",
       "<!-- lasagne.layers.conv.Conv2DLayer object at 0x7fab83f910d0&#45;&gt;lasagne.layers.conv.Conv2DLayer object at 0x7fab8437e2d0 -->\n",
       "<g class=\"edge\" id=\"edge16\"><title>lasagne.layers.conv.Conv2DLayer object at 0x7fab83f910d0-&gt;lasagne.layers.conv.Conv2DLayer object at 0x7fab8437e2d0</title>\n",
       "<path d=\"M103.494,-375.455C103.716,-367.383 103.981,-357.676 104.228,-348.682\" fill=\"none\" stroke=\"black\"/>\n",
       "<polygon fill=\"black\" points=\"107.729,-348.682 104.504,-338.59 100.732,-348.491 107.729,-348.682\" stroke=\"black\"/>\n",
       "</g>\n",
       "<!-- lasagne.layers.special.NonlinearityLayer object at 0x7fab8449fed0&#45;&gt;lasagne.layers.conv.Conv2DLayer object at 0x7fab83f91e50 -->\n",
       "<g class=\"edge\" id=\"edge3\"><title>lasagne.layers.special.NonlinearityLayer object at 0x7fab8449fed0-&gt;lasagne.layers.conv.Conv2DLayer object at 0x7fab83f91e50</title>\n",
       "<path d=\"M659,-675.272C659,-647.339 659,-592.264 659,-545.5 659,-545.5 659,-545.5 659,-393.5 659,-351.307 649.378,-303.21 642.319,-273.601\" fill=\"none\" stroke=\"black\"/>\n",
       "<polygon fill=\"black\" points=\"645.641,-272.451 639.857,-263.575 638.843,-274.121 645.641,-272.451\" stroke=\"black\"/>\n",
       "</g>\n",
       "<!-- lasagne.layers.special.NonlinearityLayer object at 0x7fab858e2d50&#45;&gt;lasagne.layers.conv.Conv2DLayer object at 0x7fab8399d090 -->\n",
       "<g class=\"edge\" id=\"edge6\"><title>lasagne.layers.special.NonlinearityLayer object at 0x7fab858e2d50-&gt;lasagne.layers.conv.Conv2DLayer object at 0x7fab8399d090</title>\n",
       "<path d=\"M532.247,-600.455C532.358,-592.383 532.491,-582.676 532.614,-573.682\" fill=\"none\" stroke=\"black\"/>\n",
       "<polygon fill=\"black\" points=\"536.115,-573.637 532.752,-563.59 529.115,-573.541 536.115,-573.637\" stroke=\"black\"/>\n",
       "</g>\n",
       "<!-- lasagne.layers.conv.Conv2DLayer object at 0x7fab8399d110 -->\n",
       "<g class=\"node\" id=\"node21\"><title>lasagne.layers.conv.Conv2DLayer object at 0x7fab8399d110</title>\n",
       "<polygon fill=\"#7c9abb\" points=\"224.5,-375.5 224.5,-413.5 421.5,-413.5 421.5,-375.5 224.5,-375.5\" stroke=\"black\"/>\n",
       "<text font-family=\"Times,serif\" font-size=\"14.00\" text-anchor=\"middle\" x=\"323\" y=\"-398.3\">conv_back_3_1, Conv2DLayer</text>\n",
       "<text font-family=\"Times,serif\" font-size=\"14.00\" text-anchor=\"middle\" x=\"323\" y=\"-383.3\">Output shape: (None, 16, 28, 28)</text>\n",
       "</g>\n",
       "<!-- lasagne.layers.special.NonlinearityLayer object at 0x7fab84d487d0&#45;&gt;lasagne.layers.conv.Conv2DLayer object at 0x7fab8399d110 -->\n",
       "<g class=\"edge\" id=\"edge10\"><title>lasagne.layers.special.NonlinearityLayer object at 0x7fab84d487d0-&gt;lasagne.layers.conv.Conv2DLayer object at 0x7fab8399d110</title>\n",
       "<path d=\"M323.753,-450.455C323.642,-442.383 323.509,-432.676 323.386,-423.682\" fill=\"none\" stroke=\"black\"/>\n",
       "<polygon fill=\"black\" points=\"326.885,-423.541 323.248,-413.59 319.885,-423.637 326.885,-423.541\" stroke=\"black\"/>\n",
       "</g>\n",
       "<!-- lasagne.layers.conv.Conv2DLayer object at 0x7fab8399d110&#45;&gt;lasagne.layers.conv.Conv2DLayer object at 0x7fab83195410 -->\n",
       "<g class=\"edge\" id=\"edge11\"><title>lasagne.layers.conv.Conv2DLayer object at 0x7fab8399d110-&gt;lasagne.layers.conv.Conv2DLayer object at 0x7fab83195410</title>\n",
       "<path d=\"M333.382,-375.455C338.228,-367.032 344.098,-356.829 349.458,-347.513\" fill=\"none\" stroke=\"black\"/>\n",
       "<polygon fill=\"black\" points=\"352.639,-349.004 354.592,-338.59 346.571,-345.513 352.639,-349.004\" stroke=\"black\"/>\n",
       "</g>\n",
       "</g>\n",
       "</svg>"
      ],
      "text/plain": [
       "<IPython.core.display.SVG object>"
      ]
     },
     "execution_count": 5,
     "metadata": {},
     "output_type": "execute_result"
    }
   ],
   "source": [
    "draw_to_file(L.get_all_layers(layers['output']), 'out.svg')\n",
    "SVG('out.svg')"
   ]
  },
  {
   "cell_type": "code",
   "execution_count": 6,
   "metadata": {
    "collapsed": false
   },
   "outputs": [
    {
     "name": "stdout",
     "output_type": "stream",
     "text": [
      "input\n",
      "conv1\n",
      "conv2\n",
      "conv3\n",
      "conv4\n",
      "sparse0\n",
      "sparse1\n",
      "sparse2\n",
      "sparse3\n",
      "conv_back_4_3\n",
      "conv_back_4_1\n",
      "conv_back_4_2\n",
      "conv_back_3_2\n",
      "conv_back_3_1\n",
      "conv_back_2_1\n",
      "out1\n",
      "out2\n",
      "out3\n",
      "out4\n",
      "output\n"
     ]
    }
   ],
   "source": [
    "for l in layers:\n",
    "    print(l)"
   ]
  },
  {
   "cell_type": "code",
   "execution_count": 7,
   "metadata": {
    "collapsed": false
   },
   "outputs": [
    {
     "name": "stdout",
     "output_type": "stream",
     "text": [
      "(128, 1, 32, 32)\n"
     ]
    },
    {
     "data": {
      "text/plain": [
       "<matplotlib.image.AxesImage at 0x7fab859e3910>"
      ]
     },
     "execution_count": 7,
     "metadata": {},
     "output_type": "execute_result"
    },
    {
     "data": {
      "image/png": "[encoded data removed]",
      "text/plain": [
       "<matplotlib.figure.Figure at 0x7fab83a7f210>"
      ]
     },
     "metadata": {},
     "output_type": "display_data"
    }
   ],
   "source": [
    "data.load()\n",
    "print(data.X.shape)\n",
    "X = data.X[0:100]\n",
    "X = capsule.preprocess(X)\n",
    "Xrec = capsule.reconstruct(X)\n",
    "fig = plt.figure(figsize=(10,10))\n",
    "plt.imshow(disp_grid(Xrec, border=1, bordercolor=(0.3,0.3,0.3)), interpolation='none')"
   ]
  },
  {
   "cell_type": "markdown",
   "metadata": {},
   "source": [
    "## ProgramNeural network"
   ]
  },
  {
   "cell_type": "code",
   "execution_count": null,
   "metadata": {
    "collapsed": false
   },
   "outputs": [],
   "source": [
    "X_t = T.tensor4()\n",
    "get_coords = theano.function([X_t], L.get_output(layers['coord_0_normalized'], X_t))\n",
    "get_repr = theano.function([X_t], L.get_output(layers['repr_0_normalized'], X_t))\n",
    "\n",
    "C = T.tensor3()\n",
    "R = T.tensor3()\n",
    "render = theano.function(\n",
    "    [C, R],\n",
    "    L.get_output(layers['output'], \n",
    "                 {layers['coord_0_normalized']: C, layers['repr_0_normalized']: R}, \n",
    "                 deterministic=True)\n",
    ")"
   ]
  },
  {
   "cell_type": "code",
   "execution_count": 35,
   "metadata": {
    "collapsed": false
   },
   "outputs": [
    {
     "ename": "UnusedInputError",
     "evalue": "theano.function was asked to create a function computing outputs given certain inputs, but the provided input variable at index 0 is not part of the computational graph needed to compute the outputs: <TensorType(float32, 4D)>.\nTo make this error into a warning, you can pass the parameter on_unused_input='warn' to theano.function. To disable it completely, use on_unused_input='ignore'.",
     "output_type": "error",
     "traceback": [
      "\u001b[0;31m---------------------------------------------------------------------------\u001b[0m",
      "\u001b[0;31mUnusedInputError\u001b[0m                          Traceback (most recent call last)",
      "\u001b[0;32m<ipython-input-35-f32d9dfbc4ae>\u001b[0m in \u001b[0;36m<module>\u001b[0;34m()\u001b[0m\n\u001b[1;32m      1\u001b[0m \u001b[0mfeat_layers\u001b[0m \u001b[0;34m=\u001b[0m \u001b[0;34m[\u001b[0m\u001b[0ml\u001b[0m \u001b[0;32mfor\u001b[0m \u001b[0ml\u001b[0m \u001b[0;32min\u001b[0m \u001b[0mlayers\u001b[0m\u001b[0;34m.\u001b[0m\u001b[0mkeys\u001b[0m\u001b[0;34m(\u001b[0m\u001b[0;34m)\u001b[0m \u001b[0;32mif\u001b[0m \u001b[0;34m'normalized'\u001b[0m \u001b[0;32min\u001b[0m \u001b[0ml\u001b[0m\u001b[0;34m]\u001b[0m\u001b[0;34m\u001b[0m\u001b[0m\n\u001b[0;32m----> 2\u001b[0;31m \u001b[0mget_feats\u001b[0m \u001b[0;34m=\u001b[0m \u001b[0mtheano\u001b[0m\u001b[0;34m.\u001b[0m\u001b[0mfunction\u001b[0m\u001b[0;34m(\u001b[0m\u001b[0;34m[\u001b[0m\u001b[0mX_t\u001b[0m\u001b[0;34m]\u001b[0m\u001b[0;34m,\u001b[0m \u001b[0;34m[\u001b[0m\u001b[0mL\u001b[0m\u001b[0;34m.\u001b[0m\u001b[0mget_output\u001b[0m\u001b[0;34m(\u001b[0m\u001b[0mlayers\u001b[0m\u001b[0;34m[\u001b[0m\u001b[0ml\u001b[0m\u001b[0;34m]\u001b[0m\u001b[0;34m,\u001b[0m \u001b[0mX_t\u001b[0m\u001b[0;34m)\u001b[0m \u001b[0;32mfor\u001b[0m \u001b[0ml\u001b[0m \u001b[0;32min\u001b[0m \u001b[0mfeat_layers\u001b[0m\u001b[0;34m]\u001b[0m\u001b[0;34m)\u001b[0m\u001b[0;34m\u001b[0m\u001b[0m\n\u001b[0m",
      "\u001b[0;32m/home/mcherti/build/Theano/theano/compile/function.pyc\u001b[0m in \u001b[0;36mfunction\u001b[0;34m(inputs, outputs, mode, updates, givens, no_default_updates, accept_inplace, name, rebuild_strict, allow_input_downcast, profile, on_unused_input)\u001b[0m\n\u001b[1;32m    324\u001b[0m                    \u001b[0mon_unused_input\u001b[0m\u001b[0;34m=\u001b[0m\u001b[0mon_unused_input\u001b[0m\u001b[0;34m,\u001b[0m\u001b[0;34m\u001b[0m\u001b[0m\n\u001b[1;32m    325\u001b[0m                    \u001b[0mprofile\u001b[0m\u001b[0;34m=\u001b[0m\u001b[0mprofile\u001b[0m\u001b[0;34m,\u001b[0m\u001b[0;34m\u001b[0m\u001b[0m\n\u001b[0;32m--> 326\u001b[0;31m                    output_keys=output_keys)\n\u001b[0m\u001b[1;32m    327\u001b[0m     \u001b[0;31m# We need to add the flag check_aliased inputs if we have any mutable or\u001b[0m\u001b[0;34m\u001b[0m\u001b[0;34m\u001b[0m\u001b[0m\n\u001b[1;32m    328\u001b[0m     \u001b[0;31m# borrowed used defined inputs\u001b[0m\u001b[0;34m\u001b[0m\u001b[0;34m\u001b[0m\u001b[0m\n",
      "\u001b[0;32m/home/mcherti/build/Theano/theano/compile/pfunc.pyc\u001b[0m in \u001b[0;36mpfunc\u001b[0;34m(params, outputs, mode, updates, givens, no_default_updates, accept_inplace, name, rebuild_strict, allow_input_downcast, profile, on_unused_input, output_keys)\u001b[0m\n\u001b[1;32m    482\u001b[0m                          \u001b[0maccept_inplace\u001b[0m\u001b[0;34m=\u001b[0m\u001b[0maccept_inplace\u001b[0m\u001b[0;34m,\u001b[0m \u001b[0mname\u001b[0m\u001b[0;34m=\u001b[0m\u001b[0mname\u001b[0m\u001b[0;34m,\u001b[0m\u001b[0;34m\u001b[0m\u001b[0m\n\u001b[1;32m    483\u001b[0m                          \u001b[0mprofile\u001b[0m\u001b[0;34m=\u001b[0m\u001b[0mprofile\u001b[0m\u001b[0;34m,\u001b[0m \u001b[0mon_unused_input\u001b[0m\u001b[0;34m=\u001b[0m\u001b[0mon_unused_input\u001b[0m\u001b[0;34m,\u001b[0m\u001b[0;34m\u001b[0m\u001b[0m\n\u001b[0;32m--> 484\u001b[0;31m                          output_keys=output_keys)\n\u001b[0m\u001b[1;32m    485\u001b[0m \u001b[0;34m\u001b[0m\u001b[0m\n\u001b[1;32m    486\u001b[0m \u001b[0;34m\u001b[0m\u001b[0m\n",
      "\u001b[0;32m/home/mcherti/build/Theano/theano/compile/function_module.pyc\u001b[0m in \u001b[0;36morig_function\u001b[0;34m(inputs, outputs, mode, accept_inplace, name, profile, on_unused_input, output_keys)\u001b[0m\n\u001b[1;32m   1786\u001b[0m                    \u001b[0mprofile\u001b[0m\u001b[0;34m=\u001b[0m\u001b[0mprofile\u001b[0m\u001b[0;34m,\u001b[0m\u001b[0;34m\u001b[0m\u001b[0m\n\u001b[1;32m   1787\u001b[0m                    \u001b[0mon_unused_input\u001b[0m\u001b[0;34m=\u001b[0m\u001b[0mon_unused_input\u001b[0m\u001b[0;34m,\u001b[0m\u001b[0;34m\u001b[0m\u001b[0m\n\u001b[0;32m-> 1788\u001b[0;31m                    \u001b[0moutput_keys\u001b[0m\u001b[0;34m=\u001b[0m\u001b[0moutput_keys\u001b[0m\u001b[0;34m)\u001b[0m\u001b[0;34m.\u001b[0m\u001b[0mcreate\u001b[0m\u001b[0;34m(\u001b[0m\u001b[0;34m\u001b[0m\u001b[0m\n\u001b[0m\u001b[1;32m   1789\u001b[0m             defaults)\n\u001b[1;32m   1790\u001b[0m \u001b[0;34m\u001b[0m\u001b[0m\n",
      "\u001b[0;32m/home/mcherti/build/Theano/theano/compile/function_module.pyc\u001b[0m in \u001b[0;36m__init__\u001b[0;34m(self, inputs, outputs, mode, accept_inplace, function_builder, profile, on_unused_input, fgraph, output_keys)\u001b[0m\n\u001b[1;32m   1424\u001b[0m \u001b[0;34m\u001b[0m\u001b[0m\n\u001b[1;32m   1425\u001b[0m         \u001b[0;31m# Check if some input variables are unused\u001b[0m\u001b[0;34m\u001b[0m\u001b[0;34m\u001b[0m\u001b[0m\n\u001b[0;32m-> 1426\u001b[0;31m         \u001b[0mself\u001b[0m\u001b[0;34m.\u001b[0m\u001b[0m_check_unused_inputs\u001b[0m\u001b[0;34m(\u001b[0m\u001b[0minputs\u001b[0m\u001b[0;34m,\u001b[0m \u001b[0moutputs\u001b[0m\u001b[0;34m,\u001b[0m \u001b[0mon_unused_input\u001b[0m\u001b[0;34m)\u001b[0m\u001b[0;34m\u001b[0m\u001b[0m\n\u001b[0m\u001b[1;32m   1427\u001b[0m \u001b[0;34m\u001b[0m\u001b[0m\n\u001b[1;32m   1428\u001b[0m         \u001b[0;31m# Make a list of (SymbolicInput|SymblicInputKits, indices,\u001b[0m\u001b[0;34m\u001b[0m\u001b[0;34m\u001b[0m\u001b[0m\n",
      "\u001b[0;32m/home/mcherti/build/Theano/theano/compile/function_module.pyc\u001b[0m in \u001b[0;36m_check_unused_inputs\u001b[0;34m(self, inputs, outputs, on_unused_input)\u001b[0m\n\u001b[1;32m   1563\u001b[0m                 \u001b[0;32melif\u001b[0m \u001b[0mon_unused_input\u001b[0m \u001b[0;34m==\u001b[0m \u001b[0;34m'raise'\u001b[0m\u001b[0;34m:\u001b[0m\u001b[0;34m\u001b[0m\u001b[0m\n\u001b[1;32m   1564\u001b[0m                     raise UnusedInputError(msg % (inputs.index(i),\n\u001b[0;32m-> 1565\u001b[0;31m                                                   i.variable, err_msg))\n\u001b[0m\u001b[1;32m   1566\u001b[0m                 \u001b[0;32melse\u001b[0m\u001b[0;34m:\u001b[0m\u001b[0;34m\u001b[0m\u001b[0m\n\u001b[1;32m   1567\u001b[0m                     raise ValueError(\"Invalid value for keyword \"\n",
      "\u001b[0;31mUnusedInputError\u001b[0m: theano.function was asked to create a function computing outputs given certain inputs, but the provided input variable at index 0 is not part of the computational graph needed to compute the outputs: <TensorType(float32, 4D)>.\nTo make this error into a warning, you can pass the parameter on_unused_input='warn' to theano.function. To disable it completely, use on_unused_input='ignore'."
     ]
    }
   ],
   "source": [
    "feat_layers = [l for l in layers.keys() if 'normalized' in l]\n",
    "get_feats = theano.function([X_t], [L.get_output(layers[l], X_t) for l in feat_layers])"
   ]
  },
  {
   "cell_type": "code",
   "execution_count": 36,
   "metadata": {
    "collapsed": false
   },
   "outputs": [],
   "source": [
    "#get_coords_1 = theano.function([X_t], L.get_output(layers['coord_1_0_normalized'], X_t))\n",
    "#get_rel_coords_1 = theano.function([X_t], L.get_output(layers['coord_5_0'], X_t))"
   ]
  },
  {
   "cell_type": "code",
   "execution_count": 37,
   "metadata": {
    "collapsed": false
   },
   "outputs": [
    {
     "ename": "NameError",
     "evalue": "name 'get_coords' is not defined",
     "output_type": "error",
     "traceback": [
      "\u001b[0;31m---------------------------------------------------------------------------\u001b[0m",
      "\u001b[0;31mNameError\u001b[0m                                 Traceback (most recent call last)",
      "\u001b[0;32m<ipython-input-37-f7001f5bd03f>\u001b[0m in \u001b[0;36m<module>\u001b[0;34m()\u001b[0m\n\u001b[1;32m      1\u001b[0m \u001b[0mX\u001b[0m \u001b[0;34m=\u001b[0m \u001b[0mdata\u001b[0m\u001b[0;34m.\u001b[0m\u001b[0mX\u001b[0m\u001b[0;34m[\u001b[0m\u001b[0;36m0\u001b[0m\u001b[0;34m:\u001b[0m\u001b[0;36m9\u001b[0m\u001b[0;34m]\u001b[0m\u001b[0;34m\u001b[0m\u001b[0m\n\u001b[1;32m      2\u001b[0m \u001b[0mX\u001b[0m \u001b[0;34m=\u001b[0m \u001b[0mcapsule\u001b[0m\u001b[0;34m.\u001b[0m\u001b[0mpreprocess\u001b[0m\u001b[0;34m(\u001b[0m\u001b[0mX\u001b[0m\u001b[0;34m)\u001b[0m\u001b[0;34m\u001b[0m\u001b[0m\n\u001b[0;32m----> 3\u001b[0;31m \u001b[0mcoords\u001b[0m \u001b[0;34m=\u001b[0m \u001b[0mget_coords\u001b[0m\u001b[0;34m(\u001b[0m\u001b[0mX\u001b[0m\u001b[0;34m)\u001b[0m\u001b[0;34m\u001b[0m\u001b[0m\n\u001b[0m\u001b[1;32m      4\u001b[0m \u001b[0mreprs\u001b[0m \u001b[0;34m=\u001b[0m \u001b[0mget_repr\u001b[0m\u001b[0;34m(\u001b[0m\u001b[0mX\u001b[0m\u001b[0;34m)\u001b[0m\u001b[0;34m\u001b[0m\u001b[0m\n",
      "\u001b[0;31mNameError\u001b[0m: name 'get_coords' is not defined"
     ]
    }
   ],
   "source": [
    "X = data.X[0:9]\n",
    "X = capsule.preprocess(X)\n",
    "coords = get_coords(X)\n",
    "reprs = get_repr(X)"
   ]
  },
  {
   "cell_type": "code",
   "execution_count": null,
   "metadata": {
    "collapsed": false
   },
   "outputs": [],
   "source": [
    "reprs_ = reprs.copy()\n",
    "coords_ = coords.copy()\n",
    "coords_[:]=0.5\n",
    "reprs_[:]=0\n",
    "#coords_[:]=-10\n",
    "#coords_[:,0]=0.5\n",
    "#reprs_[:,0,0]=1"
   ]
  },
  {
   "cell_type": "code",
   "execution_count": null,
   "metadata": {
    "collapsed": false
   },
   "outputs": [],
   "source": [
    "Xrec = render(coords_, reprs_)\n",
    "Xrec = Xrec\n",
    "img = disp_grid(Xrec, border=1, bordercolor=(0.3,0,0))\n",
    "imsave('out.png', img)\n",
    "Image('out.png', width=400, height=400)"
   ]
  },
  {
   "cell_type": "markdown",
   "metadata": {},
   "source": [
    "## Only come here To check vertebrate  convnets"
   ]
  },
  {
   "cell_type": "code",
   "execution_count": 8,
   "metadata": {
    "collapsed": false
   },
   "outputs": [
    {
     "name": "stdout",
     "output_type": "stream",
     "text": [
      "OrderedDict([('input', <lasagne.layers.input.InputLayer object at 0x7fab8539a690>), ('conv1', <lasagne.layers.conv.Conv2DLayer object at 0x7fab80dfcf10>), ('conv2', <lasagne.layers.conv.Conv2DLayer object at 0x7fab84465590>), ('conv3', <lasagne.layers.conv.Conv2DLayer object at 0x7fab8521bf90>), ('conv4', <lasagne.layers.conv.Conv2DLayer object at 0x7fab83195650>), ('sparse0', <lasagne.layers.special.NonlinearityLayer object at 0x7fab8449fed0>), ('sparse1', <lasagne.layers.special.NonlinearityLayer object at 0x7fab858e2d50>), ('sparse2', <lasagne.layers.special.NonlinearityLayer object at 0x7fab84d487d0>), ('sparse3', <lasagne.layers.special.NonlinearityLayer object at 0x7fab84c9a850>), ('conv_back_4_3', <lasagne.layers.conv.Conv2DLayer object at 0x7fab83f91350>), ('conv_back_4_1', <lasagne.layers.conv.Conv2DLayer object at 0x7fab83f910d0>), ('conv_back_4_2', <lasagne.layers.conv.Conv2DLayer object at 0x7fab8437e2d0>), ('conv_back_3_2', <lasagne.layers.conv.Conv2DLayer object at 0x7fab83195410>), ('conv_back_3_1', <lasagne.layers.conv.Conv2DLayer object at 0x7fab8399d110>), ('conv_back_2_1', <lasagne.layers.conv.Conv2DLayer object at 0x7fab8399d090>), ('out1', <lasagne.layers.conv.Conv2DLayer object at 0x7fab83f91e50>), ('out2', <lasagne.layers.conv.Conv2DLayer object at 0x7fab8399dd90>), ('out3', <lasagne.layers.conv.Conv2DLayer object at 0x7fab83f91d10>), ('out4', <lasagne.layers.conv.Conv2DLayer object at 0x7fab83f91f50>), ('output', <lasagne.layers.special.NonlinearityLayer object at 0x7fab83f91590>)])\n"
     ]
    },
    {
     "ename": "KeyError",
     "evalue": "'wta_channel_conv1'",
     "output_type": "error",
     "traceback": [
      "\u001b[0;31m---------------------------------------------------------------------------\u001b[0m",
      "\u001b[0;31mKeyError\u001b[0m                                  Traceback (most recent call last)",
      "\u001b[0;32m<ipython-input-8-111c0834647e>\u001b[0m in \u001b[0;36m<module>\u001b[0;34m()\u001b[0m\n\u001b[1;32m      4\u001b[0m encode = theano.function(\n\u001b[1;32m      5\u001b[0m     \u001b[0;34m[\u001b[0m\u001b[0mX_t\u001b[0m\u001b[0;34m]\u001b[0m\u001b[0;34m,\u001b[0m\u001b[0;34m\u001b[0m\u001b[0m\n\u001b[0;32m----> 6\u001b[0;31m     \u001b[0;34m[\u001b[0m\u001b[0mL\u001b[0m\u001b[0;34m.\u001b[0m\u001b[0mget_output\u001b[0m\u001b[0;34m(\u001b[0m\u001b[0mlayers\u001b[0m\u001b[0;34m[\u001b[0m\u001b[0mcc\u001b[0m\u001b[0;34m]\u001b[0m\u001b[0;34m,\u001b[0m \u001b[0mX_t\u001b[0m\u001b[0;34m)\u001b[0m \u001b[0;32mfor\u001b[0m \u001b[0mcc\u001b[0m \u001b[0;32min\u001b[0m \u001b[0mcode_layers\u001b[0m\u001b[0;34m]\u001b[0m\u001b[0;34m\u001b[0m\u001b[0m\n\u001b[0m\u001b[1;32m      7\u001b[0m )\n\u001b[1;32m      8\u001b[0m \u001b[0mcode_t\u001b[0m \u001b[0;34m=\u001b[0m \u001b[0;34m[\u001b[0m\u001b[0mT\u001b[0m\u001b[0;34m.\u001b[0m\u001b[0mtensor4\u001b[0m\u001b[0;34m(\u001b[0m\u001b[0;34m)\u001b[0m \u001b[0;32mfor\u001b[0m \u001b[0m_\u001b[0m \u001b[0;32min\u001b[0m \u001b[0mcode_layers\u001b[0m\u001b[0;34m]\u001b[0m\u001b[0;34m\u001b[0m\u001b[0m\n",
      "\u001b[0;31mKeyError\u001b[0m: 'wta_channel_conv1'"
     ]
    }
   ],
   "source": [
    "print(layers)\n",
    "code_layers = ['wta_channel_conv1', 'wta_channel_conv2', 'wta_channel_conv3']\n",
    "X_t = T.tensor4()\n",
    "encode = theano.function(\n",
    "    [X_t], \n",
    "    [L.get_output(layers[cc], X_t) for cc in code_layers]\n",
    ")\n",
    "code_t = [T.tensor4() for _ in code_layers]\n",
    "decode = theano.function(\n",
    "    code_t,\n",
    "    L.get_output(layers['output'], {layers[name]: t for name, t in zip(code_layers, code_t)})\n",
    ")"
   ]
  },
  {
   "cell_type": "code",
   "execution_count": 11,
   "metadata": {
    "collapsed": false
   },
   "outputs": [],
   "source": [
    "X = data.X[0:100]\n",
    "X=capsule.preprocess(X)"
   ]
  },
  {
   "cell_type": "code",
   "execution_count": 12,
   "metadata": {
    "collapsed": false
   },
   "outputs": [],
   "source": [
    "C = encode(X)\n",
    "Xrec = decode(*C)"
   ]
  },
  {
   "cell_type": "code",
   "execution_count": 13,
   "metadata": {
    "collapsed": false
   },
   "outputs": [
    {
     "data": {
      "text/plain": [
       "(array([  311.,  1137.,  1616.,  1120.,  1692.,  1406.,   999.,   433.,\n",
       "          100.,    26.]),\n",
       " array([ 0.11312858,  0.30748427,  0.50183995,  0.69619564,  0.89055133,\n",
       "         1.08490701,  1.2792627 ,  1.47361839,  1.66797407,  1.86232976,\n",
       "         2.05668545]),\n",
       " <a list of 10 Patch objects>)"
      ]
     },
     "execution_count": 13,
     "metadata": {},
     "output_type": "execute_result"
    },
    {
     "data": {
      "image/png": "[encoded data removed]",
      "text/plain": [
       "<matplotlib.figure.Figure at 0x7fcb9d106710>"
      ]
     },
     "metadata": {},
     "output_type": "display_data"
    }
   ],
   "source": [
    "v = C[0].flatten()\n",
    "plt.hist(v[v>0])"
   ]
  },
  {
   "cell_type": "code",
   "execution_count": 14,
   "metadata": {
    "collapsed": false
   },
   "outputs": [
    {
     "data": {
      "text/plain": [
       "<matplotlib.image.AxesImage at 0x7fcb898735d0>"
      ]
     },
     "execution_count": 14,
     "metadata": {},
     "output_type": "execute_result"
    },
    {
     "data": {
      "image/png": "[encoded data removed]",
      "text/plain": [
       "<matplotlib.figure.Figure at 0x7fcb9d106750>"
      ]
     },
     "metadata": {},
     "output_type": "display_data"
    }
   ],
   "source": [
    "m = C[0][0][:, None, :, :]\n",
    "fig = plt.figure(figsize=(10,10))\n",
    "plt.imshow(disp_grid(m, border=1, bordercolor=(0.3, 0, 0)))"
   ]
  },
  {
   "cell_type": "code",
   "execution_count": 9,
   "metadata": {
    "collapsed": false
   },
   "outputs": [
    {
     "ename": "NameError",
     "evalue": "name 'encode' is not defined",
     "output_type": "error",
     "traceback": [
      "\u001b[0;31m---------------------------------------------------------------------------\u001b[0m",
      "\u001b[0;31mNameError\u001b[0m                                 Traceback (most recent call last)",
      "\u001b[0;32m<ipython-input-9-6d4d40a4fbf5>\u001b[0m in \u001b[0;36m<module>\u001b[0;34m()\u001b[0m\n\u001b[0;32m----> 1\u001b[0;31m \u001b[0mC\u001b[0m \u001b[0;34m=\u001b[0m \u001b[0mlist\u001b[0m\u001b[0;34m(\u001b[0m\u001b[0mencode\u001b[0m\u001b[0;34m(\u001b[0m\u001b[0mX\u001b[0m\u001b[0;34m)\u001b[0m\u001b[0;34m)\u001b[0m\u001b[0;34m\u001b[0m\u001b[0m\n\u001b[0m\u001b[1;32m      2\u001b[0m \u001b[0mcc\u001b[0m \u001b[0;34m=\u001b[0m \u001b[0;34m[\u001b[0m\u001b[0;36m0\u001b[0m\u001b[0;34m,\u001b[0m\u001b[0;36m1\u001b[0m\u001b[0;34m]\u001b[0m\u001b[0;31m#include these\u001b[0m\u001b[0;34m\u001b[0m\u001b[0m\n\u001b[1;32m      3\u001b[0m \u001b[0;32mfor\u001b[0m \u001b[0mi\u001b[0m \u001b[0;32min\u001b[0m \u001b[0mset\u001b[0m\u001b[0;34m(\u001b[0m\u001b[0mrange\u001b[0m\u001b[0;34m(\u001b[0m\u001b[0mlen\u001b[0m\u001b[0;34m(\u001b[0m\u001b[0mC\u001b[0m\u001b[0;34m)\u001b[0m\u001b[0;34m)\u001b[0m\u001b[0;34m)\u001b[0m \u001b[0;34m-\u001b[0m \u001b[0mset\u001b[0m\u001b[0;34m(\u001b[0m\u001b[0mcc\u001b[0m\u001b[0;34m)\u001b[0m\u001b[0;34m:\u001b[0m\u001b[0;34m\u001b[0m\u001b[0m\n\u001b[1;32m      4\u001b[0m     \u001b[0mC\u001b[0m\u001b[0;34m[\u001b[0m\u001b[0mi\u001b[0m\u001b[0;34m]\u001b[0m\u001b[0;34m[\u001b[0m\u001b[0;34m:\u001b[0m\u001b[0;34m]\u001b[0m \u001b[0;34m=\u001b[0m \u001b[0;36m0\u001b[0m\u001b[0;34m\u001b[0m\u001b[0m\n\u001b[1;32m      5\u001b[0m \u001b[0;34m\u001b[0m\u001b[0m\n",
      "\u001b[0;31mNameError\u001b[0m: name 'encode' is not defined"
     ]
    }
   ],
   "source": [
    "C = list(encode(X))\n",
    "cc = [0,1]#include these\n",
    "for i in set(range(len(C))) - set(cc):\n",
    "    C[i][:] = 0\n",
    "    \n",
    "C_zeros = [np.zeros_like(c) for c in C]\n",
    "M = []#change these\n",
    "for i in M:\n",
    "    F = C[i].shape[1]\n",
    "    W = C[i].shape[2]\n",
    "    H = C[i].shape[3]\n",
    "    N = min(C[i].shape[0], F)\n",
    "    C[i][np.arange(N), \n",
    "         np.arange(N), \n",
    "         #np.random.randint(0, W, size=N), \n",
    "        #np.random.randint(0, H, size=N)\n",
    "         0,\n",
    "         0,\n",
    "    ] = 1\n",
    "\n",
    "fig = plt.figure(figsize=(20, 20))\n",
    "Xrec = decode(*C)\n",
    "X_rec_zero = decode(*C_zeros)\n",
    "\n",
    "res = Xrec #- X_rec_zero\n",
    "recons = dispims_color(res.transpose((0, 2, 3, 1)) * np.ones((1, 1, 1, 3)), border=1, bordercolor=(0.5,0.5,0.5))\n",
    "plt.imshow(recons)"
   ]
  },
  {
   "cell_type": "code",
   "execution_count": null,
   "metadata": {
    "collapsed": false
   },
   "outputs": [],
   "source": [
    "for i in range(len(C)):\n",
    "    print(C[i].shape)"
   ]
  },
  {
   "cell_type": "markdown",
   "metadata": {},
   "source": [
    "## viz features"
   ]
  },
  {
   "cell_type": "code",
   "execution_count": 10,
   "metadata": {
    "collapsed": false
   },
   "outputs": [
    {
     "data": {
      "image/png": "[encoded data removed]",
      "text/plain": [
       "<matplotlib.figure.Figure at 0x7fab7f5ccc90>"
      ]
     },
     "metadata": {},
     "output_type": "display_data"
    },
    {
     "name": "stdout",
     "output_type": "stream",
     "text": [
      "(16, 8, 3, 3)\n",
      "(128, 16, 3, 3)\n",
      "(128, 128, 3, 3)\n",
      "(8, 16, 3, 3)\n",
      "(128, 128, 3, 3)\n",
      "(16, 128, 3, 3)\n",
      "(8, 16, 3, 3)\n",
      "(16, 128, 3, 3)\n",
      "(8, 16, 3, 3)\n"
     ]
    },
    {
     "data": {
      "image/png": "[encoded data removed]",
      "text/plain": [
       "<matplotlib.figure.Figure at 0x7fabe1a3d450>"
      ]
     },
     "metadata": {},
     "output_type": "display_data"
    },
    {
     "data": {
      "image/png": "[encoded data removed]",
      "text/plain": [
       "<matplotlib.figure.Figure at 0x7fab800ec890>"
      ]
     },
     "metadata": {},
     "output_type": "display_data"
    },
    {
     "data": {
      "image/png": "[encoded data removed]",
      "text/plain": [
       "<matplotlib.figure.Figure at 0x7fab7efe18d0>"
      ]
     },
     "metadata": {},
     "output_type": "display_data"
    },
    {
     "data": {
      "image/png": "[encoded data removed]",
      "text/plain": [
       "<matplotlib.figure.Figure at 0x7fab7f01b910>"
      ]
     },
     "metadata": {},
     "output_type": "display_data"
    }
   ],
   "source": [
    "nbpixels = 28*28\n",
    "for name, layer in layers.items():\n",
    "    if hasattr(layer, \"W\"):\n",
    "        W = layer.W.get_value()\n",
    "        if len(W.shape)==2 and (W.shape[0] == nbpixels or W.shape[1] == nbpixels):\n",
    "            nbpixels = c*w*h\n",
    "            if W.shape[0] == nbpixels:\n",
    "                W = W.T\n",
    "            W = W.reshape((W.shape[0], c, w, h))\n",
    "            W = W.transpose((0, 2, 3, 1))\n",
    "            W = W * np.ones((1, 1, 1, 3))\n",
    "        elif len(W.shape) == 4 and W.shape[1] in (1, 3):\n",
    "            W = W.transpose((0, 2, 3, 1))\n",
    "            W = W * np.ones((1, 1, 1, 3))\n",
    "        elif len(W.shape) == 4 and W.shape[0] in (1, 3):\n",
    "            W = W.transpose((1, 2, 3, 0))\n",
    "            W = W * np.ones((1, 1, 1, 3))\n",
    "        else:\n",
    "            print(W.shape)\n",
    "            continue\n",
    "        fig = plt.figure(figsize=(10, 10))\n",
    "        plt.axis('off')\n",
    "        img = dispims_color(W, border=1)\n",
    "        plt.imshow(img, interpolation='none')\n",
    "        plt.show()"
   ]
  },
  {
   "cell_type": "markdown",
   "metadata": {},
   "source": [
    "## iterative refinement"
   ]
  },
  {
   "cell_type": "code",
   "execution_count": 43,
   "metadata": {
    "collapsed": false
   },
   "outputs": [],
   "source": [
    "from data import load_data\n",
    "c=1\n",
    "if c == 3:\n",
    "    external_data = load_data(dataset='lfw', w=w, h=h)\n",
    "    external_data = external_data.X\n",
    "    external_data = external_data.reshape((external_data.shape[0], c, w, h))\n",
    "    \n",
    "if c == 1:\n",
    "    from lasagnekit.datasets.rescaled import Rescaled\n",
    "    external_data = load_data(dataset='digits', w=w, h=h)\n",
    "    external_data = Rescaled(external_data, (w, h))\n",
    "    external_data.load()\n",
    "    external_data = external_data.X[0:100]\n",
    "    external_data = external_data.reshape((external_data.shape[0], c, w, h))\n",
    "    external_data = external_data.astype(np.float32)"
   ]
  },
  {
   "cell_type": "code",
   "execution_count": null,
   "metadata": {
    "collapsed": false
   },
   "outputs": [
    {
     "name": "stderr",
     "output_type": "stream",
     "text": [
      "  2%|▏         | 2/100 [00:05<04:49,  2.96s/it]"
     ]
    }
   ],
   "source": [
    "seed = 42\n",
    "np.random.seed(seed)\n",
    "c=1\n",
    "N = 100 # nb of examples to generate\n",
    "nb_iter = 100# nb iterations for generation\n",
    "\n",
    "do_sample = False\n",
    "do_binarize = True\n",
    "do_noise = False\n",
    "noise_pr = 0.1\n",
    "do_gaussian_noise = False\n",
    "gaussian_noise_std = 0.001\n",
    "thresh = 0.4\n",
    "\n",
    "init_by_external = True\n",
    "whitepx_ratio = 0.3\n",
    "if init_by_external:\n",
    "    s = floatX(external_data[0:N])\n",
    "else:\n",
    "    s = floatX(np.random.uniform(0, 1, size=(N, c, w, h)))\n",
    "\n",
    "samples = []\n",
    "samples.append(s.copy()[np.newaxis, :, :, :, :])\n",
    "\n",
    "nz = np.random.normal(0, gaussian_noise_std, size=s.shape).astype(np.float32)\n",
    "loss = []\n",
    "nz = np.random.normal(0, gaussian_noise_std, size=s.shape).astype(np.float32)\n",
    "for i in tqdm(range(nb_iter)):\n",
    "    sprev = s      \n",
    "    if do_noise:\n",
    "        s = (np.random.uniform(size=s.shape) <= (1 - noise_pr)) * s\n",
    "        s = s.astype(np.float32)\n",
    "    if do_gaussian_noise:\n",
    "        nz = np.random.normal(0, gaussian_noise_std, size=s.shape).astype(np.float32)\n",
    "        s += nz\n",
    "    s = (capsule.reconstruct(s))\n",
    "\n",
    "    if do_sample:\n",
    "        s = np.random.binomial(n=1, p=s, size=s.shape).astype('float32')# binarize by sampling\n",
    "    if do_binarize:\n",
    "        if thresh == 'moving':\n",
    "            vals = s.flatten()\n",
    "            vals = vals[np.argsort(vals)]\n",
    "            thresh_ = vals[-int(whitepx_ratio * len(vals)) - 1]\n",
    "        else:\n",
    "            thresh_ = thresh\n",
    "        s = s > thresh_\n",
    "    s = s.astype(np.float32)\n",
    "    samples.append(s.copy()[np.newaxis, :, :, :, :])\n",
    "\n",
    "    score = np.abs(s - sprev).sum()\n",
    "    if score == 0:\n",
    "        print('end')\n",
    "        break\n",
    "    #print(score)\n",
    "    loss.append(score)\n",
    "print(score)\n",
    "samples = np.concatenate(samples, axis=0) # all samples from all timesteps in an array"
   ]
  },
  {
   "cell_type": "code",
   "execution_count": 50,
   "metadata": {
    "collapsed": false
   },
   "outputs": [
    {
     "data": {
      "image/png": "[encoded data removed]",
      "text/plain": [
       "<IPython.core.display.Image object>"
      ]
     },
     "execution_count": 50,
     "metadata": {
      "image/png": {
       "height": 400,
       "width": 400
      }
     },
     "output_type": "execute_result"
    }
   ],
   "source": [
    "# show images generated at last iteration\n",
    "for s in (samples[-1],):\n",
    "    s = s * np.ones((1, 3, 1, 1))\n",
    "    s = s.transpose((0, 2, 3, 1))\n",
    "    img = dispims_color(s, border=2, bordercolor=(0.3, 0, 0), )\n",
    "    imsave('out.png', img)\n",
    "Image('out.png', width=400, height=400)"
   ]
  },
  {
   "cell_type": "code",
   "execution_count": 25,
   "metadata": {
    "collapsed": false,
    "scrolled": true
   },
   "outputs": [
    {
     "data": {
      "image/png": "[encoded data removed]",
      "text/plain": [
       "<IPython.core.display.Image object>"
      ]
     },
     "execution_count": 25,
     "metadata": {},
     "output_type": "execute_result"
    },
    {
     "data": {
      "text/plain": [
       "<matplotlib.figure.Figure at 0x7fab7f137890>"
      ]
     },
     "metadata": {},
     "output_type": "display_data"
    }
   ],
   "source": [
    "# sample samples and iterations\n",
    "fig = plt.figure(figsize=(20, 20))\n",
    "sw, sh = samples.shape[0:2]\n",
    "samples_ = samples.copy()\n",
    "samples_ = samples_.reshape((sw*sh, c, w, h))\n",
    "samples_ = samples_.transpose((0, 2, 3, 1))\n",
    "samples_ = samples_ * np.ones((1, 1, 1, 3))\n",
    "img = dispims_color(samples_, shape=(sw, sh), border=1, bordercolor=(0.3,0,0))\n",
    "imsave('out.png', img)\n",
    "Image('out.png')"
   ]
  },
  {
   "cell_type": "code",
   "execution_count": 42,
   "metadata": {
    "collapsed": false
   },
   "outputs": [
    {
     "name": "stdout",
     "output_type": "stream",
     "text": [
      "ffmpeg -framerate 10 -i img%08d.png -c:v libx264 -r 1 -pix_fmt yuv420p /home/mcherti/work/code/feature_generation/ipynb/out.mp4\n"
     ]
    },
    {
     "data": {
      "text/html": [
       "<video alt=\"test\" controls>\n",
       "                <source src=\"data:video/mp4;base64,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\" type=\"video/mp4\" />\n",
       "                </video>"
      ],
      "text/plain": [
       "<IPython.core.display.HTML object>"
      ]
     },
     "execution_count": 42,
     "metadata": {},
     "output_type": "execute_result"
    }
   ],
   "source": [
    "import os\n",
    "from scripts.imgtovideo import imgs_to_video\n",
    "from tools.brushstroke.common import embed_video\n",
    "imgs = []\n",
    "for s in samples:\n",
    "    img = dispims_color(s.transpose((0, 2, 3, 1)) * np.ones((1, 1, 1, 3)))\n",
    "    imgs.append(img)\n",
    "if os.path.exists('out.mp4'):\n",
    "    os.remove('out.mp4')\n",
    "imgs_to_video(imgs, out='out.mp4', verbose=10, framerate=10, rate=1)\n",
    "embed_video('out.mp4')"
   ]
  },
  {
   "cell_type": "markdown",
   "metadata": {},
   "source": [
    "## Video of the last row for brush stroke"
   ]
  },
  {
   "cell_type": "code",
   "execution_count": 43,
   "metadata": {
    "collapsed": false
   },
   "outputs": [
    {
     "data": {
      "text/plain": [
       "(10, 1, 28, 28)"
      ]
     },
     "execution_count": 43,
     "metadata": {},
     "output_type": "execute_result"
    }
   ],
   "source": [
    "samples[-2].shape"
   ]
  },
  {
   "cell_type": "code",
   "execution_count": 23,
   "metadata": {
    "collapsed": false
   },
   "outputs": [
    {
     "ename": "KeyError",
     "evalue": "'brush'",
     "output_type": "error",
     "traceback": [
      "\u001b[0;31m---------------------------------------------------------------------------\u001b[0m",
      "\u001b[0;31mKeyError\u001b[0m                                  Traceback (most recent call last)",
      "\u001b[0;32m<ipython-input-23-945ad5a2a7b6>\u001b[0m in \u001b[0;36m<module>\u001b[0;34m()\u001b[0m\n\u001b[1;32m      2\u001b[0m encode = theano.function(\n\u001b[1;32m      3\u001b[0m     \u001b[0;34m[\u001b[0m\u001b[0mX\u001b[0m\u001b[0;34m]\u001b[0m\u001b[0;34m,\u001b[0m\u001b[0;34m\u001b[0m\u001b[0m\n\u001b[0;32m----> 4\u001b[0;31m     \u001b[0mL\u001b[0m\u001b[0;34m.\u001b[0m\u001b[0mget_output\u001b[0m\u001b[0;34m(\u001b[0m\u001b[0mlayers\u001b[0m\u001b[0;34m[\u001b[0m\u001b[0;34m'brush'\u001b[0m\u001b[0;34m]\u001b[0m\u001b[0;34m,\u001b[0m \u001b[0mX\u001b[0m\u001b[0;34m)\u001b[0m\u001b[0;34m\u001b[0m\u001b[0m\n\u001b[0m\u001b[1;32m      5\u001b[0m )\n\u001b[1;32m      6\u001b[0m \u001b[0;34m\u001b[0m\u001b[0m\n",
      "\u001b[0;31mKeyError\u001b[0m: 'brush'"
     ]
    }
   ],
   "source": [
    "X = T.tensor4()\n",
    "encode = theano.function(\n",
    "    [X], \n",
    "    L.get_output(layers['brush'], X)\n",
    ")\n",
    "\n",
    "encode_coords = theano.function(\n",
    "    [X],\n",
    "    L.get_output(layers['coord'], X)\n",
    ")"
   ]
  },
  {
   "cell_type": "code",
   "execution_count": 24,
   "metadata": {
    "collapsed": false
   },
   "outputs": [
    {
     "ename": "KeyError",
     "evalue": "'bias'",
     "output_type": "error",
     "traceback": [
      "\u001b[0;31m---------------------------------------------------------------------------\u001b[0m",
      "\u001b[0;31mKeyError\u001b[0m                                  Traceback (most recent call last)",
      "\u001b[0;32m<ipython-input-24-abeaa22f95d1>\u001b[0m in \u001b[0;36m<module>\u001b[0;34m()\u001b[0m\n\u001b[0;32m----> 1\u001b[0;31m \u001b[0mbias\u001b[0m \u001b[0;34m=\u001b[0m \u001b[0mlayers\u001b[0m\u001b[0;34m[\u001b[0m\u001b[0;34m'bias'\u001b[0m\u001b[0;34m]\u001b[0m\u001b[0;34m.\u001b[0m\u001b[0mb\u001b[0m\u001b[0;34m.\u001b[0m\u001b[0mget_value\u001b[0m\u001b[0;34m(\u001b[0m\u001b[0;34m)\u001b[0m\u001b[0;34m\u001b[0m\u001b[0m\n\u001b[0m",
      "\u001b[0;31mKeyError\u001b[0m: 'bias'"
     ]
    }
   ],
   "source": [
    "bias = layers['bias'].b.get_value()"
   ]
  },
  {
   "cell_type": "code",
   "execution_count": 25,
   "metadata": {
    "collapsed": false
   },
   "outputs": [
    {
     "ename": "NameError",
     "evalue": "name 'encode' is not defined",
     "output_type": "error",
     "traceback": [
      "\u001b[0;31m---------------------------------------------------------------------------\u001b[0m",
      "\u001b[0;31mNameError\u001b[0m                                 Traceback (most recent call last)",
      "\u001b[0;32m<ipython-input-25-dae0e5d08295>\u001b[0m in \u001b[0;36m<module>\u001b[0;34m()\u001b[0m\n\u001b[1;32m      5\u001b[0m \u001b[0;34m\u001b[0m\u001b[0m\n\u001b[1;32m      6\u001b[0m \u001b[0;34m\u001b[0m\u001b[0m\n\u001b[0;32m----> 7\u001b[0;31m \u001b[0my\u001b[0m \u001b[0;34m=\u001b[0m \u001b[0mencode\u001b[0m\u001b[0;34m(\u001b[0m\u001b[0mX\u001b[0m\u001b[0;34m)\u001b[0m\u001b[0;34m\u001b[0m\u001b[0m\n\u001b[0m\u001b[1;32m      8\u001b[0m \u001b[0;34m\u001b[0m\u001b[0m\n\u001b[1;32m      9\u001b[0m \u001b[0mimgs\u001b[0m \u001b[0;34m=\u001b[0m \u001b[0;34m[\u001b[0m\u001b[0;34m]\u001b[0m\u001b[0;34m\u001b[0m\u001b[0m\n",
      "\u001b[0;31mNameError\u001b[0m: name 'encode' is not defined"
     ]
    }
   ],
   "source": [
    "X = capsule.preprocess(samples[-2][0:16*16])\n",
    "xx = X.copy()\n",
    "xx = xx.transpose((0, 2, 3, 1)) * np.ones((1, 1, 1, 3))\n",
    "source = dispims_color(xx, border=0)\n",
    "\n",
    "    \n",
    "y = encode(X)\n",
    "\n",
    "imgs = []\n",
    "for t in range(y.shape[1]):\n",
    "    yy = y[:, t]\n",
    "    yy = yy[:, :, :, None] * np.ones((1, 1, 1, 3))\n",
    "    yy = sigmoid(yy+bias) > 0.5\n",
    "    yy = yy.astype(np.float32)\n",
    "    img = dispims_color(yy, border=0) \n",
    "    plt.imshow(img)\n",
    "    imgs.append(img)\n",
    "\n",
    "seq_imgs = imgs"
   ]
  },
  {
   "cell_type": "code",
   "execution_count": null,
   "metadata": {
    "collapsed": true
   },
   "outputs": [],
   "source": [
    "imgs = [np.zeros_like(imgs[0])] + imgs\n",
    "img_aggreg = np.zeros((img.shape[0], img.shape[1]*2, 3))\n",
    "img_aggreg[0:source.shape[0], 0:source.shape[1]] = source\n",
    "img_aggreg[:, source.shape[1]:source.shape[1]+img.shape[1]] = img\n",
    "imsave('out.png', img_aggreg)"
   ]
  },
  {
   "cell_type": "code",
   "execution_count": null,
   "metadata": {
    "collapsed": false
   },
   "outputs": [],
   "source": [
    "import os\n",
    "if os.path.exists('out.mp4'):\n",
    "    os.remove('out.mp4')\n",
    "imgs_to_video(imgs, out='out.mp4', verbose=1, framerate=8, rate=8)"
   ]
  },
  {
   "cell_type": "markdown",
   "metadata": {},
   "source": [
    "## project into feature space"
   ]
  },
  {
   "cell_type": "code",
   "execution_count": null,
   "metadata": {
    "collapsed": false
   },
   "outputs": [],
   "source": [
    "hid = []\n",
    "d = []\n",
    "for i in range(10):\n",
    "    X = data.X\n",
    "    data.load()\n",
    "    d.append(capsule.preprocess(X).transpose((0, 2 ,3 , 1))  * np.ones((1, 1, 1, 3)))\n",
    "    C = encode(capsule.preprocess(X))\n",
    "    if type(C) == list:\n",
    "        C = [c.reshape(c.shape[0], -1) for c in C]\n",
    "        #C = C[-1]\n",
    "        C = np.concatenate(C, axis=1)        \n",
    "    hid.append(C)\n",
    "d = np.concatenate(d, axis=0)\n",
    "hid = np.concatenate(hid, axis=0)\n",
    "hid = hid.reshape((hid.shape[0], -1))\n",
    "print(hid.shape)"
   ]
  },
  {
   "cell_type": "code",
   "execution_count": null,
   "metadata": {
    "collapsed": false
   },
   "outputs": [],
   "source": [
    "#mf = PCA(n_components=2)\n",
    "mf = TSNE(n_components=2)\n",
    "h2d = mf.fit_transform(hid)"
   ]
  },
  {
   "cell_type": "code",
   "execution_count": null,
   "metadata": {
    "collapsed": false
   },
   "outputs": [],
   "source": [
    "#mf = PCA(n_components=2)\n",
    "mf = TSNE(n_components=2)\n",
    "d2d = mf.fit_transform(d.reshape(d.shape[0], -1))"
   ]
  },
  {
   "cell_type": "code",
   "execution_count": null,
   "metadata": {
    "collapsed": false
   },
   "outputs": [],
   "source": [
    "from tools.viz.image_scatter import image_scatter\n",
    "img = image_scatter(h2d, d, 20)\n",
    "imsave('out_scatter.png', img)\n",
    "Image('out_scatter.png')"
   ]
  },
  {
   "cell_type": "code",
   "execution_count": null,
   "metadata": {
    "collapsed": false
   },
   "outputs": [],
   "source": [
    "img = image_scatter(d2d, d, 20)\n",
    "imsave('out_scatter_data.png', img)\n",
    "Image('out_scatter_data.png')"
   ]
  },
  {
   "cell_type": "markdown",
   "metadata": {},
   "source": [
    "## transferability"
   ]
  },
  {
   "cell_type": "code",
   "execution_count": null,
   "metadata": {
    "collapsed": false
   },
   "outputs": [],
   "source": [
    "X_transf_orig = external_data[0:100].copy()\n",
    "\n",
    "\n",
    "im = X_transf_orig.copy().astype(np.float32)\n",
    "imgs = []\n",
    "for i in tqdm(range(100)):\n",
    "    im = im + (capsule.reconstruct(im) - im)\n",
    "    imgs.append(im.copy())\n",
    "    \n",
    "from scripts import imgtovideo\n",
    "x = []\n",
    "for img in imgs:\n",
    "    img = img * np.ones((1, 3, 1, 1))\n",
    "    img = img.transpose((0, 2, 3, 1))\n",
    "    x.append(dispims_color(img))"
   ]
  },
  {
   "cell_type": "code",
   "execution_count": null,
   "metadata": {
    "collapsed": false
   },
   "outputs": [],
   "source": [
    "!rm out.mp4\n",
    "imgs_to_video(x, out='out.mp4', verbose=1)"
   ]
  },
  {
   "cell_type": "code",
   "execution_count": null,
   "metadata": {
    "collapsed": false
   },
   "outputs": [],
   "source": [
    "embed_video('out.mp4')"
   ]
  },
  {
   "cell_type": "markdown",
   "metadata": {},
   "source": [
    "## forced generation"
   ]
  },
  {
   "cell_type": "code",
   "execution_count": null,
   "metadata": {
    "collapsed": false,
    "scrolled": true
   },
   "outputs": [],
   "source": [
    "gen, discr = load_gan_model('/home/mcherti/work/code/lasagne-dcgan/fonts.pkl')"
   ]
  },
  {
   "cell_type": "markdown",
   "metadata": {},
   "source": [
    "## rnn"
   ]
  },
  {
   "cell_type": "code",
   "execution_count": null,
   "metadata": {
    "collapsed": false
   },
   "outputs": [],
   "source": [
    "X = T.tensor4()\n",
    "Xinit = X\n",
    "nb_steps = 4\n",
    "for i in range(nb_steps):\n",
    "    X = L.get_output(layers['output'], X)\n",
    "score = L.get_output(discr, X)\n",
    "loss = (score).mean()\n",
    "grad = theano.grad(loss, Xinit)\n",
    "get_grad = theano.function([Xinit], grad)\n",
    "get_loss = theano.function([Xinit], loss)\n",
    "get_gen = theano.function([Xinit], X)"
   ]
  },
  {
   "cell_type": "code",
   "execution_count": null,
   "metadata": {
    "collapsed": true
   },
   "outputs": [],
   "source": [
    "import scipy\n",
    "def eval_loss(x0):\n",
    "    x0 = x0.reshape((nb, c, w, h))\n",
    "    return -get_loss(x0.astype(np.float32)).astype('float64')\n",
    "\n",
    "def eval_grad(x0):\n",
    "    x0 = x0.reshape((nb, c, w, h))\n",
    "    return get_grad(x0.astype(np.float32)).flatten().astype('float64')"
   ]
  },
  {
   "cell_type": "code",
   "execution_count": null,
   "metadata": {
    "collapsed": false
   },
   "outputs": [],
   "source": [
    "nb = 100\n",
    "x = np.random.uniform(size=(nb, c, w, h))\n",
    "x = x.astype(np.float32)\n",
    "for i in range(40):\n",
    "    #x, _, _ = scipy.optimize.fmin_l_bfgs_b(eval_loss, x.flatten(), fprime=eval_grad, maxfun=1)\n",
    "    #x = x.reshape((nb, c, w, h)).astype(np.float32)\n",
    "    x += 0.1 * get_grad(x)\n",
    "    print(get_loss(x))"
   ]
  },
  {
   "cell_type": "code",
   "execution_count": null,
   "metadata": {
    "collapsed": false
   },
   "outputs": [],
   "source": [
    "img = get_gen(x) * np.ones((1, 3, 1, 1))\n",
    "img = img.transpose((0, 2, 3, 1))\n",
    "fig = plt.figure(figsize=(10, 10))\n",
    "img = dispims_color(img, border=1, bordercolor=(10, 10, 10))\n",
    "plt.imshow(img)"
   ]
  },
  {
   "cell_type": "code",
   "execution_count": null,
   "metadata": {
    "collapsed": false
   },
   "outputs": [],
   "source": [
    "from datakit.mnist import MNIST\n",
    "data = MNIST('train')\n",
    "data.load()\n",
    "X_train = data.X.reshape((data.X.shape[0], 1, 28, 28))\n",
    "y_train = data.y\n",
    "def transform(X):\n",
    "    h = []\n",
    "    for i in range(0, X.shape[0], 128):\n",
    "        C = encode(X[i:i + 128])\n",
    "        hh = np.concatenate([cc.max(axis=(2, 3)).reshape((cc.shape[0], -1)) for cc in C], axis=1)      \n",
    "        h.append(hh)\n",
    "    h = np.concatenate(h, axis=0)\n",
    "    return h\n",
    "\n",
    "X_train = transform(X_train)\n",
    "\n",
    "data = MNIST('test')\n",
    "data.load()\n",
    "X_test = data.X.reshape((data.X.shape[0], 1, 28, 28))\n",
    "X_test = transform(X_test)\n",
    "y_test = data.y"
   ]
  },
  {
   "cell_type": "code",
   "execution_count": null,
   "metadata": {
    "collapsed": true
   },
   "outputs": [],
   "source": [
    "Xrec = capsule.reconstruct(data.)"
   ]
  },
  {
   "cell_type": "markdown",
   "metadata": {},
   "source": [
    "## VAE"
   ]
  },
  {
   "cell_type": "code",
   "execution_count": null,
   "metadata": {
    "collapsed": false
   },
   "outputs": [],
   "source": [
    "Z = T.matrix()\n",
    "X = T.tensor4()\n",
    "sample = theano.function([Z], L.get_output(layers['output'], {layers['z_sample']: Z}))\n",
    "\n",
    "pred_z = theano.function([X], L.get_output(layers['z_mu'], X))\n",
    "\n",
    "z_size = layers['z_sample'].output_shape[1]"
   ]
  },
  {
   "cell_type": "code",
   "execution_count": null,
   "metadata": {
    "collapsed": false
   },
   "outputs": [],
   "source": [
    "x = data.X[0:5000]\n",
    "z = pred_z(capsule.preprocess(x))\n",
    "fig = plt.figure(figsize=(20, 10))\n",
    "cmap = plt.get_cmap('jet', 10)\n",
    "cmap.set_under('gray')\n",
    "r_inp = np.random.uniform(size=(100, w*h*c)).astype(np.float32)\n",
    "r = pred_z(capsule.preprocess(r_inp))\n",
    "plt.scatter(z[:, 0], z[:, 1])"
   ]
  },
  {
   "cell_type": "code",
   "execution_count": null,
   "metadata": {
    "collapsed": false
   },
   "outputs": [],
   "source": [
    "nb = 121\n",
    "if z_size == 2:\n",
    "    x = np.linspace(-1, 1, np.sqrt(nb))\n",
    "    y = np.linspace(-1, 1, np.sqrt(nb))\n",
    "    x, y = np.meshgrid(x, y)\n",
    "    x = x.flatten()\n",
    "    y = y.flatten()\n",
    "    z_samples = np.vstack((x, y)).T\n",
    "else:\n",
    "    #z_samples = np.random.normal(0, 1, size=(nb, z_size))\n",
    "    #z_samples[:, :]=0\n",
    "    z_samples[:, 10]=np.linspace(-8, 8, len(z_samples))\n",
    "z_samples = z_samples.astype(np.float32)\n",
    "x_samples = sample(z_samples)\n",
    "\n",
    "x_samples = x_samples.transpose((0, 2, 3, 1)) * np.ones((1, 1, 1, 3))\n",
    "fig = plt.figure(figsize=(10, 10))\n",
    "img = dispims_color(x_samples)\n",
    "plt.imshow(img)"
   ]
  },
  {
   "cell_type": "code",
   "execution_count": null,
   "metadata": {
    "collapsed": false
   },
   "outputs": [],
   "source": [
    "imsave('out.png', img)\n",
    "Image('out.png')"
   ]
  },
  {
   "cell_type": "markdown",
   "metadata": {},
   "source": [
    "### GAN"
   ]
  },
  {
   "cell_type": "code",
   "execution_count": null,
   "metadata": {
    "collapsed": true
   },
   "outputs": [],
   "source": [
    "from skimage.transform import resize\n",
    "import theano"
   ]
  },
  {
   "cell_type": "code",
   "execution_count": null,
   "metadata": {
    "collapsed": false
   },
   "outputs": [],
   "source": [
    "gen, discr = load_gan_model('../tools/mnist.pkl')"
   ]
  },
  {
   "cell_type": "code",
   "execution_count": null,
   "metadata": {
    "collapsed": true
   },
   "outputs": [],
   "source": [
    "X = T.tensor4()\n",
    "discr_fn = theano.function([X], L.get_output(discr, X))\n",
    "\n",
    "Z = T.matrix()\n",
    "gen_fn = theano.function([Z], L.get_output(gen, Z))"
   ]
  },
  {
   "cell_type": "code",
   "execution_count": null,
   "metadata": {
    "collapsed": false
   },
   "outputs": [],
   "source": [
    "z_grad_fn = theano.function([X, Z], theano.grad( ((L.get_output(gen, Z)-X)**2).mean()  , Z))"
   ]
  },
  {
   "cell_type": "code",
   "execution_count": null,
   "metadata": {
    "collapsed": false
   },
   "outputs": [],
   "source": [
    "x_grad_n = theano.function([X], theano.grad(L.get_output(discr, X).mean(), X))"
   ]
  },
  {
   "cell_type": "code",
   "execution_count": null,
   "metadata": {
    "collapsed": true
   },
   "outputs": [],
   "source": [
    "def resize_set(x, w, h, **kw):\n",
    "    x_out = np.empty((x.shape[0], 1, w, h))\n",
    "    for i in range(len(x)):\n",
    "        x_out[i, 0] = resize(x[i, 0], (w, h), **kw)\n",
    "    return x_out.astype(np.float32)"
   ]
  },
  {
   "cell_type": "code",
   "execution_count": null,
   "metadata": {
    "collapsed": false
   },
   "outputs": [],
   "source": [
    "print(gen.output_shape)"
   ]
  },
  {
   "cell_type": "code",
   "execution_count": null,
   "metadata": {
    "collapsed": false
   },
   "outputs": [],
   "source": [
    "x = np.random.uniform(size=(9, 1, 28, 28)).astype(np.float32)\n",
    "Z_of_X = np.random.uniform(-1, 1, size=(x.shape[0], 100)).astype(np.float32)\n",
    "\n",
    "\n",
    "for i in range(20):\n",
    "    #x += np.random.normal(0, 0.5, size=x.shape)\n",
    "    x = capsule.reconstruct(x)\n",
    "    x = x.astype(np.float32)\n",
    "    x = resize_set(x, 32, 32)\n",
    "    if True:\n",
    "        z_rec = np.random.uniform(-1, 1, size=(x.shape[0], 100)).astype(np.float32)\n",
    "        for _ in range(10):\n",
    "            g = z_grad_fn(x, z_rec)\n",
    "            z_rec -= 0.001*g\n",
    "        \n",
    "        gen = gen_fn(z_rec)\n",
    "        gen =- gen.min(axis=0, keepdims=True)\n",
    "        gen /= gen.max(axis=0, keepdims=True)\n",
    "        x = x + (x - gen)\n",
    "    if False:\n",
    "        for _ in range(30):\n",
    "            g = x_grad_n(x)\n",
    "            x += 0.001*g\n",
    "    x -= x.min(axis=(1, 2, 3), keepdims=True)\n",
    "    x /= x.max(axis=(1, 2, 3), keepdims=True) \n",
    "\n",
    "    #x -= x.min(axis=0, keepdims=True)\n",
    "    #x /= x.max(axis=0, keepdims=True) \n",
    "\n",
    "    x = resize_set(x, 28, 28, preserve_range=True)\n",
    "    \n",
    "    #x = x > 0.3\n",
    "    x = x.astype(np.float32)\n",
    "\n",
    "#x = resize_set(x, 32, 32)\n",
    "print((discr_fn(x)).flatten().mean())"
   ]
  },
  {
   "cell_type": "code",
   "execution_count": null,
   "metadata": {
    "collapsed": false
   },
   "outputs": [],
   "source": [
    "img =  dispims_color(x.transpose((0, 2, 3, 1)) * np.ones((1, 1, 1, 3)))\n",
    "imsave('out.png', img)\n",
    "Image('out.png')"
   ]
  },
  {
   "cell_type": "markdown",
   "metadata": {},
   "source": [
    "## fine tuning"
   ]
  },
  {
   "cell_type": "code",
   "execution_count": null,
   "metadata": {
    "collapsed": true
   },
   "outputs": [],
   "source": [
    "from lasagnekit.datasets.mnist import MNIST\n",
    "data_train = MNIST(which='train')\n",
    "data_train.load()\n",
    "data_test = MNIST(which='test')\n",
    "data_test.load()"
   ]
  },
  {
   "cell_type": "code",
   "execution_count": null,
   "metadata": {
    "collapsed": false
   },
   "outputs": [],
   "source": [
    "def preprocess_feats(f):\n",
    "    f = map(lambda f_i:f_i.reshape((f_i.shape[0], -1)), f)\n",
    "    f = np.concatenate(f, axis=1)\n",
    "    return f\n",
    "train_feats = list(get_feats(capsule.preprocess(data_train.X)))\n",
    "train_feats.append(data_train.X)\n",
    "train_feats = preprocess_feats(train_feats)\n",
    "test_feats = list(get_feats(capsule.preprocess(data_test.X)))\n",
    "test_feats.append(data_test.X)\n",
    "test_feats = preprocess_feats(test_feats)"
   ]
  },
  {
   "cell_type": "code",
   "execution_count": null,
   "metadata": {
    "collapsed": false
   },
   "outputs": [],
   "source": [
    "from sklearn.ensemble import RandomForestClassifier\n",
    "from sklearn.linear_model import LogisticRegression\n",
    "from sklearn.decomposition import PCA\n",
    "from sklearn.pipeline import make_pipeline\n",
    "clf = make_pipeline(PCA(n_components=1000), LogisticRegression())\n",
    "#clf = LogisticRegression()\n",
    "clf.fit(train_feats, data_train.y)"
   ]
  },
  {
   "cell_type": "code",
   "execution_count": null,
   "metadata": {
    "collapsed": false
   },
   "outputs": [],
   "source": [
    "(clf.predict(train_feats)==data_train.y).mean()"
   ]
  },
  {
   "cell_type": "code",
   "execution_count": null,
   "metadata": {
    "collapsed": false
   },
   "outputs": [],
   "source": [
    "(clf.predict(test_feats) == data_test.y).mean()"
   ]
  }
 ],
 "metadata": {
  "kernelspec": {
   "display_name": "Python 2",
   "language": "python",
   "name": "python2"
  },
  "language_info": {
   "codemirror_mode": {
    "name": "ipython",
    "version": 2
   },
   "file_extension": ".py",
   "mimetype": "text/x-python",
   "name": "python",
   "nbconvert_exporter": "python",
   "pygments_lexer": "ipython2",
   "version": "2.7.12"
  }
 },
 "nbformat": 4,
 "nbformat_minor": 0
}
