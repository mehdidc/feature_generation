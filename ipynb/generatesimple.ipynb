{
 "cells": [
  {
   "cell_type": "code",
   "execution_count": null,
   "metadata": {
    "collapsed": false
   },
   "outputs": [],
   "source": [
    "import os\n",
    "import sys\n",
    "os.environ[\"THEANO_FLAGS\"] = \"device=cpu\"\n",
    "sys.path.append(os.getcwd()+\"/..\")\n",
    "import lasagne\n",
    "import theano.tensor as T\n",
    "import theano\n",
    "from tasks import check\n",
    "from scripts import manifold"
   ]
  },
  {
   "cell_type": "code",
   "execution_count": null,
   "metadata": {
    "collapsed": false
   },
   "outputs": [],
   "source": [
    "v = check(what=\"notebook\", \n",
    "          #filename=\"..//model.pkl\", \n",
    "          filename=\"../training//model.pkl\",\n",
    "          dataset='flaticon',\n",
    "          params=dict(mode='batch'),\n",
    "          force_w=64,\n",
    "          force_h=64)\n",
    "          #dataset=\"fonts\",\n",
    "          #force_w=28,\n",
    "          #force_h=28)"
   ]
  },
  {
   "cell_type": "code",
   "execution_count": null,
   "metadata": {
    "collapsed": false
   },
   "outputs": [],
   "source": [
    "capsule, data, layers, w, h, c = v\n",
    "print(w, h, c)\n",
    "print(layers.keys())"
   ]
  },
  {
   "cell_type": "code",
   "execution_count": null,
   "metadata": {
    "collapsed": false
   },
   "outputs": [],
   "source": [
    "print(layers['input'].shape)"
   ]
  },
  {
   "cell_type": "code",
   "execution_count": null,
   "metadata": {
    "collapsed": false
   },
   "outputs": [],
   "source": [
    "%matplotlib inline\n",
    "import matplotlib.pyplot as plt\n",
    "from lasagnekit.misc.plot_weights import tile_raster_images\n",
    "import numpy as np\n",
    "for name, layer in layers.items():\n",
    "    #print(name, layer.output_shape)\n",
    "    #if hasattr(layer, \"W\"):\n",
    "    #    print(layer.W.get_value().shape)\n",
    "    if hasattr(layer, \"W\"):\n",
    "        W = layer.W.get_value()\n",
    "        if len(W.shape)==2:\n",
    "            nbpixels = c*w*h\n",
    "            if W.shape[0] == nbpixels:\n",
    "                W = W.T\n",
    "            a, b = w, h\n",
    "        else:\n",
    "            W = W.reshape((W.shape[0]*W.shape[1], W.shape[2], W.shape[3]))\n",
    "            a, b = W.shape[1:]\n",
    "        fig = plt.figure(figsize=(10, 10))\n",
    "        s = int(np.sqrt(W.shape[0]))\n",
    "        plt.axis('off')\n",
    "        img=tile_raster_images(W, (a, b), (s, s))\n",
    "        plt.imshow(img, cmap=\"gray\", interpolation='none')\n",
    "        plt.show()"
   ]
  },
  {
   "cell_type": "code",
   "execution_count": null,
   "metadata": {
    "collapsed": false
   },
   "outputs": [],
   "source": [
    "hid_nonlinearity = 'sigmoid'\n",
    "out_nonlinearity = 'sigmoid'\n",
    "\n",
    "def get_deriv(func, x, direct=False):\n",
    "    if func == 'sigmoid':\n",
    "        if direct:\n",
    "            x_ = x\n",
    "        else:\n",
    "            x_ = T.nnet.sigmoid(x)\n",
    "        return x_ * (1 - x_)\n",
    "    elif func == 'tanh':\n",
    "        if direct:\n",
    "            x_  = x\n",
    "        else:\n",
    "            x_ = T.tanh(x)\n",
    "        return 1 - x_ **2"
   ]
  },
  {
   "cell_type": "code",
   "execution_count": null,
   "metadata": {
    "collapsed": false
   },
   "outputs": [],
   "source": [
    "X = T.tensor4()\n",
    "\n",
    "Xrec = lasagne.layers.get_output(layers['output'], X)\n",
    "Xrec = Xrec.reshape((Xrec.shape[0], -1))\n",
    "\n",
    "xflat = X.reshape((X.shape[0], -1))\n",
    "W = layers['hid'].W#p, h\n",
    "R = layers['pre_output'].W#h, p\n",
    "\n",
    "print(layers['pre_output'].W.get_value().shape)\n",
    "A = get_deriv(hid_nonlinearity, xflat) #n, p (derivative of activation function)\n",
    "J = T.tensordot(R[None, :, :] * A[:, None, :], W, axes=([1], [1]))\n",
    "J = J * get_deriv(out_nonlinearity, Xrec, direct=True)[:, :, None]\n",
    "#symmetricity mesure (see : http://arxiv.org/pdf/1506.07643v3.pdf)\n",
    "def norm(a):\n",
    "    if a.ndim == 3:\n",
    "        axes = (1, 2)\n",
    "    else:\n",
    "        axes = tuple(range(a.ndim))\n",
    "    return (a ** 2).sum(axis=axes)\n",
    "def symmetricity(J):\n",
    "    if J.ndim == 3:\n",
    "        J_t = J.transpose((0, 2, 1))\n",
    "    else:\n",
    "        J_t = J.T\n",
    "    return norm(0.5 * (J + J_t))/ norm(J)\n",
    "\n",
    "#J = theano.gradient.jacobian(Xrec, X)\n",
    "J = symmetricity(J)\n",
    "J = J.reshape((J.shape[0],))\n",
    "get_jacobian = theano.function([X], J)"
   ]
  },
  {
   "cell_type": "code",
   "execution_count": null,
   "metadata": {
    "collapsed": false
   },
   "outputs": [],
   "source": [
    "X = T.vector()\n",
    "Xrec = lasagne.layers.get_output(layers['output'], X.reshape((1, c, w, h)))\n",
    "Xrec = Xrec.flatten()\n",
    "J = theano.gradient.jacobian(Xrec, X)\n",
    "J = symmetricity(J)\n",
    "get_jacobian = theano.function([X], J)"
   ]
  },
  {
   "cell_type": "code",
   "execution_count": null,
   "metadata": {
    "collapsed": false
   },
   "outputs": [],
   "source": [
    "m = np.dot(layers['pre_output'].W.get_value().T, layers['hid'].W.get_value().T)\n",
    "print(symmetricity(m))"
   ]
  },
  {
   "cell_type": "code",
   "execution_count": null,
   "metadata": {
    "collapsed": true
   },
   "outputs": [],
   "source": [
    "from helpers import salt_and_pepper\n",
    "def sample(x):\n",
    "    return (np.random.uniform(size=x.shape) <= x).astype(np.float32)"
   ]
  },
  {
   "cell_type": "code",
   "execution_count": null,
   "metadata": {
    "collapsed": false
   },
   "outputs": [],
   "source": [
    "import numpy as np\n",
    "seed = 42\n",
    "#seed = np.random.randint(0, 99999)\n",
    "#np.random.seed(seed)\n",
    "jac = []\n",
    "N = 10\n",
    "s = np.random.uniform(size=(N, c, w, h))\n",
    "s = s.astype(np.float32)\n",
    "samples = []\n",
    "\n",
    "samples.append(s.copy()[None, :, :, :, :])\n",
    "\n",
    "#idx = np.random.randint(0, data.X.shape[0])\n",
    "#s = data.X[idx:idx + 1].reshape((1, c, w, h))\n",
    "\n",
    "print(s.shape)\n",
    "nb_iter = 400\n",
    "loss = []\n",
    "for i in range(nb_iter - 1):\n",
    "    sprev = s    \n",
    "    #s = capsule.reconstruct(salt_and_pepper(s, corruption_level=0.3, backend='numpy'))\n",
    "    s = capsule.reconstruct(s)\n",
    "    s = s.astype(np.float32)\n",
    "    samples.append(s.copy()[None, :, :, :, :])\n",
    "    #samples = s.copy()\n",
    "    #s = np.random.binomial(n=1, p=s, size=s.shape).astype('float32')# binarize by sampling\n",
    "    #s = s > 0.5\n",
    "    #s = sample(s)\n",
    "    #j = get_jacobian(s.flatten())\n",
    "    #jac.append(j)\n",
    "    #print(j.mean())\n",
    "    score = np.abs(s - sprev).sum()\n",
    "    print(score)\n",
    "    loss.append(score)\n",
    "    #if score == 0:\n",
    "    #    break\n",
    "samples = np.concatenate(samples, axis=0)\n",
    "print(samples.shape)\n",
    "#samples = samples.transpose((1, 0, 2, 3, 4))\n",
    "#print(samples.shape)\n",
    "#samples = s\n",
    "#print(samples.shape)"
   ]
  },
  {
   "cell_type": "code",
   "execution_count": null,
   "metadata": {
    "collapsed": false
   },
   "outputs": [],
   "source": [
    "print(samples.shape)"
   ]
  },
  {
   "cell_type": "code",
   "execution_count": null,
   "metadata": {
    "collapsed": false,
    "scrolled": true
   },
   "outputs": [],
   "source": [
    "from lasagnekit.misc.plot_weights import dispims_color, tile_raster_images\n",
    "%matplotlib inline\n",
    "import matplotlib.pyplot as plt\n",
    "from skimage.io import imsave\n",
    "#plt.plot(loss)\n",
    "print(\"Nb of iterations\", len(loss))\n",
    "fig = plt.figure(figsize=(20, 20))\n",
    "\n",
    "sw, sh = samples.shape[0:2]\n",
    "samples_ = samples.reshape((sw*sh, c, w, h))\n",
    "print(samples_.shape)\n",
    "if samples_.shape[1] == 1:\n",
    "    img = tile_raster_images(samples_[:, 0], (w, h), (sw, sh), tile_spacing=(2, 2), )\n",
    "    imsave('out.png', img)\n",
    "    #plt.imshow(img, cmap=\"gray\", interpolation='none')\n",
    "    #plt.axis('off')\n",
    "    #plt.show()\n",
    "else:\n",
    "    ss = s.transpose((0, 2, 3, 1))\n",
    "    img = dispims_color(ss)\n",
    "    plt.imshow(img)\n",
    "    plt.axis('off')\n",
    "    plt.show()"
   ]
  }
 ],
 "metadata": {
  "kernelspec": {
   "display_name": "Python 2",
   "language": "python",
   "name": "python2"
  },
  "language_info": {
   "codemirror_mode": {
    "name": "ipython",
    "version": 2
   },
   "file_extension": ".py",
   "mimetype": "text/x-python",
   "name": "python",
   "nbconvert_exporter": "python",
   "pygments_lexer": "ipython2",
   "version": "2.7.11"
  }
 },
 "nbformat": 4,
 "nbformat_minor": 0
}
