{
 "cells": [
  {
   "cell_type": "code",
   "execution_count": 1,
   "metadata": {
    "collapsed": false
   },
   "outputs": [
    {
     "name": "stderr",
     "output_type": "stream",
     "text": [
      "Using gpu device 0: Tesla K20Xm (CNMeM is disabled, CuDNN 3007)\n",
      "/home/mcherti/work/code/scikit-learn/sklearn/cross_validation.py:42: DeprecationWarning: This module has been deprecated in favor of the model_selection module into which all the refactored classes and functions are moved. Also note that the interface of the new CV iterators are different from that of this module. This module will be removed in 0.19.\n",
      "  \"This module will be removed in 0.19.\", DeprecationWarning)\n"
     ]
    },
    {
     "name": "stdout",
     "output_type": "stream",
     "text": [
      "Couldn't import dot_parser, loading of dot files will not be possible.\n"
     ]
    }
   ],
   "source": [
    "import os\n",
    "import sys\n",
    "os.environ[\"THEANO_FLAGS\"] = \"device=gpu\"\n",
    "sys.path.append(os.getcwd()+\"/..\")\n",
    "from tasks import check"
   ]
  },
  {
   "cell_type": "code",
   "execution_count": 2,
   "metadata": {
    "collapsed": false
   },
   "outputs": [
    {
     "name": "stdout",
     "output_type": "stream",
     "text": [
      "Loading data...\n"
     ]
    },
    {
     "name": "stderr",
     "output_type": "stream",
     "text": [
      "INFO:tasks:Loading data...\n"
     ]
    },
    {
     "name": "stdout",
     "output_type": "stream",
     "text": [
      "Loading the model...\n"
     ]
    },
    {
     "name": "stderr",
     "output_type": "stream",
     "text": [
      "INFO:tasks:Loading the model...\n"
     ]
    },
    {
     "name": "stdout",
     "output_type": "stream",
     "text": [
      "(None, 1, 28, 28)\n",
      "Compiling the model...\n"
     ]
    },
    {
     "name": "stderr",
     "output_type": "stream",
     "text": [
      "INFO:tasks:Compiling the model...\n"
     ]
    },
    {
     "name": "stdout",
     "output_type": "stream",
     "text": [
      "Traceback (most recent call last):\n",
      "  File \"/home/mcherti/work/code/feature_generation/ipynb/../tasks.py\", line 682, in check\n",
      "    ret = func(capsule, data, layers, w, h, c, folder, **p)\n",
      "TypeError: notebook() takes exactly 6 arguments (8 given)\n"
     ]
    },
    {
     "name": "stderr",
     "output_type": "stream",
     "text": [
      "/home/mcherti/work/code/Lasagne/lasagne/layers/helper.py:212: UserWarning: get_output() was called with unused kwargs:\n",
      "\tdetermnistic (perhaps you meant deterministic)\n",
      "  % \"\\n\\t\".join(suggestions))\n"
     ]
    }
   ],
   "source": [
    "v = check(what=\"notebook\", \n",
    "          filename=\"../jobs/results/a5eedb043b15ceb54c0073580f47d05d/model.pkl\", \n",
    "          dataset=\"digits\")"
   ]
  },
  {
   "cell_type": "code",
   "execution_count": 3,
   "metadata": {
    "collapsed": false
   },
   "outputs": [
    {
     "ename": "TypeError",
     "evalue": "'NoneType' object is not iterable",
     "output_type": "error",
     "traceback": [
      "\u001b[1;31m---------------------------------------------------------------------------\u001b[0m",
      "\u001b[1;31mTypeError\u001b[0m                                 Traceback (most recent call last)",
      "\u001b[1;32m<ipython-input-3-e3b2796da956>\u001b[0m in \u001b[0;36m<module>\u001b[1;34m()\u001b[0m\n\u001b[1;32m----> 1\u001b[1;33m \u001b[0mcapsule\u001b[0m\u001b[1;33m,\u001b[0m \u001b[0mdata\u001b[0m\u001b[1;33m,\u001b[0m \u001b[0mlayers\u001b[0m\u001b[1;33m,\u001b[0m \u001b[0mw\u001b[0m\u001b[1;33m,\u001b[0m \u001b[0mh\u001b[0m\u001b[1;33m,\u001b[0m \u001b[0mc\u001b[0m \u001b[1;33m=\u001b[0m \u001b[0mv\u001b[0m\u001b[1;33m\u001b[0m\u001b[0m\n\u001b[0m\u001b[0;32m      2\u001b[0m \u001b[1;32mprint\u001b[0m\u001b[1;33m(\u001b[0m\u001b[0mw\u001b[0m\u001b[1;33m,\u001b[0m \u001b[0mh\u001b[0m\u001b[1;33m,\u001b[0m \u001b[0mc\u001b[0m\u001b[1;33m)\u001b[0m\u001b[1;33m\u001b[0m\u001b[0m\n\u001b[0;32m      3\u001b[0m \u001b[1;32mprint\u001b[0m\u001b[1;33m(\u001b[0m\u001b[0mlayers\u001b[0m\u001b[1;33m.\u001b[0m\u001b[0mkeys\u001b[0m\u001b[1;33m(\u001b[0m\u001b[1;33m)\u001b[0m\u001b[1;33m)\u001b[0m\u001b[1;33m\u001b[0m\u001b[0m\n\u001b[0;32m      4\u001b[0m \u001b[1;31m#print(w, h, c)\u001b[0m\u001b[1;33m\u001b[0m\u001b[1;33m\u001b[0m\u001b[0m\n\u001b[0;32m      5\u001b[0m \u001b[1;31m#print(data.X.min(), data.X.max())\u001b[0m\u001b[1;33m\u001b[0m\u001b[1;33m\u001b[0m\u001b[0m\n",
      "\u001b[1;31mTypeError\u001b[0m: 'NoneType' object is not iterable"
     ]
    }
   ],
   "source": [
    "capsule, data, layers, w, h, c = v\n",
    "print(w, h, c)\n",
    "print(layers.keys())\n",
    "#print(w, h, c)\n",
    "#print(data.X.min(), data.X.max())"
   ]
  },
  {
   "cell_type": "code",
   "execution_count": null,
   "metadata": {
    "collapsed": false
   },
   "outputs": [],
   "source": [
    "%matplotlib inline\n",
    "import matplotlib.pyplot as plt\n",
    "from lasagnekit.misc.plot_weights import tile_raster_images\n",
    "import numpy as np\n",
    "for name, layer in layers.items():\n",
    "    #print(name, layer.output_shape)\n",
    "    #if hasattr(layer, \"W\"):\n",
    "    #    print(layer.W.get_value().shape)\n",
    "    if hasattr(layer, \"W\"):\n",
    "        W = layer.W.get_value()\n",
    "        if len(W.shape)==2:\n",
    "            nbpixels = c*w*h\n",
    "            if W.shape[0] == nbpixels:\n",
    "                W = W.T\n",
    "            a, b = w, h\n",
    "        else:\n",
    "            W = W.reshape((W.shape[0]*W.shape[1], W.shape[2], W.shape[3]))\n",
    "            a, b = W.shape[1:]\n",
    "        fig = plt.figure(figsize=(10, 10))\n",
    "        s = int(np.sqrt(W.shape[0]))\n",
    "        plt.axis('off')\n",
    "        img=tile_raster_images(W, (a, b), (s, s))\n",
    "        plt.imshow(img, cmap=\"gray\", interpolation='none')\n",
    "        plt.show()"
   ]
  },
  {
   "cell_type": "code",
   "execution_count": null,
   "metadata": {
    "collapsed": false
   },
   "outputs": [],
   "source": [
    "from skimage.filters import threshold_otsu\n",
    "np.random.seed(12345)\n",
    "T = [0.5, 0.7, 0.8, 0.85, 0.87, 0.89, 0.9, 0.91, 0.92]\n",
    "def binarize(X):\n",
    "    for i in range(X.shape[0]):\n",
    "        X[i] = X[i] >= threshold_otsu(X[i])\n",
    "    return X\n",
    "s = np.random.uniform(size=(100, c, w,h ))\n",
    "s = d\n",
    "#s = s > 0.2\n",
    "#s = s > 0.7\n",
    "s = s.astype(np.float32)\n",
    "loss = []\n",
    "for i in range(200):\n",
    "    sprev = s\n",
    "    #s *= np.random.uniform(size=s.shape)<=0.9999\n",
    "    s = capsule.reconstruct(s)\n",
    "    s = s  > (1-0.2)\n",
    "    s = s.astype(np.float32)\n",
    "    score = np.abs(s - sprev).sum()\n",
    "    print(score)\n",
    "    loss.append(score)\n",
    "    if score == 0:\n",
    "        break\n",
    "    loss.append(score)\n"
   ]
  },
  {
   "cell_type": "code",
   "execution_count": null,
   "metadata": {
    "collapsed": false
   },
   "outputs": [],
   "source": [
    "from lasagnekit.misc.plot_weights import dispims_color\n",
    "\n",
    "s = s.astype(np.float32)\n",
    "plt.plot(loss)\n",
    "print(\"Nb of iterations\", len(loss))\n",
    "sz = int(np.sqrt(s.shape[0]))\n",
    "fig = plt.figure(figsize=(10, 10))\n",
    "\n",
    "\n",
    "if s.shape[1] == 1:\n",
    "    print(s.dtype)\n",
    "    img = tile_raster_images(s[:, 0], (w, h), (sz, sz), tile_spacing=(2, 2), )\n",
    "    plt.imshow(img, cmap=\"gray\", interpolation='none')\n",
    "    plt.axis('off')\n",
    "    plt.show()\n",
    "else:\n",
    "    ss = s.transpose((0, 2, 3, 1))\n",
    "    print(s.shape)\n",
    "    img = dispims_color(ss)\n",
    "    plt.imshow(img)\n",
    "    plt.axis('off')\n",
    "    plt.show()\n",
    "\n",
    "\"\"\"\n",
    "import hashlib\n",
    "from collections import Counter\n",
    "def hash_binary_vector(x):\n",
    "    m = hashlib.md5()\n",
    "    ss = str(x.flatten().tolist())\n",
    "    m.update(ss)\n",
    "    return m.hexdigest()\n",
    "def hash_matrix(X):\n",
    "    hashes = []\n",
    "    for i in range(X.shape[0]):\n",
    "        h = hash_binary_vector(X[i])\n",
    "        hashes.append(h)\n",
    "    return hashes\n",
    "cnt = Counter(hash_matrix(s))\n",
    "print(len(cnt))\n",
    "print(s.shape)\n",
    "V = sorted(cnt.values(), reverse=True)\n",
    "plt.bar(np.arange(len(V)), V)\n",
    "plt.ylabel(\"frequency\")\n",
    "plt.xlabel(\"fixed point\")\n",
    "plt.legend()\n",
    "plt.xlim((0, len(cnt)))\n",
    "#plt.title(\"Frequency of fixed points\")\n",
    "\"\"\""
   ]
  },
  {
   "cell_type": "code",
   "execution_count": null,
   "metadata": {
    "collapsed": true
   },
   "outputs": [],
   "source": []
  },
  {
   "cell_type": "code",
   "execution_count": null,
   "metadata": {
    "collapsed": true
   },
   "outputs": [],
   "source": []
  }
 ],
 "metadata": {
  "kernelspec": {
   "display_name": "Python 2",
   "language": "python",
   "name": "python2"
  },
  "language_info": {
   "codemirror_mode": {
    "name": "ipython",
    "version": 2
   },
   "file_extension": ".py",
   "mimetype": "text/x-python",
   "name": "python",
   "nbconvert_exporter": "python",
   "pygments_lexer": "ipython2",
   "version": "2.7.11"
  }
 },
 "nbformat": 4,
 "nbformat_minor": 0
}
