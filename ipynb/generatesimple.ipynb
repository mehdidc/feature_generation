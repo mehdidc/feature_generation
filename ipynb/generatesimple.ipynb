{
 "cells": [
  {
   "cell_type": "code",
   "execution_count": 1,
   "metadata": {
    "collapsed": false
   },
   "outputs": [
    {
     "name": "stdout",
     "output_type": "stream",
     "text": [
      "Couldn't import dot_parser, loading of dot files will not be possible.\n"
     ]
    }
   ],
   "source": [
    "import os\n",
    "import sys\n",
    "os.environ['OMP_NUM_THREADS'] = '1'\n",
    "os.environ['THEANO_FLAGS'] = 'device=cpu'\n",
    "sys.path.append(os.getcwd()+\"/..\")\n",
    "sys.path.append(os.getcwd()+\"/dcgan/\")\n",
    "\n",
    "import theano.tensor as T\n",
    "import theano\n",
    "\n",
    "import lasagne\n",
    "\n",
    "from tasks import check\n",
    "from scripts import manifold\n",
    "from lasagne import layers as L\n",
    "\n",
    "from lasagnekit.misc.plot_weights import dispims_color, tile_raster_images\n",
    "import matplotlib.pyplot as plt\n",
    "from skimage.io import imsave\n",
    "\n",
    "from sklearn.decomposition import PCA, IncrementalPCA\n",
    "from sklearn.manifold import TSNE\n",
    "from image_scatter import image_scatter\n",
    "from tqdm import tqdm\n",
    "\n",
    "%matplotlib inline\n",
    "from IPython.display import Image\n",
    "\n",
    "import matplotlib.pyplot as plt\n",
    "from lasagnekit.misc.plot_weights import tile_raster_images\n",
    "import numpy as np\n",
    "\n",
    "from helpers import salt_and_pepper\n",
    "def sample(x):\n",
    "    return (np.random.uniform(size=x.shape) <= x).astype(np.float32)\n",
    "\n",
    "def floatX(x):\n",
    "    return x.astype(np.float32)\n",
    "\n",
    "def iterate_minibatches(inputs, targets, batchsize, shuffle=False):\n",
    "    assert len(inputs) == len(targets)\n",
    "    if shuffle:\n",
    "        indices = np.arange(len(inputs))\n",
    "        np.random.shuffle(indices)\n",
    "    for start_idx in range(0, max(len(inputs) - batchsize + 1, len(inputs)), batchsize):\n",
    "        if shuffle:\n",
    "            excerpt = indices[start_idx:start_idx + batchsize]\n",
    "        else:\n",
    "            excerpt = slice(start_idx, start_idx + batchsize)\n",
    "        yield inputs[excerpt], targets[excerpt]"
   ]
  },
  {
   "cell_type": "markdown",
   "metadata": {},
   "source": [
    "## load model"
   ]
  },
  {
   "cell_type": "code",
   "execution_count": 37,
   "metadata": {
    "collapsed": false
   },
   "outputs": [
    {
     "ename": "TypeError",
     "evalue": "check() got an unexpected keyword argument 'mode'",
     "output_type": "error",
     "traceback": [
      "\u001b[1;31m---------------------------------------------------------------------------\u001b[0m",
      "\u001b[1;31mTypeError\u001b[0m                                 Traceback (most recent call last)",
      "\u001b[1;32m<ipython-input-37-1e7f88c485a7>\u001b[0m in \u001b[0;36m<module>\u001b[1;34m()\u001b[0m\n\u001b[0;32m      6\u001b[0m     \u001b[0mforce_h\u001b[0m\u001b[1;33m=\u001b[0m\u001b[1;36m28\u001b[0m\u001b[1;33m,\u001b[0m\u001b[1;33m\u001b[0m\u001b[0m\n\u001b[0;32m      7\u001b[0m     \u001b[0mforce_c\u001b[0m\u001b[1;33m=\u001b[0m\u001b[1;36m1\u001b[0m\u001b[1;33m,\u001b[0m\u001b[1;33m\u001b[0m\u001b[0m\n\u001b[1;32m----> 8\u001b[1;33m     \u001b[0mmode\u001b[0m\u001b[1;33m=\u001b[0m\u001b[1;34m'minibatch'\u001b[0m\u001b[1;33m\u001b[0m\u001b[0m\n\u001b[0m\u001b[0;32m      9\u001b[0m     \u001b[1;31m#force_model_params=dict(use_wta_spatial=False, use_wta_channel=False)\u001b[0m\u001b[1;33m\u001b[0m\u001b[1;33m\u001b[0m\u001b[0m\n\u001b[0;32m     10\u001b[0m )\n",
      "\u001b[1;32m/home/mcherti/miniconda/envs/databoard-env/lib/python2.7/site-packages/invoke/tasks.pyc\u001b[0m in \u001b[0;36m__call__\u001b[1;34m(self, *args, **kwargs)\u001b[0m\n\u001b[0;32m    109\u001b[0m             \u001b[0merr\u001b[0m \u001b[1;33m=\u001b[0m \u001b[1;34m\"Contextualized task expected a Context, got {0} instead!\"\u001b[0m\u001b[1;33m\u001b[0m\u001b[0m\n\u001b[0;32m    110\u001b[0m             \u001b[1;32mraise\u001b[0m \u001b[0mTypeError\u001b[0m\u001b[1;33m(\u001b[0m\u001b[0merr\u001b[0m\u001b[1;33m.\u001b[0m\u001b[0mformat\u001b[0m\u001b[1;33m(\u001b[0m\u001b[0mtype\u001b[0m\u001b[1;33m(\u001b[0m\u001b[0margs\u001b[0m\u001b[1;33m[\u001b[0m\u001b[1;36m0\u001b[0m\u001b[1;33m]\u001b[0m\u001b[1;33m)\u001b[0m\u001b[1;33m)\u001b[0m\u001b[1;33m)\u001b[0m\u001b[1;33m\u001b[0m\u001b[0m\n\u001b[1;32m--> 111\u001b[1;33m         \u001b[0mresult\u001b[0m \u001b[1;33m=\u001b[0m \u001b[0mself\u001b[0m\u001b[1;33m.\u001b[0m\u001b[0mbody\u001b[0m\u001b[1;33m(\u001b[0m\u001b[1;33m*\u001b[0m\u001b[0margs\u001b[0m\u001b[1;33m,\u001b[0m \u001b[1;33m**\u001b[0m\u001b[0mkwargs\u001b[0m\u001b[1;33m)\u001b[0m\u001b[1;33m\u001b[0m\u001b[0m\n\u001b[0m\u001b[0;32m    112\u001b[0m         \u001b[0mself\u001b[0m\u001b[1;33m.\u001b[0m\u001b[0mtimes_called\u001b[0m \u001b[1;33m+=\u001b[0m \u001b[1;36m1\u001b[0m\u001b[1;33m\u001b[0m\u001b[0m\n\u001b[0;32m    113\u001b[0m         \u001b[1;32mreturn\u001b[0m \u001b[0mresult\u001b[0m\u001b[1;33m\u001b[0m\u001b[0m\n",
      "\u001b[1;31mTypeError\u001b[0m: check() got an unexpected keyword argument 'mode'"
     ]
    }
   ],
   "source": [
    "#5a59f5a7094a3b585818e8e2117585c7\n",
    "v = check(\n",
    "    what=\"notebook\", \n",
    "    filename=\"../training/initial_models/model_E.pkl\", \n",
    "    force_w=28,\n",
    "    force_h=28,\n",
    "    force_c=1,\n",
    "    mode='minibatch'\n",
    "    #force_model_params=dict(use_wta_spatial=False, use_wta_channel=False)\n",
    ")"
   ]
  },
  {
   "cell_type": "code",
   "execution_count": 15,
   "metadata": {
    "collapsed": false
   },
   "outputs": [],
   "source": [
    "capsule, data, layers, w, h, c = v"
   ]
  },
  {
   "cell_type": "code",
   "execution_count": 16,
   "metadata": {
    "collapsed": false
   },
   "outputs": [
    {
     "name": "stdout",
     "output_type": "stream",
     "text": [
      "input\n",
      "conv1\n",
      "conv2\n",
      "conv3\n",
      "wta_spatial\n",
      "wta_channel\n",
      "unconv\n",
      "output\n"
     ]
    }
   ],
   "source": [
    "for l in layers:\n",
    "    print(l)"
   ]
  },
  {
   "cell_type": "code",
   "execution_count": 5,
   "metadata": {
    "collapsed": false
   },
   "outputs": [],
   "source": [
    "X = T.tensor4()\n",
    "encode = theano.function([X], L.get_output(layers['wta_spatial'], X))"
   ]
  },
  {
   "cell_type": "markdown",
   "metadata": {},
   "source": [
    "## viz features"
   ]
  },
  {
   "cell_type": "code",
   "execution_count": 12,
   "metadata": {
    "collapsed": false
   },
   "outputs": [],
   "source": [
    "for name, layer in layers.items():\n",
    "    if hasattr(layer, \"W\"):\n",
    "        W = layer.W.get_value()\n",
    "        if len(W.shape)==2 and (W.shape[0] == nbpixels or W.shape[1] == nbpixels):\n",
    "            nbpixels = c*w*h\n",
    "            if W.shape[0] == nbpixels:\n",
    "                W = W.T\n",
    "            W = W.reshape((W.shape[0], c, w, h))\n",
    "            W = W.transpose((0, 2, 3, 1))\n",
    "            W = W * np.ones((1, 1, 1, 3))\n",
    "        else:\n",
    "            continue\n",
    "        fig = plt.figure(figsize=(10, 10))\n",
    "        plt.axis('off')\n",
    "        img = dispims_color(W)\n",
    "        plt.imshow(img, interpolation='none')\n",
    "        plt.show()"
   ]
  },
  {
   "cell_type": "code",
   "execution_count": 36,
   "metadata": {
    "collapsed": false
   },
   "outputs": [
    {
     "ename": "AttributeError",
     "evalue": "'SubSampled' object has no attribute 'test'",
     "output_type": "error",
     "traceback": [
      "\u001b[1;31m---------------------------------------------------------------------------\u001b[0m",
      "\u001b[1;31mAttributeError\u001b[0m                            Traceback (most recent call last)",
      "\u001b[1;32m<ipython-input-36-1ac176fe1089>\u001b[0m in \u001b[0;36m<module>\u001b[1;34m()\u001b[0m\n\u001b[1;32m----> 1\u001b[1;33m \u001b[0mX\u001b[0m \u001b[1;33m=\u001b[0m \u001b[0mdata\u001b[0m\u001b[1;33m.\u001b[0m\u001b[0mtest\u001b[0m\u001b[1;33m.\u001b[0m\u001b[0mX\u001b[0m\u001b[1;33m[\u001b[0m\u001b[1;36m0\u001b[0m\u001b[1;33m:\u001b[0m\u001b[1;36m100\u001b[0m\u001b[1;33m]\u001b[0m\u001b[1;33m\u001b[0m\u001b[0m\n\u001b[0m\u001b[0;32m      2\u001b[0m \u001b[0mX\u001b[0m \u001b[1;33m=\u001b[0m \u001b[0mX\u001b[0m\u001b[1;33m.\u001b[0m\u001b[0mreshape\u001b[0m\u001b[1;33m(\u001b[0m\u001b[1;33m(\u001b[0m\u001b[0mX\u001b[0m\u001b[1;33m.\u001b[0m\u001b[0mshape\u001b[0m\u001b[1;33m[\u001b[0m\u001b[1;36m0\u001b[0m\u001b[1;33m]\u001b[0m\u001b[1;33m,\u001b[0m \u001b[1;36m1\u001b[0m\u001b[1;33m,\u001b[0m \u001b[1;36m28\u001b[0m\u001b[1;33m,\u001b[0m \u001b[1;36m28\u001b[0m\u001b[1;33m)\u001b[0m\u001b[1;33m)\u001b[0m\u001b[1;33m\u001b[0m\u001b[0m\n",
      "\u001b[1;31mAttributeError\u001b[0m: 'SubSampled' object has no attribute 'test'"
     ]
    }
   ],
   "source": [
    "X = data.test.X[0:100]\n",
    "X = X.reshape((X.shape[0], 1, 28, 28))"
   ]
  },
  {
   "cell_type": "code",
   "execution_count": 29,
   "metadata": {
    "collapsed": false
   },
   "outputs": [],
   "source": [
    "Xrec = capsule.reconstruct(X)"
   ]
  },
  {
   "cell_type": "code",
   "execution_count": 33,
   "metadata": {
    "collapsed": true
   },
   "outputs": [],
   "source": [
    "from lasagnekit.misc.plot_weights import dispims_color\n",
    "from skimage.io import imsave"
   ]
  },
  {
   "cell_type": "code",
   "execution_count": 35,
   "metadata": {
    "collapsed": false
   },
   "outputs": [
    {
     "name": "stderr",
     "output_type": "stream",
     "text": [
      "/home/mcherti/miniconda/envs/databoard-env/lib/python2.7/site-packages/skimage/util/dtype.py:111: UserWarning: Possible precision loss when converting from float64 to uint8\n",
      "  \"%s to %s\" % (dtypeobj_in, dtypeobj))\n"
     ]
    }
   ],
   "source": [
    "orig = dispims_color(X.transpose((0, 2, 3, 1)) * np.ones((1, 1, 1, 3)))\n",
    "recons = dispims_color(Xrec.transpose((0, 2, 3, 1)) * np.ones((1, 1, 1, 3)))\n",
    "imsave('orig.png', orig)\n",
    "imsave('recons.png', recons)"
   ]
  },
  {
   "cell_type": "markdown",
   "metadata": {},
   "source": [
    "## iterative refinement"
   ]
  },
  {
   "cell_type": "code",
   "execution_count": null,
   "metadata": {
    "collapsed": false
   },
   "outputs": [],
   "source": [
    "from data import load_data\n",
    "if c == 3:\n",
    "    external_data = load_data(dataset='lfw', w=64, h=64)\n",
    "    external_data = external_data.X\n",
    "    external_data = external_data.reshape((external_data.shape[0], c, w, h))\n",
    "    \n",
    "if c == 1:\n",
    "    from lasagnekit.datasets.rescaled import Rescaled\n",
    "    external_data = load_data(dataset='digits', w=28, h=28)\n",
    "    external_data = Rescaled(external_data, (w, h))\n",
    "    external_data.load()\n",
    "    external_data = external_data.X[0:100]\n",
    "    external_data = external_data.reshape((external_data.shape[0], c, w, h))\n",
    "    external_data = external_data.astype(np.float32)\n",
    "\n",
    "genetic = False\n",
    "if genetic:\n",
    "    external_data = np.random.uniform(size=external_data.shape).astype(np.float32)\n",
    "\n",
    "    layer_name = 'wta_spatial'\n",
    "    x = T.tensor4()\n",
    "    px_to_code = theano.function(\n",
    "        [x],\n",
    "        L.get_output(layers[layer_name], x)\n",
    "    )\n",
    "    code_to_px = theano.function(\n",
    "        [x],\n",
    "        L.get_output(layers[\"output\"], {layers[layer_name]: x}))\n",
    "\n",
    "    def crossover(A, nb=100):\n",
    "        S = np.zeros((nb,) + A.shape[1:])\n",
    "        for i in range(nb):\n",
    "            ind1, ind2 = np.random.randint(0, A.shape[0], size=2)\n",
    "            s1, s2 = A[ind1], A[ind2]\n",
    "            s = np.zeros_like(s1)\n",
    "            c = np.random.randint(0, 2, size=A.shape[1])\n",
    "            s[c == 0] = s1[c == 0]\n",
    "            s[c == 1] = s2[c == 1]\n",
    "            S[i] = s\n",
    "        return S.astype(np.float32)\n",
    "\n",
    "    def smarter_mutation(A, born_perc=0.1, dead_perc=0.1, nbtimes=1, val=10, nb=100):\n",
    "        # val = A.max()\n",
    "        perc = born_perc + dead_perc\n",
    "        nb_filters = A.shape[1]\n",
    "        size = int(perc * nb_filters)\n",
    "        for i in range(nbtimes):\n",
    "            for a in A:\n",
    "                indices = np.random.choice(np.arange(a.shape[1]),#was a  bug in the old genetic\n",
    "                                           size=size, replace=True)\n",
    "                nb_born = int(born_perc*nb_filters)\n",
    "                born_indices = indices[0:nb_born]\n",
    "                dead_indices = indices[nb_born:]\n",
    "                a[dead_indices] = 0\n",
    "                for idx in born_indices:\n",
    "                    a[idx] = 0\n",
    "                    x, y = np.random.randint(a.shape[1]), np.random.randint(a.shape[2])\n",
    "                    # val = np.random.choice((0.01, 0.1, 1, 10))\n",
    "                    #val = np.random.uniform()\n",
    "                    a[idx, x, y] = val\n",
    "        return A\n",
    "\n",
    "\n",
    "    codes = px_to_code(external_data)\n",
    "    codes = crossover(codes, nb=codes.shape[0])\n",
    "    codes = smarter_mutation(codes, born_perc=0, dead_perc=0.9)\n",
    "    external_data = code_to_px(codes)"
   ]
  },
  {
   "cell_type": "code",
   "execution_count": null,
   "metadata": {
    "collapsed": false
   },
   "outputs": [],
   "source": [
    "seed = 42\n",
    "np.random.seed(seed)\n",
    "N = 100 # nb of examples to generate\n",
    "nb_iter = 100 # nb iterations for generation\n",
    "do_sample = False\n",
    "do_binarize = True\n",
    "init_by_external = False\n",
    "\n",
    "if init_by_external:\n",
    "    s = floatX(external_data[0:N])\n",
    "else:\n",
    "    s = floatX(np.random.uniform(0, 1, size=(N, c, w, h)) > 0.99)\n",
    "\n",
    "samples = []\n",
    "samples.append(s.copy()[np.newaxis, :, :, :, :])\n",
    "\n",
    "\n",
    "loss = []\n",
    "for i in tqdm(range(nb_iter)):\n",
    "    sprev = s  \n",
    "    \n",
    "    #s += np.random.normal(0, 0.001, size=s.shape)\n",
    "    s = (capsule.reconstruct(s))\n",
    "    samples.append(s.copy()[np.newaxis, :, :, :, :])\n",
    "    if do_sample:\n",
    "        s = np.random.binomial(n=1, p=s, size=s.shape).astype('float32')# binarize by sampling\n",
    "    if do_binarize:\n",
    "        s = s > 0.5\n",
    "    score = np.abs(s - sprev).sum()\n",
    "    #print(score)\n",
    "    loss.append(score)\n",
    "samples = np.concatenate(samples, axis=0) # all samples from all timesteps in an array"
   ]
  },
  {
   "cell_type": "code",
   "execution_count": null,
   "metadata": {
    "collapsed": false
   },
   "outputs": [],
   "source": [
    "# show images generated at last iteration\n",
    "s = samples[-1]\n",
    "\n",
    "s = s * np.ones((1, 3, 1, 1))\n",
    "s = s.transpose((0, 2, 3, 1))\n",
    "fig = plt.figure(figsize=(10, 10))\n",
    "img = dispims_color(s, border=2, bordercolor=(10, 10, 10))\n",
    "plt.imshow(img)"
   ]
  },
  {
   "cell_type": "code",
   "execution_count": null,
   "metadata": {
    "collapsed": false,
    "scrolled": true
   },
   "outputs": [],
   "source": [
    "# sample samples and iterations\n",
    "fig = plt.figure(figsize=(20, 20))\n",
    "sw, sh = samples.shape[0:2]\n",
    "samples_ = samples.copy()\n",
    "samples_ = samples_.reshape((sw*sh, c, w, h))\n",
    "samples_ = samples_.transpose((0, 2, 3, 1))\n",
    "samples_ = samples_ * np.ones((1, 1, 1, 3))\n",
    "img = dispims_color(samples_, shape=(sw, sh))\n",
    "imsave('out.png', img)\n",
    "plt.imshow(img)\n",
    "plt.axis('off')\n",
    "plt.show()"
   ]
  },
  {
   "cell_type": "markdown",
   "metadata": {},
   "source": [
    "## project into feature space"
   ]
  },
  {
   "cell_type": "code",
   "execution_count": null,
   "metadata": {
    "collapsed": false
   },
   "outputs": [],
   "source": [
    "hid = []\n",
    "d = []\n",
    "for i in range(10):\n",
    "    d.append(capsule.preprocess(external_data).transpose((0, 2 ,3 , 1))  * np.ones((1, 1, 1, 3)))\n",
    "    hid.append(encode(capsule.preprocess(external_data)))\n",
    "d = np.concatenate(d, axis=0)\n",
    "hid = np.concatenate(hid, axis=0)\n",
    "hid = hid.reshape((hid.shape[0], -1))"
   ]
  },
  {
   "cell_type": "code",
   "execution_count": null,
   "metadata": {
    "collapsed": false
   },
   "outputs": [],
   "source": [
    "mf = PCA(n_components=2)\n",
    "h2d = mf.fit_transform(hid)"
   ]
  },
  {
   "cell_type": "code",
   "execution_count": null,
   "metadata": {
    "collapsed": false
   },
   "outputs": [],
   "source": [
    "mf = PCA(n_components=2)\n",
    "d2d = mf.fit_transform(d.reshape(d.shape[0], -1))"
   ]
  },
  {
   "cell_type": "code",
   "execution_count": null,
   "metadata": {
    "collapsed": false
   },
   "outputs": [],
   "source": [
    "img = image_scatter(h2d, d, 10)\n",
    "imsave('out_scatter.png', img)\n",
    "plt.imshow(img)\n",
    "plt.show()"
   ]
  },
  {
   "cell_type": "code",
   "execution_count": null,
   "metadata": {
    "collapsed": false
   },
   "outputs": [],
   "source": [
    "img = image_scatter(d2d, d, 80)\n",
    "imsave('out_scatter_data.png', img)\n",
    "plt.imshow(img)\n",
    "plt.show()"
   ]
  },
  {
   "cell_type": "markdown",
   "metadata": {},
   "source": [
    "## transferability"
   ]
  },
  {
   "cell_type": "code",
   "execution_count": null,
   "metadata": {
    "collapsed": false
   },
   "outputs": [],
   "source": [
    "X_transf_orig = external_data[0:500]\n",
    "\n",
    "\n",
    "X_transf_rec = X_transf_orig.copy().astype(np.float32)\n",
    "X_transf_rec = X_transf_rec\n",
    "imgs = []\n",
    "for i in tqdm(range(100)):\n",
    "    X_transf_rec = X_transf_rec + (capsule.reconstruct(X_transf_rec) - X_transf_rec)\n",
    "    imgs.append(X_transf_rec.copy())\n",
    "    \n",
    "from scripts import imgtovideo\n",
    "x = []\n",
    "for img in imgs:\n",
    "    img = img * np.ones((1, 3, 1, 1))\n",
    "    img = img.transpose((0, 2, 3, 1))\n",
    "    x.append(dispims_color(img))\n"
   ]
  },
  {
   "cell_type": "code",
   "execution_count": null,
   "metadata": {
    "collapsed": false
   },
   "outputs": [],
   "source": [
    "imgtovideo.imgs_to_video(x, out='/home/mcherti/out.mp4', verbose=1)"
   ]
  },
  {
   "cell_type": "code",
   "execution_count": null,
   "metadata": {
    "collapsed": true
   },
   "outputs": [],
   "source": [
    "X_transf = X_transf_orig.transpose((0, 2, 3, 1))\n",
    "X_transf = X_transf * np.ones((1, 1, 1, 3))\n",
    "\n",
    "X_transf_rec = X_transf_rec.transpose((0, 2, 3, 1))\n",
    "X_transf_rec = X_transf_rec * np.ones((1, 1, 1, 3))"
   ]
  },
  {
   "cell_type": "code",
   "execution_count": null,
   "metadata": {
    "collapsed": false
   },
   "outputs": [],
   "source": [
    "fig = plt.figure(figsize=(20, 20))\n",
    "img = dispims_color(X_transf_rec[0:500])\n",
    "plt.imshow(img, cmap='gray')\n",
    "plt.show()\n",
    "fig = plt.figure(figsize=(20, 20))\n",
    "img = dispims_color(X_transf[0:500])\n",
    "plt.imshow(img, cmap='gray')\n",
    "plt.show()"
   ]
  },
  {
   "cell_type": "markdown",
   "metadata": {},
   "source": [
    "## forced generation"
   ]
  },
  {
   "cell_type": "code",
   "execution_count": null,
   "metadata": {
    "collapsed": false
   },
   "outputs": [],
   "source": [
    "import pickle\n",
    "from lasagne import layers\n",
    "\n",
    "def load_model(filename):\n",
    "    data = pickle.load(open(filename))\n",
    "    print()\n",
    "    gen = data['generator']\n",
    "    discr = data['discriminator']\n",
    "    gen_weights = data['generator_weights']\n",
    "    discr_weights = data['discriminator_weights']\n",
    "    layers.set_all_param_values(gen, gen_weights)\n",
    "    layers.set_all_param_values(discr, discr_weights)\n",
    "    return gen, discr"
   ]
  },
  {
   "cell_type": "code",
   "execution_count": null,
   "metadata": {
    "collapsed": false,
    "scrolled": true
   },
   "outputs": [],
   "source": [
    "gen, discr = load_model('/home/mcherti/work/code/lasagne-dcgan/fonts.pkl')"
   ]
  },
  {
   "cell_type": "markdown",
   "metadata": {},
   "source": [
    "## rnn"
   ]
  },
  {
   "cell_type": "code",
   "execution_count": null,
   "metadata": {
    "collapsed": false
   },
   "outputs": [],
   "source": [
    "X = T.tensor4()\n",
    "Xinit = X\n",
    "nb_steps = 4\n",
    "for i in range(nb_steps):\n",
    "    X = L.get_output(layers['output'], X)\n",
    "score = L.get_output(discr, X)\n",
    "loss = (score).mean()\n",
    "grad = theano.grad(loss, Xinit)\n",
    "get_grad = theano.function([Xinit], grad)\n",
    "get_loss = theano.function([Xinit], loss)\n",
    "get_gen = theano.function([Xinit], X)"
   ]
  },
  {
   "cell_type": "code",
   "execution_count": null,
   "metadata": {
    "collapsed": true
   },
   "outputs": [],
   "source": [
    "import scipy\n",
    "def eval_loss(x0):\n",
    "    x0 = x0.reshape((nb, c, w, h))\n",
    "    return -get_loss(x0.astype(np.float32)).astype('float64')\n",
    "\n",
    "def eval_grad(x0):\n",
    "    x0 = x0.reshape((nb, c, w, h))\n",
    "    return get_grad(x0.astype(np.float32)).flatten().astype('float64')"
   ]
  },
  {
   "cell_type": "code",
   "execution_count": null,
   "metadata": {
    "collapsed": false
   },
   "outputs": [],
   "source": [
    "nb = 100\n",
    "x = np.random.uniform(size=(nb, c, w, h))\n",
    "x = x.astype(np.float32)\n",
    "for i in range(40):\n",
    "    #x, _, _ = scipy.optimize.fmin_l_bfgs_b(eval_loss, x.flatten(), fprime=eval_grad, maxfun=1)\n",
    "    #x = x.reshape((nb, c, w, h)).astype(np.float32)\n",
    "    x += 0.1 * get_grad(x)\n",
    "    print(get_loss(x))"
   ]
  },
  {
   "cell_type": "code",
   "execution_count": null,
   "metadata": {
    "collapsed": false
   },
   "outputs": [],
   "source": [
    "img = get_gen(x) * np.ones((1, 3, 1, 1))\n",
    "img = img.transpose((0, 2, 3, 1))\n",
    "fig = plt.figure(figsize=(10, 10))\n",
    "img = dispims_color(img, border=1, bordercolor=(10, 10, 10))\n",
    "plt.imshow(img)"
   ]
  },
  {
   "cell_type": "code",
   "execution_count": null,
   "metadata": {
    "collapsed": true
   },
   "outputs": [],
   "source": []
  }
 ],
 "metadata": {
  "kernelspec": {
   "display_name": "Python 2",
   "language": "python",
   "name": "python2"
  },
  "language_info": {
   "codemirror_mode": {
    "name": "ipython",
    "version": 2
   },
   "file_extension": ".py",
   "mimetype": "text/x-python",
   "name": "python",
   "nbconvert_exporter": "python",
   "pygments_lexer": "ipython2",
   "version": "2.7.11"
  }
 },
 "nbformat": 4,
 "nbformat_minor": 0
}
