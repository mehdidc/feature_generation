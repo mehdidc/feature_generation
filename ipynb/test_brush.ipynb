{
 "cells": [
  {
   "cell_type": "code",
   "execution_count": 35,
   "metadata": {
    "collapsed": false
   },
   "outputs": [],
   "source": [
    "from lasagne import layers\n",
    "from lasagnekit.misc.plot_weights import dispims_color\n",
    "from skimage.io import imsave\n",
    "%matplotlib inline\n",
    "import sys, os\n",
    "sys.path.append(os.getcwd()+\"/..\")\n",
    "from tools.system.imgtovideo import imgs_to_video\n",
    "from data import load_data\n",
    "import matplotlib.pyplot as plt\n",
    "import numpy as np\n",
    "import theano\n",
    "import theano.tensor as T\n",
    "from lasagne import layers as L\n",
    "from lasagnekit.misc.plot_weights import dispims_color, tile_raster_images\n",
    "import pandas as pd\n",
    "\n",
    "from tqdm import tqdm\n",
    "import base64\n",
    "import json\n",
    "\n",
    "from skimage.io import imread, imsave\n",
    "from skimage.transform import resize\n",
    "\n",
    "from IPython.display import HTML, Image\n",
    "\n",
    "\n",
    "from tools.brushstroke.common import (\n",
    "    resize_set, load_model, get_bias, \n",
    "    get_scale, build_brush_func,\n",
    "    build_encode_func,\n",
    "    build_image_to_code_func,\n",
    "    build_code_to_image,\n",
    "    to_grid_of_images,\n",
    "    seq_to_video,\n",
    "    embed_video,\n",
    "    disp_grid,\n",
    "    prop_uniques,\n",
    "    hash_array,\n",
    "    normalize,\n",
    "    sigmoid,\n",
    "    build_pointer_images)\n",
    "from helpers import GenericBrushLayer"
   ]
  },
  {
   "cell_type": "code",
   "execution_count": 361,
   "metadata": {
    "collapsed": false
   },
   "outputs": [],
   "source": [
    "n_steps = 1\n",
    "nb_features = 13\n",
    "inp = layers.InputLayer((None, n_steps, nb_features))\n",
    "patches = np.ones((1, 1, 4, 4))\n",
    "patches = patches.astype(np.float32)\n",
    "brush = GenericBrushLayer(\n",
    "    inp,\n",
    "    16, 16,\n",
    "    n_steps=n_steps,\n",
    "    patches=patches,\n",
    "    col='grayscale',\n",
    "    return_seq=False,\n",
    "    reduce_func=lambda x,y:x+y,\n",
    "    to_proba_func=T.nnet.softmax,\n",
    "    normalize_func=T.nnet.sigmoid,\n",
    "    x_sigma=0.5,\n",
    "    y_sigma=0.5,\n",
    "    x_stride=1,\n",
    "    y_stride=1,\n",
    "    patch_index=0,\n",
    "    color=[1.],\n",
    "    x_min=0,\n",
    "    x_max='width',\n",
    "    y_min=0,\n",
    "    y_max='height',\n",
    "    eps=0)"
   ]
  },
  {
   "cell_type": "code",
   "execution_count": 359,
   "metadata": {
    "collapsed": false
   },
   "outputs": [],
   "source": [
    "X = T.tensor3()\n",
    "fn = theano.function([X], layers.get_output(brush, X))"
   ]
  },
  {
   "cell_type": "code",
   "execution_count": 360,
   "metadata": {
    "collapsed": false
   },
   "outputs": [
    {
     "data": {
      "image/png": "[encoded data removed]",
      "text/plain": [
       "<IPython.core.display.Image object>"
      ]
     },
     "execution_count": 360,
     "metadata": {
      "image/png": {
       "height": 400,
       "width": 400
      }
     },
     "output_type": "execute_result"
    }
   ],
   "source": [
    "coord = np.zeros((9, n_steps, nb_features))\n",
    "coord = coord.astype(np.float32)\n",
    "coord[:]=0\n",
    "y = fn(coord)\n",
    "img = disp_grid(y)\n",
    "imsave('out.png', img)\n",
    "Image('out.png', width=400, height=400)"
   ]
  },
  {
   "cell_type": "code",
   "execution_count": 55,
   "metadata": {
    "collapsed": false
   },
   "outputs": [
    {
     "data": {
      "text/plain": [
       "(array([ 23823.,   3996.,   2304.,   1548.,   1260.,   1008.,    936.,\n",
       "           756.,    612.,    621.]),\n",
       " array([  5.69967753e-08,   1.59648647e-04,   3.19240298e-04,\n",
       "          4.78831949e-04,   6.38423599e-04,   7.98015250e-04,\n",
       "          9.57606900e-04,   1.11719855e-03,   1.27679020e-03,\n",
       "          1.43638185e-03,   1.59597350e-03]),\n",
       " <a list of 10 Patch objects>)"
      ]
     },
     "execution_count": 55,
     "metadata": {},
     "output_type": "execute_result"
    },
    {
     "data": {
      "image/png": "[encoded data removed]",
      "text/plain": [
       "<matplotlib.figure.Figure at 0x7f272866fe10>"
      ]
     },
     "metadata": {},
     "output_type": "display_data"
    }
   ],
   "source": [
    "plt.hist(y.flatten())"
   ]
  },
  {
   "cell_type": "code",
   "execution_count": 62,
   "metadata": {
    "collapsed": false
   },
   "outputs": [
    {
     "data": {
      "text/plain": [
       "array([[[[  3.57128592e-05,   4.89358790e-05,   6.63876199e-05, ...,\n",
       "            8.91669697e-05,   6.63876199e-05,   4.89358790e-05],\n",
       "         [  4.89358790e-05,   6.70548397e-05,   9.09682567e-05, ...,\n",
       "            1.22181882e-04,   9.09682567e-05,   6.70548397e-05],\n",
       "         [  6.63876199e-05,   9.09682567e-05,   1.23409787e-04, ...,\n",
       "            1.65754958e-04,   1.23409787e-04,   9.09682567e-05],\n",
       "         ..., \n",
       "         [  8.91669697e-05,   1.22181882e-04,   1.65754958e-04, ...,\n",
       "            2.22629897e-04,   1.65754958e-04,   1.22181882e-04],\n",
       "         [  6.63876199e-05,   9.09682567e-05,   1.23409787e-04, ...,\n",
       "            1.65754958e-04,   1.23409787e-04,   9.09682567e-05],\n",
       "         [  4.89358790e-05,   6.70548397e-05,   9.09682567e-05, ...,\n",
       "            1.22181882e-04,   9.09682567e-05,   6.70548397e-05]]],\n",
       "\n",
       "\n",
       "       [[[  3.57128592e-05,   4.89358790e-05,   6.63876199e-05, ...,\n",
       "            8.91669697e-05,   6.63876199e-05,   4.89358790e-05],\n",
       "         [  4.89358790e-05,   6.70548397e-05,   9.09682567e-05, ...,\n",
       "            1.22181882e-04,   9.09682567e-05,   6.70548397e-05],\n",
       "         [  6.63876199e-05,   9.09682567e-05,   1.23409787e-04, ...,\n",
       "            1.65754958e-04,   1.23409787e-04,   9.09682567e-05],\n",
       "         ..., \n",
       "         [  8.91669697e-05,   1.22181882e-04,   1.65754958e-04, ...,\n",
       "            2.22629897e-04,   1.65754958e-04,   1.22181882e-04],\n",
       "         [  6.63876199e-05,   9.09682567e-05,   1.23409787e-04, ...,\n",
       "            1.65754958e-04,   1.23409787e-04,   9.09682567e-05],\n",
       "         [  4.89358790e-05,   6.70548397e-05,   9.09682567e-05, ...,\n",
       "            1.22181882e-04,   9.09682567e-05,   6.70548397e-05]]],\n",
       "\n",
       "\n",
       "       [[[  3.57128592e-05,   4.89358790e-05,   6.63876199e-05, ...,\n",
       "            8.91669697e-05,   6.63876199e-05,   4.89358790e-05],\n",
       "         [  4.89358790e-05,   6.70548397e-05,   9.09682567e-05, ...,\n",
       "            1.22181882e-04,   9.09682567e-05,   6.70548397e-05],\n",
       "         [  6.63876199e-05,   9.09682567e-05,   1.23409787e-04, ...,\n",
       "            1.65754958e-04,   1.23409787e-04,   9.09682567e-05],\n",
       "         ..., \n",
       "         [  8.91669697e-05,   1.22181882e-04,   1.65754958e-04, ...,\n",
       "            2.22629897e-04,   1.65754958e-04,   1.22181882e-04],\n",
       "         [  6.63876199e-05,   9.09682567e-05,   1.23409787e-04, ...,\n",
       "            1.65754958e-04,   1.23409787e-04,   9.09682567e-05],\n",
       "         [  4.89358790e-05,   6.70548397e-05,   9.09682567e-05, ...,\n",
       "            1.22181882e-04,   9.09682567e-05,   6.70548397e-05]]],\n",
       "\n",
       "\n",
       "       ..., \n",
       "       [[[  3.57128592e-05,   4.89358790e-05,   6.63876199e-05, ...,\n",
       "            8.91669697e-05,   6.63876199e-05,   4.89358790e-05],\n",
       "         [  4.89358790e-05,   6.70548397e-05,   9.09682567e-05, ...,\n",
       "            1.22181882e-04,   9.09682567e-05,   6.70548397e-05],\n",
       "         [  6.63876199e-05,   9.09682567e-05,   1.23409787e-04, ...,\n",
       "            1.65754958e-04,   1.23409787e-04,   9.09682567e-05],\n",
       "         ..., \n",
       "         [  8.91669697e-05,   1.22181882e-04,   1.65754958e-04, ...,\n",
       "            2.22629897e-04,   1.65754958e-04,   1.22181882e-04],\n",
       "         [  6.63876199e-05,   9.09682567e-05,   1.23409787e-04, ...,\n",
       "            1.65754958e-04,   1.23409787e-04,   9.09682567e-05],\n",
       "         [  4.89358790e-05,   6.70548397e-05,   9.09682567e-05, ...,\n",
       "            1.22181882e-04,   9.09682567e-05,   6.70548397e-05]]],\n",
       "\n",
       "\n",
       "       [[[  3.57128592e-05,   4.89358790e-05,   6.63876199e-05, ...,\n",
       "            8.91669697e-05,   6.63876199e-05,   4.89358790e-05],\n",
       "         [  4.89358790e-05,   6.70548397e-05,   9.09682567e-05, ...,\n",
       "            1.22181882e-04,   9.09682567e-05,   6.70548397e-05],\n",
       "         [  6.63876199e-05,   9.09682567e-05,   1.23409787e-04, ...,\n",
       "            1.65754958e-04,   1.23409787e-04,   9.09682567e-05],\n",
       "         ..., \n",
       "         [  8.91669697e-05,   1.22181882e-04,   1.65754958e-04, ...,\n",
       "            2.22629897e-04,   1.65754958e-04,   1.22181882e-04],\n",
       "         [  6.63876199e-05,   9.09682567e-05,   1.23409787e-04, ...,\n",
       "            1.65754958e-04,   1.23409787e-04,   9.09682567e-05],\n",
       "         [  4.89358790e-05,   6.70548397e-05,   9.09682567e-05, ...,\n",
       "            1.22181882e-04,   9.09682567e-05,   6.70548397e-05]]],\n",
       "\n",
       "\n",
       "       [[[  3.57128592e-05,   4.89358790e-05,   6.63876199e-05, ...,\n",
       "            8.91669697e-05,   6.63876199e-05,   4.89358790e-05],\n",
       "         [  4.89358790e-05,   6.70548397e-05,   9.09682567e-05, ...,\n",
       "            1.22181882e-04,   9.09682567e-05,   6.70548397e-05],\n",
       "         [  6.63876199e-05,   9.09682567e-05,   1.23409787e-04, ...,\n",
       "            1.65754958e-04,   1.23409787e-04,   9.09682567e-05],\n",
       "         ..., \n",
       "         [  8.91669697e-05,   1.22181882e-04,   1.65754958e-04, ...,\n",
       "            2.22629897e-04,   1.65754958e-04,   1.22181882e-04],\n",
       "         [  6.63876199e-05,   9.09682567e-05,   1.23409787e-04, ...,\n",
       "            1.65754958e-04,   1.23409787e-04,   9.09682567e-05],\n",
       "         [  4.89358790e-05,   6.70548397e-05,   9.09682567e-05, ...,\n",
       "            1.22181882e-04,   9.09682567e-05,   6.70548397e-05]]]], dtype=float32)"
      ]
     },
     "execution_count": 62,
     "metadata": {},
     "output_type": "execute_result"
    }
   ],
   "source": []
  },
  {
   "cell_type": "code",
   "execution_count": 66,
   "metadata": {
    "collapsed": false
   },
   "outputs": [
    {
     "data": {
      "text/plain": [
       "(array([ 23823.,   3996.,   2304.,   1548.,   1260.,   1008.,    936.,\n",
       "           756.,    612.,    621.]),\n",
       " array([  3.57128592e-05,   1.00032142e-01,   2.00028570e-01,\n",
       "          3.00024999e-01,   4.00021428e-01,   5.00017856e-01,\n",
       "          6.00014285e-01,   7.00010714e-01,   8.00007143e-01,\n",
       "          9.00003571e-01,   1.00000000e+00]),\n",
       " <a list of 10 Patch objects>)"
      ]
     },
     "execution_count": 66,
     "metadata": {},
     "output_type": "execute_result"
    },
    {
     "data": {
      "image/png": "[encoded data removed]",
      "text/plain": [
       "<matplotlib.figure.Figure at 0x7f272315ce10>"
      ]
     },
     "metadata": {},
     "output_type": "display_data"
    }
   ],
   "source": [
    "plt.hist((y/y.max(axis=(2,3), keepdims=True)).flatten())"
   ]
  },
  {
   "cell_type": "code",
   "execution_count": 111,
   "metadata": {
    "collapsed": false
   },
   "outputs": [
    {
     "data": {
      "text/plain": [
       "<matplotlib.image.AxesImage at 0x7f2721d0ba50>"
      ]
     },
     "execution_count": 111,
     "metadata": {},
     "output_type": "execute_result"
    },
    {
     "data": {
      "image/png": "[encoded data removed]",
      "text/plain": [
       "<matplotlib.figure.Figure at 0x7f27283c4450>"
      ]
     },
     "metadata": {},
     "output_type": "display_data"
    }
   ],
   "source": [
    "img1 = np.zeros((50, 50, 3))\n",
    "img2 = np.zeros((50, 50, 3))\n",
    "img1[0:30, 0:30] = [1,0,0]\n",
    "\n",
    "alpha1 = np.zeros((50, 50, 3))\n",
    "alpha1[0:30, 0:30]=1\n",
    "\n",
    "\n",
    "img2[15:45, 15:45] = [0,1,0]\n",
    "alpha2 = np.zeros((50, 50, 3))\n",
    "alpha2[15:45, 15:45]=1\n",
    "#alpha2=img2\n",
    "\n",
    "#img = img1*alpha1*(1-alpha2) + img2*alpha2\n",
    "img = img1*(1-alpha2) + img2 * alpha2\n",
    "plt.imshow(img)"
   ]
  }
 ],
 "metadata": {
  "kernelspec": {
   "display_name": "Python 2",
   "language": "python",
   "name": "python2"
  },
  "language_info": {
   "codemirror_mode": {
    "name": "ipython",
    "version": 2
   },
   "file_extension": ".py",
   "mimetype": "text/x-python",
   "name": "python",
   "nbconvert_exporter": "python",
   "pygments_lexer": "ipython2",
   "version": "2.7.12"
  }
 },
 "nbformat": 4,
 "nbformat_minor": 0
}
