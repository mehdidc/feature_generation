{
 "cells": [
  {
   "cell_type": "code",
   "execution_count": null,
   "metadata": {
    "collapsed": false
   },
   "outputs": [],
   "source": [
    "%matplotlib inline\n",
    "from lasagne import layers\n",
    "from lasagnekit.misc.plot_weights import dispims_color\n",
    "from skimage.io import imsave\n",
    "import sys, os\n",
    "sys.path.append(os.getcwd()+\"/..\")\n",
    "from tools.system.imgtovideo import imgs_to_video\n",
    "from data import load_data\n",
    "import matplotlib.pyplot as plt\n",
    "import numpy as np\n",
    "import theano\n",
    "import theano.tensor as T\n",
    "from lasagne import layers as L\n",
    "from lasagnekit.misc.plot_weights import dispims_color, tile_raster_images\n",
    "import pandas as pd\n",
    "\n",
    "from tqdm import tqdm\n",
    "import base64\n",
    "import json\n",
    "\n",
    "from skimage.io import imread, imsave\n",
    "from skimage.transform import resize\n",
    "\n",
    "from IPython.display import HTML, Image\n",
    "\n",
    "from model import model102, model103\n",
    "from tools.brushstroke.common import (\n",
    "    resize_set, load_model, get_bias, \n",
    "    get_scale, build_brush_func,\n",
    "    build_encode_func,\n",
    "    build_image_to_code_func,\n",
    "    build_code_to_image,\n",
    "    to_grid_of_images,\n",
    "    seq_to_video,\n",
    "    embed_video,\n",
    "    disp_grid,\n",
    "    prop_uniques,\n",
    "    hash_array,\n",
    "    normalize,\n",
    "    sigmoid,\n",
    "    build_pointer_images)\n",
    "from helpers import GenericBrushLayer"
   ]
  },
  {
   "cell_type": "code",
   "execution_count": null,
   "metadata": {
    "collapsed": false
   },
   "outputs": [],
   "source": [
    "n_steps = 2\n",
    "nb_features = 100\n",
    "inp = layers.InputLayer((None, n_steps, nb_features))\n",
    "patches = np.ones((1, 1, 4, 4))\n",
    "patches = patches.astype(np.float32)\n",
    "\n",
    "def nm(x):\n",
    "    x = x - x.min(axis=(2,3), keepdims=True)\n",
    "    x = x / (x.max(axis=(2,3), keepdims=True)+1e-10)\n",
    "    return x\n",
    "c = [\n",
    "    [1, 0, 0],\n",
    "    [0, 1, 0]\n",
    "]\n",
    "c = np.array(c)\n",
    "c = c.astype(np.float32)\n",
    "\n",
    "brush = GenericBrushLayer(\n",
    "    inp,\n",
    "    16, 16,\n",
    "    n_steps=n_steps,\n",
    "    patches=patches,\n",
    "    col='grayscale',\n",
    "    return_seq=True,\n",
    "    reduce_func=lambda x,y:x,\n",
    "    to_proba_func=T.nnet.softmax,\n",
    "    normalize_func=lambda x:x,\n",
    "    x_sigma=0.1,\n",
    "    y_sigma=0.1,\n",
    "    x_stride=1,\n",
    "    y_stride=1,\n",
    "    patch_index=0,\n",
    "    color=[1.],\n",
    "    color_min=0,\n",
    "    color_max=1,\n",
    "    x_min=0,\n",
    "    x_max=16,\n",
    "    y_min=0,\n",
    "    y_max=16,\n",
    "    w_left_pad=0,\n",
    "    w_right_pad=0,\n",
    "    h_left_pad=0,\n",
    "    h_right_pad=0,\n",
    "    stride_normalize=True,\n",
    "    coords='discrete',\n",
    "    eps=0)"
   ]
  },
  {
   "cell_type": "code",
   "execution_count": null,
   "metadata": {
    "collapsed": false
   },
   "outputs": [],
   "source": [
    "X = T.tensor3()\n",
    "fn = theano.function([X], layers.get_output(brush, X))\n",
    "print(brush.assign_)"
   ]
  },
  {
   "cell_type": "code",
   "execution_count": null,
   "metadata": {
    "collapsed": false
   },
   "outputs": [],
   "source": [
    "coord = np.zeros((9, 2, nb_features))\n",
    "coord[:, 0, 11]=1000\n",
    "\n",
    "coord[:, 1, 4]=1000\n",
    "coord[:, 1, 4]=1000\n",
    "\n",
    "\"\"\"\n",
    "coord[:, 0, 0] = 0.3\n",
    "coord[:, 0, 1] = 0.5\n",
    "\n",
    "coord[:, 1, 0] = 0.7\n",
    "coord[:, 1, 1] = 0.5\n",
    "\"\"\"\n",
    "\n",
    "coord = coord.astype(np.float32)\n",
    "y = fn(coord)\n",
    "a, b = y[:, 0], y[:, 1]\n",
    "y=a#+b*(a< (1e-5))\n",
    "img = disp_grid(y, border=1, bordercolor=(0.3,0,0))\n",
    "imsave('out.png', img)\n",
    "Image('out.png', width=400, height=400)"
   ]
  },
  {
   "cell_type": "code",
   "execution_count": null,
   "metadata": {
    "collapsed": false
   },
   "outputs": [],
   "source": [
    "print(b.min(), b.max())"
   ]
  },
  {
   "cell_type": "code",
   "execution_count": null,
   "metadata": {
    "collapsed": false
   },
   "outputs": [],
   "source": [
    "from data import load_data"
   ]
  },
  {
   "cell_type": "code",
   "execution_count": null,
   "metadata": {
    "collapsed": false
   },
   "outputs": [],
   "source": [
    "kw = {\n",
    "   \"pipeline\": [\n",
    "        {\"name\": \"toy\", \"params\": {\"nb\": 100, \"w\": 16, \"h\": 16, \"pw\": 4, \"ph\": 4, \"nb_patches\": 2}},\n",
    "        {\"name\": \"shuffle\", \"params\": {}},\n",
    "        {\"name\": \"normalize_shape\", \"params\": {}},\n",
    "        {\"name\": \"divide_by\", \"params\": {\"value\": 255}},\n",
    "        {\"name\": \"order\", \"params\": {\"order\": \"th\"}}\n",
    "    ]\n",
    "}\n",
    "data = load_data('loader', **kw)\n",
    "data.load()\n",
    "X = data.X"
   ]
  },
  {
   "cell_type": "code",
   "execution_count": null,
   "metadata": {
    "collapsed": false
   },
   "outputs": [],
   "source": [
    "data.load()\n",
    "print(X.min(), X.max())\n",
    "plt.imshow(disp_grid(X, border=1, bordercolor=(0.3,0,0)))"
   ]
  },
  {
   "cell_type": "code",
   "execution_count": null,
   "metadata": {
    "collapsed": false
   },
   "outputs": [],
   "source": [
    "lays = model103(w=16,h=16,c=1,n_steps=2)\n",
    "X = T.tensor4()\n",
    "fn = theano.function([X], layers.get_output(lays['raw_output'], X))"
   ]
  },
  {
   "cell_type": "code",
   "execution_count": null,
   "metadata": {
    "collapsed": false
   },
   "outputs": [],
   "source": [
    "br = theano.function([X], layers.get_output(lays['brush'], X))"
   ]
  },
  {
   "cell_type": "code",
   "execution_count": null,
   "metadata": {
    "collapsed": false
   },
   "outputs": [],
   "source": [
    "out = theano.function([X], layers.get_output(lays['output'], X))"
   ]
  },
  {
   "cell_type": "code",
   "execution_count": null,
   "metadata": {
    "collapsed": false
   },
   "outputs": [],
   "source": [
    "out(data.X).max()"
   ]
  }
 ],
 "metadata": {
  "kernelspec": {
   "display_name": "Python 2",
   "language": "python",
   "name": "python2"
  },
  "language_info": {
   "codemirror_mode": {
    "name": "ipython",
    "version": 2
   },
   "file_extension": ".py",
   "mimetype": "text/x-python",
   "name": "python",
   "nbconvert_exporter": "python",
   "pygments_lexer": "ipython2",
   "version": "2.7.12"
  }
 },
 "nbformat": 4,
 "nbformat_minor": 0
}
