{
 "cells": [
  {
   "cell_type": "code",
   "execution_count": 1,
   "metadata": {
    "collapsed": false
   },
   "outputs": [
    {
     "name": "stderr",
     "output_type": "stream",
     "text": [
      "/home/mcherti/work/code/external/scikit-learn/sklearn/cross_validation.py:43: DeprecationWarning: This module has been deprecated in favor of the model_selection module into which all the refactored classes and functions are moved. Also note that the interface of the new CV iterators are different from that of this module. This module will be removed in 0.20.\n",
      "  \"This module will be removed in 0.20.\", DeprecationWarning)\n",
      "/home/mcherti/miniconda/envs/databoard-env/lib/python2.7/site-packages/matplotlib/__init__.py:1357: UserWarning:  This call to matplotlib.use() has no effect\n",
      "because the backend has already been chosen;\n",
      "matplotlib.use() must be called *before* pylab, matplotlib.pyplot,\n",
      "or matplotlib.backends is imported for the first time.\n",
      "\n",
      "  warnings.warn(_use_error_msg)\n"
     ]
    },
    {
     "name": "stdout",
     "output_type": "stream",
     "text": [
      "Couldn't import dot_parser, loading of dot files will not be possible.\n"
     ]
    }
   ],
   "source": [
    "from lasagne import layers\n",
    "from lasagnekit.misc.plot_weights import dispims_color\n",
    "from skimage.io import imsave\n",
    "%matplotlib inline\n",
    "import sys, os\n",
    "sys.path.append(os.getcwd()+\"/..\")\n",
    "from tools.system.imgtovideo import imgs_to_video\n",
    "from data import load_data\n",
    "import matplotlib.pyplot as plt\n",
    "import numpy as np\n",
    "import theano\n",
    "import theano.tensor as T\n",
    "from lasagne import layers as L\n",
    "from lasagnekit.misc.plot_weights import dispims_color, tile_raster_images\n",
    "import pandas as pd\n",
    "\n",
    "from tqdm import tqdm\n",
    "import base64\n",
    "import json\n",
    "\n",
    "from skimage.io import imread, imsave\n",
    "from skimage.transform import resize\n",
    "\n",
    "from IPython.display import HTML, Image\n",
    "\n",
    "\n",
    "from tools.brushstroke.common import (\n",
    "    resize_set, load_model, get_bias, \n",
    "    get_scale, build_brush_func,\n",
    "    build_encode_func,\n",
    "    build_image_to_code_func,\n",
    "    build_code_to_image,\n",
    "    to_grid_of_images,\n",
    "    seq_to_video,\n",
    "    embed_video,\n",
    "    disp_grid,\n",
    "    prop_uniques,\n",
    "    hash_array,\n",
    "    normalize,\n",
    "    sigmoid,\n",
    "    build_pointer_images)\n",
    "from helpers import GenericBrushLayer"
   ]
  },
  {
   "cell_type": "code",
   "execution_count": 90,
   "metadata": {
    "collapsed": false
   },
   "outputs": [],
   "source": [
    "n_steps = 1\n",
    "nb_features = 13\n",
    "inp = layers.InputLayer((None, n_steps, nb_features))\n",
    "patches = np.ones((1, 3, 16, 16))\n",
    "patches = patches.astype(np.float32)\n",
    "brush = GenericBrushLayer(\n",
    "    inp,\n",
    "    16, 16,\n",
    "    n_steps=n_steps,\n",
    "    patches=patches,\n",
    "    col='rgb',\n",
    "    return_seq=False,\n",
    "    reduce_func=lambda x,y:x+y,\n",
    "    to_proba_func=T.nnet.softmax,\n",
    "    normalize_func=lambda x:x,\n",
    "    x_sigma=1,\n",
    "    y_sigma=1,\n",
    "    x_stride=1,\n",
    "    y_stride=1,\n",
    "    patch_index=0,\n",
    "    color='predicted',\n",
    "    color_min=0,\n",
    "    color_max=1,\n",
    "    x_min=0,\n",
    "    x_max='width',\n",
    "    y_min=0,\n",
    "    y_max='height',\n",
    "    w_left_pad='half_patch',\n",
    "    w_right_pad='half_patch',\n",
    "    h_left_pad='half_patch',\n",
    "    h_right_pad='half_patch',\n",
    "    eps=0)"
   ]
  },
  {
   "cell_type": "code",
   "execution_count": 91,
   "metadata": {
    "collapsed": false
   },
   "outputs": [
    {
     "name": "stdout",
     "output_type": "stream",
     "text": [
      "{'color': (2, 5), 'gy': 1, 'gx': 0}\n"
     ]
    }
   ],
   "source": [
    "X = T.tensor3()\n",
    "fn = theano.function([X], layers.get_output(brush, X))\n",
    "print(brush.assign_)"
   ]
  },
  {
   "cell_type": "code",
   "execution_count": 93,
   "metadata": {
    "collapsed": false
   },
   "outputs": [
    {
     "data": {
      "image/png": "[encoded data removed]",
      "text/plain": [
       "<IPython.core.display.Image object>"
      ]
     },
     "execution_count": 93,
     "metadata": {
      "image/png": {
       "height": 400,
       "width": 400
      }
     },
     "output_type": "execute_result"
    }
   ],
   "source": [
    "coord = np.zeros((9, 2, 7))\n",
    "coord[:, :, 0]=0.5\n",
    "coord[:, :, 1]=0.5\n",
    "\n",
    "coord[:, :, 2] = 1\n",
    "coord[:, :, 3] = 1\n",
    "\n",
    "coord[:, :, 4] = 1\n",
    "coord[:, :, 5] = 0\n",
    "coord[:, :, 6] = 0\n",
    "\n",
    "coord = coord.astype(np.float32)\n",
    "y = fn(coord)\n",
    "img = disp_grid(y, border=1, bordercolor=(0.3,0,0))\n",
    "imsave('out.png', img)\n",
    "Image('out.png', width=400, height=400)"
   ]
  }
 ],
 "metadata": {
  "kernelspec": {
   "display_name": "Python 2",
   "language": "python",
   "name": "python2"
  },
  "language_info": {
   "codemirror_mode": {
    "name": "ipython",
    "version": 2
   },
   "file_extension": ".py",
   "mimetype": "text/x-python",
   "name": "python",
   "nbconvert_exporter": "python",
   "pygments_lexer": "ipython2",
   "version": "2.7.12"
  }
 },
 "nbformat": 4,
 "nbformat_minor": 0
}
