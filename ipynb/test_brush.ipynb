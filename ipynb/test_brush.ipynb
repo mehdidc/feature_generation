{
 "cells": [
  {
   "cell_type": "code",
   "execution_count": 1,
   "metadata": {
    "collapsed": false
   },
   "outputs": [
    {
     "name": "stderr",
     "output_type": "stream",
     "text": [
      "/home/mcherti/work/code/external/scikit-learn/sklearn/cross_validation.py:43: DeprecationWarning: This module has been deprecated in favor of the model_selection module into which all the refactored classes and functions are moved. Also note that the interface of the new CV iterators are different from that of this module. This module will be removed in 0.20.\n",
      "  \"This module will be removed in 0.20.\", DeprecationWarning)\n",
      "/home/mcherti/miniconda/envs/databoard-env/lib/python2.7/site-packages/matplotlib/__init__.py:1357: UserWarning:  This call to matplotlib.use() has no effect\n",
      "because the backend has already been chosen;\n",
      "matplotlib.use() must be called *before* pylab, matplotlib.pyplot,\n",
      "or matplotlib.backends is imported for the first time.\n",
      "\n",
      "  warnings.warn(_use_error_msg)\n"
     ]
    },
    {
     "name": "stdout",
     "output_type": "stream",
     "text": [
      "Couldn't import dot_parser, loading of dot files will not be possible.\n"
     ]
    }
   ],
   "source": [
    "from lasagne import layers\n",
    "from lasagnekit.misc.plot_weights import dispims_color\n",
    "from skimage.io import imsave\n",
    "%matplotlib inline\n",
    "import sys, os\n",
    "sys.path.append(os.getcwd()+\"/..\")\n",
    "from tools.system.imgtovideo import imgs_to_video\n",
    "from data import load_data\n",
    "import matplotlib.pyplot as plt\n",
    "import numpy as np\n",
    "import theano\n",
    "import theano.tensor as T\n",
    "from lasagne import layers as L\n",
    "from lasagnekit.misc.plot_weights import dispims_color, tile_raster_images\n",
    "import pandas as pd\n",
    "\n",
    "from tqdm import tqdm\n",
    "import base64\n",
    "import json\n",
    "\n",
    "from skimage.io import imread, imsave\n",
    "from skimage.transform import resize\n",
    "\n",
    "from IPython.display import HTML, Image\n",
    "\n",
    "\n",
    "from tools.brushstroke.common import (\n",
    "    resize_set, load_model, get_bias, \n",
    "    get_scale, build_brush_func,\n",
    "    build_encode_func,\n",
    "    build_image_to_code_func,\n",
    "    build_code_to_image,\n",
    "    to_grid_of_images,\n",
    "    seq_to_video,\n",
    "    embed_video,\n",
    "    disp_grid,\n",
    "    prop_uniques,\n",
    "    hash_array,\n",
    "    normalize,\n",
    "    sigmoid,\n",
    "    build_pointer_images)\n",
    "from helpers import GenericBrushLayer"
   ]
  },
  {
   "cell_type": "code",
   "execution_count": 6,
   "metadata": {
    "collapsed": false
   },
   "outputs": [],
   "source": [
    "n_steps = 1\n",
    "nb_features = 13\n",
    "inp = layers.InputLayer((None, n_steps, nb_features))\n",
    "patches = np.ones((1, 1, 14, 14))\n",
    "patches = patches.astype(np.float32)\n",
    "brush = GenericBrushLayer(\n",
    "    inp,\n",
    "    16, 16,\n",
    "    n_steps=n_steps,\n",
    "    patches=patches,\n",
    "    col='grayscale',\n",
    "    return_seq=False,\n",
    "    reduce_func=lambda x,y:x+y,\n",
    "    to_proba_func=T.nnet.softmax,\n",
    "    normalize_func=lambda x:x,\n",
    "    x_sigma=1,\n",
    "    y_sigma=1,\n",
    "    x_stride=1,\n",
    "    y_stride=1,\n",
    "    patch_index=0,\n",
    "    color=[1.],\n",
    "    x_min=0,\n",
    "    x_max='width',\n",
    "    y_min=0,\n",
    "    y_max='height',\n",
    "    w_left_pad='half_patch',\n",
    "    w_right_pad='half_patch',\n",
    "    h_left_pad='half_patch',\n",
    "    h_right_pad='half_patch',\n",
    "    eps=0)"
   ]
  },
  {
   "cell_type": "code",
   "execution_count": 7,
   "metadata": {
    "collapsed": false
   },
   "outputs": [],
   "source": [
    "X = T.tensor3()\n",
    "fn = theano.function([X], layers.get_output(brush, X))"
   ]
  },
  {
   "cell_type": "code",
   "execution_count": 10,
   "metadata": {
    "collapsed": false
   },
   "outputs": [
    {
     "data": {
      "image/png": "[encoded data removed]",
      "text/plain": [
       "<IPython.core.display.Image object>"
      ]
     },
     "execution_count": 10,
     "metadata": {
      "image/png": {
       "height": 400,
       "width": 400
      }
     },
     "output_type": "execute_result"
    }
   ],
   "source": [
    "coord = np.zeros((9, n_steps, nb_features))\n",
    "coord[:, :, 0]=1\n",
    "coord[:, :, 1]=1\n",
    "coord = coord.astype(np.float32)\n",
    "y = fn(coord)\n",
    "img = disp_grid(y, border=1, bordercolor=(0.3,0,0))\n",
    "imsave('out.png', img)\n",
    "Image('out.png', width=400, height=400)"
   ]
  },
  {
   "cell_type": "code",
   "execution_count": 11,
   "metadata": {
    "collapsed": false
   },
   "outputs": [],
   "source": [
    "w = 17\n",
    "h = 17\n",
    "pw = 14\n",
    "ph = 14\n",
    "\n",
    "gx = np.array(\n",
    "    [8]\n",
    ")\n",
    "gy = np.array(\n",
    "    [8]\n",
    ")\n",
    "sx = np.array(\n",
    "    [1]\n",
    ")\n",
    "sy = np.array(\n",
    "    [1]\n",
    ")\n",
    "\n",
    "x_sigma = np.array(\n",
    "    [0.5]\n",
    ")\n",
    "\n",
    "y_sigma = np.array(\n",
    "    [0.5]\n",
    ")\n",
    "\n",
    "w_left_pad = 5\n",
    "w_right_pad = 5\n",
    "a, _ = np.indices((w + w_right_pad + w_left_pad, pw)) - w_left_pad\n",
    "a = a.T\n",
    "\n",
    "h_left_pad = 5\n",
    "h_right_pad = 5\n",
    "b, _ = np.indices((h + h_left_pad + h_right_pad, ph)) - h_left_pad\n",
    "b = b.T\n",
    "\n",
    "ux = (gx[:, None] +\n",
    "      (np.arange(1, pw + 1) - pw/2. - 0.5) * sx[:, None])\n",
    "# shape of ux : (nb_examples, pw)\n",
    "a_ = a[None, :, :]\n",
    "ux_ = ux[:, :, None]\n",
    "\n",
    "x_sigma_ = x_sigma[:, None, None]\n",
    "y_sigma_ = y_sigma[:, None, None]\n",
    "\n",
    "Fx = np.exp(-(a_ - ux_) ** 2 / (2 * x_sigma_ ** 2))\n",
    "Fx = Fx / (Fx.sum(axis=2, keepdims=True))\n",
    "Fx = Fx[:, :, w_left_pad:-w_right_pad]\n",
    "\n",
    "uy = (gy[:, None] +\n",
    "      (np.arange(1, ph + 1) - ph/2. - 0.5) * sy[:, None])\n",
    "# shape of uy : (nb_examples, ph)\n",
    "b_ = b[None, :, :]\n",
    "uy_ = uy[:, :, None]\n",
    "Fy = np.exp(-(b_ - uy_) ** 2 / (2 * y_sigma_ ** 2))\n",
    "# shape of Fy : (nb_examples, ph, h)\n",
    "Fy = Fy / (Fy.sum(axis=2, keepdims=True) )\n",
    "Fy = Fy[:, :, w_left_pad:-w_right_pad]"
   ]
  },
  {
   "cell_type": "code",
   "execution_count": 12,
   "metadata": {
    "collapsed": false
   },
   "outputs": [
    {
     "name": "stdout",
     "output_type": "stream",
     "text": [
      "((1, 14, 17), (1, 14, 17))\n"
     ]
    },
    {
     "data": {
      "text/plain": [
       "<matplotlib.image.AxesImage at 0x7f1246420790>"
      ]
     },
     "execution_count": 12,
     "metadata": {},
     "output_type": "execute_result"
    },
    {
     "data": {
      "image/png": "[encoded data removed]",
      "text/plain": [
       "<matplotlib.figure.Figure at 0x7f124b582910>"
      ]
     },
     "metadata": {},
     "output_type": "display_data"
    }
   ],
   "source": [
    "print(Fy.shape, Fx.shape)\n",
    "p = np.ones((ph, pw))\n",
    "img = np.dot(p, Fy[0])\n",
    "img = np.dot(img.T, Fx[0])\n",
    "plt.imshow(img, cmap='gray')"
   ]
  }
 ],
 "metadata": {
  "kernelspec": {
   "display_name": "Python 2",
   "language": "python",
   "name": "python2"
  },
  "language_info": {
   "codemirror_mode": {
    "name": "ipython",
    "version": 2
   },
   "file_extension": ".py",
   "mimetype": "text/x-python",
   "name": "python",
   "nbconvert_exporter": "python",
   "pygments_lexer": "ipython2",
   "version": "2.7.12"
  }
 },
 "nbformat": 4,
 "nbformat_minor": 0
}
