{
 "cells": [
  {
   "cell_type": "code",
   "execution_count": null,
   "metadata": {
    "collapsed": false
   },
   "outputs": [],
   "source": [
    "%matplotlib inline\n",
    "from lasagne import layers\n",
    "from lasagnekit.misc.plot_weights import dispims_color\n",
    "from skimage.io import imsave\n",
    "import sys, os\n",
    "sys.path.append(os.getcwd()+\"/..\")\n",
    "from tools.system.imgtovideo import imgs_to_video\n",
    "from data import load_data\n",
    "import matplotlib.pyplot as plt\n",
    "import numpy as np\n",
    "import theano\n",
    "import theano.tensor as T\n",
    "from lasagne import layers as L\n",
    "from lasagnekit.misc.plot_weights import dispims_color, tile_raster_images\n",
    "import pandas as pd\n",
    "\n",
    "from tqdm import tqdm\n",
    "import base64\n",
    "import json\n",
    "\n",
    "from skimage.io import imread, imsave\n",
    "from skimage.transform import resize\n",
    "\n",
    "from IPython.display import HTML, Image\n",
    "\n",
    "\n",
    "from tools.brushstroke.common import (\n",
    "    resize_set, load_model, get_bias, \n",
    "    get_scale, build_brush_func,\n",
    "    build_encode_func,\n",
    "    build_image_to_code_func,\n",
    "    build_code_to_image,\n",
    "    to_grid_of_images,\n",
    "    seq_to_video,\n",
    "    embed_video,\n",
    "    disp_grid,\n",
    "    prop_uniques,\n",
    "    hash_array,\n",
    "    normalize,\n",
    "    sigmoid,\n",
    "    build_pointer_images)\n",
    "from helpers import GenericBrushLayer"
   ]
  },
  {
   "cell_type": "code",
   "execution_count": null,
   "metadata": {
    "collapsed": false
   },
   "outputs": [],
   "source": [
    "n_steps = 2\n",
    "nb_features = 13\n",
    "inp = layers.InputLayer((None, n_steps, nb_features))\n",
    "patches = np.ones((1, 3, 16, 16))\n",
    "patches = patches.astype(np.float32)\n",
    "\n",
    "def nm(x):\n",
    "    x = x - x.min(axis=(2,3), keepdims=True)\n",
    "    x = x / (x.max(axis=(2,3), keepdims=True)+1e-10)\n",
    "    return x\n",
    "\n",
    "brush = GenericBrushLayer(\n",
    "    inp,\n",
    "    16, 16,\n",
    "    n_steps=n_steps,\n",
    "    patches=patches,\n",
    "    col='rgb',\n",
    "    return_seq=False,\n",
    "    reduce_func=lambda x,y:x+y,\n",
    "    to_proba_func=T.nnet.softmax,\n",
    "    normalize_func=lambda x:x,\n",
    "    x_sigma=0.1,\n",
    "    y_sigma=0.1,\n",
    "    x_stride='predicted',\n",
    "    y_stride='predicted',\n",
    "    patch_index=0,\n",
    "    color='predicted',\n",
    "    color_min=-1,\n",
    "    color_max=1,\n",
    "    x_min=0,\n",
    "    x_max='width',\n",
    "    y_min=0,\n",
    "    y_max='height',\n",
    "    w_left_pad='half_patch',\n",
    "    w_right_pad='half_patch',\n",
    "    h_left_pad='half_patch',\n",
    "    h_right_pad='half_patch',\n",
    "    stride_normalize=True,\n",
    "    eps=0)"
   ]
  },
  {
   "cell_type": "code",
   "execution_count": null,
   "metadata": {
    "collapsed": false
   },
   "outputs": [],
   "source": [
    "X = T.tensor3()\n",
    "fn = theano.function([X], layers.get_output(brush, X))\n",
    "print(brush.assign_)"
   ]
  },
  {
   "cell_type": "code",
   "execution_count": null,
   "metadata": {
    "collapsed": false
   },
   "outputs": [],
   "source": [
    "coord = np.zeros((9, 2, 7))\n",
    "\n",
    "coord[:, 0, 0]=0.5\n",
    "coord[:, 0, 1]=0.5\n",
    "\n",
    "coord[:, 0, 2] = 1\n",
    "coord[:, 0, 3] = 1\n",
    "\n",
    "coord[:, 0, 4] = 1\n",
    "coord[:, 0, 5] = 0\n",
    "coord[:, 0, 6] = 0\n",
    "\n",
    "coord[:, 1, 0] = 0.5\n",
    "coord[:, 1, 1] = 0.5\n",
    "\n",
    "coord[:, 1, 2] = 0.2\n",
    "coord[:, 1, 3] = 0.2\n",
    "\n",
    "coord[:, 1, 4] = -1\n",
    "coord[:, 1, 5] = 1\n",
    "coord[:, 1, 6] = 0\n",
    "\n",
    "coord = coord.astype(np.float32)\n",
    "y = fn(coord)\n",
    "img = disp_grid(y, border=1, bordercolor=(0.3,0,0))\n",
    "imsave('out.png', img)\n",
    "Image('out.png', width=400, height=400)"
   ]
  }
 ],
 "metadata": {
  "kernelspec": {
   "display_name": "Python 2",
   "language": "python",
   "name": "python2"
  },
  "language_info": {
   "codemirror_mode": {
    "name": "ipython",
    "version": 2
   },
   "file_extension": ".py",
   "mimetype": "text/x-python",
   "name": "python",
   "nbconvert_exporter": "python",
   "pygments_lexer": "ipython2",
   "version": "2.7.12"
  }
 },
 "nbformat": 4,
 "nbformat_minor": 0
}
