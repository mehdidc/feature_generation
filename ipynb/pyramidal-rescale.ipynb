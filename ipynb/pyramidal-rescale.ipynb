{
 "cells": [
  {
   "cell_type": "code",
   "execution_count": null,
   "metadata": {
    "collapsed": false
   },
   "outputs": [],
   "source": [
    "import os\n",
    "import sys\n",
    "os.environ[\"THEANO_FLAGS\"] = \"device=gpu\"\n",
    "sys.path.append(os.getcwd()+\"/..\")\n",
    "from tasks import check"
   ]
  },
  {
   "cell_type": "code",
   "execution_count": null,
   "metadata": {
    "collapsed": false
   },
   "outputs": [],
   "source": [
    "from model import model53, model54"
   ]
  },
  {
   "cell_type": "code",
   "execution_count": null,
   "metadata": {
    "collapsed": false
   },
   "outputs": [],
   "source": [
    "all_layers = model54(nb_filters=512, w=32, h=32, c=3)"
   ]
  },
  {
   "cell_type": "code",
   "execution_count": null,
   "metadata": {
    "collapsed": false
   },
   "outputs": [],
   "source": [
    "import theano.tensor as T\n",
    "import theano\n",
    "from lasagne import layers\n",
    "\n",
    "X_scale1 = T.tensor4()\n",
    "X_scale2 = T.tensor4()\n",
    "X_scale3 = T.tensor4()\n",
    "X_scale4 = T.tensor4()\n",
    "\n",
    "X_scale1_out = T.tensor4()\n",
    "X_scale2_out = T.tensor4()\n",
    "X_scale3_out = T.tensor4()\n",
    "X_scale4_out = T.tensor4()\n",
    "\n",
    "\n",
    "input_tensors = [X_scale4]\n",
    "output_tensors = [X_scale1]\n",
    "\n",
    "input_layers = [\"input\"]\n",
    "output_layers = [\"output\"]\n",
    "\n",
    "inputs = {all_layers[l]: t for t, l in zip(input_tensors, input_layers)}\n",
    "outputs = map(lambda name:all_layers[name], output_layers)\n",
    "\n",
    "output_pred_tensors = layers.get_output(outputs, inputs)\n",
    "lambdas = [1]\n",
    "loss = 0\n",
    "for outp, outp_pred, lambda_ in zip(output_tensors, output_pred_tensors, lambdas):\n",
    "    loss += ((outp_pred - outp) ** 2).mean() * lambda_"
   ]
  },
  {
   "cell_type": "code",
   "execution_count": null,
   "metadata": {
    "collapsed": false
   },
   "outputs": [],
   "source": [
    "from lasagne import updates\n",
    "import numpy as np\n",
    "params = layers.get_all_params(all_layers.values(), trainable=True)\n",
    "print(\"Number of params : {}\".format(layers.count_params(all_layers.values(), trainable=True))) \n",
    "lr = theano.shared(np.array(0.1, dtype=theano.config.floatX))\n",
    "params_updates = updates.adam(loss, params, learning_rate=lr)"
   ]
  },
  {
   "cell_type": "code",
   "execution_count": null,
   "metadata": {
    "collapsed": false
   },
   "outputs": [],
   "source": [
    "from lasagnekit.misc.draw_net import draw_to_file\n",
    "from IPython.display import SVG\n",
    "draw_to_file(layers.get_all_layers(all_layers['output']), 'out.svg')\n",
    "SVG('out.svg')"
   ]
  },
  {
   "cell_type": "code",
   "execution_count": null,
   "metadata": {
    "collapsed": false
   },
   "outputs": [],
   "source": [
    "train_fn = theano.function(input_tensors + output_tensors, loss, updates=params_updates, on_unused_input='warn')"
   ]
  },
  {
   "cell_type": "code",
   "execution_count": null,
   "metadata": {
    "collapsed": false
   },
   "outputs": [],
   "source": [
    "predict_fn = theano.function(input_tensors, output_pred_tensors, on_unused_input='warn')"
   ]
  },
  {
   "cell_type": "code",
   "execution_count": null,
   "metadata": {
    "collapsed": false
   },
   "outputs": [],
   "source": [
    "from data import load_data\n",
    "from lasagnekit.datasets.rescaled import Rescaled\n",
    "from lasagnekit.easy import iterate_minibatches\n",
    "from lasagnekit.datasets.imagecollection import ImageCollection\n",
    "from lasagnekit.datasets.transformed import Transformed\n",
    "w, h = 32, 32\n",
    "scale = {1: 32, 2: 16, 3: 8, 4: 4}\n",
    "batch_size = 128\n",
    "\n",
    "c = 3\n",
    "folder = \"{}/icons\".format(os.getenv(\"DATA_PATH\"))\n",
    "data_scale1 = ImageCollection(size=(w, h), nb=1535, mode='all', folder=folder)\n",
    "\n",
    "def preprocess(x, s=32):\n",
    "    x = x.reshape((x.shape[0], s, s, c))\n",
    "    x = x.transpose((0, 3, 1, 2))\n",
    "    return x\n",
    "data_scale1.load()"
   ]
  },
  {
   "cell_type": "code",
   "execution_count": null,
   "metadata": {
    "collapsed": false
   },
   "outputs": [],
   "source": [
    "print(all_layers['output'].output_shape)"
   ]
  },
  {
   "cell_type": "code",
   "execution_count": null,
   "metadata": {
    "collapsed": false
   },
   "outputs": [],
   "source": [
    "lr.set_value(0.01)\n",
    "loss_list = []\n",
    "for i in range(10000):\n",
    "        \n",
    "    X_scale1 = preprocess(data_scale1.X, s=scale[1])\n",
    "\n",
    "    total_loss = 0.\n",
    "    for mini_batch in iterate_minibatches(len(data_scale1.X), batch_size):\n",
    "        loss_val = train_fn(X_scale1[mini_batch], X_scale1[mini_batch])\n",
    "        total_loss += loss_val\n",
    "    print(total_loss)\n",
    "    loss_list.append(total_loss)\n",
    "plt.plot(loss_list)"
   ]
  },
  {
   "cell_type": "code",
   "execution_count": null,
   "metadata": {
    "collapsed": false
   },
   "outputs": [],
   "source": [
    "out1, = predict_fn(X_scale1)"
   ]
  },
  {
   "cell_type": "code",
   "execution_count": null,
   "metadata": {
    "collapsed": false
   },
   "outputs": [],
   "source": [
    "%matplotlib inline\n",
    "import matplotlib.pyplot as plt\n",
    "from lasagnekit.misc.plot_weights import dispims_color\n",
    "fig = plt.figure(figsize=(10, 10))\n",
    "img = dispims_color(out1[0:100].transpose((0, 2, 3, 1)),border=1)\n",
    "plt.imshow(img, interpolation='none')"
   ]
  },
  {
   "cell_type": "code",
   "execution_count": null,
   "metadata": {
    "collapsed": false
   },
   "outputs": [],
   "source": [
    "ss = np.random.uniform(size=(100, c, 32, 32))\n",
    "ss = ss.astype(np.float32)\n",
    "for i in range(100):\n",
    "    ss, = predict_fn(ss)\n",
    "    \n",
    "%matplotlib inline\n",
    "import matplotlib.pyplot as plt\n",
    "from lasagnekit.misc.plot_weights import dispims_color\n",
    "fig = plt.figure(figsize=(10, 10))\n",
    "img = dispims_color(ss[0:100].transpose((0, 2, 3, 1)),border=1)\n",
    "plt.axis('off')\n",
    "plt.imshow(img, interpolation='none')"
   ]
  },
  {
   "cell_type": "code",
   "execution_count": null,
   "metadata": {
    "collapsed": true
   },
   "outputs": [],
   "source": []
  },
  {
   "cell_type": "code",
   "execution_count": null,
   "metadata": {
    "collapsed": true
   },
   "outputs": [],
   "source": []
  }
 ],
 "metadata": {
  "kernelspec": {
   "display_name": "Python 2",
   "language": "python",
   "name": "python2"
  },
  "language_info": {
   "codemirror_mode": {
    "name": "ipython",
    "version": 2
   },
   "file_extension": ".py",
   "mimetype": "text/x-python",
   "name": "python",
   "nbconvert_exporter": "python",
   "pygments_lexer": "ipython2",
   "version": "2.7.11"
  }
 },
 "nbformat": 4,
 "nbformat_minor": 0
}
