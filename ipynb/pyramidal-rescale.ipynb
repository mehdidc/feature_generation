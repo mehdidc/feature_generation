{
 "cells": [
  {
   "cell_type": "code",
   "execution_count": 1,
   "metadata": {
    "collapsed": false
   },
   "outputs": [
    {
     "name": "stderr",
     "output_type": "stream",
     "text": [
      "/home/mcherti/miniconda/envs/databoard-env/lib/python2.7/site-packages/matplotlib/__init__.py:1350: UserWarning:  This call to matplotlib.use() has no effect\n",
      "because the backend has already been chosen;\n",
      "matplotlib.use() must be called *before* pylab, matplotlib.pyplot,\n",
      "or matplotlib.backends is imported for the first time.\n",
      "\n",
      "  warnings.warn(_use_error_msg)\n",
      "Using gpu device 0: Tesla K20Xm (CNMeM is disabled, CuDNN 3007)\n",
      "/home/mcherti/work/code/scikit-learn/sklearn/cross_validation.py:42: DeprecationWarning: This module has been deprecated in favor of the model_selection module into which all the refactored classes and functions are moved. Also note that the interface of the new CV iterators are different from that of this module. This module will be removed in 0.19.\n",
      "  \"This module will be removed in 0.19.\", DeprecationWarning)\n"
     ]
    },
    {
     "name": "stdout",
     "output_type": "stream",
     "text": [
      "Couldn't import dot_parser, loading of dot files will not be possible.\n"
     ]
    }
   ],
   "source": [
    "%matplotlib inline\n",
    "import matplotlib.pyplot as plt\n",
    "import os\n",
    "import sys\n",
    "os.environ[\"THEANO_FLAGS\"] = \"device=gpu\"\n",
    "sys.path.append(os.getcwd()+\"/..\")\n",
    "from tasks import check"
   ]
  },
  {
   "cell_type": "code",
   "execution_count": 2,
   "metadata": {
    "collapsed": false
   },
   "outputs": [],
   "source": [
    "from model import model60"
   ]
  },
  {
   "cell_type": "code",
   "execution_count": 3,
   "metadata": {
    "collapsed": false
   },
   "outputs": [],
   "source": [
    "all_layers = model60(nb_filters=64, w=96, h=96, c=3, nb_layers=10, block_size=3)"
   ]
  },
  {
   "cell_type": "code",
   "execution_count": 4,
   "metadata": {
    "collapsed": false
   },
   "outputs": [],
   "source": [
    "import theano.tensor as T\n",
    "import theano\n",
    "from lasagne import layers\n",
    "\n",
    "X = T.tensor4()\n",
    "Y = T.tensor4()\n",
    "\n",
    "Y_pred = (layers.get_output(all_layers['output'], X))\n",
    "loss = ((Y_pred - Y) ** 2).mean()"
   ]
  },
  {
   "cell_type": "code",
   "execution_count": 5,
   "metadata": {
    "collapsed": false
   },
   "outputs": [
    {
     "name": "stdout",
     "output_type": "stream",
     "text": [
      "Number of params : 335875\n"
     ]
    }
   ],
   "source": [
    "from lasagne import updates\n",
    "import numpy as np\n",
    "params = layers.get_all_params(all_layers.values(), trainable=True)\n",
    "print(\"Number of params : {}\".format(layers.count_params(all_layers.values(), trainable=True))) \n",
    "lr = theano.shared(np.array(0.1, dtype=theano.config.floatX))\n",
    "params_updates = updates.rmsprop(loss, params, learning_rate=lr)"
   ]
  },
  {
   "cell_type": "code",
   "execution_count": 6,
   "metadata": {
    "collapsed": false
   },
   "outputs": [
    {
     "data": {
      "image/svg+xml": [
       "<svg height=\"1937pt\" viewBox=\"0.00 0.00 336.29 1937.00\" width=\"336pt\" xmlns=\"http://www.w3.org/2000/svg\" xmlns:xlink=\"http://www.w3.org/1999/xlink\">\n",
       "<g class=\"graph\" id=\"graph0\" transform=\"scale(1 1) rotate(0) translate(4 1933)\">\n",
       "<title>Network</title>\n",
       "<polygon fill=\"white\" points=\"-4,4 -4,-1933 332.295,-1933 332.295,4 -4,4\" stroke=\"none\"/>\n",
       "<!-- lasagne.layers.conv.Conv2DLayer object at 0x7f06ffbf5750 -->\n",
       "<g class=\"node\" id=\"node1\"><title>lasagne.layers.conv.Conv2DLayer object at 0x7f06ffbf5750</title>\n",
       "<polygon fill=\"#7c9abb\" points=\"128,-393.5 128,-435.1 328.295,-435.1 328.295,-393.5 128,-393.5\" stroke=\"black\"/>\n",
       "<text font-family=\"Times,serif\" font-size=\"14.00\" text-anchor=\"middle\" x=\"228.147\" y=\"-418.5\">Conv2DLayer</text>\n",
       "<text font-family=\"Times,serif\" font-size=\"14.00\" text-anchor=\"middle\" x=\"228.147\" y=\"-401.7\">Output shape: (None, 64, 96, 96)</text>\n",
       "</g>\n",
       "<!-- lasagne.layers.special.NonlinearityLayer object at 0x7f06ffbf5410 -->\n",
       "<g class=\"node\" id=\"node13\"><title>lasagne.layers.special.NonlinearityLayer object at 0x7f06ffbf5410</title>\n",
       "<polygon fill=\"#7f0cd0\" points=\"128,-314.9 128,-356.5 328.295,-356.5 328.295,-314.9 128,-314.9\" stroke=\"black\"/>\n",
       "<text font-family=\"Times,serif\" font-size=\"14.00\" text-anchor=\"middle\" x=\"228.147\" y=\"-339.9\">NonlinearityLayer</text>\n",
       "<text font-family=\"Times,serif\" font-size=\"14.00\" text-anchor=\"middle\" x=\"228.147\" y=\"-323.1\">Output shape: (None, 64, 96, 96)</text>\n",
       "</g>\n",
       "<!-- lasagne.layers.conv.Conv2DLayer object at 0x7f06ffbf5750&#45;&gt;lasagne.layers.special.NonlinearityLayer object at 0x7f06ffbf5410 -->\n",
       "<g class=\"edge\" id=\"edge22\"><title>lasagne.layers.conv.Conv2DLayer object at 0x7f06ffbf5750-&gt;lasagne.layers.special.NonlinearityLayer object at 0x7f06ffbf5410</title>\n",
       "<path d=\"M228.147,-393.174C228.147,-385.082 228.147,-375.58 228.147,-366.703\" fill=\"none\" stroke=\"black\"/>\n",
       "<polygon fill=\"black\" points=\"231.647,-366.691 228.147,-356.691 224.647,-366.691 231.647,-366.691\" stroke=\"black\"/>\n",
       "</g>\n",
       "<!-- lasagne.layers.special.NonlinearityLayer object at 0x7f06ffbf5b10 -->\n",
       "<g class=\"node\" id=\"node2\"><title>lasagne.layers.special.NonlinearityLayer object at 0x7f06ffbf5b10</title>\n",
       "<polygon fill=\"#7f0cd0\" points=\"64,-79.1 64,-120.7 264.295,-120.7 264.295,-79.1 64,-79.1\" stroke=\"black\"/>\n",
       "<text font-family=\"Times,serif\" font-size=\"14.00\" text-anchor=\"middle\" x=\"164.147\" y=\"-104.1\">NonlinearityLayer</text>\n",
       "<text font-family=\"Times,serif\" font-size=\"14.00\" text-anchor=\"middle\" x=\"164.147\" y=\"-87.3\">Output shape: (None, 64, 96, 96)</text>\n",
       "</g>\n",
       "<!-- lasagne.layers.conv.Conv2DLayer object at 0x7f06ffbf5e50 -->\n",
       "<g class=\"node\" id=\"node9\"><title>lasagne.layers.conv.Conv2DLayer object at 0x7f06ffbf5e50</title>\n",
       "<polygon fill=\"#7c9abb\" points=\"67.5,-0.5 67.5,-42.1 260.795,-42.1 260.795,-0.5 67.5,-0.5\" stroke=\"black\"/>\n",
       "<text font-family=\"Times,serif\" font-size=\"14.00\" text-anchor=\"middle\" x=\"164.147\" y=\"-25.5\">output, Conv2DLayer</text>\n",
       "<text font-family=\"Times,serif\" font-size=\"14.00\" text-anchor=\"middle\" x=\"164.147\" y=\"-8.7\">Output shape: (None, 3, 96, 96)</text>\n",
       "</g>\n",
       "<!-- lasagne.layers.special.NonlinearityLayer object at 0x7f06ffbf5b10&#45;&gt;lasagne.layers.conv.Conv2DLayer object at 0x7f06ffbf5e50 -->\n",
       "<g class=\"edge\" id=\"edge27\"><title>lasagne.layers.special.NonlinearityLayer object at 0x7f06ffbf5b10-&gt;lasagne.layers.conv.Conv2DLayer object at 0x7f06ffbf5e50</title>\n",
       "<path d=\"M164.147,-78.7743C164.147,-70.6819 164.147,-61.1803 164.147,-52.3033\" fill=\"none\" stroke=\"black\"/>\n",
       "<polygon fill=\"black\" points=\"167.647,-52.2913 164.147,-42.2913 160.647,-52.2914 167.647,-52.2913\" stroke=\"black\"/>\n",
       "</g>\n",
       "<!-- lasagne.layers.merge.ElemwiseSumLayer object at 0x7f070017a1d0 -->\n",
       "<g class=\"node\" id=\"node3\"><title>lasagne.layers.merge.ElemwiseSumLayer object at 0x7f070017a1d0</title>\n",
       "<polygon fill=\"#bf9301\" points=\"0,-1258.1 0,-1299.7 200.295,-1299.7 200.295,-1258.1 0,-1258.1\" stroke=\"black\"/>\n",
       "<text font-family=\"Times,serif\" font-size=\"14.00\" text-anchor=\"middle\" x=\"100.147\" y=\"-1283.1\">ElemwiseSumLayer</text>\n",
       "<text font-family=\"Times,serif\" font-size=\"14.00\" text-anchor=\"middle\" x=\"100.147\" y=\"-1266.3\">Output shape: (None, 64, 96, 96)</text>\n",
       "</g>\n",
       "<!-- lasagne.layers.special.NonlinearityLayer object at 0x7f070017a550 -->\n",
       "<g class=\"node\" id=\"node22\"><title>lasagne.layers.special.NonlinearityLayer object at 0x7f070017a550</title>\n",
       "<polygon fill=\"#7f0cd0\" points=\"0,-1179.5 0,-1221.1 200.295,-1221.1 200.295,-1179.5 0,-1179.5\" stroke=\"black\"/>\n",
       "<text font-family=\"Times,serif\" font-size=\"14.00\" text-anchor=\"middle\" x=\"100.147\" y=\"-1204.5\">NonlinearityLayer</text>\n",
       "<text font-family=\"Times,serif\" font-size=\"14.00\" text-anchor=\"middle\" x=\"100.147\" y=\"-1187.7\">Output shape: (None, 64, 96, 96)</text>\n",
       "</g>\n",
       "<!-- lasagne.layers.merge.ElemwiseSumLayer object at 0x7f070017a1d0&#45;&gt;lasagne.layers.special.NonlinearityLayer object at 0x7f070017a550 -->\n",
       "<g class=\"edge\" id=\"edge10\"><title>lasagne.layers.merge.ElemwiseSumLayer object at 0x7f070017a1d0-&gt;lasagne.layers.special.NonlinearityLayer object at 0x7f070017a550</title>\n",
       "<path d=\"M100.147,-1257.77C100.147,-1249.68 100.147,-1240.18 100.147,-1231.3\" fill=\"none\" stroke=\"black\"/>\n",
       "<polygon fill=\"black\" points=\"103.647,-1231.29 100.147,-1221.29 96.6474,-1231.29 103.647,-1231.29\" stroke=\"black\"/>\n",
       "</g>\n",
       "<!-- lasagne.layers.special.NonlinearityLayer object at 0x7f06ffbf5050 -->\n",
       "<g class=\"node\" id=\"node4\"><title>lasagne.layers.special.NonlinearityLayer object at 0x7f06ffbf5050</title>\n",
       "<polygon fill=\"#7f0cd0\" points=\"128,-629.3 128,-670.9 328.295,-670.9 328.295,-629.3 128,-629.3\" stroke=\"black\"/>\n",
       "<text font-family=\"Times,serif\" font-size=\"14.00\" text-anchor=\"middle\" x=\"228.147\" y=\"-654.3\">NonlinearityLayer</text>\n",
       "<text font-family=\"Times,serif\" font-size=\"14.00\" text-anchor=\"middle\" x=\"228.147\" y=\"-637.5\">Output shape: (None, 64, 96, 96)</text>\n",
       "</g>\n",
       "<!-- lasagne.layers.conv.Conv2DLayer object at 0x7f06ffbf53d0 -->\n",
       "<g class=\"node\" id=\"node5\"><title>lasagne.layers.conv.Conv2DLayer object at 0x7f06ffbf53d0</title>\n",
       "<polygon fill=\"#7c9abb\" points=\"128,-550.7 128,-592.3 328.295,-592.3 328.295,-550.7 128,-550.7\" stroke=\"black\"/>\n",
       "<text font-family=\"Times,serif\" font-size=\"14.00\" text-anchor=\"middle\" x=\"228.147\" y=\"-575.7\">Conv2DLayer</text>\n",
       "<text font-family=\"Times,serif\" font-size=\"14.00\" text-anchor=\"middle\" x=\"228.147\" y=\"-558.9\">Output shape: (None, 64, 96, 96)</text>\n",
       "</g>\n",
       "<!-- lasagne.layers.special.NonlinearityLayer object at 0x7f06ffbf5050&#45;&gt;lasagne.layers.conv.Conv2DLayer object at 0x7f06ffbf53d0 -->\n",
       "<g class=\"edge\" id=\"edge19\"><title>lasagne.layers.special.NonlinearityLayer object at 0x7f06ffbf5050-&gt;lasagne.layers.conv.Conv2DLayer object at 0x7f06ffbf53d0</title>\n",
       "<path d=\"M228.147,-628.974C228.147,-620.882 228.147,-611.38 228.147,-602.503\" fill=\"none\" stroke=\"black\"/>\n",
       "<polygon fill=\"black\" points=\"231.647,-602.491 228.147,-592.491 224.647,-602.491 231.647,-602.491\" stroke=\"black\"/>\n",
       "</g>\n",
       "<!-- lasagne.layers.special.NonlinearityLayer object at 0x7f06ffbf5390 -->\n",
       "<g class=\"node\" id=\"node21\"><title>lasagne.layers.special.NonlinearityLayer object at 0x7f06ffbf5390</title>\n",
       "<polygon fill=\"#7f0cd0\" points=\"128,-472.1 128,-513.7 328.295,-513.7 328.295,-472.1 128,-472.1\" stroke=\"black\"/>\n",
       "<text font-family=\"Times,serif\" font-size=\"14.00\" text-anchor=\"middle\" x=\"228.147\" y=\"-497.1\">NonlinearityLayer</text>\n",
       "<text font-family=\"Times,serif\" font-size=\"14.00\" text-anchor=\"middle\" x=\"228.147\" y=\"-480.3\">Output shape: (None, 64, 96, 96)</text>\n",
       "</g>\n",
       "<!-- lasagne.layers.conv.Conv2DLayer object at 0x7f06ffbf53d0&#45;&gt;lasagne.layers.special.NonlinearityLayer object at 0x7f06ffbf5390 -->\n",
       "<g class=\"edge\" id=\"edge20\"><title>lasagne.layers.conv.Conv2DLayer object at 0x7f06ffbf53d0-&gt;lasagne.layers.special.NonlinearityLayer object at 0x7f06ffbf5390</title>\n",
       "<path d=\"M228.147,-550.374C228.147,-542.282 228.147,-532.78 228.147,-523.903\" fill=\"none\" stroke=\"black\"/>\n",
       "<polygon fill=\"black\" points=\"231.647,-523.891 228.147,-513.891 224.647,-523.891 231.647,-523.891\" stroke=\"black\"/>\n",
       "</g>\n",
       "<!-- lasagne.layers.special.NonlinearityLayer object at 0x7f0700153d10 -->\n",
       "<g class=\"node\" id=\"node6\"><title>lasagne.layers.special.NonlinearityLayer object at 0x7f0700153d10</title>\n",
       "<polygon fill=\"#7f0cd0\" points=\"128,-1729.7 128,-1771.3 328.295,-1771.3 328.295,-1729.7 128,-1729.7\" stroke=\"black\"/>\n",
       "<text font-family=\"Times,serif\" font-size=\"14.00\" text-anchor=\"middle\" x=\"228.147\" y=\"-1754.7\">NonlinearityLayer</text>\n",
       "<text font-family=\"Times,serif\" font-size=\"14.00\" text-anchor=\"middle\" x=\"228.147\" y=\"-1737.9\">Output shape: (None, 64, 96, 96)</text>\n",
       "</g>\n",
       "<!-- lasagne.layers.conv.Conv2DLayer object at 0x7f0700169d50 -->\n",
       "<g class=\"node\" id=\"node25\"><title>lasagne.layers.conv.Conv2DLayer object at 0x7f0700169d50</title>\n",
       "<polygon fill=\"#7c9abb\" points=\"128,-1651.1 128,-1692.7 328.295,-1692.7 328.295,-1651.1 128,-1651.1\" stroke=\"black\"/>\n",
       "<text font-family=\"Times,serif\" font-size=\"14.00\" text-anchor=\"middle\" x=\"228.147\" y=\"-1676.1\">Conv2DLayer</text>\n",
       "<text font-family=\"Times,serif\" font-size=\"14.00\" text-anchor=\"middle\" x=\"228.147\" y=\"-1659.3\">Output shape: (None, 64, 96, 96)</text>\n",
       "</g>\n",
       "<!-- lasagne.layers.special.NonlinearityLayer object at 0x7f0700153d10&#45;&gt;lasagne.layers.conv.Conv2DLayer object at 0x7f0700169d50 -->\n",
       "<g class=\"edge\" id=\"edge3\"><title>lasagne.layers.special.NonlinearityLayer object at 0x7f0700153d10-&gt;lasagne.layers.conv.Conv2DLayer object at 0x7f0700169d50</title>\n",
       "<path d=\"M228.147,-1729.37C228.147,-1721.28 228.147,-1711.78 228.147,-1702.9\" fill=\"none\" stroke=\"black\"/>\n",
       "<polygon fill=\"black\" points=\"231.647,-1702.89 228.147,-1692.89 224.647,-1702.89 231.647,-1702.89\" stroke=\"black\"/>\n",
       "</g>\n",
       "<!-- lasagne.layers.special.NonlinearityLayer object at 0x7f0700192950 -->\n",
       "<g class=\"node\" id=\"node7\"><title>lasagne.layers.special.NonlinearityLayer object at 0x7f0700192950</title>\n",
       "<polygon fill=\"#7f0cd0\" points=\"128,-1572.5 128,-1614.1 328.295,-1614.1 328.295,-1572.5 128,-1572.5\" stroke=\"black\"/>\n",
       "<text font-family=\"Times,serif\" font-size=\"14.00\" text-anchor=\"middle\" x=\"228.147\" y=\"-1597.5\">NonlinearityLayer</text>\n",
       "<text font-family=\"Times,serif\" font-size=\"14.00\" text-anchor=\"middle\" x=\"228.147\" y=\"-1580.7\">Output shape: (None, 64, 96, 96)</text>\n",
       "</g>\n",
       "<!-- lasagne.layers.conv.Conv2DLayer object at 0x7f070017a190 -->\n",
       "<g class=\"node\" id=\"node11\"><title>lasagne.layers.conv.Conv2DLayer object at 0x7f070017a190</title>\n",
       "<polygon fill=\"#7c9abb\" points=\"128,-1493.9 128,-1535.5 328.295,-1535.5 328.295,-1493.9 128,-1493.9\" stroke=\"black\"/>\n",
       "<text font-family=\"Times,serif\" font-size=\"14.00\" text-anchor=\"middle\" x=\"228.147\" y=\"-1518.9\">Conv2DLayer</text>\n",
       "<text font-family=\"Times,serif\" font-size=\"14.00\" text-anchor=\"middle\" x=\"228.147\" y=\"-1502.1\">Output shape: (None, 64, 96, 96)</text>\n",
       "</g>\n",
       "<!-- lasagne.layers.special.NonlinearityLayer object at 0x7f0700192950&#45;&gt;lasagne.layers.conv.Conv2DLayer object at 0x7f070017a190 -->\n",
       "<g class=\"edge\" id=\"edge5\"><title>lasagne.layers.special.NonlinearityLayer object at 0x7f0700192950-&gt;lasagne.layers.conv.Conv2DLayer object at 0x7f070017a190</title>\n",
       "<path d=\"M228.147,-1572.17C228.147,-1564.08 228.147,-1554.58 228.147,-1545.7\" fill=\"none\" stroke=\"black\"/>\n",
       "<polygon fill=\"black\" points=\"231.647,-1545.69 228.147,-1535.69 224.647,-1545.69 231.647,-1545.69\" stroke=\"black\"/>\n",
       "</g>\n",
       "<!-- lasagne.layers.special.NonlinearityLayer object at 0x7f0700169d90 -->\n",
       "<g class=\"node\" id=\"node8\"><title>lasagne.layers.special.NonlinearityLayer object at 0x7f0700169d90</title>\n",
       "<polygon fill=\"#7f0cd0\" points=\"128,-1415.3 128,-1456.9 328.295,-1456.9 328.295,-1415.3 128,-1415.3\" stroke=\"black\"/>\n",
       "<text font-family=\"Times,serif\" font-size=\"14.00\" text-anchor=\"middle\" x=\"228.147\" y=\"-1440.3\">NonlinearityLayer</text>\n",
       "<text font-family=\"Times,serif\" font-size=\"14.00\" text-anchor=\"middle\" x=\"228.147\" y=\"-1423.5\">Output shape: (None, 64, 96, 96)</text>\n",
       "</g>\n",
       "<!-- lasagne.layers.conv.Conv2DLayer object at 0x7f070017a510 -->\n",
       "<g class=\"node\" id=\"node19\"><title>lasagne.layers.conv.Conv2DLayer object at 0x7f070017a510</title>\n",
       "<polygon fill=\"#7c9abb\" points=\"128,-1336.7 128,-1378.3 328.295,-1378.3 328.295,-1336.7 128,-1336.7\" stroke=\"black\"/>\n",
       "<text font-family=\"Times,serif\" font-size=\"14.00\" text-anchor=\"middle\" x=\"228.147\" y=\"-1361.7\">Conv2DLayer</text>\n",
       "<text font-family=\"Times,serif\" font-size=\"14.00\" text-anchor=\"middle\" x=\"228.147\" y=\"-1344.9\">Output shape: (None, 64, 96, 96)</text>\n",
       "</g>\n",
       "<!-- lasagne.layers.special.NonlinearityLayer object at 0x7f0700169d90&#45;&gt;lasagne.layers.conv.Conv2DLayer object at 0x7f070017a510 -->\n",
       "<g class=\"edge\" id=\"edge7\"><title>lasagne.layers.special.NonlinearityLayer object at 0x7f0700169d90-&gt;lasagne.layers.conv.Conv2DLayer object at 0x7f070017a510</title>\n",
       "<path d=\"M228.147,-1414.97C228.147,-1406.88 228.147,-1397.38 228.147,-1388.5\" fill=\"none\" stroke=\"black\"/>\n",
       "<polygon fill=\"black\" points=\"231.647,-1388.49 228.147,-1378.49 224.647,-1388.49 231.647,-1388.49\" stroke=\"black\"/>\n",
       "</g>\n",
       "<!-- lasagne.layers.conv.Conv2DLayer object at 0x7f06ffbf5ad0 -->\n",
       "<g class=\"node\" id=\"node10\"><title>lasagne.layers.conv.Conv2DLayer object at 0x7f06ffbf5ad0</title>\n",
       "<polygon fill=\"#7c9abb\" points=\"128,-236.3 128,-277.9 328.295,-277.9 328.295,-236.3 128,-236.3\" stroke=\"black\"/>\n",
       "<text font-family=\"Times,serif\" font-size=\"14.00\" text-anchor=\"middle\" x=\"228.147\" y=\"-261.3\">Conv2DLayer</text>\n",
       "<text font-family=\"Times,serif\" font-size=\"14.00\" text-anchor=\"middle\" x=\"228.147\" y=\"-244.5\">Output shape: (None, 64, 96, 96)</text>\n",
       "</g>\n",
       "<!-- lasagne.layers.merge.ElemwiseSumLayer object at 0x7f06ffbf5790 -->\n",
       "<g class=\"node\" id=\"node17\"><title>lasagne.layers.merge.ElemwiseSumLayer object at 0x7f06ffbf5790</title>\n",
       "<polygon fill=\"#bf9301\" points=\"64,-157.7 64,-199.3 264.295,-199.3 264.295,-157.7 64,-157.7\" stroke=\"black\"/>\n",
       "<text font-family=\"Times,serif\" font-size=\"14.00\" text-anchor=\"middle\" x=\"164.147\" y=\"-182.7\">ElemwiseSumLayer</text>\n",
       "<text font-family=\"Times,serif\" font-size=\"14.00\" text-anchor=\"middle\" x=\"164.147\" y=\"-165.9\">Output shape: (None, 64, 96, 96)</text>\n",
       "</g>\n",
       "<!-- lasagne.layers.conv.Conv2DLayer object at 0x7f06ffbf5ad0&#45;&gt;lasagne.layers.merge.ElemwiseSumLayer object at 0x7f06ffbf5790 -->\n",
       "<g class=\"edge\" id=\"edge25\"><title>lasagne.layers.conv.Conv2DLayer object at 0x7f06ffbf5ad0-&gt;lasagne.layers.merge.ElemwiseSumLayer object at 0x7f06ffbf5790</title>\n",
       "<path d=\"M211.332,-235.974C203.983,-227.178 195.243,-216.717 187.293,-207.203\" fill=\"none\" stroke=\"black\"/>\n",
       "<polygon fill=\"black\" points=\"189.948,-204.921 180.85,-199.491 184.576,-209.409 189.948,-204.921\" stroke=\"black\"/>\n",
       "</g>\n",
       "<!-- lasagne.layers.conv.Conv2DLayer object at 0x7f070017a190&#45;&gt;lasagne.layers.special.NonlinearityLayer object at 0x7f0700169d90 -->\n",
       "<g class=\"edge\" id=\"edge6\"><title>lasagne.layers.conv.Conv2DLayer object at 0x7f070017a190-&gt;lasagne.layers.special.NonlinearityLayer object at 0x7f0700169d90</title>\n",
       "<path d=\"M228.147,-1493.57C228.147,-1485.48 228.147,-1475.98 228.147,-1467.1\" fill=\"none\" stroke=\"black\"/>\n",
       "<polygon fill=\"black\" points=\"231.647,-1467.09 228.147,-1457.09 224.647,-1467.09 231.647,-1467.09\" stroke=\"black\"/>\n",
       "</g>\n",
       "<!-- lasagne.layers.input.InputLayer object at 0x7f0700192510 -->\n",
       "<g class=\"node\" id=\"node12\"><title>lasagne.layers.input.InputLayer object at 0x7f0700192510</title>\n",
       "<polygon fill=\"#a2cece\" points=\"67.5,-1886.9 67.5,-1928.5 260.795,-1928.5 260.795,-1886.9 67.5,-1886.9\" stroke=\"black\"/>\n",
       "<text font-family=\"Times,serif\" font-size=\"14.00\" text-anchor=\"middle\" x=\"164.147\" y=\"-1911.9\">input, InputLayer</text>\n",
       "<text font-family=\"Times,serif\" font-size=\"14.00\" text-anchor=\"middle\" x=\"164.147\" y=\"-1895.1\">Output shape: (None, 3, 96, 96)</text>\n",
       "</g>\n",
       "<!-- lasagne.layers.conv.Conv2DLayer object at 0x7f0700153d50 -->\n",
       "<g class=\"node\" id=\"node23\"><title>lasagne.layers.conv.Conv2DLayer object at 0x7f0700153d50</title>\n",
       "<polygon fill=\"#7c9abb\" points=\"64,-1808.3 64,-1849.9 264.295,-1849.9 264.295,-1808.3 64,-1808.3\" stroke=\"black\"/>\n",
       "<text font-family=\"Times,serif\" font-size=\"14.00\" text-anchor=\"middle\" x=\"164.147\" y=\"-1833.3\">Conv2DLayer</text>\n",
       "<text font-family=\"Times,serif\" font-size=\"14.00\" text-anchor=\"middle\" x=\"164.147\" y=\"-1816.5\">Output shape: (None, 64, 96, 96)</text>\n",
       "</g>\n",
       "<!-- lasagne.layers.input.InputLayer object at 0x7f0700192510&#45;&gt;lasagne.layers.conv.Conv2DLayer object at 0x7f0700153d50 -->\n",
       "<g class=\"edge\" id=\"edge1\"><title>lasagne.layers.input.InputLayer object at 0x7f0700192510-&gt;lasagne.layers.conv.Conv2DLayer object at 0x7f0700153d50</title>\n",
       "<path d=\"M164.147,-1886.57C164.147,-1878.48 164.147,-1868.98 164.147,-1860.1\" fill=\"none\" stroke=\"black\"/>\n",
       "<polygon fill=\"black\" points=\"167.647,-1860.09 164.147,-1850.09 160.647,-1860.09 167.647,-1860.09\" stroke=\"black\"/>\n",
       "</g>\n",
       "<!-- lasagne.layers.special.NonlinearityLayer object at 0x7f06ffbf5410&#45;&gt;lasagne.layers.conv.Conv2DLayer object at 0x7f06ffbf5ad0 -->\n",
       "<g class=\"edge\" id=\"edge23\"><title>lasagne.layers.special.NonlinearityLayer object at 0x7f06ffbf5410-&gt;lasagne.layers.conv.Conv2DLayer object at 0x7f06ffbf5ad0</title>\n",
       "<path d=\"M228.147,-314.574C228.147,-306.482 228.147,-296.98 228.147,-288.103\" fill=\"none\" stroke=\"black\"/>\n",
       "<polygon fill=\"black\" points=\"231.647,-288.091 228.147,-278.091 224.647,-288.091 231.647,-288.091\" stroke=\"black\"/>\n",
       "</g>\n",
       "<!-- lasagne.layers.special.NonlinearityLayer object at 0x7f070017a890 -->\n",
       "<g class=\"node\" id=\"node14\"><title>lasagne.layers.special.NonlinearityLayer object at 0x7f070017a890</title>\n",
       "<polygon fill=\"#7f0cd0\" points=\"0,-1022.3 0,-1063.9 200.295,-1063.9 200.295,-1022.3 0,-1022.3\" stroke=\"black\"/>\n",
       "<text font-family=\"Times,serif\" font-size=\"14.00\" text-anchor=\"middle\" x=\"100.147\" y=\"-1047.3\">NonlinearityLayer</text>\n",
       "<text font-family=\"Times,serif\" font-size=\"14.00\" text-anchor=\"middle\" x=\"100.147\" y=\"-1030.5\">Output shape: (None, 64, 96, 96)</text>\n",
       "</g>\n",
       "<!-- lasagne.layers.conv.Conv2DLayer object at 0x7f070017ac50 -->\n",
       "<g class=\"node\" id=\"node18\"><title>lasagne.layers.conv.Conv2DLayer object at 0x7f070017ac50</title>\n",
       "<polygon fill=\"#7c9abb\" points=\"0,-943.7 0,-985.3 200.295,-985.3 200.295,-943.7 0,-943.7\" stroke=\"black\"/>\n",
       "<text font-family=\"Times,serif\" font-size=\"14.00\" text-anchor=\"middle\" x=\"100.147\" y=\"-968.7\">Conv2DLayer</text>\n",
       "<text font-family=\"Times,serif\" font-size=\"14.00\" text-anchor=\"middle\" x=\"100.147\" y=\"-951.9\">Output shape: (None, 64, 96, 96)</text>\n",
       "</g>\n",
       "<!-- lasagne.layers.special.NonlinearityLayer object at 0x7f070017a890&#45;&gt;lasagne.layers.conv.Conv2DLayer object at 0x7f070017ac50 -->\n",
       "<g class=\"edge\" id=\"edge13\"><title>lasagne.layers.special.NonlinearityLayer object at 0x7f070017a890-&gt;lasagne.layers.conv.Conv2DLayer object at 0x7f070017ac50</title>\n",
       "<path d=\"M100.147,-1021.97C100.147,-1013.88 100.147,-1004.38 100.147,-995.503\" fill=\"none\" stroke=\"black\"/>\n",
       "<polygon fill=\"black\" points=\"103.647,-995.491 100.147,-985.491 96.6474,-995.491 103.647,-995.491\" stroke=\"black\"/>\n",
       "</g>\n",
       "<!-- lasagne.layers.conv.Conv2DLayer object at 0x7f070017afd0 -->\n",
       "<g class=\"node\" id=\"node15\"><title>lasagne.layers.conv.Conv2DLayer object at 0x7f070017afd0</title>\n",
       "<polygon fill=\"#7c9abb\" points=\"0,-786.5 0,-828.1 200.295,-828.1 200.295,-786.5 0,-786.5\" stroke=\"black\"/>\n",
       "<text font-family=\"Times,serif\" font-size=\"14.00\" text-anchor=\"middle\" x=\"100.147\" y=\"-811.5\">Conv2DLayer</text>\n",
       "<text font-family=\"Times,serif\" font-size=\"14.00\" text-anchor=\"middle\" x=\"100.147\" y=\"-794.7\">Output shape: (None, 64, 96, 96)</text>\n",
       "</g>\n",
       "<!-- lasagne.layers.merge.ElemwiseSumLayer object at 0x7f070017ac90 -->\n",
       "<g class=\"node\" id=\"node16\"><title>lasagne.layers.merge.ElemwiseSumLayer object at 0x7f070017ac90</title>\n",
       "<polygon fill=\"#bf9301\" points=\"128,-707.9 128,-749.5 328.295,-749.5 328.295,-707.9 128,-707.9\" stroke=\"black\"/>\n",
       "<text font-family=\"Times,serif\" font-size=\"14.00\" text-anchor=\"middle\" x=\"228.147\" y=\"-732.9\">ElemwiseSumLayer</text>\n",
       "<text font-family=\"Times,serif\" font-size=\"14.00\" text-anchor=\"middle\" x=\"228.147\" y=\"-716.1\">Output shape: (None, 64, 96, 96)</text>\n",
       "</g>\n",
       "<!-- lasagne.layers.conv.Conv2DLayer object at 0x7f070017afd0&#45;&gt;lasagne.layers.merge.ElemwiseSumLayer object at 0x7f070017ac90 -->\n",
       "<g class=\"edge\" id=\"edge17\"><title>lasagne.layers.conv.Conv2DLayer object at 0x7f070017afd0-&gt;lasagne.layers.merge.ElemwiseSumLayer object at 0x7f070017ac90</title>\n",
       "<path d=\"M133.444,-786.374C149.592,-776.711 169.158,-765.002 186.303,-754.741\" fill=\"none\" stroke=\"black\"/>\n",
       "<polygon fill=\"black\" points=\"188.234,-757.664 195.018,-749.526 184.64,-751.658 188.234,-757.664\" stroke=\"black\"/>\n",
       "</g>\n",
       "<!-- lasagne.layers.conv.Conv2DLayer object at 0x7f070017afd0&#45;&gt;lasagne.layers.merge.ElemwiseSumLayer object at 0x7f06ffbf5790 -->\n",
       "<g class=\"edge\" id=\"edge24\"><title>lasagne.layers.conv.Conv2DLayer object at 0x7f070017afd0-&gt;lasagne.layers.merge.ElemwiseSumLayer object at 0x7f06ffbf5790</title>\n",
       "<path d=\"M100.147,-786.21C100.147,-756.625 100.147,-699.6 100.147,-651.1 100.147,-651.1 100.147,-651.1 100.147,-334.7 100.147,-289.941 100.405,-276.446 119.147,-235.8 123.793,-225.725 130.619,-215.875 137.557,-207.304\" fill=\"none\" stroke=\"black\"/>\n",
       "<polygon fill=\"black\" points=\"140.369,-209.399 144.176,-199.511 135.034,-204.867 140.369,-209.399\" stroke=\"black\"/>\n",
       "</g>\n",
       "<!-- lasagne.layers.merge.ElemwiseSumLayer object at 0x7f070017ac90&#45;&gt;lasagne.layers.special.NonlinearityLayer object at 0x7f06ffbf5050 -->\n",
       "<g class=\"edge\" id=\"edge18\"><title>lasagne.layers.merge.ElemwiseSumLayer object at 0x7f070017ac90-&gt;lasagne.layers.special.NonlinearityLayer object at 0x7f06ffbf5050</title>\n",
       "<path d=\"M228.147,-707.574C228.147,-699.482 228.147,-689.98 228.147,-681.103\" fill=\"none\" stroke=\"black\"/>\n",
       "<polygon fill=\"black\" points=\"231.647,-681.091 228.147,-671.091 224.647,-681.091 231.647,-681.091\" stroke=\"black\"/>\n",
       "</g>\n",
       "<!-- lasagne.layers.merge.ElemwiseSumLayer object at 0x7f06ffbf5790&#45;&gt;lasagne.layers.special.NonlinearityLayer object at 0x7f06ffbf5b10 -->\n",
       "<g class=\"edge\" id=\"edge26\"><title>lasagne.layers.merge.ElemwiseSumLayer object at 0x7f06ffbf5790-&gt;lasagne.layers.special.NonlinearityLayer object at 0x7f06ffbf5b10</title>\n",
       "<path d=\"M164.147,-157.374C164.147,-149.282 164.147,-139.78 164.147,-130.903\" fill=\"none\" stroke=\"black\"/>\n",
       "<polygon fill=\"black\" points=\"167.647,-130.891 164.147,-120.891 160.647,-130.891 167.647,-130.891\" stroke=\"black\"/>\n",
       "</g>\n",
       "<!-- lasagne.layers.special.NonlinearityLayer object at 0x7f070017a910 -->\n",
       "<g class=\"node\" id=\"node24\"><title>lasagne.layers.special.NonlinearityLayer object at 0x7f070017a910</title>\n",
       "<polygon fill=\"#7f0cd0\" points=\"0,-865.1 0,-906.7 200.295,-906.7 200.295,-865.1 0,-865.1\" stroke=\"black\"/>\n",
       "<text font-family=\"Times,serif\" font-size=\"14.00\" text-anchor=\"middle\" x=\"100.147\" y=\"-890.1\">NonlinearityLayer</text>\n",
       "<text font-family=\"Times,serif\" font-size=\"14.00\" text-anchor=\"middle\" x=\"100.147\" y=\"-873.3\">Output shape: (None, 64, 96, 96)</text>\n",
       "</g>\n",
       "<!-- lasagne.layers.conv.Conv2DLayer object at 0x7f070017ac50&#45;&gt;lasagne.layers.special.NonlinearityLayer object at 0x7f070017a910 -->\n",
       "<g class=\"edge\" id=\"edge14\"><title>lasagne.layers.conv.Conv2DLayer object at 0x7f070017ac50-&gt;lasagne.layers.special.NonlinearityLayer object at 0x7f070017a910</title>\n",
       "<path d=\"M100.147,-943.374C100.147,-935.282 100.147,-925.78 100.147,-916.903\" fill=\"none\" stroke=\"black\"/>\n",
       "<polygon fill=\"black\" points=\"103.647,-916.891 100.147,-906.891 96.6474,-916.891 103.647,-916.891\" stroke=\"black\"/>\n",
       "</g>\n",
       "<!-- lasagne.layers.conv.Conv2DLayer object at 0x7f070017a510&#45;&gt;lasagne.layers.merge.ElemwiseSumLayer object at 0x7f070017a1d0 -->\n",
       "<g class=\"edge\" id=\"edge9\"><title>lasagne.layers.conv.Conv2DLayer object at 0x7f070017a510-&gt;lasagne.layers.merge.ElemwiseSumLayer object at 0x7f070017a1d0</title>\n",
       "<path d=\"M194.851,-1336.57C178.703,-1326.91 159.137,-1315.2 141.991,-1304.94\" fill=\"none\" stroke=\"black\"/>\n",
       "<polygon fill=\"black\" points=\"143.655,-1301.86 133.277,-1299.73 140.06,-1307.86 143.655,-1301.86\" stroke=\"black\"/>\n",
       "</g>\n",
       "<!-- lasagne.layers.conv.Conv2DLayer object at 0x7f070017a510&#45;&gt;lasagne.layers.merge.ElemwiseSumLayer object at 0x7f070017ac90 -->\n",
       "<g class=\"edge\" id=\"edge16\"><title>lasagne.layers.conv.Conv2DLayer object at 0x7f070017a510-&gt;lasagne.layers.merge.ElemwiseSumLayer object at 0x7f070017ac90</title>\n",
       "<path d=\"M228.147,-1336.41C228.147,-1306.83 228.147,-1249.8 228.147,-1201.3 228.147,-1201.3 228.147,-1201.3 228.147,-884.9 228.147,-841.515 228.147,-791.309 228.147,-760.025\" fill=\"none\" stroke=\"black\"/>\n",
       "<polygon fill=\"black\" points=\"231.647,-759.79 228.147,-749.79 224.647,-759.79 231.647,-759.79\" stroke=\"black\"/>\n",
       "</g>\n",
       "<!-- lasagne.layers.conv.Conv2DLayer object at 0x7f070017a8d0 -->\n",
       "<g class=\"node\" id=\"node20\"><title>lasagne.layers.conv.Conv2DLayer object at 0x7f070017a8d0</title>\n",
       "<polygon fill=\"#7c9abb\" points=\"0,-1100.9 0,-1142.5 200.295,-1142.5 200.295,-1100.9 0,-1100.9\" stroke=\"black\"/>\n",
       "<text font-family=\"Times,serif\" font-size=\"14.00\" text-anchor=\"middle\" x=\"100.147\" y=\"-1125.9\">Conv2DLayer</text>\n",
       "<text font-family=\"Times,serif\" font-size=\"14.00\" text-anchor=\"middle\" x=\"100.147\" y=\"-1109.1\">Output shape: (None, 64, 96, 96)</text>\n",
       "</g>\n",
       "<!-- lasagne.layers.conv.Conv2DLayer object at 0x7f070017a8d0&#45;&gt;lasagne.layers.special.NonlinearityLayer object at 0x7f070017a890 -->\n",
       "<g class=\"edge\" id=\"edge12\"><title>lasagne.layers.conv.Conv2DLayer object at 0x7f070017a8d0-&gt;lasagne.layers.special.NonlinearityLayer object at 0x7f070017a890</title>\n",
       "<path d=\"M100.147,-1100.57C100.147,-1092.48 100.147,-1082.98 100.147,-1074.1\" fill=\"none\" stroke=\"black\"/>\n",
       "<polygon fill=\"black\" points=\"103.647,-1074.09 100.147,-1064.09 96.6474,-1074.09 103.647,-1074.09\" stroke=\"black\"/>\n",
       "</g>\n",
       "<!-- lasagne.layers.special.NonlinearityLayer object at 0x7f06ffbf5390&#45;&gt;lasagne.layers.conv.Conv2DLayer object at 0x7f06ffbf5750 -->\n",
       "<g class=\"edge\" id=\"edge21\"><title>lasagne.layers.special.NonlinearityLayer object at 0x7f06ffbf5390-&gt;lasagne.layers.conv.Conv2DLayer object at 0x7f06ffbf5750</title>\n",
       "<path d=\"M228.147,-471.774C228.147,-463.682 228.147,-454.18 228.147,-445.303\" fill=\"none\" stroke=\"black\"/>\n",
       "<polygon fill=\"black\" points=\"231.647,-445.291 228.147,-435.291 224.647,-445.291 231.647,-445.291\" stroke=\"black\"/>\n",
       "</g>\n",
       "<!-- lasagne.layers.special.NonlinearityLayer object at 0x7f070017a550&#45;&gt;lasagne.layers.conv.Conv2DLayer object at 0x7f070017a8d0 -->\n",
       "<g class=\"edge\" id=\"edge11\"><title>lasagne.layers.special.NonlinearityLayer object at 0x7f070017a550-&gt;lasagne.layers.conv.Conv2DLayer object at 0x7f070017a8d0</title>\n",
       "<path d=\"M100.147,-1179.17C100.147,-1171.08 100.147,-1161.58 100.147,-1152.7\" fill=\"none\" stroke=\"black\"/>\n",
       "<polygon fill=\"black\" points=\"103.647,-1152.69 100.147,-1142.69 96.6474,-1152.69 103.647,-1152.69\" stroke=\"black\"/>\n",
       "</g>\n",
       "<!-- lasagne.layers.conv.Conv2DLayer object at 0x7f0700153d50&#45;&gt;lasagne.layers.merge.ElemwiseSumLayer object at 0x7f070017a1d0 -->\n",
       "<g class=\"edge\" id=\"edge8\"><title>lasagne.layers.conv.Conv2DLayer object at 0x7f0700153d50-&gt;lasagne.layers.merge.ElemwiseSumLayer object at 0x7f070017a1d0</title>\n",
       "<path d=\"M144.176,-1808.09C135.204,-1798 125.278,-1785.09 119.147,-1771.8 100.405,-1731.15 100.147,-1717.66 100.147,-1672.9 100.147,-1672.9 100.147,-1672.9 100.147,-1435.1 100.147,-1391.72 100.147,-1341.51 100.147,-1310.22\" fill=\"none\" stroke=\"black\"/>\n",
       "<polygon fill=\"black\" points=\"103.647,-1309.99 100.147,-1299.99 96.6474,-1309.99 103.647,-1309.99\" stroke=\"black\"/>\n",
       "</g>\n",
       "<!-- lasagne.layers.conv.Conv2DLayer object at 0x7f0700153d50&#45;&gt;lasagne.layers.special.NonlinearityLayer object at 0x7f0700153d10 -->\n",
       "<g class=\"edge\" id=\"edge2\"><title>lasagne.layers.conv.Conv2DLayer object at 0x7f0700153d50-&gt;lasagne.layers.special.NonlinearityLayer object at 0x7f0700153d10</title>\n",
       "<path d=\"M180.963,-1807.97C188.312,-1799.18 197.052,-1788.72 205.001,-1779.2\" fill=\"none\" stroke=\"black\"/>\n",
       "<polygon fill=\"black\" points=\"207.719,-1781.41 211.444,-1771.49 202.347,-1776.92 207.719,-1781.41\" stroke=\"black\"/>\n",
       "</g>\n",
       "<!-- lasagne.layers.special.NonlinearityLayer object at 0x7f070017a910&#45;&gt;lasagne.layers.conv.Conv2DLayer object at 0x7f070017afd0 -->\n",
       "<g class=\"edge\" id=\"edge15\"><title>lasagne.layers.special.NonlinearityLayer object at 0x7f070017a910-&gt;lasagne.layers.conv.Conv2DLayer object at 0x7f070017afd0</title>\n",
       "<path d=\"M100.147,-864.774C100.147,-856.682 100.147,-847.18 100.147,-838.303\" fill=\"none\" stroke=\"black\"/>\n",
       "<polygon fill=\"black\" points=\"103.647,-838.291 100.147,-828.291 96.6474,-838.291 103.647,-838.291\" stroke=\"black\"/>\n",
       "</g>\n",
       "<!-- lasagne.layers.conv.Conv2DLayer object at 0x7f0700169d50&#45;&gt;lasagne.layers.special.NonlinearityLayer object at 0x7f0700192950 -->\n",
       "<g class=\"edge\" id=\"edge4\"><title>lasagne.layers.conv.Conv2DLayer object at 0x7f0700169d50-&gt;lasagne.layers.special.NonlinearityLayer object at 0x7f0700192950</title>\n",
       "<path d=\"M228.147,-1650.77C228.147,-1642.68 228.147,-1633.18 228.147,-1624.3\" fill=\"none\" stroke=\"black\"/>\n",
       "<polygon fill=\"black\" points=\"231.647,-1624.29 228.147,-1614.29 224.647,-1624.29 231.647,-1624.29\" stroke=\"black\"/>\n",
       "</g>\n",
       "</g>\n",
       "</svg>"
      ],
      "text/plain": [
       "<IPython.core.display.SVG object>"
      ]
     },
     "execution_count": 6,
     "metadata": {},
     "output_type": "execute_result"
    }
   ],
   "source": [
    "from lasagnekit.misc.draw_net import draw_to_file\n",
    "from IPython.display import SVG\n",
    "draw_to_file(layers.get_all_layers(all_layers['output']), 'out.svg')\n",
    "SVG('out.svg')"
   ]
  },
  {
   "cell_type": "code",
   "execution_count": 7,
   "metadata": {
    "collapsed": false
   },
   "outputs": [],
   "source": [
    "train_fn = theano.function([X, Y], loss, updates=params_updates, on_unused_input='warn')"
   ]
  },
  {
   "cell_type": "code",
   "execution_count": 8,
   "metadata": {
    "collapsed": false
   },
   "outputs": [],
   "source": [
    "predict_fn = theano.function([X], Y_pred, on_unused_input='warn')"
   ]
  },
  {
   "cell_type": "code",
   "execution_count": 9,
   "metadata": {
    "collapsed": false
   },
   "outputs": [],
   "source": [
    "from data import load_data\n",
    "from lasagnekit.datasets.rescaled import Rescaled\n",
    "from lasagnekit.easy import iterate_minibatches\n",
    "from lasagnekit.datasets.imagecollection import ImageCollection\n",
    "from lasagnekit.datasets.transformed import Transformed\n",
    "from lasagnekit.datasets.stl import STL\n",
    "from lasagnekit.datasets.helpers import load_once, split\n",
    "from lasagnekit.datasets.subsampled import SubSampled\n",
    "\n",
    "w, h = 96, 96\n",
    "scale = {1: 96, 2: 96/4}\n",
    "batch_size = 64\n",
    "\n",
    "c = 3\n",
    "\n",
    "data_scale1 = load_once(STL)(kind='unlabeled')\n",
    "data_scale1.load()"
   ]
  },
  {
   "cell_type": "code",
   "execution_count": 10,
   "metadata": {
    "collapsed": false
   },
   "outputs": [],
   "source": [
    "data_scale1_train, data_scale1_test = split(data_scale1, test_size=0.01)"
   ]
  },
  {
   "cell_type": "code",
   "execution_count": 11,
   "metadata": {
    "collapsed": false
   },
   "outputs": [],
   "source": [
    "data_scale1_train = SubSampled(data_scale1, batch_size, mode='random')\n",
    "data_scale2_train = Rescaled(data_scale1_train, (scale[2], scale[2]))\n",
    "data_scale2_train = Rescaled(data_scale2_train, (scale[1], scale[1]))"
   ]
  },
  {
   "cell_type": "code",
   "execution_count": 12,
   "metadata": {
    "collapsed": false
   },
   "outputs": [],
   "source": [
    "data_scale2_test = Rescaled(data_scale1_test, (scale[2], scale[2]))\n",
    "data_scale2_test = Rescaled(data_scale2_test, (scale[1], scale[1]))"
   ]
  },
  {
   "cell_type": "code",
   "execution_count": 13,
   "metadata": {
    "collapsed": false
   },
   "outputs": [],
   "source": [
    "data_scale2_test.load()"
   ]
  },
  {
   "cell_type": "code",
   "execution_count": 14,
   "metadata": {
    "collapsed": true
   },
   "outputs": [],
   "source": [
    "def preprocess(x, s=32):\n",
    "    x = x.reshape((x.shape[0], s, s, c))\n",
    "    x = x.transpose((0, 3, 1, 2))\n",
    "    return x"
   ]
  },
  {
   "cell_type": "code",
   "execution_count": 15,
   "metadata": {
    "collapsed": false
   },
   "outputs": [
    {
     "name": "stdout",
     "output_type": "stream",
     "text": [
      "(None, 3, 96, 96)\n"
     ]
    }
   ],
   "source": [
    "print(all_layers['output'].output_shape)"
   ]
  },
  {
   "cell_type": "code",
   "execution_count": 16,
   "metadata": {
    "collapsed": false
   },
   "outputs": [],
   "source": [
    "from time import time, sleep\n",
    "a = 0.001\n",
    "lr.set_value(a)\n",
    "train_loss = []\n",
    "test_loss = []\n",
    "avg_loss = 0\n",
    "\n",
    "start = time()\n"
   ]
  },
  {
   "cell_type": "code",
   "execution_count": 17,
   "metadata": {
    "collapsed": true
   },
   "outputs": [],
   "source": [
    "a = 0.001\n",
    "lr.set_value(a)"
   ]
  },
  {
   "cell_type": "code",
   "execution_count": null,
   "metadata": {
    "collapsed": false,
    "scrolled": true
   },
   "outputs": [
    {
     "name": "stdout",
     "output_type": "stream",
     "text": [
      "Nb of seconds since the last validation step : 4.93647503853\n",
      "computing test performance\n",
      "train_loss : 130.340637207, test_loss : 24850.394043"
     ]
    }
   ],
   "source": [
    "for i in range(1000):\n",
    "    data_scale1_train.load()\n",
    "    data_scale2_train.load()\n",
    "    # update parameters based on one minibatch\n",
    "    X_scale1 = preprocess(data_scale1_train.X, s=scale[1])\n",
    "    X_scale2 = preprocess(data_scale2_train.X, s=scale[1])\n",
    "    loss_val = train_fn(X_scale2, X_scale1 - X_scale2)\n",
    "    avg_loss = 0.9 * avg_loss + 0.1 * loss_val\n",
    "    train_loss.append(avg_loss)\n",
    "    \n",
    "    if i % 100 == 0:\n",
    "        #a = a * 0.5\n",
    "        #lr.set_value(a)\n",
    "        delta = time() - start\n",
    "        start = time()\n",
    "        print('Nb of seconds since the last validation step : {}'.format(delta))\n",
    "        print(\"computing test performance\")\n",
    "        X_scale1 = preprocess(data_scale1_test.X, s=scale[1])\n",
    "        X_scale2 = preprocess(data_scale2_test.X, s=scale[1])\n",
    "        # test the model on test data\n",
    "        total_loss = 0.\n",
    "        nb = 0\n",
    "        for mini_batch in iterate_minibatches(len(X_scale1), batch_size):\n",
    "            resid = (X_scale1[mini_batch] - X_scale2[mini_batch])\n",
    "            pred_resid = predict_fn(X_scale2[mini_batch])\n",
    "            loss_val = ((pred_resid - resid) ** 2).mean()\n",
    "            total_loss += loss_val\n",
    "            nb += 1\n",
    "        total_loss /= nb\n",
    "        test_loss.append(total_loss)\n",
    "        print('train_loss : {}, test_loss : {}'.format(train_loss[-1], test_loss[-1]))"
   ]
  },
  {
   "cell_type": "code",
   "execution_count": null,
   "metadata": {
    "collapsed": false
   },
   "outputs": [],
   "source": [
    "#plt.plot(train_loss, label='train loss')\n",
    "print(train_loss)\n",
    "plt.plot(test_loss, label='test loss')\n",
    "plt.legend()\n",
    "#print(test_loss)"
   ]
  },
  {
   "cell_type": "code",
   "execution_count": null,
   "metadata": {
    "collapsed": false
   },
   "outputs": [],
   "source": [
    "out1 = X_scale2[0:100]\n",
    "for i in range(1):\n",
    "    out1 = predict_fn(out1)\n",
    "#out1 = X_scale1[0:100]"
   ]
  },
  {
   "cell_type": "code",
   "execution_count": null,
   "metadata": {
    "collapsed": false,
    "scrolled": true
   },
   "outputs": [],
   "source": [
    "%matplotlib inline\n",
    "import matplotlib.pyplot as plt\n",
    "from lasagnekit.misc.plot_weights import dispims_color\n",
    "\n",
    "fig = plt.figure(figsize=(20, 20))\n",
    "img = dispims_color(X_scale2[0:100].transpose((0, 2, 3, 1)),border=1)\n",
    "plt.imshow(img, interpolation='none')\n",
    "plt.savefig('a.png')\n",
    "fig = plt.figure(figsize=(20, 20))\n",
    "img = dispims_color(X_scale1[0:100].transpose((0, 2, 3, 1)),border=1)\n",
    "plt.imshow(img, interpolation='none')\n",
    "plt.savefig('b.png')\n",
    "\n",
    "fig = plt.figure(figsize=(20, 20))\n",
    "img = dispims_color((out1[0:100] + X_scale2[0:100]).transpose((0, 2, 3, 1)),border=1)\n",
    "plt.imshow(img, interpolation='none')\n",
    "plt.savefig('c.png')"
   ]
  },
  {
   "cell_type": "code",
   "execution_count": null,
   "metadata": {
    "collapsed": false
   },
   "outputs": [],
   "source": [
    "%matplotlib inline\n",
    "import matplotlib.pyplot as plt\n",
    "from lasagnekit.misc.plot_weights import dispims_color\n",
    "\n",
    "ss = np.random.uniform(size=(100, c, 32, 32))\n",
    "ss = ss.astype(np.float32)\n",
    "for i in range(1):\n",
    "    ss = predict_fn(ss)\n",
    "fig = plt.figure(figsize=(10, 10))\n",
    "img = dispims_color(ss[0:100].transpose((0, 2, 3, 1)),border=1)\n",
    "plt.axis('off')\n",
    "plt.imshow(img, interpolation='none')"
   ]
  }
 ],
 "metadata": {
  "kernelspec": {
   "display_name": "Python 2",
   "language": "python",
   "name": "python2"
  },
  "language_info": {
   "codemirror_mode": {
    "name": "ipython",
    "version": 2
   },
   "file_extension": ".py",
   "mimetype": "text/x-python",
   "name": "python",
   "nbconvert_exporter": "python",
   "pygments_lexer": "ipython2",
   "version": "2.7.11"
  }
 },
 "nbformat": 4,
 "nbformat_minor": 0
}
