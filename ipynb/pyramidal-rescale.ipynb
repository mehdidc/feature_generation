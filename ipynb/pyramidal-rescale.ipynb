{
 "cells": [
  {
   "cell_type": "code",
   "execution_count": 1,
   "metadata": {
    "collapsed": false
   },
   "outputs": [
    {
     "name": "stderr",
     "output_type": "stream",
     "text": [
      "/home/mcherti/miniconda/envs/databoard-env/lib/python2.7/site-packages/matplotlib/__init__.py:1350: UserWarning:  This call to matplotlib.use() has no effect\n",
      "because the backend has already been chosen;\n",
      "matplotlib.use() must be called *before* pylab, matplotlib.pyplot,\n",
      "or matplotlib.backends is imported for the first time.\n",
      "\n",
      "  warnings.warn(_use_error_msg)\n",
      "Using gpu device 0: Tesla K20Xm (CNMeM is disabled, CuDNN 3007)\n",
      "/home/mcherti/work/code/scikit-learn/sklearn/cross_validation.py:42: DeprecationWarning: This module has been deprecated in favor of the model_selection module into which all the refactored classes and functions are moved. Also note that the interface of the new CV iterators are different from that of this module. This module will be removed in 0.19.\n",
      "  \"This module will be removed in 0.19.\", DeprecationWarning)\n"
     ]
    },
    {
     "name": "stdout",
     "output_type": "stream",
     "text": [
      "Couldn't import dot_parser, loading of dot files will not be possible.\n"
     ]
    }
   ],
   "source": [
    "%matplotlib inline\n",
    "import matplotlib.pyplot as plt\n",
    "import os\n",
    "import sys\n",
    "os.environ[\"THEANO_FLAGS\"] = \"device=gpu\"\n",
    "sys.path.append(os.getcwd()+\"/..\")\n",
    "from tasks import check"
   ]
  },
  {
   "cell_type": "code",
   "execution_count": 2,
   "metadata": {
    "collapsed": false
   },
   "outputs": [],
   "source": [
    "from model import model58"
   ]
  },
  {
   "cell_type": "code",
   "execution_count": 5,
   "metadata": {
    "collapsed": false
   },
   "outputs": [],
   "source": [
    "all_layers = model58(nb_filters=128, w=96, h=96, c=3, nb_layers=3)"
   ]
  },
  {
   "cell_type": "code",
   "execution_count": 6,
   "metadata": {
    "collapsed": false
   },
   "outputs": [],
   "source": [
    "import theano.tensor as T\n",
    "import theano\n",
    "from lasagne import layers\n",
    "\n",
    "X = T.tensor4()\n",
    "Y = T.tensor4()\n",
    "\n",
    "Y_pred = (layers.get_output(all_layers['output'], X))\n",
    "loss = ((Y_pred - Y) ** 2).mean()"
   ]
  },
  {
   "cell_type": "code",
   "execution_count": 7,
   "metadata": {
    "collapsed": false
   },
   "outputs": [
    {
     "name": "stdout",
     "output_type": "stream",
     "text": [
      "Number of params : 302211\n"
     ]
    }
   ],
   "source": [
    "from lasagne import updates\n",
    "import numpy as np\n",
    "params = layers.get_all_params(all_layers.values(), trainable=True)\n",
    "print(\"Number of params : {}\".format(layers.count_params(all_layers.values(), trainable=True))) \n",
    "lr = theano.shared(np.array(0.1, dtype=theano.config.floatX))\n",
    "params_updates = updates.adam(loss, params, learning_rate=lr)"
   ]
  },
  {
   "cell_type": "code",
   "execution_count": 8,
   "metadata": {
    "collapsed": false
   },
   "outputs": [
    {
     "data": {
      "image/svg+xml": [
       "<svg height=\"365pt\" viewBox=\"0.00 0.00 215.29 365.00\" width=\"215pt\" xmlns=\"http://www.w3.org/2000/svg\" xmlns:xlink=\"http://www.w3.org/1999/xlink\">\n",
       "<g class=\"graph\" id=\"graph0\" transform=\"scale(1 1) rotate(0) translate(4 361)\">\n",
       "<title>Network</title>\n",
       "<polygon fill=\"white\" points=\"-4,4 -4,-361 211.295,-361 211.295,4 -4,4\" stroke=\"none\"/>\n",
       "<!-- lasagne.layers.input.InputLayer object at 0x7f9cb51fdb50 -->\n",
       "<g class=\"node\" id=\"node1\"><title>lasagne.layers.input.InputLayer object at 0x7f9cb51fdb50</title>\n",
       "<polygon fill=\"#a2cece\" points=\"7,-314.9 7,-356.5 200.295,-356.5 200.295,-314.9 7,-314.9\" stroke=\"black\"/>\n",
       "<text font-family=\"Times,serif\" font-size=\"14.00\" text-anchor=\"middle\" x=\"103.647\" y=\"-339.9\">input, InputLayer</text>\n",
       "<text font-family=\"Times,serif\" font-size=\"14.00\" text-anchor=\"middle\" x=\"103.647\" y=\"-323.1\">Output shape: (None, 3, 96, 96)</text>\n",
       "</g>\n",
       "<!-- lasagne.layers.conv.Conv2DLayer object at 0x7f9cb5150850 -->\n",
       "<g class=\"node\" id=\"node2\"><title>lasagne.layers.conv.Conv2DLayer object at 0x7f9cb5150850</title>\n",
       "<polygon fill=\"#7c9abb\" points=\"0,-236.3 0,-277.9 207.295,-277.9 207.295,-236.3 0,-236.3\" stroke=\"black\"/>\n",
       "<text font-family=\"Times,serif\" font-size=\"14.00\" text-anchor=\"middle\" x=\"103.647\" y=\"-261.3\">Conv2DLayer</text>\n",
       "<text font-family=\"Times,serif\" font-size=\"14.00\" text-anchor=\"middle\" x=\"103.647\" y=\"-244.5\">Output shape: (None, 128, 96, 96)</text>\n",
       "</g>\n",
       "<!-- lasagne.layers.input.InputLayer object at 0x7f9cb51fdb50&#45;&gt;lasagne.layers.conv.Conv2DLayer object at 0x7f9cb5150850 -->\n",
       "<g class=\"edge\" id=\"edge1\"><title>lasagne.layers.input.InputLayer object at 0x7f9cb51fdb50-&gt;lasagne.layers.conv.Conv2DLayer object at 0x7f9cb5150850</title>\n",
       "<path d=\"M103.647,-314.574C103.647,-306.482 103.647,-296.98 103.647,-288.103\" fill=\"none\" stroke=\"black\"/>\n",
       "<polygon fill=\"black\" points=\"107.147,-288.091 103.647,-278.091 100.147,-288.091 107.147,-288.091\" stroke=\"black\"/>\n",
       "</g>\n",
       "<!-- lasagne.layers.conv.Conv2DLayer object at 0x7f9cb5150750 -->\n",
       "<g class=\"node\" id=\"node5\"><title>lasagne.layers.conv.Conv2DLayer object at 0x7f9cb5150750</title>\n",
       "<polygon fill=\"#7c9abb\" points=\"0,-157.7 0,-199.3 207.295,-199.3 207.295,-157.7 0,-157.7\" stroke=\"black\"/>\n",
       "<text font-family=\"Times,serif\" font-size=\"14.00\" text-anchor=\"middle\" x=\"103.647\" y=\"-182.7\">Conv2DLayer</text>\n",
       "<text font-family=\"Times,serif\" font-size=\"14.00\" text-anchor=\"middle\" x=\"103.647\" y=\"-165.9\">Output shape: (None, 128, 96, 96)</text>\n",
       "</g>\n",
       "<!-- lasagne.layers.conv.Conv2DLayer object at 0x7f9cb5150850&#45;&gt;lasagne.layers.conv.Conv2DLayer object at 0x7f9cb5150750 -->\n",
       "<g class=\"edge\" id=\"edge2\"><title>lasagne.layers.conv.Conv2DLayer object at 0x7f9cb5150850-&gt;lasagne.layers.conv.Conv2DLayer object at 0x7f9cb5150750</title>\n",
       "<path d=\"M103.647,-235.974C103.647,-227.882 103.647,-218.38 103.647,-209.503\" fill=\"none\" stroke=\"black\"/>\n",
       "<polygon fill=\"black\" points=\"107.147,-209.491 103.647,-199.491 100.147,-209.491 107.147,-209.491\" stroke=\"black\"/>\n",
       "</g>\n",
       "<!-- lasagne.layers.conv.Conv2DLayer object at 0x7f9cb5150c90 -->\n",
       "<g class=\"node\" id=\"node3\"><title>lasagne.layers.conv.Conv2DLayer object at 0x7f9cb5150c90</title>\n",
       "<polygon fill=\"#7c9abb\" points=\"0,-79.1 0,-120.7 207.295,-120.7 207.295,-79.1 0,-79.1\" stroke=\"black\"/>\n",
       "<text font-family=\"Times,serif\" font-size=\"14.00\" text-anchor=\"middle\" x=\"103.647\" y=\"-104.1\">Conv2DLayer</text>\n",
       "<text font-family=\"Times,serif\" font-size=\"14.00\" text-anchor=\"middle\" x=\"103.647\" y=\"-87.3\">Output shape: (None, 128, 96, 96)</text>\n",
       "</g>\n",
       "<!-- lasagne.layers.conv.Conv2DLayer object at 0x7f9cb5150650 -->\n",
       "<g class=\"node\" id=\"node4\"><title>lasagne.layers.conv.Conv2DLayer object at 0x7f9cb5150650</title>\n",
       "<polygon fill=\"#7c9abb\" points=\"7,-0.5 7,-42.1 200.295,-42.1 200.295,-0.5 7,-0.5\" stroke=\"black\"/>\n",
       "<text font-family=\"Times,serif\" font-size=\"14.00\" text-anchor=\"middle\" x=\"103.647\" y=\"-25.5\">output, Conv2DLayer</text>\n",
       "<text font-family=\"Times,serif\" font-size=\"14.00\" text-anchor=\"middle\" x=\"103.647\" y=\"-8.7\">Output shape: (None, 3, 96, 96)</text>\n",
       "</g>\n",
       "<!-- lasagne.layers.conv.Conv2DLayer object at 0x7f9cb5150c90&#45;&gt;lasagne.layers.conv.Conv2DLayer object at 0x7f9cb5150650 -->\n",
       "<g class=\"edge\" id=\"edge4\"><title>lasagne.layers.conv.Conv2DLayer object at 0x7f9cb5150c90-&gt;lasagne.layers.conv.Conv2DLayer object at 0x7f9cb5150650</title>\n",
       "<path d=\"M103.647,-78.7743C103.647,-70.6819 103.647,-61.1803 103.647,-52.3033\" fill=\"none\" stroke=\"black\"/>\n",
       "<polygon fill=\"black\" points=\"107.147,-52.2913 103.647,-42.2913 100.147,-52.2914 107.147,-52.2913\" stroke=\"black\"/>\n",
       "</g>\n",
       "<!-- lasagne.layers.conv.Conv2DLayer object at 0x7f9cb5150750&#45;&gt;lasagne.layers.conv.Conv2DLayer object at 0x7f9cb5150c90 -->\n",
       "<g class=\"edge\" id=\"edge3\"><title>lasagne.layers.conv.Conv2DLayer object at 0x7f9cb5150750-&gt;lasagne.layers.conv.Conv2DLayer object at 0x7f9cb5150c90</title>\n",
       "<path d=\"M103.647,-157.374C103.647,-149.282 103.647,-139.78 103.647,-130.903\" fill=\"none\" stroke=\"black\"/>\n",
       "<polygon fill=\"black\" points=\"107.147,-130.891 103.647,-120.891 100.147,-130.891 107.147,-130.891\" stroke=\"black\"/>\n",
       "</g>\n",
       "</g>\n",
       "</svg>"
      ],
      "text/plain": [
       "<IPython.core.display.SVG object>"
      ]
     },
     "execution_count": 8,
     "metadata": {},
     "output_type": "execute_result"
    }
   ],
   "source": [
    "from lasagnekit.misc.draw_net import draw_to_file\n",
    "from IPython.display import SVG\n",
    "draw_to_file(layers.get_all_layers(all_layers['output']), 'out.svg')\n",
    "SVG('out.svg')"
   ]
  },
  {
   "cell_type": "code",
   "execution_count": 9,
   "metadata": {
    "collapsed": false
   },
   "outputs": [],
   "source": [
    "train_fn = theano.function([X, Y], loss, updates=params_updates, on_unused_input='warn')"
   ]
  },
  {
   "cell_type": "code",
   "execution_count": 10,
   "metadata": {
    "collapsed": false
   },
   "outputs": [],
   "source": [
    "predict_fn = theano.function([X], Y_pred, on_unused_input='warn')"
   ]
  },
  {
   "cell_type": "code",
   "execution_count": 11,
   "metadata": {
    "collapsed": false
   },
   "outputs": [],
   "source": [
    "from data import load_data\n",
    "from lasagnekit.datasets.rescaled import Rescaled\n",
    "from lasagnekit.easy import iterate_minibatches\n",
    "from lasagnekit.datasets.imagecollection import ImageCollection\n",
    "from lasagnekit.datasets.transformed import Transformed\n",
    "from lasagnekit.datasets.stl import STL\n",
    "from lasagnekit.datasets.helpers import load_once, split\n",
    "from lasagnekit.datasets.subsampled import SubSampled\n",
    "\n",
    "w, h = 96, 96\n",
    "scale = {1: 96, 2: 96/4}\n",
    "batch_size = 128\n",
    "\n",
    "c = 3\n",
    "\n",
    "data_scale1 = load_once(STL)(kind='unlabeled')\n",
    "data_scale1.load()"
   ]
  },
  {
   "cell_type": "code",
   "execution_count": 12,
   "metadata": {
    "collapsed": false
   },
   "outputs": [],
   "source": [
    "data_scale1_train, data_scale1_test = split(data_scale1, test_size=0.01)"
   ]
  },
  {
   "cell_type": "code",
   "execution_count": 13,
   "metadata": {
    "collapsed": false
   },
   "outputs": [],
   "source": [
    "data_scale1_train = SubSampled(data_scale1, batch_size, mode='random')\n",
    "data_scale2_train = Rescaled(data_scale1_train, (scale[2], scale[2]))\n",
    "data_scale2_train = Rescaled(data_scale2_train, (scale[1], scale[1]))"
   ]
  },
  {
   "cell_type": "code",
   "execution_count": 14,
   "metadata": {
    "collapsed": false
   },
   "outputs": [],
   "source": [
    "data_scale2_test = Rescaled(data_scale1_test, (scale[2], scale[2]))\n",
    "data_scale2_test = Rescaled(data_scale2_test, (scale[1], scale[1]))"
   ]
  },
  {
   "cell_type": "code",
   "execution_count": 15,
   "metadata": {
    "collapsed": false
   },
   "outputs": [],
   "source": [
    "data_scale2_test.load()"
   ]
  },
  {
   "cell_type": "code",
   "execution_count": 16,
   "metadata": {
    "collapsed": true
   },
   "outputs": [],
   "source": [
    "def preprocess(x, s=32):\n",
    "    x = x.reshape((x.shape[0], s, s, c))\n",
    "    x = x.transpose((0, 3, 1, 2))\n",
    "    return x"
   ]
  },
  {
   "cell_type": "code",
   "execution_count": 17,
   "metadata": {
    "collapsed": false
   },
   "outputs": [
    {
     "name": "stdout",
     "output_type": "stream",
     "text": [
      "(None, 3, 96, 96)\n"
     ]
    }
   ],
   "source": [
    "print(all_layers['output'].output_shape)"
   ]
  },
  {
   "cell_type": "code",
   "execution_count": 18,
   "metadata": {
    "collapsed": false
   },
   "outputs": [],
   "source": [
    "from time import time, sleep"
   ]
  },
  {
   "cell_type": "code",
   "execution_count": null,
   "metadata": {
    "collapsed": false
   },
   "outputs": [
    {
     "name": "stdout",
     "output_type": "stream",
     "text": [
      "Nb of seconds to the last validation step : 2.56984806061\n",
      "computing test performance\n",
      "train_loss : 185.045422363, test_loss : 737.37336731"
     ]
    }
   ],
   "source": [
    "a = 0.001\n",
    "lr.set_value(a)\n",
    "train_loss = []\n",
    "test_loss = []\n",
    "avg_loss = 0\n",
    "\n",
    "start = time()\n",
    "for i in range(100000):\n",
    "    data_scale1_train.load()\n",
    "    data_scale2_train.load()\n",
    "    # update parameters based on one minibatch\n",
    "    X_scale1 = preprocess(data_scale1_train.X, s=scale[1])\n",
    "    X_scale2 = preprocess(data_scale2_train.X, s=scale[1])\n",
    "    loss_val = train_fn(X_scale2, X_scale1 - X_scale2)\n",
    "    avg_loss = 0.9 * avg_loss + 0.1 * loss_val\n",
    "    train_loss.append(avg_loss)\n",
    "    \n",
    "    if i % 1000 == 0:\n",
    "        delta = time() - start\n",
    "        start = time()\n",
    "        print('Nb of seconds to the last validation step : {}'.format(delta))\n",
    "        print(\"computing test performance\")\n",
    "        X_scale1 = preprocess(data_scale1_test.X, s=scale[1])\n",
    "        X_scale2 = preprocess(data_scale2_test.X, s=scale[1])\n",
    "        # test the model on test data\n",
    "        total_loss = 0.\n",
    "        nb = 0\n",
    "        for mini_batch in iterate_minibatches(len(X_scale1), batch_size):\n",
    "            resid = (X_scale1[mini_batch] - X_scale2[mini_batch])\n",
    "            pred_resid = predict_fn(X_scale2[mini_batch])\n",
    "            loss_val = ((pred_resid - resid) ** 2).mean()\n",
    "            total_loss += loss_val\n",
    "            nb += 1\n",
    "        total_loss /= nb\n",
    "        test_loss.append(total_loss)\n",
    "        print('train_loss : {}, test_loss : {}'.format(train_loss[-1], test_loss[-1]))"
   ]
  },
  {
   "cell_type": "code",
   "execution_count": null,
   "metadata": {
    "collapsed": false
   },
   "outputs": [],
   "source": [
    "plt.plot(test_loss)"
   ]
  },
  {
   "cell_type": "code",
   "execution_count": null,
   "metadata": {
    "collapsed": false
   },
   "outputs": [],
   "source": [
    "sout1 = X_scale2[0:100]\n",
    "for i in range(1):\n",
    "    out1 = predict_fn(out1)\n",
    "#out1 = X_scale1[0:100]"
   ]
  },
  {
   "cell_type": "code",
   "execution_count": null,
   "metadata": {
    "collapsed": false,
    "scrolled": true
   },
   "outputs": [],
   "source": [
    "%matplotlib inline\n",
    "import matplotlib.pyplot as plt\n",
    "from lasagnekit.misc.plot_weights import dispims_color\n",
    "\n",
    "fig = plt.figure(figsize=(20, 20))\n",
    "img = dispims_color(X_scale2[0:100].transpose((0, 2, 3, 1)),border=1)\n",
    "plt.imshow(img, interpolation='none')\n",
    "\n",
    "\n",
    "fig = plt.figure(figsize=(20, 20))\n",
    "img = dispims_color(X_scale1[0:100].transpose((0, 2, 3, 1)),border=1)\n",
    "plt.imshow(img, interpolation='none')\n",
    "\n",
    "fig = plt.figure(figsize=(20, 20))\n",
    "img = dispims_color((out1[0:100] + X_scale2[0:100]).transpose((0, 2, 3, 1)),border=1)\n",
    "plt.imshow(img, interpolation='none')"
   ]
  },
  {
   "cell_type": "code",
   "execution_count": null,
   "metadata": {
    "collapsed": false
   },
   "outputs": [],
   "source": [
    "ss = np.random.uniform(size=(100, c, 32, 32))\n",
    "ss = ss.astype(np.float32)\n",
    "for i in range(10):\n",
    "    ss = predict_fn(ss)\n",
    "%matplotlib inline\n",
    "import matplotlib.pyplot as plt\n",
    "from lasagnekit.misc.plot_weights import dispims_color\n",
    "fig = plt.figure(figsize=(10, 10))\n",
    "img = dispims_color(ss[0:100].transpose((0, 2, 3, 1)),border=1)\n",
    "plt.axis('off')\n",
    "plt.imshow(img, interpolation='none')"
   ]
  }
 ],
 "metadata": {
  "kernelspec": {
   "display_name": "Python 2",
   "language": "python",
   "name": "python2"
  },
  "language_info": {
   "codemirror_mode": {
    "name": "ipython",
    "version": 2
   },
   "file_extension": ".py",
   "mimetype": "text/x-python",
   "name": "python",
   "nbconvert_exporter": "python",
   "pygments_lexer": "ipython2",
   "version": "2.7.11"
  }
 },
 "nbformat": 4,
 "nbformat_minor": 0
}
