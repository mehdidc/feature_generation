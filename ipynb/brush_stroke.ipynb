{
 "cells": [
  {
   "cell_type": "code",
   "execution_count": 1,
   "metadata": {
    "collapsed": false
   },
   "outputs": [
    {
     "name": "stderr",
     "output_type": "stream",
     "text": [
      "/home/mcherti/miniconda/envs/databoard-env/lib/python2.7/site-packages/matplotlib/__init__.py:1350: UserWarning:  This call to matplotlib.use() has no effect\n",
      "because the backend has already been chosen;\n",
      "matplotlib.use() must be called *before* pylab, matplotlib.pyplot,\n",
      "or matplotlib.backends is imported for the first time.\n",
      "\n",
      "  warnings.warn(_use_error_msg)\n",
      "/home/mcherti/work/code/external/scikit-learn/sklearn/cross_validation.py:43: DeprecationWarning: This module has been deprecated in favor of the model_selection module into which all the refactored classes and functions are moved. Also note that the interface of the new CV iterators are different from that of this module. This module will be removed in 0.20.\n",
      "  \"This module will be removed in 0.20.\", DeprecationWarning)\n"
     ]
    },
    {
     "name": "stdout",
     "output_type": "stream",
     "text": [
      "Couldn't import dot_parser, loading of dot files will not be possible.\n"
     ]
    }
   ],
   "source": [
    "%matplotlib inline\n",
    "\n",
    "import os\n",
    "import sys\n",
    "os.environ['OMP_NUM_THREADS'] = '1'\n",
    "os.environ['THEANO_FLAGS'] = 'device=cpu'\n",
    "sys.path.append(os.getcwd()+\"/..\")\n",
    "sys.path.append(os.getcwd()+\"/dcgan/\")\n",
    "\n",
    "from scripts.imgtovideo import imgs_to_video\n",
    "import theano.tensor as T\n",
    "import theano\n",
    "\n",
    "import lasagne\n",
    "\n",
    "from tasks import check\n",
    "from scripts import manifold\n",
    "from lasagne import layers as L\n",
    "\n",
    "from lasagnekit.misc.plot_weights import dispims_color, tile_raster_images\n",
    "import matplotlib.pyplot as plt\n",
    "from skimage.io import imsave\n",
    "\n",
    "from sklearn.decomposition import PCA, IncrementalPCA\n",
    "from sklearn.manifold import TSNE\n",
    "from image_scatter import image_scatter\n",
    "from tqdm import tqdm\n",
    "\n",
    "from IPython.display import Image\n",
    "\n",
    "import matplotlib.pyplot as plt\n",
    "from lasagnekit.misc.plot_weights import tile_raster_images\n",
    "import numpy as np\n",
    "from lasagnekit.misc.plot_weights import dispims_color\n",
    "from skimage.io import imsave\n",
    "from helpers import salt_and_pepper\n",
    "\n",
    "def sample(x):\n",
    "    return (np.random.uniform(size=x.shape) <= x).astype(np.float32)\n",
    "\n",
    "def floatX(x):\n",
    "    return x.astype(np.float32)\n",
    "\n",
    "def iterate_minibatches(inputs, targets, batchsize, shuffle=False):\n",
    "    assert len(inputs) == len(targets)\n",
    "    if shuffle:\n",
    "        indices = np.arange(len(inputs))\n",
    "        np.random.shuffle(indices)\n",
    "    for start_idx in range(0, max(len(inputs) - batchsize + 1, len(inputs)), batchsize):\n",
    "        if shuffle:\n",
    "            excerpt = indices[start_idx:start_idx + batchsize]\n",
    "        else:\n",
    "            excerpt = slice(start_idx, start_idx + batchsize)\n",
    "        yield inputs[excerpt], targets[excerpt]\n",
    "\n",
    "def norm(x):\n",
    "    return (x - x.min()) / (x.max() - x.min() + (x.max()==x.min()) + 1e-12)\n",
    "\n",
    "from skimage.io import imsave\n",
    "\n",
    "def sigmoid(x):\n",
    "    return 1./(1. + np.exp(-x))\n",
    "\n",
    "def concat_imgs(a, b):\n",
    "    assert a.shape[0] == b.shape[0]\n",
    "    \n",
    "    c = np.zeros((a.shape[0], a.shape[1] + b.shape[1], a.shape[2]))\n",
    "    c[:, 0:a.shape[1]] = a\n",
    "    c[:, a.shape[1]:] = b\n",
    "    return c"
   ]
  },
  {
   "cell_type": "code",
   "execution_count": 2,
   "metadata": {
    "collapsed": false
   },
   "outputs": [
    {
     "name": "stdout",
     "output_type": "stream",
     "text": [
      "Loading data...\n"
     ]
    },
    {
     "name": "stderr",
     "output_type": "stream",
     "text": [
      "INFO:tasks:Loading data...\n"
     ]
    },
    {
     "name": "stdout",
     "output_type": "stream",
     "text": [
      "Loading the model...\n"
     ]
    },
    {
     "name": "stderr",
     "output_type": "stream",
     "text": [
      "INFO:tasks:Loading the model...\n"
     ]
    },
    {
     "name": "stdout",
     "output_type": "stream",
     "text": [
      "Compiling the model...\n"
     ]
    },
    {
     "name": "stderr",
     "output_type": "stream",
     "text": [
      "INFO:tasks:Compiling the model...\n"
     ]
    },
    {
     "name": "stdout",
     "output_type": "stream",
     "text": [
      "{'patience_stat': 'avg_loss_train_fix', 'epsilon': 1e-08, 'max_nb_epochs': 9999999999, 'batch_size': 128, 'initial_lr': 0.1, 'patience_nb_epochs': 800, 'lr_decay_method': 'none', 'beta2': 0.95, 'beta1': 0.95, 'min_nb_epochs': 100000, 'lr_decay': 0, 'momentum': 0.9, 'algo': 'adadelta'}\n"
     ]
    }
   ],
   "source": [
    "#../training/brush7/model.pkl (over)\n",
    "#../jobs/results/df2631577eaf38b002c6c0ae6f1937e1/model.pkl (without over)\n",
    "w_out = 28\n",
    "h_out = 28\n",
    "\n",
    "v = check(\n",
    "    what=\"notebook\", \n",
    "    filename=\"../training/brush7/model.pkl\", \n",
    "    #filename=\"../training/initial_models/model_E.pkl\",\n",
    "    dataset='digits',\n",
    "    #force_w=28,\n",
    "    #force_h=28,\n",
    "    #force_c=1,\n",
    "    #mode='minibatch'\n",
    "    force_model_params=dict(w_out=w_out, h_out=w_out)\n",
    ")\n"
   ]
  },
  {
   "cell_type": "code",
   "execution_count": 3,
   "metadata": {
    "collapsed": true
   },
   "outputs": [],
   "source": [
    "capsule, data, layers, w, h, c = v"
   ]
  },
  {
   "cell_type": "code",
   "execution_count": 4,
   "metadata": {
    "collapsed": true
   },
   "outputs": [],
   "source": [
    "bias = layers['bias'].b.get_value()"
   ]
  },
  {
   "cell_type": "code",
   "execution_count": 5,
   "metadata": {
    "collapsed": false
   },
   "outputs": [],
   "source": [
    "X = T.tensor4()\n",
    "encode = theano.function(\n",
    "    [X], \n",
    "    L.get_output(layers['brush'], X)\n",
    ")\n",
    "\n",
    "encode_coords = theano.function(\n",
    "    [X],\n",
    "    L.get_output(layers['coord'], X)\n",
    ")"
   ]
  },
  {
   "cell_type": "code",
   "execution_count": 7,
   "metadata": {
    "collapsed": true
   },
   "outputs": [],
   "source": [
    "nb_examples = 10*10"
   ]
  },
  {
   "cell_type": "markdown",
   "metadata": {},
   "source": [
    "## sequential generation"
   ]
  },
  {
   "cell_type": "code",
   "execution_count": 8,
   "metadata": {
    "collapsed": false
   },
   "outputs": [
    {
     "data": {
      "image/png": "[encoded data removed]",
      "text/plain": [
       "<matplotlib.figure.Figure at 0x7f64efa1d450>"
      ]
     },
     "metadata": {},
     "output_type": "display_data"
    }
   ],
   "source": [
    "X = capsule.preprocess(data.train.X[0:nb_examples])\n",
    "xx = X.copy()\n",
    "xx = xx.transpose((0, 2, 3, 1)) * np.ones((1, 1, 1, 3))\n",
    "source = dispims_color(xx, border=0)\n",
    "\n",
    "    \n",
    "y = encode(X)\n",
    "\n",
    "imgs = []\n",
    "for t in range(y.shape[1]):\n",
    "    yy = y[:, t]\n",
    "    yy = yy[:, :, :, None] * np.ones((1, 1, 1, 3))\n",
    "    yy = sigmoid(yy+bias)\n",
    "    img = dispims_color(yy, border=0)\n",
    "    plt.imshow(img)\n",
    "    imgs.append(img)\n",
    "\n",
    "seq_imgs = imgs"
   ]
  },
  {
   "cell_type": "code",
   "execution_count": null,
   "metadata": {
    "collapsed": false
   },
   "outputs": [],
   "source": [
    "X = capsule.preprocess(data.train.X[0:nb_examples])\n",
    "y = encode_coords(X)\n",
    "\n",
    "imgs = []\n",
    "canvas = []\n",
    "for t in range(y.shape[1]):\n",
    "    \n",
    "    gx, gy = y[:, t, 0], y[:, t, 1]\n",
    "    gx = sigmoid(gx) * w_out\n",
    "    gy = sigmoid(gy) * h_out\n",
    "    img = np.zeros((y.shape[0], w_out, h_out))\n",
    "    if len(canvas):\n",
    "        img = canvas[-1]\n",
    "    for i in range(y.shape[0]):\n",
    "        img[i, gx[i] - 1, gy[i] - 1] = 1\n",
    "    \n",
    "    canvas.append(img)\n",
    "\n",
    "    img = dispims_color(img[:, :, :, None] * np.ones((1, 1, 1, 3)), bordercolor=(255, 255, 255))\n",
    "    imgs.append(img)\n",
    "seq_pointer = imgs"
   ]
  },
  {
   "cell_type": "code",
   "execution_count": 9,
   "metadata": {
    "collapsed": false
   },
   "outputs": [],
   "source": [
    "# you want just imgs\n",
    "\n",
    "imgs = seq_imgs\n",
    "\n",
    "# you want just pointers\n",
    "\n",
    "#imgs = seq_pointer\n",
    "\n",
    "# you want both\n",
    "\n",
    "#imgs = []\n",
    "#for img, ptr in zip(seq_imgs, seq_pointer):\n",
    "#    imgs.append(concat_imgs(img, ptr))"
   ]
  },
  {
   "cell_type": "markdown",
   "metadata": {},
   "source": [
    "## Make a video and an image"
   ]
  },
  {
   "cell_type": "code",
   "execution_count": 10,
   "metadata": {
    "collapsed": false
   },
   "outputs": [
    {
     "name": "stderr",
     "output_type": "stream",
     "text": [
      "/home/mcherti/miniconda/envs/databoard-env/lib/python2.7/site-packages/skimage/util/dtype.py:111: UserWarning: Possible precision loss when converting from float64 to uint8\n",
      "  \"%s to %s\" % (dtypeobj_in, dtypeobj))\n"
     ]
    }
   ],
   "source": [
    "imgs = [np.zeros_like(imgs[0])] + imgs\n",
    "img_aggreg = np.zeros((img.shape[0], img.shape[1]*2, 3))\n",
    "img_aggreg[0:source.shape[0], 0:source.shape[1]] = source\n",
    "img_aggreg[:, source.shape[1]:source.shape[1]+img.shape[1]] = img\n",
    "imsave('out.png', img_aggreg)"
   ]
  },
  {
   "cell_type": "code",
   "execution_count": 11,
   "metadata": {
    "collapsed": false
   },
   "outputs": [
    {
     "name": "stderr",
     "output_type": "stream",
     "text": [
      "/home/mcherti/miniconda/envs/databoard-env/lib/python2.7/site-packages/skimage/io/_io.py:159: UserWarning: /tmp/img_to_videoZZdC5t/img00000000.png is a low contrast image\n",
      "  warnings.warn('%s is a low contrast image' % fname)\n"
     ]
    },
    {
     "name": "stdout",
     "output_type": "stream",
     "text": [
      "ffmpeg -framerate 8 -i img%08d.png -c:v libx264 -r 8 -pix_fmt yuv420p /home/mcherti/work/code/feature_generation/ipynb/out.mp4\n"
     ]
    }
   ],
   "source": [
    "import os\n",
    "if os.path.exists('out.mp4'):\n",
    "    os.remove('out.mp4')\n",
    "imgs_to_video(imgs, out='out.mp4', verbose=1, framerate=8, rate=8)"
   ]
  },
  {
   "cell_type": "code",
   "execution_count": 13,
   "metadata": {
    "collapsed": false
   },
   "outputs": [
    {
     "data": {
      "text/html": [
       "\n",
       "        <video width=\"320\" height=\"240\" controls>\n",
       "        <source src=\"out.mp4\" type=\"video/mp4\">\n",
       "        </video>\n",
       "        "
      ],
      "text/plain": [
       "<IPython.core.display.HTML object>"
      ]
     },
     "execution_count": 13,
     "metadata": {},
     "output_type": "execute_result"
    }
   ],
   "source": [
    "from IPython.display import HTML\n",
    "\n",
    "def embed_video(filename):\n",
    "    return HTML(\"\"\"\n",
    "        <video width=\"320\" height=\"240\" controls>\n",
    "        <source src=\"out.mp4\" type=\"video/mp4\">\n",
    "        </video>\n",
    "        \"\"\".format(filename))\n",
    "embed_video('out.mp4')"
   ]
  },
  {
   "cell_type": "code",
   "execution_count": null,
   "metadata": {
    "collapsed": true
   },
   "outputs": [],
   "source": []
  },
  {
   "cell_type": "code",
   "execution_count": null,
   "metadata": {
    "collapsed": true
   },
   "outputs": [],
   "source": []
  }
 ],
 "metadata": {
  "kernelspec": {
   "display_name": "Python 2",
   "language": "python",
   "name": "python2"
  },
  "language_info": {
   "codemirror_mode": {
    "name": "ipython",
    "version": 2
   },
   "file_extension": ".py",
   "mimetype": "text/x-python",
   "name": "python",
   "nbconvert_exporter": "python",
   "pygments_lexer": "ipython2",
   "version": "2.7.12"
  }
 },
 "nbformat": 4,
 "nbformat_minor": 0
}
