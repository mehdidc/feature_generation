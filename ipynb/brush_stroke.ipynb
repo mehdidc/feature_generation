{
 "cells": [
  {
   "cell_type": "code",
   "execution_count": null,
   "metadata": {
    "collapsed": false
   },
   "outputs": [],
   "source": [
    "%matplotlib inline\n",
    "\n",
    "import os\n",
    "import sys\n",
    "os.environ['OMP_NUM_THREADS'] = '1'\n",
    "os.environ['THEANO_FLAGS'] = 'device=cpu'\n",
    "sys.path.append(os.getcwd()+\"/..\")\n",
    "sys.path.append(os.getcwd()+\"/dcgan/\")\n",
    "\n",
    "from scripts.imgtovideo import imgs_to_video\n",
    "import theano.tensor as T\n",
    "import theano\n",
    "\n",
    "import lasagne\n",
    "\n",
    "from tasks import check\n",
    "from scripts import manifold\n",
    "from lasagne import layers as L\n",
    "\n",
    "from lasagnekit.misc.plot_weights import dispims_color, tile_raster_images\n",
    "import matplotlib.pyplot as plt\n",
    "from skimage.io import imsave\n",
    "\n",
    "from sklearn.decomposition import PCA, IncrementalPCA\n",
    "from sklearn.manifold import TSNE\n",
    "from image_scatter import image_scatter\n",
    "from tqdm import tqdm\n",
    "\n",
    "from IPython.display import Image\n",
    "\n",
    "import matplotlib.pyplot as plt\n",
    "from lasagnekit.misc.plot_weights import tile_raster_images\n",
    "import numpy as np\n",
    "from lasagnekit.misc.plot_weights import dispims_color\n",
    "from skimage.io import imsave\n",
    "from helpers import salt_and_pepper\n",
    "\n",
    "def sample(x):\n",
    "    return (np.random.uniform(size=x.shape) <= x).astype(np.float32)\n",
    "\n",
    "def floatX(x):\n",
    "    return x.astype(np.float32)\n",
    "\n",
    "def iterate_minibatches(inputs, targets, batchsize, shuffle=False):\n",
    "    assert len(inputs) == len(targets)\n",
    "    if shuffle:\n",
    "        indices = np.arange(len(inputs))\n",
    "        np.random.shuffle(indices)\n",
    "    for start_idx in range(0, max(len(inputs) - batchsize + 1, len(inputs)), batchsize):\n",
    "        if shuffle:\n",
    "            excerpt = indices[start_idx:start_idx + batchsize]\n",
    "        else:\n",
    "            excerpt = slice(start_idx, start_idx + batchsize)\n",
    "        yield inputs[excerpt], targets[excerpt]\n",
    "\n",
    "def norm(x):\n",
    "    return (x - x.min()) / (x.max() - x.min() + (x.max()==x.min()) + 1e-12)\n",
    "\n",
    "from skimage.io import imsave\n",
    "\n",
    "def sigmoid(x):\n",
    "    return 1./(1. + np.exp(-x))\n",
    "\n",
    "def concat_imgs(a, b):\n",
    "    assert a.shape[0] == b.shape[0]\n",
    "    \n",
    "    c = np.zeros((a.shape[0], a.shape[1] + b.shape[1], a.shape[2]))\n",
    "    c[:, 0:a.shape[1]] = a\n",
    "    c[:, a.shape[1]:] = b\n",
    "    return c"
   ]
  },
  {
   "cell_type": "code",
   "execution_count": null,
   "metadata": {
    "collapsed": false
   },
   "outputs": [],
   "source": [
    "#../training/brush7/model.pkl (over)\n",
    "#../jobs/results/df2631577eaf38b002c6c0ae6f1937e1/model.pkl (without over)\n",
    "w_out = 112\n",
    "h_out = 112\n",
    "\n",
    "v = check(\n",
    "    what=\"notebook\", \n",
    "    filename=\"../training/brush7/model.pkl\", \n",
    "    #filename=\"../training/initial_models/model_E.pkl\",\n",
    "    dataset='digits',\n",
    "    #force_w=28,\n",
    "    #force_h=28,\n",
    "    #force_c=1,\n",
    "    #mode='minibatch'\n",
    "    force_model_params=dict(w_out=w_out, h_out=w_out)\n",
    ")\n"
   ]
  },
  {
   "cell_type": "code",
   "execution_count": null,
   "metadata": {
    "collapsed": true
   },
   "outputs": [],
   "source": [
    "capsule, data, layers, w, h, c = v"
   ]
  },
  {
   "cell_type": "code",
   "execution_count": null,
   "metadata": {
    "collapsed": true
   },
   "outputs": [],
   "source": [
    "bias = layers['bias'].b.get_value()"
   ]
  },
  {
   "cell_type": "code",
   "execution_count": null,
   "metadata": {
    "collapsed": false
   },
   "outputs": [],
   "source": [
    "X = T.tensor4()\n",
    "encode = theano.function(\n",
    "    [X], \n",
    "    L.get_output(layers['brush'], X)\n",
    ")\n",
    "\n",
    "encode_coords = theano.function(\n",
    "    [X],\n",
    "    L.get_output(layers['coord'], X)\n",
    ")"
   ]
  },
  {
   "cell_type": "code",
   "execution_count": null,
   "metadata": {
    "collapsed": true
   },
   "outputs": [],
   "source": [
    "nb_examples = 16*16"
   ]
  },
  {
   "cell_type": "markdown",
   "metadata": {},
   "source": [
    "## sequential generation"
   ]
  },
  {
   "cell_type": "code",
   "execution_count": null,
   "metadata": {
    "collapsed": false
   },
   "outputs": [],
   "source": [
    "X = capsule.preprocess(data.train.X[0:nb_examples])\n",
    "xx = X.copy()\n",
    "xx = xx.transpose((0, 2, 3, 1)) * np.ones((1, 1, 1, 3))\n",
    "source = dispims_color(xx, border=0)\n",
    "\n",
    "    \n",
    "y = encode(X)\n",
    "\n",
    "imgs = []\n",
    "for t in range(y.shape[1]):\n",
    "    yy = y[:, t]\n",
    "    yy = yy[:, :, :, None] * np.ones((1, 1, 1, 3))\n",
    "    yy = sigmoid(yy+bias)\n",
    "    img = dispims_color(yy, border=0)\n",
    "    plt.imshow(img)\n",
    "    imgs.append(img)\n",
    "\n",
    "seq_imgs = imgs"
   ]
  },
  {
   "cell_type": "code",
   "execution_count": null,
   "metadata": {
    "collapsed": false
   },
   "outputs": [],
   "source": [
    "X = capsule.preprocess(data.train.X[0:nb_examples])\n",
    "y = encode_coords(X)\n",
    "\n",
    "imgs = []\n",
    "canvas = []\n",
    "for t in range(y.shape[1]):\n",
    "    \n",
    "    gx, gy = y[:, t, 0], y[:, t, 1]\n",
    "    gx = sigmoid(gx) * w_out\n",
    "    gy = sigmoid(gy) * h_out\n",
    "    img = np.zeros((y.shape[0], w_out, h_out))\n",
    "    if len(canvas):\n",
    "        img = canvas[-1]\n",
    "    for i in range(y.shape[0]):\n",
    "        img[i, gx[i] - 1, gy[i] - 1] = 1\n",
    "    \n",
    "    canvas.append(img)\n",
    "\n",
    "    img = dispims_color(img[:, :, :, None] * np.ones((1, 1, 1, 3)), bordercolor=(255, 255, 255))\n",
    "    imgs.append(img)\n",
    "seq_pointer = imgs"
   ]
  },
  {
   "cell_type": "code",
   "execution_count": null,
   "metadata": {
    "collapsed": false
   },
   "outputs": [],
   "source": [
    "# you want just imgs\n",
    "\n",
    "#imgs = seq_imgs\n",
    "\n",
    "# you want just pointers\n",
    "\n",
    "#imgs = seq_pointer\n",
    "\n",
    "# you want both\n",
    "\n",
    "imgs = []\n",
    "for img, ptr in zip(seq_imgs, seq_pointer):\n",
    "    imgs.append(concat_imgs(img, ptr))"
   ]
  },
  {
   "cell_type": "markdown",
   "metadata": {},
   "source": [
    "## Make a video and an image"
   ]
  },
  {
   "cell_type": "code",
   "execution_count": null,
   "metadata": {
    "collapsed": false
   },
   "outputs": [],
   "source": [
    "imgs = [np.zeros_like(imgs[0])] + imgs\n",
    "img_aggreg = np.zeros((img.shape[0], img.shape[1]*2, 3))\n",
    "img_aggreg[0:source.shape[0], 0:source.shape[1]] = source\n",
    "img_aggreg[:, source.shape[1]:source.shape[1]+img.shape[1]] = img\n",
    "imsave('out.png', img_aggreg)"
   ]
  },
  {
   "cell_type": "code",
   "execution_count": null,
   "metadata": {
    "collapsed": false
   },
   "outputs": [],
   "source": [
    "import os\n",
    "if os.path.exists('out.mp4'):\n",
    "    os.remove('out.mp4')\n",
    "imgs_to_video(imgs, out='out.mp4', verbose=1, framerate=8, rate=8)"
   ]
  },
  {
   "cell_type": "code",
   "execution_count": null,
   "metadata": {
    "collapsed": true
   },
   "outputs": [],
   "source": []
  },
  {
   "cell_type": "code",
   "execution_count": null,
   "metadata": {
    "collapsed": true
   },
   "outputs": [],
   "source": []
  },
  {
   "cell_type": "code",
   "execution_count": null,
   "metadata": {
    "collapsed": true
   },
   "outputs": [],
   "source": []
  }
 ],
 "metadata": {
  "kernelspec": {
   "display_name": "Python 2",
   "language": "python",
   "name": "python2"
  },
  "language_info": {
   "codemirror_mode": {
    "name": "ipython",
    "version": 2
   },
   "file_extension": ".py",
   "mimetype": "text/x-python",
   "name": "python",
   "nbconvert_exporter": "python",
   "pygments_lexer": "ipython2",
   "version": "2.7.12"
  }
 },
 "nbformat": 4,
 "nbformat_minor": 0
}
