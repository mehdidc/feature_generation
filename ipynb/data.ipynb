{
 "cells": [
  {
   "cell_type": "code",
   "execution_count": null,
   "metadata": {
    "collapsed": false
   },
   "outputs": [],
   "source": [
    "%matplotlib inline\n",
    "import matplotlib.pyplot as plt\n",
    "import os\n",
    "import sys\n",
    "os.environ[\"THEANO_FLAGS\"] = \"device=cpu\"\n",
    "sys.path.append(os.getcwd()+\"/..\")\n",
    "import lasagne\n",
    "import theano.tensor as T\n",
    "import theano\n",
    "import numpy as np\n",
    "from data import load_data\n",
    "from lasagnekit.misc.plot_weights import dispims_color"
   ]
  },
  {
   "cell_type": "code",
   "execution_count": null,
   "metadata": {
    "collapsed": false
   },
   "outputs": [],
   "source": [
    "\"\"\"\n",
    "data, _, _, _, _, _ = load_data(\n",
    "    dataset='digits', \n",
    "    w=None, h=None, \n",
    "    include_test=True, \n",
    "    batch_size=128, \n",
    "    mode='random',\n",
    "    train_classes=[0, 1, 2, 3, 4, 5, 8],\n",
    "    test_classes=[6, 7, 9])\n",
    "data.load()\n",
    "\"\"\"\n",
    "\n",
    "\"\"\"\n",
    "data, w, h, c, _, _ = load_data(\n",
    "    dataset='fonts_big'\n",
    ")\n",
    "data.load()\n",
    "\"\"\"\n",
    "\n",
    "data, w, h, c, _, _ = load_data(\n",
    "    dataset='fonts',\n",
    "    batch_size=100,\n",
    "    include_test=True\n",
    ")\n",
    "data.load()"
   ]
  },
  {
   "cell_type": "code",
   "execution_count": null,
   "metadata": {
    "collapsed": true
   },
   "outputs": [],
   "source": [
    "data.load()"
   ]
  },
  {
   "cell_type": "code",
   "execution_count": null,
   "metadata": {
    "collapsed": false
   },
   "outputs": [],
   "source": [
    "print(data.train.X.shape)\n",
    "print(data.test.X.shape)"
   ]
  },
  {
   "cell_type": "code",
   "execution_count": null,
   "metadata": {
    "collapsed": false,
    "scrolled": true
   },
   "outputs": [],
   "source": [
    "fig = plt.figure(figsize=(20, 20))\n",
    "X = data.X\n",
    "X = X.reshape((X.shape[0], c, w, h))\n",
    "X = X.transpose((0, 2, 3, 1))\n",
    "X = X * np.ones((1, 1, 1, 3))\n",
    "img = dispims_color(X)\n",
    "plt.imshow(img, interpolation='none')"
   ]
  }
 ],
 "metadata": {
  "kernelspec": {
   "display_name": "Python 2",
   "language": "python",
   "name": "python2"
  },
  "language_info": {
   "codemirror_mode": {
    "name": "ipython",
    "version": 2
   },
   "file_extension": ".py",
   "mimetype": "text/x-python",
   "name": "python",
   "nbconvert_exporter": "python",
   "pygments_lexer": "ipython2",
   "version": "2.7.11"
  }
 },
 "nbformat": 4,
 "nbformat_minor": 0
}
