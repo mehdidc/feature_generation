{
 "cells": [
  {
   "cell_type": "code",
   "execution_count": 121,
   "metadata": {
    "collapsed": true
   },
   "outputs": [],
   "source": [
    "%matplotlib notebook\n",
    "import sys\n",
    "sys.path.append('..')\n",
    "from __future__ import print_function\n",
    "from matplotlib.widgets import RectangleSelector\n",
    "import numpy as np\n",
    "import matplotlib.pyplot as plt\n",
    "from lightjob.cli import load_db\n",
    "import re\n",
    "import h5py\n",
    "import json\n",
    "import pandas as pd\n",
    "from lasagnekit.misc.plot_weights import dispims_color\n",
    "from ipywidgets import interact, interactive, fixed"
   ]
  },
  {
   "cell_type": "code",
   "execution_count": 122,
   "metadata": {
    "collapsed": false
   },
   "outputs": [],
   "source": [
    "# storing global variables\n",
    "class Singleton(object):\n",
    "    img_plot = None\n",
    "    rectangle_selector = None\n",
    "    tsne_df = None\n",
    "    err = []\n",
    "    X_model = None\n",
    "    \n",
    "# matplotlib interactive stuff\n",
    "def line_select_callback(eclick, erelease):\n",
    "    'eclick and erelease are the press and release events'\n",
    "    try:\n",
    "        x1, y1 = eclick.xdata, eclick.ydata\n",
    "        x2, y2 = erelease.xdata, erelease.ydata\n",
    "        w, h = 28, 28 # mnist dim\n",
    "        x = np.array(Singleton.tsne_df['x'])\n",
    "        y = np.array(Singleton.tsne_df['y'])\n",
    "        tsne_filter = ((x >= x1) &\n",
    "                       (x <= x2) &\n",
    "                       (y >= y1) &\n",
    "                       (y <= y2))\n",
    "        tsne_df = Singleton.tsne_df.iloc[tsne_filter]\n",
    "        indices = tsne_df['ind']\n",
    "\n",
    "        if len(indices) == 0:\n",
    "            Singleton.img_plot.set_data(Singleton.img_plot.get_array() * 0)\n",
    "            return\n",
    "        samples = Singleton.X_model[indices]\n",
    "        samples = samples.reshape((samples.shape[0], w, h, 1)) * np.ones((1, 1, 1, 3))\n",
    "        img = dispims_color(samples, border=1, bordercolor=(10, 10, 10))\n",
    "        Singleton.img_plot.set_data(img)\n",
    "    except Exception as ex:\n",
    "        Singleton.err.append(str(ex))\n",
    "\n",
    "def toggle_selector(event):\n",
    "    if event.button:\n",
    "        Singleton.img_plot.set_data(Singleton.img_plot.get_array() * 0)\n",
    "    if event.key in ['Q', 'q'] and toggle_selector.RS.active:\n",
    "        sys.stdout.flush()\n",
    "        Singleton.rectangle_selector.set_active(False)\n",
    "        Singleton.img_plot.set_data(Singleton.img_plot.get_array() * 0)\n",
    "    if event.key in ['A', 'a'] and not toggle_selector.RS.active:\n",
    "        sys.stdout.flush()\n",
    "        Singleton.rectangle_selector.set_active(True)\n",
    "        Singleton.img_plot.set_data(Singleton.img_plot.get_array() * 0)\n",
    "\n",
    "# job retrieval\n",
    "def retrieve_job(pattern, db):\n",
    "    J = db.jobs_with(state='success', type='generation')\n",
    "    \n",
    "    J = filter(lambda j: re.match(pattern, j['summary']), J)\n",
    "    if len(J) == 0:\n",
    "        raise Exception('Not found : {}'.format(pattern))\n",
    "    return np.random.choice(J)\n",
    "\n",
    "def get_full_job_id(j):\n",
    "    return j['summary']\n",
    "\n",
    "def get_data_slice(X, id_):\n",
    "    js = json.loads(X.attrs[id_])\n",
    "    return slice(js['start'], js['end'])"
   ]
  },
  {
   "cell_type": "code",
   "execution_count": 123,
   "metadata": {
    "collapsed": false
   },
   "outputs": [
    {
     "name": "stdout",
     "output_type": "stream",
     "text": [
      "{u'backend': u'Dataset'}\n"
     ]
    }
   ],
   "source": [
    "db = load_db()"
   ]
  },
  {
   "cell_type": "code",
   "execution_count": 124,
   "metadata": {
    "collapsed": false
   },
   "outputs": [],
   "source": [
    "dataset = h5py.File('../figs/dataset.hdf5', 'r')\n",
    "X = dataset['X']"
   ]
  },
  {
   "cell_type": "code",
   "execution_count": 220,
   "metadata": {
    "collapsed": false
   },
   "outputs": [],
   "source": [
    "def show(id_pattern=''):\n",
    "    j = retrieve_job(id_pattern, db)\n",
    "    id_ = get_full_job_id(j)\n",
    "\n",
    "    X_model = X[get_data_slice(X, id_)]\n",
    "    Singleton.X_model = X_model\n",
    "    tsne_df = pd.read_csv('../jobs/results/{}/tsne_input.csv'.format(id_))\n",
    "    Singleton.tsne_df = tsne_df\n",
    "\n",
    "    fig = plt.figure(figsize=(15, 15))\n",
    "\n",
    "    ax1 = plt.subplot2grid((5, 6), (0, 0), colspan=3, rowspan=2)\n",
    "    ax2 = plt.subplot2grid((5, 6), (0, 3), colspan=2, rowspan=2)\n",
    "\n",
    "    ax1.scatter(tsne_df['x'], tsne_df['y'], marker='+')\n",
    "\n",
    "    Singleton.rectangle_selector = RectangleSelector(\n",
    "        ax1, line_select_callback,\n",
    "        drawtype='box', useblit=True,\n",
    "        button=[1, 3],  # don't use middle button\n",
    "        minspanx=5, mtrinspany=5,\n",
    "        spancoords='pixels',\n",
    "        interactive=True)\n",
    "    img_plot = ax2.imshow(np.zeros((20, 20)), interpolation='none', cmap='gray')\n",
    "    Singleton.img_plot = img_plot\n",
    "    plt.connect('key_press_event', toggle_selector)\n",
    "    plt.connect('button_press_event', toggle_selector)\n",
    "    plt.title(id_)\n",
    "    plt.tight_layout()\n",
    "\n",
    "    plt.show()"
   ]
  },
  {
   "cell_type": "code",
   "execution_count": 222,
   "metadata": {
    "collapsed": false,
    "scrolled": false
   },
   "outputs": [
    {
     "data": {
      "application/javascript": [
       "/* Put everything inside the global mpl namespace */\n",
       "window.mpl = {};\n",
       "\n",
       "mpl.get_websocket_type = function() {\n",
       "    if (typeof(WebSocket) !== 'undefined') {\n",
       "        return WebSocket;\n",
       "    } else if (typeof(MozWebSocket) !== 'undefined') {\n",
       "        return MozWebSocket;\n",
       "    } else {\n",
       "        alert('Your browser does not have WebSocket support.' +\n",
       "              'Please try Chrome, Safari or Firefox ≥ 6. ' +\n",
       "              'Firefox 4 and 5 are also supported but you ' +\n",
       "              'have to enable WebSockets in about:config.');\n",
       "    };\n",
       "}\n",
       "\n",
       "mpl.figure = function(figure_id, websocket, ondownload, parent_element) {\n",
       "    this.id = figure_id;\n",
       "\n",
       "    this.ws = websocket;\n",
       "\n",
       "    this.supports_binary = (this.ws.binaryType != undefined);\n",
       "\n",
       "    if (!this.supports_binary) {\n",
       "        var warnings = document.getElementById(\"mpl-warnings\");\n",
       "        if (warnings) {\n",
       "            warnings.style.display = 'block';\n",
       "            warnings.textContent = (\n",
       "                \"This browser does not support binary websocket messages. \" +\n",
       "                    \"Performance may be slow.\");\n",
       "        }\n",
       "    }\n",
       "\n",
       "    this.imageObj = new Image();\n",
       "\n",
       "    this.context = undefined;\n",
       "    this.message = undefined;\n",
       "    this.canvas = undefined;\n",
       "    this.rubberband_canvas = undefined;\n",
       "    this.rubberband_context = undefined;\n",
       "    this.format_dropdown = undefined;\n",
       "\n",
       "    this.image_mode = 'full';\n",
       "\n",
       "    this.root = $('<div/>');\n",
       "    this._root_extra_style(this.root)\n",
       "    this.root.attr('style', 'display: inline-block');\n",
       "\n",
       "    $(parent_element).append(this.root);\n",
       "\n",
       "    this._init_header(this);\n",
       "    this._init_canvas(this);\n",
       "    this._init_toolbar(this);\n",
       "\n",
       "    var fig = this;\n",
       "\n",
       "    this.waiting = false;\n",
       "\n",
       "    this.ws.onopen =  function () {\n",
       "            fig.send_message(\"supports_binary\", {value: fig.supports_binary});\n",
       "            fig.send_message(\"send_image_mode\", {});\n",
       "            fig.send_message(\"refresh\", {});\n",
       "        }\n",
       "\n",
       "    this.imageObj.onload = function() {\n",
       "            if (fig.image_mode == 'full') {\n",
       "                // Full images could contain transparency (where diff images\n",
       "                // almost always do), so we need to clear the canvas so that\n",
       "                // there is no ghosting.\n",
       "                fig.context.clearRect(0, 0, fig.canvas.width, fig.canvas.height);\n",
       "            }\n",
       "            fig.context.drawImage(fig.imageObj, 0, 0);\n",
       "        };\n",
       "\n",
       "    this.imageObj.onunload = function() {\n",
       "        this.ws.close();\n",
       "    }\n",
       "\n",
       "    this.ws.onmessage = this._make_on_message_function(this);\n",
       "\n",
       "    this.ondownload = ondownload;\n",
       "}\n",
       "\n",
       "mpl.figure.prototype._init_header = function() {\n",
       "    var titlebar = $(\n",
       "        '<div class=\"ui-dialog-titlebar ui-widget-header ui-corner-all ' +\n",
       "        'ui-helper-clearfix\"/>');\n",
       "    var titletext = $(\n",
       "        '<div class=\"ui-dialog-title\" style=\"width: 100%; ' +\n",
       "        'text-align: center; padding: 3px;\"/>');\n",
       "    titlebar.append(titletext)\n",
       "    this.root.append(titlebar);\n",
       "    this.header = titletext[0];\n",
       "}\n",
       "\n",
       "\n",
       "\n",
       "mpl.figure.prototype._canvas_extra_style = function(canvas_div) {\n",
       "\n",
       "}\n",
       "\n",
       "\n",
       "mpl.figure.prototype._root_extra_style = function(canvas_div) {\n",
       "\n",
       "}\n",
       "\n",
       "mpl.figure.prototype._init_canvas = function() {\n",
       "    var fig = this;\n",
       "\n",
       "    var canvas_div = $('<div/>');\n",
       "\n",
       "    canvas_div.attr('style', 'position: relative; clear: both; outline: 0');\n",
       "\n",
       "    function canvas_keyboard_event(event) {\n",
       "        return fig.key_event(event, event['data']);\n",
       "    }\n",
       "\n",
       "    canvas_div.keydown('key_press', canvas_keyboard_event);\n",
       "    canvas_div.keyup('key_release', canvas_keyboard_event);\n",
       "    this.canvas_div = canvas_div\n",
       "    this._canvas_extra_style(canvas_div)\n",
       "    this.root.append(canvas_div);\n",
       "\n",
       "    var canvas = $('<canvas/>');\n",
       "    canvas.addClass('mpl-canvas');\n",
       "    canvas.attr('style', \"left: 0; top: 0; z-index: 0; outline: 0\")\n",
       "\n",
       "    this.canvas = canvas[0];\n",
       "    this.context = canvas[0].getContext(\"2d\");\n",
       "\n",
       "    var rubberband = $('<canvas/>');\n",
       "    rubberband.attr('style', \"position: absolute; left: 0; top: 0; z-index: 1;\")\n",
       "\n",
       "    var pass_mouse_events = true;\n",
       "\n",
       "    canvas_div.resizable({\n",
       "        start: function(event, ui) {\n",
       "            pass_mouse_events = false;\n",
       "        },\n",
       "        resize: function(event, ui) {\n",
       "            fig.request_resize(ui.size.width, ui.size.height);\n",
       "        },\n",
       "        stop: function(event, ui) {\n",
       "            pass_mouse_events = true;\n",
       "            fig.request_resize(ui.size.width, ui.size.height);\n",
       "        },\n",
       "    });\n",
       "\n",
       "    function mouse_event_fn(event) {\n",
       "        if (pass_mouse_events)\n",
       "            return fig.mouse_event(event, event['data']);\n",
       "    }\n",
       "\n",
       "    rubberband.mousedown('button_press', mouse_event_fn);\n",
       "    rubberband.mouseup('button_release', mouse_event_fn);\n",
       "    // Throttle sequential mouse events to 1 every 20ms.\n",
       "    rubberband.mousemove('motion_notify', mouse_event_fn);\n",
       "\n",
       "    rubberband.mouseenter('figure_enter', mouse_event_fn);\n",
       "    rubberband.mouseleave('figure_leave', mouse_event_fn);\n",
       "\n",
       "    canvas_div.on(\"wheel\", function (event) {\n",
       "        event = event.originalEvent;\n",
       "        event['data'] = 'scroll'\n",
       "        if (event.deltaY < 0) {\n",
       "            event.step = 1;\n",
       "        } else {\n",
       "            event.step = -1;\n",
       "        }\n",
       "        mouse_event_fn(event);\n",
       "    });\n",
       "\n",
       "    canvas_div.append(canvas);\n",
       "    canvas_div.append(rubberband);\n",
       "\n",
       "    this.rubberband = rubberband;\n",
       "    this.rubberband_canvas = rubberband[0];\n",
       "    this.rubberband_context = rubberband[0].getContext(\"2d\");\n",
       "    this.rubberband_context.strokeStyle = \"#000000\";\n",
       "\n",
       "    this._resize_canvas = function(width, height) {\n",
       "        // Keep the size of the canvas, canvas container, and rubber band\n",
       "        // canvas in synch.\n",
       "        canvas_div.css('width', width)\n",
       "        canvas_div.css('height', height)\n",
       "\n",
       "        canvas.attr('width', width);\n",
       "        canvas.attr('height', height);\n",
       "\n",
       "        rubberband.attr('width', width);\n",
       "        rubberband.attr('height', height);\n",
       "    }\n",
       "\n",
       "    // Set the figure to an initial 600x600px, this will subsequently be updated\n",
       "    // upon first draw.\n",
       "    this._resize_canvas(600, 600);\n",
       "\n",
       "    // Disable right mouse context menu.\n",
       "    $(this.rubberband_canvas).bind(\"contextmenu\",function(e){\n",
       "        return false;\n",
       "    });\n",
       "\n",
       "    function set_focus () {\n",
       "        canvas.focus();\n",
       "        canvas_div.focus();\n",
       "    }\n",
       "\n",
       "    window.setTimeout(set_focus, 100);\n",
       "}\n",
       "\n",
       "mpl.figure.prototype._init_toolbar = function() {\n",
       "    var fig = this;\n",
       "\n",
       "    var nav_element = $('<div/>')\n",
       "    nav_element.attr('style', 'width: 100%');\n",
       "    this.root.append(nav_element);\n",
       "\n",
       "    // Define a callback function for later on.\n",
       "    function toolbar_event(event) {\n",
       "        return fig.toolbar_button_onclick(event['data']);\n",
       "    }\n",
       "    function toolbar_mouse_event(event) {\n",
       "        return fig.toolbar_button_onmouseover(event['data']);\n",
       "    }\n",
       "\n",
       "    for(var toolbar_ind in mpl.toolbar_items) {\n",
       "        var name = mpl.toolbar_items[toolbar_ind][0];\n",
       "        var tooltip = mpl.toolbar_items[toolbar_ind][1];\n",
       "        var image = mpl.toolbar_items[toolbar_ind][2];\n",
       "        var method_name = mpl.toolbar_items[toolbar_ind][3];\n",
       "\n",
       "        if (!name) {\n",
       "            // put a spacer in here.\n",
       "            continue;\n",
       "        }\n",
       "        var button = $('<button/>');\n",
       "        button.addClass('ui-button ui-widget ui-state-default ui-corner-all ' +\n",
       "                        'ui-button-icon-only');\n",
       "        button.attr('role', 'button');\n",
       "        button.attr('aria-disabled', 'false');\n",
       "        button.click(method_name, toolbar_event);\n",
       "        button.mouseover(tooltip, toolbar_mouse_event);\n",
       "\n",
       "        var icon_img = $('<span/>');\n",
       "        icon_img.addClass('ui-button-icon-primary ui-icon');\n",
       "        icon_img.addClass(image);\n",
       "        icon_img.addClass('ui-corner-all');\n",
       "\n",
       "        var tooltip_span = $('<span/>');\n",
       "        tooltip_span.addClass('ui-button-text');\n",
       "        tooltip_span.html(tooltip);\n",
       "\n",
       "        button.append(icon_img);\n",
       "        button.append(tooltip_span);\n",
       "\n",
       "        nav_element.append(button);\n",
       "    }\n",
       "\n",
       "    var fmt_picker_span = $('<span/>');\n",
       "\n",
       "    var fmt_picker = $('<select/>');\n",
       "    fmt_picker.addClass('mpl-toolbar-option ui-widget ui-widget-content');\n",
       "    fmt_picker_span.append(fmt_picker);\n",
       "    nav_element.append(fmt_picker_span);\n",
       "    this.format_dropdown = fmt_picker[0];\n",
       "\n",
       "    for (var ind in mpl.extensions) {\n",
       "        var fmt = mpl.extensions[ind];\n",
       "        var option = $(\n",
       "            '<option/>', {selected: fmt === mpl.default_extension}).html(fmt);\n",
       "        fmt_picker.append(option)\n",
       "    }\n",
       "\n",
       "    // Add hover states to the ui-buttons\n",
       "    $( \".ui-button\" ).hover(\n",
       "        function() { $(this).addClass(\"ui-state-hover\");},\n",
       "        function() { $(this).removeClass(\"ui-state-hover\");}\n",
       "    );\n",
       "\n",
       "    var status_bar = $('<span class=\"mpl-message\"/>');\n",
       "    nav_element.append(status_bar);\n",
       "    this.message = status_bar[0];\n",
       "}\n",
       "\n",
       "mpl.figure.prototype.request_resize = function(x_pixels, y_pixels) {\n",
       "    // Request matplotlib to resize the figure. Matplotlib will then trigger a resize in the client,\n",
       "    // which will in turn request a refresh of the image.\n",
       "    this.send_message('resize', {'width': x_pixels, 'height': y_pixels});\n",
       "}\n",
       "\n",
       "mpl.figure.prototype.send_message = function(type, properties) {\n",
       "    properties['type'] = type;\n",
       "    properties['figure_id'] = this.id;\n",
       "    this.ws.send(JSON.stringify(properties));\n",
       "}\n",
       "\n",
       "mpl.figure.prototype.send_draw_message = function() {\n",
       "    if (!this.waiting) {\n",
       "        this.waiting = true;\n",
       "        this.ws.send(JSON.stringify({type: \"draw\", figure_id: this.id}));\n",
       "    }\n",
       "}\n",
       "\n",
       "\n",
       "mpl.figure.prototype.handle_save = function(fig, msg) {\n",
       "    var format_dropdown = fig.format_dropdown;\n",
       "    var format = format_dropdown.options[format_dropdown.selectedIndex].value;\n",
       "    fig.ondownload(fig, format);\n",
       "}\n",
       "\n",
       "\n",
       "mpl.figure.prototype.handle_resize = function(fig, msg) {\n",
       "    var size = msg['size'];\n",
       "    if (size[0] != fig.canvas.width || size[1] != fig.canvas.height) {\n",
       "        fig._resize_canvas(size[0], size[1]);\n",
       "        fig.send_message(\"refresh\", {});\n",
       "    };\n",
       "}\n",
       "\n",
       "mpl.figure.prototype.handle_rubberband = function(fig, msg) {\n",
       "    var x0 = msg['x0'];\n",
       "    var y0 = fig.canvas.height - msg['y0'];\n",
       "    var x1 = msg['x1'];\n",
       "    var y1 = fig.canvas.height - msg['y1'];\n",
       "    x0 = Math.floor(x0) + 0.5;\n",
       "    y0 = Math.floor(y0) + 0.5;\n",
       "    x1 = Math.floor(x1) + 0.5;\n",
       "    y1 = Math.floor(y1) + 0.5;\n",
       "    var min_x = Math.min(x0, x1);\n",
       "    var min_y = Math.min(y0, y1);\n",
       "    var width = Math.abs(x1 - x0);\n",
       "    var height = Math.abs(y1 - y0);\n",
       "\n",
       "    fig.rubberband_context.clearRect(\n",
       "        0, 0, fig.canvas.width, fig.canvas.height);\n",
       "\n",
       "    fig.rubberband_context.strokeRect(min_x, min_y, width, height);\n",
       "}\n",
       "\n",
       "mpl.figure.prototype.handle_figure_label = function(fig, msg) {\n",
       "    // Updates the figure title.\n",
       "    fig.header.textContent = msg['label'];\n",
       "}\n",
       "\n",
       "mpl.figure.prototype.handle_cursor = function(fig, msg) {\n",
       "    var cursor = msg['cursor'];\n",
       "    switch(cursor)\n",
       "    {\n",
       "    case 0:\n",
       "        cursor = 'pointer';\n",
       "        break;\n",
       "    case 1:\n",
       "        cursor = 'default';\n",
       "        break;\n",
       "    case 2:\n",
       "        cursor = 'crosshair';\n",
       "        break;\n",
       "    case 3:\n",
       "        cursor = 'move';\n",
       "        break;\n",
       "    }\n",
       "    fig.rubberband_canvas.style.cursor = cursor;\n",
       "}\n",
       "\n",
       "mpl.figure.prototype.handle_message = function(fig, msg) {\n",
       "    fig.message.textContent = msg['message'];\n",
       "}\n",
       "\n",
       "mpl.figure.prototype.handle_draw = function(fig, msg) {\n",
       "    // Request the server to send over a new figure.\n",
       "    fig.send_draw_message();\n",
       "}\n",
       "\n",
       "mpl.figure.prototype.handle_image_mode = function(fig, msg) {\n",
       "    fig.image_mode = msg['mode'];\n",
       "}\n",
       "\n",
       "mpl.figure.prototype.updated_canvas_event = function() {\n",
       "    // Called whenever the canvas gets updated.\n",
       "    this.send_message(\"ack\", {});\n",
       "}\n",
       "\n",
       "// A function to construct a web socket function for onmessage handling.\n",
       "// Called in the figure constructor.\n",
       "mpl.figure.prototype._make_on_message_function = function(fig) {\n",
       "    return function socket_on_message(evt) {\n",
       "        if (evt.data instanceof Blob) {\n",
       "            /* FIXME: We get \"Resource interpreted as Image but\n",
       "             * transferred with MIME type text/plain:\" errors on\n",
       "             * Chrome.  But how to set the MIME type?  It doesn't seem\n",
       "             * to be part of the websocket stream */\n",
       "            evt.data.type = \"image/png\";\n",
       "\n",
       "            /* Free the memory for the previous frames */\n",
       "            if (fig.imageObj.src) {\n",
       "                (window.URL || window.webkitURL).revokeObjectURL(\n",
       "                    fig.imageObj.src);\n",
       "            }\n",
       "\n",
       "            fig.imageObj.src = (window.URL || window.webkitURL).createObjectURL(\n",
       "                evt.data);\n",
       "            fig.updated_canvas_event();\n",
       "            fig.waiting = false;\n",
       "            return;\n",
       "        }\n",
       "        else if (typeof evt.data === 'string' && evt.data.slice(0, 21) == \"data:image/png;base64\") {\n",
       "            fig.imageObj.src = evt.data;\n",
       "            fig.updated_canvas_event();\n",
       "            fig.waiting = false;\n",
       "            return;\n",
       "        }\n",
       "\n",
       "        var msg = JSON.parse(evt.data);\n",
       "        var msg_type = msg['type'];\n",
       "\n",
       "        // Call the  \"handle_{type}\" callback, which takes\n",
       "        // the figure and JSON message as its only arguments.\n",
       "        try {\n",
       "            var callback = fig[\"handle_\" + msg_type];\n",
       "        } catch (e) {\n",
       "            console.log(\"No handler for the '\" + msg_type + \"' message type: \", msg);\n",
       "            return;\n",
       "        }\n",
       "\n",
       "        if (callback) {\n",
       "            try {\n",
       "                // console.log(\"Handling '\" + msg_type + \"' message: \", msg);\n",
       "                callback(fig, msg);\n",
       "            } catch (e) {\n",
       "                console.log(\"Exception inside the 'handler_\" + msg_type + \"' callback:\", e, e.stack, msg);\n",
       "            }\n",
       "        }\n",
       "    };\n",
       "}\n",
       "\n",
       "// from http://stackoverflow.com/questions/1114465/getting-mouse-location-in-canvas\n",
       "mpl.findpos = function(e) {\n",
       "    //this section is from http://www.quirksmode.org/js/events_properties.html\n",
       "    var targ;\n",
       "    if (!e)\n",
       "        e = window.event;\n",
       "    if (e.target)\n",
       "        targ = e.target;\n",
       "    else if (e.srcElement)\n",
       "        targ = e.srcElement;\n",
       "    if (targ.nodeType == 3) // defeat Safari bug\n",
       "        targ = targ.parentNode;\n",
       "\n",
       "    // jQuery normalizes the pageX and pageY\n",
       "    // pageX,Y are the mouse positions relative to the document\n",
       "    // offset() returns the position of the element relative to the document\n",
       "    var x = e.pageX - $(targ).offset().left;\n",
       "    var y = e.pageY - $(targ).offset().top;\n",
       "\n",
       "    return {\"x\": x, \"y\": y};\n",
       "};\n",
       "\n",
       "/*\n",
       " * return a copy of an object with only non-object keys\n",
       " * we need this to avoid circular references\n",
       " * http://stackoverflow.com/a/24161582/3208463\n",
       " */\n",
       "function simpleKeys (original) {\n",
       "  return Object.keys(original).reduce(function (obj, key) {\n",
       "    if (typeof original[key] !== 'object')\n",
       "        obj[key] = original[key]\n",
       "    return obj;\n",
       "  }, {});\n",
       "}\n",
       "\n",
       "mpl.figure.prototype.mouse_event = function(event, name) {\n",
       "    var canvas_pos = mpl.findpos(event)\n",
       "\n",
       "    if (name === 'button_press')\n",
       "    {\n",
       "        this.canvas.focus();\n",
       "        this.canvas_div.focus();\n",
       "    }\n",
       "\n",
       "    var x = canvas_pos.x;\n",
       "    var y = canvas_pos.y;\n",
       "\n",
       "    this.send_message(name, {x: x, y: y, button: event.button,\n",
       "                             step: event.step,\n",
       "                             guiEvent: simpleKeys(event)});\n",
       "\n",
       "    /* This prevents the web browser from automatically changing to\n",
       "     * the text insertion cursor when the button is pressed.  We want\n",
       "     * to control all of the cursor setting manually through the\n",
       "     * 'cursor' event from matplotlib */\n",
       "    event.preventDefault();\n",
       "    return false;\n",
       "}\n",
       "\n",
       "mpl.figure.prototype._key_event_extra = function(event, name) {\n",
       "    // Handle any extra behaviour associated with a key event\n",
       "}\n",
       "\n",
       "mpl.figure.prototype.key_event = function(event, name) {\n",
       "\n",
       "    // Prevent repeat events\n",
       "    if (name == 'key_press')\n",
       "    {\n",
       "        if (event.which === this._key)\n",
       "            return;\n",
       "        else\n",
       "            this._key = event.which;\n",
       "    }\n",
       "    if (name == 'key_release')\n",
       "        this._key = null;\n",
       "\n",
       "    var value = '';\n",
       "    if (event.ctrlKey && event.which != 17)\n",
       "        value += \"ctrl+\";\n",
       "    if (event.altKey && event.which != 18)\n",
       "        value += \"alt+\";\n",
       "    if (event.shiftKey && event.which != 16)\n",
       "        value += \"shift+\";\n",
       "\n",
       "    value += 'k';\n",
       "    value += event.which.toString();\n",
       "\n",
       "    this._key_event_extra(event, name);\n",
       "\n",
       "    this.send_message(name, {key: value,\n",
       "                             guiEvent: simpleKeys(event)});\n",
       "    return false;\n",
       "}\n",
       "\n",
       "mpl.figure.prototype.toolbar_button_onclick = function(name) {\n",
       "    if (name == 'download') {\n",
       "        this.handle_save(this, null);\n",
       "    } else {\n",
       "        this.send_message(\"toolbar_button\", {name: name});\n",
       "    }\n",
       "};\n",
       "\n",
       "mpl.figure.prototype.toolbar_button_onmouseover = function(tooltip) {\n",
       "    this.message.textContent = tooltip;\n",
       "};\n",
       "mpl.toolbar_items = [[\"Home\", \"Reset original view\", \"fa fa-home icon-home\", \"home\"], [\"Back\", \"Back to  previous view\", \"fa fa-arrow-left icon-arrow-left\", \"back\"], [\"Forward\", \"Forward to next view\", \"fa fa-arrow-right icon-arrow-right\", \"forward\"], [\"\", \"\", \"\", \"\"], [\"Pan\", \"Pan axes with left mouse, zoom with right\", \"fa fa-arrows icon-move\", \"pan\"], [\"Zoom\", \"Zoom to rectangle\", \"fa fa-square-o icon-check-empty\", \"zoom\"], [\"\", \"\", \"\", \"\"], [\"Download\", \"Download plot\", \"fa fa-floppy-o icon-save\", \"download\"]];\n",
       "\n",
       "mpl.extensions = [\"eps\", \"jpeg\", \"pdf\", \"png\", \"ps\", \"raw\", \"svg\", \"tif\"];\n",
       "\n",
       "mpl.default_extension = \"png\";var comm_websocket_adapter = function(comm) {\n",
       "    // Create a \"websocket\"-like object which calls the given IPython comm\n",
       "    // object with the appropriate methods. Currently this is a non binary\n",
       "    // socket, so there is still some room for performance tuning.\n",
       "    var ws = {};\n",
       "\n",
       "    ws.close = function() {\n",
       "        comm.close()\n",
       "    };\n",
       "    ws.send = function(m) {\n",
       "        //console.log('sending', m);\n",
       "        comm.send(m);\n",
       "    };\n",
       "    // Register the callback with on_msg.\n",
       "    comm.on_msg(function(msg) {\n",
       "        //console.log('receiving', msg['content']['data'], msg);\n",
       "        // Pass the mpl event to the overriden (by mpl) onmessage function.\n",
       "        ws.onmessage(msg['content']['data'])\n",
       "    });\n",
       "    return ws;\n",
       "}\n",
       "\n",
       "mpl.mpl_figure_comm = function(comm, msg) {\n",
       "    // This is the function which gets called when the mpl process\n",
       "    // starts-up an IPython Comm through the \"matplotlib\" channel.\n",
       "\n",
       "    var id = msg.content.data.id;\n",
       "    // Get hold of the div created by the display call when the Comm\n",
       "    // socket was opened in Python.\n",
       "    var element = $(\"#\" + id);\n",
       "    var ws_proxy = comm_websocket_adapter(comm)\n",
       "\n",
       "    function ondownload(figure, format) {\n",
       "        window.open(figure.imageObj.src);\n",
       "    }\n",
       "\n",
       "    var fig = new mpl.figure(id, ws_proxy,\n",
       "                           ondownload,\n",
       "                           element.get(0));\n",
       "\n",
       "    // Call onopen now - mpl needs it, as it is assuming we've passed it a real\n",
       "    // web socket which is closed, not our websocket->open comm proxy.\n",
       "    ws_proxy.onopen();\n",
       "\n",
       "    fig.parent_element = element.get(0);\n",
       "    fig.cell_info = mpl.find_output_cell(\"<div id='\" + id + \"'></div>\");\n",
       "    if (!fig.cell_info) {\n",
       "        console.error(\"Failed to find cell for figure\", id, fig);\n",
       "        return;\n",
       "    }\n",
       "\n",
       "    var output_index = fig.cell_info[2]\n",
       "    var cell = fig.cell_info[0];\n",
       "\n",
       "};\n",
       "\n",
       "mpl.figure.prototype.handle_close = function(fig, msg) {\n",
       "    fig.root.unbind('remove')\n",
       "\n",
       "    // Update the output cell to use the data from the current canvas.\n",
       "    fig.push_to_output();\n",
       "    var dataURL = fig.canvas.toDataURL();\n",
       "    // Re-enable the keyboard manager in IPython - without this line, in FF,\n",
       "    // the notebook keyboard shortcuts fail.\n",
       "    IPython.keyboard_manager.enable()\n",
       "    $(fig.parent_element).html('<img src=\"' + dataURL + '\">');\n",
       "    fig.close_ws(fig, msg);\n",
       "}\n",
       "\n",
       "mpl.figure.prototype.close_ws = function(fig, msg){\n",
       "    fig.send_message('closing', msg);\n",
       "    // fig.ws.close()\n",
       "}\n",
       "\n",
       "mpl.figure.prototype.push_to_output = function(remove_interactive) {\n",
       "    // Turn the data on the canvas into data in the output cell.\n",
       "    var dataURL = this.canvas.toDataURL();\n",
       "    this.cell_info[1]['text/html'] = '<img src=\"' + dataURL + '\">';\n",
       "}\n",
       "\n",
       "mpl.figure.prototype.updated_canvas_event = function() {\n",
       "    // Tell IPython that the notebook contents must change.\n",
       "    IPython.notebook.set_dirty(true);\n",
       "    this.send_message(\"ack\", {});\n",
       "    var fig = this;\n",
       "    // Wait a second, then push the new image to the DOM so\n",
       "    // that it is saved nicely (might be nice to debounce this).\n",
       "    setTimeout(function () { fig.push_to_output() }, 1000);\n",
       "}\n",
       "\n",
       "mpl.figure.prototype._init_toolbar = function() {\n",
       "    var fig = this;\n",
       "\n",
       "    var nav_element = $('<div/>')\n",
       "    nav_element.attr('style', 'width: 100%');\n",
       "    this.root.append(nav_element);\n",
       "\n",
       "    // Define a callback function for later on.\n",
       "    function toolbar_event(event) {\n",
       "        return fig.toolbar_button_onclick(event['data']);\n",
       "    }\n",
       "    function toolbar_mouse_event(event) {\n",
       "        return fig.toolbar_button_onmouseover(event['data']);\n",
       "    }\n",
       "\n",
       "    for(var toolbar_ind in mpl.toolbar_items){\n",
       "        var name = mpl.toolbar_items[toolbar_ind][0];\n",
       "        var tooltip = mpl.toolbar_items[toolbar_ind][1];\n",
       "        var image = mpl.toolbar_items[toolbar_ind][2];\n",
       "        var method_name = mpl.toolbar_items[toolbar_ind][3];\n",
       "\n",
       "        if (!name) { continue; };\n",
       "\n",
       "        var button = $('<button class=\"btn btn-default\" href=\"#\" title=\"' + name + '\"><i class=\"fa ' + image + ' fa-lg\"></i></button>');\n",
       "        button.click(method_name, toolbar_event);\n",
       "        button.mouseover(tooltip, toolbar_mouse_event);\n",
       "        nav_element.append(button);\n",
       "    }\n",
       "\n",
       "    // Add the status bar.\n",
       "    var status_bar = $('<span class=\"mpl-message\" style=\"text-align:right; float: right;\"/>');\n",
       "    nav_element.append(status_bar);\n",
       "    this.message = status_bar[0];\n",
       "\n",
       "    // Add the close button to the window.\n",
       "    var buttongrp = $('<div class=\"btn-group inline pull-right\"></div>');\n",
       "    var button = $('<button class=\"btn btn-mini btn-primary\" href=\"#\" title=\"Stop Interaction\"><i class=\"fa fa-power-off icon-remove icon-large\"></i></button>');\n",
       "    button.click(function (evt) { fig.handle_close(fig, {}); } );\n",
       "    button.mouseover('Stop Interaction', toolbar_mouse_event);\n",
       "    buttongrp.append(button);\n",
       "    var titlebar = this.root.find($('.ui-dialog-titlebar'));\n",
       "    titlebar.prepend(buttongrp);\n",
       "}\n",
       "\n",
       "mpl.figure.prototype._root_extra_style = function(el){\n",
       "    var fig = this\n",
       "    el.on(\"remove\", function(){\n",
       "\tfig.close_ws(fig, {});\n",
       "    });\n",
       "}\n",
       "\n",
       "mpl.figure.prototype._canvas_extra_style = function(el){\n",
       "    // this is important to make the div 'focusable\n",
       "    el.attr('tabindex', 0)\n",
       "    // reach out to IPython and tell the keyboard manager to turn it's self\n",
       "    // off when our div gets focus\n",
       "\n",
       "    // location in version 3\n",
       "    if (IPython.notebook.keyboard_manager) {\n",
       "        IPython.notebook.keyboard_manager.register_events(el);\n",
       "    }\n",
       "    else {\n",
       "        // location in version 2\n",
       "        IPython.keyboard_manager.register_events(el);\n",
       "    }\n",
       "\n",
       "}\n",
       "\n",
       "mpl.figure.prototype._key_event_extra = function(event, name) {\n",
       "    var manager = IPython.notebook.keyboard_manager;\n",
       "    if (!manager)\n",
       "        manager = IPython.keyboard_manager;\n",
       "\n",
       "    // Check for shift+enter\n",
       "    if (event.shiftKey && event.which == 13) {\n",
       "        this.canvas_div.blur();\n",
       "        event.shiftKey = false;\n",
       "        // Send a \"J\" for go to next cell\n",
       "        event.which = 74;\n",
       "        event.keyCode = 74;\n",
       "        manager.command_mode();\n",
       "        manager.handle_keydown(event);\n",
       "    }\n",
       "}\n",
       "\n",
       "mpl.figure.prototype.handle_save = function(fig, msg) {\n",
       "    fig.ondownload(fig, null);\n",
       "}\n",
       "\n",
       "\n",
       "mpl.find_output_cell = function(html_output) {\n",
       "    // Return the cell and output element which can be found *uniquely* in the notebook.\n",
       "    // Note - this is a bit hacky, but it is done because the \"notebook_saving.Notebook\"\n",
       "    // IPython event is triggered only after the cells have been serialised, which for\n",
       "    // our purposes (turning an active figure into a static one), is too late.\n",
       "    var cells = IPython.notebook.get_cells();\n",
       "    var ncells = cells.length;\n",
       "    for (var i=0; i<ncells; i++) {\n",
       "        var cell = cells[i];\n",
       "        if (cell.cell_type === 'code'){\n",
       "            for (var j=0; j<cell.output_area.outputs.length; j++) {\n",
       "                var data = cell.output_area.outputs[j];\n",
       "                if (data.data) {\n",
       "                    // IPython >= 3 moved mimebundle to data attribute of output\n",
       "                    data = data.data;\n",
       "                }\n",
       "                if (data['text/html'] == html_output) {\n",
       "                    return [cell, data, j];\n",
       "                }\n",
       "            }\n",
       "        }\n",
       "    }\n",
       "}\n",
       "\n",
       "// Register the function which deals with the matplotlib target/channel.\n",
       "// The kernel may be null if the page has been refreshed.\n",
       "if (IPython.notebook.kernel != null) {\n",
       "    IPython.notebook.kernel.comm_manager.register_target('matplotlib', mpl.mpl_figure_comm);\n",
       "}\n"
      ],
      "text/plain": [
       "<IPython.core.display.Javascript object>"
      ]
     },
     "metadata": {},
     "output_type": "display_data"
    },
    {
     "data": {
      "text/html": [
       "<img src=\"data:image/png;base64,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\">"
      ],
      "text/plain": [
       "<IPython.core.display.HTML object>"
      ]
     },
     "metadata": {},
     "output_type": "display_data"
    }
   ],
   "source": [
    "interact(show, __manual=True)"
   ]
  },
  {
   "cell_type": "code",
   "execution_count": null,
   "metadata": {
    "collapsed": true
   },
   "outputs": [],
   "source": []
  }
 ],
 "metadata": {
  "kernelspec": {
   "display_name": "Python 2",
   "language": "python",
   "name": "python2"
  },
  "language_info": {
   "codemirror_mode": {
    "name": "ipython",
    "version": 2
   },
   "file_extension": ".py",
   "mimetype": "text/x-python",
   "name": "python",
   "nbconvert_exporter": "python",
   "pygments_lexer": "ipython2",
   "version": "2.7.11"
  },
  "widgets": {
   "state": {
    "005e7b9e20204a8bbdfa24d67867574f": {
     "views": []
    },
    "00f6e32077594e4ca3d248af7ddc290e": {
     "views": []
    },
    "01d2046a91144299ac2eaf52ab0bf283": {
     "views": []
    },
    "020ec983ed2544769e3f5f541d56eda7": {
     "views": []
    },
    "0368394d66664053b2142cb06ceb2a57": {
     "views": []
    },
    "046f4e3c92c04a51b3d75bba306ed060": {
     "views": []
    },
    "0523e5f5e42442b889fc85d0dce0592c": {
     "views": []
    },
    "0538952ebc814bf0a3a2baa222eaf407": {
     "views": []
    },
    "058ad621bb974b39934894195b9809b4": {
     "views": []
    },
    "05a5021ba529440e8ee449d9d3711dff": {
     "views": []
    },
    "05df84e6993a407fb1d9eb7f534f397d": {
     "views": []
    },
    "06af339e943d4750832e2152eb012b39": {
     "views": []
    },
    "06d2ff7e52e644f08ad267bc3bdb89a7": {
     "views": []
    },
    "08a2daa7f39b468197d53cd2ee459f70": {
     "views": []
    },
    "092bd7477236400d99767096c79911f5": {
     "views": []
    },
    "099d95e42a82452c8de1d9d5c5e310cf": {
     "views": []
    },
    "09f68dd6b0494479b398f78397c8e9e7": {
     "views": []
    },
    "09f8cfdd35a04e06a03f447a8b304698": {
     "views": []
    },
    "0b1fdc8e35f540c982534ba1a9fb1f0a": {
     "views": []
    },
    "0ce4f9e2d3d74980bdb2c77c6d5a0f07": {
     "views": []
    },
    "0e12667ebd624888b18f637e938b4ed0": {
     "views": []
    },
    "0e50d459c5334836b44fab24d9dd6e1e": {
     "views": []
    },
    "0f0b8b500db44beab5b337cd34737f95": {
     "views": []
    },
    "0fa88e5c5585449e847cb02731dec6c7": {
     "views": []
    },
    "0fc63dbca560456fb6c9a7c28a4eb1dc": {
     "views": []
    },
    "106ba4a50f554024bbd46074fc21a029": {
     "views": []
    },
    "118ea2a7ab6644b28f1851f9ca01c2c7": {
     "views": []
    },
    "11f150bb87a54462864e149cd543341b": {
     "views": []
    },
    "12443fb5b27f4de4895fe9dad26a3d44": {
     "views": []
    },
    "1279fc59870247f6b57c5a1e9f00ce14": {
     "views": []
    },
    "12fe6a212f7f411382eb4db2dc66614b": {
     "views": []
    },
    "135e049c356548e28c2ac9afe826b85c": {
     "views": []
    },
    "13ce4d9e4d0e4ff0b5469ba170b0391c": {
     "views": []
    },
    "154194ae154f42059de3d46335a50f6c": {
     "views": []
    },
    "1560d0c041614f5d97c0d42ba1698f97": {
     "views": []
    },
    "16ae16821f3d46b19af10ed78253d474": {
     "views": []
    },
    "16da11dd4ee84a8986342dd4d4f83a9b": {
     "views": []
    },
    "170386c6c5544c608d25023be9674ad2": {
     "views": []
    },
    "18d5613f85f54747b4926761fd33eb92": {
     "views": []
    },
    "193d64b8da294e61a458e03de2d9422f": {
     "views": []
    },
    "1983281853e24452b8f6c8033b09b1fd": {
     "views": []
    },
    "19aef54be7d64a9b9edb6209fb8265a7": {
     "views": []
    },
    "1ab3d0228cea4dda9347d0cea4db4a43": {
     "views": []
    },
    "1c41c8df2fd04cbbba57041527e4e5c5": {
     "views": []
    },
    "1c54eff9708c4a09bca59036b897001e": {
     "views": []
    },
    "1daee97b3c734d7ba3b291fbad8413f8": {
     "views": []
    },
    "1db38ecbbc2e40369f436a58608b061f": {
     "views": []
    },
    "1e229ce58d544b729862b4478cd6ccbc": {
     "views": []
    },
    "1f51571c79cf4bf094e98de7c4937854": {
     "views": []
    },
    "2014bbb00f034d36a8cbfd1fa5d075e8": {
     "views": []
    },
    "2082199e6cb04b528ee30afe73113dee": {
     "views": []
    },
    "20c898ce0a6144a0a140020f657c4ac1": {
     "views": []
    },
    "2109448e701a47aba86e2a817bde87e1": {
     "views": []
    },
    "212467b6b99949d0a4bb60cd77e137df": {
     "views": []
    },
    "212abe5a625a4cddbdac4e4a348b5082": {
     "views": []
    },
    "214426a75d89485c89115277508e5d35": {
     "views": []
    },
    "216e37901db54f4fa6d7c710cfc3efb5": {
     "views": []
    },
    "21cc5fcd149e48c49af90fbaff923bf1": {
     "views": []
    },
    "237a4e8918c84fef8ce471700e90db2c": {
     "views": []
    },
    "23965e097cee4fbcbd01a2f5c67cc16e": {
     "views": []
    },
    "23c6c07d3a164e4292ae89ec73818d6d": {
     "views": []
    },
    "242254a17c854925ac4ef87197565af2": {
     "views": []
    },
    "255fee10fdef4e7c8afc2a55701283b5": {
     "views": []
    },
    "26d30066e15d4538b2130900b6213b0b": {
     "views": []
    },
    "26d7e692f5b143ed8f6ac7741cff8824": {
     "views": []
    },
    "26feba78a6614d6396b5e3034a4bec0d": {
     "views": []
    },
    "29865d75b58b438982af37f98274ee68": {
     "views": []
    },
    "29b036d6ba5543c5a21ee3d8b2be4899": {
     "views": []
    },
    "2a8aa51a89a945c1a310a0d70a13a3a6": {
     "views": []
    },
    "2aacd463902e4d7494e733bc67dc21c2": {
     "views": []
    },
    "2bad5de101784f19b50bd6b95fcfe330": {
     "views": []
    },
    "2bee04714ae64fb88321480c9efee45d": {
     "views": []
    },
    "2c003c31770749f59ec733ed4f7b0977": {
     "views": []
    },
    "2c485cf78a854eeea5d79776592d94f7": {
     "views": []
    },
    "2c90dd7e80554ccbb02e816a2a9c03d2": {
     "views": []
    },
    "2d17a667227447178fd50e3089810a3d": {
     "views": []
    },
    "2d3b16fc76704caf825420012035786c": {
     "views": []
    },
    "2d7b86b97aad49ad953d49286994b9ec": {
     "views": []
    },
    "2e468c9d543542f78e9a1104ec1475f4": {
     "views": []
    },
    "2f303b370ee04900b11974e7506a7d79": {
     "views": []
    },
    "2fdcddfd91144b8593db0763e92b55aa": {
     "views": []
    },
    "30d1794c2b9d4264beface52f8069509": {
     "views": []
    },
    "312cad71c11f443283de9bf17843899e": {
     "views": []
    },
    "322cabbb78aa498d9ec5cfbbd04f229d": {
     "views": []
    },
    "3540a62767a14e94ab5fd13b1387dc73": {
     "views": []
    },
    "358834f630a34a8d971e1dbe19014646": {
     "views": []
    },
    "359da65b139846bf9700ecae61466b76": {
     "views": []
    },
    "35b5ba8d317143c68a860b5415bb1429": {
     "views": []
    },
    "35ee2c354e5a453a8eca1d5f7a7457c2": {
     "views": []
    },
    "361d6f2bcf4c499c81cd686bcb2a37a7": {
     "views": []
    },
    "3652e59ce9b14b62806ddede2d9b7c28": {
     "views": []
    },
    "36e93a8f6f31411285a0207544a3155a": {
     "views": []
    },
    "3789efcd0fa84990bff89d7efb5e1910": {
     "views": []
    },
    "37ffac1555fa4b6b98639742e89f3461": {
     "views": []
    },
    "38c47a7a7c0443828735afcf2683e692": {
     "views": []
    },
    "38ece40e77074ba18394afa8fe41b87b": {
     "views": []
    },
    "39221c2a3f2a48509fe0bfa1c4d893c0": {
     "views": []
    },
    "39a772a254814d89a6587ecee523f444": {
     "views": []
    },
    "39d2a875ea3a4bdf9153cb34189a2390": {
     "views": []
    },
    "39f0836eb8da4884be275d6ef3ddcd83": {
     "views": []
    },
    "3a3a42184f8e4a4daea7e1f004ed68b9": {
     "views": []
    },
    "3af7653ee0a049b18e864a0bd9f81aea": {
     "views": []
    },
    "3b7c55b8eff34e02a267481cfc04d2d4": {
     "views": []
    },
    "3bb0a30dd5ec4e90b7599d7e9b759063": {
     "views": []
    },
    "3c891132b8e548fbbb24a842fb1aef5a": {
     "views": []
    },
    "3c97201fc3dc4c5cb4193aebcac1495d": {
     "views": []
    },
    "3cf31f4c07db456fa645183343ebef1c": {
     "views": []
    },
    "3d9d78ff64b6435882c9279ac155c89e": {
     "views": []
    },
    "3e345435dbf74c2eb947d1625b3b950f": {
     "views": []
    },
    "3f7642bba03442b89beee5b583fa2706": {
     "views": []
    },
    "4006e5cd54a24eac8c742f2be636662e": {
     "views": []
    },
    "40355916f9494d8a8c93c0e31ddb6bf1": {
     "views": []
    },
    "4108d95c9639481f8998b6f41c30b6a2": {
     "views": []
    },
    "4416720aeedd49ec9fa8d1fd14cfeb2c": {
     "views": []
    },
    "450bcab7310445fa9e74169912e43e99": {
     "views": []
    },
    "4521156767c0435e80dfa3cfdc93772b": {
     "views": []
    },
    "45e898463c8b405d82c2e96e33732f7b": {
     "views": []
    },
    "46313449355f4a19a06e0eba0b1f7a5b": {
     "views": []
    },
    "466b6d66f79f4258b415c136a096d575": {
     "views": []
    },
    "47a48dd5b7204ee096efc4e8f412cdb3": {
     "views": []
    },
    "47d9c72cd9cd4a15acc439e1e116442c": {
     "views": []
    },
    "47fc3c74fa7344a292b6c51d985f252a": {
     "views": []
    },
    "491d577ab4b04d34b5f18c820bd42e0c": {
     "views": []
    },
    "496605841ef54166b29e39c3a8aa24e5": {
     "views": []
    },
    "4a427acd762244a0b480df5e07559e52": {
     "views": []
    },
    "4b31937f5021402782fa614d685502d0": {
     "views": []
    },
    "4b9c1e618d0644efb791b8cfb004aab4": {
     "views": []
    },
    "4d76d81c13e94326b165ce1d14cf021f": {
     "views": []
    },
    "4d847cbffcdb43f69d32598bcd1e77b7": {
     "views": []
    },
    "4da6db9ecd474cc9b52acd44887dba81": {
     "views": []
    },
    "4fb9bf038bb3492c8c1a89c318fad6d8": {
     "views": []
    },
    "4fe6d8c0907045b5a118368a7f9e3364": {
     "views": []
    },
    "5009cf453025462c9c5941c16e69c47b": {
     "views": []
    },
    "5146b9c33552491bb6101f41c847aee3": {
     "views": []
    },
    "53401fd825ba4687998fb91776513595": {
     "views": []
    },
    "561b7cac2ebd4c68913705ee99ea1b96": {
     "views": []
    },
    "562c3f7f54954b24a37676cccdaf5746": {
     "views": []
    },
    "564b02b1015a4daf98c95edff6828829": {
     "views": []
    },
    "567201f89554470b90f9e850fd03876f": {
     "views": []
    },
    "56785cb42ab44ddd83d533e64be1a4d6": {
     "views": []
    },
    "57f8137b216b49fd91787a2f8ad2318e": {
     "views": []
    },
    "5818183eb8b04d4698608e44b835ccc9": {
     "views": []
    },
    "58773e20d930467d948da7dd659d7314": {
     "views": []
    },
    "58d3d61bdd1e4644904325c861948825": {
     "views": []
    },
    "592030b2451c4dcd99ab3ffc90e0f05f": {
     "views": []
    },
    "592e1cc508f34530884782686d5f9d7a": {
     "views": []
    },
    "598525f9ff9042bc946cf2270c3ce1fc": {
     "views": []
    },
    "59d93d236b4745bf99864f57ea5e5e91": {
     "views": []
    },
    "5a67a4bb8b704fa18f5b8781684694ad": {
     "views": []
    },
    "5a71637e32ea439787fe28e7e5d39af3": {
     "views": []
    },
    "5b6a6d1d0dd54ed18a07d8784f34690d": {
     "views": []
    },
    "5c197269071240088467a29cd5de967e": {
     "views": []
    },
    "5d60fdc3b5c049e7a94b6d7825686498": {
     "views": []
    },
    "5d8f7ef6f0fa4d2e9044116e521a154f": {
     "views": []
    },
    "5dd424c4a44d4c56a5d153f068ac79df": {
     "views": []
    },
    "5eabde19eb914c61928c477028adac2f": {
     "views": []
    },
    "5ee27dd63c664fd7a8275e5cf659d462": {
     "views": []
    },
    "5f58f8ecf07049e38e2a302df6103222": {
     "views": []
    },
    "5f5d7c71c1a04c41866383db73ea174c": {
     "views": []
    },
    "5f978046acb348649a93fcaba7ef9f87": {
     "views": []
    },
    "600fb9c853ea401abc989c220bd8e4e3": {
     "views": []
    },
    "60305533789f4ed184d95b22e04f3d4a": {
     "views": []
    },
    "60fbc1ecb1394dd6865f1babb3260354": {
     "views": []
    },
    "6230fb91ad64496ebbeb364eaffa02e7": {
     "views": []
    },
    "635a17c71e0340479432cdb881fb93a8": {
     "views": []
    },
    "636a4ffba6f149a9967b559088173d15": {
     "views": []
    },
    "63cec2dfe41743d5b330dfbbc110dffb": {
     "views": []
    },
    "6456d1c67b3f46c38b7ffab47112cb86": {
     "views": []
    },
    "64f430677db04047b21e6b005a50908a": {
     "views": []
    },
    "6621c0d005a64b67bcd7a66aa648e631": {
     "views": []
    },
    "66984b88ed504049bad535d752718bbc": {
     "views": []
    },
    "6702af29d737433886dc7f2f26a7e317": {
     "views": []
    },
    "67850d4219974dc3b42003dcfd63cb69": {
     "views": []
    },
    "681b4a44810f4fb89a13f8cc8c6ba07a": {
     "views": []
    },
    "68509874e8924175be727cf2e0be7317": {
     "views": []
    },
    "6860811e2a6c44c988d0291fae77b8cd": {
     "views": []
    },
    "69891e86ce1f4f488642056095c0f827": {
     "views": []
    },
    "69b0818243a34815baf61a98555c991b": {
     "views": []
    },
    "69c727ea95fa4d2f8b0b781610641fcd": {
     "views": []
    },
    "6b1bfeedc97c47d4a42ad9c8d5b23b05": {
     "views": []
    },
    "6b1e5e6fe09c4f7db70423fb8fb6e031": {
     "views": []
    },
    "6c48e937a88f47e5af47543573104f53": {
     "views": []
    },
    "6c98ef5a781f44dfa2e3f5656e8e6bbc": {
     "views": []
    },
    "6d008edcdff64621abac207f314037fa": {
     "views": []
    },
    "6d2e48ea599045608d7ac4e7c1a921ed": {
     "views": []
    },
    "6db7bfb3255043f5a3111c4b9d143f4f": {
     "views": []
    },
    "6dbeea530d5c4b9f8fc22fc9f3e05451": {
     "views": []
    },
    "6dc4a45ea9a64cf99fd3f3a34fd1a57c": {
     "views": []
    },
    "6e35211c74e040429c8d6413fbacf991": {
     "views": []
    },
    "6ef4588dd4054f4cbe873adaac5c00ad": {
     "views": []
    },
    "6f6107e40c7c4dbcb55e1d5917a9f8bd": {
     "views": []
    },
    "70029fd826af48848921a4b6ca4b4b90": {
     "views": []
    },
    "7067c37e4227470d8459f364670a1013": {
     "views": []
    },
    "70a2c67c204448f08e062a3b4a0e8ba7": {
     "views": []
    },
    "70d314abecc44791b881fa99dcee1761": {
     "views": []
    },
    "7128c7d2de3c47458ceae30fe52bddcf": {
     "views": []
    },
    "714ee844c0db4299a715404559f06484": {
     "views": []
    },
    "71534e36f5474bd28812ff77ea7adb86": {
     "views": []
    },
    "71cf2ab2669e4edf823448f097d9a5fd": {
     "views": []
    },
    "72453f64f8cf46bebcd7128a9b413e79": {
     "views": []
    },
    "7260e3eeaef241839ff89c5323fe41e5": {
     "views": []
    },
    "738a049df5fd4e2c843f41b7557487d6": {
     "views": []
    },
    "740c9390ca3f4b31857d7f5c35fe2447": {
     "views": []
    },
    "7509557cd72b4fa4a0b490448b403a44": {
     "views": []
    },
    "75e3714c47a647ebb6cfdaf83d435b10": {
     "views": []
    },
    "76113e238548487baefeae30c12e2157": {
     "views": []
    },
    "768358e77e0a43e9a29dd941db9732d3": {
     "views": []
    },
    "76b9690935664df7bc9bae4b2cd7f160": {
     "views": []
    },
    "76f01d9c139245fd9ef61fb3a8bf851b": {
     "views": []
    },
    "78b7d28989f94fd9a09b57b28f56b4bc": {
     "views": []
    },
    "793f2a63cc0c40ac914d46180195c474": {
     "views": []
    },
    "7a119730b22948d6ba686336e50a226a": {
     "views": []
    },
    "7b5105169dae495a9215cf53c797e1d8": {
     "views": []
    },
    "7b607d0a18e84df18e66f26b171bcf6e": {
     "views": []
    },
    "7c19b7b46e98419894093d958cd405ae": {
     "views": []
    },
    "7c6f6ede402948cb81308b18f0e59490": {
     "views": []
    },
    "7ce419e964014f218648f33bef5899f8": {
     "views": []
    },
    "7cf249e7d41b473da79c02e51eabd4a4": {
     "views": []
    },
    "7d7983e8681e4dc9a682c5618ca1ad3f": {
     "views": []
    },
    "7da70bfccf264e23b38edbc0ccd8212b": {
     "views": []
    },
    "7f139e64460042929c29da231d902d80": {
     "views": []
    },
    "7f1dace0d4314fa5b7bf7626538bc9f2": {
     "views": []
    },
    "7f93b32a06c34b38b2447988c8e78d2c": {
     "views": []
    },
    "7ff69adbc04c4b40a0c01004dfef0d94": {
     "views": []
    },
    "805858dd8591473e9bbe8658863b0c5a": {
     "views": []
    },
    "8102c8e2074b4396af31853e88e59c0e": {
     "views": []
    },
    "81149db793e545f787cdb2cc6b206455": {
     "views": []
    },
    "82ab303588cb4de99e176825f88dec54": {
     "views": []
    },
    "82ff6ebefd094289adec335f0913a257": {
     "views": []
    },
    "8317317c3e9c4d9a8e42b5a08d435e68": {
     "views": []
    },
    "83a255c24642427dacbda56f6c948d29": {
     "views": []
    },
    "83e01742601c42a68c42013b09492357": {
     "views": []
    },
    "847f87204d5b421285377ff226dda33f": {
     "views": []
    },
    "857117eb32b04c759c1baa8dd6e3cb64": {
     "views": []
    },
    "858bf2f4c94240f3b40212cf3d1edcd5": {
     "views": []
    },
    "85b4889795c54920994dd5db07f68ea2": {
     "views": []
    },
    "85bdda1f7b2a4f05ad9a8b5d5bf6c459": {
     "views": []
    },
    "865bf6ab5f774e2c99645f1cc6fb5b14": {
     "views": []
    },
    "884f0adb4da34cdc9232a8924a2b6507": {
     "views": []
    },
    "89234c27015e4dff80661ec5bb580b6e": {
     "views": []
    },
    "8a797dda3bf5408688ac5cbfabd4ac64": {
     "views": []
    },
    "8ae59e5f4abd465e8dbc58bf13d07e2a": {
     "views": []
    },
    "8aea08586d3d4b7c9a096e4a18ad8889": {
     "views": []
    },
    "8af2652cd50f4a029eb6c21bbc22fcb8": {
     "views": []
    },
    "8c17e25e13bc42b8b2e9f0b04935e62e": {
     "views": []
    },
    "8cd8ed3ff261421abd1e8dacc446c2c6": {
     "views": []
    },
    "8ce76452e34b4c0dbf02eef85197f789": {
     "views": []
    },
    "8cf04186c0164bc287bf0b3e0bb22b5d": {
     "views": []
    },
    "8d8419316649460bb0b7b04c1b27ebad": {
     "views": []
    },
    "8daab1a65c6d4bb7a96b220b62b23dda": {
     "views": []
    },
    "8e6d85911dce4930aa1cb9d26ca15561": {
     "views": []
    },
    "8f45292436e04f1a90530bc2ac93f46c": {
     "views": []
    },
    "8f576672832a4170ba2cd15b50095090": {
     "views": []
    },
    "8f766fccdda94ca8a57d7970cec56c20": {
     "views": []
    },
    "900a5c2ef87342dc81176186263ac0a9": {
     "views": []
    },
    "914fd5e5f6074985b04c9e8f7bce8beb": {
     "views": []
    },
    "9167d44152bd4154b8b2652a2290762e": {
     "views": []
    },
    "916cb975a1a04a3683dc2931c3d36a02": {
     "views": []
    },
    "9347044b66ce47b998f25632a75d66b7": {
     "views": []
    },
    "94130b43733b4c33bc906d0079dfa759": {
     "views": []
    },
    "947a258060c046be8ad89499dcee9d01": {
     "views": []
    },
    "94f4bb3d5f1f41669f0da3786219f76c": {
     "views": []
    },
    "95afe21b2ee842cd950cb3ce2d389f71": {
     "views": []
    },
    "95c07df816ca4281b583cc706d422075": {
     "views": []
    },
    "96167c2c5442495b8b71ed9b37d477d9": {
     "views": []
    },
    "9758261df8b84be9922a800b1315ffa1": {
     "views": []
    },
    "9766920b03f44101b048d916f1939fdf": {
     "views": []
    },
    "97e35fcb705a40a8891b9ec5001a7e21": {
     "views": []
    },
    "9834ca53b6c4437dbc3523897df500a5": {
     "views": []
    },
    "9a6da97ebedd4356be97b4acf398988d": {
     "views": []
    },
    "9d0e776310bf4691992db406d9343142": {
     "views": []
    },
    "9d60a17c47344deea701506dcb082529": {
     "views": []
    },
    "9ed557ab8b3d41e99806da9b8652de06": {
     "views": []
    },
    "9efd67fe5c34438db80daeb5ce91ce90": {
     "views": []
    },
    "9f1a7b4b6a6348fd8cad3290f28bae1c": {
     "views": []
    },
    "9f2e29ed50274d29a3f19fd961dd77a3": {
     "views": []
    },
    "9f75cf4293ae4a1f907b9a0def175a98": {
     "views": []
    },
    "9fcc6bc163c44bcc95916393efa1c8e2": {
     "views": []
    },
    "a1630d62654944e3bc27966c612d7a3d": {
     "views": []
    },
    "a1eebb6ec6ba4fcf9deca81fcf9315c3": {
     "views": []
    },
    "a1f2782b8cb24e378c650609326af24a": {
     "views": []
    },
    "a2053fc275e24579996eff8bdfe48ebe": {
     "views": []
    },
    "a3042f1400e14d509eea9465fb847bca": {
     "views": []
    },
    "a3b0e08953544ae2b25d4ed29a697335": {
     "views": []
    },
    "a47e3899fa604051b7aeced06c202567": {
     "views": []
    },
    "a4fba2cfd1ba49b0aaef3a19b9644d14": {
     "views": []
    },
    "a511d3316dd74695ad78c9744a5b52f4": {
     "views": []
    },
    "a53e765c6a5940b3a89141ae4ffbad5d": {
     "views": []
    },
    "a5eb8790a6b24b8f97c05cea59958a8b": {
     "views": []
    },
    "a6053002e5b94ac4a184cc9236b49ecc": {
     "views": []
    },
    "a6808627758940308168689ecf88e199": {
     "views": []
    },
    "a83f860840af4142bd8eaa3167ec9099": {
     "views": []
    },
    "a8ee03646332480daeeaeb38c345d2d9": {
     "views": []
    },
    "a8f16be20b604b59bf83632f47aa7534": {
     "views": []
    },
    "aa3eda753d2b4e9f93b029ea68a7c319": {
     "views": []
    },
    "aad75709e1b64928852c1ca0bde706ac": {
     "views": []
    },
    "ab160d37f93341a896222c49b2e956ce": {
     "views": []
    },
    "ab173609a44948fca7dd29a2b944c991": {
     "views": []
    },
    "ab239b8a441a425d8aa049876629483a": {
     "views": []
    },
    "ae05b073748b4389b509c260bdb8f454": {
     "views": []
    },
    "ae1ad6224ab543fd83a31a16bb2642fc": {
     "views": []
    },
    "af83442cfe604f449275e86074efd30d": {
     "views": []
    },
    "b04732f27a724529874072e8845d5c5b": {
     "views": []
    },
    "b054d15f8d8a4ecebc967edc688f6526": {
     "views": []
    },
    "b12a283d69be447a9c8ce91f428b5866": {
     "views": []
    },
    "b13e6aca86434fcab05bc2485889b83e": {
     "views": []
    },
    "b199e960f7ac4893a1469f333960a4f3": {
     "views": []
    },
    "b2693d1459a3430693de7f588f1037c6": {
     "views": []
    },
    "b2b6265f6a87446b992ee27e737a1fdc": {
     "views": []
    },
    "b3c7cf1f21514eba808f4d9689c9645b": {
     "views": []
    },
    "b3d81ba3ff7a43f88d73ad7aaaf88eb8": {
     "views": []
    },
    "b44919e9af8b4966a5dd2d08b86e3037": {
     "views": []
    },
    "b48142e1953d403ca5cf96743fcae388": {
     "views": []
    },
    "b49df045beab4627a7d9a7a3b0aefb4c": {
     "views": []
    },
    "b6c4c9f899f642b7833a3d837ad160d1": {
     "views": []
    },
    "b74be138b03a42608a5304b14f23a7e7": {
     "views": []
    },
    "b77fe2258fb24dca84567e9426cf5e0a": {
     "views": []
    },
    "b79ad111bbeb447785ba5fa0a94491bc": {
     "views": []
    },
    "b844f213539848ffbd6f2b447dd6c323": {
     "views": []
    },
    "b85b611ef1804e6fbc07e449701b965b": {
     "views": []
    },
    "b88710b518ae481cb9493615b693df60": {
     "views": [
      {
       "cell_index": 5
      }
     ]
    },
    "b9a5eb5ef8b44527aa4c65844065d07d": {
     "views": []
    },
    "b9d9015684414db19d6f4db8d8f1171c": {
     "views": []
    },
    "ba3055567d4940d3ad3326725563b6fc": {
     "views": []
    },
    "baa9a1b7110b47e7a8d4f4e4f93e34ad": {
     "views": []
    },
    "baba349ffc134ccf9a0c5a157b462d32": {
     "views": []
    },
    "bbd363a6101e4528899e45941106d7bc": {
     "views": []
    },
    "bc68d3eac14445bebd736527445a0088": {
     "views": []
    },
    "be076b0e9cce43ba90a06364a2dcd0b4": {
     "views": []
    },
    "beb5780d805f46ad9c4a95c4b8b3fe91": {
     "views": []
    },
    "bee555299e654a78987afc999b48f930": {
     "views": []
    },
    "c0063d0d41554cfc938fda62b0657c8c": {
     "views": []
    },
    "c13d8422f8cb461d86a32b0ff70342eb": {
     "views": []
    },
    "c1a70a122d6747b4b45a38e10ca8d6bd": {
     "views": []
    },
    "c1c0d5c5ebd6414a98daa121a0ea96d7": {
     "views": []
    },
    "c3082823e05941538d5423c86c98a00c": {
     "views": []
    },
    "c59b0e5acb9d483d833138902687d4a9": {
     "views": []
    },
    "c6ba50a19b8540a0b4753a9d45bd1bbb": {
     "views": []
    },
    "c71610bdef4449da8ba768de6bea5273": {
     "views": []
    },
    "c7760fd672e9479ca77e37237ef1d19f": {
     "views": []
    },
    "c7fa49bdd6ba4fde9d9985d035125cc6": {
     "views": []
    },
    "c8211dc3818543c29d0d27a7d4750a0c": {
     "views": []
    },
    "c883e74363ae44ac9d4268f844f97f38": {
     "views": []
    },
    "c954f8e15ae54257979df5aaa9e657ac": {
     "views": []
    },
    "c956700017d94a64bef37ba8271cbbb9": {
     "views": []
    },
    "cab1c7e771c14408bd655af4bba6d697": {
     "views": []
    },
    "cae6c39a46ba40c58dbdefff609b9c24": {
     "views": []
    },
    "caf2bc9aeee14ad9ad352f96e82e36d2": {
     "views": []
    },
    "cdb749a68a31477194c72c19a4dc0162": {
     "views": []
    },
    "cde0c35feb3945f2aac12e9e995a59ad": {
     "views": []
    },
    "cde554477ba242deb5d7da1d3871f0bd": {
     "views": []
    },
    "ce6b2c286fc34d4c9e5a610bf977fd52": {
     "views": []
    },
    "ceaf1cb2e0c44868a01d53fde15e5e69": {
     "views": []
    },
    "cf8f87f88e9541d68346eb2e0dfb313c": {
     "views": []
    },
    "d027e2ab2b0949058e17dc0c2eefa241": {
     "views": []
    },
    "d0a5c999808b43518f54fe6aeeba00b3": {
     "views": []
    },
    "d0ac5885665049408b2f0268e659f308": {
     "views": []
    },
    "d1711fd57d794f94abdbc75444e1fc30": {
     "views": []
    },
    "d1baaf1cf8e9406d9a6aa6d8cc68551a": {
     "views": []
    },
    "d218859bfc2846c49f193cdcd493ce37": {
     "views": []
    },
    "d40792b2be4741d187f6d449cec0054d": {
     "views": []
    },
    "d415a7e491684a19a5209c85bba92f29": {
     "views": []
    },
    "d43aba6b00e84036a273f216ad1075e0": {
     "views": []
    },
    "d4cbaa5a517e46dc809bb580ad1286fe": {
     "views": []
    },
    "d5958d49b8724f6c9fc6e7ac150fd4b0": {
     "views": []
    },
    "d5c272845f774f22bfef725d77904817": {
     "views": []
    },
    "d69393c3a2bf49389afe35aa6dc5ccb2": {
     "views": []
    },
    "d8f73a18c00a446f8a9c0db9efb69dab": {
     "views": []
    },
    "d918510a14924f92bf157e471e42f563": {
     "views": []
    },
    "d9bc1b3f4c134835a2d2c13bc491d978": {
     "views": []
    },
    "db30b7e40d6848d092d95cba52f5fdbf": {
     "views": []
    },
    "dc117121c5b747f7abd2f79d24d5b84f": {
     "views": []
    },
    "dd2bd39daa9043029d57cb718a445e50": {
     "views": []
    },
    "dd6f2f6c2df24672a2f8f224110db041": {
     "views": []
    },
    "de40f3afb1264ecc8eb35809bd7e4a0e": {
     "views": []
    },
    "e0bb4d80cea04127a1e0ad480dac1e44": {
     "views": []
    },
    "e145ec767ee1453b97117c41f0f2f02e": {
     "views": []
    },
    "e1682a7b2be1469595cb68f3b86c77c2": {
     "views": []
    },
    "e1d770ffe27a440a85bd0de6b637a308": {
     "views": []
    },
    "e2f1b5b9e09c453ea643b1bec4b057a1": {
     "views": []
    },
    "e328f1e4ad3d4db185efaa9d014a89ad": {
     "views": []
    },
    "e3c04b3b97f24029a769dd1afe873167": {
     "views": []
    },
    "e58ab7fef28e4a4bacff1acc380d9498": {
     "views": []
    },
    "e6abe59c7e004862a8047c897c7c83cd": {
     "views": []
    },
    "e6d8041c504c470193dbdab378bdd5b9": {
     "views": []
    },
    "e74abba627fe4a52b8041a2b1b9b3160": {
     "views": []
    },
    "e761f929fb20418290ed8f93d1accfb9": {
     "views": []
    },
    "e781ee94e78b4016b01dabba025e02bb": {
     "views": []
    },
    "e7b745b686e14491bf6df6008ac7f4e7": {
     "views": []
    },
    "e8afc5aa112b4773a9be07100992cf84": {
     "views": []
    },
    "e9b988fd9cdf40ad90a854bfe1ef3aaa": {
     "views": []
    },
    "eadc740fe1b24ec6acae85aa1e8cf3db": {
     "views": []
    },
    "eaea01fd2e5d4621bc4b7090e380ca16": {
     "views": []
    },
    "ebb722b1b5fc4e37ae03b79d10731325": {
     "views": []
    },
    "ecc912fdd19c448f8addbc6784f51e00": {
     "views": []
    },
    "ecf0478bd2504efc877d9c1ccee4f391": {
     "views": []
    },
    "ed9c287fb8c2438a8b28ca29462e9c63": {
     "views": []
    },
    "ee54ec4bb37943f9bbd6c5976bfac8a3": {
     "views": []
    },
    "ee700c38ae7840abaf280b81374f0c26": {
     "views": []
    },
    "ee883164de1a42e4b3746c15b6d2d2d5": {
     "views": []
    },
    "eee3d1f3084d44e38c5244e1db2d53e7": {
     "views": []
    },
    "ef1d471e557d42c3bdbe6aa504f731ce": {
     "views": []
    },
    "efe98c7a2c364d7487db0ab74ee78220": {
     "views": []
    },
    "f07987245a1f42a5a4120392437b5380": {
     "views": []
    },
    "f07fc1ccedc946b8b236aad12130bf30": {
     "views": []
    },
    "f08046fd154e44eb9ea47aea1d9f27fb": {
     "views": []
    },
    "f0843dd12dab4f809a58fd93da5b2772": {
     "views": []
    },
    "f1d7a3fc590c47cfa7512b948bb56c36": {
     "views": []
    },
    "f21d8ad96793468798e239b3083dd9f7": {
     "views": []
    },
    "f21ee3a10d2940bab7be9b8a84ecc551": {
     "views": []
    },
    "f2a3efdfd2eb4069859b43e8623e4c8b": {
     "views": []
    },
    "f2e073ee250f4b519c87511448b30cca": {
     "views": []
    },
    "f32f594cc5ec4bf9b334e8af6c64a798": {
     "views": []
    },
    "f45a034fd654458d99b658ef3f1d2e2a": {
     "views": []
    },
    "f462e9720be8410daf1efcdf6c01f57c": {
     "views": []
    },
    "f4774e28a24f48bfaac9c46a2c52b128": {
     "views": []
    },
    "f58ff5995f98453d8248aec9ce5e9d39": {
     "views": []
    },
    "f6d0cccced9548aa98d3a1257d1d43b6": {
     "views": []
    },
    "f765b278a1be485398a21f1942a1515a": {
     "views": []
    },
    "f880fa4c62ee4eb0997d60b78af23a84": {
     "views": []
    },
    "f96684e7cb3c411bb5a54e91f285605b": {
     "views": []
    },
    "fa31edb2880b4984932d3d371a2c4900": {
     "views": []
    },
    "fa86710d7e75405f8752f28ed1a92892": {
     "views": []
    },
    "fb0201b602e04240a76d54b688dd3e3a": {
     "views": []
    },
    "fb8a990b882646879ce7fbf68e1d790e": {
     "views": []
    },
    "fc31f7f5f61c419eb870d9581b85bebe": {
     "views": []
    },
    "fc4f13060954489ca50b7d23212daddb": {
     "views": []
    },
    "fc5236f9590746bb88857b35276d53b8": {
     "views": []
    },
    "fce4b5f62e9e4dbcb5ca9f95604b01e1": {
     "views": []
    },
    "fd50a135888c4064951b1912ee581bf7": {
     "views": []
    },
    "fd6c8deb49224563aa7affa5098a4612": {
     "views": []
    },
    "fd759b81dd284f6db83450260da95c7b": {
     "views": []
    }
   },
   "version": "1.1.2"
  }
 },
 "nbformat": 4,
 "nbformat_minor": 0
}
