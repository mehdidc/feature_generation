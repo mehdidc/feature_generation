{
 "cells": [
  {
   "cell_type": "code",
   "execution_count": 1,
   "metadata": {
    "collapsed": true
   },
   "outputs": [],
   "source": [
    "%matplotlib notebook\n",
    "import sys\n",
    "sys.path.append('..')\n",
    "from __future__ import print_function\n",
    "from matplotlib.widgets import RectangleSelector\n",
    "import numpy as np\n",
    "import matplotlib.pyplot as plt\n",
    "from lightjob.cli import load_db\n",
    "import re\n",
    "import h5py\n",
    "import json\n",
    "import pandas as pd\n",
    "from lasagnekit.misc.plot_weights import dispims_color\n",
    "from ipywidgets import interact, interactive, fixed"
   ]
  },
  {
   "cell_type": "code",
   "execution_count": 86,
   "metadata": {
    "collapsed": false
   },
   "outputs": [],
   "source": [
    "# storing global variables\n",
    "class Singleton(object):\n",
    "    img_plot = None\n",
    "    rectangle_selector = None\n",
    "    tsne_df = None\n",
    "    err = []\n",
    "    X_model = None\n",
    "    \n",
    "# matplotlib interactive stuff\n",
    "def line_select_callback(eclick, erelease):\n",
    "    'eclick and erelease are the press and release events'\n",
    "    try:\n",
    "        x1, y1 = eclick.xdata, eclick.ydata\n",
    "        x2, y2 = erelease.xdata, erelease.ydata\n",
    "        w, h = 28, 28 # mnist dim\n",
    "        x = np.array(Singleton.tsne_df['x'])\n",
    "        y = np.array(Singleton.tsne_df['y'])\n",
    "        tsne_filter = ((x >= x1) &\n",
    "                       (x <= x2) &\n",
    "                       (y >= y1) &\n",
    "                       (y <= y2))\n",
    "        tsne_df = Singleton.tsne_df.iloc[tsne_filter]\n",
    "        indices = tsne_df['ind']\n",
    "\n",
    "        if len(indices) == 0:\n",
    "            Singleton.img_plot.set_data(Singleton.img_plot.get_array() * 0)\n",
    "            return\n",
    "        samples = Singleton.X_model[indices]\n",
    "        samples = samples.reshape((samples.shape[0], w, h, 1)) * np.ones((1, 1, 1, 3))\n",
    "        img = dispims_color(samples, border=1, bordercolor=(10, 10, 10))\n",
    "        Singleton.img_plot.set_data(img)\n",
    "    except Exception as ex:\n",
    "        Singleton.err.append(str(ex))\n",
    "\n",
    "def toggle_selector(event):\n",
    "    if event.button:\n",
    "        Singleton.img_plot.set_data(Singleton.img_plot.get_array() * 0)\n",
    "    if event.key in ['Q', 'q'] and toggle_selector.RS.active:\n",
    "        sys.stdout.flush()\n",
    "        Singleton.rectangle_selector.set_active(False)\n",
    "        Singleton.img_plot.set_data(Singleton.img_plot.get_array() * 0)\n",
    "    if event.key in ['A', 'a'] and not toggle_selector.RS.active:\n",
    "        sys.stdout.flush()\n",
    "        Singleton.rectangle_selector.set_active(True)\n",
    "        Singleton.img_plot.set_data(Singleton.img_plot.get_array() * 0)\n",
    "\n",
    "# job retrieval\n",
    "def retrieve_job(pattern, db):\n",
    "    J = db.jobs_with(state='success', type='generation')\n",
    "    J = filter(lambda j: re.search(pattern, j['summary']), J)\n",
    "    if len(J) == 0:\n",
    "        raise Exception('Not found : {}'.format(pattern))\n",
    "    return J[0]\n",
    "\n",
    "def get_full_job_id(j):\n",
    "    return j['summary']\n",
    "\n",
    "def get_data_slice(X, id_):\n",
    "    js = json.loads(X.attrs[id_])\n",
    "    return slice(js['start'], js['end'])"
   ]
  },
  {
   "cell_type": "code",
   "execution_count": 87,
   "metadata": {
    "collapsed": false
   },
   "outputs": [
    {
     "name": "stdout",
     "output_type": "stream",
     "text": [
      "{u'backend': u'Dataset'}\n"
     ]
    }
   ],
   "source": [
    "db = load_db()"
   ]
  },
  {
   "cell_type": "code",
   "execution_count": 88,
   "metadata": {
    "collapsed": false
   },
   "outputs": [],
   "source": [
    "dataset = h5py.File('../figs/dataset.hdf5', 'r')\n",
    "X = dataset['X']"
   ]
  },
  {
   "cell_type": "code",
   "execution_count": 91,
   "metadata": {
    "collapsed": false
   },
   "outputs": [],
   "source": [
    "def show(id_pattern=''):\n",
    "    j = retrieve_job(id_pattern, db)\n",
    "    id_ = get_full_job_id(j)\n",
    "\n",
    "    X_model = X[get_data_slice(X, id_)]\n",
    "    Singleton.X_model = X_model\n",
    "    tsne_df = pd.read_csv('../jobs/results/{}/tsne_input.csv'.format(id_))\n",
    "    Singleton.tsne_df = tsne_df\n",
    "\n",
    "    fig = plt.figure(figsize=(15, 15))\n",
    "\n",
    "    ax1 = plt.subplot2grid((5, 6), (0, 0), colspan=3, rowspan=2)\n",
    "    ax2 = plt.subplot2grid((5, 6), (0, 3), colspan=2, rowspan=2)\n",
    "\n",
    "    ax1.scatter(tsne_df['x'], tsne_df['y'], marker='+')\n",
    "\n",
    "    Singleton.rectangle_selector = RectangleSelector(\n",
    "        ax1, line_select_callback,\n",
    "        drawtype='box', useblit=True,\n",
    "        button=[1, 3],  # don't use middle button\n",
    "        minspanx=5, minspany=5,\n",
    "        spancoords='pixels',\n",
    "        interactive=True)\n",
    "    img_plot = ax2.imshow(np.zeros((20, 20)), interpolation='bilinear', cmap='gray')\n",
    "    Singleton.img_plot = img_plot\n",
    "    plt.connect('key_press_event', toggle_selector)\n",
    "    plt.connect('button_press_event', toggle_selector)\n",
    "    plt.title(id_)\n",
    "    plt.tight_layout()\n",
    "\n",
    "    plt.show()"
   ]
  },
  {
   "cell_type": "code",
   "execution_count": 92,
   "metadata": {
    "collapsed": false,
    "scrolled": false
   },
   "outputs": [
    {
     "data": {
      "application/javascript": [
       "/* Put everything inside the global mpl namespace */\n",
       "window.mpl = {};\n",
       "\n",
       "mpl.get_websocket_type = function() {\n",
       "    if (typeof(WebSocket) !== 'undefined') {\n",
       "        return WebSocket;\n",
       "    } else if (typeof(MozWebSocket) !== 'undefined') {\n",
       "        return MozWebSocket;\n",
       "    } else {\n",
       "        alert('Your browser does not have WebSocket support.' +\n",
       "              'Please try Chrome, Safari or Firefox ≥ 6. ' +\n",
       "              'Firefox 4 and 5 are also supported but you ' +\n",
       "              'have to enable WebSockets in about:config.');\n",
       "    };\n",
       "}\n",
       "\n",
       "mpl.figure = function(figure_id, websocket, ondownload, parent_element) {\n",
       "    this.id = figure_id;\n",
       "\n",
       "    this.ws = websocket;\n",
       "\n",
       "    this.supports_binary = (this.ws.binaryType != undefined);\n",
       "\n",
       "    if (!this.supports_binary) {\n",
       "        var warnings = document.getElementById(\"mpl-warnings\");\n",
       "        if (warnings) {\n",
       "            warnings.style.display = 'block';\n",
       "            warnings.textContent = (\n",
       "                \"This browser does not support binary websocket messages. \" +\n",
       "                    \"Performance may be slow.\");\n",
       "        }\n",
       "    }\n",
       "\n",
       "    this.imageObj = new Image();\n",
       "\n",
       "    this.context = undefined;\n",
       "    this.message = undefined;\n",
       "    this.canvas = undefined;\n",
       "    this.rubberband_canvas = undefined;\n",
       "    this.rubberband_context = undefined;\n",
       "    this.format_dropdown = undefined;\n",
       "\n",
       "    this.image_mode = 'full';\n",
       "\n",
       "    this.root = $('<div/>');\n",
       "    this._root_extra_style(this.root)\n",
       "    this.root.attr('style', 'display: inline-block');\n",
       "\n",
       "    $(parent_element).append(this.root);\n",
       "\n",
       "    this._init_header(this);\n",
       "    this._init_canvas(this);\n",
       "    this._init_toolbar(this);\n",
       "\n",
       "    var fig = this;\n",
       "\n",
       "    this.waiting = false;\n",
       "\n",
       "    this.ws.onopen =  function () {\n",
       "            fig.send_message(\"supports_binary\", {value: fig.supports_binary});\n",
       "            fig.send_message(\"send_image_mode\", {});\n",
       "            fig.send_message(\"refresh\", {});\n",
       "        }\n",
       "\n",
       "    this.imageObj.onload = function() {\n",
       "            if (fig.image_mode == 'full') {\n",
       "                // Full images could contain transparency (where diff images\n",
       "                // almost always do), so we need to clear the canvas so that\n",
       "                // there is no ghosting.\n",
       "                fig.context.clearRect(0, 0, fig.canvas.width, fig.canvas.height);\n",
       "            }\n",
       "            fig.context.drawImage(fig.imageObj, 0, 0);\n",
       "        };\n",
       "\n",
       "    this.imageObj.onunload = function() {\n",
       "        this.ws.close();\n",
       "    }\n",
       "\n",
       "    this.ws.onmessage = this._make_on_message_function(this);\n",
       "\n",
       "    this.ondownload = ondownload;\n",
       "}\n",
       "\n",
       "mpl.figure.prototype._init_header = function() {\n",
       "    var titlebar = $(\n",
       "        '<div class=\"ui-dialog-titlebar ui-widget-header ui-corner-all ' +\n",
       "        'ui-helper-clearfix\"/>');\n",
       "    var titletext = $(\n",
       "        '<div class=\"ui-dialog-title\" style=\"width: 100%; ' +\n",
       "        'text-align: center; padding: 3px;\"/>');\n",
       "    titlebar.append(titletext)\n",
       "    this.root.append(titlebar);\n",
       "    this.header = titletext[0];\n",
       "}\n",
       "\n",
       "\n",
       "\n",
       "mpl.figure.prototype._canvas_extra_style = function(canvas_div) {\n",
       "\n",
       "}\n",
       "\n",
       "\n",
       "mpl.figure.prototype._root_extra_style = function(canvas_div) {\n",
       "\n",
       "}\n",
       "\n",
       "mpl.figure.prototype._init_canvas = function() {\n",
       "    var fig = this;\n",
       "\n",
       "    var canvas_div = $('<div/>');\n",
       "\n",
       "    canvas_div.attr('style', 'position: relative; clear: both; outline: 0');\n",
       "\n",
       "    function canvas_keyboard_event(event) {\n",
       "        return fig.key_event(event, event['data']);\n",
       "    }\n",
       "\n",
       "    canvas_div.keydown('key_press', canvas_keyboard_event);\n",
       "    canvas_div.keyup('key_release', canvas_keyboard_event);\n",
       "    this.canvas_div = canvas_div\n",
       "    this._canvas_extra_style(canvas_div)\n",
       "    this.root.append(canvas_div);\n",
       "\n",
       "    var canvas = $('<canvas/>');\n",
       "    canvas.addClass('mpl-canvas');\n",
       "    canvas.attr('style', \"left: 0; top: 0; z-index: 0; outline: 0\")\n",
       "\n",
       "    this.canvas = canvas[0];\n",
       "    this.context = canvas[0].getContext(\"2d\");\n",
       "\n",
       "    var rubberband = $('<canvas/>');\n",
       "    rubberband.attr('style', \"position: absolute; left: 0; top: 0; z-index: 1;\")\n",
       "\n",
       "    var pass_mouse_events = true;\n",
       "\n",
       "    canvas_div.resizable({\n",
       "        start: function(event, ui) {\n",
       "            pass_mouse_events = false;\n",
       "        },\n",
       "        resize: function(event, ui) {\n",
       "            fig.request_resize(ui.size.width, ui.size.height);\n",
       "        },\n",
       "        stop: function(event, ui) {\n",
       "            pass_mouse_events = true;\n",
       "            fig.request_resize(ui.size.width, ui.size.height);\n",
       "        },\n",
       "    });\n",
       "\n",
       "    function mouse_event_fn(event) {\n",
       "        if (pass_mouse_events)\n",
       "            return fig.mouse_event(event, event['data']);\n",
       "    }\n",
       "\n",
       "    rubberband.mousedown('button_press', mouse_event_fn);\n",
       "    rubberband.mouseup('button_release', mouse_event_fn);\n",
       "    // Throttle sequential mouse events to 1 every 20ms.\n",
       "    rubberband.mousemove('motion_notify', mouse_event_fn);\n",
       "\n",
       "    rubberband.mouseenter('figure_enter', mouse_event_fn);\n",
       "    rubberband.mouseleave('figure_leave', mouse_event_fn);\n",
       "\n",
       "    canvas_div.on(\"wheel\", function (event) {\n",
       "        event = event.originalEvent;\n",
       "        event['data'] = 'scroll'\n",
       "        if (event.deltaY < 0) {\n",
       "            event.step = 1;\n",
       "        } else {\n",
       "            event.step = -1;\n",
       "        }\n",
       "        mouse_event_fn(event);\n",
       "    });\n",
       "\n",
       "    canvas_div.append(canvas);\n",
       "    canvas_div.append(rubberband);\n",
       "\n",
       "    this.rubberband = rubberband;\n",
       "    this.rubberband_canvas = rubberband[0];\n",
       "    this.rubberband_context = rubberband[0].getContext(\"2d\");\n",
       "    this.rubberband_context.strokeStyle = \"#000000\";\n",
       "\n",
       "    this._resize_canvas = function(width, height) {\n",
       "        // Keep the size of the canvas, canvas container, and rubber band\n",
       "        // canvas in synch.\n",
       "        canvas_div.css('width', width)\n",
       "        canvas_div.css('height', height)\n",
       "\n",
       "        canvas.attr('width', width);\n",
       "        canvas.attr('height', height);\n",
       "\n",
       "        rubberband.attr('width', width);\n",
       "        rubberband.attr('height', height);\n",
       "    }\n",
       "\n",
       "    // Set the figure to an initial 600x600px, this will subsequently be updated\n",
       "    // upon first draw.\n",
       "    this._resize_canvas(600, 600);\n",
       "\n",
       "    // Disable right mouse context menu.\n",
       "    $(this.rubberband_canvas).bind(\"contextmenu\",function(e){\n",
       "        return false;\n",
       "    });\n",
       "\n",
       "    function set_focus () {\n",
       "        canvas.focus();\n",
       "        canvas_div.focus();\n",
       "    }\n",
       "\n",
       "    window.setTimeout(set_focus, 100);\n",
       "}\n",
       "\n",
       "mpl.figure.prototype._init_toolbar = function() {\n",
       "    var fig = this;\n",
       "\n",
       "    var nav_element = $('<div/>')\n",
       "    nav_element.attr('style', 'width: 100%');\n",
       "    this.root.append(nav_element);\n",
       "\n",
       "    // Define a callback function for later on.\n",
       "    function toolbar_event(event) {\n",
       "        return fig.toolbar_button_onclick(event['data']);\n",
       "    }\n",
       "    function toolbar_mouse_event(event) {\n",
       "        return fig.toolbar_button_onmouseover(event['data']);\n",
       "    }\n",
       "\n",
       "    for(var toolbar_ind in mpl.toolbar_items) {\n",
       "        var name = mpl.toolbar_items[toolbar_ind][0];\n",
       "        var tooltip = mpl.toolbar_items[toolbar_ind][1];\n",
       "        var image = mpl.toolbar_items[toolbar_ind][2];\n",
       "        var method_name = mpl.toolbar_items[toolbar_ind][3];\n",
       "\n",
       "        if (!name) {\n",
       "            // put a spacer in here.\n",
       "            continue;\n",
       "        }\n",
       "        var button = $('<button/>');\n",
       "        button.addClass('ui-button ui-widget ui-state-default ui-corner-all ' +\n",
       "                        'ui-button-icon-only');\n",
       "        button.attr('role', 'button');\n",
       "        button.attr('aria-disabled', 'false');\n",
       "        button.click(method_name, toolbar_event);\n",
       "        button.mouseover(tooltip, toolbar_mouse_event);\n",
       "\n",
       "        var icon_img = $('<span/>');\n",
       "        icon_img.addClass('ui-button-icon-primary ui-icon');\n",
       "        icon_img.addClass(image);\n",
       "        icon_img.addClass('ui-corner-all');\n",
       "\n",
       "        var tooltip_span = $('<span/>');\n",
       "        tooltip_span.addClass('ui-button-text');\n",
       "        tooltip_span.html(tooltip);\n",
       "\n",
       "        button.append(icon_img);\n",
       "        button.append(tooltip_span);\n",
       "\n",
       "        nav_element.append(button);\n",
       "    }\n",
       "\n",
       "    var fmt_picker_span = $('<span/>');\n",
       "\n",
       "    var fmt_picker = $('<select/>');\n",
       "    fmt_picker.addClass('mpl-toolbar-option ui-widget ui-widget-content');\n",
       "    fmt_picker_span.append(fmt_picker);\n",
       "    nav_element.append(fmt_picker_span);\n",
       "    this.format_dropdown = fmt_picker[0];\n",
       "\n",
       "    for (var ind in mpl.extensions) {\n",
       "        var fmt = mpl.extensions[ind];\n",
       "        var option = $(\n",
       "            '<option/>', {selected: fmt === mpl.default_extension}).html(fmt);\n",
       "        fmt_picker.append(option)\n",
       "    }\n",
       "\n",
       "    // Add hover states to the ui-buttons\n",
       "    $( \".ui-button\" ).hover(\n",
       "        function() { $(this).addClass(\"ui-state-hover\");},\n",
       "        function() { $(this).removeClass(\"ui-state-hover\");}\n",
       "    );\n",
       "\n",
       "    var status_bar = $('<span class=\"mpl-message\"/>');\n",
       "    nav_element.append(status_bar);\n",
       "    this.message = status_bar[0];\n",
       "}\n",
       "\n",
       "mpl.figure.prototype.request_resize = function(x_pixels, y_pixels) {\n",
       "    // Request matplotlib to resize the figure. Matplotlib will then trigger a resize in the client,\n",
       "    // which will in turn request a refresh of the image.\n",
       "    this.send_message('resize', {'width': x_pixels, 'height': y_pixels});\n",
       "}\n",
       "\n",
       "mpl.figure.prototype.send_message = function(type, properties) {\n",
       "    properties['type'] = type;\n",
       "    properties['figure_id'] = this.id;\n",
       "    this.ws.send(JSON.stringify(properties));\n",
       "}\n",
       "\n",
       "mpl.figure.prototype.send_draw_message = function() {\n",
       "    if (!this.waiting) {\n",
       "        this.waiting = true;\n",
       "        this.ws.send(JSON.stringify({type: \"draw\", figure_id: this.id}));\n",
       "    }\n",
       "}\n",
       "\n",
       "\n",
       "mpl.figure.prototype.handle_save = function(fig, msg) {\n",
       "    var format_dropdown = fig.format_dropdown;\n",
       "    var format = format_dropdown.options[format_dropdown.selectedIndex].value;\n",
       "    fig.ondownload(fig, format);\n",
       "}\n",
       "\n",
       "\n",
       "mpl.figure.prototype.handle_resize = function(fig, msg) {\n",
       "    var size = msg['size'];\n",
       "    if (size[0] != fig.canvas.width || size[1] != fig.canvas.height) {\n",
       "        fig._resize_canvas(size[0], size[1]);\n",
       "        fig.send_message(\"refresh\", {});\n",
       "    };\n",
       "}\n",
       "\n",
       "mpl.figure.prototype.handle_rubberband = function(fig, msg) {\n",
       "    var x0 = msg['x0'];\n",
       "    var y0 = fig.canvas.height - msg['y0'];\n",
       "    var x1 = msg['x1'];\n",
       "    var y1 = fig.canvas.height - msg['y1'];\n",
       "    x0 = Math.floor(x0) + 0.5;\n",
       "    y0 = Math.floor(y0) + 0.5;\n",
       "    x1 = Math.floor(x1) + 0.5;\n",
       "    y1 = Math.floor(y1) + 0.5;\n",
       "    var min_x = Math.min(x0, x1);\n",
       "    var min_y = Math.min(y0, y1);\n",
       "    var width = Math.abs(x1 - x0);\n",
       "    var height = Math.abs(y1 - y0);\n",
       "\n",
       "    fig.rubberband_context.clearRect(\n",
       "        0, 0, fig.canvas.width, fig.canvas.height);\n",
       "\n",
       "    fig.rubberband_context.strokeRect(min_x, min_y, width, height);\n",
       "}\n",
       "\n",
       "mpl.figure.prototype.handle_figure_label = function(fig, msg) {\n",
       "    // Updates the figure title.\n",
       "    fig.header.textContent = msg['label'];\n",
       "}\n",
       "\n",
       "mpl.figure.prototype.handle_cursor = function(fig, msg) {\n",
       "    var cursor = msg['cursor'];\n",
       "    switch(cursor)\n",
       "    {\n",
       "    case 0:\n",
       "        cursor = 'pointer';\n",
       "        break;\n",
       "    case 1:\n",
       "        cursor = 'default';\n",
       "        break;\n",
       "    case 2:\n",
       "        cursor = 'crosshair';\n",
       "        break;\n",
       "    case 3:\n",
       "        cursor = 'move';\n",
       "        break;\n",
       "    }\n",
       "    fig.rubberband_canvas.style.cursor = cursor;\n",
       "}\n",
       "\n",
       "mpl.figure.prototype.handle_message = function(fig, msg) {\n",
       "    fig.message.textContent = msg['message'];\n",
       "}\n",
       "\n",
       "mpl.figure.prototype.handle_draw = function(fig, msg) {\n",
       "    // Request the server to send over a new figure.\n",
       "    fig.send_draw_message();\n",
       "}\n",
       "\n",
       "mpl.figure.prototype.handle_image_mode = function(fig, msg) {\n",
       "    fig.image_mode = msg['mode'];\n",
       "}\n",
       "\n",
       "mpl.figure.prototype.updated_canvas_event = function() {\n",
       "    // Called whenever the canvas gets updated.\n",
       "    this.send_message(\"ack\", {});\n",
       "}\n",
       "\n",
       "// A function to construct a web socket function for onmessage handling.\n",
       "// Called in the figure constructor.\n",
       "mpl.figure.prototype._make_on_message_function = function(fig) {\n",
       "    return function socket_on_message(evt) {\n",
       "        if (evt.data instanceof Blob) {\n",
       "            /* FIXME: We get \"Resource interpreted as Image but\n",
       "             * transferred with MIME type text/plain:\" errors on\n",
       "             * Chrome.  But how to set the MIME type?  It doesn't seem\n",
       "             * to be part of the websocket stream */\n",
       "            evt.data.type = \"image/png\";\n",
       "\n",
       "            /* Free the memory for the previous frames */\n",
       "            if (fig.imageObj.src) {\n",
       "                (window.URL || window.webkitURL).revokeObjectURL(\n",
       "                    fig.imageObj.src);\n",
       "            }\n",
       "\n",
       "            fig.imageObj.src = (window.URL || window.webkitURL).createObjectURL(\n",
       "                evt.data);\n",
       "            fig.updated_canvas_event();\n",
       "            fig.waiting = false;\n",
       "            return;\n",
       "        }\n",
       "        else if (typeof evt.data === 'string' && evt.data.slice(0, 21) == \"data:image/png;base64\") {\n",
       "            fig.imageObj.src = evt.data;\n",
       "            fig.updated_canvas_event();\n",
       "            fig.waiting = false;\n",
       "            return;\n",
       "        }\n",
       "\n",
       "        var msg = JSON.parse(evt.data);\n",
       "        var msg_type = msg['type'];\n",
       "\n",
       "        // Call the  \"handle_{type}\" callback, which takes\n",
       "        // the figure and JSON message as its only arguments.\n",
       "        try {\n",
       "            var callback = fig[\"handle_\" + msg_type];\n",
       "        } catch (e) {\n",
       "            console.log(\"No handler for the '\" + msg_type + \"' message type: \", msg);\n",
       "            return;\n",
       "        }\n",
       "\n",
       "        if (callback) {\n",
       "            try {\n",
       "                // console.log(\"Handling '\" + msg_type + \"' message: \", msg);\n",
       "                callback(fig, msg);\n",
       "            } catch (e) {\n",
       "                console.log(\"Exception inside the 'handler_\" + msg_type + \"' callback:\", e, e.stack, msg);\n",
       "            }\n",
       "        }\n",
       "    };\n",
       "}\n",
       "\n",
       "// from http://stackoverflow.com/questions/1114465/getting-mouse-location-in-canvas\n",
       "mpl.findpos = function(e) {\n",
       "    //this section is from http://www.quirksmode.org/js/events_properties.html\n",
       "    var targ;\n",
       "    if (!e)\n",
       "        e = window.event;\n",
       "    if (e.target)\n",
       "        targ = e.target;\n",
       "    else if (e.srcElement)\n",
       "        targ = e.srcElement;\n",
       "    if (targ.nodeType == 3) // defeat Safari bug\n",
       "        targ = targ.parentNode;\n",
       "\n",
       "    // jQuery normalizes the pageX and pageY\n",
       "    // pageX,Y are the mouse positions relative to the document\n",
       "    // offset() returns the position of the element relative to the document\n",
       "    var x = e.pageX - $(targ).offset().left;\n",
       "    var y = e.pageY - $(targ).offset().top;\n",
       "\n",
       "    return {\"x\": x, \"y\": y};\n",
       "};\n",
       "\n",
       "/*\n",
       " * return a copy of an object with only non-object keys\n",
       " * we need this to avoid circular references\n",
       " * http://stackoverflow.com/a/24161582/3208463\n",
       " */\n",
       "function simpleKeys (original) {\n",
       "  return Object.keys(original).reduce(function (obj, key) {\n",
       "    if (typeof original[key] !== 'object')\n",
       "        obj[key] = original[key]\n",
       "    return obj;\n",
       "  }, {});\n",
       "}\n",
       "\n",
       "mpl.figure.prototype.mouse_event = function(event, name) {\n",
       "    var canvas_pos = mpl.findpos(event)\n",
       "\n",
       "    if (name === 'button_press')\n",
       "    {\n",
       "        this.canvas.focus();\n",
       "        this.canvas_div.focus();\n",
       "    }\n",
       "\n",
       "    var x = canvas_pos.x;\n",
       "    var y = canvas_pos.y;\n",
       "\n",
       "    this.send_message(name, {x: x, y: y, button: event.button,\n",
       "                             step: event.step,\n",
       "                             guiEvent: simpleKeys(event)});\n",
       "\n",
       "    /* This prevents the web browser from automatically changing to\n",
       "     * the text insertion cursor when the button is pressed.  We want\n",
       "     * to control all of the cursor setting manually through the\n",
       "     * 'cursor' event from matplotlib */\n",
       "    event.preventDefault();\n",
       "    return false;\n",
       "}\n",
       "\n",
       "mpl.figure.prototype._key_event_extra = function(event, name) {\n",
       "    // Handle any extra behaviour associated with a key event\n",
       "}\n",
       "\n",
       "mpl.figure.prototype.key_event = function(event, name) {\n",
       "\n",
       "    // Prevent repeat events\n",
       "    if (name == 'key_press')\n",
       "    {\n",
       "        if (event.which === this._key)\n",
       "            return;\n",
       "        else\n",
       "            this._key = event.which;\n",
       "    }\n",
       "    if (name == 'key_release')\n",
       "        this._key = null;\n",
       "\n",
       "    var value = '';\n",
       "    if (event.ctrlKey && event.which != 17)\n",
       "        value += \"ctrl+\";\n",
       "    if (event.altKey && event.which != 18)\n",
       "        value += \"alt+\";\n",
       "    if (event.shiftKey && event.which != 16)\n",
       "        value += \"shift+\";\n",
       "\n",
       "    value += 'k';\n",
       "    value += event.which.toString();\n",
       "\n",
       "    this._key_event_extra(event, name);\n",
       "\n",
       "    this.send_message(name, {key: value,\n",
       "                             guiEvent: simpleKeys(event)});\n",
       "    return false;\n",
       "}\n",
       "\n",
       "mpl.figure.prototype.toolbar_button_onclick = function(name) {\n",
       "    if (name == 'download') {\n",
       "        this.handle_save(this, null);\n",
       "    } else {\n",
       "        this.send_message(\"toolbar_button\", {name: name});\n",
       "    }\n",
       "};\n",
       "\n",
       "mpl.figure.prototype.toolbar_button_onmouseover = function(tooltip) {\n",
       "    this.message.textContent = tooltip;\n",
       "};\n",
       "mpl.toolbar_items = [[\"Home\", \"Reset original view\", \"fa fa-home icon-home\", \"home\"], [\"Back\", \"Back to  previous view\", \"fa fa-arrow-left icon-arrow-left\", \"back\"], [\"Forward\", \"Forward to next view\", \"fa fa-arrow-right icon-arrow-right\", \"forward\"], [\"\", \"\", \"\", \"\"], [\"Pan\", \"Pan axes with left mouse, zoom with right\", \"fa fa-arrows icon-move\", \"pan\"], [\"Zoom\", \"Zoom to rectangle\", \"fa fa-square-o icon-check-empty\", \"zoom\"], [\"\", \"\", \"\", \"\"], [\"Download\", \"Download plot\", \"fa fa-floppy-o icon-save\", \"download\"]];\n",
       "\n",
       "mpl.extensions = [\"eps\", \"jpeg\", \"pdf\", \"png\", \"ps\", \"raw\", \"svg\", \"tif\"];\n",
       "\n",
       "mpl.default_extension = \"png\";var comm_websocket_adapter = function(comm) {\n",
       "    // Create a \"websocket\"-like object which calls the given IPython comm\n",
       "    // object with the appropriate methods. Currently this is a non binary\n",
       "    // socket, so there is still some room for performance tuning.\n",
       "    var ws = {};\n",
       "\n",
       "    ws.close = function() {\n",
       "        comm.close()\n",
       "    };\n",
       "    ws.send = function(m) {\n",
       "        //console.log('sending', m);\n",
       "        comm.send(m);\n",
       "    };\n",
       "    // Register the callback with on_msg.\n",
       "    comm.on_msg(function(msg) {\n",
       "        //console.log('receiving', msg['content']['data'], msg);\n",
       "        // Pass the mpl event to the overriden (by mpl) onmessage function.\n",
       "        ws.onmessage(msg['content']['data'])\n",
       "    });\n",
       "    return ws;\n",
       "}\n",
       "\n",
       "mpl.mpl_figure_comm = function(comm, msg) {\n",
       "    // This is the function which gets called when the mpl process\n",
       "    // starts-up an IPython Comm through the \"matplotlib\" channel.\n",
       "\n",
       "    var id = msg.content.data.id;\n",
       "    // Get hold of the div created by the display call when the Comm\n",
       "    // socket was opened in Python.\n",
       "    var element = $(\"#\" + id);\n",
       "    var ws_proxy = comm_websocket_adapter(comm)\n",
       "\n",
       "    function ondownload(figure, format) {\n",
       "        window.open(figure.imageObj.src);\n",
       "    }\n",
       "\n",
       "    var fig = new mpl.figure(id, ws_proxy,\n",
       "                           ondownload,\n",
       "                           element.get(0));\n",
       "\n",
       "    // Call onopen now - mpl needs it, as it is assuming we've passed it a real\n",
       "    // web socket which is closed, not our websocket->open comm proxy.\n",
       "    ws_proxy.onopen();\n",
       "\n",
       "    fig.parent_element = element.get(0);\n",
       "    fig.cell_info = mpl.find_output_cell(\"<div id='\" + id + \"'></div>\");\n",
       "    if (!fig.cell_info) {\n",
       "        console.error(\"Failed to find cell for figure\", id, fig);\n",
       "        return;\n",
       "    }\n",
       "\n",
       "    var output_index = fig.cell_info[2]\n",
       "    var cell = fig.cell_info[0];\n",
       "\n",
       "};\n",
       "\n",
       "mpl.figure.prototype.handle_close = function(fig, msg) {\n",
       "    fig.root.unbind('remove')\n",
       "\n",
       "    // Update the output cell to use the data from the current canvas.\n",
       "    fig.push_to_output();\n",
       "    var dataURL = fig.canvas.toDataURL();\n",
       "    // Re-enable the keyboard manager in IPython - without this line, in FF,\n",
       "    // the notebook keyboard shortcuts fail.\n",
       "    IPython.keyboard_manager.enable()\n",
       "    $(fig.parent_element).html('<img src=\"' + dataURL + '\">');\n",
       "    fig.close_ws(fig, msg);\n",
       "}\n",
       "\n",
       "mpl.figure.prototype.close_ws = function(fig, msg){\n",
       "    fig.send_message('closing', msg);\n",
       "    // fig.ws.close()\n",
       "}\n",
       "\n",
       "mpl.figure.prototype.push_to_output = function(remove_interactive) {\n",
       "    // Turn the data on the canvas into data in the output cell.\n",
       "    var dataURL = this.canvas.toDataURL();\n",
       "    this.cell_info[1]['text/html'] = '<img src=\"' + dataURL + '\">';\n",
       "}\n",
       "\n",
       "mpl.figure.prototype.updated_canvas_event = function() {\n",
       "    // Tell IPython that the notebook contents must change.\n",
       "    IPython.notebook.set_dirty(true);\n",
       "    this.send_message(\"ack\", {});\n",
       "    var fig = this;\n",
       "    // Wait a second, then push the new image to the DOM so\n",
       "    // that it is saved nicely (might be nice to debounce this).\n",
       "    setTimeout(function () { fig.push_to_output() }, 1000);\n",
       "}\n",
       "\n",
       "mpl.figure.prototype._init_toolbar = function() {\n",
       "    var fig = this;\n",
       "\n",
       "    var nav_element = $('<div/>')\n",
       "    nav_element.attr('style', 'width: 100%');\n",
       "    this.root.append(nav_element);\n",
       "\n",
       "    // Define a callback function for later on.\n",
       "    function toolbar_event(event) {\n",
       "        return fig.toolbar_button_onclick(event['data']);\n",
       "    }\n",
       "    function toolbar_mouse_event(event) {\n",
       "        return fig.toolbar_button_onmouseover(event['data']);\n",
       "    }\n",
       "\n",
       "    for(var toolbar_ind in mpl.toolbar_items){\n",
       "        var name = mpl.toolbar_items[toolbar_ind][0];\n",
       "        var tooltip = mpl.toolbar_items[toolbar_ind][1];\n",
       "        var image = mpl.toolbar_items[toolbar_ind][2];\n",
       "        var method_name = mpl.toolbar_items[toolbar_ind][3];\n",
       "\n",
       "        if (!name) { continue; };\n",
       "\n",
       "        var button = $('<button class=\"btn btn-default\" href=\"#\" title=\"' + name + '\"><i class=\"fa ' + image + ' fa-lg\"></i></button>');\n",
       "        button.click(method_name, toolbar_event);\n",
       "        button.mouseover(tooltip, toolbar_mouse_event);\n",
       "        nav_element.append(button);\n",
       "    }\n",
       "\n",
       "    // Add the status bar.\n",
       "    var status_bar = $('<span class=\"mpl-message\" style=\"text-align:right; float: right;\"/>');\n",
       "    nav_element.append(status_bar);\n",
       "    this.message = status_bar[0];\n",
       "\n",
       "    // Add the close button to the window.\n",
       "    var buttongrp = $('<div class=\"btn-group inline pull-right\"></div>');\n",
       "    var button = $('<button class=\"btn btn-mini btn-primary\" href=\"#\" title=\"Stop Interaction\"><i class=\"fa fa-power-off icon-remove icon-large\"></i></button>');\n",
       "    button.click(function (evt) { fig.handle_close(fig, {}); } );\n",
       "    button.mouseover('Stop Interaction', toolbar_mouse_event);\n",
       "    buttongrp.append(button);\n",
       "    var titlebar = this.root.find($('.ui-dialog-titlebar'));\n",
       "    titlebar.prepend(buttongrp);\n",
       "}\n",
       "\n",
       "mpl.figure.prototype._root_extra_style = function(el){\n",
       "    var fig = this\n",
       "    el.on(\"remove\", function(){\n",
       "\tfig.close_ws(fig, {});\n",
       "    });\n",
       "}\n",
       "\n",
       "mpl.figure.prototype._canvas_extra_style = function(el){\n",
       "    // this is important to make the div 'focusable\n",
       "    el.attr('tabindex', 0)\n",
       "    // reach out to IPython and tell the keyboard manager to turn it's self\n",
       "    // off when our div gets focus\n",
       "\n",
       "    // location in version 3\n",
       "    if (IPython.notebook.keyboard_manager) {\n",
       "        IPython.notebook.keyboard_manager.register_events(el);\n",
       "    }\n",
       "    else {\n",
       "        // location in version 2\n",
       "        IPython.keyboard_manager.register_events(el);\n",
       "    }\n",
       "\n",
       "}\n",
       "\n",
       "mpl.figure.prototype._key_event_extra = function(event, name) {\n",
       "    var manager = IPython.notebook.keyboard_manager;\n",
       "    if (!manager)\n",
       "        manager = IPython.keyboard_manager;\n",
       "\n",
       "    // Check for shift+enter\n",
       "    if (event.shiftKey && event.which == 13) {\n",
       "        this.canvas_div.blur();\n",
       "        event.shiftKey = false;\n",
       "        // Send a \"J\" for go to next cell\n",
       "        event.which = 74;\n",
       "        event.keyCode = 74;\n",
       "        manager.command_mode();\n",
       "        manager.handle_keydown(event);\n",
       "    }\n",
       "}\n",
       "\n",
       "mpl.figure.prototype.handle_save = function(fig, msg) {\n",
       "    fig.ondownload(fig, null);\n",
       "}\n",
       "\n",
       "\n",
       "mpl.find_output_cell = function(html_output) {\n",
       "    // Return the cell and output element which can be found *uniquely* in the notebook.\n",
       "    // Note - this is a bit hacky, but it is done because the \"notebook_saving.Notebook\"\n",
       "    // IPython event is triggered only after the cells have been serialised, which for\n",
       "    // our purposes (turning an active figure into a static one), is too late.\n",
       "    var cells = IPython.notebook.get_cells();\n",
       "    var ncells = cells.length;\n",
       "    for (var i=0; i<ncells; i++) {\n",
       "        var cell = cells[i];\n",
       "        if (cell.cell_type === 'code'){\n",
       "            for (var j=0; j<cell.output_area.outputs.length; j++) {\n",
       "                var data = cell.output_area.outputs[j];\n",
       "                if (data.data) {\n",
       "                    // IPython >= 3 moved mimebundle to data attribute of output\n",
       "                    data = data.data;\n",
       "                }\n",
       "                if (data['text/html'] == html_output) {\n",
       "                    return [cell, data, j];\n",
       "                }\n",
       "            }\n",
       "        }\n",
       "    }\n",
       "}\n",
       "\n",
       "// Register the function which deals with the matplotlib target/channel.\n",
       "// The kernel may be null if the page has been refreshed.\n",
       "if (IPython.notebook.kernel != null) {\n",
       "    IPython.notebook.kernel.comm_manager.register_target('matplotlib', mpl.mpl_figure_comm);\n",
       "}\n"
      ],
      "text/plain": [
       "<IPython.core.display.Javascript object>"
      ]
     },
     "metadata": {},
     "output_type": "display_data"
    },
    {
     "data": {
      "text/html": [
       "<img src=\"data:image/png;base64,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\">"
      ],
      "text/plain": [
       "<IPython.core.display.HTML object>"
      ]
     },
     "metadata": {},
     "output_type": "display_data"
    }
   ],
   "source": [
    "interact(show, __manual=True)"
   ]
  },
  {
   "cell_type": "code",
   "execution_count": 85,
   "metadata": {
    "collapsed": false
   },
   "outputs": [
    {
     "data": {
      "text/plain": [
       "[]"
      ]
     },
     "execution_count": 85,
     "metadata": {},
     "output_type": "execute_result"
    }
   ],
   "source": [
    "Singleton.err\n"
   ]
  }
 ],
 "metadata": {
  "kernelspec": {
   "display_name": "Python 2",
   "language": "python",
   "name": "python2"
  },
  "language_info": {
   "codemirror_mode": {
    "name": "ipython",
    "version": 2
   },
   "file_extension": ".py",
   "mimetype": "text/x-python",
   "name": "python",
   "nbconvert_exporter": "python",
   "pygments_lexer": "ipython2",
   "version": "2.7.11"
  },
  "widgets": {
   "state": {
    "01d2046a91144299ac2eaf52ab0bf283": {
     "views": []
    },
    "0368394d66664053b2142cb06ceb2a57": {
     "views": []
    },
    "07b42a9d60cd4402b02fdc470a42bf2d": {
     "views": []
    },
    "08a2c421004042e9a2393e1d013cb295": {
     "views": []
    },
    "0ad6e371fc164f6c9ea31b8b9a73ca07": {
     "views": []
    },
    "0f0b8b500db44beab5b337cd34737f95": {
     "views": []
    },
    "0fa88e5c5585449e847cb02731dec6c7": {
     "views": []
    },
    "10d4f045def94209954ef6fb5bf715a7": {
     "views": []
    },
    "16604525c5d14ee0a002a3f8b275ca9d": {
     "views": []
    },
    "19aef54be7d64a9b9edb6209fb8265a7": {
     "views": []
    },
    "1a104c0957b14b09ba6dbc9b1786aceb": {
     "views": []
    },
    "1db38ecbbc2e40369f436a58608b061f": {
     "views": []
    },
    "1f51571c79cf4bf094e98de7c4937854": {
     "views": []
    },
    "20c898ce0a6144a0a140020f657c4ac1": {
     "views": []
    },
    "216e37901db54f4fa6d7c710cfc3efb5": {
     "views": []
    },
    "237a4e8918c84fef8ce471700e90db2c": {
     "views": []
    },
    "26feba78a6614d6396b5e3034a4bec0d": {
     "views": []
    },
    "29b036d6ba5543c5a21ee3d8b2be4899": {
     "views": []
    },
    "2a8aa51a89a945c1a310a0d70a13a3a6": {
     "views": []
    },
    "2c485cf78a854eeea5d79776592d94f7": {
     "views": []
    },
    "2e468c9d543542f78e9a1104ec1475f4": {
     "views": []
    },
    "2f30bec5500c4c64a762d0c81d6f19c3": {
     "views": []
    },
    "2fcfb5a22cc44e62a02af6c057718ae7": {
     "views": []
    },
    "2fdcddfd91144b8593db0763e92b55aa": {
     "views": []
    },
    "3004cfcf796f4782abefd118c5e2eeda": {
     "views": []
    },
    "343368b525ce461388b859cb6954c208": {
     "views": []
    },
    "3473e83002ef4060a5fa28b9a71f5ce8": {
     "views": []
    },
    "35b5ba8d317143c68a860b5415bb1429": {
     "views": []
    },
    "38c47a7a7c0443828735afcf2683e692": {
     "views": []
    },
    "39221c2a3f2a48509fe0bfa1c4d893c0": {
     "views": []
    },
    "39d2a875ea3a4bdf9153cb34189a2390": {
     "views": []
    },
    "3c891132b8e548fbbb24a842fb1aef5a": {
     "views": []
    },
    "3e345435dbf74c2eb947d1625b3b950f": {
     "views": []
    },
    "4108d95c9639481f8998b6f41c30b6a2": {
     "views": []
    },
    "42785bdcafa244ce82554918df8af9b4": {
     "views": []
    },
    "450bcab7310445fa9e74169912e43e99": {
     "views": []
    },
    "466b6d66f79f4258b415c136a096d575": {
     "views": []
    },
    "4b9c1e618d0644efb791b8cfb004aab4": {
     "views": []
    },
    "4c731bf660dc4ff9a4478ade1717876e": {
     "views": []
    },
    "5009cf453025462c9c5941c16e69c47b": {
     "views": []
    },
    "5146b9c33552491bb6101f41c847aee3": {
     "views": []
    },
    "567201f89554470b90f9e850fd03876f": {
     "views": []
    },
    "5734bd44492b42af86ba64c29fd27348": {
     "views": []
    },
    "57f8137b216b49fd91787a2f8ad2318e": {
     "views": []
    },
    "580e8867e90a446cb0a296160bc4444e": {
     "views": []
    },
    "5818183eb8b04d4698608e44b835ccc9": {
     "views": []
    },
    "5d60fdc3b5c049e7a94b6d7825686498": {
     "views": []
    },
    "5eabde19eb914c61928c477028adac2f": {
     "views": []
    },
    "607870e932c8476ea3a5758fd43cd7ee": {
     "views": []
    },
    "6230fb91ad64496ebbeb364eaffa02e7": {
     "views": []
    },
    "62448e47446b4071825db9041ec00547": {
     "views": []
    },
    "62b73140ebec4d0ea07762e5f6c0984d": {
     "views": []
    },
    "631debfe94da414dbfe401bbb079aa1c": {
     "views": []
    },
    "6621c0d005a64b67bcd7a66aa648e631": {
     "views": []
    },
    "68509874e8924175be727cf2e0be7317": {
     "views": []
    },
    "68f12ba98b3241f78e5cae77c36a485d": {
     "views": []
    },
    "693629caf4934499b5b39c9dbfd30678": {
     "views": []
    },
    "6b75f168e1d44f4297b63d75b34b0f46": {
     "views": []
    },
    "6c98ef5a781f44dfa2e3f5656e8e6bbc": {
     "views": []
    },
    "6d008edcdff64621abac207f314037fa": {
     "views": []
    },
    "7067c37e4227470d8459f364670a1013": {
     "views": []
    },
    "70d58dee78b1439399857863254798fe": {
     "views": []
    },
    "7322ebdda06d4a45adbf62c31d35b3f3": {
     "views": []
    },
    "7b5105169dae495a9215cf53c797e1d8": {
     "views": []
    },
    "7b607d0a18e84df18e66f26b171bcf6e": {
     "views": []
    },
    "7bbdf0fbdc334f9ea1f8311db90c3fc5": {
     "views": []
    },
    "7cf249e7d41b473da79c02e51eabd4a4": {
     "views": []
    },
    "7f139e64460042929c29da231d902d80": {
     "views": []
    },
    "8102c8e2074b4396af31853e88e59c0e": {
     "views": []
    },
    "81149db793e545f787cdb2cc6b206455": {
     "views": []
    },
    "85bdda1f7b2a4f05ad9a8b5d5bf6c459": {
     "views": []
    },
    "87ff279e87cd429e88745beefadca8a9": {
     "views": []
    },
    "8a797dda3bf5408688ac5cbfabd4ac64": {
     "views": []
    },
    "8aea08586d3d4b7c9a096e4a18ad8889": {
     "views": []
    },
    "8c287b1e0855498c9e15317e1b70bcec": {
     "views": []
    },
    "8ce76452e34b4c0dbf02eef85197f789": {
     "views": []
    },
    "8d8419316649460bb0b7b04c1b27ebad": {
     "views": []
    },
    "8f766fccdda94ca8a57d7970cec56c20": {
     "views": []
    },
    "914fd5e5f6074985b04c9e8f7bce8beb": {
     "views": []
    },
    "9167d44152bd4154b8b2652a2290762e": {
     "views": []
    },
    "93f90910333c44ee9fa9a23985745b66": {
     "views": []
    },
    "943444658e4345db9dc5b83260220ad2": {
     "views": []
    },
    "9a6da97ebedd4356be97b4acf398988d": {
     "views": []
    },
    "9d60a17c47344deea701506dcb082529": {
     "views": []
    },
    "9ed557ab8b3d41e99806da9b8652de06": {
     "views": []
    },
    "a1630d62654944e3bc27966c612d7a3d": {
     "views": []
    },
    "a3042f1400e14d509eea9465fb847bca": {
     "views": []
    },
    "a53e765c6a5940b3a89141ae4ffbad5d": {
     "views": []
    },
    "a5eb8790a6b24b8f97c05cea59958a8b": {
     "views": []
    },
    "a661d91370384007abcc36d5c7fd957c": {
     "views": []
    },
    "a6dbc101c36649bdafd9dc1964052143": {
     "views": []
    },
    "a8f16be20b604b59bf83632f47aa7534": {
     "views": []
    },
    "a9f780ebb9d14ada8676840017014d7f": {
     "views": []
    },
    "b12a283d69be447a9c8ce91f428b5866": {
     "views": []
    },
    "b2693d1459a3430693de7f588f1037c6": {
     "views": []
    },
    "b2b6265f6a87446b992ee27e737a1fdc": {
     "views": []
    },
    "b3d81ba3ff7a43f88d73ad7aaaf88eb8": {
     "views": []
    },
    "b44919e9af8b4966a5dd2d08b86e3037": {
     "views": []
    },
    "b680d5ae6ba7423e88539db199b7ee0f": {
     "views": []
    },
    "b805ab0f2e464f749068967474bb31c9": {
     "views": []
    },
    "b844f213539848ffbd6f2b447dd6c323": {
     "views": []
    },
    "b905cf5b617a4a3f9efe50fe3066a078": {
     "views": []
    },
    "b9a5eb5ef8b44527aa4c65844065d07d": {
     "views": []
    },
    "ba3055567d4940d3ad3326725563b6fc": {
     "views": []
    },
    "ba76acf47d494d9ca0f00e0b948da094": {
     "views": []
    },
    "beb5780d805f46ad9c4a95c4b8b3fe91": {
     "views": []
    },
    "c1c0d5c5ebd6414a98daa121a0ea96d7": {
     "views": []
    },
    "c4193f69d9044760af959728e53cd8b0": {
     "views": []
    },
    "c628542e80b942378591a2e716d5b496": {
     "views": []
    },
    "c7fa49bdd6ba4fde9d9985d035125cc6": {
     "views": []
    },
    "cab1c7e771c14408bd655af4bba6d697": {
     "views": []
    },
    "cae6c39a46ba40c58dbdefff609b9c24": {
     "views": [
      {
       "cell_index": 5
      }
     ]
    },
    "caf2bc9aeee14ad9ad352f96e82e36d2": {
     "views": []
    },
    "cde554477ba242deb5d7da1d3871f0bd": {
     "views": []
    },
    "ce6ea622746048da99a299f82ba3fe35": {
     "views": []
    },
    "d0a5c999808b43518f54fe6aeeba00b3": {
     "views": []
    },
    "d0f54793c8b44444a92b656133526f73": {
     "views": []
    },
    "d1711fd57d794f94abdbc75444e1fc30": {
     "views": []
    },
    "d2307e6589424a669e1036277b8a19ab": {
     "views": []
    },
    "d40792b2be4741d187f6d449cec0054d": {
     "views": []
    },
    "db7f0d95ec7e49c8a27bd699d5456ae5": {
     "views": []
    },
    "e0ee66ef025a4a578d7829230f206920": {
     "views": []
    },
    "e6abe59c7e004862a8047c897c7c83cd": {
     "views": []
    },
    "e6ced74d23734862895acc4c41f56717": {
     "views": []
    },
    "ecc912fdd19c448f8addbc6784f51e00": {
     "views": []
    },
    "ed9c287fb8c2438a8b28ca29462e9c63": {
     "views": []
    },
    "f07fc1ccedc946b8b236aad12130bf30": {
     "views": []
    },
    "f08046fd154e44eb9ea47aea1d9f27fb": {
     "views": []
    },
    "f0843dd12dab4f809a58fd93da5b2772": {
     "views": []
    },
    "f45a034fd654458d99b658ef3f1d2e2a": {
     "views": []
    },
    "f6d0cccced9548aa98d3a1257d1d43b6": {
     "views": []
    },
    "f93d1f193f6e4df89e99c92cbe1cd2ed": {
     "views": []
    },
    "fa692cf96afc4f1481bbcad111675d7b": {
     "views": []
    },
    "fa86710d7e75405f8752f28ed1a92892": {
     "views": []
    },
    "fc5236f9590746bb88857b35276d53b8": {
     "views": []
    },
    "fd50a135888c4064951b1912ee581bf7": {
     "views": []
    }
   },
   "version": "1.1.2"
  }
 },
 "nbformat": 4,
 "nbformat_minor": 0
}
