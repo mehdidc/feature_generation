{
 "cells": [
  {
   "cell_type": "code",
   "execution_count": 1,
   "metadata": {
    "collapsed": false
   },
   "outputs": [
    {
     "name": "stdout",
     "output_type": "stream",
     "text": [
      "Couldn't import dot_parser, loading of dot files will not be possible.\n"
     ]
    },
    {
     "name": "stderr",
     "output_type": "stream",
     "text": [
      "/home/mcherti/work/code/external/scikit-learn/sklearn/cross_validation.py:43: DeprecationWarning: This module has been deprecated in favor of the model_selection module into which all the refactored classes and functions are moved. Also note that the interface of the new CV iterators are different from that of this module. This module will be removed in 0.20.\n",
      "  \"This module will be removed in 0.20.\", DeprecationWarning)\n"
     ]
    }
   ],
   "source": [
    "import sys\n",
    "import matplotlib as mpl\n",
    "mpl.use('Agg')\n",
    "sys.path.append('..')\n",
    "from tools.brushstroke.fractal import gen\n",
    "from tools.brushstroke.common import load_model\n",
    "from IPython.display import Image"
   ]
  },
  {
   "cell_type": "code",
   "execution_count": null,
   "metadata": {
    "collapsed": false
   },
   "outputs": [],
   "source": [
    "model_a, data, layers = load_model(\"../training/fractal/b/model.pkl\")\n",
    "model_b, data, layers = load_model(\"../training/fractal/b2/model.pkl\")\n",
    "model_c, data, layers = load_model(\"../training/fractal/a6/model.pkl\")"
   ]
  },
  {
   "cell_type": "code",
   "execution_count": null,
   "metadata": {
    "collapsed": true
   },
   "outputs": [],
   "source": [
    "neuralnets = [\n",
    "    {'model': model_a, \n",
    "     'on': 'crops', \n",
    "     'padlen': 1,   \n",
    "     'nb_iter':  2,   \n",
    "     'thresh': 'moving', \n",
    "     'when': 'always', \n",
    "     'whitepx_ratio': 0.2},\n",
    "    \n",
    "    {'model': model_b, \n",
    "     'on': 'crops', \n",
    "     'padlen': 1,  \n",
    "     'nb_iter':  2,   \n",
    "     'thresh': 'moving', \n",
    "     'when': 'always', \n",
    "     'whitepx_ratio': 0.2},\n",
    "    \n",
    "    {'model': model_c, \n",
    "     'on': 'crops', \n",
    "     'padlen': 5,   \n",
    "     'nb_iter':  1,   \n",
    "     'thresh': 'moving', \n",
    "     'when': 'always', 'whitepx_ratio': 0.185},\n",
    "]"
   ]
  },
  {
   "cell_type": "code",
   "execution_count": null,
   "metadata": {
    "collapsed": false
   },
   "outputs": [],
   "source": [
    "img, snap = gen(neuralnets, nb_iter=1000, w=2**7, h=2**7, init='random', out='manual.png')"
   ]
  },
  {
   "cell_type": "code",
   "execution_count": null,
   "metadata": {
    "collapsed": false
   },
   "outputs": [],
   "source": [
    "Image('manual.png')"
   ]
  },
  {
   "cell_type": "code",
   "execution_count": null,
   "metadata": {
    "collapsed": true
   },
   "outputs": [],
   "source": []
  }
 ],
 "metadata": {
  "kernelspec": {
   "display_name": "Python 2",
   "language": "python",
   "name": "python2"
  },
  "language_info": {
   "codemirror_mode": {
    "name": "ipython",
    "version": 2
   },
   "file_extension": ".py",
   "mimetype": "text/x-python",
   "name": "python",
   "nbconvert_exporter": "python",
   "pygments_lexer": "ipython2",
   "version": "2.7.12"
  }
 },
 "nbformat": 4,
 "nbformat_minor": 0
}
