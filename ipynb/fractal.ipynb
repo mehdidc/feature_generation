{
 "cells": [
  {
   "cell_type": "code",
   "execution_count": 3,
   "metadata": {
    "collapsed": false
   },
   "outputs": [],
   "source": [
    "%matplotlib inline\n",
    "import sys, os\n",
    "os.environ['OMP_NUM_THREADS'] = '1'\n",
    "os.environ['THEANO_FLAGS'] = 'device=cpu,compiledir_format=\"ipynb_compiledir_%(platform)s-%(processor)s-%(python_version)s-%(python_bitwidth)s\"'\n",
    "sys.path.append(os.getcwd()+\"/..\")\n",
    "\n",
    "from tasks import check as load_filename\n",
    "from scripts.imgtovideo import imgs_to_video\n",
    "from data import load_data\n",
    "from helpers import salt_and_pepper\n",
    "\n",
    "import matplotlib.pyplot as plt\n",
    "import numpy as np\n",
    "\n",
    "import theano\n",
    "import theano.tensor as T\n",
    "\n",
    "from lasagne import layers as L\n",
    "\n",
    "from lasagnekit.misc.plot_weights import dispims_color, tile_raster_images\n",
    "\n",
    "from IPython.display import HTML, Image\n",
    "\n",
    "import pandas as pd\n",
    "\n",
    "from tqdm import tqdm\n",
    "\n",
    "import base64\n",
    "import json\n",
    "\n",
    "from skimage.io import imread, imsave\n",
    "from skimage.transform import resize\n",
    "\n",
    "def load_model(filename, **kw):\n",
    "\n",
    "    model = load_filename(\n",
    "        what=\"notebook\", \n",
    "        filename=filename, \n",
    "        **kw\n",
    "    )\n",
    "    return model\n",
    "\n",
    "def build_brush_func(layers):\n",
    "    if 'biased_output' in layers:\n",
    "        bias = layers['biased_output'].b.get_value()\n",
    "    elif 'bias' in layers:\n",
    "        bias = layers['bias'].b.get_value()\n",
    "    else:\n",
    "        bias = np.array(0.1)\n",
    "\n",
    "    bias = bias[np.newaxis, np.newaxis, :, np.newaxis, np.newaxis]\n",
    "\n",
    "    if 'scaled_output' in layers:\n",
    "        scale = layers['scaled_output'].scales.get_value()\n",
    "    elif 'scale' in layers:\n",
    "        scale = layers['scale'].scales.get_value()\n",
    "    else:\n",
    "        scale = np.array((1.,))\n",
    "    scale = scale[np.newaxis, np.newaxis, :, np.newaxis, np.newaxis]\n",
    "\n",
    "    \n",
    "    X = T.tensor4()\n",
    "\n",
    "    B = L.get_output(layers['brush'], X)\n",
    "    if len(layers['brush'].output_shape) == 4: # (ex, t, w, h)\n",
    "        B = B.dimshuffle(0, 1, 'x', 2, 3)\n",
    "    \n",
    "    fn = theano.function(\n",
    "        [X], \n",
    "        T.nnet.sigmoid(B * scale + bias)\n",
    "    )\n",
    "    return fn\n",
    "\n",
    "def build_encode_func(layers):\n",
    "    w = layers['output'].output_shape[2]\n",
    "    X = T.tensor4()\n",
    "    fn = theano.function(\n",
    "        [X], \n",
    "        T.nnet.sigmoid(L.get_output(layers['coord'], X)[:, :, 0:2]) * w\n",
    "    )\n",
    "    return fn\n",
    "\n",
    "def to_grid_of_images(seq_imgs, **kw):\n",
    "    y = seq_imgs\n",
    "    imgs = []\n",
    "    for t in range(y.shape[1]):\n",
    "        yy = y[:, t]\n",
    "        if yy.shape[1] == 1:\n",
    "            yy = yy[:, 0, :, :, np.newaxis] * np.ones((1, 1, 1, 3))\n",
    "        else:\n",
    "            yy = yy.transpose((0, 2, 3, 1))\n",
    "        img = dispims_color(yy, **kw)\n",
    "        imgs.append(img)\n",
    "    return imgs\n",
    "\n",
    "def seq_to_video(seq, filename='out.mp4', verbose=1, framerate=8, rate=8, **kw):\n",
    "    # shape of seq should be : (examples, time, c, w, h)\n",
    "    seq = to_grid_of_images(seq, **kw)\n",
    "    seq = [np.zeros_like(seq[0])] + seq\n",
    "    if os.path.exists(filename):\n",
    "        os.remove(filename)\n",
    "    imgs_to_video(seq, out=filename, verbose=verbose, framerate=framerate, rate=rate)\n",
    "\n",
    "def embed_video(filename):\n",
    "    video = open(filename, 'r+b').read()\n",
    "    encoded = base64.b64encode(video)\n",
    "    return HTML(data='''<video alt=\"test\" controls>\n",
    "                <source src=\"data:video/mp4;base64,{0}\" type=\"video/mp4\" />\n",
    "                </video>'''.format(encoded.decode('ascii')))\n",
    "def disp_grid(imgs, **kw):\n",
    "    # shape of imgs should be : (examples, color, w, h)\n",
    "    out = dispims_color(imgs.transpose((0, 2, 3, 1)) * np.ones((1, 1, 1, 3)), **kw)\n",
    "    return out\n",
    "def normalize(img):\n",
    "    img = img.copy()\n",
    "    img -= img.min()\n",
    "    img /= img.max()\n",
    "    return img\n",
    "\n",
    "from lasagnekit.datasets.mnist import MNIST\n",
    "from skimage.util import pad\n",
    "from IPython import display\n",
    "from skimage.transform import resize\n"
   ]
  },
  {
   "cell_type": "code",
   "execution_count": 14,
   "metadata": {
    "collapsed": false
   },
   "outputs": [
    {
     "name": "stdout",
     "output_type": "stream",
     "text": [
      "Loading data...\n"
     ]
    },
    {
     "name": "stderr",
     "output_type": "stream",
     "text": [
      "INFO:tasks:Loading data...\n"
     ]
    },
    {
     "name": "stdout",
     "output_type": "stream",
     "text": [
      "Loading the model...\n"
     ]
    },
    {
     "name": "stderr",
     "output_type": "stream",
     "text": [
      "INFO:tasks:Loading the model...\n"
     ]
    },
    {
     "name": "stdout",
     "output_type": "stream",
     "text": [
      "(None, 1, 16, 16)\n",
      "Compiling the model...\n"
     ]
    },
    {
     "name": "stderr",
     "output_type": "stream",
     "text": [
      "INFO:tasks:Compiling the model...\n"
     ]
    },
    {
     "name": "stdout",
     "output_type": "stream",
     "text": [
      "{'patience_stat': 'avg_loss_train_fix', 'epsilon': 1e-08, 'max_nb_epochs': 100000, 'batch_size': 128, 'initial_lr': 0.1, 'patience_nb_epochs': 800, 'lr_decay_method': 'none', 'beta2': 0.95, 'beta1': 0.95, 'min_nb_epochs': 100000, 'lr_decay': 0, 'momentum': 0.9, 'algo': 'adadelta'}\n"
     ]
    }
   ],
   "source": [
    "model_a1, data, layers, w, h, c = load_model(\"../training/fractal/a/model.pkl\", \n",
    "                                            dataset=\"rescaled_digits\", \n",
    "                                            force_w=16, force_h=16)"
   ]
  },
  {
   "cell_type": "code",
   "execution_count": 4,
   "metadata": {
    "collapsed": false
   },
   "outputs": [
    {
     "name": "stdout",
     "output_type": "stream",
     "text": [
      "Loading data...\n"
     ]
    },
    {
     "name": "stderr",
     "output_type": "stream",
     "text": [
      "INFO:tasks:Loading data...\n"
     ]
    },
    {
     "name": "stdout",
     "output_type": "stream",
     "text": [
      "(0, 128, (128000, 64))\n",
      "loaded\n",
      "(128, 128, (128000, 64))\n",
      "Loading the model...\n"
     ]
    },
    {
     "name": "stderr",
     "output_type": "stream",
     "text": [
      "INFO:tasks:Loading the model...\n"
     ]
    },
    {
     "name": "stdout",
     "output_type": "stream",
     "text": [
      "(None, 1, 8, 8)\n",
      "Compiling the model...\n"
     ]
    },
    {
     "name": "stderr",
     "output_type": "stream",
     "text": [
      "INFO:tasks:Compiling the model...\n"
     ]
    },
    {
     "name": "stdout",
     "output_type": "stream",
     "text": [
      "{'patience_stat': 'avg_loss_train_fix', 'epsilon': 1e-08, 'max_nb_epochs': 100000, 'batch_size': 128, 'initial_lr': 0.1, 'patience_nb_epochs': 800, 'lr_decay_method': 'none', 'beta2': 0.95, 'beta1': 0.95, 'min_nb_epochs': 100000, 'lr_decay': 0, 'momentum': 0.9, 'algo': 'adadelta'}\n"
     ]
    }
   ],
   "source": [
    "model_b1, data, layers, w, h, c = load_model(\"../training/fractal/b/model.pkl\", \n",
    "                                            dataset=\"random_cropped_digits\", \n",
    "                                            force_w=8, force_h=8)"
   ]
  },
  {
   "cell_type": "code",
   "execution_count": 29,
   "metadata": {
    "collapsed": false
   },
   "outputs": [
    {
     "name": "stdout",
     "output_type": "stream",
     "text": [
      "Loading data...\n"
     ]
    },
    {
     "name": "stderr",
     "output_type": "stream",
     "text": [
      "INFO:tasks:Loading data...\n"
     ]
    },
    {
     "name": "stdout",
     "output_type": "stream",
     "text": [
      "(0, 128, (128000, 256))\n",
      "loaded\n",
      "(128, 128, (128000, 256))\n",
      "Loading the model...\n"
     ]
    },
    {
     "name": "stderr",
     "output_type": "stream",
     "text": [
      "INFO:tasks:Loading the model...\n"
     ]
    },
    {
     "name": "stdout",
     "output_type": "stream",
     "text": [
      "(None, 1, 16, 16)\n",
      "Compiling the model...\n"
     ]
    },
    {
     "name": "stderr",
     "output_type": "stream",
     "text": [
      "INFO:tasks:Compiling the model...\n"
     ]
    },
    {
     "name": "stdout",
     "output_type": "stream",
     "text": [
      "{'patience_stat': 'avg_loss_train_fix', 'epsilon': 1e-08, 'max_nb_epochs': 100000, 'batch_size': 128, 'initial_lr': 0.1, 'patience_nb_epochs': 800, 'lr_decay_method': 'none', 'beta2': 0.95, 'beta1': 0.95, 'min_nb_epochs': 100000, 'lr_decay': 0, 'momentum': 0.9, 'algo': 'adadelta'}\n"
     ]
    }
   ],
   "source": [
    "model_b2, data, layers, w, h, c = load_model(\"../training/fractal/b2/model.pkl\", \n",
    "                                            dataset=\"random_cropped_digits\", \n",
    "                                            force_w=16, force_h=16)"
   ]
  },
  {
   "cell_type": "code",
   "execution_count": 30,
   "metadata": {
    "collapsed": false
   },
   "outputs": [
    {
     "name": "stdout",
     "output_type": "stream",
     "text": [
      "Loading data...\n"
     ]
    },
    {
     "name": "stderr",
     "output_type": "stream",
     "text": [
      "INFO:tasks:Loading data...\n"
     ]
    },
    {
     "name": "stdout",
     "output_type": "stream",
     "text": [
      "(0, 128, (128000, 256))\n",
      "loaded\n",
      "(128, 128, (128000, 256))\n",
      "Loading the model...\n"
     ]
    },
    {
     "name": "stderr",
     "output_type": "stream",
     "text": [
      "INFO:tasks:Loading the model...\n"
     ]
    },
    {
     "name": "stdout",
     "output_type": "stream",
     "text": [
      "Compiling the model...\n"
     ]
    },
    {
     "name": "stderr",
     "output_type": "stream",
     "text": [
      "INFO:tasks:Compiling the model...\n"
     ]
    },
    {
     "name": "stdout",
     "output_type": "stream",
     "text": [
      "{'patience_stat': 'avg_loss_train_fix', 'epsilon': 1e-08, 'max_nb_epochs': 9999999999, 'batch_size': 128, 'initial_lr': 0.1, 'patience_nb_epochs': 500, 'lr_decay_method': 'none', 'beta2': 0.95, 'beta1': 0.95, 'min_nb_epochs': 100000, 'lr_decay': 0, 'momentum': 0.9, 'algo': 'adadelta'}\n"
     ]
    }
   ],
   "source": [
    "model_b3, data, layers, w, h, c = load_model(\"../training/fractal/b3/model.pkl\", \n",
    "                                            dataset=\"random_cropped_digits\", \n",
    "                                            force_w=16, force_h=16)"
   ]
  },
  {
   "cell_type": "code",
   "execution_count": 5,
   "metadata": {
    "collapsed": false
   },
   "outputs": [
    {
     "name": "stdout",
     "output_type": "stream",
     "text": [
      "Loading data...\n"
     ]
    },
    {
     "name": "stderr",
     "output_type": "stream",
     "text": [
      "INFO:tasks:Loading data...\n"
     ]
    },
    {
     "name": "stdout",
     "output_type": "stream",
     "text": [
      "Loading the model...\n"
     ]
    },
    {
     "name": "stderr",
     "output_type": "stream",
     "text": [
      "INFO:tasks:Loading the model...\n"
     ]
    },
    {
     "name": "stdout",
     "output_type": "stream",
     "text": [
      "Compiling the model...\n"
     ]
    },
    {
     "name": "stderr",
     "output_type": "stream",
     "text": [
      "INFO:tasks:Compiling the model...\n"
     ]
    },
    {
     "name": "stdout",
     "output_type": "stream",
     "text": [
      "{'patience_stat': 'avg_loss_train_fix', 'epsilon': 1e-08, 'max_nb_epochs': 9999999999, 'batch_size': 128, 'initial_lr': 0.1, 'patience_nb_epochs': 500, 'lr_decay_method': 'none', 'beta2': 0.95, 'beta1': 0.95, 'min_nb_epochs': 100000, 'lr_decay': 0, 'momentum': 0.9, 'algo': 'adadelta'}\n"
     ]
    }
   ],
   "source": [
    "model_a2, data, layers, w, h, c = load_model(\"../training/fractal/a2/model.pkl\", \n",
    "                                            dataset=\"rescaled_digits\", \n",
    "                                            force_w=16, force_h=16)"
   ]
  },
  {
   "cell_type": "code",
   "execution_count": 6,
   "metadata": {
    "collapsed": false
   },
   "outputs": [
    {
     "name": "stdout",
     "output_type": "stream",
     "text": [
      "Loading data...\n"
     ]
    },
    {
     "name": "stderr",
     "output_type": "stream",
     "text": [
      "INFO:tasks:Loading data...\n"
     ]
    },
    {
     "name": "stdout",
     "output_type": "stream",
     "text": [
      "Loading the model...\n"
     ]
    },
    {
     "name": "stderr",
     "output_type": "stream",
     "text": [
      "INFO:tasks:Loading the model...\n"
     ]
    },
    {
     "name": "stdout",
     "output_type": "stream",
     "text": [
      "Compiling the model...\n"
     ]
    },
    {
     "name": "stderr",
     "output_type": "stream",
     "text": [
      "INFO:tasks:Compiling the model...\n"
     ]
    },
    {
     "name": "stdout",
     "output_type": "stream",
     "text": [
      "{'patience_stat': 'avg_loss_train_fix', 'epsilon': 1e-08, 'max_nb_epochs': 9999999999, 'batch_size': 128, 'initial_lr': 0.1, 'patience_nb_epochs': 500, 'lr_decay_method': 'none', 'beta2': 0.95, 'beta1': 0.95, 'min_nb_epochs': 100000, 'lr_decay': 0, 'momentum': 0.9, 'algo': 'adadelta'}\n"
     ]
    }
   ],
   "source": [
    "model_a3, data, layers, w, h, c = load_model(\"../training/fractal/a3/model.pkl\", \n",
    "                                            dataset=\"rescaled_digits\", \n",
    "                                            force_w=16, force_h=16)"
   ]
  },
  {
   "cell_type": "code",
   "execution_count": 7,
   "metadata": {
    "collapsed": false
   },
   "outputs": [
    {
     "name": "stdout",
     "output_type": "stream",
     "text": [
      "Loading data...\n"
     ]
    },
    {
     "name": "stderr",
     "output_type": "stream",
     "text": [
      "INFO:tasks:Loading data...\n"
     ]
    },
    {
     "name": "stdout",
     "output_type": "stream",
     "text": [
      "Loading the model...\n"
     ]
    },
    {
     "name": "stderr",
     "output_type": "stream",
     "text": [
      "INFO:tasks:Loading the model...\n"
     ]
    },
    {
     "name": "stdout",
     "output_type": "stream",
     "text": [
      "Compiling the model...\n"
     ]
    },
    {
     "name": "stderr",
     "output_type": "stream",
     "text": [
      "INFO:tasks:Compiling the model...\n"
     ]
    },
    {
     "name": "stdout",
     "output_type": "stream",
     "text": [
      "{'patience_stat': 'avg_loss_train_fix', 'epsilon': 1e-08, 'max_nb_epochs': 9999999999, 'batch_size': 128, 'initial_lr': 0.1, 'patience_nb_epochs': 500, 'lr_decay_method': 'none', 'beta2': 0.95, 'beta1': 0.95, 'min_nb_epochs': 100000, 'lr_decay': 0, 'momentum': 0.9, 'algo': 'adadelta'}\n"
     ]
    }
   ],
   "source": [
    "model_a4, data, layers, w, h, c = load_model(\"../training/fractal/a4/model.pkl\", \n",
    "                                            dataset=\"rescaled_digits\", \n",
    "                                            force_w=16, force_h=16)"
   ]
  },
  {
   "cell_type": "code",
   "execution_count": 8,
   "metadata": {
    "collapsed": false
   },
   "outputs": [
    {
     "name": "stdout",
     "output_type": "stream",
     "text": [
      "Loading data...\n"
     ]
    },
    {
     "name": "stderr",
     "output_type": "stream",
     "text": [
      "INFO:tasks:Loading data...\n"
     ]
    },
    {
     "name": "stdout",
     "output_type": "stream",
     "text": [
      "Loading the model...\n"
     ]
    },
    {
     "name": "stderr",
     "output_type": "stream",
     "text": [
      "INFO:tasks:Loading the model...\n"
     ]
    },
    {
     "name": "stdout",
     "output_type": "stream",
     "text": [
      "Compiling the model...\n"
     ]
    },
    {
     "name": "stderr",
     "output_type": "stream",
     "text": [
      "INFO:tasks:Compiling the model...\n"
     ]
    },
    {
     "name": "stdout",
     "output_type": "stream",
     "text": [
      "{'patience_stat': 'avg_loss_train_fix', 'epsilon': 1e-08, 'max_nb_epochs': 9999999999, 'batch_size': 128, 'initial_lr': 0.1, 'patience_nb_epochs': 500, 'lr_decay_method': 'none', 'beta2': 0.95, 'beta1': 0.95, 'min_nb_epochs': 100000, 'lr_decay': 0, 'momentum': 0.9, 'algo': 'adadelta'}\n"
     ]
    }
   ],
   "source": [
    "model_a5, data, layers, w, h, c = load_model(\"../training/fractal/a5/model.pkl\", \n",
    "                                            dataset=\"rescaled_digits\", \n",
    "                                            force_w=16, force_h=16)"
   ]
  },
  {
   "cell_type": "code",
   "execution_count": 9,
   "metadata": {
    "collapsed": true
   },
   "outputs": [],
   "source": [
    "def downscale(x, scale=2):\n",
    "    h, w = x.shape\n",
    "    x = x.reshape((h / scale, scale, w / scale, scale))\n",
    "    return x.mean(axis=(1, 3)), (x - x.mean(axis=(1, 3), keepdims=True)).reshape((h, w))\n",
    "\n",
    "def downscale_simple(x, scale=2):\n",
    "    h, w = x.shape\n",
    "    return x[::scale, ::scale]    \n",
    "    \n",
    "def upscale(x, r):\n",
    "    shape = r.shape\n",
    "    y_scale = r.shape[0] / x.shape[0]\n",
    "    x_scale = r.shape[1] / x.shape[1]        \n",
    "    r = r.reshape((r.shape[0] / y_scale, y_scale, r.shape[1] / x_scale, x_scale))\n",
    "    x = x.reshape((x.shape[0], 1, x.shape[1], 1))\n",
    "    return (x + r).reshape(shape)\n",
    "\n",
    "def upscale_simple(x, scale=2):\n",
    "    y = np.zeros((x.shape[0]*scale, x.shape[1]*scale))\n",
    "    y[::scale, ::scale] = x\n",
    "    return y"
   ]
  },
  {
   "cell_type": "markdown",
   "metadata": {},
   "source": [
    "## new"
   ]
  },
  {
   "cell_type": "code",
   "execution_count": 2,
   "metadata": {
    "collapsed": false
   },
   "outputs": [
    {
     "ename": "NameError",
     "evalue": "name 'model_b1' is not defined",
     "output_type": "error",
     "traceback": [
      "\u001b[0;31m---------------------------------------------------------------------------\u001b[0m",
      "\u001b[0;31mNameError\u001b[0m                                 Traceback (most recent call last)",
      "\u001b[0;32m<ipython-input-2-4eb42d1457ab>\u001b[0m in \u001b[0;36m<module>\u001b[0;34m()\u001b[0m\n\u001b[1;32m      2\u001b[0m \u001b[0;31m# BEGINS with b = trained on crops of digits\u001b[0m\u001b[0;34m\u001b[0m\u001b[0;34m\u001b[0m\u001b[0m\n\u001b[1;32m      3\u001b[0m neuralnets = [\n\u001b[0;32m----> 4\u001b[0;31m     \u001b[0;34m{\u001b[0m\u001b[0;34m'model'\u001b[0m\u001b[0;34m:\u001b[0m \u001b[0mmodel_b1\u001b[0m\u001b[0;34m,\u001b[0m \u001b[0;34m'on'\u001b[0m\u001b[0;34m:\u001b[0m \u001b[0;34m'crops'\u001b[0m\u001b[0;34m,\u001b[0m  \u001b[0;34m'padlen'\u001b[0m\u001b[0;34m:\u001b[0m \u001b[0;36m3\u001b[0m\u001b[0;34m,\u001b[0m  \u001b[0;34m'nb_iter'\u001b[0m\u001b[0;34m:\u001b[0m \u001b[0;36m1\u001b[0m\u001b[0;34m,\u001b[0m  \u001b[0;34m'thresh'\u001b[0m\u001b[0;34m:\u001b[0m \u001b[0;34m'moving'\u001b[0m\u001b[0;34m,\u001b[0m \u001b[0;34m'when'\u001b[0m\u001b[0;34m:\u001b[0m \u001b[0;34m'always'\u001b[0m\u001b[0;34m}\u001b[0m\u001b[0;34m,\u001b[0m\u001b[0;34m\u001b[0m\u001b[0m\n\u001b[0m\u001b[1;32m      5\u001b[0m     \u001b[0;34m{\u001b[0m\u001b[0;34m'model'\u001b[0m\u001b[0;34m:\u001b[0m \u001b[0mmodel_a1\u001b[0m\u001b[0;34m,\u001b[0m \u001b[0;34m'on'\u001b[0m\u001b[0;34m:\u001b[0m \u001b[0;34m'crops'\u001b[0m\u001b[0;34m,\u001b[0m  \u001b[0;34m'padlen'\u001b[0m\u001b[0;34m:\u001b[0m \u001b[0;36m3\u001b[0m\u001b[0;34m,\u001b[0m  \u001b[0;34m'nb_iter'\u001b[0m\u001b[0;34m:\u001b[0m \u001b[0;36m1\u001b[0m\u001b[0;34m,\u001b[0m \u001b[0;34m'thresh'\u001b[0m\u001b[0;34m:\u001b[0m \u001b[0;34m'moving'\u001b[0m\u001b[0;34m,\u001b[0m \u001b[0;34m'when'\u001b[0m\u001b[0;34m:\u001b[0m \u001b[0;34m'always'\u001b[0m\u001b[0;34m}\u001b[0m\u001b[0;34m,\u001b[0m\u001b[0;34m\u001b[0m\u001b[0m\n\u001b[1;32m      6\u001b[0m ]\n",
      "\u001b[0;31mNameError\u001b[0m: name 'model_b1' is not defined"
     ]
    }
   ],
   "source": [
    "# BEGINS with a = trained on rescaled digits\n",
    "# BEGINS with b = trained on crops of digits\n",
    "neuralnets = [\n",
    "    {'model': model_b1, 'on': 'crops',  'padlen': 3,  'nb_iter': 1,  'thresh': 'moving', 'when': 'always'},\n",
    "    {'model': model_a1, 'on': 'crops',  'padlen': 3,  'nb_iter': 1, 'thresh': 'moving', 'when': 'always'},\n",
    "]\n",
    "whitepx_ratio = 0.5\n",
    "def gen(neuralnets, nb_iter=10, w=32, h=32, init='random'):    \n",
    "    out_img = np.random.uniform(size=(h, w)) if init == 'random' else init\n",
    "    snapshots = []\n",
    "    nb_full = 0\n",
    "    for i in range(nb_iter):\n",
    "        \n",
    "        #snapshots.append(out_img.copy())\n",
    "        \n",
    "        for nnet in neuralnets:\n",
    "            when = nnet.get('when', 'always')\n",
    "            if type(when) == list:\n",
    "                allow = False\n",
    "                for w in when:\n",
    "                    if type(w) == tuple:\n",
    "                        w1 = int(w[0] * nb_iter)\n",
    "                        w2 = int(w[1] * nb_iter)\n",
    "                        if (i >= w1 and i < w2):\n",
    "                            allow = True\n",
    "                    else:\n",
    "                        w = int(w*nb_iter)\n",
    "                        if i == w:\n",
    "                            allow = True    \n",
    "                if not allow:\n",
    "                    continue\n",
    "            model = nnet['model']\n",
    "            on = nnet['on']\n",
    "            patch_h, patch_w = model.layers['output'].output_shape[2:]\n",
    "            nb_iter_local = nnet.get('nb_iter', 10)\n",
    "            thresh = nnet.get('thresh', 0.5)\n",
    "            if on == 'crops':\n",
    "                padlen = nnet.get('padlen', 5) \n",
    "                img = pad(out_img, padlen, 'constant', constant_values=(0, 0))\n",
    "                py = np.random.randint(0, img.shape[0] - patch_h)\n",
    "                px = np.random.randint(0, img.shape[1] - patch_w)\n",
    "                patch = img[py:py + patch_h, px:px + patch_w]\n",
    "                patch = patch[np.newaxis, np.newaxis, :, :]\n",
    "                patch = patch.astype(np.float32)\n",
    "                noise = nnet.get('noise', 0)\n",
    "                for _ in range(nb_iter_local):\n",
    "                    if noise:patch *= np.random.uniform(size=patch.shape)<=(1-noise)\n",
    "                    patch = model.reconstruct(patch)\n",
    "                    \n",
    "                    if thresh == 'moving':\n",
    "                        vals = patch.flatten()\n",
    "                        vals = vals[np.argsort(vals)]\n",
    "                        thresh_ = vals[-int(whitepx_ratio * len(vals)) - 1]\n",
    "                    else:\n",
    "                        thresh_ = thresh\n",
    "                    if thresh: patch = patch > thresh_\n",
    "                    patch = patch.astype(np.float32)\n",
    "                img[py:py + patch_h, px:px + patch_w] = patch[0, 0]\n",
    "                out_img[:, :] = img[padlen:-padlen, padlen:-padlen]\n",
    "            elif on == 'full':\n",
    "                nb_full += 1\n",
    "                scale = h / model.layers['output'].output_shape[2]\n",
    "                #img, resid = downscale(out_img, scale=scale)\n",
    "                img = downscale_simple(out_img, scale=scale)\n",
    "                img = img[np.newaxis, np.newaxis, :, :]\n",
    "                img = img.astype(np.float32)\n",
    "                for _ in range(nb_iter_local):\n",
    "                    img = model.reconstruct(img)\n",
    "                    \n",
    "                    if thresh == 'moving':\n",
    "                        vals = img.flatten()\n",
    "                        vals = vals[np.argsort(vals)]\n",
    "                        thresh_ = vals[-int(whitepx_ratio * len(vals)) - 1]\n",
    "                    else:\n",
    "                        thresh_ = thresh\n",
    "\n",
    "                    if thresh:img = img > thresh_\n",
    "                    \n",
    "                img = img[0, 0]\n",
    "                #resid[:]=0\n",
    "                #print(img.shape)\n",
    "                img = upscale_simple(img, scale=scale)\n",
    "                #print(img.shape)\n",
    "\n",
    "                #img = normalize(img)\n",
    "                img = img > thresh_\n",
    "                img = img.astype(np.float32)\n",
    "                out_img = img\n",
    "    return out_img, snapshots\n",
    "imgs = []\n",
    "for i in range(1):\n",
    "    img, snap = gen(neuralnets, nb_iter=20000, w=2**9, h=2**9, init='random')\n",
    "    imgs.append(img)"
   ]
  },
  {
   "cell_type": "code",
   "execution_count": 34,
   "metadata": {
    "collapsed": false
   },
   "outputs": [
    {
     "data": {
      "image/png": "[encoded data removed]",
      "text/plain": [
       "<IPython.core.display.Image object>"
      ]
     },
     "execution_count": 34,
     "metadata": {
      "image/png": {
       "height": 100,
       "width": 100
      }
     },
     "output_type": "execute_result"
    }
   ],
   "source": [
    "img = disp_grid(np.array(imgs)[:, None, :, :], \n",
    "                border=1,\n",
    "                bordercolor=(0.3, 0, 0))\n",
    "imsave('out.png', img)\n",
    "Image('out.png', width=100, height=100)"
   ]
  },
  {
   "cell_type": "code",
   "execution_count": 12,
   "metadata": {
    "collapsed": false
   },
   "outputs": [
    {
     "ename": "IndexError",
     "evalue": "list index out of range",
     "output_type": "error",
     "traceback": [
      "\u001b[0;31m---------------------------------------------------------------------------\u001b[0m",
      "\u001b[0;31mIndexError\u001b[0m                                Traceback (most recent call last)",
      "\u001b[0;32m<ipython-input-12-464b2fdf050e>\u001b[0m in \u001b[0;36m<module>\u001b[0;34m()\u001b[0m\n\u001b[0;32m----> 1\u001b[0;31m \u001b[0mseq_to_video\u001b[0m\u001b[0;34m(\u001b[0m\u001b[0mnp\u001b[0m\u001b[0;34m.\u001b[0m\u001b[0marray\u001b[0m\u001b[0;34m(\u001b[0m\u001b[0msnap\u001b[0m\u001b[0;34m)\u001b[0m\u001b[0;34m[\u001b[0m\u001b[0mnp\u001b[0m\u001b[0;34m.\u001b[0m\u001b[0mnewaxis\u001b[0m\u001b[0;34m,\u001b[0m \u001b[0;34m:\u001b[0m\u001b[0;34m,\u001b[0m \u001b[0mnp\u001b[0m\u001b[0;34m.\u001b[0m\u001b[0mnewaxis\u001b[0m\u001b[0;34m]\u001b[0m\u001b[0;34m,\u001b[0m \u001b[0;34m'out.mp4'\u001b[0m\u001b[0;34m)\u001b[0m\u001b[0;34m\u001b[0m\u001b[0m\n\u001b[0m\u001b[1;32m      2\u001b[0m \u001b[0membed_video\u001b[0m\u001b[0;34m(\u001b[0m\u001b[0;34m'out.mp4'\u001b[0m\u001b[0;34m)\u001b[0m\u001b[0;34m\u001b[0m\u001b[0m\n",
      "\u001b[0;32m<ipython-input-3-2c71830491bd>\u001b[0m in \u001b[0;36mseq_to_video\u001b[0;34m(seq, filename, verbose, framerate, rate, **kw)\u001b[0m\n\u001b[1;32m     97\u001b[0m     \u001b[0;31m# shape of seq should be : (examples, time, c, w, h)\u001b[0m\u001b[0;34m\u001b[0m\u001b[0;34m\u001b[0m\u001b[0m\n\u001b[1;32m     98\u001b[0m     \u001b[0mseq\u001b[0m \u001b[0;34m=\u001b[0m \u001b[0mto_grid_of_images\u001b[0m\u001b[0;34m(\u001b[0m\u001b[0mseq\u001b[0m\u001b[0;34m,\u001b[0m \u001b[0;34m**\u001b[0m\u001b[0mkw\u001b[0m\u001b[0;34m)\u001b[0m\u001b[0;34m\u001b[0m\u001b[0m\n\u001b[0;32m---> 99\u001b[0;31m     \u001b[0mseq\u001b[0m \u001b[0;34m=\u001b[0m \u001b[0;34m[\u001b[0m\u001b[0mnp\u001b[0m\u001b[0;34m.\u001b[0m\u001b[0mzeros_like\u001b[0m\u001b[0;34m(\u001b[0m\u001b[0mseq\u001b[0m\u001b[0;34m[\u001b[0m\u001b[0;36m0\u001b[0m\u001b[0;34m]\u001b[0m\u001b[0;34m)\u001b[0m\u001b[0;34m]\u001b[0m \u001b[0;34m+\u001b[0m \u001b[0mseq\u001b[0m\u001b[0;34m\u001b[0m\u001b[0m\n\u001b[0m\u001b[1;32m    100\u001b[0m     \u001b[0;32mif\u001b[0m \u001b[0mos\u001b[0m\u001b[0;34m.\u001b[0m\u001b[0mpath\u001b[0m\u001b[0;34m.\u001b[0m\u001b[0mexists\u001b[0m\u001b[0;34m(\u001b[0m\u001b[0mfilename\u001b[0m\u001b[0;34m)\u001b[0m\u001b[0;34m:\u001b[0m\u001b[0;34m\u001b[0m\u001b[0m\n\u001b[1;32m    101\u001b[0m         \u001b[0mos\u001b[0m\u001b[0;34m.\u001b[0m\u001b[0mremove\u001b[0m\u001b[0;34m(\u001b[0m\u001b[0mfilename\u001b[0m\u001b[0;34m)\u001b[0m\u001b[0;34m\u001b[0m\u001b[0m\n",
      "\u001b[0;31mIndexError\u001b[0m: list index out of range"
     ]
    }
   ],
   "source": [
    "seq_to_video(np.array(snap)[np.newaxis, :, np.newaxis], 'out.mp4')\n",
    "embed_video('out.mp4')"
   ]
  },
  {
   "cell_type": "markdown",
   "metadata": {},
   "source": [
    "## old"
   ]
  },
  {
   "cell_type": "code",
   "execution_count": null,
   "metadata": {
    "collapsed": false
   },
   "outputs": [],
   "source": [
    "sw, sh = 8, 8\n",
    "h, w = 16, 16\n",
    "scale = 2\n",
    "\n",
    "imgs = []\n",
    "np.random.seed(2)\n",
    "for K in range(25):\n",
    "    x = np.random.uniform(0, 1, size=(h*scale, w*scale))\n",
    "    #x = resize(data_orig.X[0].reshape((28, 28)), (32, 32))\n",
    "    nb_iter = 300\n",
    "    for i in range(nb_iter):\n",
    "\n",
    "        if i % (nb_iter/2) == 0 and i > 0:\n",
    "            # up\n",
    "            x_new, resid = downscale(x, scale=scale)\n",
    "            x_new = downscale_simple(x, scale=scale)\n",
    "            x_new = x_new[np.newaxis, np.newaxis, :, :]\n",
    "            x_new = x_new.astype(np.float32)\n",
    "\n",
    "            for _ in range(10):\n",
    "                \n",
    "                x_new = model_a1.reconstruct(x_new)\n",
    "                x_new = x_new > 0.48\n",
    "                x_new = x_new.astype(np.float32)\n",
    "\n",
    "            x_new = x_new[0, 0]\n",
    "            #resid[:]=0\n",
    "            x_new = upscale(x_new, resid)\n",
    "            #print(x_new.min(), x_new.max())\n",
    "            x  = x_new\n",
    "            x = x > 0.5\n",
    "\n",
    "        padlen = 3\n",
    "        x_ = pad(x, padlen, 'constant', constant_values=(0, 0))\n",
    "        \n",
    "        py = np.random.randint(0, x_.shape[0] - sh)\n",
    "        px = np.random.randint(0, x_.shape[0] - sw)\n",
    "        patch = x_[py:py+sh, px:px+sw]#.copy()\n",
    "        #print(x.shape, patch.shape)\n",
    "        patch = patch[np.newaxis, np.newaxis, :, :]\n",
    "        patch = patch.astype(np.float32)\n",
    "        \n",
    "        \n",
    "        for _ in range(1):\n",
    "            patch += np.random.uniform(0, 0.05, size=patch.shape)\n",
    "            patch = model_b1.reconstruct(patch)\n",
    "            patch = patch > 0.5\n",
    "            patch = patch.astype(np.float32)\n",
    "        x_[py:py+sh, px:px+sw] = patch[0, 0]\n",
    "        \n",
    "        x[:, :] = x_[padlen:-padlen, padlen:-padlen]\n",
    "        x = x > 0.5\n",
    "        #display.clear_output(wait=True)\n",
    "        #plt.imshow(x, cmap='gray', interpolation='none')\n",
    "        #display.display(plt.gcf())\n",
    "    imgs.append(x)\n",
    "#display.clear_output(wait=True)"
   ]
  },
  {
   "cell_type": "code",
   "execution_count": null,
   "metadata": {
    "collapsed": false
   },
   "outputs": [],
   "source": [
    "img = disp_grid(np.array(imgs)[:, None, :, :], \n",
    "                border=1,\n",
    "                bordercolor=(0.3, 0, 0))\n",
    "imsave('out.png', img)\n",
    "Image('out.png', width=400, height=400)"
   ]
  },
  {
   "cell_type": "markdown",
   "metadata": {},
   "source": [
    "## refinement"
   ]
  },
  {
   "cell_type": "code",
   "execution_count": 39,
   "metadata": {
    "collapsed": false
   },
   "outputs": [
    {
     "data": {
      "image/png": "[encoded data removed]",
      "text/plain": [
       "<IPython.core.display.Image object>"
      ]
     },
     "execution_count": 39,
     "metadata": {},
     "output_type": "execute_result"
    }
   ],
   "source": [
    "from skimage.transform import rescale\n",
    "x = np.random.uniform(size=(10*10, 1, 16, 16)).astype(np.float32)\n",
    "iters = []\n",
    "thresh = 'moving'\n",
    "whitepx_ratio=0.4\n",
    "for i in range(10):\n",
    "    x  = model_b2.reconstruct(x)\n",
    "    \n",
    "    if thresh == 'moving':\n",
    "        vals = x.flatten()\n",
    "        vals = vals[np.argsort(vals)]\n",
    "        thresh_ = vals[-int(whitepx_ratio * len(vals)) - 1]\n",
    "    else:\n",
    "        thresh_ = thresh\n",
    "    x = x>thresh_\n",
    "    #x = np.random.uniform(size=x.shape)<=x\n",
    "    iters.append(x.copy())\n",
    "\n",
    "x_r = np.empty((x.shape[0], 1, 32, 32))\n",
    "for i in range(len(x)):\n",
    "    x_r[i, 0] = resize(x[i, 0], (32, 32))\n",
    "#x_r = x_r > t\n",
    "x_r = x_r.transpose((0, 2, 3, 1)) * np.ones((1, 1, 1, 3))\n",
    "img = dispims_color(x_r, border=1, bordercolor=(0.3, 0.0, 0.0))\n",
    "imsave('out.png', img)\n",
    "Image('out.png')"
   ]
  },
  {
   "cell_type": "code",
   "execution_count": 42,
   "metadata": {
    "collapsed": false
   },
   "outputs": [
    {
     "name": "stdout",
     "output_type": "stream",
     "text": [
      "rm: cannot remove `out.mp4': No such file or directory\r\n"
     ]
    },
    {
     "ename": "ValueError",
     "evalue": "axes don't match array",
     "output_type": "error",
     "traceback": [
      "\u001b[0;31m---------------------------------------------------------------------------\u001b[0m",
      "\u001b[0;31mValueError\u001b[0m                                Traceback (most recent call last)",
      "\u001b[0;32m<ipython-input-42-e1bb01f5be28>\u001b[0m in \u001b[0;36m<module>\u001b[0;34m()\u001b[0m\n\u001b[1;32m      1\u001b[0m \u001b[0mget_ipython\u001b[0m\u001b[0;34m(\u001b[0m\u001b[0;34m)\u001b[0m\u001b[0;34m.\u001b[0m\u001b[0msystem\u001b[0m\u001b[0;34m(\u001b[0m\u001b[0;34mu'rm out.mp4'\u001b[0m\u001b[0;34m)\u001b[0m\u001b[0;34m\u001b[0m\u001b[0m\n\u001b[0;32m----> 2\u001b[0;31m \u001b[0miters\u001b[0m \u001b[0;34m=\u001b[0m \u001b[0mmap\u001b[0m\u001b[0;34m(\u001b[0m\u001b[0mdisp_grid\u001b[0m\u001b[0;34m,\u001b[0m \u001b[0miters\u001b[0m\u001b[0;34m)\u001b[0m\u001b[0;34m\u001b[0m\u001b[0m\n\u001b[0m\u001b[1;32m      3\u001b[0m \u001b[0mimgs_to_video\u001b[0m\u001b[0;34m(\u001b[0m\u001b[0miters\u001b[0m\u001b[0;34m,\u001b[0m \u001b[0mout\u001b[0m\u001b[0;34m=\u001b[0m\u001b[0;34m'out.mp4'\u001b[0m\u001b[0;34m,\u001b[0m \u001b[0mverbose\u001b[0m\u001b[0;34m=\u001b[0m\u001b[0;36m1\u001b[0m\u001b[0;34m,\u001b[0m \u001b[0mframerate\u001b[0m\u001b[0;34m=\u001b[0m\u001b[0;36m8\u001b[0m\u001b[0;34m,\u001b[0m \u001b[0mrate\u001b[0m\u001b[0;34m=\u001b[0m\u001b[0;36m8\u001b[0m\u001b[0;34m)\u001b[0m\u001b[0;34m\u001b[0m\u001b[0m\n\u001b[1;32m      4\u001b[0m \u001b[0membed_video\u001b[0m\u001b[0;34m(\u001b[0m\u001b[0;34m'out.mp4'\u001b[0m\u001b[0;34m)\u001b[0m\u001b[0;34m\u001b[0m\u001b[0m\n",
      "\u001b[0;32m<ipython-input-3-2c71830491bd>\u001b[0m in \u001b[0;36mdisp_grid\u001b[0;34m(imgs, **kw)\u001b[0m\n\u001b[1;32m    110\u001b[0m \u001b[0;32mdef\u001b[0m \u001b[0mdisp_grid\u001b[0m\u001b[0;34m(\u001b[0m\u001b[0mimgs\u001b[0m\u001b[0;34m,\u001b[0m \u001b[0;34m**\u001b[0m\u001b[0mkw\u001b[0m\u001b[0;34m)\u001b[0m\u001b[0;34m:\u001b[0m\u001b[0;34m\u001b[0m\u001b[0m\n\u001b[1;32m    111\u001b[0m     \u001b[0;31m# shape of imgs should be : (examples, color, w, h)\u001b[0m\u001b[0;34m\u001b[0m\u001b[0;34m\u001b[0m\u001b[0m\n\u001b[0;32m--> 112\u001b[0;31m     \u001b[0mout\u001b[0m \u001b[0;34m=\u001b[0m \u001b[0mdispims_color\u001b[0m\u001b[0;34m(\u001b[0m\u001b[0mimgs\u001b[0m\u001b[0;34m.\u001b[0m\u001b[0mtranspose\u001b[0m\u001b[0;34m(\u001b[0m\u001b[0;34m(\u001b[0m\u001b[0;36m0\u001b[0m\u001b[0;34m,\u001b[0m \u001b[0;36m2\u001b[0m\u001b[0;34m,\u001b[0m \u001b[0;36m3\u001b[0m\u001b[0;34m,\u001b[0m \u001b[0;36m1\u001b[0m\u001b[0;34m)\u001b[0m\u001b[0;34m)\u001b[0m \u001b[0;34m*\u001b[0m \u001b[0mnp\u001b[0m\u001b[0;34m.\u001b[0m\u001b[0mones\u001b[0m\u001b[0;34m(\u001b[0m\u001b[0;34m(\u001b[0m\u001b[0;36m1\u001b[0m\u001b[0;34m,\u001b[0m \u001b[0;36m1\u001b[0m\u001b[0;34m,\u001b[0m \u001b[0;36m1\u001b[0m\u001b[0;34m,\u001b[0m \u001b[0;36m3\u001b[0m\u001b[0;34m)\u001b[0m\u001b[0;34m)\u001b[0m\u001b[0;34m,\u001b[0m \u001b[0;34m**\u001b[0m\u001b[0mkw\u001b[0m\u001b[0;34m)\u001b[0m\u001b[0;34m\u001b[0m\u001b[0m\n\u001b[0m\u001b[1;32m    113\u001b[0m     \u001b[0;32mreturn\u001b[0m \u001b[0mout\u001b[0m\u001b[0;34m\u001b[0m\u001b[0m\n\u001b[1;32m    114\u001b[0m \u001b[0;32mdef\u001b[0m \u001b[0mnormalize\u001b[0m\u001b[0;34m(\u001b[0m\u001b[0mimg\u001b[0m\u001b[0;34m)\u001b[0m\u001b[0;34m:\u001b[0m\u001b[0;34m\u001b[0m\u001b[0m\n",
      "\u001b[0;31mValueError\u001b[0m: axes don't match array"
     ]
    }
   ],
   "source": [
    "!rm out.mp4\n",
    "iters = map(disp_grid, iters)\n",
    "imgs_to_video(iters, out='out.mp4', verbose=1, framerate=8, rate=8)\n",
    "embed_video('out.mp4')"
   ]
  },
  {
   "cell_type": "code",
   "execution_count": 43,
   "metadata": {
    "collapsed": false
   },
   "outputs": [
    {
     "data": {
      "text/plain": [
       "1.0"
      ]
     },
     "execution_count": 43,
     "metadata": {},
     "output_type": "execute_result"
    }
   ],
   "source": [
    "h = x.reshape((x.shape[0], -1))\n",
    "def hash_array(x):\n",
    "    return hash(tuple(x))\n",
    "h = map(hash_array, h)\n",
    "len(set(h)) / float(len(x))"
   ]
  }
 ],
 "metadata": {
  "kernelspec": {
   "display_name": "Python 2",
   "language": "python",
   "name": "python2"
  },
  "language_info": {
   "codemirror_mode": {
    "name": "ipython",
    "version": 2
   },
   "file_extension": ".py",
   "mimetype": "text/x-python",
   "name": "python",
   "nbconvert_exporter": "python",
   "pygments_lexer": "ipython2",
   "version": "2.7.12"
  }
 },
 "nbformat": 4,
 "nbformat_minor": 0
}
