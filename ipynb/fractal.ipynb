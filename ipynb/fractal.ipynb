{
 "cells": [
  {
   "cell_type": "code",
   "execution_count": 1,
   "metadata": {
    "collapsed": false
   },
   "outputs": [
    {
     "name": "stdout",
     "output_type": "stream",
     "text": [
      "Couldn't import dot_parser, loading of dot files will not be possible.\n",
      "{8: ['../training/fractal/b/model.pkl'], 16: ['../training/fractal/b3/model.pkl', '../training/fractal/b2/model.pkl', '../training/fractal/a5/model.pkl', '../training/fractal/a4/model.pkl', '../training/fractal/a3/model.pkl', '../training/fractal/a2/model.pkl', '../training/fractal/a/model.pkl'], 128: ['../training/fractal/d/model.pkl'], 64: ['../training/fractal/c/model.pkl'], 32: ['../training/fractal/a6/model.pkl']}\n"
     ]
    },
    {
     "name": "stderr",
     "output_type": "stream",
     "text": [
      "/home/mcherti/work/code/external/scikit-learn/sklearn/cross_validation.py:43: DeprecationWarning: This module has been deprecated in favor of the model_selection module into which all the refactored classes and functions are moved. Also note that the interface of the new CV iterators are different from that of this module. This module will be removed in 0.20.\n",
      "  \"This module will be removed in 0.20.\", DeprecationWarning)\n",
      "/home/mcherti/miniconda/envs/databoard-env/lib/python2.7/site-packages/matplotlib/__init__.py:1357: UserWarning:  This call to matplotlib.use() has no effect\n",
      "because the backend has already been chosen;\n",
      "matplotlib.use() must be called *before* pylab, matplotlib.pyplot,\n",
      "or matplotlib.backends is imported for the first time.\n",
      "\n",
      "  warnings.warn(_use_error_msg)\n"
     ]
    }
   ],
   "source": [
    "%matplotlib inline\n",
    "import matplotlib.pyplot as plt\n",
    "import sys\n",
    "import os\n",
    "os.environ['THEANO_FLAGS'] = 'device=cpu,compiledir_format=ipynb_cpu'\n",
    "sys.path.append('..')\n",
    "from helpers import salt_and_pepper\n",
    "from tools.brushstroke.common import load_model, seq_to_video, embed_video, disp_grid\n",
    "from tools.brushstroke.fractal import gen, MODELS\n",
    "from IPython.display import Image\n",
    "import numpy as np\n",
    "from skimage.io import imsave\n",
    "\n",
    "MODELS = {\n",
    "    8:   ['b'],\n",
    "    16:  ['b3', 'b2', 'a5', 'a4', 'a3', 'a2', 'a'],\n",
    "    32:  ['a6'],\n",
    "    64:  ['c'],\n",
    "    128: ['d']\n",
    "}\n",
    "MODELS = {\n",
    "    k: map(lambda name:'../training/fractal/{}/model.pkl'.format(name), v)\n",
    "    for k, v in MODELS.items()\n",
    "}\n",
    "print(MODELS)"
   ]
  },
  {
   "cell_type": "code",
   "execution_count": 3,
   "metadata": {
    "collapsed": false
   },
   "outputs": [],
   "source": [
    "rng = np.random\n",
    "#model_filename = '../jobs/results/6471bc3ec1596e46ee3e89537b923782/model.pkl'\n",
    "model_filename = '../training/fractal/b2/model.pkl'\n",
    "neuralnets = [\n",
    "    {\n",
    "        'model_filename': model_filename,\n",
    "        'nb_iter':  10,\n",
    "        'thresh': None,\n",
    "        'when': [(0,0.5)],\n",
    "        'whitepx_ratio': 0.2,\n",
    "        'scale': 'random',\n",
    "        'scales': [3],\n",
    "        'scale_probas': [1],\n",
    "        'learning_rate': [0.1],\n",
    "        'noise': None,\n",
    "        'noise_type': None\n",
    "    },\n",
    "        {\n",
    "        'model_filename': model_filename,\n",
    "        'nb_iter':  10,\n",
    "        'thresh': None,\n",
    "        'when': [(0.5,8)],\n",
    "        'whitepx_ratio': 0.2,\n",
    "        'scale': 'random',\n",
    "        'scales': [2],\n",
    "        'scale_probas': [1],\n",
    "        'learning_rate': [0.5],\n",
    "        'noise': None,\n",
    "        'noise_type': None\n",
    "    },\n",
    "    \n",
    "    {\n",
    "        'model_filename': model_filename,\n",
    "        'nb_iter':  10,\n",
    "        'thresh': None,\n",
    "        'when': [(0.8,1)],\n",
    "        'whitepx_ratio': 0.2,\n",
    "        'scale': 'random',\n",
    "        'scales': [1],\n",
    "        'scale_probas': [1],\n",
    "        'learning_rate': [0.1],\n",
    "        'noise': None,\n",
    "        'noise_type': None\n",
    "    },\n",
    "]\n",
    "trial_conf = {\n",
    "    'neuralnets': neuralnets,\n",
    "    'nb_iter': 30000,\n",
    "    'w': 2**10,\n",
    "    'h': 2**10,\n",
    "    'init': 'random',\n",
    "    'seed': 100,\n",
    "    'nb_snapshots': 100\n",
    "}"
   ]
  },
  {
   "cell_type": "code",
   "execution_count": null,
   "metadata": {
    "collapsed": false
   },
   "outputs": [
    {
     "name": "stdout",
     "output_type": "stream",
     "text": [
      "101\n"
     ]
    },
    {
     "name": "stderr",
     "output_type": "stream",
     "text": [
      "\r",
      "  0%|          | 0/30000 [00:00<?, ?it/s]"
     ]
    }
   ],
   "source": [
    "snaps = gen(trial_conf)\n",
    "img = snaps[-1]\n",
    "img -= img.min()\n",
    "img /= img.max()\n",
    "imsave('out.png',snaps[-1])\n",
    "Image('out.png')"
   ]
  },
  {
   "cell_type": "code",
   "execution_count": null,
   "metadata": {
    "collapsed": false
   },
   "outputs": [],
   "source": [
    "print(snaps.shape)\n",
    "seq_to_video(snaps[None, :, None, :, :], filename='out.mp4')\n",
    "embed_video('out.mp4')"
   ]
  },
  {
   "cell_type": "code",
   "execution_count": null,
   "metadata": {
    "collapsed": true
   },
   "outputs": [],
   "source": []
  }
 ],
 "metadata": {
  "kernelspec": {
   "display_name": "Python 2",
   "language": "python",
   "name": "python2"
  },
  "language_info": {
   "codemirror_mode": {
    "name": "ipython",
    "version": 2
   },
   "file_extension": ".py",
   "mimetype": "text/x-python",
   "name": "python",
   "nbconvert_exporter": "python",
   "pygments_lexer": "ipython2",
   "version": "2.7.12"
  }
 },
 "nbformat": 4,
 "nbformat_minor": 0
}
