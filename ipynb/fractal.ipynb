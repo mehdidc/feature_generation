{
 "cells": [
  {
   "cell_type": "code",
   "execution_count": 218,
   "metadata": {
    "collapsed": false
   },
   "outputs": [],
   "source": [
    "%matplotlib inline\n",
    "import sys, os\n",
    "os.environ['OMP_NUM_THREADS'] = '1'\n",
    "os.environ['THEANO_FLAGS'] = 'device=cpu,compiledir_format=\"ipynb_compiledir_%(platform)s-%(processor)s-%(python_version)s-%(python_bitwidth)s\"'\n",
    "sys.path.append(os.getcwd()+\"/..\")\n",
    "\n",
    "from tasks import check as load_filename\n",
    "from scripts.imgtovideo import imgs_to_video\n",
    "from data import load_data\n",
    "from helpers import salt_and_pepper\n",
    "\n",
    "import matplotlib.pyplot as plt\n",
    "import numpy as np\n",
    "\n",
    "import theano\n",
    "import theano.tensor as T\n",
    "\n",
    "from lasagne import layers as L\n",
    "\n",
    "from lasagnekit.misc.plot_weights import dispims_color, tile_raster_images\n",
    "\n",
    "from IPython.display import HTML, Image\n",
    "\n",
    "import pandas as pd\n",
    "\n",
    "from tqdm import tqdm\n",
    "\n",
    "import base64\n",
    "import json\n",
    "\n",
    "from skimage.io import imread, imsave\n",
    "from skimage.transform import resize\n",
    "\n",
    "def load_model(filename, **kw):\n",
    "\n",
    "    model = load_filename(\n",
    "        what=\"notebook\", \n",
    "        filename=filename, \n",
    "        **kw\n",
    "    )\n",
    "    return model\n",
    "\n",
    "def build_brush_func(layers):\n",
    "    if 'biased_output' in layers:\n",
    "        bias = layers['biased_output'].b.get_value()\n",
    "    elif 'bias' in layers:\n",
    "        bias = layers['bias'].b.get_value()\n",
    "    else:\n",
    "        bias = np.array(0.1)\n",
    "\n",
    "    bias = bias[np.newaxis, np.newaxis, :, np.newaxis, np.newaxis]\n",
    "\n",
    "    if 'scaled_output' in layers:\n",
    "        scale = layers['scaled_output'].scales.get_value()\n",
    "    elif 'scale' in layers:\n",
    "        scale = layers['scale'].scales.get_value()\n",
    "    else:\n",
    "        scale = np.array((1.,))\n",
    "    scale = scale[np.newaxis, np.newaxis, :, np.newaxis, np.newaxis]\n",
    "\n",
    "    \n",
    "    X = T.tensor4()\n",
    "\n",
    "    B = L.get_output(layers['brush'], X)\n",
    "    if len(layers['brush'].output_shape) == 4: # (ex, t, w, h)\n",
    "        B = B.dimshuffle(0, 1, 'x', 2, 3)\n",
    "    \n",
    "    fn = theano.function(\n",
    "        [X], \n",
    "        T.nnet.sigmoid(B * scale + bias)\n",
    "    )\n",
    "    return fn\n",
    "\n",
    "def build_encode_func(layers):\n",
    "    w = layers['output'].output_shape[2]\n",
    "    X = T.tensor4()\n",
    "    fn = theano.function(\n",
    "        [X], \n",
    "        T.nnet.sigmoid(L.get_output(layers['coord'], X)[:, :, 0:2]) * w\n",
    "    )\n",
    "    return fn\n",
    "\n",
    "def to_grid_of_images(seq_imgs, **kw):\n",
    "    y = seq_imgs\n",
    "    imgs = []\n",
    "    for t in range(y.shape[1]):\n",
    "        yy = y[:, t]\n",
    "        if yy.shape[1] == 1:\n",
    "            yy = yy[:, 0, :, :, np.newaxis] * np.ones((1, 1, 1, 3))\n",
    "        else:\n",
    "            yy = yy.transpose((0, 2, 3, 1))\n",
    "        img = dispims_color(yy, **kw)\n",
    "        imgs.append(img)\n",
    "    return imgs\n",
    "\n",
    "def seq_to_video(seq, filename='out.mp4', verbose=1, framerate=8, rate=8, **kw):\n",
    "    # shape of seq should be : (examples, time, c, w, h)\n",
    "    seq = to_grid_of_images(seq, **kw)\n",
    "    seq = [np.zeros_like(seq[0])] + seq\n",
    "    if os.path.exists(filename):\n",
    "        os.remove(filename)\n",
    "    imgs_to_video(seq, out=filename, verbose=verbose, framerate=framerate, rate=rate)\n",
    "\n",
    "def embed_video(filename):\n",
    "    video = open(filename, 'r+b').read()\n",
    "    encoded = base64.b64encode(video)\n",
    "    return HTML(data='''<video alt=\"test\" controls>\n",
    "                <source src=\"data:video/mp4;base64,{0}\" type=\"video/mp4\" />\n",
    "                </video>'''.format(encoded.decode('ascii')))\n",
    "def disp_grid(imgs, **kw):\n",
    "    # shape of imgs should be : (examples, color, w, h)\n",
    "    out = dispims_color(imgs.transpose((0, 2, 3, 1)) * np.ones((1, 1, 1, 3)), **kw)\n",
    "    return out"
   ]
  },
  {
   "cell_type": "code",
   "execution_count": 127,
   "metadata": {
    "collapsed": false
   },
   "outputs": [
    {
     "name": "stdout",
     "output_type": "stream",
     "text": [
      "Loading data...\n"
     ]
    },
    {
     "name": "stderr",
     "output_type": "stream",
     "text": [
      "INFO:tasks:Loading data...\n"
     ]
    },
    {
     "name": "stdout",
     "output_type": "stream",
     "text": [
      "Loading the model...\n"
     ]
    },
    {
     "name": "stderr",
     "output_type": "stream",
     "text": [
      "INFO:tasks:Loading the model...\n"
     ]
    },
    {
     "name": "stdout",
     "output_type": "stream",
     "text": [
      "(None, 1, 16, 16)\n",
      "Compiling the model...\n"
     ]
    },
    {
     "name": "stderr",
     "output_type": "stream",
     "text": [
      "INFO:tasks:Compiling the model...\n"
     ]
    },
    {
     "name": "stdout",
     "output_type": "stream",
     "text": [
      "{'patience_stat': 'avg_loss_train_fix', 'epsilon': 1e-08, 'max_nb_epochs': 100000, 'batch_size': 128, 'initial_lr': 0.1, 'patience_nb_epochs': 800, 'lr_decay_method': 'none', 'beta2': 0.95, 'beta1': 0.95, 'min_nb_epochs': 100000, 'lr_decay': 0, 'momentum': 0.9, 'algo': 'adadelta'}\n",
      "autoencoder\n"
     ]
    }
   ],
   "source": [
    "model_a, data, layers, w, h, c = load_model(\"../training/fractal/a/model.pkl\", \n",
    "                                            dataset=\"rescaled_digits\", \n",
    "                                            force_w=16, force_h=16)"
   ]
  },
  {
   "cell_type": "code",
   "execution_count": 105,
   "metadata": {
    "collapsed": false
   },
   "outputs": [
    {
     "name": "stdout",
     "output_type": "stream",
     "text": [
      "Loading data...\n"
     ]
    },
    {
     "name": "stderr",
     "output_type": "stream",
     "text": [
      "INFO:tasks:Loading data...\n"
     ]
    },
    {
     "name": "stdout",
     "output_type": "stream",
     "text": [
      "(0, 128, (128000, 64))\n",
      "loaded\n",
      "(128, 128, (128000, 64))\n",
      "Loading the model...\n"
     ]
    },
    {
     "name": "stderr",
     "output_type": "stream",
     "text": [
      "INFO:tasks:Loading the model...\n"
     ]
    },
    {
     "name": "stdout",
     "output_type": "stream",
     "text": [
      "(None, 1, 8, 8)\n",
      "Compiling the model...\n"
     ]
    },
    {
     "name": "stderr",
     "output_type": "stream",
     "text": [
      "INFO:tasks:Compiling the model...\n"
     ]
    },
    {
     "name": "stdout",
     "output_type": "stream",
     "text": [
      "{'patience_stat': 'avg_loss_train_fix', 'epsilon': 1e-08, 'max_nb_epochs': 100000, 'batch_size': 128, 'initial_lr': 0.1, 'patience_nb_epochs': 800, 'lr_decay_method': 'none', 'beta2': 0.95, 'beta1': 0.95, 'min_nb_epochs': 100000, 'lr_decay': 0, 'momentum': 0.9, 'algo': 'adadelta'}\n",
      "autoencoder\n"
     ]
    }
   ],
   "source": [
    "model_b, data, layers, w, h, c = load_model(\"../training/fractal/b/model.pkl\", \n",
    "                                            dataset=\"random_cropped_digits\", \n",
    "                                            force_w=8, force_h=8)"
   ]
  },
  {
   "cell_type": "code",
   "execution_count": 128,
   "metadata": {
    "collapsed": true
   },
   "outputs": [],
   "source": [
    "def downscale(x, scale=2):\n",
    "    h, w = x.shape\n",
    "    x = x.reshape((h / scale, scale, w / scale, scale))\n",
    "    return x.mean(axis=(1, 3)), (x - x.mean(axis=(1, 3), keepdims=True)).reshape((h, w))\n",
    "\n",
    "def upscale(x, r):\n",
    "    shape = r.shape\n",
    "    y_scale = r.shape[0] / x.shape[0]\n",
    "    x_scale = r.shape[1] / x.shape[1]        \n",
    "    r = r.reshape((r.shape[0] / y_scale, y_scale, r.shape[1] / x_scale, x_scale))\n",
    "    x = x.reshape((x.shape[0], 1, x.shape[1], 1))\n",
    "    return (x + r).reshape(shape)"
   ]
  },
  {
   "cell_type": "code",
   "execution_count": 234,
   "metadata": {
    "collapsed": false
   },
   "outputs": [
    {
     "name": "stdout",
     "output_type": "stream",
     "text": [
      "20\n"
     ]
    }
   ],
   "source": [
    "print(len(imgs))"
   ]
  },
  {
   "cell_type": "code",
   "execution_count": 287,
   "metadata": {
    "collapsed": false
   },
   "outputs": [],
   "source": [
    "from IPython import display\n",
    "from skimage.transform import resize\n",
    "sw, sh = 8, 8\n",
    "scale = 2\n",
    "imgs = []\n",
    "np.random.seed(2)\n",
    "for K in range(100):\n",
    "    x = np.random.uniform(0, 1, size=(32, 32))#>0.01\n",
    "    for i in range(200):\n",
    "        x_new, resid = downscale(x, scale=scale)\n",
    "        x_new = x_new[np.newaxis, np.newaxis, :, :]\n",
    "        x_new = x_new.astype(np.float32)\n",
    "\n",
    "        if i % 20 == 0 and i > 0:\n",
    "            for _ in range(10):\n",
    "                x_new = model_a.reconstruct(x_new)\n",
    "                x_new = x_new > 0.38\n",
    "        \n",
    "        x_new = x_new[0, 0]\n",
    "        x_new = upscale(x_new, resid)\n",
    "        x  = x_new\n",
    "        x = x > 0.38\n",
    "\n",
    "        py = np.random.randint(0, x.shape[0] - sh)\n",
    "        px = np.random.randint(0, x.shape[0] - sw)\n",
    "        patch = x[py:py+sh, px:px+sw]#.copy()\n",
    "        #print(x.shape, patch.shape)\n",
    "        patch = patch[np.newaxis, np.newaxis, :, :]\n",
    "        patch = patch.astype(np.float32)\n",
    "\n",
    "        for _ in range(5):\n",
    "            patch = model_b.reconstruct(patch)\n",
    "            patch = patch > 0.6\n",
    "        x[py:py+sh, px:px+sw] = patch[0, 0]\n",
    "        x = x > 0.6\n",
    "        #display.clear_output(wait=True)\n",
    "        #plt.imshow(x, cmap='gray', interpolation='none')\n",
    "        #display.display(plt.gcf())\n",
    "    imgs.append(x)\n",
    "#display.clear_output(wait=True)"
   ]
  },
  {
   "cell_type": "code",
   "execution_count": 290,
   "metadata": {
    "collapsed": false
   },
   "outputs": [
    {
     "data": {
      "text/plain": [
       "<matplotlib.image.AxesImage at 0x7fce1f5b1d10>"
      ]
     },
     "execution_count": 290,
     "metadata": {},
     "output_type": "execute_result"
    },
    {
     "data": {
      "image/png": "[encoded data removed]",
      "text/plain": [
       "<matplotlib.figure.Figure at 0x7fcde4ed1290>"
      ]
     },
     "metadata": {},
     "output_type": "display_data"
    }
   ],
   "source": [
    "imgs_ = [im[6:-6, 6:-6] for im in imgs]\n",
    "fig = plt.figure(figsize=(5, 5))\n",
    "plt.imshow(disp_grid(np.array(imgs_)[:, None, :, :], border=1, bordercolor=(0.3, 0, 0)), interpolation='none')"
   ]
  },
  {
   "cell_type": "code",
   "execution_count": 289,
   "metadata": {
    "collapsed": false
   },
   "outputs": [
    {
     "data": {
      "text/plain": [
       "<matplotlib.image.AxesImage at 0x7fcdeb2806d0>"
      ]
     },
     "execution_count": 289,
     "metadata": {},
     "output_type": "execute_result"
    },
    {
     "data": {
      "image/png": "[encoded data removed]",
      "text/plain": [
       "<matplotlib.figure.Figure at 0x7fcde79ec4d0>"
      ]
     },
     "metadata": {},
     "output_type": "display_data"
    }
   ],
   "source": [
    "from skimage.transform import rescale\n",
    "x = np.random.uniform(size=(100, 1, 16, 16)).astype(np.float32)\n",
    "iters = []\n",
    "for i in range(20):\n",
    "    #x = salt_and_pepper(x, backend='numpy', corruption_level=0.5)\n",
    "    x  = model_a.reconstruct(x)\n",
    "    x = x>0.38\n",
    "    iters.append(x)\n",
    "x = x.transpose((0, 2, 3, 1)) * np.ones((1, 1, 1, 3))\n",
    "img = dispims_color(x, border=1, bordercolor=(0.3, 0.0, 0.0))\n",
    "#img = rescale(img, 2)\n",
    "#img = img > 0.38\n",
    "fig = plt.figure(figsize=(5, 5))\n",
    "plt.imshow(img, interpolation='none')"
   ]
  },
  {
   "cell_type": "code",
   "execution_count": 281,
   "metadata": {
    "collapsed": false
   },
   "outputs": [
    {
     "name": "stdout",
     "output_type": "stream",
     "text": [
      "ffmpeg -framerate 8 -i img%08d.png -c:v libx264 -r 8 -pix_fmt yuv420p /home/mcherti/work/code/feature_generation/ipynb/out.mp4\n"
     ]
    },
    {
     "data": {
      "text/html": [
       "<video alt=\"test\" controls>\n",
       "                <source src=\"data:video/mp4;base64,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\" type=\"video/mp4\" />\n",
       "                </video>"
      ],
      "text/plain": [
       "<IPython.core.display.HTML object>"
      ]
     },
     "execution_count": 281,
     "metadata": {},
     "output_type": "execute_result"
    }
   ],
   "source": [
    "!rm out.mp4\n",
    "iters = map(disp_grid, iters)\n",
    "imgs_to_video(iters, out='out.mp4', verbose=1, framerate=8, rate=8)\n",
    "embed_video('out.mp4')"
   ]
  },
  {
   "cell_type": "code",
   "execution_count": 282,
   "metadata": {
    "collapsed": false
   },
   "outputs": [
    {
     "data": {
      "text/plain": [
       "0.72"
      ]
     },
     "execution_count": 282,
     "metadata": {},
     "output_type": "execute_result"
    }
   ],
   "source": [
    "h = x.reshape((x.shape[0], -1))\n",
    "def hash_array(x):\n",
    "    return hash(tuple(x))\n",
    "h = map(hash_array, h)\n",
    "len(set(h)) / float(len(x))"
   ]
  }
 ],
 "metadata": {
  "kernelspec": {
   "display_name": "Python 2",
   "language": "python",
   "name": "python2"
  },
  "language_info": {
   "codemirror_mode": {
    "name": "ipython",
    "version": 2
   },
   "file_extension": ".py",
   "mimetype": "text/x-python",
   "name": "python",
   "nbconvert_exporter": "python",
   "pygments_lexer": "ipython2",
   "version": "2.7.12"
  }
 },
 "nbformat": 4,
 "nbformat_minor": 0
}
