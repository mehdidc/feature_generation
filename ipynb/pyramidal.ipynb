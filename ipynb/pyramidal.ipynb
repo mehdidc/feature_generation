{
 "cells": [
  {
   "cell_type": "code",
   "execution_count": 1,
   "metadata": {
    "collapsed": false
   },
   "outputs": [
    {
     "name": "stderr",
     "output_type": "stream",
     "text": [
      "Using gpu device 0: Tesla K20Xm (CNMeM is disabled, CuDNN 3007)\n",
      "/home/mcherti/work/code/scikit-learn/sklearn/cross_validation.py:42: DeprecationWarning: This module has been deprecated in favor of the model_selection module into which all the refactored classes and functions are moved. Also note that the interface of the new CV iterators are different from that of this module. This module will be removed in 0.19.\n",
      "  \"This module will be removed in 0.19.\", DeprecationWarning)\n"
     ]
    },
    {
     "name": "stdout",
     "output_type": "stream",
     "text": [
      "Couldn't import dot_parser, loading of dot files will not be possible.\n"
     ]
    }
   ],
   "source": [
    "import os\n",
    "import sys\n",
    "os.environ[\"THEANO_FLAGS\"] = \"device=gpu\"\n",
    "sys.path.append(os.getcwd()+\"/..\")\n",
    "from tasks import check"
   ]
  },
  {
   "cell_type": "code",
   "execution_count": 2,
   "metadata": {
    "collapsed": false
   },
   "outputs": [],
   "source": [
    "from model import model50, model51"
   ]
  },
  {
   "cell_type": "code",
   "execution_count": null,
   "metadata": {
    "collapsed": true
   },
   "outputs": [],
   "source": []
  },
  {
   "cell_type": "code",
   "execution_count": 3,
   "metadata": {
    "collapsed": false
   },
   "outputs": [],
   "source": [
    "all_layers = model50(nb_filters=128, w=32, h=32, c=3)"
   ]
  },
  {
   "cell_type": "code",
   "execution_count": null,
   "metadata": {
    "collapsed": true
   },
   "outputs": [],
   "source": []
  },
  {
   "cell_type": "code",
   "execution_count": 4,
   "metadata": {
    "collapsed": false
   },
   "outputs": [],
   "source": [
    "import theano.tensor as T\n",
    "import theano\n",
    "from lasagne import layers\n",
    "\n",
    "X_scale1 = T.tensor4()\n",
    "X_scale2 = T.tensor4()\n",
    "X_scale3 = T.tensor4()\n",
    "X_scale4 = T.tensor4()\n",
    "input_tensors = [X_scale1, X_scale2, X_scale3, X_scale4]\n",
    "\n",
    "input_layers = [\"scale1_input\", \"scale2_input\", \"scale3_input\", \"scale4_input\"]\n",
    "output_layers = [\"scale1_output\", \"scale2_output\", \"scale3_output\", \"scale4_output\"]\n",
    "\n",
    "inputs = {all_layers[l]: t for t, l in zip(input_tensors, input_layers)}\n",
    "outputs = map(lambda name:all_layers[name], output_layers)\n",
    "\n",
    "output_tensors = layers.get_output(outputs, inputs)\n",
    "\n",
    "lambdas = [1, 2, 4, 8]\n",
    "loss = 0\n",
    "for inp, outp, lambda_ in zip(input_tensors, output_tensors, lambdas):\n",
    "    loss += ((inp - outp) ** 2).mean() * lambda_"
   ]
  },
  {
   "cell_type": "code",
   "execution_count": null,
   "metadata": {
    "collapsed": true
   },
   "outputs": [],
   "source": []
  },
  {
   "cell_type": "code",
   "execution_count": 5,
   "metadata": {
    "collapsed": false
   },
   "outputs": [
    {
     "name": "stdout",
     "output_type": "stream",
     "text": [
      "Number of params : 136820\n"
     ]
    }
   ],
   "source": [
    "from lasagne import updates\n",
    "import numpy as np\n",
    "params = layers.get_all_params(all_layers.values(), trainable=True)\n",
    "print(\"Number of params : {}\".format(layers.count_params(all_layers.values(), trainable=True))) \n",
    "lr = theano.shared(np.array(0.1, dtype=theano.config.floatX))\n",
    "params_updates = updates.adam(loss, params, learning_rate=lr)"
   ]
  },
  {
   "cell_type": "code",
   "execution_count": null,
   "metadata": {
    "collapsed": true
   },
   "outputs": [],
   "source": []
  },
  {
   "cell_type": "code",
   "execution_count": 6,
   "metadata": {
    "collapsed": false
   },
   "outputs": [
    {
     "data": {
      "image/svg+xml": [
       "<svg height=\"837pt\" viewBox=\"0.00 0.00 215.29 836.60\" width=\"215pt\" xmlns=\"http://www.w3.org/2000/svg\" xmlns:xlink=\"http://www.w3.org/1999/xlink\">\n",
       "<g class=\"graph\" id=\"graph0\" transform=\"scale(1 1) rotate(0) translate(4 832.6)\">\n",
       "<title>Network</title>\n",
       "<polygon fill=\"white\" points=\"-4,4 -4,-832.6 211.295,-832.6 211.295,4 -4,4\" stroke=\"none\"/>\n",
       "<!-- lasagne.layers.conv.Conv2DLayer object at 0x7fe735b92e50 -->\n",
       "<g class=\"node\" id=\"node1\"><title>lasagne.layers.conv.Conv2DLayer object at 0x7fe735b92e50</title>\n",
       "<polygon fill=\"#7c9abb\" points=\"0,-707.9 0,-749.5 207.295,-749.5 207.295,-707.9 0,-707.9\" stroke=\"black\"/>\n",
       "<text font-family=\"Times,serif\" font-size=\"14.00\" text-anchor=\"middle\" x=\"103.647\" y=\"-732.9\">conv1, Conv2DLayer</text>\n",
       "<text font-family=\"Times,serif\" font-size=\"14.00\" text-anchor=\"middle\" x=\"103.647\" y=\"-716.1\">Output shape: (None, 128, 16, 16)</text>\n",
       "</g>\n",
       "<!-- lasagne.layers.conv.Conv2DLayer object at 0x7fe735b92e90 -->\n",
       "<g class=\"node\" id=\"node4\"><title>lasagne.layers.conv.Conv2DLayer object at 0x7fe735b92e90</title>\n",
       "<polygon fill=\"#7c9abb\" points=\"7,-629.3 7,-670.9 200.295,-670.9 200.295,-629.3 7,-629.3\" stroke=\"black\"/>\n",
       "<text font-family=\"Times,serif\" font-size=\"14.00\" text-anchor=\"middle\" x=\"103.647\" y=\"-654.3\">conv2, Conv2DLayer</text>\n",
       "<text font-family=\"Times,serif\" font-size=\"14.00\" text-anchor=\"middle\" x=\"103.647\" y=\"-637.5\">Output shape: (None, 128, 8, 8)</text>\n",
       "</g>\n",
       "<!-- lasagne.layers.conv.Conv2DLayer object at 0x7fe735b92e50&#45;&gt;lasagne.layers.conv.Conv2DLayer object at 0x7fe735b92e90 -->\n",
       "<g class=\"edge\" id=\"edge2\"><title>lasagne.layers.conv.Conv2DLayer object at 0x7fe735b92e50-&gt;lasagne.layers.conv.Conv2DLayer object at 0x7fe735b92e90</title>\n",
       "<path d=\"M103.647,-707.574C103.647,-699.482 103.647,-689.98 103.647,-681.103\" fill=\"none\" stroke=\"black\"/>\n",
       "<polygon fill=\"black\" points=\"107.147,-681.091 103.647,-671.091 100.147,-681.091 107.147,-681.091\" stroke=\"black\"/>\n",
       "</g>\n",
       "<!-- lasagne.layers.input.InputLayer object at 0x7fe73896fdd0 -->\n",
       "<g class=\"node\" id=\"node2\"><title>lasagne.layers.input.InputLayer object at 0x7fe73896fdd0</title>\n",
       "<polygon fill=\"#a2cece\" points=\"7,-786.5 7,-828.1 200.295,-828.1 200.295,-786.5 7,-786.5\" stroke=\"black\"/>\n",
       "<text font-family=\"Times,serif\" font-size=\"14.00\" text-anchor=\"middle\" x=\"103.647\" y=\"-811.5\">scale1_input, InputLayer</text>\n",
       "<text font-family=\"Times,serif\" font-size=\"14.00\" text-anchor=\"middle\" x=\"103.647\" y=\"-794.7\">Output shape: (None, 3, 32, 32)</text>\n",
       "</g>\n",
       "<!-- lasagne.layers.input.InputLayer object at 0x7fe73896fdd0&#45;&gt;lasagne.layers.conv.Conv2DLayer object at 0x7fe735b92e50 -->\n",
       "<g class=\"edge\" id=\"edge1\"><title>lasagne.layers.input.InputLayer object at 0x7fe73896fdd0-&gt;lasagne.layers.conv.Conv2DLayer object at 0x7fe735b92e50</title>\n",
       "<path d=\"M103.647,-786.174C103.647,-778.082 103.647,-768.58 103.647,-759.703\" fill=\"none\" stroke=\"black\"/>\n",
       "<polygon fill=\"black\" points=\"107.147,-759.691 103.647,-749.691 100.147,-759.691 107.147,-759.691\" stroke=\"black\"/>\n",
       "</g>\n",
       "<!-- lasagnekit.layers.Deconv2DLayer object at 0x7fe735bc7590 -->\n",
       "<g class=\"node\" id=\"node3\"><title>lasagnekit.layers.Deconv2DLayer object at 0x7fe735bc7590</title>\n",
       "<polygon fill=\"#b8aed9\" points=\"7,-79.1 7,-120.7 200.295,-120.7 200.295,-79.1 7,-79.1\" stroke=\"black\"/>\n",
       "<text font-family=\"Times,serif\" font-size=\"14.00\" text-anchor=\"middle\" x=\"103.647\" y=\"-104.1\">unconv2_up, Deconv2DLayer</text>\n",
       "<text font-family=\"Times,serif\" font-size=\"14.00\" text-anchor=\"middle\" x=\"103.647\" y=\"-87.3\">Output shape: (None, 3, 32, 32)</text>\n",
       "</g>\n",
       "<!-- lasagne.layers.conv.Conv2DLayer object at 0x7fe735bc78d0 -->\n",
       "<g class=\"node\" id=\"node9\"><title>lasagne.layers.conv.Conv2DLayer object at 0x7fe735bc78d0</title>\n",
       "<polygon fill=\"#7c9abb\" points=\"7,-0.5 7,-42.1 200.295,-42.1 200.295,-0.5 7,-0.5\" stroke=\"black\"/>\n",
       "<text font-family=\"Times,serif\" font-size=\"14.00\" text-anchor=\"middle\" x=\"103.647\" y=\"-25.5\">scale1_output, Conv2DLayer</text>\n",
       "<text font-family=\"Times,serif\" font-size=\"14.00\" text-anchor=\"middle\" x=\"103.647\" y=\"-8.7\">Output shape: (None, 3, 32, 32)</text>\n",
       "</g>\n",
       "<!-- lasagnekit.layers.Deconv2DLayer object at 0x7fe735bc7590&#45;&gt;lasagne.layers.conv.Conv2DLayer object at 0x7fe735bc78d0 -->\n",
       "<g class=\"edge\" id=\"edge10\"><title>lasagnekit.layers.Deconv2DLayer object at 0x7fe735bc7590-&gt;lasagne.layers.conv.Conv2DLayer object at 0x7fe735bc78d0</title>\n",
       "<path d=\"M103.647,-78.7743C103.647,-70.6819 103.647,-61.1803 103.647,-52.3033\" fill=\"none\" stroke=\"black\"/>\n",
       "<polygon fill=\"black\" points=\"107.147,-52.2913 103.647,-42.2913 100.147,-52.2914 107.147,-52.2913\" stroke=\"black\"/>\n",
       "</g>\n",
       "<!-- lasagne.layers.conv.Conv2DLayer object at 0x7fe735ba9e10 -->\n",
       "<g class=\"node\" id=\"node6\"><title>lasagne.layers.conv.Conv2DLayer object at 0x7fe735ba9e10</title>\n",
       "<polygon fill=\"#7c9abb\" points=\"7,-550.7 7,-592.3 200.295,-592.3 200.295,-550.7 7,-550.7\" stroke=\"black\"/>\n",
       "<text font-family=\"Times,serif\" font-size=\"14.00\" text-anchor=\"middle\" x=\"103.647\" y=\"-575.7\">conv3, Conv2DLayer</text>\n",
       "<text font-family=\"Times,serif\" font-size=\"14.00\" text-anchor=\"middle\" x=\"103.647\" y=\"-558.9\">Output shape: (None, 128, 4, 4)</text>\n",
       "</g>\n",
       "<!-- lasagne.layers.conv.Conv2DLayer object at 0x7fe735b92e90&#45;&gt;lasagne.layers.conv.Conv2DLayer object at 0x7fe735ba9e10 -->\n",
       "<g class=\"edge\" id=\"edge3\"><title>lasagne.layers.conv.Conv2DLayer object at 0x7fe735b92e90-&gt;lasagne.layers.conv.Conv2DLayer object at 0x7fe735ba9e10</title>\n",
       "<path d=\"M103.647,-628.974C103.647,-620.882 103.647,-611.38 103.647,-602.503\" fill=\"none\" stroke=\"black\"/>\n",
       "<polygon fill=\"black\" points=\"107.147,-602.491 103.647,-592.491 100.147,-602.491 107.147,-602.491\" stroke=\"black\"/>\n",
       "</g>\n",
       "<!-- lasagne.layers.conv.Conv2DLayer object at 0x7fe735bbd110 -->\n",
       "<g class=\"node\" id=\"node5\"><title>lasagne.layers.conv.Conv2DLayer object at 0x7fe735bbd110</title>\n",
       "<polygon fill=\"#7c9abb\" points=\"13.2244,-472.1 13.2244,-513.7 194.07,-513.7 194.07,-472.1 13.2244,-472.1\" stroke=\"black\"/>\n",
       "<text font-family=\"Times,serif\" font-size=\"14.00\" text-anchor=\"middle\" x=\"103.647\" y=\"-497.1\">scale4_output, Conv2DLayer</text>\n",
       "<text font-family=\"Times,serif\" font-size=\"14.00\" text-anchor=\"middle\" x=\"103.647\" y=\"-480.3\">Output shape: (None, 3, 4, 4)</text>\n",
       "</g>\n",
       "<!-- lasagnekit.layers.Deconv2DLayer object at 0x7fe735bbd3d0 -->\n",
       "<g class=\"node\" id=\"node11\"><title>lasagnekit.layers.Deconv2DLayer object at 0x7fe735bbd3d0</title>\n",
       "<polygon fill=\"#b8aed9\" points=\"10.8976,-393.5 10.8976,-435.1 196.397,-435.1 196.397,-393.5 10.8976,-393.5\" stroke=\"black\"/>\n",
       "<text font-family=\"Times,serif\" font-size=\"14.00\" text-anchor=\"middle\" x=\"103.647\" y=\"-418.5\">unconv4_up, Deconv2DLayer</text>\n",
       "<text font-family=\"Times,serif\" font-size=\"14.00\" text-anchor=\"middle\" x=\"103.647\" y=\"-401.7\">Output shape: (None, 3, 8, 8)</text>\n",
       "</g>\n",
       "<!-- lasagne.layers.conv.Conv2DLayer object at 0x7fe735bbd110&#45;&gt;lasagnekit.layers.Deconv2DLayer object at 0x7fe735bbd3d0 -->\n",
       "<g class=\"edge\" id=\"edge5\"><title>lasagne.layers.conv.Conv2DLayer object at 0x7fe735bbd110-&gt;lasagnekit.layers.Deconv2DLayer object at 0x7fe735bbd3d0</title>\n",
       "<path d=\"M103.647,-471.774C103.647,-463.682 103.647,-454.18 103.647,-445.303\" fill=\"none\" stroke=\"black\"/>\n",
       "<polygon fill=\"black\" points=\"107.147,-445.291 103.647,-435.291 100.147,-445.291 107.147,-445.291\" stroke=\"black\"/>\n",
       "</g>\n",
       "<!-- lasagne.layers.conv.Conv2DLayer object at 0x7fe735ba9e10&#45;&gt;lasagne.layers.conv.Conv2DLayer object at 0x7fe735bbd110 -->\n",
       "<g class=\"edge\" id=\"edge4\"><title>lasagne.layers.conv.Conv2DLayer object at 0x7fe735ba9e10-&gt;lasagne.layers.conv.Conv2DLayer object at 0x7fe735bbd110</title>\n",
       "<path d=\"M103.647,-550.374C103.647,-542.282 103.647,-532.78 103.647,-523.903\" fill=\"none\" stroke=\"black\"/>\n",
       "<polygon fill=\"black\" points=\"107.147,-523.891 103.647,-513.891 100.147,-523.891 107.147,-523.891\" stroke=\"black\"/>\n",
       "</g>\n",
       "<!-- lasagne.layers.conv.Conv2DLayer object at 0x7fe78708be90 -->\n",
       "<g class=\"node\" id=\"node7\"><title>lasagne.layers.conv.Conv2DLayer object at 0x7fe78708be90</title>\n",
       "<polygon fill=\"#7c9abb\" points=\"13.2244,-314.9 13.2244,-356.5 194.07,-356.5 194.07,-314.9 13.2244,-314.9\" stroke=\"black\"/>\n",
       "<text font-family=\"Times,serif\" font-size=\"14.00\" text-anchor=\"middle\" x=\"103.647\" y=\"-339.9\">scale3_output, Conv2DLayer</text>\n",
       "<text font-family=\"Times,serif\" font-size=\"14.00\" text-anchor=\"middle\" x=\"103.647\" y=\"-323.1\">Output shape: (None, 3, 8, 8)</text>\n",
       "</g>\n",
       "<!-- lasagnekit.layers.Deconv2DLayer object at 0x7fe735bbdf50 -->\n",
       "<g class=\"node\" id=\"node8\"><title>lasagnekit.layers.Deconv2DLayer object at 0x7fe735bbdf50</title>\n",
       "<polygon fill=\"#b8aed9\" points=\"7,-236.3 7,-277.9 200.295,-277.9 200.295,-236.3 7,-236.3\" stroke=\"black\"/>\n",
       "<text font-family=\"Times,serif\" font-size=\"14.00\" text-anchor=\"middle\" x=\"103.647\" y=\"-261.3\">unconv3_up, Deconv2DLayer</text>\n",
       "<text font-family=\"Times,serif\" font-size=\"14.00\" text-anchor=\"middle\" x=\"103.647\" y=\"-244.5\">Output shape: (None, 3, 16, 16)</text>\n",
       "</g>\n",
       "<!-- lasagne.layers.conv.Conv2DLayer object at 0x7fe78708be90&#45;&gt;lasagnekit.layers.Deconv2DLayer object at 0x7fe735bbdf50 -->\n",
       "<g class=\"edge\" id=\"edge7\"><title>lasagne.layers.conv.Conv2DLayer object at 0x7fe78708be90-&gt;lasagnekit.layers.Deconv2DLayer object at 0x7fe735bbdf50</title>\n",
       "<path d=\"M103.647,-314.574C103.647,-306.482 103.647,-296.98 103.647,-288.103\" fill=\"none\" stroke=\"black\"/>\n",
       "<polygon fill=\"black\" points=\"107.147,-288.091 103.647,-278.091 100.147,-288.091 107.147,-288.091\" stroke=\"black\"/>\n",
       "</g>\n",
       "<!-- lasagne.layers.conv.Conv2DLayer object at 0x7fe735bc72d0 -->\n",
       "<g class=\"node\" id=\"node10\"><title>lasagne.layers.conv.Conv2DLayer object at 0x7fe735bc72d0</title>\n",
       "<polygon fill=\"#7c9abb\" points=\"7,-157.7 7,-199.3 200.295,-199.3 200.295,-157.7 7,-157.7\" stroke=\"black\"/>\n",
       "<text font-family=\"Times,serif\" font-size=\"14.00\" text-anchor=\"middle\" x=\"103.647\" y=\"-182.7\">scale2_output, Conv2DLayer</text>\n",
       "<text font-family=\"Times,serif\" font-size=\"14.00\" text-anchor=\"middle\" x=\"103.647\" y=\"-165.9\">Output shape: (None, 3, 16, 16)</text>\n",
       "</g>\n",
       "<!-- lasagnekit.layers.Deconv2DLayer object at 0x7fe735bbdf50&#45;&gt;lasagne.layers.conv.Conv2DLayer object at 0x7fe735bc72d0 -->\n",
       "<g class=\"edge\" id=\"edge8\"><title>lasagnekit.layers.Deconv2DLayer object at 0x7fe735bbdf50-&gt;lasagne.layers.conv.Conv2DLayer object at 0x7fe735bc72d0</title>\n",
       "<path d=\"M103.647,-235.974C103.647,-227.882 103.647,-218.38 103.647,-209.503\" fill=\"none\" stroke=\"black\"/>\n",
       "<polygon fill=\"black\" points=\"107.147,-209.491 103.647,-199.491 100.147,-209.491 107.147,-209.491\" stroke=\"black\"/>\n",
       "</g>\n",
       "<!-- lasagne.layers.conv.Conv2DLayer object at 0x7fe735bc72d0&#45;&gt;lasagnekit.layers.Deconv2DLayer object at 0x7fe735bc7590 -->\n",
       "<g class=\"edge\" id=\"edge9\"><title>lasagne.layers.conv.Conv2DLayer object at 0x7fe735bc72d0-&gt;lasagnekit.layers.Deconv2DLayer object at 0x7fe735bc7590</title>\n",
       "<path d=\"M103.647,-157.374C103.647,-149.282 103.647,-139.78 103.647,-130.903\" fill=\"none\" stroke=\"black\"/>\n",
       "<polygon fill=\"black\" points=\"107.147,-130.891 103.647,-120.891 100.147,-130.891 107.147,-130.891\" stroke=\"black\"/>\n",
       "</g>\n",
       "<!-- lasagnekit.layers.Deconv2DLayer object at 0x7fe735bbd3d0&#45;&gt;lasagne.layers.conv.Conv2DLayer object at 0x7fe78708be90 -->\n",
       "<g class=\"edge\" id=\"edge6\"><title>lasagnekit.layers.Deconv2DLayer object at 0x7fe735bbd3d0-&gt;lasagne.layers.conv.Conv2DLayer object at 0x7fe78708be90</title>\n",
       "<path d=\"M103.647,-393.174C103.647,-385.082 103.647,-375.58 103.647,-366.703\" fill=\"none\" stroke=\"black\"/>\n",
       "<polygon fill=\"black\" points=\"107.147,-366.691 103.647,-356.691 100.147,-366.691 107.147,-366.691\" stroke=\"black\"/>\n",
       "</g>\n",
       "</g>\n",
       "</svg>"
      ],
      "text/plain": [
       "<IPython.core.display.SVG object>"
      ]
     },
     "execution_count": 6,
     "metadata": {},
     "output_type": "execute_result"
    }
   ],
   "source": [
    "from lasagnekit.misc.draw_net import draw_to_file\n",
    "from IPython.display import SVG\n",
    "draw_to_file(layers.get_all_layers(all_layers['scale1_output']), 'out.svg')\n",
    "SVG('out.svg')"
   ]
  },
  {
   "cell_type": "code",
   "execution_count": null,
   "metadata": {
    "collapsed": false
   },
   "outputs": [],
   "source": [
    "train_fn = theano.function(input_tensors, loss, updates=params_updates)"
   ]
  },
  {
   "cell_type": "code",
   "execution_count": null,
   "metadata": {
    "collapsed": false
   },
   "outputs": [],
   "source": [
    "predict_fn = theano.function(input_tensors, output_tensors, on_unused_input='warn')"
   ]
  },
  {
   "cell_type": "code",
   "execution_count": null,
   "metadata": {
    "collapsed": false
   },
   "outputs": [],
   "source": [
    "from data import load_data\n",
    "from lasagnekit.datasets.rescaled import Rescaled\n",
    "\n",
    "from lasagnekit.datasets.imagecollection import ImageCollection\n",
    "from lasagnekit.datasets.transformed import Transformed\n",
    "w, h = 32, 32\n",
    "scale = {1: 32, 2: 16, 3: 8, 4: 4}\n",
    "batch_size = 128\n",
    "\n",
    "c = 3\n",
    "folder = \"{}/icons\".format(os.getenv(\"DATA_PATH\"))\n",
    "data_scale1 = ImageCollection(size=(w, h), nb=1535, mode='all', folder=folder)\n",
    "data_scale2 = Rescaled(data_scale1, (16, 16))\n",
    "data_scale3 = Rescaled(data_scale2, (8, 8))\n",
    "data_scale4 = Rescaled(data_scale3, (4, 4))\n",
    "\n",
    "data_scale2_up = Rescaled(data_scale2, (32, 32))\n",
    "data_scale3_up = Rescaled(data_scale3, (16, 16))\n",
    "data_scale4_up = Rescaled(data_scale4, (8, 8))\n",
    "\n",
    "def preprocess(x, s=32):\n",
    "    x = x.reshape((x.shape[0], s, s, c))\n",
    "    x = x.transpose((0, 3, 1, 2))\n",
    "    return x\n",
    "data_scale4.load()\n",
    "\n",
    "data_scale2_up.load()\n",
    "data_scale3_up.load()\n",
    "data_scale4_up.load()"
   ]
  },
  {
   "cell_type": "code",
   "execution_count": null,
   "metadata": {
    "collapsed": false
   },
   "outputs": [],
   "source": [
    "from lasagnekit.easy import iterate_minibatches"
   ]
  },
  {
   "cell_type": "code",
   "execution_count": null,
   "metadata": {
    "collapsed": false
   },
   "outputs": [],
   "source": [
    "lr.set_value(0.01)\n",
    "loss_list = []\n",
    "for i in range(10000):\n",
    "    X_scale1 = preprocess(data_scale1.X, s=scale[1])\n",
    "    X_scale2 = preprocess(data_scale2.X, s=scale[2])\n",
    "    X_scale3 = preprocess(data_scale3.X, s=scale[3])\n",
    "    X_scale4 = preprocess(data_scale4.X, s=scale[4])    \n",
    "    total_loss = 0.\n",
    "    for mini_batch in iterate_minibatches(len(data_scale1.X), batch_size):\n",
    "        loss_val = train_fn(X_scale1[mini_batch], \n",
    "                            X_scale2[mini_batch], \n",
    "                            X_scale3[mini_batch], \n",
    "                            X_scale4[mini_batch])\n",
    "        total_loss += loss_val\n",
    "    print(total_loss)\n",
    "    loss_list.append(total_loss)\n",
    "plt.plot(loss_list)"
   ]
  },
  {
   "cell_type": "code",
   "execution_count": null,
   "metadata": {
    "collapsed": false
   },
   "outputs": [],
   "source": [
    "out1, out2, out3, out4 = predict_fn(X_scale1, X_scale2, X_scale3, X_scale4)"
   ]
  },
  {
   "cell_type": "code",
   "execution_count": null,
   "metadata": {
    "collapsed": false
   },
   "outputs": [],
   "source": [
    "%matplotlib inline\n",
    "import matplotlib.pyplot as plt\n",
    "from lasagnekit.misc.plot_weights import dispims_color\n",
    "fig = plt.figure(figsize=(10, 10))\n",
    "img = dispims_color(out1[0:100].transpose((0, 2, 3, 1)),border=1)\n",
    "plt.imshow(img, interpolation='none')"
   ]
  },
  {
   "cell_type": "code",
   "execution_count": null,
   "metadata": {
    "collapsed": true
   },
   "outputs": [],
   "source": []
  },
  {
   "cell_type": "code",
   "execution_count": null,
   "metadata": {
    "collapsed": true
   },
   "outputs": [],
   "source": []
  }
 ],
 "metadata": {
  "kernelspec": {
   "display_name": "Python 2",
   "language": "python",
   "name": "python2"
  },
  "language_info": {
   "codemirror_mode": {
    "name": "ipython",
    "version": 2
   },
   "file_extension": ".py",
   "mimetype": "text/x-python",
   "name": "python",
   "nbconvert_exporter": "python",
   "pygments_lexer": "ipython2",
   "version": "2.7.11"
  }
 },
 "nbformat": 4,
 "nbformat_minor": 0
}
