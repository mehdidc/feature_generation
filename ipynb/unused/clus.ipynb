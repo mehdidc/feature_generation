{
 "cells": [
  {
   "cell_type": "code",
   "execution_count": 1,
   "metadata": {
    "collapsed": true
   },
   "outputs": [],
   "source": [
    "import os\n",
    "import sys\n",
    "import numpy as np\n",
    "os.environ[\"THEANO_FLAGS\"] = \"device=cpu\"\n",
    "sys.path.append(os.getcwd()+\"/..\")\n",
    "from lightjob.cli import load_db\n",
    "from collections import Counter\n",
    "import glob\n",
    "db = load_db()"
   ]
  },
  {
   "cell_type": "code",
   "execution_count": 2,
   "metadata": {
    "collapsed": true
   },
   "outputs": [],
   "source": [
    "def hash_matrix_to_int(hm):\n",
    "    cnt = Counter(hm)\n",
    "    s = np.argsort(cnt.values())[::-1]\n",
    "    K = cnt.keys()\n",
    "    K = [K[s[i]] for i in range(len(K))]\n",
    "    K_to_int = {k: i + 1 for i, k in enumerate(K)}\n",
    "    x = [K_to_int[v] for v in hm]\n",
    "    x = np.array(x)\n",
    "    return x\n",
    "\n",
    "\n",
    "def unique_indices(hm):\n",
    "    K = {}\n",
    "    for i, h in enumerate(hm):\n",
    "        if h not in K:\n",
    "            K[h] = i\n",
    "    return K.values()\n",
    "\n",
    "def get_images(filenames):\n",
    "    from skimage.io import imread\n",
    "    for f in filenames:\n",
    "        im = imread(f)\n",
    "        im = 2 * (im / im.max()) - 1\n",
    "        assert set(im.flatten().tolist()) <= set([1, -1]), set(im.flatten().tolist())\n",
    "        yield im"
   ]
  },
  {
   "cell_type": "code",
   "execution_count": 3,
   "metadata": {
    "collapsed": false
   },
   "outputs": [],
   "source": [
    "s = 'd6ada23433955628d3a893310d3287f5'\n",
    "job = db.get_job_by_summary(s)\n",
    "job_folder = \"../jobs/results/{}\".format(s)\n",
    "hash_matrix_filename = os.path.join(job_folder, \"csv\", \"hashmatrix.npy\")\n",
    "hash_matrix = np.load(hash_matrix_filename)\n",
    "x = hash_matrix_to_int(hash_matrix)"
   ]
  },
  {
   "cell_type": "code",
   "execution_count": 4,
   "metadata": {
    "collapsed": false
   },
   "outputs": [],
   "source": [
    "filenames = glob.glob(os.path.join(job_folder, 'final', '*.png'))\n",
    "filenames = sorted(filenames)\n",
    "indices = unique_indices(hash_matrix)\n",
    "filenames = [filenames[ind] for ind in indices]"
   ]
  },
  {
   "cell_type": "code",
   "execution_count": 5,
   "metadata": {
    "collapsed": true
   },
   "outputs": [],
   "source": [
    "X = []\n",
    "for im in get_images(filenames):\n",
    "    X.append([im])\n",
    "X = np.concatenate(X, axis=0)\n",
    "X = X.reshape((X.shape[0], -1))"
   ]
  },
  {
   "cell_type": "code",
   "execution_count": 6,
   "metadata": {
    "collapsed": false
   },
   "outputs": [],
   "source": [
    "from sklearn.manifold import Isomap"
   ]
  },
  {
   "cell_type": "code",
   "execution_count": 7,
   "metadata": {
    "collapsed": false
   },
   "outputs": [
    {
     "data": {
      "text/plain": [
       "Isomap(eigen_solver='auto', max_iter=None, n_components=2, n_neighbors=5,\n",
       "    neighbors_algorithm='auto', path_method='auto', tol=0)"
      ]
     },
     "execution_count": 7,
     "metadata": {},
     "output_type": "execute_result"
    }
   ],
   "source": [
    "manif = Isomap(n_components=2)\n",
    "manif.fit(X)"
   ]
  },
  {
   "cell_type": "code",
   "execution_count": null,
   "metadata": {
    "collapsed": true
   },
   "outputs": [],
   "source": []
  }
 ],
 "metadata": {
  "kernelspec": {
   "display_name": "Python 2",
   "language": "python",
   "name": "python2"
  },
  "language_info": {
   "codemirror_mode": {
    "name": "ipython",
    "version": 2
   },
   "file_extension": ".py",
   "mimetype": "text/x-python",
   "name": "python",
   "nbconvert_exporter": "python",
   "pygments_lexer": "ipython2",
   "version": "2.7.11"
  }
 },
 "nbformat": 4,
 "nbformat_minor": 0
}
