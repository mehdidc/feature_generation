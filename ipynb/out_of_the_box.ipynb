{
 "cells": [
  {
   "cell_type": "code",
   "execution_count": 3,
   "metadata": {
    "collapsed": false
   },
   "outputs": [
    {
     "name": "stderr",
     "output_type": "stream",
     "text": [
      "Using gpu device 0: Tesla K20Xm (CNMeM is enabled with initial size: 95.0% of memory, cuDNN 5005)\n",
      "/home/mcherti/work/code/external/scikit-learn/sklearn/cross_validation.py:44: DeprecationWarning: This module was deprecated in version 0.18 in favor of the model_selection module into which all the refactored classes and functions are moved. Also note that the interface of the new CV iterators are different from that of this module. This module will be removed in 0.20.\n",
      "  \"This module will be removed in 0.20.\", DeprecationWarning)\n",
      "Using Theano backend.\n"
     ]
    }
   ],
   "source": [
    "%matplotlib inline\n",
    "import os\n",
    "os.environ['THEANO_FLAGS'] = 'device=gpu,compiledir=.gpu'\n",
    "#os.environ['THEANO_FLAGS'] = 'device=cpu,compiledir=.cpu'\n",
    "\n",
    "import sys\n",
    "sys.path.append('..')\n",
    "import matplotlib.pyplot as plt\n",
    "from tools.common import disp_grid\n",
    "from IPython.display import Image\n",
    "from skimage.io import imsave\n",
    "\n",
    "from keras.models import model_from_json\n",
    "import os\n",
    "import joblib\n",
    "import numpy as np\n",
    "from lightjob.cli import load_db\n",
    "#from skimage.io import imread\n",
    "from tools.common import find_generation_job, find_training_job, to_generation, compute_sample_objectness, resize_set\n",
    "from IPython.display import Image, display\n",
    "from lightjob.cli import load_db\n",
    "from lightjob.db import SUCCESS\n",
    "import pandas as pd\n",
    "import h5py\n",
    "import cv2\n",
    "\n",
    "from skimage.transform import resize\n",
    "\n",
    "from sklearn.model_selection import RandomizedSearchCV\n",
    "from scipy.stats import randint\n",
    "from joblib.parallel import delayed, Parallel\n",
    "from sklearn.neighbors import NearestNeighbors\n",
    "\n",
    "\n",
    "def disp_pred(pred, h=20, w=100, y0=25, fontsize=0.9):\n",
    "    nb_classes = len(pred)\n",
    "    img = np.zeros((nb_classes * h, w, 3))\n",
    "    cv2.rectangle(img,(0,0),(img.shape[1],img.shape[0]),(0.3,0.3,0.3),3)\n",
    "    pad = 0\n",
    "    col = [[0, 0, 1]] * nb_classes\n",
    "    for i in range(nb_classes):\n",
    "        p = int(w * pred[i])\n",
    "        img[i*(h+pad):i*(h+pad)+h, 0:p, :] = col[i]\n",
    "    font = cv2.FONT_HERSHEY_SIMPLEX\n",
    "    for i in range(nb_classes):\n",
    "        cv2.putText(img,str(i),(10,y0+h*i), font, fontsize,(1,1,1),1,cv2.LINE_AA)\n",
    "        cv2.rectangle(img,(0, i*(h+pad)),(w, i*(h+pad)+h),(0.3,0.3,0.3),2)\n",
    "\n",
    "    return img\n",
    "\n",
    "def disp_grid_with_pred(img, preds, h=30, w=200, y0=25, fontsize=0.9):\n",
    "    img = resize_set(img, 100, 100)\n",
    "    img_ = np.zeros((img.shape[0], 3, img.shape[2]*2, img.shape[3]*2))\n",
    "    img_[:, :, 0:img.shape[2], 0:img.shape[3]] = img[:, :, :, :]\n",
    "    for i, pr in enumerate(preds):\n",
    "        text= disp_pred(pr, h=h, w=w, y0=y0, fontsize=fontsize)\n",
    "        text = resize(text, (img.shape[2], img.shape[3]))\n",
    "        text = text.transpose((2, 0, 1))\n",
    "        img_[i, :, 0:img.shape[2], img.shape[3]:] = text\n",
    "    img_ = disp_grid(img_)\n",
    "    return img_\n",
    "\n",
    "from tools.common import resize_set\n",
    "import shutil\n",
    "from tools.common import compute_objectness, compute_objectness_renyi, compute_sample_objectness, compute_sample_objectness_renyi\n",
    "def load_h5(filename):\n",
    "    f = h5py.File(filename)\n",
    "    X = f['X']\n",
    "    nb = f.attrs['nb']\n",
    "    X = X[0:nb]\n",
    "    X = np.array(X)\n",
    "    X = X[np.isnan(X).sum(axis=(1,2,3))==0]\n",
    "    return X"
   ]
  },
  {
   "cell_type": "code",
   "execution_count": 152,
   "metadata": {
    "collapsed": false
   },
   "outputs": [],
   "source": [
    "model_folder = '../tools/models/external/fonts_and_digits'\n",
    "arch = (open(os.path.join(model_folder, 'model.json'))).read()\n",
    "#arch = arch.replace('softmax', 'linear')\n",
    "model = model_from_json(arch)\n",
    "model.load_weights(os.path.join(model_folder, 'model.pkl'))"
   ]
  },
  {
   "cell_type": "markdown",
   "metadata": {},
   "source": [
    "## checking all generated"
   ]
  },
  {
   "cell_type": "code",
   "execution_count": 153,
   "metadata": {
    "collapsed": false
   },
   "outputs": [],
   "source": [
    "#X = load_h5('../exported_data/datasets/jobset83.hdf5')\n",
    "#X = load_h5('../exported_data/datasets/jobset76.hdf5')"
   ]
  },
  {
   "cell_type": "code",
   "execution_count": 167,
   "metadata": {
    "collapsed": false
   },
   "outputs": [],
   "source": [
    "names = ['aa', 'gan']\n",
    "load_data = [\n",
    "    #lambda:load_h5('../exported_data/datasets/jobset83.hdf5')[500000:1000000],\n",
    "    lambda:joblib.load('../jobs/results/517302ec5da070804fd729e9bd44fdc8/images.npz')[:,-1],\n",
    "    lambda:joblib.load('/home/mcherti/dcgan/jobs/5a91ac06f1c52a41c2d43cb6423404d5/gen.npz')[0:1000]\n",
    "]\n",
    "\n"
   ]
  },
  {
   "cell_type": "code",
   "execution_count": 168,
   "metadata": {
    "collapsed": false
   },
   "outputs": [
    {
     "name": "stdout",
     "output_type": "stream",
     "text": [
      "CPU times: user 750 ms, sys: 200 ms, total: 950 ms\n",
      "Wall time: 956 ms\n"
     ]
    }
   ],
   "source": [
    "%%time\n",
    "preds_per_dataset = {}\n",
    "datasets = {}\n",
    "for name, d in zip(names, load_data):\n",
    "    X = d()\n",
    "    datasets[name] = X\n",
    "    batch_size = 2048\n",
    "    preds = []\n",
    "    for i in range(0, len(X), batch_size):\n",
    "        x = X[i:i+batch_size]\n",
    "        preds.append(model.predict(x))\n",
    "    preds = np.concatenate(preds, axis=0)\n",
    "    preds_per_dataset[name] = preds"
   ]
  },
  {
   "cell_type": "code",
   "execution_count": 169,
   "metadata": {
    "collapsed": false
   },
   "outputs": [
    {
     "name": "stdout",
     "output_type": "stream",
     "text": [
      "(1000, 36)\n"
     ]
    }
   ],
   "source": [
    "print(preds_per_dataset['gan'].shape)"
   ]
  },
  {
   "cell_type": "code",
   "execution_count": 170,
   "metadata": {
    "collapsed": false
   },
   "outputs": [
    {
     "data": {
      "text/plain": [
       "<matplotlib.lines.Line2D at 0x7f79300be490>"
      ]
     },
     "execution_count": 170,
     "metadata": {},
     "output_type": "execute_result"
    },
    {
     "data": {
      "image/png": "[encoded data removed]",
      "text/plain": [
       "<matplotlib.figure.Figure at 0x7f7923b41790>"
      ]
     },
     "metadata": {},
     "output_type": "display_data"
    }
   ],
   "source": [
    "import seaborn as sns\n",
    "from collections import defaultdict\n",
    "\n",
    "classes = '0123456789abcdefghijklmnopqrstuvwxyz'\n",
    "\n",
    "def get_df(p, name):\n",
    "    df = pd.DataFrame()\n",
    "    df['argmax'] = map(lambda k:classes[k], p.argmax(axis=1))\n",
    "    df['argmax_count'] = [1./len(p)] * len(p)\n",
    "    df['model'] = [name] * len(p)\n",
    "    return df\n",
    "\n",
    "df_aa = get_df(preds_per_dataset['aa'], 'aa')\n",
    "df_gan = get_df(preds_per_dataset['gan'], 'gan')\n",
    "#df = pd.concat((df_aa, df_gan))\n",
    "df = df_aa\n",
    "fig = plt.figure(figsize=(20, 10))\n",
    "ax = sns.barplot(x=\"argmax\", y=\"argmax_count\", hue='model', data=df, estimator=lambda x:x.sum(), order=classes)\n",
    "plt.xlabel('class')\n",
    "plt.ylabel('freq')\n",
    "plt.axvline(x=9.5, c='red')"
   ]
  },
  {
   "cell_type": "code",
   "execution_count": 171,
   "metadata": {
    "collapsed": false
   },
   "outputs": [
    {
     "data": {
      "image/png": "[encoded data removed]",
      "text/plain": [
       "<IPython.core.display.Image object>"
      ]
     },
     "execution_count": 171,
     "metadata": {},
     "output_type": "execute_result"
    }
   ],
   "source": [
    "#n = 'abcdefghijklmnopqrstuvwxyz'.index('c')\n",
    "n = 3\n",
    "indices = np.arange(len(datasets['aa']))\n",
    "#indices = indices[compute_objectness(preds)>0.1]\n",
    "p=preds_per_dataset['aa'][:, n]\n",
    "indices = indices[np.argsort(p[indices])[::-1]]\n",
    "#indices = indices[p[indices]>0.5]\n",
    "img = datasets['aa'][indices]\n",
    "img = disp_grid(img[0:4], border=1, bordercolor=(0.3, 0, 0))\n",
    "imsave('imgs/out.png', img)\n",
    "Image('imgs/out.png')"
   ]
  },
  {
   "cell_type": "code",
   "execution_count": 187,
   "metadata": {
    "collapsed": false,
    "scrolled": true
   },
   "outputs": [
    {
     "data": {
      "image/png": "[encoded data removed]",
      "text/plain": [
       "<IPython.core.display.Image object>"
      ]
     },
     "execution_count": 187,
     "metadata": {},
     "output_type": "execute_result"
    }
   ],
   "source": [
    "nb_classes = 26\n",
    "nbrows = 6\n",
    "nbcols = 6\n",
    "border = 1\n",
    "space = 10\n",
    "scores = {}\n",
    "SIZE = 4\n",
    "s = (28+border) * SIZE + border\n",
    "MODEL = 'aa'\n",
    "ims = {}\n",
    "letters = {}\n",
    "classes = '0123456789abcdefghijklmnopqrstuvwxyz'\n",
    "img_all = np.ones((nbrows * (s+space), nbcols * (s+space)  ))\n",
    "for i in range(nbrows):\n",
    "    for j in range(nbcols):\n",
    "        indices = np.arange(len(datasets[MODEL]))\n",
    "        if i*nbcols+j>=nb_classes:\n",
    "            break\n",
    "        pr_all = preds_per_dataset[MODEL]\n",
    "        p=preds_per_dataset[MODEL][:, i*nbcols+j]        \n",
    "        indices = np.arange(len(datasets[MODEL]))\n",
    "        indices = indices[np.argsort(p[indices])[::-1]]\n",
    "        #indices = indices[pr_all[indices][:, 10:].sum(axis=1)>0.95]\n",
    "        img = datasets[MODEL][indices[0:SIZE*SIZE]]\n",
    "        scores[i*nbcols+j] = p[indices].copy()\n",
    "        #print(p[indices][0:16])\n",
    "        #letters[classes[i*nbcols+j]] = img[np.random.randint(0, 4)]\n",
    "        #letters[classes[i*nbcols+j]] = img[manual[classes[i*nbcols+j]]]\n",
    "        letters[classes[i*nbcols+j]] = img[0]\n",
    "        img = disp_grid(img[0:SIZE*SIZE], border=border, bordercolor=(0.3, 0, 0), shape=(SIZE,SIZE))\n",
    "        img_all[i*(s+space):i*(s+space) + s, j*(s+space):j*(s+space) + s] = img[:,:,0]\n",
    "#img_all = 1 - img_all\n",
    "imsave('imgs/all.png', img_all)\n",
    "Image('imgs/all.png')"
   ]
  },
  {
   "cell_type": "code",
   "execution_count": 189,
   "metadata": {
    "collapsed": false
   },
   "outputs": [
    {
     "data": {
      "image/png": "[encoded data removed]",
      "text/plain": [
       "<IPython.core.display.Image object>"
      ]
     },
     "metadata": {},
     "output_type": "display_data"
    },
    {
     "data": {
      "image/png": "[encoded data removed]",
      "text/plain": [
       "<IPython.core.display.Image object>"
      ]
     },
     "metadata": {},
     "output_type": "display_data"
    },
    {
     "data": {
      "image/png": "[encoded data removed]",
      "text/plain": [
       "<IPython.core.display.Image object>"
      ]
     },
     "metadata": {},
     "output_type": "display_data"
    },
    {
     "data": {
      "image/png": "[encoded data removed]",
      "text/plain": [
       "<IPython.core.display.Image object>"
      ]
     },
     "metadata": {},
     "output_type": "display_data"
    },
    {
     "data": {
      "image/png": "[encoded data removed]",
      "text/plain": [
       "<IPython.core.display.Image object>"
      ]
     },
     "metadata": {},
     "output_type": "display_data"
    },
    {
     "data": {
      "image/png": "[encoded data removed]",
      "text/plain": [
       "<IPython.core.display.Image object>"
      ]
     },
     "metadata": {},
     "output_type": "display_data"
    }
   ],
   "source": [
    "\n",
    "pan = [\n",
    "    \"Pack my box with five dozen liquor jugs\".lower(),\n",
    "    \"Jackdaws love my big sphinx of quartz\".lower(),\n",
    "    \"The five boxing wizards jump quickly.\".lower(),\n",
    "    \"How vexingly quick daft zebras jump\".lower(),\n",
    "    \"Bright vixens jump dozy fowl quack\".lower(),\n",
    "    \"Sphinx of black quartz, judge my vow\".lower(),\n",
    "]\n",
    "for s in pan:\n",
    "    pangram = np.zeros((28 , 28 * len(s)))\n",
    "    i = 0\n",
    "    for l in s:\n",
    "        if l not in letters:\n",
    "            i += 28\n",
    "            continue\n",
    "        pangram[0:28, i:i+28] = letters[l]\n",
    "\n",
    "        i += 24\n",
    "    pangram = 1 - pangram\n",
    "    imsave('out.png', pangram)\n",
    "    display(Image('out.png'))"
   ]
  },
  {
   "cell_type": "markdown",
   "metadata": {},
   "source": [
    "## checking stats of jobs"
   ]
  },
  {
   "cell_type": "code",
   "execution_count": null,
   "metadata": {
    "collapsed": false
   },
   "outputs": [],
   "source": [
    "db = load_db()\n",
    "jobs = db.jobs_with(state=SUCCESS, where='jobset83')\n",
    "S = [j['summary'] for j in jobs]\n",
    "jobs_gen = to_generation(jobs)"
   ]
  },
  {
   "cell_type": "code",
   "execution_count": 190,
   "metadata": {
    "collapsed": false
   },
   "outputs": [],
   "source": [
    "k = 'stats.out_of_the_box_classification.fonts.objectness'\n",
    "jobs_gen = to_generation(jobs)\n",
    "\n",
    "def sort_by(jobs, k):\n",
    "    indices = np.arange(len(jobs_gen))\n",
    "    def key(i):\n",
    "        val = db.get_value(jobs_gen[i], k, if_not_found=None)\n",
    "        if val is None or np.isnan(val):\n",
    "            val = -np.inf\n",
    "        return val\n",
    "    indices = sorted(indices, key=key)\n",
    "    vals = [key(ind) for ind in indices]\n",
    "    return indices[::-1], vals[::-1]\n",
    "\n",
    "indices, vals = sort_by(jobs, k)"
   ]
  },
  {
   "cell_type": "code",
   "execution_count": 53,
   "metadata": {
    "collapsed": false
   },
   "outputs": [],
   "source": [
    "nb = 20\n",
    "k1 = 'stats.out_of_the_box_classification.fonts.objectness'\n",
    "indices, vals = sort_by(jobs, k1)\n",
    "s1 = [jobs[ind]['summary'] for ind in indices[0:nb]]\n",
    "k2 = 'stats.out_of_the_box_classification.letterness.diversity_count_letters_99'\n",
    "indices, vals = sort_by(jobs, k2)\n",
    "s2 = [jobs[ind]['summary'] for ind in indices[0:nb]]\n",
    "k3 = 'stats.out_of_the_box_classification.letterness.diversity_max_letters'\n",
    "indices, vals = sort_by(jobs, k3)\n",
    "s3 = [jobs[ind]['summary'] for ind in indices[0:nb]]"
   ]
  },
  {
   "cell_type": "code",
   "execution_count": 54,
   "metadata": {
    "collapsed": false
   },
   "outputs": [
    {
     "name": "stdout",
     "output_type": "stream",
     "text": [
      "6\n"
     ]
    }
   ],
   "source": [
    "print(len(set(s1).intersection(set(s2))))"
   ]
  },
  {
   "cell_type": "code",
   "execution_count": 55,
   "metadata": {
    "collapsed": false
   },
   "outputs": [
    {
     "name": "stdout",
     "output_type": "stream",
     "text": [
      "[u'bf163f76cb795fe33aaee7f2f2db136a', u'94d0ef43db9fbcd674207c6cc7803983', u'30b833a0b781f2a4c0f736347956b268', u'c8be08dae7874f162d68dad856f73fcc', u'1b5f929796b52352a009ab37f602bfbf', u'6c761ed85005ba530a636fcc2a751c1d']\n"
     ]
    }
   ],
   "source": [
    "#m = list((set(s1).intersection(set(s2)).intersection(set(s3))  ))\n",
    "m = list(set(s1).intersection(s2))\n",
    "print(m)"
   ]
  },
  {
   "cell_type": "code",
   "execution_count": 582,
   "metadata": {
    "collapsed": false
   },
   "outputs": [
    {
     "ename": "IndexError",
     "evalue": "list index out of range",
     "output_type": "error",
     "traceback": [
      "\u001b[0;31m---------------------------------------------------------------------------\u001b[0m",
      "\u001b[0;31mIndexError\u001b[0m                                Traceback (most recent call last)",
      "\u001b[0;32m<ipython-input-582-8f3e6b6ff6af>\u001b[0m in \u001b[0;36m<module>\u001b[0;34m()\u001b[0m\n\u001b[1;32m      1\u001b[0m \u001b[0mI\u001b[0m \u001b[0;34m=\u001b[0m \u001b[0;36m8\u001b[0m\u001b[0;34m\u001b[0m\u001b[0m\n\u001b[0;32m----> 2\u001b[0;31m \u001b[0mdb\u001b[0m\u001b[0;34m.\u001b[0m\u001b[0mget_job_by_summary\u001b[0m\u001b[0;34m(\u001b[0m\u001b[0mm\u001b[0m\u001b[0;34m[\u001b[0m\u001b[0mI\u001b[0m\u001b[0;34m]\u001b[0m\u001b[0;34m)\u001b[0m\u001b[0;34m[\u001b[0m\u001b[0;34m'content'\u001b[0m\u001b[0;34m]\u001b[0m\u001b[0;34m[\u001b[0m\u001b[0;34m'model_params'\u001b[0m\u001b[0;34m]\u001b[0m\u001b[0;34m,\u001b[0m \u001b[0mm\u001b[0m\u001b[0;34m[\u001b[0m\u001b[0mI\u001b[0m\u001b[0;34m]\u001b[0m\u001b[0;34m\u001b[0m\u001b[0m\n\u001b[0m",
      "\u001b[0;31mIndexError\u001b[0m: list index out of range"
     ]
    }
   ],
   "source": [
    "I = 8\n",
    "db.get_job_by_summary(m[I])['content']['model_params'], m[I]"
   ]
  },
  {
   "cell_type": "code",
   "execution_count": 633,
   "metadata": {
    "collapsed": true
   },
   "outputs": [],
   "source": [
    "from tools.common import find_generation_job"
   ]
  },
  {
   "cell_type": "code",
   "execution_count": 636,
   "metadata": {
    "collapsed": false
   },
   "outputs": [
    {
     "name": "stdout",
     "output_type": "stream",
     "text": [
      "34f7060e2642a9074949c7e71504d52b\n",
      "efe730bdb99d27bee849e0bb406cfad7\n",
      "517302ec5da070804fd729e9bd44fdc8\n",
      "e527e0b59433177b40e1a6d3f63dbd45\n",
      "0701e9403f58d63905f45f38f7e1b466\n"
     ]
    }
   ],
   "source": [
    "# Intersect on s1 and s2, top 20, AA\n",
    "summaries = [\n",
    "    '9c5cc9c315ad13f6e1151200f885d54a',\n",
    "    'a3a97a790acf41b122a94af93834a301',\n",
    "    '1b5f929796b52352a009ab37f602bfbf', # used\n",
    "    '0396380c8787034efd079b32a51d9dd6', #used\n",
    "    '6c761ed85005ba530a636fcc2a751c1d',#used\n",
    "]\n",
    "# \n",
    "gen_summ = [\n",
    "    find_generation_job(s)['summary']\n",
    "    for s in summaries\n",
    "]\n",
    "for s in gen_summ:\n",
    "    print(s)"
   ]
  },
  {
   "cell_type": "code",
   "execution_count": 676,
   "metadata": {
    "collapsed": false
   },
   "outputs": [
    {
     "name": "stdout",
     "output_type": "stream",
     "text": [
      "{u'binarize_thresh': None, u'noise': u'salt_and_pepper', u'budget_hours': 2, u'model_params': {u'nb_hidden_units': [400, 900, 100, 200, 800], u'wta_sparse_perc': 0.05050505050505051, u'nb_layers': 5, u'use_wta_sparse': True}, u'denoise': 0.14141414141414144, u'dataset': u'digits', u'contractive_coef': None, u'walkback': 1, u'marginalized': False, u'autoencoding_loss': u'squared_error', u'walkback_mode': u'bengio_without_sampling', u'contractive': False, u'model_name': u'model64'}\n",
      "{u'binarize_thresh': None, u'noise': u'salt_and_pepper', u'budget_hours': 2, u'model_params': {u'nb_hidden_units': [800, 700, 200, 800, 1000], u'wta_sparse_perc': 0.9292929292929294, u'nb_layers': 5, u'use_wta_sparse': True}, u'denoise': 0.005050505050505051, u'dataset': u'digits', u'contractive_coef': None, u'walkback': 1, u'marginalized': False, u'autoencoding_loss': u'squared_error', u'walkback_mode': u'bengio_without_sampling', u'contractive': False, u'model_name': u'model64'}\n",
      "{u'binarize_thresh': None, u'noise': None, u'budget_hours': 2, u'model_params': {u'nb_hidden_units': [1000, 400, 100, 900, 800], u'wta_sparse_perc': 0.8383838383838385, u'nb_layers': 5, u'use_wta_sparse': True}, u'denoise': None, u'dataset': u'digits', u'contractive_coef': None, u'walkback': 1, u'marginalized': False, u'autoencoding_loss': u'squared_error', u'walkback_mode': u'bengio_without_sampling', u'contractive': False, u'model_name': u'model64'}\n"
     ]
    }
   ],
   "source": [
    "for s in summaries[2:]:\n",
    "    print(db.get_job_by_summary(s)['content'])"
   ]
  },
  {
   "cell_type": "code",
   "execution_count": 698,
   "metadata": {
    "collapsed": false
   },
   "outputs": [],
   "source": [
    "field = 'stats.out_of_the_box_classification.letterness.count_fonts'\n",
    "indices = np.arange(len(jobs))\n",
    "for i in range(len(jobs_gen)):\n",
    "    j = jobs_gen[i]\n",
    "    v = db.get_value(j, field, if_not_found=None)\n",
    "    #if not v:print('Misssing generation jobs from training job : {}, skip it.'.format(jobs[i]['summary']))"
   ]
  },
  {
   "cell_type": "code",
   "execution_count": 183,
   "metadata": {
    "collapsed": false
   },
   "outputs": [],
   "source": [
    "indices = np.arange(len(jobs))\n",
    "objectness = map(lambda j:db.get_value(j, field, if_not_found=np.nan), jobs_gen)\n",
    "objectness = np.array(objectness)\n",
    "indices = filter(lambda ind:not np.isnan(objectness[ind]), indices)\n",
    "indices = sorted(indices, key=lambda i:objectness[i])\n",
    "indices = indices[::-1]\n",
    "images = ['../exported_data/figs/generated/jobset{:05d}/{}.png'.format(int(jobs[i]['where'][6:]), jobs_gen[i]['summary']) \n",
    "          for i in indices]\n",
    "for i in range(len(images)):\n",
    "    #print(jobs_gen[indices[i]]['summary'])\n",
    "    shutil.copy(images[i], 'export/{:05d}.png'.format(i))\n",
    "    #if i<20:\n",
    "    #    display(Image(images[i], width=600, height=600))"
   ]
  },
  {
   "cell_type": "code",
   "execution_count": null,
   "metadata": {
    "collapsed": true
   },
   "outputs": [],
   "source": [
    "## images = joblib.load('../jobs/results/a7080dba22d7e429bf70bf4c1899dc32/images.npz')\n",
    "images = images[:, -1]\n",
    "print(images.sum())\n",
    "print(images.shape)\n",
    "images = images #/ float(images.max())\n",
    "print(images.min(), images.max())\n",
    "print(images.sum())\n",
    "pr = model.predict(images)"
   ]
  },
  {
   "cell_type": "code",
   "execution_count": 212,
   "metadata": {
    "collapsed": false
   },
   "outputs": [],
   "source": [
    "import numpy as np\n",
    "fonts = np.load('/home/mcherti/work/data/fonts/fonts.npz')\n",
    "fonts_X = fonts['X']\n",
    "fonts_X = fonts_X / 255.\n",
    "fx = fonts_X[0:1000]\n",
    "fx = resize_set(fx, 28, 28)\n",
    "fx = 1 - fx"
   ]
  },
  {
   "cell_type": "code",
   "execution_count": 220,
   "metadata": {
    "collapsed": true
   },
   "outputs": [],
   "source": [
    "pr = model.predict(fx)"
   ]
  },
  {
   "cell_type": "code",
   "execution_count": 242,
   "metadata": {
    "collapsed": true
   },
   "outputs": [],
   "source": [
    "def entropy(x):\n",
    "    return -np.dot(x, np.log(x))"
   ]
  },
  {
   "cell_type": "code",
   "execution_count": 256,
   "metadata": {
    "collapsed": false
   },
   "outputs": [
    {
     "name": "stdout",
     "output_type": "stream",
     "text": [
      "1.93928339685\n"
     ]
    }
   ],
   "source": [
    "pred_proba_letters = pr[:, 10:]\n",
    "theta = 0.9\n",
    "selected_letters = (pred_proba_letters.max(axis=1) > theta)\n",
    "ent = entropy(probas_from_occurences(pred_proba_letters[selected_letters].argmax(axis=1))) / np.log(26)\n",
    "print(selected_letters.mean() + ent)"
   ]
  },
  {
   "cell_type": "code",
   "execution_count": 118,
   "metadata": {
    "collapsed": false
   },
   "outputs": [
    {
     "data": {
      "text/plain": [
       "1.0000052452087402"
      ]
     },
     "execution_count": 118,
     "metadata": {},
     "output_type": "execute_result"
    }
   ],
   "source": [
    "def compute_objectness(v):\n",
    "    v = np.array(v)\n",
    "    marginal = v.mean(axis=0)\n",
    "    score = v * np.log(v / marginal)\n",
    "    score = score.sum(axis=1).mean()\n",
    "    score = np.exp(score)\n",
    "    score = float(score)\n",
    "    return score\n",
    "compute_objectness(pr)"
   ]
  },
  {
   "cell_type": "markdown",
   "metadata": {},
   "source": [
    "## objectness score"
   ]
  },
  {
   "cell_type": "code",
   "execution_count": 79,
   "metadata": {
    "collapsed": false
   },
   "outputs": [],
   "source": [
    "objectness = compute_sample_objectness_renyi(preds)"
   ]
  },
  {
   "cell_type": "code",
   "execution_count": 80,
   "metadata": {
    "collapsed": false
   },
   "outputs": [],
   "source": [
    "ind = np.argsort(objectness)[::-1]\n",
    "X_sorted = X[ind]\n",
    "preds_sorted = preds[ind]\n",
    "objectness_sorted = objectness[ind]"
   ]
  },
  {
   "cell_type": "code",
   "execution_count": 81,
   "metadata": {
    "collapsed": false
   },
   "outputs": [],
   "source": [
    "sample = np.arange(len(X))\n",
    "np.random.shuffle(sample)\n",
    "sample = sample[0:100]\n",
    "objectness_sampled = objectness[sample]\n",
    "X_sampled = X[sample]\n",
    "preds_sampled = preds[sample]\n",
    "X_sampled = X_sampled[np.argsort(objectness_sampled)[::-1]]\n",
    "preds_sampled = preds_sampled[np.argsort(objectness_sampled)[::-1]]"
   ]
  },
  {
   "cell_type": "code",
   "execution_count": 82,
   "metadata": {
    "collapsed": false
   },
   "outputs": [
    {
     "data": {
      "image/png": "[encoded data removed]",
      "text/plain": [
       "<IPython.core.display.Image object>"
      ]
     },
     "execution_count": 82,
     "metadata": {
      "image/png": {
       "height": 800,
       "width": 800
      }
     },
     "output_type": "execute_result"
    }
   ],
   "source": [
    "im = disp_grid_with_pred(X_sorted[0::1000], preds_sorted[0::1000], h=200)\n",
    "imsave('imgs/out.png', im)\n",
    "Image('imgs/out.png', width=800, height=800)"
   ]
  },
  {
   "cell_type": "code",
   "execution_count": null,
   "metadata": {
    "collapsed": true
   },
   "outputs": [],
   "source": []
  }
 ],
 "metadata": {
  "kernelspec": {
   "display_name": "Python 2",
   "language": "python",
   "name": "python2"
  },
  "language_info": {
   "codemirror_mode": {
    "name": "ipython",
    "version": 2
   },
   "file_extension": ".py",
   "mimetype": "text/x-python",
   "name": "python",
   "nbconvert_exporter": "python",
   "pygments_lexer": "ipython2",
   "version": "2.7.12"
  }
 },
 "nbformat": 4,
 "nbformat_minor": 0
}
