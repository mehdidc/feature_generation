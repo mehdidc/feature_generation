{
 "cells": [
  {
   "cell_type": "code",
   "execution_count": 1,
   "metadata": {
    "collapsed": false
   },
   "outputs": [
    {
     "name": "stderr",
     "output_type": "stream",
     "text": [
      "/home/mcherti/work/code/external/scikit-learn/sklearn/cross_validation.py:43: DeprecationWarning: This module has been deprecated in favor of the model_selection module into which all the refactored classes and functions are moved. Also note that the interface of the new CV iterators are different from that of this module. This module will be removed in 0.20.\n",
      "  \"This module will be removed in 0.20.\", DeprecationWarning)\n",
      "Using Theano backend.\n"
     ]
    }
   ],
   "source": [
    "%matplotlib inline\n",
    "import sys\n",
    "sys.path.append('..')\n",
    "import matplotlib.pyplot as plt\n",
    "from tools.common import disp_grid\n",
    "from IPython.display import Image\n",
    "from skimage.io import imsave\n",
    "\n",
    "from keras.models import model_from_json\n",
    "import os\n",
    "import joblib\n",
    "import numpy as np\n",
    "from lightjob.cli import load_db\n",
    "#from skimage.io import imread\n",
    "from tools.common import find_generation_job, find_training_job, to_generation\n",
    "from IPython.display import Image, display\n",
    "from lightjob.cli import load_db\n",
    "from lightjob.db import SUCCESS\n",
    "import pandas as pd"
   ]
  },
  {
   "cell_type": "code",
   "execution_count": null,
   "metadata": {
    "collapsed": true
   },
   "outputs": [],
   "source": [
    "db = load_db()\n",
    "jobs = db.jobs_with(state=SUCCESS, where='jobset76')\n",
    "S = [j['summary'] for j in jobs]\n",
    "stats = {s: pd.read_csv('../jobs/results/{}/csv/stats.csv'.format(s)) for s in S}"
   ]
  },
  {
   "cell_type": "markdown",
   "metadata": {},
   "source": [
    "## checking individual job"
   ]
  },
  {
   "cell_type": "code",
   "execution_count": null,
   "metadata": {
    "collapsed": false
   },
   "outputs": [],
   "source": [
    "job_id = '4d8d586688c602b07cd4ab46f1081295'\n",
    "job = db.get_job_by_summary(job_id)\n",
    "folder = '../jobs/results/{}'.format(job_id)\n",
    "data = joblib.load(os.path.join(folder, 'images.npz'))\n",
    "data = data[:, -1] # last time step images\n",
    "model_folder = '../tools/models/mnist/m2'\n",
    "model = model_from_json(open(os.path.join(model_folder, 'model.json')).read())\n",
    "model.load_weights(os.path.join(model_folder, 'model.h5'))"
   ]
  },
  {
   "cell_type": "code",
   "execution_count": null,
   "metadata": {
    "collapsed": false
   },
   "outputs": [],
   "source": [
    "preds = model.predict(data)"
   ]
  },
  {
   "cell_type": "code",
   "execution_count": null,
   "metadata": {
    "collapsed": true
   },
   "outputs": [],
   "source": [
    "CLASS = 1"
   ]
  },
  {
   "cell_type": "code",
   "execution_count": null,
   "metadata": {
    "collapsed": false
   },
   "outputs": [],
   "source": [
    "#img = data[ind]\n",
    "img = data\n",
    "#print(img.shape)\n",
    "img = disp_grid(img, border=1, bordercolor=(0.3, 0, 0))"
   ]
  },
  {
   "cell_type": "code",
   "execution_count": null,
   "metadata": {
    "collapsed": false
   },
   "outputs": [],
   "source": [
    "bins = np.linspace(0, 1, 11)\n",
    "bin_index = np.digitize(preds[:, CLASS], bins)"
   ]
  },
  {
   "cell_type": "code",
   "execution_count": null,
   "metadata": {
    "collapsed": false
   },
   "outputs": [],
   "source": [
    "w = data.shape[3] * (len(bins)-1)\n",
    "h = data.shape[2] * (len(bins)*100)\n",
    "IMG = np.ones((h, w))*0.5\n",
    "for i in range(1, len(bins)):\n",
    "    d = data[bin_index==i]\n",
    "    p = preds[bin_index==i, CLASS]\n",
    "    s = np.argsort(p)\n",
    "    p = p[s]\n",
    "    p = p[::-1]\n",
    "    d = d[s]\n",
    "    d = d[::-1]\n",
    "    x = (i-1) * data.shape[3]\n",
    "    y=0\n",
    "    for im in d:\n",
    "        IMG[y:y+data.shape[2], x:x+data.shape[3]] = im[0, :, :]\n",
    "        y+=d.shape[2]\n",
    "    IMG[:, (i-1) * data.shape[3]]=0.3\n",
    "    for y in range(len(d)):\n",
    "        IMG[y*d.shape[2], :]=0.3"
   ]
  },
  {
   "cell_type": "code",
   "execution_count": null,
   "metadata": {
    "collapsed": false
   },
   "outputs": [],
   "source": [
    "plt.hist(preds[:, CLASS])\n",
    "plt.xlabel('proba of {}'.format(CLASS))\n",
    "plt.ylabel('freq')"
   ]
  },
  {
   "cell_type": "code",
   "execution_count": null,
   "metadata": {
    "collapsed": false
   },
   "outputs": [],
   "source": [
    "job['stats']['out_of_the_box_classification']['tools/models/mnist/m2']['objectness']"
   ]
  },
  {
   "cell_type": "code",
   "execution_count": null,
   "metadata": {
    "collapsed": false
   },
   "outputs": [],
   "source": [
    "imsave('out.png',IMG)\n",
    "Image('out.png')"
   ]
  },
  {
   "cell_type": "code",
   "execution_count": null,
   "metadata": {
    "collapsed": false
   },
   "outputs": [],
   "source": [
    "plt.plot((stats[find_training_job(job_id)['summary']]['train_recons_error'] / (28*28.)).dropna(), label='train')\n",
    "plt.plot((stats[find_training_job(job_id)['summary']]['test_recons_error'] / (28*28.)).dropna(), label='test')\n",
    "plt.xlabel('iter')\n",
    "plt.legend()\n",
    "plt.ylabel('reconstruction error')"
   ]
  },
  {
   "cell_type": "markdown",
   "metadata": {},
   "source": [
    "## checking stats of jobs"
   ]
  },
  {
   "cell_type": "code",
   "execution_count": 41,
   "metadata": {
    "collapsed": false
   },
   "outputs": [],
   "source": [
    "db = load_db()\n",
    "jobs = db.jobs_with(state=SUCCESS, where='jobset1')\n",
    "S = [j['summary'] for j in jobs]"
   ]
  },
  {
   "cell_type": "code",
   "execution_count": 42,
   "metadata": {
    "collapsed": false
   },
   "outputs": [],
   "source": [
    "jobs_gen = to_generation(jobs, db=db)"
   ]
  },
  {
   "cell_type": "code",
   "execution_count": 46,
   "metadata": {
    "collapsed": false
   },
   "outputs": [
    {
     "name": "stdout",
     "output_type": "stream",
     "text": [
      "misssing generation jobs from training job : 9f56d2c49990bb7cf1e8b232a91ca902, skip it.\n",
      "misssing generation jobs from training job : c076b19e2c98b8704f75ba49b125d41a, skip it.\n",
      "misssing generation jobs from training job : d6203174d0612a74632fd13d988f6d0a, skip it.\n",
      "misssing generation jobs from training job : 5a59f5a7094a3b585818e8e2117585c7, skip it.\n",
      "misssing generation jobs from training job : 3dd28619d2b1e4d0ba23e19ed2e3cac2, skip it.\n",
      "misssing generation jobs from training job : 5d92040e7606b13496d4284b519e880e, skip it.\n",
      "misssing generation jobs from training job : 0317c5865f7987d1e595e989b05705d8, skip it.\n",
      "misssing generation jobs from training job : d39a5df3d200dc2872ac0287a548a19b, skip it.\n",
      "misssing generation jobs from training job : 67b3101fd1794b4618b3e9ba7fe6a507, skip it.\n",
      "misssing generation jobs from training job : d86c2637d7ef6fc67d1dd1431fbf34f8, skip it.\n",
      "misssing generation jobs from training job : ebbf73f377d6bdde29a6de4a30bbd7ff, skip it.\n",
      "misssing generation jobs from training job : f08e478bd205e6dc08503cb05ae8cc23, skip it.\n",
      "misssing generation jobs from training job : c6c0c46a9350acfadbb7a33ebce4abae, skip it.\n",
      "misssing generation jobs from training job : 9409cf170cfb46c0e48a772dbc4f4c97, skip it.\n",
      "misssing generation jobs from training job : 8e633cb5275a8f1d0121cb47f44c0528, skip it.\n",
      "misssing generation jobs from training job : 71d80326a8558cc1588b98db5e9a0fa6, skip it.\n",
      "misssing generation jobs from training job : f1ff90769cce133ae9331d279e1ea07a, skip it.\n",
      "misssing generation jobs from training job : 3b7ede624fa4f4a3b535464a4aa5f208, skip it.\n",
      "misssing generation jobs from training job : dc90fb3408dad7127b06cc1adefe70d4, skip it.\n",
      "misssing generation jobs from training job : 994b4bc8ab60f6d168dd2863c3153433, skip it.\n",
      "misssing generation jobs from training job : ab211e330bb6176e11f3ba8af2263a4a, skip it.\n",
      "misssing generation jobs from training job : 07c1fced0816e4af673508a549cba0fe, skip it.\n",
      "misssing generation jobs from training job : 3eb3d8e4e8696cd3a95b41824201eedf, skip it.\n",
      "misssing generation jobs from training job : 0288b67cb535b61b3e361b8f3e936e81, skip it.\n",
      "misssing generation jobs from training job : 99365aee90e51447fed4c23558457898, skip it.\n",
      "misssing generation jobs from training job : 23acad69d2f8a55e2227e53d37605b92, skip it.\n",
      "misssing generation jobs from training job : 0ade5b4dc6c55617fb6b8b9f018076db, skip it.\n"
     ]
    }
   ],
   "source": [
    "field = 'stats.out_of_the_box_classification.m2.objectness'\n",
    "indices = np.arange(len(jobs))\n",
    "for i in range(len(jobs_gen)):\n",
    "    j = jobs_gen[i]\n",
    "    v = db.get_value(j, field, if_not_found=None)\n",
    "    if not v:print('Misssing generation jobs from training job : {}, skip it.'.format(jobs[i]['summary']))"
   ]
  },
  {
   "cell_type": "code",
   "execution_count": 47,
   "metadata": {
    "collapsed": false
   },
   "outputs": [
    {
     "name": "stdout",
     "output_type": "stream",
     "text": [
      "[nan None nan nan None None None nan None nan None nan 0.9999531507492065\n",
      " None None nan nan nan nan nan None nan nan nan nan nan nan None None nan\n",
      " None None 0.9999531507492065 None nan None None nan nan None nan None None\n",
      " None 0.9999531507492065 None None 0.9999531507492065 nan None nan nan nan\n",
      " None None nan nan nan nan None nan nan 0.9999531507492065 None]\n"
     ]
    }
   ],
   "source": [
    "field = 'stats.out_of_the_box_classification.m2.objectness'\n",
    "indices = np.arange(len(jobs))\n",
    "objectness = map(lambda j:db.get_value(j, field, if_not_found=None), jobs_gen)\n",
    "objectness = np.array(objectness)\n",
    "print(objectness)\n",
    "indices = sorted(indices, key=lambda i:objectness[i])\n",
    "indices = filter(lambda ind:objectness[ind], indices)\n",
    "indices = indices[::-1]\n",
    "images = ['../exported_data/figs/generated/jobset{:05d}/{}.png'.format(int(jobs[i]['where'][6:]), jobs_gen[i]['summary']) \n",
    "          for i in indices]\n",
    "#for i in range(len(images)):\n",
    "#    display(Image(images[i]))"
   ]
  }
 ],
 "metadata": {
  "kernelspec": {
   "display_name": "Python 2",
   "language": "python",
   "name": "python2"
  },
  "language_info": {
   "codemirror_mode": {
    "name": "ipython",
    "version": 2
   },
   "file_extension": ".py",
   "mimetype": "text/x-python",
   "name": "python",
   "nbconvert_exporter": "python",
   "pygments_lexer": "ipython2",
   "version": "2.7.12"
  }
 },
 "nbformat": 4,
 "nbformat_minor": 0
}
