{
 "cells": [
  {
   "cell_type": "code",
   "execution_count": 1,
   "metadata": {
    "collapsed": false
   },
   "outputs": [
    {
     "name": "stderr",
     "output_type": "stream",
     "text": [
      "Using gpu device 0: Tesla K20Xm (CNMeM is enabled with initial size: 95.0% of memory, cuDNN 5005)\n",
      "/home/mcherti/work/code/external/scikit-learn/sklearn/cross_validation.py:43: DeprecationWarning: This module has been deprecated in favor of the model_selection module into which all the refactored classes and functions are moved. Also note that the interface of the new CV iterators are different from that of this module. This module will be removed in 0.20.\n",
      "  \"This module will be removed in 0.20.\", DeprecationWarning)\n",
      "Using Theano backend.\n"
     ]
    }
   ],
   "source": [
    "%matplotlib inline\n",
    "import os\n",
    "os.environ['THEANO_FLAGS'] = 'device=gpu,compiledir=.gpu'\n",
    "import sys\n",
    "sys.path.append('..')\n",
    "import matplotlib.pyplot as plt\n",
    "from tools.common import disp_grid\n",
    "from IPython.display import Image\n",
    "from skimage.io import imsave\n",
    "\n",
    "from keras.models import model_from_json\n",
    "import os\n",
    "import joblib\n",
    "import numpy as np\n",
    "from lightjob.cli import load_db\n",
    "#from skimage.io import imread\n",
    "from tools.common import find_generation_job, find_training_job, to_generation, compute_sample_objectness, resize_set\n",
    "from IPython.display import Image, display\n",
    "from lightjob.cli import load_db\n",
    "from lightjob.db import SUCCESS\n",
    "import pandas as pd\n",
    "import h5py\n",
    "import cv2\n",
    "\n",
    "from skimage.transform import resize\n",
    "\n",
    "from sklearn.model_selection import RandomizedSearchCV\n",
    "from scipy.stats import randint\n",
    "from joblib.parallel import delayed, Parallel\n",
    "from sklearn.neighbors import NearestNeighbors\n",
    "\n",
    "\n",
    "def disp_pred(pred, h=20, w=100, y0=25, fontsize=0.9):\n",
    "    nb_classes = len(pred)\n",
    "    img = np.zeros((nb_classes * h, w, 3))\n",
    "    cv2.rectangle(img,(0,0),(img.shape[1],img.shape[0]),(0.3,0.3,0.3),3)\n",
    "    pad = 0\n",
    "    col = [[0, 0, 1]] * nb_classes\n",
    "    for i in range(nb_classes):\n",
    "        p = int(w * pred[i])\n",
    "        img[i*(h+pad):i*(h+pad)+h, 0:p, :] = col[i]\n",
    "    font = cv2.FONT_HERSHEY_SIMPLEX\n",
    "    for i in range(nb_classes):\n",
    "        cv2.putText(img,str(i),(10,y0+h*i), font, fontsize,(1,1,1),1,cv2.LINE_AA)\n",
    "        cv2.rectangle(img,(0, i*(h+pad)),(w, i*(h+pad)+h),(0.3,0.3,0.3),2)\n",
    "\n",
    "    return img\n",
    "\n",
    "def disp_grid_with_pred(img, preds, h=30, w=200, y0=25, fontsize=0.9):\n",
    "    img = resize_set(img, 100, 100)\n",
    "    img_ = np.zeros((img.shape[0], 3, img.shape[2]*2, img.shape[3]*2))\n",
    "    img_[:, :, 0:img.shape[2], 0:img.shape[3]] = img[:, :, :, :]\n",
    "    for i, pr in enumerate(preds):\n",
    "        text= disp_pred(pr, h=h, w=w, y0=y0, fontsize=fontsize)\n",
    "        text = resize(text, (img.shape[2], img.shape[3]))\n",
    "        text = text.transpose((2, 0, 1))\n",
    "        img_[i, :, 0:img.shape[2], img.shape[3]:] = text\n",
    "    img_ = disp_grid(img_)\n",
    "    return img_\n",
    "\n",
    "from tools.common import resize_set\n",
    "import shutil\n",
    "from tools.common import compute_objectness, compute_objectness_renyi, compute_sample_objectness, compute_sample_objectness_renyi\n",
    "def load_h5(filename):\n",
    "    f = h5py.File(filename)\n",
    "    X = f['X']\n",
    "    nb = f.attrs['nb']\n",
    "    X = X[0:nb]\n",
    "    X = np.array(X)\n",
    "    X = X[np.isnan(X).sum(axis=(1,2,3))==0]\n",
    "    return X"
   ]
  },
  {
   "cell_type": "code",
   "execution_count": 7,
   "metadata": {
    "collapsed": false
   },
   "outputs": [],
   "source": [
    "model_folder = '../tools/models/external/fonts_and_digits'\n",
    "arch = (open(os.path.join(model_folder, 'model.json'))).read()\n",
    "#arch = arch.replace('softmax', 'linear')\n",
    "model = model_from_json(arch)\n",
    "model.load_weights(os.path.join(model_folder, 'model.pkl'))"
   ]
  },
  {
   "cell_type": "markdown",
   "metadata": {},
   "source": [
    "## checking all generated"
   ]
  },
  {
   "cell_type": "code",
   "execution_count": 135,
   "metadata": {
    "collapsed": false
   },
   "outputs": [],
   "source": [
    "#X = load_h5('../exported_data/datasets/jobset83.hdf5')\n",
    "#X = load_h5('../exported_data/datasets/jobset76.hdf5')"
   ]
  },
  {
   "cell_type": "code",
   "execution_count": 23,
   "metadata": {
    "collapsed": false
   },
   "outputs": [],
   "source": [
    "names = ['aa', 'gan']\n",
    "load_data = [\n",
    "    #lambda:load_h5('../exported_data/datasets/jobset83.hdf5'),\n",
    "    lambda:joblib.load('../jobs/results/332d27a5ec2df2798fa9ed593f148444/images.npz')[:,-1],\n",
    "    lambda:joblib.load('/home/mcherti/dcgan/jobs/54002e5ec1f7de65caa708acffc219ad/gen.npz')\n",
    "]"
   ]
  },
  {
   "cell_type": "code",
   "execution_count": 24,
   "metadata": {
    "collapsed": false
   },
   "outputs": [
    {
     "name": "stdout",
     "output_type": "stream",
     "text": [
      "CPU times: user 1.19 s, sys: 210 ms, total: 1.4 s\n",
      "Wall time: 1.46 s\n"
     ]
    }
   ],
   "source": [
    "%%time\n",
    "preds_per_dataset = {}\n",
    "datasets = {}\n",
    "for name, d in zip(names, load_data):\n",
    "    X = d()\n",
    "    datasets[name] = X\n",
    "    batch_size = 2048\n",
    "    preds = []\n",
    "    for i in range(0, len(X), batch_size):\n",
    "        x = X[i:i+batch_size]\n",
    "        preds.append(model.predict(x))\n",
    "    preds = np.concatenate(preds, axis=0)\n",
    "    preds_per_dataset[name] = preds"
   ]
  },
  {
   "cell_type": "code",
   "execution_count": 25,
   "metadata": {
    "collapsed": false
   },
   "outputs": [
    {
     "data": {
      "text/plain": [
       "<matplotlib.lines.Line2D at 0x7f667644d690>"
      ]
     },
     "execution_count": 25,
     "metadata": {},
     "output_type": "execute_result"
    },
    {
     "data": {
      "image/png": "[encoded data removed]",
      "text/plain": [
       "<matplotlib.figure.Figure at 0x7f6674be0310>"
      ]
     },
     "metadata": {},
     "output_type": "display_data"
    }
   ],
   "source": [
    "import seaborn as sns\n",
    "from collections import defaultdict\n",
    "\n",
    "classes = '0123456789abcdefghijklmnopqrstuvwxyz'\n",
    "\n",
    "def get_df(p, name):\n",
    "    df = pd.DataFrame()\n",
    "    df['argmax'] = map(lambda k:classes[k], p.argmax(axis=1))\n",
    "    df['argmax_count'] = [1./len(p)] * len(p)\n",
    "    df['model'] = [name] * len(p)\n",
    "    return df\n",
    "\n",
    "df_aa = get_df(preds_per_dataset['aa'], 'aa')\n",
    "df_gan = get_df(preds_per_dataset['gan'], 'gan')\n",
    "#df = pd.concat((df_aa, df_gan))\n",
    "df = df_gan\n",
    "fig = plt.figure(figsize=(20, 10))\n",
    "ax = sns.barplot(x=\"argmax\", y=\"argmax_count\", hue='model', data=df, estimator=lambda x:x.sum(), order=classes)\n",
    "plt.xlabel('class')\n",
    "plt.ylabel('freq')\n",
    "plt.axvline(x=9.5, c='red')"
   ]
  },
  {
   "cell_type": "code",
   "execution_count": 15,
   "metadata": {
    "collapsed": false
   },
   "outputs": [
    {
     "ename": "NameError",
     "evalue": "name 'preds_aa' is not defined",
     "output_type": "error",
     "traceback": [
      "\u001b[0;31m---------------------------------------------------------------------------\u001b[0m",
      "\u001b[0;31mNameError\u001b[0m                                 Traceback (most recent call last)",
      "\u001b[0;32m<ipython-input-15-ed832c59f423>\u001b[0m in \u001b[0;36m<module>\u001b[0;34m()\u001b[0m\n\u001b[1;32m     10\u001b[0m     \u001b[0mdf\u001b[0m\u001b[0;34m[\u001b[0m\u001b[0;34m'value'\u001b[0m\u001b[0;34m]\u001b[0m \u001b[0;34m=\u001b[0m \u001b[0mval\u001b[0m\u001b[0;34m\u001b[0m\u001b[0m\n\u001b[1;32m     11\u001b[0m     \u001b[0;32mreturn\u001b[0m \u001b[0mdf\u001b[0m\u001b[0;34m\u001b[0m\u001b[0m\n\u001b[0;32m---> 12\u001b[0;31m \u001b[0mdf_aa\u001b[0m \u001b[0;34m=\u001b[0m \u001b[0mget_df\u001b[0m\u001b[0;34m(\u001b[0m\u001b[0mpreds_aa\u001b[0m\u001b[0;34m,\u001b[0m \u001b[0;34m'aa'\u001b[0m\u001b[0;34m)\u001b[0m\u001b[0;34m\u001b[0m\u001b[0m\n\u001b[0m\u001b[1;32m     13\u001b[0m \u001b[0mdf_gan\u001b[0m \u001b[0;34m=\u001b[0m \u001b[0mget_df\u001b[0m\u001b[0;34m(\u001b[0m\u001b[0mpreds_gan\u001b[0m\u001b[0;34m,\u001b[0m \u001b[0;34m'gan'\u001b[0m\u001b[0;34m)\u001b[0m\u001b[0;34m\u001b[0m\u001b[0m\n\u001b[1;32m     14\u001b[0m \u001b[0mdf\u001b[0m \u001b[0;34m=\u001b[0m \u001b[0mpd\u001b[0m\u001b[0;34m.\u001b[0m\u001b[0mconcat\u001b[0m\u001b[0;34m(\u001b[0m\u001b[0;34m(\u001b[0m\u001b[0mdf_aa\u001b[0m\u001b[0;34m,\u001b[0m \u001b[0mdf_gan\u001b[0m\u001b[0;34m)\u001b[0m\u001b[0;34m)\u001b[0m\u001b[0;34m\u001b[0m\u001b[0m\n",
      "\u001b[0;31mNameError\u001b[0m: name 'preds_aa' is not defined"
     ]
    }
   ],
   "source": [
    "def get_df(p, name):\n",
    "    df = pd.DataFrame()\n",
    "    cl = []\n",
    "    val = []\n",
    "    for i in range(len(classes)):\n",
    "        cl.extend(classes[i] * len(p))\n",
    "        val.extend(p[:, i]/len(p))\n",
    "    df['model'] = [name] * len(val)\n",
    "    df['class'] = cl\n",
    "    df['value'] = val\n",
    "    return df\n",
    "df_aa = get_df(preds_aa, 'aa')\n",
    "df_gan = get_df(preds_gan, 'gan')\n",
    "df = pd.concat((df_aa, df_gan))\n",
    "ax = sns.barplot(x=\"class\", y=\"value\", hue='model', data=df, estimator=lambda x:x.sum(), order=classes)"
   ]
  },
  {
   "cell_type": "code",
   "execution_count": 16,
   "metadata": {
    "collapsed": false
   },
   "outputs": [
    {
     "ename": "NameError",
     "evalue": "name 'counts' is not defined",
     "output_type": "error",
     "traceback": [
      "\u001b[0;31m---------------------------------------------------------------------------\u001b[0m",
      "\u001b[0;31mNameError\u001b[0m                                 Traceback (most recent call last)",
      "\u001b[0;32m<ipython-input-16-19273c426e42>\u001b[0m in \u001b[0;36m<module>\u001b[0;34m()\u001b[0m\n\u001b[0;32m----> 1\u001b[0;31m \u001b[0msns\u001b[0m\u001b[0;34m.\u001b[0m\u001b[0mbarplot\u001b[0m\u001b[0;34m(\u001b[0m\u001b[0mnp\u001b[0m\u001b[0;34m.\u001b[0m\u001b[0marange\u001b[0m\u001b[0;34m(\u001b[0m\u001b[0;36m26\u001b[0m\u001b[0;34m)\u001b[0m\u001b[0;34m,\u001b[0m \u001b[0mcounts\u001b[0m\u001b[0;34m,\u001b[0m \u001b[0mcolor\u001b[0m\u001b[0;34m=\u001b[0m\u001b[0;34m'b'\u001b[0m\u001b[0;34m)\u001b[0m\u001b[0;34m\u001b[0m\u001b[0m\n\u001b[0m",
      "\u001b[0;31mNameError\u001b[0m: name 'counts' is not defined"
     ]
    }
   ],
   "source": [
    "sns.barplot(np.arange(26), counts, color='b')"
   ]
  },
  {
   "cell_type": "code",
   "execution_count": 17,
   "metadata": {
    "collapsed": false
   },
   "outputs": [],
   "source": [
    "#dt = np.load('/home/mcherti/work/data/hwrt/data_50classes.npz')\n",
    "#m = {a: b for a, b in zip(dt['y'], dt['y_str'])}\n",
    "#for cl in m:\n",
    "#    print(cl, m[cl])"
   ]
  },
  {
   "cell_type": "code",
   "execution_count": 30,
   "metadata": {
    "collapsed": false
   },
   "outputs": [
    {
     "data": {
      "image/png": "[encoded data removed]",
      "text/plain": [
       "<IPython.core.display.Image object>"
      ]
     },
     "execution_count": 30,
     "metadata": {},
     "output_type": "execute_result"
    }
   ],
   "source": [
    "#n = 'abcdefghijklmnopqrstuvwxyz'.index('c')\n",
    "n = 3\n",
    "indices = np.arange(len(datasets['aa']))\n",
    "#indices = indices[compute_objectness(preds)>0.1]\n",
    "p=preds_per_dataset['aa'][:, n]\n",
    "indices = indices[np.argsort(p[indices])[::-1]]\n",
    "#indices = indices[p[indices]>0.5]\n",
    "img = datasets['aa'][indices]\n",
    "img = disp_grid(img[0:4], border=1, bordercolor=(0.3, 0, 0))\n",
    "imsave('imgs/out.png', img)\n",
    "Image('imgs/out.png')"
   ]
  },
  {
   "cell_type": "code",
   "execution_count": 31,
   "metadata": {
    "collapsed": false,
    "scrolled": true
   },
   "outputs": [
    {
     "name": "stderr",
     "output_type": "stream",
     "text": [
      "/home/mcherti/miniconda/envs/databoard-env/lib/python2.7/site-packages/numpy/lib/function_base.py:3834: RuntimeWarning: Invalid value encountered in percentile\n",
      "  RuntimeWarning)\n"
     ]
    },
    {
     "data": {
      "image/png": "[encoded data removed]",
      "text/plain": [
       "<IPython.core.display.Image object>"
      ]
     },
     "execution_count": 31,
     "metadata": {},
     "output_type": "execute_result"
    }
   ],
   "source": [
    "nb_classes = 36\n",
    "nbrows = 6\n",
    "nbcols = 6\n",
    "border = 1\n",
    "space = 10\n",
    "scores = {}\n",
    "SIZE =4\n",
    "s = (28+border) * SIZE + border\n",
    "img_all = np.zeros((nbrows * (s+space), nbcols * (s+space)  ))\n",
    "for i in range(nbrows):\n",
    "    for j in range(nbcols):\n",
    "        if i*nbcols+j>=nb_classes:\n",
    "            break\n",
    "        p=preds_per_dataset['aa'][:, i*nbcols+j]        \n",
    "        indices = indices[np.argsort(p[indices])[::-1]]\n",
    "        #indices = indices[p[indices]>0.5]\n",
    "        img = datasets['aa'][indices]\n",
    "        scores[i*nbcols+j] = p[indices].copy()\n",
    "        #print(p[indices][0:16])\n",
    "        img = disp_grid(img[0:SIZE*SIZE], border=border, bordercolor=(0.3, 0, 0), shape=(SIZE,SIZE))\n",
    "        img_all[i*(s+space):i*(s+space) + s, j*(s+space):j*(s+space) + s] = img[:,:,0]\n",
    "imsave('imgs/all.png', img_all)\n",
    "Image('imgs/all.png')"
   ]
  },
  {
   "cell_type": "code",
   "execution_count": 268,
   "metadata": {
    "collapsed": false
   },
   "outputs": [
    {
     "ename": "NameError",
     "evalue": "name 'preds_real' is not defined",
     "output_type": "error",
     "traceback": [
      "\u001b[0;31m---------------------------------------------------------------------------\u001b[0m",
      "\u001b[0;31mNameError\u001b[0m                                 Traceback (most recent call last)",
      "\u001b[0;32m<ipython-input-268-964ff60ab531>\u001b[0m in \u001b[0;36m<module>\u001b[0;34m()\u001b[0m\n\u001b[0;32m----> 1\u001b[0;31m \u001b[0mp_real\u001b[0m\u001b[0;34m=\u001b[0m\u001b[0mpreds_real\u001b[0m\u001b[0;34m[\u001b[0m\u001b[0;34m:\u001b[0m\u001b[0;34m,\u001b[0m \u001b[0;36m5\u001b[0m\u001b[0;34m]\u001b[0m\u001b[0;34m\u001b[0m\u001b[0m\n\u001b[0m\u001b[1;32m      2\u001b[0m \u001b[0mreal\u001b[0m \u001b[0;34m=\u001b[0m \u001b[0mXreal\u001b[0m\u001b[0;34m[\u001b[0m\u001b[0myreal\u001b[0m\u001b[0;34m==\u001b[0m\u001b[0;36m5\u001b[0m\u001b[0;34m]\u001b[0m\u001b[0;34m[\u001b[0m\u001b[0mnp\u001b[0m\u001b[0;34m.\u001b[0m\u001b[0margsort\u001b[0m\u001b[0;34m(\u001b[0m\u001b[0mp_real\u001b[0m\u001b[0;34m[\u001b[0m\u001b[0myreal\u001b[0m \u001b[0;34m==\u001b[0m \u001b[0;36m5\u001b[0m\u001b[0;34m]\u001b[0m\u001b[0;34m)\u001b[0m\u001b[0;34m[\u001b[0m\u001b[0;34m:\u001b[0m\u001b[0;34m:\u001b[0m\u001b[0;34m-\u001b[0m\u001b[0;36m1\u001b[0m\u001b[0;34m]\u001b[0m\u001b[0;34m[\u001b[0m\u001b[0;36m0\u001b[0m\u001b[0;34m:\u001b[0m\u001b[0;36m100\u001b[0m\u001b[0;34m]\u001b[0m\u001b[0;34m]\u001b[0m\u001b[0;34m\u001b[0m\u001b[0m\n\u001b[1;32m      3\u001b[0m \u001b[0mfake\u001b[0m \u001b[0;34m=\u001b[0m \u001b[0mX\u001b[0m\u001b[0;34m[\u001b[0m\u001b[0mnp\u001b[0m\u001b[0;34m.\u001b[0m\u001b[0margsort\u001b[0m\u001b[0;34m(\u001b[0m\u001b[0mp\u001b[0m\u001b[0;34m)\u001b[0m\u001b[0;34m[\u001b[0m\u001b[0;34m:\u001b[0m\u001b[0;34m:\u001b[0m\u001b[0;34m-\u001b[0m\u001b[0;36m1\u001b[0m\u001b[0;34m]\u001b[0m\u001b[0;34m]\u001b[0m\u001b[0;34m[\u001b[0m\u001b[0;36m0\u001b[0m\u001b[0;34m:\u001b[0m\u001b[0;36m100\u001b[0m\u001b[0;34m]\u001b[0m\u001b[0;34m\u001b[0m\u001b[0m\n\u001b[1;32m      4\u001b[0m \u001b[0;34m\u001b[0m\u001b[0m\n\u001b[1;32m      5\u001b[0m \u001b[0mpoints_real\u001b[0m \u001b[0;34m=\u001b[0m \u001b[0mreal\u001b[0m\u001b[0;34m.\u001b[0m\u001b[0mreshape\u001b[0m\u001b[0;34m(\u001b[0m\u001b[0;34m(\u001b[0m\u001b[0mreal\u001b[0m\u001b[0;34m.\u001b[0m\u001b[0mshape\u001b[0m\u001b[0;34m[\u001b[0m\u001b[0;36m0\u001b[0m\u001b[0;34m]\u001b[0m\u001b[0;34m,\u001b[0m \u001b[0;34m-\u001b[0m\u001b[0;36m1\u001b[0m\u001b[0;34m)\u001b[0m\u001b[0;34m)\u001b[0m\u001b[0;34m\u001b[0m\u001b[0m\n",
      "\u001b[0;31mNameError\u001b[0m: name 'preds_real' is not defined"
     ]
    }
   ],
   "source": [
    "p_real=preds_real[:, 5]\n",
    "real = Xreal[yreal==5][np.argsort(p_real[yreal == 5])[::-1][0:100]]\n",
    "fake = X[np.argsort(p)[::-1]][0:100]\n",
    "\n",
    "points_real = real.reshape((real.shape[0], -1))\n",
    "points_fake = fake.reshape((fake.shape[0], -1))"
   ]
  },
  {
   "cell_type": "code",
   "execution_count": null,
   "metadata": {
    "collapsed": false
   },
   "outputs": [],
   "source": [
    "nn = NearestNeighbors(n_neighbors=30)\n",
    "nn.fit(points_real)\n",
    "dist, indices = nn.kneighbors(points_fake)"
   ]
  },
  {
   "cell_type": "code",
   "execution_count": null,
   "metadata": {
    "collapsed": false
   },
   "outputs": [],
   "source": [
    "neighb = indices[:]\n",
    "print(indices.shape)\n",
    "h=28\n",
    "w=28\n",
    "c=1\n",
    "img = np.zeros((h*indices.shape[0], w*indices.shape[1]))\n",
    "for y in range(indices.shape[0]):\n",
    "    for x in range(indices.shape[1]):\n",
    "        img[y*h:y*h+h, x*w:x*w+w] = fake[y] if x== 0 else real[indices[y, x-1]]\n",
    "        img[y*h:y*h+h, x*w:x*w+1]=0.3 if x>1 else 1\n",
    "        img[y*h:y*h+1, x*w:x*w+w+1]=0.3 if x>0 else 1\n",
    "imsave('imgs/neigh.png', img)\n",
    "Image('imgs/neigh.png')"
   ]
  },
  {
   "cell_type": "markdown",
   "metadata": {},
   "source": [
    "## checking stats of jobs"
   ]
  },
  {
   "cell_type": "code",
   "execution_count": 3,
   "metadata": {
    "collapsed": false
   },
   "outputs": [],
   "source": [
    "db = load_db()\n",
    "jobs = db.jobs_with(state=SUCCESS, where='jobset83')\n",
    "S = [j['summary'] for j in jobs]"
   ]
  },
  {
   "cell_type": "code",
   "execution_count": 4,
   "metadata": {
    "collapsed": false
   },
   "outputs": [],
   "source": [
    "jobs_gen = to_generation(jobs)"
   ]
  },
  {
   "cell_type": "code",
   "execution_count": 5,
   "metadata": {
    "collapsed": false
   },
   "outputs": [],
   "source": [
    "field = 'stats.out_of_the_box_classification.m2.objectness'\n",
    "indices = np.arange(len(jobs))\n",
    "for i in range(len(jobs_gen)):\n",
    "    j = jobs_gen[i]\n",
    "    v = db.get_value(j, field, if_not_found=None)\n",
    "    #if not v:print('Misssing generation jobs from training job : {}, skip it.'.format(jobs[i]['summary']))"
   ]
  },
  {
   "cell_type": "code",
   "execution_count": 6,
   "metadata": {
    "collapsed": false
   },
   "outputs": [],
   "source": [
    "indices = np.arange(len(jobs))\n",
    "objectness = map(lambda j:db.get_value(j, field, if_not_found=np.nan), jobs_gen)\n",
    "objectness = np.array(objectness)\n",
    "indices = filter(lambda ind:not np.isnan(objectness[ind]), indices)\n",
    "indices = sorted(indices, key=lambda i:objectness[i])\n",
    "indices = indices[::-1]\n",
    "images = ['../exported_data/figs/generated/jobset{:05d}/{}.png'.format(int(jobs[i]['where'][6:]), jobs_gen[i]['summary']) \n",
    "          for i in indices]\n",
    "for i in range(len(images)):\n",
    "    #print(jobs_gen[indices[i]]['summary'])\n",
    "    shutil.copy(images[i], 'export/{:05d}.png'.format(i))\n",
    "    #if i<20:\n",
    "    #    display(Image(images[i], width=600, height=600))"
   ]
  },
  {
   "cell_type": "markdown",
   "metadata": {},
   "source": [
    "## objectness score"
   ]
  },
  {
   "cell_type": "code",
   "execution_count": null,
   "metadata": {
    "collapsed": false
   },
   "outputs": [],
   "source": [
    "objectness = compute_sample_objectness_renyi(preds)"
   ]
  },
  {
   "cell_type": "code",
   "execution_count": null,
   "metadata": {
    "collapsed": false
   },
   "outputs": [],
   "source": [
    "ind = np.argsort(objectness)[::-1]\n",
    "X_sorted = X[ind]\n",
    "preds_sorted = preds[ind]\n",
    "objectness_sorted = objectness[ind]"
   ]
  },
  {
   "cell_type": "code",
   "execution_count": null,
   "metadata": {
    "collapsed": false
   },
   "outputs": [],
   "source": [
    "sample = np.arange(len(X))\n",
    "np.random.shuffle(sample)\n",
    "sample = sample[0:100]\n",
    "objectness_sampled = objectness[sample]\n",
    "X_sampled = X[sample]\n",
    "preds_sampled = preds[sample]\n",
    "X_sampled = X_sampled[np.argsort(objectness_sampled)[::-1]]\n",
    "preds_sampled = preds_sampled[np.argsort(objectness_sampled)[::-1]]"
   ]
  },
  {
   "cell_type": "code",
   "execution_count": null,
   "metadata": {
    "collapsed": false
   },
   "outputs": [],
   "source": [
    "im = disp_grid_with_pred(X_sorted[0::1000], preds_sorted[0::1000], h=200)\n",
    "imsave('imgs/out.png', im)\n",
    "Image('imgs/out.png', width=800, height=800)"
   ]
  },
  {
   "cell_type": "code",
   "execution_count": null,
   "metadata": {
    "collapsed": true
   },
   "outputs": [],
   "source": []
  }
 ],
 "metadata": {
  "kernelspec": {
   "display_name": "Python 2",
   "language": "python",
   "name": "python2"
  },
  "language_info": {
   "codemirror_mode": {
    "name": "ipython",
    "version": 2
   },
   "file_extension": ".py",
   "mimetype": "text/x-python",
   "name": "python",
   "nbconvert_exporter": "python",
   "pygments_lexer": "ipython2",
   "version": "2.7.12"
  }
 },
 "nbformat": 4,
 "nbformat_minor": 0
}
