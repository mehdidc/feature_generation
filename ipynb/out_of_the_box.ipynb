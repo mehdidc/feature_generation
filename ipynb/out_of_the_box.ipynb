{
 "cells": [
  {
   "cell_type": "code",
   "execution_count": 1,
   "metadata": {
    "collapsed": false
   },
   "outputs": [
    {
     "name": "stderr",
     "output_type": "stream",
     "text": [
      "/home/mcherti/work/code/external/scikit-learn/sklearn/cross_validation.py:43: DeprecationWarning: This module has been deprecated in favor of the model_selection module into which all the refactored classes and functions are moved. Also note that the interface of the new CV iterators are different from that of this module. This module will be removed in 0.20.\n",
      "  \"This module will be removed in 0.20.\", DeprecationWarning)\n",
      "Using Theano backend.\n"
     ]
    }
   ],
   "source": [
    "%matplotlib inline\n",
    "import os\n",
    "os.environ['THEANO_FLAGS'] = 'device=cpu,compiledir_format=\"cpu\"'\n",
    "import sys\n",
    "sys.path.append('..')\n",
    "import matplotlib.pyplot as plt\n",
    "from tools.common import disp_grid\n",
    "from IPython.display import Image\n",
    "from skimage.io import imsave\n",
    "\n",
    "from keras.models import model_from_json\n",
    "import os\n",
    "import joblib\n",
    "import numpy as np\n",
    "from lightjob.cli import load_db\n",
    "#from skimage.io import imread\n",
    "from tools.common import find_generation_job, find_training_job, to_generation, compute_sample_objectness, resize_set\n",
    "from IPython.display import Image, display\n",
    "from lightjob.cli import load_db\n",
    "from lightjob.db import SUCCESS\n",
    "import pandas as pd\n",
    "import h5py\n",
    "import cv2\n",
    "\n",
    "from skimage.transform import resize\n",
    "\n",
    "def disp_pred(pred, h=20, w=100, y0=25):\n",
    "    nb_classes = len(pred)\n",
    "    img = np.zeros((nb_classes * h, w, 3))\n",
    "    cv2.rectangle(img,(0,0),(img.shape[1],img.shape[0]),(0.3,0.3,0.3),3)\n",
    "    pad = 0\n",
    "    col = [[0, 0, 1]] * nb_classes\n",
    "    for i in range(nb_classes):\n",
    "        p = int(w * pred[i])\n",
    "        img[i*(h+pad):i*(h+pad)+h, 0:p, :] = col[i]\n",
    "    font = cv2.FONT_HERSHEY_SIMPLEX\n",
    "    for i in range(nb_classes):\n",
    "        cv2.putText(img,str(i),(10,y0+h*i), font, 0.9,(1,1,1),1,cv2.LINE_AA)\n",
    "        cv2.rectangle(img,(0, i*(h+pad)),(w, i*(h+pad)+h),(0.3,0.3,0.3),2)\n",
    "\n",
    "    return img\n",
    "\n",
    "def disp_grid_with_pred(img, preds):\n",
    "    img = resize_set(img, 100, 100)\n",
    "    img_ = np.zeros((img.shape[0], 3, img.shape[2]*2, img.shape[3]*2))\n",
    "    img_[:, :, 0:img.shape[2], 0:img.shape[3]] = img[:, :, :, :]\n",
    "    for i, pr in enumerate(preds):\n",
    "        text= disp_pred(pr, h=30, w=200)\n",
    "        text = resize(text, (img.shape[2], img.shape[3]))\n",
    "        text = text.transpose((2, 0, 1))\n",
    "        img_[i, :, 0:img.shape[2], img.shape[3]:] = text\n",
    "    img_ = disp_grid(img_)\n",
    "    return img_\n"
   ]
  },
  {
   "cell_type": "code",
   "execution_count": 2,
   "metadata": {
    "collapsed": false
   },
   "outputs": [],
   "source": [
    "db = load_db()\n",
    "jobs = db.jobs_with(state=SUCCESS, where='jobset75')\n",
    "S = [j['summary'] for j in jobs]\n",
    "stats = {s: pd.read_csv('../jobs/results/{}/csv/stats.csv'.format(s)) for s in S}"
   ]
  },
  {
   "cell_type": "code",
   "execution_count": 3,
   "metadata": {
    "collapsed": true
   },
   "outputs": [],
   "source": [
    "jobs_gen = to_generation(jobs)"
   ]
  },
  {
   "cell_type": "code",
   "execution_count": 23,
   "metadata": {
    "collapsed": false
   },
   "outputs": [],
   "source": [
    "model_folder = '../tools/models/external/5_vs_fake_jobset75'\n",
    "#model_folder = '../../nnbench/out/feature_generation/12457_vs_fake_jobset76/'\n",
    "#model_folder = '../tools/models/mnist/m2'\n",
    "arch = (open(os.path.join(model_folder, 'model.json'))).read()\n",
    "#arch = arch.replace('softmax', 'linear')\n",
    "model = model_from_json(arch)\n",
    "model.load_weights(os.path.join(model_folder, 'model.pkl'))"
   ]
  },
  {
   "cell_type": "markdown",
   "metadata": {},
   "source": [
    "## checking all generated"
   ]
  },
  {
   "cell_type": "code",
   "execution_count": 35,
   "metadata": {
    "collapsed": false
   },
   "outputs": [],
   "source": [
    "d = np.load('../exported_data/datasets/5_vs_fake_jobset75.npz')\n",
    "y = d['y']\n",
    "data = d['X']\n",
    "data = data[:] # test data\n",
    "y = y[:] # test data\n",
    "data = data / 255.\n",
    "X = data[y==10]"
   ]
  },
  {
   "cell_type": "code",
   "execution_count": 36,
   "metadata": {
    "collapsed": false
   },
   "outputs": [
    {
     "name": "stdout",
     "output_type": "stream",
     "text": [
      "(89421, 1, 28, 28)\n"
     ]
    }
   ],
   "source": [
    "print(data.shape)"
   ]
  },
  {
   "cell_type": "code",
   "execution_count": 37,
   "metadata": {
    "collapsed": false
   },
   "outputs": [],
   "source": [
    "batch_size = 1024\n",
    "preds = []\n",
    "for i in range(0, len(X), batch_size):\n",
    "    preds.append(model.predict(X[i:i+batch_size]))\n",
    "preds = np.concatenate(preds, axis=0)"
   ]
  },
  {
   "cell_type": "code",
   "execution_count": 38,
   "metadata": {
    "collapsed": false
   },
   "outputs": [
    {
     "name": "stdout",
     "output_type": "stream",
     "text": [
      "(84000, 11)\n"
     ]
    }
   ],
   "source": [
    "print(preds.shape)"
   ]
  },
  {
   "cell_type": "code",
   "execution_count": 321,
   "metadata": {
    "collapsed": false
   },
   "outputs": [
    {
     "data": {
      "image/png": "[encoded data removed]",
      "text/plain": [
       "<IPython.core.display.Image object>"
      ]
     },
     "execution_count": 321,
     "metadata": {},
     "output_type": "execute_result"
    }
   ],
   "source": [
    "CLASS = 5\n",
    "p=preds[:, CLASS]\n",
    "img = X[np.argsort(p)[::-1]]\n",
    "#img = img[ (p[np.argsort(p)[::-1]])>0.5 ]\n",
    "img = disp_grid(img[0:100], border=1, bordercolor=(0.3, 0, 0))\n",
    "imsave('imgs/out.png', img)\n",
    "Image('imgs/out.png')"
   ]
  },
  {
   "cell_type": "code",
   "execution_count": null,
   "metadata": {
    "collapsed": true
   },
   "outputs": [],
   "source": []
  },
  {
   "cell_type": "code",
   "execution_count": 450,
   "metadata": {
    "collapsed": false
   },
   "outputs": [
    {
     "name": "stderr",
     "output_type": "stream",
     "text": [
      "/home/mcherti/miniconda/envs/databoard-env/lib/python2.7/site-packages/ipykernel/__main__.py:1: VisibleDeprecationWarning: using a boolean instead of an integer will result in an error in the future\n",
      "  if __name__ == '__main__':\n"
     ]
    }
   ],
   "source": [
    "real = data[y==5][0:10]\n",
    "fake = X[np.argsort(p)[::-1]][0:100]\n",
    "is_real = np.array([1] * len(real) + [0] * len(fake))\n",
    "points = fake\n",
    "#points = points.reshape((points.shape[0], -1))"
   ]
  },
  {
   "cell_type": "code",
   "execution_count": 451,
   "metadata": {
    "collapsed": false
   },
   "outputs": [
    {
     "name": "stdout",
     "output_type": "stream",
     "text": [
      "((10, 31, 1, 28, 28), (10, 30))\n"
     ]
    },
    {
     "data": {
      "image/png": "[encoded data removed]",
      "text/plain": [
       "<IPython.core.display.Image object>"
      ]
     },
     "execution_count": 451,
     "metadata": {},
     "output_type": "execute_result"
    }
   ],
   "source": [
    "nb_neighb = 30\n",
    "c=1\n",
    "h,w=28,28\n",
    "generated = points[0:10]\n",
    "dataset = points[10:]\n",
    "def euc(x, y):\n",
    "    x = x.reshape((x.shape[0], -1))\n",
    "    y = y.reshape((y.shape[0], -1))\n",
    "    x = x[None, :, :]\n",
    "    y = y[:, None, :]\n",
    "    axes = np.arange(2, len(x.shape))\n",
    "    return ((x-y)**2).mean(axis=axes)\n",
    "\n",
    "dist = euc\n",
    "\n",
    "neighb = (dist(generated, dataset)).argsort(axis=1)\n",
    "neighb = neighb[0:nb_neighb, :]\n",
    "shape = neighb.shape\n",
    "neighb = neighb.flatten()\n",
    "neighb = dataset[neighb]\n",
    "neighb = neighb.reshape((shape[0], shape[1], c, h, w))\n",
    "neighb = np.concatenate((generated[None,:], neighb), axis=0)\n",
    "neighb = neighb.transpose((1, 0, 2, 3, 4))\n",
    "shape = shape[1], shape[0]\n",
    "print(neighb.shape, shape)\n",
    "img = np.empty(( shape[0]*h, shape[1] *w, c))\n",
    "for y in range(shape[0]):\n",
    "    for x in range(shape[1]):\n",
    "        img[y*h:y*h+h, x*w:x*w+w] = neighb[y,x].transpose((1, 2, 0))\n",
    "        img[y*h:y*h+h, x*w:x*w+1]=0.3 if x>1 else 1\n",
    "        img[y*h:y*h+1, x*w:x*w+w+1]=0.3 if x>0 else 1\n",
    "imsave('imgs/neigh.png', img[:,:,0] if c==1 else img)\n",
    "Image('imgs/neigh.png')"
   ]
  },
  {
   "cell_type": "code",
   "execution_count": 468,
   "metadata": {
    "collapsed": false
   },
   "outputs": [
    {
     "name": "stderr",
     "output_type": "stream",
     "text": [
      "[Parallel(n_jobs=10)]: Done   1 out of 100 | elapsed:    1.0s remaining:  1.7min\n",
      "[Parallel(n_jobs=10)]: Done 100 out of 100 | elapsed:   11.3s finished\n"
     ]
    },
    {
     "name": "stdout",
     "output_type": "stream",
     "text": [
      "0.875745236874\n"
     ]
    }
   ],
   "source": [
    "from sklearn.model_selection import RandomizedSearchCV\n",
    "from scipy.stats import randint\n",
    "from joblib.parallel import delayed, Parallel\n",
    "\n",
    "def sample():\n",
    "    rng = np.random\n",
    "    pt = dict(\n",
    "        n_components=2,\n",
    "        perplexity=10,\n",
    "        early_exaggeration=rng.randint(1, 10),\n",
    "        learning_rate=rng.randint(100, 1000), \n",
    "        n_iter=5000,\n",
    "        n_iter_without_progress=500, \n",
    "        min_grad_norm=0, \n",
    "        metric='euclidean', \n",
    "        init=rng.choice(('pca', 'random')),\n",
    "        verbose=0, \n",
    "        random_state=None,\n",
    "        method='barnes_hut', \n",
    "        angle=0.5\n",
    "    )\n",
    "    return pt\n",
    "\n",
    "def run(pt):\n",
    "    points_ = points.reshape((points.shape[0], -1))\n",
    "    return TSNE(**pt).fit(points_)\n",
    "\n",
    "jobs = [sample() for _ in range(100)]\n",
    "models = Parallel(n_jobs=10, verbose=1)(delayed(run)(j) for j in jobs)\n",
    "kl = map(lambda m:m.kl_divergence_, models)\n",
    "print(np.min(kl))\n",
    "tsne = models[np.argmin(kl)]"
   ]
  },
  {
   "cell_type": "code",
   "execution_count": 469,
   "metadata": {
    "collapsed": false
   },
   "outputs": [
    {
     "data": {
      "text/plain": [
       "{'angle': 0.5,\n",
       " 'early_exaggeration': 1,\n",
       " 'init': 'pca',\n",
       " 'learning_rate': 145,\n",
       " 'method': 'barnes_hut',\n",
       " 'metric': 'euclidean',\n",
       " 'min_grad_norm': 0,\n",
       " 'n_components': 2,\n",
       " 'n_iter': 5000,\n",
       " 'n_iter_without_progress': 500,\n",
       " 'perplexity': 10,\n",
       " 'random_state': None,\n",
       " 'verbose': 0}"
      ]
     },
     "execution_count": 469,
     "metadata": {},
     "output_type": "execute_result"
    }
   ],
   "source": [
    "tsne.get_params()"
   ]
  },
  {
   "cell_type": "code",
   "execution_count": 470,
   "metadata": {
    "collapsed": false
   },
   "outputs": [],
   "source": [
    "embedding = tsne.embedding_"
   ]
  },
  {
   "cell_type": "code",
   "execution_count": 471,
   "metadata": {
    "collapsed": false
   },
   "outputs": [
    {
     "data": {
      "text/plain": [
       "<matplotlib.collections.PathCollection at 0x7f5d1828c810>"
      ]
     },
     "execution_count": 471,
     "metadata": {},
     "output_type": "execute_result"
    },
    {
     "data": {
      "image/png": "[encoded data removed]",
      "text/plain": [
       "<matplotlib.figure.Figure at 0x7f5cb39a2290>"
      ]
     },
     "metadata": {},
     "output_type": "display_data"
    }
   ],
   "source": [
    "plt.scatter(embedding[:, 0], embedding[:, 1])"
   ]
  },
  {
   "cell_type": "code",
   "execution_count": 483,
   "metadata": {
    "collapsed": false
   },
   "outputs": [
    {
     "data": {
      "image/png": "[encoded data removed]",
      "text/plain": [
       "<IPython.core.display.Image object>"
      ]
     },
     "execution_count": 483,
     "metadata": {},
     "output_type": "execute_result"
    }
   ],
   "source": [
    "from tools.viz.image_scatter import image_scatter\n",
    "pts = points.reshape((points.shape[0], 28, 28)).copy()\n",
    "pts = pts[:, :, :, None] * np.ones((1, 1, 1, 3))\n",
    "pts[0:10, :, :, 1:]=0\n",
    "img = image_scatter(embedding, pts, 20, 1000)\n",
    "imsave('imgs/out.png', img)\n",
    "Image('imgs/out.png')"
   ]
  },
  {
   "cell_type": "markdown",
   "metadata": {},
   "source": [
    "## checking stats of jobs"
   ]
  },
  {
   "cell_type": "code",
   "execution_count": null,
   "metadata": {
    "collapsed": false
   },
   "outputs": [],
   "source": [
    "db = load_db()\n",
    "jobs = db.jobs_with(state=SUCCESS, where='jobset75')\n",
    "S = [j['summary'] for j in jobs]"
   ]
  },
  {
   "cell_type": "code",
   "execution_count": null,
   "metadata": {
    "collapsed": false
   },
   "outputs": [],
   "source": [
    "jobs_gen = to_generation(jobs, db=db)"
   ]
  },
  {
   "cell_type": "code",
   "execution_count": null,
   "metadata": {
    "collapsed": true
   },
   "outputs": [],
   "source": [
    "field = 'stats.out_of_the_box_classification.m2.objectness'\n",
    "indices = np.arange(len(jobs))\n",
    "for i in range(len(jobs_gen)):\n",
    "    j = jobs_gen[i]\n",
    "    v = db.get_value(j, field, if_not_found=None)\n",
    "    if not v:print('Misssing generation jobs from training job : {}, skip it.'.format(jobs[i]['summary']))"
   ]
  },
  {
   "cell_type": "code",
   "execution_count": null,
   "metadata": {
    "collapsed": false
   },
   "outputs": [],
   "source": [
    "import shutil\n",
    "indices = np.arange(len(jobs))\n",
    "objectness = map(lambda j:db.get_value(j, field, if_not_found=np.nan), jobs_gen)\n",
    "objectness = np.array(objectness)\n",
    "indices = filter(lambda ind:not np.isnan(objectness[ind]), indices)\n",
    "indices = sorted(indices, key=lambda i:objectness[i])\n",
    "indices = indices[::-1]\n",
    "images = ['../exported_data/figs/generated/jobset{:05d}/{}.png'.format(int(jobs[i]['where'][6:]), jobs_gen[i]['summary']) \n",
    "          for i in indices]\n",
    "print(jobs_gen[indices[1]]['summary'])\n",
    "for i in range(len(images)):\n",
    "    print(jobs_gen[indices[i]]['summary'])\n",
    "    shutil.copy(images[i], 'export/{:05d}.png'.format(i))\n",
    "    #display(Image(images[i]), width=100, height=100)"
   ]
  },
  {
   "cell_type": "markdown",
   "metadata": {},
   "source": [
    "## objectness score"
   ]
  },
  {
   "cell_type": "code",
   "execution_count": null,
   "metadata": {
    "collapsed": false
   },
   "outputs": [],
   "source": [
    "\"\"\"hf = h5py.File('../exported_data/figs/jobset76.hdf5')\n",
    "X = hf['X']\n",
    "nb = hf.attrs['nb']\n",
    "X = X[0:nb]\n",
    "X[np.isnan(X)] = 0\n",
    "X = X[X.sum(axis=(1, 2, 3)) > 0]\n",
    "\"\"\"\n",
    "\n",
    "\n",
    "data = joblib.load('../jobs/results/1e47d7dea091c42c90b71ec06dee4f4d/images.npz')\n",
    "X = data[:, -1]\n",
    "\n",
    "\n",
    "\"\"\"\n",
    "from datakit.mnist import load\n",
    "data = load(which='train')\n",
    "X = data['train']['X']\n",
    "y = data['train']['y']\n",
    "X = X / 255.\n",
    "\"\"\"\n",
    "\n",
    "print(X.min(), X.max())\n",
    "print(X.shape)"
   ]
  },
  {
   "cell_type": "code",
   "execution_count": null,
   "metadata": {
    "collapsed": false
   },
   "outputs": [],
   "source": [
    "preds = model.predict(X)\n",
    "preds = (preds - preds.min(axis=0, keepdims=True)) / (preds.max(axis=0, keepdims=True) - preds.min(axis=0, keepdims=True))\n",
    "objectness = compute_sample_objectness(preds)"
   ]
  },
  {
   "cell_type": "code",
   "execution_count": null,
   "metadata": {
    "collapsed": false
   },
   "outputs": [],
   "source": [
    "ind = np.argsort(objectness)[::-1]\n",
    "X_sorted = X[ind]\n",
    "preds_sorted = preds[ind]\n",
    "objectness_sorted = objectness[ind]"
   ]
  },
  {
   "cell_type": "code",
   "execution_count": null,
   "metadata": {
    "collapsed": false
   },
   "outputs": [],
   "source": [
    "sample = np.arange(len(X))\n",
    "np.random.shuffle(sample)\n",
    "sample = sample[0:1000]\n",
    "\n",
    "objectness_sampled = objectness[sample]\n",
    "X_sampled = X[sample]\n",
    "preds_sampled = preds[sample]\n",
    "X_sampled = X_sampled[np.argsort(objectness_sampled)[::-1]]\n",
    "preds_sampled = preds_sampled[np.argsort(objectness_sampled)[::-1]]"
   ]
  },
  {
   "cell_type": "code",
   "execution_count": null,
   "metadata": {
    "collapsed": false
   },
   "outputs": [],
   "source": [
    "im = disp_grid_with_pred(X_sorted[0:400], preds_sorted[0:400])\n",
    "imsave('imgs/out.png', im)\n",
    "Image('imgs/out.png', width=800, height=800)"
   ]
  }
 ],
 "metadata": {
  "kernelspec": {
   "display_name": "Python 2",
   "language": "python",
   "name": "python2"
  },
  "language_info": {
   "codemirror_mode": {
    "name": "ipython",
    "version": 2
   },
   "file_extension": ".py",
   "mimetype": "text/x-python",
   "name": "python",
   "nbconvert_exporter": "python",
   "pygments_lexer": "ipython2",
   "version": "2.7.12"
  }
 },
 "nbformat": 4,
 "nbformat_minor": 0
}
