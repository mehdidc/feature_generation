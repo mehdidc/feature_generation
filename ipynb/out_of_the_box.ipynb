{
 "cells": [
  {
   "cell_type": "code",
   "execution_count": 1,
   "metadata": {
    "collapsed": false
   },
   "outputs": [
    {
     "name": "stderr",
     "output_type": "stream",
     "text": [
      "/home/mcherti/work/code/external/scikit-learn/sklearn/cross_validation.py:43: DeprecationWarning: This module has been deprecated in favor of the model_selection module into which all the refactored classes and functions are moved. Also note that the interface of the new CV iterators are different from that of this module. This module will be removed in 0.20.\n",
      "  \"This module will be removed in 0.20.\", DeprecationWarning)\n",
      "Using Theano backend.\n"
     ]
    }
   ],
   "source": [
    "%matplotlib inline\n",
    "import sys\n",
    "sys.path.append('..')\n",
    "import matplotlib.pyplot as plt\n",
    "from tools.common import disp_grid\n",
    "from IPython.display import Image\n",
    "from skimage.io import imsave\n",
    "\n",
    "from keras.models import model_from_json\n",
    "import os\n",
    "import joblib\n",
    "import numpy as np\n",
    "from lightjob.cli import load_db\n",
    "#from skimage.io import imread\n",
    "from tools.common import find_generation_job, find_training_job, to_generation\n",
    "from IPython.display import Image, display\n",
    "from lightjob.cli import load_db\n",
    "from lightjob.db import SUCCESS\n",
    "import pandas as pd"
   ]
  },
  {
   "cell_type": "code",
   "execution_count": null,
   "metadata": {
    "collapsed": true
   },
   "outputs": [],
   "source": [
    "db = load_db()\n",
    "jobs = db.jobs_with(state=SUCCESS, where='jobset76')\n",
    "S = [j['summary'] for j in jobs]\n",
    "stats = {s: pd.read_csv('../jobs/results/{}/csv/stats.csv'.format(s)) for s in S}"
   ]
  },
  {
   "cell_type": "markdown",
   "metadata": {},
   "source": [
    "## checking individual job"
   ]
  },
  {
   "cell_type": "code",
   "execution_count": null,
   "metadata": {
    "collapsed": false
   },
   "outputs": [],
   "source": [
    "job_id = '4d8d586688c602b07cd4ab46f1081295'\n",
    "job = db.get_job_by_summary(job_id)\n",
    "folder = '../jobs/results/{}'.format(job_id)\n",
    "data = joblib.load(os.path.join(folder, 'images.npz'))\n",
    "data = data[:, -1] # last time step images\n",
    "model_folder = '../tools/models/mnist/m2'\n",
    "model = model_from_json(open(os.path.join(model_folder, 'model.json')).read())\n",
    "model.load_weights(os.path.join(model_folder, 'model.h5'))"
   ]
  },
  {
   "cell_type": "code",
   "execution_count": null,
   "metadata": {
    "collapsed": false
   },
   "outputs": [],
   "source": [
    "preds = model.predict(data)"
   ]
  },
  {
   "cell_type": "code",
   "execution_count": null,
   "metadata": {
    "collapsed": true
   },
   "outputs": [],
   "source": [
    "CLASS = 1"
   ]
  },
  {
   "cell_type": "code",
   "execution_count": null,
   "metadata": {
    "collapsed": false
   },
   "outputs": [],
   "source": [
    "#img = data[ind]\n",
    "img = data\n",
    "#print(img.shape)\n",
    "img = disp_grid(img, border=1, bordercolor=(0.3, 0, 0))"
   ]
  },
  {
   "cell_type": "code",
   "execution_count": null,
   "metadata": {
    "collapsed": false
   },
   "outputs": [],
   "source": [
    "bins = np.linspace(0, 1, 11)\n",
    "bin_index = np.digitize(preds[:, CLASS], bins)"
   ]
  },
  {
   "cell_type": "code",
   "execution_count": null,
   "metadata": {
    "collapsed": false
   },
   "outputs": [],
   "source": [
    "w = data.shape[3] * (len(bins)-1)\n",
    "h = data.shape[2] * (len(bins)*100)\n",
    "IMG = np.ones((h, w))*0.5\n",
    "for i in range(1, len(bins)):\n",
    "    d = data[bin_index==i]\n",
    "    p = preds[bin_index==i, CLASS]\n",
    "    s = np.argsort(p)\n",
    "    p = p[s]\n",
    "    p = p[::-1]\n",
    "    d = d[s]\n",
    "    d = d[::-1]\n",
    "    x = (i-1) * data.shape[3]\n",
    "    y=0\n",
    "    for im in d:\n",
    "        IMG[y:y+data.shape[2], x:x+data.shape[3]] = im[0, :, :]\n",
    "        y+=d.shape[2]\n",
    "    IMG[:, (i-1) * data.shape[3]]=0.3\n",
    "    for y in range(len(d)):\n",
    "        IMG[y*d.shape[2], :]=0.3"
   ]
  },
  {
   "cell_type": "code",
   "execution_count": null,
   "metadata": {
    "collapsed": false
   },
   "outputs": [],
   "source": [
    "plt.hist(preds[:, CLASS])\n",
    "plt.xlabel('proba of {}'.format(CLASS))\n",
    "plt.ylabel('freq')"
   ]
  },
  {
   "cell_type": "code",
   "execution_count": null,
   "metadata": {
    "collapsed": false
   },
   "outputs": [],
   "source": [
    "job['stats']['out_of_the_box_classification']['tools/models/mnist/m2']['objectness']"
   ]
  },
  {
   "cell_type": "code",
   "execution_count": null,
   "metadata": {
    "collapsed": false
   },
   "outputs": [],
   "source": [
    "imsave('out.png',IMG)\n",
    "Image('out.png')"
   ]
  },
  {
   "cell_type": "code",
   "execution_count": null,
   "metadata": {
    "collapsed": false
   },
   "outputs": [],
   "source": [
    "plt.plot((stats[find_training_job(job_id)['summary']]['train_recons_error'] / (28*28.)).dropna(), label='train')\n",
    "plt.plot((stats[find_training_job(job_id)['summary']]['test_recons_error'] / (28*28.)).dropna(), label='test')\n",
    "plt.xlabel('iter')\n",
    "plt.legend()\n",
    "plt.ylabel('reconstruction error')"
   ]
  },
  {
   "cell_type": "markdown",
   "metadata": {},
   "source": [
    "## checking stats of jobs"
   ]
  },
  {
   "cell_type": "code",
   "execution_count": 2,
   "metadata": {
    "collapsed": false
   },
   "outputs": [],
   "source": [
    "db = load_db()\n",
    "jobs = db.jobs_with(state=SUCCESS, where='jobset75')\n",
    "S = [j['summary'] for j in jobs]"
   ]
  },
  {
   "cell_type": "code",
   "execution_count": 3,
   "metadata": {
    "collapsed": false
   },
   "outputs": [],
   "source": [
    "jobs_gen = to_generation(jobs, db=db)"
   ]
  },
  {
   "cell_type": "code",
   "execution_count": null,
   "metadata": {
    "collapsed": false
   },
   "outputs": [],
   "source": [
    "field = 'stats.out_of_the_box_classification.m2.objectness'\n",
    "indices = np.arange(len(jobs))\n",
    "for i in range(len(jobs_gen)):\n",
    "    j = jobs_gen[i]\n",
    "    v = db.get_value(j, field, if_not_found=None)\n",
    "    print(v)\n",
    "    if not v:print(jobs[i]['summary'])"
   ]
  },
  {
   "cell_type": "code",
   "execution_count": null,
   "metadata": {
    "collapsed": false
   },
   "outputs": [],
   "source": [
    "field = 'stats.out_of_the_box_classification.tools/models/mnist/m2.objectness'\n",
    "indices = np.arange(len(jobs))\n",
    "objectness = map(lambda j:db.get_value(j, field, if_not_found=None), jobs_gen)\n",
    "objectness = np.array(objectness)\n",
    "indices = sorted(indices, key=lambda i:objectness[i])\n",
    "indices = filter(lambda ind:objectness[ind], indices)\n",
    "indices = indices[::-1]\n",
    "images = ['../exported_data/figs/generated/jobset{:05d}/{}.png'.format(int(jobs[i]['where'][6:]), jobs_gen[i]['summary']) \n",
    "          for i in indices]\n",
    "for i in range(len(images)):\n",
    "    display(Image(images[i]))"
   ]
  }
 ],
 "metadata": {
  "kernelspec": {
   "display_name": "Python 2",
   "language": "python",
   "name": "python2"
  },
  "language_info": {
   "codemirror_mode": {
    "name": "ipython",
    "version": 2
   },
   "file_extension": ".py",
   "mimetype": "text/x-python",
   "name": "python",
   "nbconvert_exporter": "python",
   "pygments_lexer": "ipython2",
   "version": "2.7.12"
  }
 },
 "nbformat": 4,
 "nbformat_minor": 0
}
