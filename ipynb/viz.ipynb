{
 "cells": [
  {
   "cell_type": "code",
   "execution_count": 1,
   "metadata": {
    "collapsed": false
   },
   "outputs": [
    {
     "name": "stderr",
     "output_type": "stream",
     "text": [
      "/home/mcherti/build/Theano/theano/tensor/signal/downsample.py:5: UserWarning: downsample module has been moved to the pool module.\n",
      "  warnings.warn(\"downsample module has been moved to the pool module.\")\n",
      "/home/mcherti/build/Theano/theano/sandbox/cuda/nvcc_compiler.py:224: UserWarning: You have the cuda library directory in your lib_dirs. This has been known to cause problems and should not be done.\n",
      "  warnings.warn(\"You have the cuda library directory in your \"\n",
      "Using gpu device 0: Tesla K20Xm (CNMeM is disabled, CuDNN 3007)\n",
      "/home/mcherti/work/code/scikit-learn/sklearn/cross_validation.py:42: DeprecationWarning: This module has been deprecated in favor of the model_selection module into which all the refactored classes and functions are moved. Also note that the interface of the new CV iterators are different from that of this module. This module will be removed in 0.19.\n",
      "  \"This module will be removed in 0.19.\", DeprecationWarning)\n"
     ]
    },
    {
     "name": "stdout",
     "output_type": "stream",
     "text": [
      "Couldn't import dot_parser, loading of dot files will not be possible.\n"
     ]
    }
   ],
   "source": [
    "import os\n",
    "os.environ[\"THEANO_FLAGS\"] = \"device=gpu\"\n",
    "from tasks import check"
   ]
  },
  {
   "cell_type": "code",
   "execution_count": 2,
   "metadata": {
    "collapsed": false
   },
   "outputs": [
    {
     "name": "stdout",
     "output_type": "stream",
     "text": [
      "Loading data...\n"
     ]
    },
    {
     "name": "stderr",
     "output_type": "stream",
     "text": [
      "INFO:tasks:Loading data...\n"
     ]
    },
    {
     "name": "stdout",
     "output_type": "stream",
     "text": [
      "Loading the model...\n"
     ]
    },
    {
     "name": "stderr",
     "output_type": "stream",
     "text": [
      "INFO:tasks:Loading the model...\n"
     ]
    },
    {
     "name": "stdout",
     "output_type": "stream",
     "text": [
      "(None, 1, 28, 28)\n",
      "Compiling the model...\n"
     ]
    },
    {
     "name": "stderr",
     "output_type": "stream",
     "text": [
      "INFO:tasks:Compiling the model...\n"
     ]
    }
   ],
   "source": [
    "v = check(what=\"notebook\", \n",
    "          filename=\"training/39mnist/model.pkl\", \n",
    "          dataset=\"digits\")\n",
    "          #force_w=64, force_h=64)\n",
    "          #kw_load_data={\"mode\": \"random\"})"
   ]
  },
  {
   "cell_type": "code",
   "execution_count": null,
   "metadata": {
    "collapsed": false
   },
   "outputs": [],
   "source": [
    "capsule, data, layers, w, h, c = v\n",
    "print(w, h, c)\n",
    "print(layers.keys())\n",
    "#print(w, h, c)\n",
    "#print(data.X.min(), data.X.max())"
   ]
  },
  {
   "cell_type": "code",
   "execution_count": null,
   "metadata": {
    "collapsed": false
   },
   "outputs": [],
   "source": [
    "%matplotlib inline\n",
    "import matplotlib.pyplot as plt\n",
    "from lasagnekit.misc.plot_weights import tile_raster_images\n",
    "import numpy as np\n",
    "for name, layer in layers.items():\n",
    "    #print(name, layer.output_shape)\n",
    "    #if hasattr(layer, \"W\"):\n",
    "    #    print(layer.W.get_value().shape)\n",
    "    if name.startswith(\"out\") and name != \"output\":\n",
    "        W = layer.W.get_value()\n",
    "        W = W.reshape((W.shape[0]*W.shape[1], W.shape[2], W.shape[3]))\n",
    "        a, b = W.shape[1:]\n",
    "        fig = plt.figure(figsize=(10, 10))\n",
    "        s = int(np.sqrt(W.shape[0]))\n",
    "        print(s, s, W.shape)\n",
    "        plt.axis('off')\n",
    "        img=tile_raster_images(W[:, ::-1, ::-1], (a, b), (s, s))\n",
    "        plt.imshow(img, cmap=\"gray\", interpolation='none')\n",
    "        plt.show()"
   ]
  },
  {
   "cell_type": "code",
   "execution_count": null,
   "metadata": {
    "collapsed": false
   },
   "outputs": [],
   "source": [
    "%matplotlib inline\n",
    "import matplotlib.pyplot as plt\n",
    "data.load()\n",
    "X = capsule.preprocess(data.X)\n",
    "X_rec = X\n",
    "for i in range(1):\n",
    "    X_rec = capsule.reconstruct(X_rec)\n",
    "\n",
    "def p(X):\n",
    "    shape = (X.shape[0], c, w, h)\n",
    "    X = X.reshape(shape)\n",
    "    X = X.transpose((0, 2, 3, 1))\n",
    "    if c == 1:\n",
    "        X = 1 - X[:, :, :, 0]\n",
    "    else:\n",
    "        pass\n",
    "        #X = 1 - X\n",
    "    return X"
   ]
  },
  {
   "cell_type": "code",
   "execution_count": null,
   "metadata": {
    "collapsed": false
   },
   "outputs": [],
   "source": [
    "if c == 1:\n",
    "    cm = 'gray'\n",
    "else:\n",
    "    cm = None\n",
    "for ind in range(15):\n",
    "    plt.axis('off')\n",
    "    plt.clf()\n",
    "    plt.subplot(1, 2, 1)\n",
    "    plt.axis('off')\n",
    "    plt.imshow(p(X)[ind], interpolation='none', cmap=cm)\n",
    "    plt.subplot(1, 2, 2)\n",
    "    plt.imshow(p(X_rec)[ind], interpolation='none', cmap=cm)\n",
    "    plt.axis('off')\n",
    "    plt.show()"
   ]
  },
  {
   "cell_type": "code",
   "execution_count": null,
   "metadata": {
    "collapsed": false
   },
   "outputs": [],
   "source": [
    "import theano.tensor as T\n",
    "import theano\n",
    "from lasagne import layers as L\n",
    "print(layers.keys())\n",
    "x=T.tensor4()\n",
    "o = [\n",
    "    L.get_output(layers['out0'], x),\n",
    "    L.get_output(layers['out1'], x),\n",
    "    L.get_output(layers['out2'], x)\n",
    "]\n",
    "f = theano.function([x], o) \n",
    "\n",
    "o = [\n",
    "    L.get_output(layers['wta_spatial_0'], x),\n",
    "    L.get_output(layers['wta_spatial_1'], x),\n",
    "    L.get_output(layers['wta_spatial_2'], x)\n",
    "]\n",
    "g = theano.function([x], o) \n",
    "\n",
    "l1, l2, l3 = T.tensor4(), T.tensor4(), T.tensor4()\n",
    "o_l = [\n",
    "    L.get_output(layers['out0'], {layers['wta_spatial_0']:l1}),\n",
    "    L.get_output(layers['out1'], {layers['wta_spatial_1']:l2}),\n",
    "    L.get_output(layers['out2'], {layers['wta_spatial_2']:l3})\n",
    "]\n",
    "g_forward = theano.function([l1, l2, l3], o_l)\n",
    "g_rec = theano.function([l1, l2, l3],\n",
    "                        L.get_output(layers[\"output\"],\n",
    "                        {layers['wta_spatial_0']:l1,\n",
    "                         layers['wta_spatial_1']:l2,\n",
    "                         layers['wta_spatial_2']:l3}))\n",
    "\n",
    "c1 = L.get_output(layers['wta_spatial_0'], x)\n",
    "c2 = L.get_output(layers['wta_spatial_1'], x)\n",
    "c3 = L.get_output(layers['wta_spatial_2'], x)\n",
    "\n",
    "loss1 = ((c1 - l1)**2).sum()\n",
    "loss2 = ((c2 - l2)**2).sum()\n",
    "loss3 = ((c3 - l3)**2).sum()\n",
    "\n",
    "loss = loss1 + loss2 + loss3\n",
    "\n",
    "get_loss = theano.function([x, l1, l2, l3], loss)\n",
    "get_grad = theano.function([x, l1, l2, l3], theano.grad(loss, x))\n",
    "\n",
    "\n",
    "recons_loss = ((L.get_output(layers[\"output\"], x) - x)**2).sum()\n",
    "get_recons_loss = theano.function([x], recons_loss)\n",
    "get_recons_grad = theano.function([x], theano.grad(recons_loss, x))\n",
    "\n",
    "\n",
    "#get_code_recons_loss = theano.function([x])"
   ]
  },
  {
   "cell_type": "code",
   "execution_count": null,
   "metadata": {
    "collapsed": false
   },
   "outputs": [],
   "source": [
    "X = capsule.preprocess(data.X)\n",
    "a, b, c = g(X)\n",
    "#print((a>0).sum(axis=(2, 3)).argmax(axis=1))\n",
    "#print((b>0).sum(axis=(2, 3)).argmax(axis=1))\n",
    "\n",
    "fig = plt.figure(figsize=(20, 20))\n",
    "from lasagnekit.misc.plot_weights import grid_plot\n",
    "grid_plot(b[0], imshow_options={\"cmap\": \"gray\"})\n",
    "#img = tile_raster_images(a[3], (28, 28), (10, 10))"
   ]
  },
  {
   "cell_type": "code",
   "execution_count": null,
   "metadata": {
    "collapsed": false
   },
   "outputs": [],
   "source": [
    "X = capsule.preprocess(data.X)\n",
    "a, b, c = g(X)\n",
    "print(a.shape, b.shape, c.shape)\n",
    "print((b>0).sum(axis=(2, 3)).max())\n",
    "#a[:, 0:128] = 0\n",
    "#b[:, 0:2] = 0\n",
    "#c[:, 0:256] = 0\n",
    "a[:, :] = np.random.uniform(size=a.shape).astype(np.float32)\n",
    "b[:, :] = np.random.uniform(size=b.shape).astype(np.float32)\n",
    "c[:, :] = np.random.uniform(size=c.shape).astype(np.float32)\n",
    "#b[:, 10:20, 5:15, 5:15] = 800\n",
    "a, b, c = g_forward(a, b, c)\n",
    "def s(x):\n",
    "    return 1/(1+np.exp(-x))\n",
    "e = s(a + b + c)\n",
    "print(a.shape)\n",
    "img = tile_raster_images(e[0:30, 0], (64, 64), (10, 10))\n",
    "fig = plt.figure(figsize=(10, 10))\n",
    "plt.axis('off')\n",
    "plt.imshow(img, cmap=\"gray\")"
   ]
  },
  {
   "cell_type": "code",
   "execution_count": null,
   "metadata": {
    "collapsed": false
   },
   "outputs": [],
   "source": [
    "\"\"\"\n",
    "from sklearn.decomposition import PCA\n",
    "from sklearn.datasets import fetch_olivetti_faces\n",
    "D  = fetch_olivetti_faces()\n",
    "pca = PCA(n_components=100)\n",
    "code = pca.fit_transform(D['data'])\n",
    "data_rec = pca.inverse_transform(code)\n",
    "data_rec = data_rec.reshape((data_rec.shape[0], 64, 64))\n",
    "img = tile_raster_images(data_rec, (64, 64), (10, 10))\n",
    "fig = plt.figure(figsize=(10, 10))\n",
    "plt.axis('off')\n",
    "plt.imshow(img, cmap=\"gray\")\n",
    "\"\"\""
   ]
  },
  {
   "cell_type": "code",
   "execution_count": null,
   "metadata": {
    "collapsed": false
   },
   "outputs": [],
   "source": [
    "%matplotlib inline\n",
    "import matplotlib.pyplot as plt\n",
    "data.load()\n",
    "X = data.X\n",
    "#X = np.random.uniform(size=data.X.shape).astype(np.float32)\n",
    "X = capsule.preprocess(X)\n",
    "X_rec = X\n",
    "\n",
    "print(X_rec.shape)\n",
    "img = tile_raster_images(X_rec[:, 0], (64, 64), (10, 10))\n",
    "fig = plt.figure(figsize=(10, 10))\n",
    "plt.axis('off')\n",
    "plt.imshow(img, cmap=\"gray\")"
   ]
  },
  {
   "cell_type": "code",
   "execution_count": null,
   "metadata": {
    "collapsed": false
   },
   "outputs": [],
   "source": [
    "#X_rec = np.zeros(X_rec.shape).astype(np.float32)\n",
    "X_rec = X.copy()"
   ]
  },
  {
   "cell_type": "code",
   "execution_count": null,
   "metadata": {
    "collapsed": false
   },
   "outputs": [],
   "source": [
    "for i in range(10):\n",
    "    a, b, c = g(X_rec)\n",
    "    \"\"\"\n",
    "    for k in range(X_rec.shape[0]):\n",
    "        A = np.random.randint(0, b.shape[2])\n",
    "        B = A + 5\n",
    "        C = np.random.randint(0, b.shape[2])\n",
    "        D = C + 5\n",
    "        idx = np.random.randint(b.shape[1])\n",
    "        b[k, idx, A:B, C:D] *= 4\n",
    "    \"\"\"\n",
    "    b*=4\n",
    "    X_rec = g_rec(a, b, c)"
   ]
  },
  {
   "cell_type": "code",
   "execution_count": null,
   "metadata": {
    "collapsed": false
   },
   "outputs": [],
   "source": [
    "print(X_rec.shape)\n",
    "score = ((X_rec - capsule.reconstruct(X_rec)) ** 2).sum(axis=(1, 2, 3))\n",
    "ind = np.argsort(score)\n",
    "X_rec = X_rec[ind]\n",
    "img = tile_raster_images(X_rec[:, 0], (64, 64), (10, 10))\n",
    "fig = plt.figure(figsize=(10, 10))\n",
    "plt.axis('off')\n",
    "plt.imshow(img, cmap=\"gray\")"
   ]
  },
  {
   "cell_type": "code",
   "execution_count": null,
   "metadata": {
    "collapsed": false
   },
   "outputs": [],
   "source": [
    "theano.function()"
   ]
  },
  {
   "cell_type": "code",
   "execution_count": null,
   "metadata": {
    "collapsed": false
   },
   "outputs": [],
   "source": [
    "\n",
    "#X_dt = capsule.preprocess(data.X)\n",
    "#X = np.random.uniform(size=X.shape).astype(np.float32)\n",
    "\n",
    "X = np.random.uniform(size=X.shape).astype(np.float32)\n",
    "#X = np.zeros(X.shape).astype(np.float32)\n",
    "#a, b, c = g(X_dt)\n",
    "#get_loss(X, a, b, c)\n",
    "\n",
    "for i in range(1000):\n",
    "    loss = get_recons_loss(X)\n",
    "    print(loss)\n",
    "    g = get_recons_grad(X)\n",
    "    X -= 0.9 * g/(np.sqrt((g**2).sum()))\n",
    "    if i % 10 == 0:\n",
    "        score = ((X - capsule.reconstruct(X)) ** 2).sum(axis=(1, 2, 3))\n",
    "        ind = np.argsort(score)\n",
    "        X = X[ind]\n",
    "        img = tile_raster_images(X[0:10, 0], (64, 64), (1, 10))\n",
    "        fig = plt.figure(figsize=(10, 10))\n",
    "        plt.axis('off')\n",
    "        plt.imshow(img, cmap=\"gray\")\n",
    "        plt.show()"
   ]
  },
  {
   "cell_type": "code",
   "execution_count": null,
   "metadata": {
    "collapsed": true
   },
   "outputs": [],
   "source": []
  }
 ],
 "metadata": {
  "kernelspec": {
   "display_name": "Python 2",
   "language": "python",
   "name": "python2"
  },
  "language_info": {
   "codemirror_mode": {
    "name": "ipython",
    "version": 2
   },
   "file_extension": ".py",
   "mimetype": "text/x-python",
   "name": "python",
   "nbconvert_exporter": "python",
   "pygments_lexer": "ipython2",
   "version": "2.7.11"
  }
 },
 "nbformat": 4,
 "nbformat_minor": 0
}
