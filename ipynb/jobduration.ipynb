{
 "cells": [
  {
   "cell_type": "code",
   "execution_count": 1,
   "metadata": {
    "collapsed": true
   },
   "outputs": [],
   "source": [
    "from lightjob.db import DB, SUCCESS, RUNNING\n",
    "import pandas as pd"
   ]
  },
  {
   "cell_type": "code",
   "execution_count": 2,
   "metadata": {
    "collapsed": true
   },
   "outputs": [],
   "source": [
    "filename = '../.lightjob'"
   ]
  },
  {
   "cell_type": "code",
   "execution_count": 3,
   "metadata": {
    "collapsed": false
   },
   "outputs": [],
   "source": [
    "db = DB()\n",
    "db.load(filename)"
   ]
  },
  {
   "cell_type": "code",
   "execution_count": 41,
   "metadata": {
    "collapsed": true
   },
   "outputs": [],
   "source": [
    "where = 'jobset21'"
   ]
  },
  {
   "cell_type": "code",
   "execution_count": 42,
   "metadata": {
    "collapsed": false,
    "scrolled": true
   },
   "outputs": [
    {
     "name": "stdout",
     "output_type": "stream",
     "text": [
      "5c3e70f85cb6b8c26dbd3c71bd9cdc47\n",
      "Tue May 24 13:14:58 2016-Tue May 24 19:15:27 2016time spent on job : 0 days 06:00:29\n",
      "94ce51de558365befb011edd8ff060d3\n",
      "Tue May 24 13:22:17 2016-Tue May 24 19:22:51 2016time spent on job : 0 days 06:00:34\n",
      "e97a55b0df2d72149fd6d5194d07d1fc\n",
      "Tue May 24 13:22:48 2016-Tue May 24 19:23:15 2016time spent on job : 0 days 06:00:27\n",
      "25171ff523a7b774419995106257f6ce\n",
      "Tue May 24 16:56:06 2016-Tue May 24 22:56:30 2016time spent on job : 0 days 06:00:24\n",
      "c3dad8f5932ddcf87d6b837ba363acce\n",
      "Tue May 24 14:03:48 2016-Tue May 24 20:04:22 2016time spent on job : 0 days 06:00:34\n",
      "3e9f4ed0fca22f9493248d401f7a536e\n",
      "Tue May 24 15:49:28 2016-Tue May 24 21:50:03 2016time spent on job : 0 days 06:00:35\n",
      "ee1672aab12dd660c2715b0e047849ca\n",
      "Tue May 24 14:04:58 2016-Tue May 24 20:05:33 2016time spent on job : 0 days 06:00:35\n",
      "fb28fd278dddfca16eea9f7e652c3ef0\n",
      "Tue May 24 14:05:04 2016-Tue May 24 20:05:35 2016time spent on job : 0 days 06:00:31\n",
      "e61425e5bbb932dc1df6dc5ce5722a39\n",
      "Tue May 24 14:04:44 2016-Tue May 24 20:05:07 2016time spent on job : 0 days 06:00:23\n",
      "1c294ca28681b61ff6998868675d66a1\n",
      "Tue May 24 14:04:50 2016-Tue May 24 20:05:10 2016time spent on job : 0 days 06:00:20\n",
      "a33d59da8a939e30848b9ffff85af16f\n",
      "Tue May 24 16:55:48 2016-Tue May 24 22:56:10 2016time spent on job : 0 days 06:00:22\n",
      "af5722d1d0664eb5205c32d86b27a0e0\n",
      "Tue May 24 16:57:18 2016-Tue May 24 22:57:38 2016time spent on job : 0 days 06:00:20\n",
      "64f0a469528724601059e54914fab3ee\n",
      "Tue May 24 17:53:28 2016-Tue May 24 23:53:56 2016time spent on job : 0 days 06:00:28\n",
      "94c96ee910cddf72634c66b9baa87876\n",
      "Tue May 24 17:53:57 2016-Tue May 24 23:54:42 2016time spent on job : 0 days 06:00:45\n",
      "705708c01405f64c63301346845e7ffa\n",
      "Tue May 24 14:04:20 2016-Tue May 24 20:07:06 2016time spent on job : 0 days 06:02:46\n",
      "c214fc5ceed98feb5f7866d1c1f9dc1c\n",
      "Tue May 24 15:40:33 2016-Tue May 24 21:40:54 2016time spent on job : 0 days 06:00:21\n",
      "560f42515657e77562e3a1068db83585\n",
      "Tue May 24 15:40:39 2016-Tue May 24 21:41:18 2016time spent on job : 0 days 06:00:39\n",
      "ae957aa781338c40271f33e272fe34a7\n",
      "Tue May 24 13:22:34 2016-Tue May 24 19:23:07 2016time spent on job : 0 days 06:00:33\n",
      "b10de6286d114a1bdf227368218a5a61\n",
      "Tue May 24 15:40:12 2016-Tue May 24 21:40:33 2016time spent on job : 0 days 06:00:21\n",
      "94e550afb9c994e830d2da840292a6ee\n",
      "Tue May 24 15:40:19 2016-Tue May 24 21:40:50 2016time spent on job : 0 days 06:00:31\n",
      "a4ec5dbbc216c3fa07a12cbde38063c1\n",
      "Tue May 24 15:39:55 2016-Tue May 24 21:40:40 2016time spent on job : 0 days 06:00:45\n",
      "b2bfea5b653cdd18dff368c0dab62909\n",
      "Tue May 24 15:49:38 2016-Tue May 24 21:53:34 2016time spent on job : 0 days 06:03:56\n",
      "6702f4c9c2edc2089643ccf03f312e35\n",
      "Tue May 24 16:05:30 2016-Tue May 24 22:05:58 2016time spent on job : 0 days 06:00:28\n",
      "58081fcc384c02b25ec8cfae46017c97\n",
      "Tue May 24 19:23:18 2016-Wed May 25 01:23:55 2016time spent on job : 0 days 06:00:37\n",
      "f7ff8e58791c0443b9a03c6c4608e887\n",
      "Tue May 24 16:55:53 2016-Tue May 24 22:56:18 2016time spent on job : 0 days 06:00:25\n",
      "2abec1553323f051bfd26c6afd108560\n",
      "Tue May 24 15:40:05 2016-Tue May 24 21:40:26 2016time spent on job : 0 days 06:00:21\n",
      "def1ee703844386b26377122c9a18574\n",
      "Tue May 24 17:53:47 2016-Tue May 24 23:54:17 2016time spent on job : 0 days 06:00:30\n",
      "f0d0cd35817b581f956d32268ed1b645\n",
      "Tue May 24 17:53:04 2016-Tue May 24 23:53:26 2016time spent on job : 0 days 06:00:22\n",
      "d18add5de56158ad975c96259ded9475\n",
      "Tue May 24 17:53:14 2016-Tue May 24 23:53:33 2016time spent on job : 0 days 06:00:19\n",
      "a3788aa31e7880339b95c62ca131beee\n",
      "Tue May 24 16:56:13 2016-Tue May 24 22:56:36 2016time spent on job : 0 days 06:00:23\n",
      "dcac0e1f1894892f6860af302da6a8e4\n",
      "Tue May 24 17:54:03 2016-Tue May 24 23:54:22 2016time spent on job : 0 days 06:00:19\n",
      "f7b863d5d56f789685af1a3dfd2af57b\n",
      "Tue May 24 14:04:36 2016-Tue May 24 20:04:55 2016time spent on job : 0 days 06:00:19\n",
      "7cd8ae509cae7fb6d1fb666d2698fcaf\n",
      "Tue May 24 17:53:51 2016-Tue May 24 23:54:10 2016time spent on job : 0 days 06:00:19\n",
      "b1fd6656b6fc81adbe63e3d51080e612\n",
      "Tue May 24 19:15:49 2016-Wed May 25 01:16:14 2016time spent on job : 0 days 06:00:25\n",
      "34\n"
     ]
    }
   ],
   "source": [
    "nb = 0\n",
    "for j in db.jobs_with(state=SUCCESS, where=where):\n",
    "    if 'life' not in j:\n",
    "        continue\n",
    "    for moment in j['life']:\n",
    "        if moment['state'] == RUNNING:\n",
    "            start = moment['dt']\n",
    "        if moment['state'] == SUCCESS:\n",
    "            end = moment['dt']\n",
    "    delta = pd.to_datetime(end) - pd.to_datetime(start)\n",
    "    print(j['summary'])\n",
    "    print('{}-{}time spent on job : {}'.format(start, end, delta))\n",
    "    nb += 1\n",
    "print(nb)"
   ]
  },
  {
   "cell_type": "code",
   "execution_count": null,
   "metadata": {
    "collapsed": true
   },
   "outputs": [],
   "source": []
  }
 ],
 "metadata": {
  "kernelspec": {
   "display_name": "Python 2",
   "language": "python",
   "name": "python2"
  },
  "language_info": {
   "codemirror_mode": {
    "name": "ipython",
    "version": 2
   },
   "file_extension": ".py",
   "mimetype": "text/x-python",
   "name": "python",
   "nbconvert_exporter": "python",
   "pygments_lexer": "ipython2",
   "version": "2.7.11"
  }
 },
 "nbformat": 4,
 "nbformat_minor": 0
}
