{
 "cells": [
  {
   "cell_type": "code",
   "execution_count": 24,
   "metadata": {
    "collapsed": true
   },
   "outputs": [],
   "source": [
    "import os\n",
    "import sys\n",
    "import numpy as np\n",
    "os.environ[\"THEANO_FLAGS\"] = \"device=cpu\"\n",
    "%matplotlib inline\n",
    "sys.path.append(os.getcwd()+\"/..\")\n",
    "from lightjob.cli import load_db\n",
    "from collections import Counter\n",
    "import glob\n",
    "db = load_db()"
   ]
  },
  {
   "cell_type": "code",
   "execution_count": 2,
   "metadata": {
    "collapsed": true
   },
   "outputs": [],
   "source": [
    "def hash_matrix_to_int(hm):\n",
    "    cnt = Counter(hm)\n",
    "    s = np.argsort(cnt.values())[::-1]\n",
    "    K = cnt.keys()\n",
    "    K = [K[s[i]] for i in range(len(K))]\n",
    "    K_to_int = {k: i + 1 for i, k in enumerate(K)}\n",
    "    x = [K_to_int[v] for v in hm]\n",
    "    x = np.array(x)\n",
    "    return x\n",
    "\n",
    "\n",
    "def unique_indices(hm):\n",
    "    K = {}\n",
    "    for i, h in enumerate(hm):\n",
    "        if h not in K:\n",
    "            K[h] = i\n",
    "    return K.values()\n",
    "\n",
    "def get_images(filenames):\n",
    "    from skimage.io import imread\n",
    "    for f in filenames:\n",
    "        im = imread(f)\n",
    "        im = 2 * (im / im.max()) - 1\n",
    "        assert set(im.flatten().tolist()) <= set([1, -1]), set(im.flatten().tolist())\n",
    "        yield im"
   ]
  },
  {
   "cell_type": "code",
   "execution_count": 14,
   "metadata": {
    "collapsed": false
   },
   "outputs": [
    {
     "name": "stdout",
     "output_type": "stream",
     "text": [
      "{u'model_summary': u'a5eedb043b15ceb54c0073580f47d05d', u'check': {u'what': u'simple_genetic', u'filename': u'jobs/results/a5eedb043b15ceb54c0073580f47d05d/model.pkl', u'params': {u'sort': True, u'op_names': [], u'op_params': [], u'initial': u'random', u'initial_size': 10000, u'up_binarize': 0.5, u'nb_iterations': 100, u'layer_name': u'input', u'tol': 0, u'reconstruct': True, u'down_binarize': None}, u'dataset': u'digits'}}\n"
     ]
    }
   ],
   "source": [
    "s = 'd6ada23433955628d3a893310d3287f5'\n",
    "job = db.get_job_by_summary(s)\n",
    "print(job['content'])\n",
    "job_folder = \"../jobs/results/{}\".format(s)\n",
    "hash_matrix_filename = os.path.join(job_folder, \"csv\", \"hashmatrix.npy\")\n",
    "hash_matrix = np.load(hash_matrix_filename)\n",
    "x = hash_matrix_to_int(hash_matrix)"
   ]
  },
  {
   "cell_type": "code",
   "execution_count": 5,
   "metadata": {
    "collapsed": false
   },
   "outputs": [],
   "source": [
    "filenames = glob.glob(os.path.join(job_folder, 'final', '*.png'))\n",
    "filenames = sorted(filenames)\n",
    "indices = unique_indices(hash_matrix)\n",
    "filenames = [filenames[ind] for ind in indices]"
   ]
  },
  {
   "cell_type": "code",
   "execution_count": 6,
   "metadata": {
    "collapsed": true
   },
   "outputs": [],
   "source": [
    "X = []\n",
    "for im in get_images(filenames):\n",
    "    X.append([im])\n",
    "X = np.concatenate(X, axis=0)\n",
    "X = X.reshape((X.shape[0], -1))"
   ]
  },
  {
   "cell_type": "code",
   "execution_count": 32,
   "metadata": {
    "collapsed": false
   },
   "outputs": [],
   "source": [
    "from sklearn.neighbors import KernelDensity\n",
    "from lasagnekit.datasets.mnist import MNIST\n",
    "data = MNIST()\n",
    "data.load()"
   ]
  },
  {
   "cell_type": "code",
   "execution_count": 34,
   "metadata": {
    "collapsed": false
   },
   "outputs": [
    {
     "data": {
      "text/plain": [
       "KernelDensity(algorithm='auto', atol=0, bandwidth=1.0, breadth_first=True,\n",
       "       kernel='gaussian', leaf_size=40, metric='euclidean',\n",
       "       metric_params=None, rtol=0)"
      ]
     },
     "execution_count": 34,
     "metadata": {},
     "output_type": "execute_result"
    }
   ],
   "source": [
    "k = KernelDensity()\n",
    "k.fit(data.X[0:10000])"
   ]
  },
  {
   "cell_type": "code",
   "execution_count": 15,
   "metadata": {
    "collapsed": false
   },
   "outputs": [
    {
     "name": "stderr",
     "output_type": "stream",
     "text": [
      "/home/mcherti/miniconda/envs/databoard-env/lib/python2.7/site-packages/matplotlib/__init__.py:1350: UserWarning:  This call to matplotlib.use() has no effect\n",
      "because the backend has already been chosen;\n",
      "matplotlib.use() must be called *before* pylab, matplotlib.pyplot,\n",
      "or matplotlib.backends is imported for the first time.\n",
      "\n",
      "  warnings.warn(_use_error_msg)\n",
      "/home/mcherti/work/code/scikit-learn/sklearn/cross_validation.py:42: DeprecationWarning: This module has been deprecated in favor of the model_selection module into which all the refactored classes and functions are moved. Also note that the interface of the new CV iterators are different from that of this module. This module will be removed in 0.19.\n",
      "  \"This module will be removed in 0.19.\", DeprecationWarning)\n"
     ]
    },
    {
     "name": "stdout",
     "output_type": "stream",
     "text": [
      "Couldn't import dot_parser, loading of dot files will not be possible.\n"
     ]
    }
   ],
   "source": [
    "from tasks import check"
   ]
  },
  {
   "cell_type": "code",
   "execution_count": 16,
   "metadata": {
    "collapsed": false
   },
   "outputs": [
    {
     "name": "stdout",
     "output_type": "stream",
     "text": [
      "Loading data...\n"
     ]
    },
    {
     "name": "stderr",
     "output_type": "stream",
     "text": [
      "INFO:tasks:Loading data...\n"
     ]
    },
    {
     "name": "stdout",
     "output_type": "stream",
     "text": [
      "Loading the model...\n"
     ]
    },
    {
     "name": "stderr",
     "output_type": "stream",
     "text": [
      "INFO:tasks:Loading the model...\n"
     ]
    },
    {
     "name": "stdout",
     "output_type": "stream",
     "text": [
      "(None, 1, 28, 28)\n",
      "Compiling the model...\n"
     ]
    },
    {
     "name": "stderr",
     "output_type": "stream",
     "text": [
      "INFO:tasks:Compiling the model...\n"
     ]
    },
    {
     "name": "stdout",
     "output_type": "stream",
     "text": [
      "{'seed': 2}\n"
     ]
    },
    {
     "name": "stderr",
     "output_type": "stream",
     "text": [
      "/home/mcherti/work/code/Lasagne/lasagne/layers/helper.py:212: UserWarning: get_output() was called with unused kwargs:\n",
      "\tdetermnistic (perhaps you meant deterministic)\n",
      "  % \"\\n\\t\".join(suggestions))\n"
     ]
    }
   ],
   "source": [
    "v = check(what=\"notebook\", \n",
    "          filename=\"../jobs/results/a5eedb043b15ceb54c0073580f47d05d/model.pkl\", \n",
    "          dataset=\"digits\")"
   ]
  },
  {
   "cell_type": "code",
   "execution_count": 17,
   "metadata": {
    "collapsed": true
   },
   "outputs": [],
   "source": [
    "capsule, data, layers, w, h, c = v"
   ]
  },
  {
   "cell_type": "code",
   "execution_count": 41,
   "metadata": {
    "collapsed": false
   },
   "outputs": [
    {
     "name": "stdout",
     "output_type": "stream",
     "text": [
      "-8040.45195817\n",
      "-7618.06155502\n",
      "-7591.74263772\n",
      "-7561.42360657\n",
      "-7558.63803406\n",
      "-7557.52804502\n",
      "-7551.94504721\n",
      "-7544.54841732\n",
      "-7552.49945918\n",
      "-7546.74012575\n",
      "-7551.43605774\n",
      "-7539.56187243\n",
      "-7547.75411703\n",
      "-7548.02280789\n",
      "-7541.78723805\n",
      "-7542.64694627\n",
      "-7541.41267117\n"
     ]
    }
   ],
   "source": [
    "import numpy as np\n",
    "np.random.seed(1234)\n",
    "s = np.random.uniform(size=(10, c, w,h))\n",
    "s = s.astype(np.float32)\n",
    "loss = []\n",
    "scores = []\n",
    "for i in range(100):\n",
    "    score = np.sum(k.score_samples(s.reshape((s.shape[0], -1))))\n",
    "    scores.append(score)\n",
    "    print(score)\n",
    "    sprev = s\n",
    "    s = capsule.reconstruct(s)\n",
    "    s = s > 0.5\n",
    "    s = s.astype(np.float32)\n",
    "    score = np.abs(s - sprev).sum()\n",
    "    loss.append(score)\n",
    "    if score == 0:\n",
    "        break\n",
    "    loss.append(score)"
   ]
  },
  {
   "cell_type": "code",
   "execution_count": 42,
   "metadata": {
    "collapsed": false
   },
   "outputs": [
    {
     "data": {
      "image/png": "[encoded data removed]",
      "text/plain": [
       "<matplotlib.figure.Figure at 0x7f7956e5a7d0>"
      ]
     },
     "metadata": {},
     "output_type": "display_data"
    },
    {
     "data": {
      "image/png": "[encoded data removed]",
      "text/plain": [
       "<matplotlib.figure.Figure at 0x7f7954d2c350>"
      ]
     },
     "metadata": {},
     "output_type": "display_data"
    },
    {
     "name": "stdout",
     "output_type": "stream",
     "text": [
      "('Nb of iterations', 33)\n"
     ]
    },
    {
     "data": {
      "image/png": "[encoded data removed]",
      "text/plain": [
       "<matplotlib.figure.Figure at 0x7f794e3b8310>"
      ]
     },
     "metadata": {},
     "output_type": "display_data"
    },
    {
     "name": "stdout",
     "output_type": "stream",
     "text": [
      "float32\n"
     ]
    },
    {
     "data": {
      "image/png": "[encoded data removed]",
      "text/plain": [
       "<matplotlib.figure.Figure at 0x7f79526184d0>"
      ]
     },
     "metadata": {},
     "output_type": "display_data"
    }
   ],
   "source": [
    "from lasagnekit.misc.plot_weights import dispims_color, tile_raster_images\n",
    "%matplotlib inline\n",
    "import matplotlib.pyplot as plt\n",
    "s = s.astype(np.float32)\n",
    "plt.plot(loss)\n",
    "plt.show()\n",
    "plt.plot(scores)\n",
    "plt.xlabel('iteration')\n",
    "plt.ylabel('log-likelihood')\n",
    "plt.show()\n",
    "print(\"Nb of iterations\", len(loss))\n",
    "sz = int(np.sqrt(s.shape[0]))\n",
    "fig = plt.figure(figsize=(10, 10))\n",
    "plt.xlabel('iteration')\n",
    "plt.ylabel('log-likelihood')\n",
    "plt.show()\n",
    "\n",
    "\n",
    "if s.shape[1] == 1:\n",
    "    print(s.dtype)\n",
    "    img = tile_raster_images(s[:, 0], (w, h), (sz, sz), tile_spacing=(2, 2), )\n",
    "    plt.imshow(img, cmap=\"gray\", interpolation='none')\n",
    "    plt.axis('off')\n",
    "    plt.show()\n",
    "else:\n",
    "    ss = s.transpose((0, 2, 3, 1))\n",
    "    print(s.shape)\n",
    "    img = dispims_color(ss)\n",
    "    plt.imshow(img)\n",
    "    plt.axis('off')\n",
    "    plt.show()"
   ]
  }
 ],
 "metadata": {
  "kernelspec": {
   "display_name": "Python 2",
   "language": "python",
   "name": "python2"
  },
  "language_info": {
   "codemirror_mode": {
    "name": "ipython",
    "version": 2
   },
   "file_extension": ".py",
   "mimetype": "text/x-python",
   "name": "python",
   "nbconvert_exporter": "python",
   "pygments_lexer": "ipython2",
   "version": "2.7.11"
  }
 },
 "nbformat": 4,
 "nbformat_minor": 0
}
