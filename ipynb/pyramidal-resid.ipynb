{
 "cells": [
  {
   "cell_type": "code",
   "execution_count": 1,
   "metadata": {
    "collapsed": false
   },
   "outputs": [
    {
     "name": "stderr",
     "output_type": "stream",
     "text": [
      "Using gpu device 0: Tesla K20Xm (CNMeM is disabled, CuDNN 3007)\n",
      "/home/mcherti/work/code/scikit-learn/sklearn/cross_validation.py:42: DeprecationWarning: This module has been deprecated in favor of the model_selection module into which all the refactored classes and functions are moved. Also note that the interface of the new CV iterators are different from that of this module. This module will be removed in 0.19.\n",
      "  \"This module will be removed in 0.19.\", DeprecationWarning)\n"
     ]
    },
    {
     "name": "stdout",
     "output_type": "stream",
     "text": [
      "Couldn't import dot_parser, loading of dot files will not be possible.\n"
     ]
    }
   ],
   "source": [
    "import os\n",
    "import sys\n",
    "os.environ[\"THEANO_FLAGS\"] = \"device=gpu\"\n",
    "sys.path.append(os.getcwd()+\"/..\")\n",
    "from tasks import check"
   ]
  },
  {
   "cell_type": "code",
   "execution_count": null,
   "metadata": {
    "collapsed": false
   },
   "outputs": [],
   "source": [
    "from model import model50, model51, model51, model52"
   ]
  },
  {
   "cell_type": "code",
   "execution_count": null,
   "metadata": {
    "collapsed": false
   },
   "outputs": [],
   "source": [
    "all_layers = model52(nb_filters=128, w=32, h=32, c=3)"
   ]
  },
  {
   "cell_type": "code",
   "execution_count": null,
   "metadata": {
    "collapsed": false
   },
   "outputs": [],
   "source": [
    "import theano.tensor as T\n",
    "import theano\n",
    "from lasagne import layers\n",
    "\n",
    "X_scale1 = T.tensor4()\n",
    "X_scale2 = T.tensor4()\n",
    "X_scale3 = T.tensor4()\n",
    "X_scale4 = T.tensor4()\n",
    "\n",
    "X_scale1_out = T.tensor4()\n",
    "X_scale2_out = T.tensor4()\n",
    "X_scale3_out = T.tensor4()\n",
    "X_scale4_out = T.tensor4()\n",
    "\n",
    "\n",
    "input_tensors = [X_scale1, X_scale2, X_scale3, X_scale4]\n",
    "output_tensors = [X_scale1_out, X_scale2_out, X_scale3_out, X_scale4_out]\n",
    "\n",
    "input_layers = [\"scale1_input\", \"scale2_input\", \"scale3_input\", \"scale4_input\"]\n",
    "output_layers = [\"scale1_output\", \"scale2_output\", \"scale3_output\", \"scale4_output\"]\n",
    "\n",
    "inputs = {all_layers[l]: t for t, l in zip(input_tensors, input_layers)}\n",
    "outputs = map(lambda name:all_layers[name], output_layers)\n",
    "\n",
    "output_pred_tensors = layers.get_output(outputs, inputs)\n",
    "lambdas = [1, 1, 1, 1]\n",
    "loss = 0\n",
    "for outp, outp_pred, lambda_ in zip(output_tensors, output_pred_tensors, lambdas):\n",
    "    loss += ((outp_pred - outp) ** 2).mean() * lambda_"
   ]
  },
  {
   "cell_type": "code",
   "execution_count": null,
   "metadata": {
    "collapsed": false
   },
   "outputs": [],
   "source": [
    "from lasagne import updates\n",
    "import numpy as np\n",
    "params = layers.get_all_params(all_layers.values(), trainable=True)\n",
    "print(\"Number of params : {}\".format(layers.count_params(all_layers.values(), trainable=True))) \n",
    "lr = theano.shared(np.array(0.1, dtype=theano.config.floatX))\n",
    "params_updates = updates.adam(loss, params, learning_rate=lr)"
   ]
  },
  {
   "cell_type": "code",
   "execution_count": null,
   "metadata": {
    "collapsed": false
   },
   "outputs": [],
   "source": [
    "from lasagnekit.misc.draw_net import draw_to_file\n",
    "from IPython.display import SVG\n",
    "draw_to_file(layers.get_all_layers(all_layers['scale1_output']), 'out.svg')\n",
    "SVG('out.svg')"
   ]
  },
  {
   "cell_type": "code",
   "execution_count": null,
   "metadata": {
    "collapsed": false
   },
   "outputs": [],
   "source": [
    "train_fn = theano.function(input_tensors + output_tensors, loss, updates=params_updates, on_unused_input='warn')"
   ]
  },
  {
   "cell_type": "code",
   "execution_count": null,
   "metadata": {
    "collapsed": false
   },
   "outputs": [],
   "source": [
    "predict_fn = theano.function(input_tensors, output_pred_tensors, on_unused_input='warn')"
   ]
  },
  {
   "cell_type": "code",
   "execution_count": null,
   "metadata": {
    "collapsed": false
   },
   "outputs": [],
   "source": [
    "from data import load_data\n",
    "from lasagnekit.datasets.rescaled import Rescaled\n",
    "from lasagnekit.easy import iterate_minibatches\n",
    "from lasagnekit.datasets.imagecollection import ImageCollection\n",
    "from lasagnekit.datasets.transformed import Transformed\n",
    "w, h = 32, 32\n",
    "scale = {1: 32, 2: 16, 3: 8, 4: 4}\n",
    "batch_size = 128\n",
    "\n",
    "c = 3\n",
    "folder = \"{}/icons\".format(os.getenv(\"DATA_PATH\"))\n",
    "data_scale1 = ImageCollection(size=(w, h), nb=1535, mode='all', folder=folder)\n",
    "data_scale2 = Rescaled(data_scale1, (16, 16))\n",
    "data_scale3 = Rescaled(data_scale2, (8, 8))\n",
    "data_scale4 = Rescaled(data_scale3, (4, 4))\n",
    "\n",
    "data_scale2_up = Rescaled(data_scale2, (32, 32))\n",
    "data_scale3_up = Rescaled(data_scale3, (16, 16))\n",
    "data_scale4_up = Rescaled(data_scale4, (8, 8))\n",
    "\n",
    "def preprocess(x, s=32):\n",
    "    x = x.reshape((x.shape[0], s, s, c))\n",
    "    x = x.transpose((0, 3, 1, 2))\n",
    "    return x\n",
    "data_scale4.load()\n",
    "\n",
    "data_scale2_up.load()\n",
    "data_scale3_up.load()\n",
    "data_scale4_up.load()"
   ]
  },
  {
   "cell_type": "code",
   "execution_count": null,
   "metadata": {
    "collapsed": false
   },
   "outputs": [],
   "source": [
    "lr.set_value(0.01)\n",
    "loss_list = []\n",
    "for i in range(10000):\n",
    "    \n",
    "    \n",
    "    X_scale1_out = preprocess(data_scale1.X, s=scale[1])\n",
    "    X_scale2_out = preprocess(data_scale2.X, s=scale[2])\n",
    "    X_scale3_out = preprocess(data_scale3.X, s=scale[3])\n",
    "    X_scale4_out = preprocess(data_scale4.X, s=scale[4])   \n",
    "    \n",
    "    X_scale1 = preprocess(data_scale2_up.X, s=scale[1]) \n",
    "    X_scale2 = preprocess(data_scale3_up.X, s=scale[2]) \n",
    "    X_scale3 = preprocess(data_scale4_up.X, s=scale[3]) \n",
    "    X_scale4 = X_scale4_out\n",
    "    \n",
    "    total_loss = 0.\n",
    "    for mini_batch in iterate_minibatches(len(data_scale1.X), batch_size):\n",
    "        loss_val = train_fn(X_scale1[mini_batch], \n",
    "                            X_scale2[mini_batch], \n",
    "                            X_scale3[mini_batch], \n",
    "                            X_scale4[mini_batch],\n",
    "                            X_scale1_out[mini_batch], \n",
    "                            X_scale2_out[mini_batch], \n",
    "                            X_scale3_out[mini_batch], \n",
    "                            X_scale4_out[mini_batch])\n",
    "        total_loss += loss_val\n",
    "    print(total_loss)\n",
    "    loss_list.append(total_loss)\n",
    "plt.plot(loss_list)"
   ]
  },
  {
   "cell_type": "code",
   "execution_count": null,
   "metadata": {
    "collapsed": false
   },
   "outputs": [],
   "source": [
    "out1, out2, out3, out4 = predict_fn(X_scale1, X_scale2, X_scale3, X_scale4)"
   ]
  },
  {
   "cell_type": "code",
   "execution_count": null,
   "metadata": {
    "collapsed": false
   },
   "outputs": [],
   "source": [
    "%matplotlib inline\n",
    "import matplotlib.pyplot as plt\n",
    "from lasagnekit.misc.plot_weights import dispims_color\n",
    "fig = plt.figure(figsize=(10, 10))\n",
    "img = dispims_color(out1[0:100].transpose((0, 2, 3, 1)),border=1)\n",
    "plt.imshow(img, interpolation='none')"
   ]
  },
  {
   "cell_type": "code",
   "execution_count": null,
   "metadata": {
    "collapsed": false
   },
   "outputs": [],
   "source": [
    "ss1 = np.random.uniform(size=(100, c, 32, 32))\n",
    "ss2 = np.random.uniform(size=(100, c, 16, 16))\n",
    "ss3 = np.random.uniform(size=(100, c, 8, 8))\n",
    "ss4 = np.random.uniform(size=(100, c, 4, 4))\n",
    "\n",
    "ss1 = ss1.astype(np.float32)\n",
    "ss2 = ss2.astype(np.float32)\n",
    "ss3 = ss3.astype(np.float32)\n",
    "ss4 = ss4.astype(np.float32)\n",
    "\n",
    "\n",
    "for i in range(100):\n",
    "    ss1, ss2, ss3, ss4 = predict_fn(ss1, ss2, ss3, ss4)\n",
    "    \n",
    "%matplotlib inline\n",
    "import matplotlib.pyplot as plt\n",
    "from lasagnekit.misc.plot_weights import dispims_color\n",
    "fig = plt.figure(figsize=(10, 10))\n",
    "img = dispims_color(ss1[0:100].transpose((0, 2, 3, 1)),border=1)\n",
    "plt.axis('off')\n",
    "plt.imshow(img, interpolation='none')"
   ]
  },
  {
   "cell_type": "code",
   "execution_count": null,
   "metadata": {
    "collapsed": true
   },
   "outputs": [],
   "source": []
  }
 ],
 "metadata": {
  "kernelspec": {
   "display_name": "Python 2",
   "language": "python",
   "name": "python2"
  },
  "language_info": {
   "codemirror_mode": {
    "name": "ipython",
    "version": 2
   },
   "file_extension": ".py",
   "mimetype": "text/x-python",
   "name": "python",
   "nbconvert_exporter": "python",
   "pygments_lexer": "ipython2",
   "version": "2.7.11"
  }
 },
 "nbformat": 4,
 "nbformat_minor": 0
}
