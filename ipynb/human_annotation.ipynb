{
 "cells": [
  {
   "cell_type": "code",
   "execution_count": 1,
   "metadata": {
    "collapsed": false
   },
   "outputs": [
    {
     "name": "stderr",
     "output_type": "stream",
     "text": [
      "/home/mcherti/miniconda/envs/databoard-env/lib/python2.7/site-packages/matplotlib/__init__.py:878: UserWarning: axes.color_cycle is deprecated and replaced with axes.prop_cycle; please use the latter.\n",
      "  warnings.warn(self.msg_depr % (key, alt_key))\n"
     ]
    }
   ],
   "source": [
    "%matplotlib inline\n",
    "import pandas as pd\n",
    "import numpy as np\n",
    "import os\n",
    "from collections import defaultdict\n",
    "from itertools import chain\n",
    "import seaborn as sns\n",
    "from tabulate import tabulate"
   ]
  },
  {
   "cell_type": "code",
   "execution_count": 43,
   "metadata": {
    "collapsed": false
   },
   "outputs": [
    {
     "name": "stdout",
     "output_type": "stream",
     "text": [
      "13\n",
      "36\n"
     ]
    }
   ],
   "source": [
    "df = pd.read_csv('export_data.csv')\n",
    "df = df.sort_values(by='datetime')\n",
    "df = df[df['user']=='balazs']\n",
    "urls = df['url'].values\n",
    "def rename(m):\n",
    "    m = m.replace('letterness|diversity_', '')\n",
    "    return m\n",
    "df['model'] = df['url'].apply(lambda u:u.split('/')[3])\n",
    "df['metric'] = df['url'].apply(lambda u:rename(u.split('/')[4]))\n",
    "df['image'] = df['url'].apply(lambda u:u.split('/')[5])\n",
    "\n",
    "def f(l):\n",
    "    if l=='good_letters' or l=='acceptable_letters':\n",
    "        return 'letters'\n",
    "    elif l == 'bad_letters':\n",
    "        return 'bad'\n",
    "    return l\n",
    "df['label'] = df['label'].apply(f)\n",
    "df = df.drop_duplicates(subset=['image'], keep='first')\n",
    "#print(len(df))\n",
    "#print(len(pd.unique(df['image'])))\n",
    "\n",
    "L = 1\n",
    "m = ((df['model']=='gan')  & (df['label']=='letters')).sum() / L\n",
    "print(m)\n",
    "print((df['label']=='letters').sum())"
   ]
  },
  {
   "cell_type": "code",
   "execution_count": 19,
   "metadata": {
    "collapsed": false
   },
   "outputs": [
    {
     "data": {
      "text/plain": [
       "90"
      ]
     },
     "execution_count": 19,
     "metadata": {},
     "output_type": "execute_result"
    }
   ],
   "source": [
    "len(pd.unique((df['image'])))"
   ]
  },
  {
   "cell_type": "code",
   "execution_count": 20,
   "metadata": {
    "collapsed": false
   },
   "outputs": [
    {
     "name": "stdout",
     "output_type": "stream",
     "text": [
      "(array(['digits', 'letters', 'bad'], dtype=object), array(['parzen_letters', 'count_letters_99', 'count_letters_85',\n",
      "       'letter_objectness', 'count_letters_98', 'max_letters',\n",
      "       'count_letters_95', 'count_letters_999', 'parzen_digits'], dtype=object))\n"
     ]
    }
   ],
   "source": [
    "labels = df['label'].unique()\n",
    "metrics = df['metric'].unique()\n",
    "print(labels, metrics)\n",
    "table = [['' for _ in range(len(labels))] for _ in range(len(metrics))]\n",
    "for i, m in enumerate(metrics):\n",
    "    for j, l in enumerate(labels):\n",
    "        table[i][j] = ((df['label'] == l) & (df['metric'] == m)).sum()"
   ]
  },
  {
   "cell_type": "code",
   "execution_count": 21,
   "metadata": {
    "collapsed": false,
    "scrolled": true
   },
   "outputs": [
    {
     "name": "stdout",
     "output_type": "stream",
     "text": [
      "171\n",
      "\\begin{tabular}{lrrr}\n",
      "\\hline\n",
      "                   &   letters &   digits &   bad \\\\\n",
      "\\hline\n",
      " parzen\\_letters    &         4 &       14 &     3 \\\\\n",
      " count\\_letters\\_99  &        12 &        0 &     8 \\\\\n",
      " count\\_letters\\_85  &        10 &        0 &    10 \\\\\n",
      " letter\\_objectness &         9 &       10 &     1 \\\\\n",
      " count\\_letters\\_98  &        11 &        0 &     9 \\\\\n",
      " max\\_letters       &        15 &        0 &     5 \\\\\n",
      " count\\_letters\\_95  &        13 &        0 &     7 \\\\\n",
      " count\\_letters\\_999 &        13 &        0 &     7 \\\\\n",
      " parzen\\_digits     &         0 &       10 &     0 \\\\\n",
      "\\hline\n",
      "\\end{tabular}\n"
     ]
    }
   ],
   "source": [
    "print(np.array(table).sum())\n",
    "d = pd.DataFrame(table)\n",
    "d.index = metrics\n",
    "#d.columns = ['good_letters', 'acceptable_letters',  'bad_letters', 'digits', 'bad'  ]\n",
    "d.columns = labels\n",
    "#d = d[['good_letters', 'acceptable_letters',  'bad_letters', 'digits', 'bad'  ]]\n",
    "d = d[['letters', 'digits', 'bad']]\n",
    "\n",
    "#d.columns = ['gl', 'al', 'bl', 'd', 'bs']\n",
    "print(tabulate(d, tablefmt='latex', headers='keys'))"
   ]
  },
  {
   "cell_type": "code",
   "execution_count": 22,
   "metadata": {
    "collapsed": false
   },
   "outputs": [
    {
     "data": {
      "text/html": [
       "<div>\n",
       "<table border=\"1\" class=\"dataframe\">\n",
       "  <thead>\n",
       "    <tr style=\"text-align: right;\">\n",
       "      <th></th>\n",
       "      <th>letters</th>\n",
       "      <th>digits</th>\n",
       "      <th>bad</th>\n",
       "    </tr>\n",
       "  </thead>\n",
       "  <tbody>\n",
       "    <tr>\n",
       "      <th>parzen_letters</th>\n",
       "      <td>4</td>\n",
       "      <td>14</td>\n",
       "      <td>3</td>\n",
       "    </tr>\n",
       "    <tr>\n",
       "      <th>count_letters_99</th>\n",
       "      <td>12</td>\n",
       "      <td>0</td>\n",
       "      <td>8</td>\n",
       "    </tr>\n",
       "    <tr>\n",
       "      <th>count_letters_85</th>\n",
       "      <td>10</td>\n",
       "      <td>0</td>\n",
       "      <td>10</td>\n",
       "    </tr>\n",
       "    <tr>\n",
       "      <th>letter_objectness</th>\n",
       "      <td>9</td>\n",
       "      <td>10</td>\n",
       "      <td>1</td>\n",
       "    </tr>\n",
       "    <tr>\n",
       "      <th>count_letters_98</th>\n",
       "      <td>11</td>\n",
       "      <td>0</td>\n",
       "      <td>9</td>\n",
       "    </tr>\n",
       "    <tr>\n",
       "      <th>max_letters</th>\n",
       "      <td>15</td>\n",
       "      <td>0</td>\n",
       "      <td>5</td>\n",
       "    </tr>\n",
       "    <tr>\n",
       "      <th>count_letters_95</th>\n",
       "      <td>13</td>\n",
       "      <td>0</td>\n",
       "      <td>7</td>\n",
       "    </tr>\n",
       "    <tr>\n",
       "      <th>count_letters_999</th>\n",
       "      <td>13</td>\n",
       "      <td>0</td>\n",
       "      <td>7</td>\n",
       "    </tr>\n",
       "    <tr>\n",
       "      <th>parzen_digits</th>\n",
       "      <td>0</td>\n",
       "      <td>10</td>\n",
       "      <td>0</td>\n",
       "    </tr>\n",
       "  </tbody>\n",
       "</table>\n",
       "</div>"
      ],
      "text/plain": [
       "                   letters  digits  bad\n",
       "parzen_letters           4      14    3\n",
       "count_letters_99        12       0    8\n",
       "count_letters_85        10       0   10\n",
       "letter_objectness        9      10    1\n",
       "count_letters_98        11       0    9\n",
       "max_letters             15       0    5\n",
       "count_letters_95        13       0    7\n",
       "count_letters_999       13       0    7\n",
       "parzen_digits            0      10    0"
      ]
     },
     "execution_count": 22,
     "metadata": {},
     "output_type": "execute_result"
    }
   ],
   "source": [
    "d"
   ]
  },
  {
   "cell_type": "code",
   "execution_count": 28,
   "metadata": {
    "collapsed": false
   },
   "outputs": [
    {
     "data": {
      "text/plain": [
       "124     True\n",
       "125     True\n",
       "126    False\n",
       "127    False\n",
       "128     True\n",
       "129    False\n",
       "130     True\n",
       "134    False\n",
       "135    False\n",
       "139     True\n",
       "140     True\n",
       "141     True\n",
       "142     True\n",
       "143     True\n",
       "144    False\n",
       "145     True\n",
       "147    False\n",
       "148    False\n",
       "149     True\n",
       "150    False\n",
       "151    False\n",
       "152     True\n",
       "154    False\n",
       "155     True\n",
       "156     True\n",
       "157     True\n",
       "158     True\n",
       "159     True\n",
       "160     True\n",
       "161    False\n",
       "       ...  \n",
       "289     True\n",
       "290    False\n",
       "291     True\n",
       "292     True\n",
       "293     True\n",
       "294    False\n",
       "295    False\n",
       "296     True\n",
       "297    False\n",
       "298     True\n",
       "299    False\n",
       "300     True\n",
       "301    False\n",
       "302     True\n",
       "303     True\n",
       "304     True\n",
       "305     True\n",
       "306    False\n",
       "307    False\n",
       "308     True\n",
       "309    False\n",
       "310    False\n",
       "311     True\n",
       "312     True\n",
       "313    False\n",
       "314     True\n",
       "315     True\n",
       "316    False\n",
       "317    False\n",
       "318     True\n",
       "Name: model, dtype: bool"
      ]
     },
     "execution_count": 28,
     "metadata": {},
     "output_type": "execute_result"
    }
   ],
   "source": []
  }
 ],
 "metadata": {
  "kernelspec": {
   "display_name": "Python 2",
   "language": "python",
   "name": "python2"
  },
  "language_info": {
   "codemirror_mode": {
    "name": "ipython",
    "version": 2
   },
   "file_extension": ".py",
   "mimetype": "text/x-python",
   "name": "python",
   "nbconvert_exporter": "python",
   "pygments_lexer": "ipython2",
   "version": "2.7.12"
  }
 },
 "nbformat": 4,
 "nbformat_minor": 0
}
