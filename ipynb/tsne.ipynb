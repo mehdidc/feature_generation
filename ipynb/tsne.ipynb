{
 "cells": [
  {
   "cell_type": "code",
   "execution_count": 1,
   "metadata": {
    "collapsed": true
   },
   "outputs": [],
   "source": [
    "from sklearn.manifold import TSNE"
   ]
  },
  {
   "cell_type": "code",
   "execution_count": 2,
   "metadata": {
    "collapsed": true
   },
   "outputs": [],
   "source": [
    "filename = \"answers/what_should_be_val/expconv3_10/repr_conv3.pkl\""
   ]
  },
  {
   "cell_type": "code",
   "execution_count": 6,
   "metadata": {
    "collapsed": true
   },
   "outputs": [],
   "source": [
    "import numpy as np\n",
    "r = np.load(filename)\n",
    "feat = r['feat']"
   ]
  },
  {
   "cell_type": "code",
   "execution_count": 19,
   "metadata": {
    "collapsed": false
   },
   "outputs": [
    {
     "name": "stdout",
     "output_type": "stream",
     "text": [
      "[t-SNE] Computing pairwise distances...\n",
      "[t-SNE] Computing 1 nearest neighbors...\n",
      "[t-SNE] Computed conditional probabilities for sample 40 / 40\n",
      "[t-SNE] Mean sigma: 0.000003\n",
      "[t-SNE] Error after 100 iterations with early exaggeration: 1.846008\n",
      "[t-SNE] Error after 375 iterations: 1.738016\n"
     ]
    },
    {
     "data": {
      "image/png": "[encoded data removed]",
      "text/plain": [
       "<matplotlib.figure.Figure at 0x7ff426a92410>"
      ]
     },
     "metadata": {},
     "output_type": "display_data"
    }
   ],
   "source": [
    "%matplotlib inline\n",
    "import matplotlib.pyplot as plt\n",
    "d=TSNE(perplexity=0.1, verbose=1).fit_transform(feat.reshape((feat.shape[0], -1)))\n",
    "plt.scatter(d[:, 0], d[:, 1])\n",
    "plt.show()"
   ]
  },
  {
   "cell_type": "code",
   "execution_count": 20,
   "metadata": {
    "collapsed": false
   },
   "outputs": [
    {
     "name": "stdout",
     "output_type": "stream",
     "text": [
      "[[ -60.53428051  378.94881471]\n",
      " [ 185.31964409  -80.56925475]\n",
      " [ 213.25794008   11.12381723]\n",
      " [ -11.72980882  237.89906012]\n",
      " [-118.13876295  300.59206335]\n",
      " [  69.49657034  303.8297992 ]\n",
      " [-105.26400394  232.78015245]\n",
      " [ 132.28381106  358.51522246]\n",
      " [-306.46644967  218.04424763]\n",
      " [ 277.00973516  166.01726009]\n",
      " [ 212.11364071 -152.76908765]\n",
      " [-102.22996061  -44.33898799]\n",
      " [-159.78769908  152.63334423]\n",
      " [  37.56910257 -398.03832605]\n",
      " [-315.453167    -50.89960608]\n",
      " [ 416.33128264  521.11424656]\n",
      " [-339.54978665  142.485381  ]\n",
      " [-271.09938488 -218.21584791]\n",
      " [ 126.64164757 -365.12798815]\n",
      " [-330.76417911 -237.00740872]\n",
      " [  44.07529565  132.33747932]\n",
      " [-295.01348342  126.34689679]\n",
      " [ 274.55678951  244.3931294 ]\n",
      " [-259.54537497 -175.04961457]\n",
      " [ 287.46309925   42.19094128]\n",
      " [ -54.03447387 -211.93015735]\n",
      " [  47.27525568 -139.21982624]\n",
      " [ 229.49929475  171.80958002]\n",
      " [ 100.16174869 -325.63937507]\n",
      " [  35.19646975  -41.36506817]\n",
      " [ -21.56312797   99.5294264 ]\n",
      " [ 121.80023528   63.0986648 ]\n",
      " [ -81.5634517   193.29191286]\n",
      " [  48.41140878   41.89497219]\n",
      " [-372.06124556 -491.12004119]\n",
      " [ -21.49328018   26.97392333]\n",
      " [ 109.18761337  -39.36636408]\n",
      " [-104.30149316 -130.69808416]\n",
      " [  -4.44640609 -109.95472886]\n",
      " [ -34.01488279  340.79342644]]\n"
     ]
    }
   ],
   "source": [
    "print(d)"
   ]
  }
 ],
 "metadata": {
  "kernelspec": {
   "display_name": "Python 2",
   "language": "python",
   "name": "python2"
  },
  "language_info": {
   "codemirror_mode": {
    "name": "ipython",
    "version": 2
   },
   "file_extension": ".py",
   "mimetype": "text/x-python",
   "name": "python",
   "nbconvert_exporter": "python",
   "pygments_lexer": "ipython2",
   "version": "2.7.11"
  }
 },
 "nbformat": 4,
 "nbformat_minor": 0
}
