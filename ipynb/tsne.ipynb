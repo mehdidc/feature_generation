{
 "cells": [
  {
   "cell_type": "code",
   "execution_count": 1,
   "metadata": {
    "collapsed": false
   },
   "outputs": [],
   "source": [
    "import matplotlib as mpl\n",
    "mpl.use('Agg')\n",
    "%matplotlib inline\n",
    "import sys\n",
    "import numpy as  np\n",
    "import os\n",
    "import matplotlib.pyplot as plt\n",
    "import pandas as pd\n",
    "from skimage.io import imread\n",
    "import json\n",
    "from lightjob.cli import load_db"
   ]
  },
  {
   "cell_type": "code",
   "execution_count": 2,
   "metadata": {
    "collapsed": true
   },
   "outputs": [],
   "source": [
    "db = load_db()"
   ]
  },
  {
   "cell_type": "code",
   "execution_count": null,
   "metadata": {
    "collapsed": false
   },
   "outputs": [],
   "source": [
    "J = db.jobs_with(state='success', type='generation')\n",
    "for j in J:\n",
    "    id_ = j['summary']\n",
    "    jref_s = j['content']['model_summary']\n",
    "    jref = db.get_job_by_summary(jref_s)\n",
    "    filename = '../jobs/results/{}/tsne_input.csv'.format(id_)\n",
    "    if not os.path.exists(filename):\n",
    "        continue\n",
    "    img_filename = '../jobs/results/{}/final1000.png'.format(id_)\n",
    "    if not os.path.exists(img_filename):\n",
    "        continue\n",
    "    img_content = imread(img_filename)\n",
    "    data = pd.read_csv(filename)\n",
    "    data = data.values\n",
    "    fig = plt.figure(figsize=(20, 8))\n",
    "    plt.subplot(1, 2, 1)\n",
    "    plt.scatter(data[:, 1], data[:, 2], marker='+')\n",
    "    plt.subplot(1, 2, 2)\n",
    "    plt.imshow(img_content, cmap='gray')\n",
    "    plt.title(id_+'/'+jref_s)\n",
    "    plt.savefig('../tsne/{}.png'.format(id_))\n",
    "    plt.close(fig)"
   ]
  }
 ],
 "metadata": {
  "kernelspec": {
   "display_name": "Python 2",
   "language": "python",
   "name": "python2"
  },
  "language_info": {
   "codemirror_mode": {
    "name": "ipython",
    "version": 2
   },
   "file_extension": ".py",
   "mimetype": "text/x-python",
   "name": "python",
   "nbconvert_exporter": "python",
   "pygments_lexer": "ipython2",
   "version": "2.7.11"
  }
 },
 "nbformat": 4,
 "nbformat_minor": 0
}
