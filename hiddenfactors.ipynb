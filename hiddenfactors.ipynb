{
 "cells": [
  {
   "cell_type": "code",
   "execution_count": null,
   "metadata": {
    "collapsed": false
   },
   "outputs": [],
   "source": [
    "import os\n",
    "os.environ[\"THEANO_FLAGS\"] = \"device=gpu\"\n",
    "from tasks import check"
   ]
  },
  {
   "cell_type": "code",
   "execution_count": null,
   "metadata": {
    "collapsed": false
   },
   "outputs": [],
   "source": [
    "v = check(what=\"notebook\", \n",
    "          filename=\"training/40mnist/model.pkl\", \n",
    "          dataset=\"digits\")"
   ]
  },
  {
   "cell_type": "code",
   "execution_count": null,
   "metadata": {
    "collapsed": false
   },
   "outputs": [],
   "source": [
    "capsule, data, layers, w, h, c = v\n",
    "print(w, h, c)\n",
    "print(layers.keys())\n",
    "#print(w, h, c)\n",
    "#print(data.X.min(), data.X.max())"
   ]
  },
  {
   "cell_type": "markdown",
   "metadata": {},
   "source": [
    "## Hidden factors"
   ]
  },
  {
   "cell_type": "code",
   "execution_count": null,
   "metadata": {
    "collapsed": false
   },
   "outputs": [],
   "source": [
    "%matplotlib inline\n",
    "from IPython.html.widgets import (interact, interactive, \n",
    "                                  IntSlider, FloatSlider,\n",
    "                                  Button\n",
    "                                  )\n",
    "from IPython.display import display # Used to display widgets in the notebook\n",
    "\n",
    "from IPython.html.widgets import *\n",
    "from IPython.html import widgets\n",
    "from lasagne import layers as L\n",
    "import theano\n",
    "import theano.tensor as T\n",
    "import numpy as np\n",
    "from collections import OrderedDict\n",
    "import matplotlib.pyplot as plt"
   ]
  },
  {
   "cell_type": "code",
   "execution_count": null,
   "metadata": {
    "collapsed": false
   },
   "outputs": [],
   "source": [
    "use_examples = True# init/work with examples for dataset or not\n",
    "nb = 1000 # nb of examples to consider in case use_examples is True\n",
    "max_nb_sliders = 5\n",
    "examples = data.X[0:nb]\n",
    "examples = examples.reshape((examples.shape[0], c, w, h))\n",
    "outputs = data.y[0:nb]\n",
    "nb_outputs = data.output_dim\n"
   ]
  },
  {
   "cell_type": "code",
   "execution_count": null,
   "metadata": {
    "collapsed": false
   },
   "outputs": [],
   "source": [
    "rec = capsule.reconstruct(examples)\n",
    "plt.imshow(rec[np.random.randint(0, rec.shape[0]), 0], cmap=\"gray\", interpolation='bilinear')"
   ]
  },
  {
   "cell_type": "code",
   "execution_count": null,
   "metadata": {
    "collapsed": false
   },
   "outputs": [],
   "source": [
    "factor_name =\"hidfactors\"\n",
    "x = T.tensor4()\n",
    "y = T.matrix()\n",
    "z = T.matrix()\n",
    "encode = theano.function([x], L.get_output(layers[factor_name], x))\n",
    "\n",
    "decode = theano.function([z, y], L.get_output(layers[\"output\"], {layers[factor_name]: z, layers[\"y\"]: y}))\n",
    "latent_size = layers[factor_name].output_shape[1]\n",
    "print(\"Latent size : {}\".format(latent_size))"
   ]
  },
  {
   "cell_type": "code",
   "execution_count": null,
   "metadata": {
    "collapsed": false
   },
   "outputs": [],
   "source": [
    "z = encode(examples)\n",
    "\n",
    "if z.shape[1] > max_nb_sliders:\n",
    "    params = np.random.choice(z.shape[1],\n",
    "                              size=10)\n",
    "else:\n",
    "    params = np.arange(z.shape[1])\n",
    "\n",
    "boundaries = OrderedDict()\n",
    "for p in (params):\n",
    "    boundaries[\"{0}\".format(p)] = FloatSlider(min=-1*z[:, p].std(),\n",
    "                                              max=1*z[:, p].std(),\n",
    "                                              step=0.01,\n",
    "                                              value=0.)\n",
    "d = 0\n",
    "l = outputs[d]\n",
    "\n",
    "def draw(**all_params):\n",
    "    if use_examples is True:\n",
    "        example = all_params[\"example\"]\n",
    "        del all_params[\"example\"]\n",
    "    label = all_params[\"label\"]\n",
    "    del all_params[\"label\"]\n",
    "    params = all_params\n",
    "    \n",
    "    if use_examples is True:\n",
    "        z = encode(examples[example:example + 1])\n",
    "    else:\n",
    "        z = np.zeros((1, latent_size), dtype=\"float32\")\n",
    "        z[0, :] = 0\n",
    "    \n",
    "    y_ = np.zeros(nb_outputs, dtype='float32')\n",
    "    y_[label] = 1.\n",
    "    y_ = y_[np.newaxis, :]\n",
    "        \n",
    "    for k, v in params.items():\n",
    "        z[0][int(k)] = v\n",
    "    plt.imshow(decode(z, y_)[0, 0], cmap=\"gray\", interpolation='bilinear')\n",
    "    \n",
    "\n",
    "p = dict()\n",
    "p.update(boundaries)\n",
    "\n",
    "label_selector = IntSlider(min=0,max=nb_outputs-1,step=1,value=l)\n",
    "p[\"label\"] = label_selector\n",
    "\n",
    "if use_examples is True:\n",
    "    example_selector = IntSlider(min=0,max=nb-1,step=1,value=d)\n",
    "    p[\"example\"] = example_selector\n",
    "\n",
    "i = interact(**p)\n",
    "\n",
    "\n",
    "\n",
    "def on_button_clicked(b):\n",
    "    \n",
    "    example = example_selector.get_state()[\"value\"]\n",
    "    z = encode(examples[example:example + 1])\n",
    "    for p in params:\n",
    "        w = boundaries[\"{0}\".format(p)]\n",
    "        state = w.get_state()\n",
    "        state[\"value\"] = z[0, int(p)]\n",
    "        w.set_state(state)\n",
    "        w.send_state(state)\n",
    "        \n",
    "    state = label_selector.get_state()\n",
    "    state[\"value\"] = outputs[example]\n",
    "    label_selector.set_state(state)\n",
    "    label_selector.send_state(state)\n",
    "    \n",
    "    \n",
    "draw_i = i(draw)\n",
    "\n",
    "if use_examples is True:\n",
    "    button = widgets.Button(description=\"fit!\")\n",
    "    display(button)\n",
    "    button.on_click(on_button_clicked)"
   ]
  },
  {
   "cell_type": "code",
   "execution_count": null,
   "metadata": {
    "collapsed": true
   },
   "outputs": [],
   "source": []
  },
  {
   "cell_type": "code",
   "execution_count": null,
   "metadata": {
    "collapsed": true
   },
   "outputs": [],
   "source": []
  }
 ],
 "metadata": {
  "kernelspec": {
   "display_name": "Python 2",
   "language": "python",
   "name": "python2"
  },
  "language_info": {
   "codemirror_mode": {
    "name": "ipython",
    "version": 2
   },
   "file_extension": ".py",
   "mimetype": "text/x-python",
   "name": "python",
   "nbconvert_exporter": "python",
   "pygments_lexer": "ipython2",
   "version": "2.7.11"
  }
 },
 "nbformat": 4,
 "nbformat_minor": 0
}
